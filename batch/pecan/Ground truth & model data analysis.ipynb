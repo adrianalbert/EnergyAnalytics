{
 "cells": [
  {
   "cell_type": "markdown",
   "metadata": {},
   "source": [
    "#Pecan model & ground truth data analysis"
   ]
  },
  {
   "cell_type": "markdown",
   "metadata": {},
   "source": [
    "Here we perform analysis on the model vs ground truth data for thermal and occupancy consumption. We contrast two models:\n",
    "* ground truth thermal response: a locally-weighted regression model using separately-monitored HVAC and temperature\n",
    "* the HMM thermal model"
   ]
  },
  {
   "cell_type": "markdown",
   "metadata": {},
   "source": [
    "##Initializations"
   ]
  },
  {
   "cell_type": "code",
   "execution_count": 106,
   "metadata": {
    "collapsed": true
   },
   "outputs": [],
   "source": [
    "rm(list = ls())"
   ]
  },
  {
   "cell_type": "code",
   "execution_count": 107,
   "metadata": {
    "collapsed": false
   },
   "outputs": [],
   "source": [
    "options(error = recover)\n",
    "library('segmented')\n",
    "library('lubridate')\n",
    "library('ggplot2')\n",
    "library(zoo)\n",
    "library('reshape2')\n",
    "library('PerformanceAnalytics')\n",
    "library('RColorBrewer')\n",
    "library('pracma')\n",
    "library('fields')"
   ]
  },
  {
   "cell_type": "code",
   "execution_count": 108,
   "metadata": {
    "collapsed": false
   },
   "outputs": [],
   "source": [
    "setwd(\"~/EnergyAnalytics/thermal_profiles/\")\n",
    "source(\"validator/drank.r\")"
   ]
  },
  {
   "cell_type": "code",
   "execution_count": 109,
   "metadata": {
    "collapsed": true
   },
   "outputs": [],
   "source": [
    "DATA_PATH = '~/S3L_server/energy-data/pecan_street/usage-select/'\n",
    "PLOT_PATH = '~/S3L_server/plots/pecan-street-2/'\n",
    "MODEL_PATH= '~/S3L_server/energy-data/pecan_street/models_2/'"
   ]
  },
  {
   "cell_type": "code",
   "execution_count": 110,
   "metadata": {
    "collapsed": false
   },
   "outputs": [
    {
     "name": "stderr",
     "output_type": "stream",
     "text": [
      "Warning message:\n",
      "In dir.create(PLOT_PATH, recursive = T): '/Users/adrianalbert/S3L_server/plots/pecan-street-2' already exists"
     ]
    }
   ],
   "source": [
    "dir.create(PLOT_PATH, recursive = T)"
   ]
  },
  {
   "cell_type": "markdown",
   "metadata": {},
   "source": [
    "Paths to original data"
   ]
  },
  {
   "cell_type": "code",
   "execution_count": 111,
   "metadata": {
    "collapsed": false
   },
   "outputs": [
    {
     "name": "stdout",
     "output_type": "stream",
     "text": [
      "[1] \"There are 349 original data files\"\n"
     ]
    }
   ],
   "source": [
    "# load user names\n",
    "user_names = read.csv('~/S3L_server/energy-data/pecan_street/metadata/user_names_ids.csv')\n",
    "user_names$X = NULL\n",
    "\n",
    "# list all data files\n",
    "files    = list.files(path=DATA_PATH, full.names = T, recursive = T)\n",
    "# files_01 = files[grep('01min',files)]\n",
    "# files_15 = files[grep('15min',files)]\n",
    "files_60 = files[grep('60min',files)]\n",
    "\n",
    "# extract ID\n",
    "users_df = data.frame(UID = as.character(sapply(files_60, function(s) strsplit(tail(strsplit(s, '/')[[1]], 1), '\\\\.')[[1]][1])))\n",
    "rownames(users_df) = NULL\n",
    "    \n",
    "# build original data sources dataframe\n",
    "users_df = merge(users_df, user_names, by.x=\"UID\", by.y=\"ID\")\n",
    "# users_df['01min'] = files_01\n",
    "# users_df['15min'] = files_15\n",
    "users_df['60min'] = files_60\n",
    "users_df = melt(users_df, id=c(\"UID\",\"name\"))\n",
    "names(users_df)[c(3,4)] = c(\"grain\", \"file_orig\")  \n",
    "print(paste(\"There are\", nrow(users_df), \"original data files\"))"
   ]
  },
  {
   "cell_type": "code",
   "execution_count": 112,
   "metadata": {
    "collapsed": false
   },
   "outputs": [
    {
     "data": {
      "text/html": [
       "<table>\n",
       "<thead><tr><th></th><th scope=col>UID</th><th scope=col>name</th><th scope=col>grain</th><th scope=col>file_orig</th></tr></thead>\n",
       "<tbody>\n",
       "\t<tr><th scope=row>1</th><td>1069</td><td>Edd</td><td>60min</td><td>/Users/adrianalbert/S3L_server/energy-data/pecan_street/usage-select//60min/1069.csv</td></tr>\n",
       "</tbody>\n",
       "</table>\n"
      ],
      "text/latex": [
       "\\begin{tabular}{r|llll}\n",
       "  & UID & name & grain & file_orig\\\\\n",
       "\\hline\n",
       "\t1 & 1069 & Edd & 60min & /Users/adrianalbert/S3L_server/energy-data/pecan_street/usage-select//60min/1069.csv\\\\\n",
       "\\end{tabular}\n"
      ],
      "text/plain": [
       "   UID name grain\n",
       "1 1069  Edd 60min\n",
       "                                                                             file_orig\n",
       "1 /Users/adrianalbert/S3L_server/energy-data/pecan_street/usage-select//60min/1069.csv"
      ]
     },
     "execution_count": 112,
     "metadata": {},
     "output_type": "execute_result"
    }
   ],
   "source": [
    "users_df[1,]"
   ]
  },
  {
   "cell_type": "markdown",
   "metadata": {},
   "source": [
    "Paths to thermal models data"
   ]
  },
  {
   "cell_type": "code",
   "execution_count": 113,
   "metadata": {
    "collapsed": false
   },
   "outputs": [],
   "source": [
    "# models \n",
    "files_dec = list.files(path=MODEL_PATH, pattern=\"*decoded\", full.names = T, recursive = T)\n",
    "files_int = list.files(path=MODEL_PATH, pattern=\"*interpreted\", full.names = T, recursive = T)\n",
    "f_dum = function(x) {\n",
    "    tmp = tail(strsplit(x, '/')[[1]],n=2)\n",
    "    res = tmp[1]\n",
    "    nfo = strsplit(tmp[2], \"_\")[[1]]\n",
    "    uid = nfo[1]; name = nfo[2]; \n",
    "    return(c(uid,name,res,x))\n",
    "}\n",
    "model_paths_dec = data.frame(do.call('rbind', lapply(files_dec, f_dum)))\n",
    "model_paths_int = data.frame(do.call('rbind', lapply(files_int, f_dum)))\n",
    "\n",
    "if (length(model_paths_dec)>0) names(model_paths_dec) <- c(\"UID\", \"name\", \"grain\", \"file_model\")\n",
    "if (length(model_paths_int)>0) names(model_paths_int) <- c(\"UID\", \"name\", \"grain\", \"file_model\")\n",
    "model_paths = merge(model_paths_dec, model_paths_int, by=c(\"UID\", \"name\", \"grain\"), suffixes=c(\"_decode\", \"_interp\"))"
   ]
  },
  {
   "cell_type": "code",
   "execution_count": 114,
   "metadata": {
    "collapsed": false
   },
   "outputs": [
    {
     "name": "stdout",
     "output_type": "stream",
     "text": [
      "[1] \"There are 301 files\"\n"
     ]
    }
   ],
   "source": [
    "info_files = merge(model_paths, users_df, by=c(\"UID\", \"name\", \"grain\"))\n",
    "info_files = info_files[with(info_files, order(UID,grain,name)),]\n",
    "print(paste(\"There are\", nrow(info_files), \"files\"))"
   ]
  },
  {
   "cell_type": "code",
   "execution_count": 115,
   "metadata": {
    "collapsed": false
   },
   "outputs": [
    {
     "data": {
      "text/html": [
       "<table>\n",
       "<thead><tr><th></th><th scope=col>UID</th><th scope=col>name</th><th scope=col>grain</th><th scope=col>file_model_decode</th><th scope=col>file_model_interp</th><th scope=col>file_orig</th></tr></thead>\n",
       "<tbody>\n",
       "\t<tr><th scope=row>1</th><td>1069</td><td>Edd</td><td>60min</td><td>/Users/adrianalbert/S3L_server/energy-data/pecan_street/models_2//1069_Edd/60min/1069_Edd_decoded.RData</td><td>/Users/adrianalbert/S3L_server/energy-data/pecan_street/models_2//1069_Edd/60min/1069_Edd_interpreted.RData</td><td>/Users/adrianalbert/S3L_server/energy-data/pecan_street/usage-select//60min/1069.csv</td></tr>\n",
       "\t<tr><th scope=row>2</th><td>1086</td><td>Emery</td><td>60min</td><td>/Users/adrianalbert/S3L_server/energy-data/pecan_street/models_2//1086_Emery/60min/1086_Emery_decoded.RData</td><td>/Users/adrianalbert/S3L_server/energy-data/pecan_street/models_2//1086_Emery/60min/1086_Emery_interpreted.RData</td><td>/Users/adrianalbert/S3L_server/energy-data/pecan_street/usage-select//60min/1086.csv</td></tr>\n",
       "</tbody>\n",
       "</table>\n"
      ],
      "text/latex": [
       "\\begin{tabular}{r|llllll}\n",
       "  & UID & name & grain & file_model_decode & file_model_interp & file_orig\\\\\n",
       "\\hline\n",
       "\t1 & 1069 & Edd & 60min & /Users/adrianalbert/S3L_server/energy-data/pecan_street/models_2//1069_Edd/60min/1069_Edd_decoded.RData & /Users/adrianalbert/S3L_server/energy-data/pecan_street/models_2//1069_Edd/60min/1069_Edd_interpreted.RData & /Users/adrianalbert/S3L_server/energy-data/pecan_street/usage-select//60min/1069.csv\\\\\n",
       "\t2 & 1086 & Emery & 60min & /Users/adrianalbert/S3L_server/energy-data/pecan_street/models_2//1086_Emery/60min/1086_Emery_decoded.RData & /Users/adrianalbert/S3L_server/energy-data/pecan_street/models_2//1086_Emery/60min/1086_Emery_interpreted.RData & /Users/adrianalbert/S3L_server/energy-data/pecan_street/usage-select//60min/1086.csv\\\\\n",
       "\\end{tabular}\n"
      ],
      "text/plain": [
       "   UID  name grain\n",
       "1 1069   Edd 60min\n",
       "2 1086 Emery 60min\n",
       "                                                                                            file_model_decode\n",
       "1     /Users/adrianalbert/S3L_server/energy-data/pecan_street/models_2//1069_Edd/60min/1069_Edd_decoded.RData\n",
       "2 /Users/adrianalbert/S3L_server/energy-data/pecan_street/models_2//1086_Emery/60min/1086_Emery_decoded.RData\n",
       "                                                                                                file_model_interp\n",
       "1     /Users/adrianalbert/S3L_server/energy-data/pecan_street/models_2//1069_Edd/60min/1069_Edd_interpreted.RData\n",
       "2 /Users/adrianalbert/S3L_server/energy-data/pecan_street/models_2//1086_Emery/60min/1086_Emery_interpreted.RData\n",
       "                                                                             file_orig\n",
       "1 /Users/adrianalbert/S3L_server/energy-data/pecan_street/usage-select//60min/1069.csv\n",
       "2 /Users/adrianalbert/S3L_server/energy-data/pecan_street/usage-select//60min/1086.csv"
      ]
     },
     "execution_count": 115,
     "metadata": {},
     "output_type": "execute_result"
    }
   ],
   "source": [
    "info_files[1:2,]"
   ]
  },
  {
   "cell_type": "markdown",
   "metadata": {},
   "source": [
    "##Load processed thermal regimes data"
   ]
  },
  {
   "cell_type": "code",
   "execution_count": 116,
   "metadata": {
    "collapsed": true
   },
   "outputs": [],
   "source": [
    "f_process_model = function(row) {\n",
    "    # access decoded data    \n",
    "    load(as.character(as.character(row$file_model_decode)));\n",
    "    df = data$df\n",
    "    nStates= data$nStates\n",
    "    df     = cbind(df, data$state)\n",
    "    df$TemperatureD = df$Temperature - 65\n",
    "    resp   = data$response   \n",
    "    tran   = data$transition\n",
    "    tran   = lapply(unique(tran$From), function(s) {d = subset(tran, To ==s); d$From = d$To = NULL; rownames(d) = 1:nrow(d); return(d)})\n",
    "\n",
    "    # format model parameters for easy analysis access\n",
    "    volatility = lapply(1:nStates, function(s) { z = c(mu = 0, sd = resp$stdev[s]); names(z) = c('mu', 'sd'); z})\n",
    "    baseload   = lapply(1:nStates, function(s) { z = c(mu = resp$means['(Intercept)', s], sd = resp$stderr['(Intercept)', s]); names(z) = c('mu', 'sd'); z})\n",
    "    response   = lapply(1:nStates, function(s) c(mu = resp$means['TemperatureD', s], sd = as.numeric(resp$stderr['TemperatureD', s])))\n",
    "    \n",
    "    df$resp_MAP   = sapply(df$state, function(s) response[[s]]['mu'])\n",
    "    df$resp_MAP.se= sapply(df$state, function(s) response[[s]]['sd'])\n",
    "    tmp = df[grepl(\"X[1-9]\", names(df))] * matrix(unlist(response), nrow=2)\n",
    "    df$resp_avg   = rowSums(tmp[1,])\n",
    "    df$resp_avg.se= apply(tmp[1,], 1, sd)\n",
    "        \n",
    "    # access \"interpreted\" quantities\n",
    "    load(as.character(as.character(row$file_model_interp)));\n",
    "    response_df = data.frame(matrix(unlist(response), nrow=2))\n",
    "    names(response_df) = as.character(1:nStates)\n",
    "    rownames(response_df) = c(\"mu\", \"sd\")\n",
    "    res = data$benchmarks$steadyDistr %*% as.matrix(t(response_df))\n",
    "    resp = data.frame(Temperature = 1:nrow(res), \n",
    "                      resp_avg=res[,1], resp_avg.se=res[,2],\n",
    "                      resp_MAP=apply(data$benchmarks$steadyDistr, 1, function(r) response[[which.max(r)]]['mu']),\n",
    "                      resp_MAP.se=apply(data$benchmarks$steadyDistr, 1, function(r) response[[which.max(r)]]['sd']))\n",
    "    prob_steady = data.frame(data$benchmarks$steadyDistr)\n",
    "    names(prob_steady) = paste(\"X\", 1:nStates, sep='')\n",
    "    resp = cbind(resp, prob_steady)\n",
    "\n",
    "    res = list(volatility = volatility, \n",
    "               baseload = baseload, \n",
    "               response = response, \n",
    "               tran = tran, \n",
    "               nStates = nStates,\n",
    "               resp_profile = resp,\n",
    "               data = df)\n",
    "    gc()\n",
    "    return(res)\n",
    "}"
   ]
  },
  {
   "cell_type": "code",
   "execution_count": 117,
   "metadata": {
    "collapsed": false
   },
   "outputs": [
    {
     "data": {
      "text/html": [
       "<table>\n",
       "<thead><tr><th></th><th scope=col>obs</th><th scope=col>TemperatureD</th><th scope=col>Temperature</th><th scope=col>timestamps</th><th scope=col>state</th><th scope=col>X1</th><th scope=col>X2</th><th scope=col>X3</th><th scope=col>fit</th><th scope=col>fit.max</th><th scope=col>resp_MAP</th><th scope=col>resp_MAP.se</th><th scope=col>resp_avg</th><th scope=col>resp_avg.se</th></tr></thead>\n",
       "<tbody>\n",
       "\t<tr><th scope=row>1</th><td>0.4943333</td><td>-9.641</td><td>55.359</td><td>2013-11-13 16:00:00</td><td>1</td><td>0.9916136</td><td>0.008386358</td><td>0</td><td>0.8531127</td><td>0.8580622</td><td>-0.007384663</td><td>0.001090608</td><td>-0.007384663</td><td>0.004210018</td></tr>\n",
       "\t<tr><th scope=row>2</th><td>0.4058167</td><td>-12.65167</td><td>52.34833</td><td>2013-11-13 17:00:00</td><td>1</td><td>0.3525087</td><td>0.6474913</td><td>6.271976e-105</td><td>0.4857133</td><td>0.880295</td><td>-0.007384663</td><td>0.001090608</td><td>-0.007384663</td><td>0.004210018</td></tr>\n",
       "\t<tr><th scope=row>3</th><td>0.94945</td><td>-17.34</td><td>47.66</td><td>2013-11-13 18:00:00</td><td>1</td><td>0.999997</td><td>2.952674e-06</td><td>0</td><td>0.9149148</td><td>0.9149167</td><td>-0.007384663</td><td>0.001090608</td><td>-0.007384663</td><td>0.004210018</td></tr>\n",
       "\t<tr><th scope=row>4</th><td>0.4052833</td><td>-21.231</td><td>43.769</td><td>2013-11-13 19:00:00</td><td>2</td><td>0.3355777</td><td>0.6644223</td><td>9.702375e-105</td><td>0.5023781</td><td>0.2795061</td><td>-0.001003792</td><td>0.0002524065</td><td>-0.007384663</td><td>0.004210018</td></tr>\n",
       "\t<tr><th scope=row>5</th><td>0.31975</td><td>-23.89367</td><td>41.10633</td><td>2013-11-13 20:00:00</td><td>2</td><td>0.04045171</td><td>0.9595483</td><td>6.937335e-55</td><td>0.3097319</td><td>0.2821788</td><td>-0.001003792</td><td>0.0002524065</td><td>-0.007384663</td><td>0.004210018</td></tr>\n",
       "\t<tr><th scope=row>6</th><td>0.1960833</td><td>-26.196</td><td>38.804</td><td>2013-11-13 21:00:00</td><td>2</td><td>0.004835956</td><td>0.995164</td><td>3.92608e-11</td><td>0.2878549</td><td>0.2844899</td><td>-0.001003792</td><td>0.0002524065</td><td>-0.007384663</td><td>0.004210018</td></tr>\n",
       "</tbody>\n",
       "</table>\n"
      ],
      "text/latex": [
       "\\begin{tabular}{r|llllllllllllll}\n",
       "  & obs & TemperatureD & Temperature & timestamps & state & X1 & X2 & X3 & fit & fit.max & resp_MAP & resp_MAP.se & resp_avg & resp_avg.se\\\\\n",
       "\\hline\n",
       "\t1 & 0.4943333 & -9.641 & 55.359 & 2013-11-13 16:00:00 & 1 & 0.9916136 & 0.008386358 & 0 & 0.8531127 & 0.8580622 & -0.007384663 & 0.001090608 & -0.007384663 & 0.004210018\\\\\n",
       "\t2 & 0.4058167 & -12.65167 & 52.34833 & 2013-11-13 17:00:00 & 1 & 0.3525087 & 0.6474913 & 6.271976e-105 & 0.4857133 & 0.880295 & -0.007384663 & 0.001090608 & -0.007384663 & 0.004210018\\\\\n",
       "\t3 & 0.94945 & -17.34 & 47.66 & 2013-11-13 18:00:00 & 1 & 0.999997 & 2.952674e-06 & 0 & 0.9149148 & 0.9149167 & -0.007384663 & 0.001090608 & -0.007384663 & 0.004210018\\\\\n",
       "\t4 & 0.4052833 & -21.231 & 43.769 & 2013-11-13 19:00:00 & 2 & 0.3355777 & 0.6644223 & 9.702375e-105 & 0.5023781 & 0.2795061 & -0.001003792 & 0.0002524065 & -0.007384663 & 0.004210018\\\\\n",
       "\t5 & 0.31975 & -23.89367 & 41.10633 & 2013-11-13 20:00:00 & 2 & 0.04045171 & 0.9595483 & 6.937335e-55 & 0.3097319 & 0.2821788 & -0.001003792 & 0.0002524065 & -0.007384663 & 0.004210018\\\\\n",
       "\t6 & 0.1960833 & -26.196 & 38.804 & 2013-11-13 21:00:00 & 2 & 0.004835956 & 0.995164 & 3.92608e-11 & 0.2878549 & 0.2844899 & -0.001003792 & 0.0002524065 & -0.007384663 & 0.004210018\\\\\n",
       "\\end{tabular}\n"
      ],
      "text/plain": [
       "        obs TemperatureD Temperature          timestamps state          X1\n",
       "1 0.4943333     -9.64100    55.35900 2013-11-13 16:00:00     1 0.991613642\n",
       "2 0.4058167    -12.65167    52.34833 2013-11-13 17:00:00     1 0.352508683\n",
       "3 0.9494500    -17.34000    47.66000 2013-11-13 18:00:00     1 0.999997047\n",
       "4 0.4052833    -21.23100    43.76900 2013-11-13 19:00:00     2 0.335577731\n",
       "5 0.3197500    -23.89367    41.10633 2013-11-13 20:00:00     2 0.040451706\n",
       "6 0.1960833    -26.19600    38.80400 2013-11-13 21:00:00     2 0.004835956\n",
       "            X2            X3       fit   fit.max     resp_MAP  resp_MAP.se\n",
       "1 8.386358e-03  0.000000e+00 0.8531127 0.8580622 -0.007384663 0.0010906080\n",
       "2 6.474913e-01 6.271976e-105 0.4857133 0.8802950 -0.007384663 0.0010906080\n",
       "3 2.952674e-06  0.000000e+00 0.9149148 0.9149167 -0.007384663 0.0010906080\n",
       "4 6.644223e-01 9.702375e-105 0.5023781 0.2795061 -0.001003792 0.0002524065\n",
       "5 9.595483e-01  6.937335e-55 0.3097319 0.2821788 -0.001003792 0.0002524065\n",
       "6 9.951640e-01  3.926080e-11 0.2878549 0.2844899 -0.001003792 0.0002524065\n",
       "      resp_avg resp_avg.se\n",
       "1 -0.007384663 0.004210018\n",
       "2 -0.007384663 0.004210018\n",
       "3 -0.007384663 0.004210018\n",
       "4 -0.007384663 0.004210018\n",
       "5 -0.007384663 0.004210018\n",
       "6 -0.007384663 0.004210018"
      ]
     },
     "execution_count": 117,
     "metadata": {},
     "output_type": "execute_result"
    }
   ],
   "source": [
    "row = info_files[3,]\n",
    "res = f_process_model(row)\n",
    "head(res$data)"
   ]
  },
  {
   "cell_type": "code",
   "execution_count": 118,
   "metadata": {
    "collapsed": false
   },
   "outputs": [
    {
     "data": {
      "text/html": [
       "<table>\n",
       "<thead><tr><th></th><th scope=col>UID</th><th scope=col>name</th><th scope=col>grain</th><th scope=col>file_model_decode</th><th scope=col>file_model_interp</th><th scope=col>file_orig</th></tr></thead>\n",
       "<tbody>\n",
       "\t<tr><th scope=row>3</th><td>1105</td><td>Grant</td><td>60min</td><td>/Users/adrianalbert/S3L_server/energy-data/pecan_street/models_2//1105_Grant/60min/1105_Grant_decoded.RData</td><td>/Users/adrianalbert/S3L_server/energy-data/pecan_street/models_2//1105_Grant/60min/1105_Grant_interpreted.RData</td><td>/Users/adrianalbert/S3L_server/energy-data/pecan_street/usage-select//60min/1105.csv</td></tr>\n",
       "</tbody>\n",
       "</table>\n"
      ],
      "text/latex": [
       "\\begin{tabular}{r|llllll}\n",
       "  & UID & name & grain & file_model_decode & file_model_interp & file_orig\\\\\n",
       "\\hline\n",
       "\t3 & 1105 & Grant & 60min & /Users/adrianalbert/S3L_server/energy-data/pecan_street/models_2//1105_Grant/60min/1105_Grant_decoded.RData & /Users/adrianalbert/S3L_server/energy-data/pecan_street/models_2//1105_Grant/60min/1105_Grant_interpreted.RData & /Users/adrianalbert/S3L_server/energy-data/pecan_street/usage-select//60min/1105.csv\\\\\n",
       "\\end{tabular}\n"
      ],
      "text/plain": [
       "   UID  name grain\n",
       "3 1105 Grant 60min\n",
       "                                                                                            file_model_decode\n",
       "3 /Users/adrianalbert/S3L_server/energy-data/pecan_street/models_2//1105_Grant/60min/1105_Grant_decoded.RData\n",
       "                                                                                                file_model_interp\n",
       "3 /Users/adrianalbert/S3L_server/energy-data/pecan_street/models_2//1105_Grant/60min/1105_Grant_interpreted.RData\n",
       "                                                                             file_orig\n",
       "3 /Users/adrianalbert/S3L_server/energy-data/pecan_street/usage-select//60min/1105.csv"
      ]
     },
     "execution_count": 118,
     "metadata": {},
     "output_type": "execute_result"
    }
   ],
   "source": [
    "row"
   ]
  },
  {
   "cell_type": "code",
   "execution_count": 119,
   "metadata": {
    "collapsed": false
   },
   "outputs": [
    {
     "data": {
      "text/plain": [
       "\n",
       "   1    2    3 \n",
       " 443 1214 1247 "
      ]
     },
     "execution_count": 119,
     "metadata": {},
     "output_type": "execute_result"
    }
   ],
   "source": [
    "table(res$data$state)"
   ]
  },
  {
   "cell_type": "code",
   "execution_count": 120,
   "metadata": {
    "collapsed": false
   },
   "outputs": [
    {
     "name": "stdout",
     "output_type": "stream",
     "text": [
      "List of 7\n",
      " $ volatility  :List of 3\n",
      "  ..$ : Named num [1:2] 0 0.388\n",
      "  .. ..- attr(*, \"names\")= chr [1:2] \"mu\" \"sd\"\n",
      "  ..$ : Named num [1:2] 0 0.125\n",
      "  .. ..- attr(*, \"names\")= chr [1:2] \"mu\" \"sd\"\n",
      "  ..$ : Named num [1:2] 0 0.0141\n",
      "  .. ..- attr(*, \"names\")= chr [1:2] \"mu\" \"sd\"\n",
      " $ baseload    :List of 3\n",
      "  ..$ : Named num [1:2] 0.7869 0.0238\n",
      "  .. ..- attr(*, \"names\")= chr [1:2] \"mu\" \"sd\"\n",
      "  ..$ : Named num [1:2] 0.25819 0.00463\n",
      "  .. ..- attr(*, \"names\")= chr [1:2] \"mu\" \"sd\"\n",
      "  ..$ : Named num [1:2] 0.096772 0.000571\n",
      "  .. ..- attr(*, \"names\")= chr [1:2] \"mu\" \"sd\"\n",
      " $ response    :List of 3\n",
      "  ..$ : Named num [1:2] -0.00738 0.00109\n",
      "  .. ..- attr(*, \"names\")= chr [1:2] \"mu\" \"sd\"\n",
      "  ..$ : Named num [1:2] -0.001004 0.000252\n",
      "  .. ..- attr(*, \"names\")= chr [1:2] \"mu\" \"sd\"\n",
      "  ..$ : Named num [1:2] 3.97e-05 2.86e-05\n",
      "  .. ..- attr(*, \"names\")= chr [1:2] \"mu\" \"sd\"\n",
      " $ tran        :List of 3\n",
      "  ..$ :'data.frame':\t3 obs. of  2 variables:\n",
      "  .. ..$ (Intercept): num [1:3] 0 0 0\n",
      "  .. ..$ Temperature: num [1:3] 0 0 0\n",
      "  ..$ :'data.frame':\t3 obs. of  2 variables:\n",
      "  .. ..$ (Intercept): num [1:3] -2.012 3.57 -0.201\n",
      "  .. ..$ Temperature: num [1:3] 0.0252 -0.0302 0.0342\n",
      "  ..$ :'data.frame':\t3 obs. of  2 variables:\n",
      "  .. ..$ (Intercept): num [1:3] -2.82 2.48 2.41\n",
      "  .. ..$ Temperature: num [1:3] 0.00336 -0.0313 0.00996\n",
      " $ nStates     : int 3\n",
      " $ resp_profile:'data.frame':\t121 obs. of  8 variables:\n",
      "  ..$ Temperature: int [1:121] 1 2 3 4 5 6 7 8 9 10 ...\n",
      "  ..$ resp_avg   : num [1:121] -0.00219 -0.00216 -0.00213 -0.0021 -0.00207 ...\n",
      "  ..$ resp_avg.se: num [1:121] 0.000365 0.000361 0.000357 0.000352 0.000348 ...\n",
      "  ..$ resp_MAP   : num [1:121] 3.97e-05 3.97e-05 3.97e-05 3.97e-05 3.97e-05 ...\n",
      "  ..$ resp_MAP.se: num [1:121] 2.86e-05 2.86e-05 2.86e-05 2.86e-05 2.86e-05 ...\n",
      "  ..$ X1         : num [1:121] 0.268 0.263 0.259 0.254 0.25 ...\n",
      "  ..$ X2         : num [1:121] 0.23 0.234 0.237 0.241 0.244 ...\n",
      "  ..$ X3         : num [1:121] 0.501 0.503 0.504 0.505 0.506 ...\n",
      " $ data        :'data.frame':\t2904 obs. of  14 variables:\n",
      "  ..$ obs         : num [1:2904] 0.494 0.406 0.949 0.405 0.32 ...\n",
      "  ..$ TemperatureD: num [1:2904] -9.64 -12.65 -17.34 -21.23 -23.89 ...\n",
      "  ..$ Temperature : num [1:2904] 55.4 52.3 47.7 43.8 41.1 ...\n",
      "  ..$ timestamps  : chr [1:2904] \"2013-11-13 16:00:00\" \"2013-11-13 17:00:00\" \"2013-11-13 18:00:00\" \"2013-11-13 19:00:00\" ...\n",
      "  ..$ state       : num [1:2904] 1 1 1 2 2 2 2 3 3 2 ...\n",
      "  ..$ X1          : num [1:2904] 0.9916 0.3525 1 0.3356 0.0405 ...\n",
      "  ..$ X2          : num [1:2904] 8.39e-03 6.47e-01 2.95e-06 6.64e-01 9.60e-01 ...\n",
      "  ..$ X3          : num [1:2904] 0.00 6.27e-105 0.00 9.70e-105 6.94e-55 ...\n",
      "  ..$ fit         : num [1:2904] 0.853 0.486 0.915 0.502 0.31 ...\n",
      "  ..$ fit.max     : num [1:2904] 0.858 0.88 0.915 0.28 0.282 ...\n",
      "  ..$ resp_MAP    : num [1:2904] -0.00738 -0.00738 -0.00738 -0.001 -0.001 ...\n",
      "  ..$ resp_MAP.se : num [1:2904] 0.001091 0.001091 0.001091 0.000252 0.000252 ...\n",
      "  ..$ resp_avg    : num [1:2904] -0.00738 -0.00738 -0.00738 -0.00738 -0.00738 ...\n",
      "  ..$ resp_avg.se : num [1:2904] 0.00421 0.00421 0.00421 0.00421 0.00421 ...\n"
     ]
    }
   ],
   "source": [
    "str(res)"
   ]
  },
  {
   "cell_type": "code",
   "execution_count": 121,
   "metadata": {
    "collapsed": false
   },
   "outputs": [],
   "source": [
    "f_estimate_empirical_prob = function(temp_df){\n",
    "    temp_df = temp_df[,c(\"Temperature\", \"state\")]\n",
    "    temp_df = temp_df[with(temp_df, order(Temperature)),]\n",
    "    resp_est_df = data.frame(Temperature = 1:120)\n",
    "    n = length(unique(temp_df$state))\n",
    "    prof_est = sapply(1:120, function(t){\n",
    "        cur_df = subset(temp_df, (Temperature >= t-1) & (Temperature <= t+1))\n",
    "        tmp = rep(0,n); names(tmp) = as.character(1:n)\n",
    "        tab = table(cur_df$state)/nrow(cur_df)\n",
    "        tmp[names(tab)] = tab\n",
    "        return(t(tmp))\n",
    "    })\n",
    "    prof_est = t(prof_est)\n",
    "    names(prof_est) = paste(\"X\", 1:n)\n",
    "    prof_est = data.frame(prof_est)\n",
    "    prof_est$Temperature = 1:120\n",
    "    gc()\n",
    "    return(prof_est)\n",
    "}"
   ]
  },
  {
   "cell_type": "code",
   "execution_count": 122,
   "metadata": {
    "collapsed": false
   },
   "outputs": [
    {
     "data": {
      "text/html": [
       "<table>\n",
       "<thead><tr><th></th><th scope=col>X1</th><th scope=col>X2</th><th scope=col>X3</th><th scope=col>Temperature</th></tr></thead>\n",
       "<tbody>\n",
       "\t<tr><th scope=row>1</th><td>0</td><td>0</td><td>0</td><td>1</td></tr>\n",
       "\t<tr><th scope=row>2</th><td>0</td><td>0</td><td>0</td><td>2</td></tr>\n",
       "\t<tr><th scope=row>3</th><td>0</td><td>0</td><td>0</td><td>3</td></tr>\n",
       "\t<tr><th scope=row>4</th><td>0</td><td>0</td><td>0</td><td>4</td></tr>\n",
       "\t<tr><th scope=row>5</th><td>0</td><td>0</td><td>0</td><td>5</td></tr>\n",
       "\t<tr><th scope=row>6</th><td>0</td><td>0</td><td>0</td><td>6</td></tr>\n",
       "</tbody>\n",
       "</table>\n"
      ],
      "text/latex": [
       "\\begin{tabular}{r|llll}\n",
       "  & X1 & X2 & X3 & Temperature\\\\\n",
       "\\hline\n",
       "\t1 & 0 & 0 & 0 & 1\\\\\n",
       "\t2 & 0 & 0 & 0 & 2\\\\\n",
       "\t3 & 0 & 0 & 0 & 3\\\\\n",
       "\t4 & 0 & 0 & 0 & 4\\\\\n",
       "\t5 & 0 & 0 & 0 & 5\\\\\n",
       "\t6 & 0 & 0 & 0 & 6\\\\\n",
       "\\end{tabular}\n"
      ],
      "text/plain": [
       "  X1 X2 X3 Temperature\n",
       "1  0  0  0           1\n",
       "2  0  0  0           2\n",
       "3  0  0  0           3\n",
       "4  0  0  0           4\n",
       "5  0  0  0           5\n",
       "6  0  0  0           6"
      ]
     },
     "execution_count": 122,
     "metadata": {},
     "output_type": "execute_result"
    }
   ],
   "source": [
    "prof_est = f_estimate_empirical_prob(res$data)\n",
    "head(prof_est)"
   ]
  },
  {
   "cell_type": "code",
   "execution_count": 123,
   "metadata": {
    "collapsed": false
   },
   "outputs": [],
   "source": [
    "f_plot_prob_profiles = function(prof_est, prof_steady) {\n",
    "    nStates = ncol(prof_est)-1\n",
    "    # define colors\n",
    "    add.alpha <- function(col, alpha=1){\n",
    "      if(missing(col))\n",
    "        stop(\"Please provide a vector of colours.\")\n",
    "      apply(sapply(col, col2rgb)/255, 2, \n",
    "                         function(x) \n",
    "                           rgb(x[1], x[2], x[3], alpha=alpha))  \n",
    "    }\n",
    "    cols <- brewer.pal(nStates,\"Dark2\")\n",
    "    colsAlpha = add.alpha(cols, 0.3)\n",
    "            \n",
    "    # produce plots\n",
    "    plot(prof_est$Temperature, prof_est$X1, col=colsAlpha[1], type = 'b', lwd=3, \n",
    "         cex.main=1.5, \n",
    "         cex.lab=1.5,\n",
    "         cex.axis=1.5,\n",
    "         ylim=c(0,1),\n",
    "         main=\"Thermal Regime Temperature Profile\", \n",
    "         xlab=\"Temperature [F]\", ylab=\"P(S=j;T)\")\n",
    "    points(prof_steady$Temperature, prof_steady$X1, col=cols[1], type = 'l', lty=1, lwd=5)\n",
    "    for (n in 2:nStates){ \n",
    "        points(prof_est$Temperature, prof_est[,paste(\"X\",n,sep=\"\")], col=colsAlpha[n], type = 'b', lwd=3)\n",
    "        points(prof_steady$Temperature, prof_steady[,paste(\"X\",n,sep=\"\")], col=cols[n], type = 'l', lty=1, lwd=5)\n",
    "    }\n",
    "\n",
    "    legend(\"right\", sprintf(\"P(S=%d)\",1:nStates), col=cols, lty=1, lwd=4)\n",
    "    gc()\n",
    "}"
   ]
  },
  {
   "cell_type": "code",
   "execution_count": 124,
   "metadata": {
    "collapsed": false
   },
   "outputs": [
    {
     "data": {
      "text/html": [
       "<table>\n",
       "<thead><tr><th></th><th scope=col>used</th><th scope=col>(Mb)</th><th scope=col>gc trigger</th><th scope=col>(Mb)</th><th scope=col>max used</th><th scope=col>(Mb)</th></tr></thead>\n",
       "<tbody>\n",
       "\t<tr><th scope=row>Ncells</th><td>711425</td><td>38</td><td>1442291</td><td>77.1</td><td>1442291</td><td>77.1</td></tr>\n",
       "\t<tr><th scope=row>Vcells</th><td>932488</td><td>7.2</td><td>3253184</td><td>24.9</td><td>6918738</td><td>52.8</td></tr>\n",
       "</tbody>\n",
       "</table>\n"
      ],
      "text/latex": [
       "\\begin{tabular}{r|llllll}\n",
       "  & used & (Mb) & gc trigger & (Mb) & max used & (Mb)\\\\\n",
       "\\hline\n",
       "\tNcells & 711425 & 38 & 1442291 & 77.1 & 1442291 & 77.1\\\\\n",
       "\tVcells & 932488 & 7.2 & 3253184 & 24.9 & 6918738 & 52.8\\\\\n",
       "\\end{tabular}\n"
      ],
      "text/markdown": [
       "1. 711425\n",
       "2. 932488\n",
       "3. 38\n",
       "4. 7.2\n",
       "5. 1442291\n",
       "6. 3253184\n",
       "7. 77.1\n",
       "8. 24.9\n",
       "9. 1442291\n",
       "10. 6918738\n",
       "11. 77.1\n",
       "12. 52.8\n",
       "\n",
       "\n"
      ],
      "text/plain": [
       "         used (Mb) gc trigger (Mb) max used (Mb)\n",
       "Ncells 711425 38.0    1442291 77.1  1442291 77.1\n",
       "Vcells 932488  7.2    3253184 24.9  6918738 52.8"
      ]
     },
     "execution_count": 124,
     "metadata": {},
     "output_type": "execute_result"
    },
    {
     "data": {
      "application/pdf": "[encoded data removed]",
      "image/jpeg": "[encoded data removed]",
      "image/png": "[encoded data removed]",
      "image/svg+xml": [
       "<?xml version=\"1.0\" encoding=\"UTF-8\"?>\n",
       "<svg xmlns=\"http://www.w3.org/2000/svg\" xmlns:xlink=\"http://www.w3.org/1999/xlink\" width=\"504pt\" height=\"504pt\" viewBox=\"0 0 504 504\" version=\"1.1\">\n",
       "<defs>\n",
       "<g>\n",
       "<symbol overflow=\"visible\" id=\"glyph0-0\">\n",
       "<path style=\"stroke:none;\" d=\"M 0.578125 0 L 0.578125 -12.90625 L 10.828125 -12.90625 L 10.828125 0 Z M 9.21875 -1.625 L 9.21875 -11.296875 L 2.203125 -11.296875 L 2.203125 -1.625 Z \"/>\n",
       "</symbol>\n",
       "<symbol overflow=\"visible\" id=\"glyph0-1\">\n",
       "<path style=\"stroke:none;\" d=\"M 4.875 -12.59375 C 6.5 -12.59375 7.675781 -11.921875 8.40625 -10.578125 C 8.96875 -9.535156 9.25 -8.113281 9.25 -6.3125 C 9.25 -4.601562 8.992188 -3.1875 8.484375 -2.0625 C 7.742188 -0.457031 6.535156 0.34375 4.859375 0.34375 C 3.347656 0.34375 2.222656 -0.3125 1.484375 -1.625 C 0.867188 -2.71875 0.5625 -4.1875 0.5625 -6.03125 C 0.5625 -7.46875 0.742188 -8.695312 1.109375 -9.71875 C 1.804688 -11.632812 3.0625 -12.59375 4.875 -12.59375 Z M 4.859375 -1.09375 C 5.671875 -1.09375 6.320312 -1.457031 6.8125 -2.1875 C 7.300781 -2.914062 7.546875 -4.269531 7.546875 -6.25 C 7.546875 -7.675781 7.367188 -8.847656 7.015625 -9.765625 C 6.660156 -10.691406 5.976562 -11.15625 4.96875 -11.15625 C 4.03125 -11.15625 3.347656 -10.71875 2.921875 -9.84375 C 2.492188 -8.96875 2.28125 -7.679688 2.28125 -5.984375 C 2.28125 -4.691406 2.414062 -3.660156 2.6875 -2.890625 C 3.113281 -1.691406 3.835938 -1.09375 4.859375 -1.09375 Z \"/>\n",
       "</symbol>\n",
       "<symbol overflow=\"visible\" id=\"glyph0-2\">\n",
       "<path style=\"stroke:none;\" d=\"M 0.5625 0 C 0.625 -1.082031 0.847656 -2.023438 1.234375 -2.828125 C 1.617188 -3.628906 2.378906 -4.359375 3.515625 -5.015625 L 5.203125 -6 C 5.960938 -6.4375 6.492188 -6.8125 6.796875 -7.125 C 7.273438 -7.601562 7.515625 -8.160156 7.515625 -8.796875 C 7.515625 -9.523438 7.296875 -10.101562 6.859375 -10.53125 C 6.421875 -10.96875 5.832031 -11.1875 5.09375 -11.1875 C 4.007812 -11.1875 3.257812 -10.773438 2.84375 -9.953125 C 2.625 -9.515625 2.503906 -8.90625 2.484375 -8.125 L 0.875 -8.125 C 0.882812 -9.21875 1.085938 -10.109375 1.484375 -10.796875 C 2.160156 -12.015625 3.367188 -12.625 5.109375 -12.625 C 6.546875 -12.625 7.597656 -12.234375 8.265625 -11.453125 C 8.929688 -10.679688 9.265625 -9.816406 9.265625 -8.859375 C 9.265625 -7.847656 8.910156 -6.988281 8.203125 -6.28125 C 7.785156 -5.863281 7.050781 -5.359375 6 -4.765625 L 4.796875 -4.09375 C 4.210938 -3.78125 3.757812 -3.476562 3.4375 -3.1875 C 2.851562 -2.675781 2.484375 -2.113281 2.328125 -1.5 L 9.203125 -1.5 L 9.203125 0 Z \"/>\n",
       "</symbol>\n",
       "<symbol overflow=\"visible\" id=\"glyph0-3\">\n",
       "<path style=\"stroke:none;\" d=\"M 5.953125 -4.453125 L 5.953125 -10.15625 L 1.921875 -4.453125 Z M 5.984375 0 L 5.984375 -3.078125 L 0.453125 -3.078125 L 0.453125 -4.625 L 6.21875 -12.625 L 7.5625 -12.625 L 7.5625 -4.453125 L 9.40625 -4.453125 L 9.40625 -3.078125 L 7.5625 -3.078125 L 7.5625 0 Z \"/>\n",
       "</symbol>\n",
       "<symbol overflow=\"visible\" id=\"glyph0-4\">\n",
       "<path style=\"stroke:none;\" d=\"M 5.265625 -12.640625 C 6.671875 -12.640625 7.648438 -12.273438 8.203125 -11.546875 C 8.753906 -10.816406 9.03125 -10.066406 9.03125 -9.296875 L 7.46875 -9.296875 C 7.375 -9.785156 7.222656 -10.171875 7.015625 -10.453125 C 6.640625 -10.984375 6.066406 -11.25 5.296875 -11.25 C 4.410156 -11.25 3.707031 -10.835938 3.1875 -10.015625 C 2.664062 -9.203125 2.375 -8.035156 2.3125 -6.515625 C 2.675781 -7.046875 3.132812 -7.441406 3.6875 -7.703125 C 4.1875 -7.941406 4.75 -8.0625 5.375 -8.0625 C 6.425781 -8.0625 7.34375 -7.722656 8.125 -7.046875 C 8.914062 -6.367188 9.3125 -5.363281 9.3125 -4.03125 C 9.3125 -2.894531 8.9375 -1.882812 8.1875 -1 C 7.445312 -0.113281 6.390625 0.328125 5.015625 0.328125 C 3.835938 0.328125 2.816406 -0.117188 1.953125 -1.015625 C 1.097656 -1.910156 0.671875 -3.414062 0.671875 -5.53125 C 0.671875 -7.09375 0.863281 -8.421875 1.25 -9.515625 C 1.976562 -11.597656 3.316406 -12.640625 5.265625 -12.640625 Z M 5.15625 -1.078125 C 5.988281 -1.078125 6.609375 -1.359375 7.015625 -1.921875 C 7.429688 -2.484375 7.640625 -3.144531 7.640625 -3.90625 C 7.640625 -4.550781 7.453125 -5.164062 7.078125 -5.75 C 6.710938 -6.332031 6.046875 -6.625 5.078125 -6.625 C 4.390625 -6.625 3.789062 -6.394531 3.28125 -5.9375 C 2.769531 -5.488281 2.515625 -4.8125 2.515625 -3.90625 C 2.515625 -3.101562 2.742188 -2.429688 3.203125 -1.890625 C 3.671875 -1.347656 4.320312 -1.078125 5.15625 -1.078125 Z \"/>\n",
       "</symbol>\n",
       "<symbol overflow=\"visible\" id=\"glyph0-5\">\n",
       "<path style=\"stroke:none;\" d=\"M 4.890625 -7.3125 C 5.585938 -7.3125 6.132812 -7.503906 6.53125 -7.890625 C 6.925781 -8.285156 7.125 -8.753906 7.125 -9.296875 C 7.125 -9.765625 6.9375 -10.191406 6.5625 -10.578125 C 6.1875 -10.972656 5.613281 -11.171875 4.84375 -11.171875 C 4.082031 -11.171875 3.53125 -10.972656 3.1875 -10.578125 C 2.851562 -10.191406 2.6875 -9.734375 2.6875 -9.203125 C 2.6875 -8.609375 2.90625 -8.144531 3.34375 -7.8125 C 3.78125 -7.476562 4.296875 -7.3125 4.890625 -7.3125 Z M 5 -1.078125 C 5.726562 -1.078125 6.332031 -1.273438 6.8125 -1.671875 C 7.300781 -2.066406 7.546875 -2.660156 7.546875 -3.453125 C 7.546875 -4.265625 7.296875 -4.878906 6.796875 -5.296875 C 6.296875 -5.722656 5.65625 -5.9375 4.875 -5.9375 C 4.125 -5.9375 3.507812 -5.71875 3.03125 -5.28125 C 2.550781 -4.851562 2.3125 -4.257812 2.3125 -3.5 C 2.3125 -2.84375 2.53125 -2.273438 2.96875 -1.796875 C 3.40625 -1.316406 4.082031 -1.078125 5 -1.078125 Z M 2.75 -6.703125 C 2.300781 -6.890625 1.957031 -7.109375 1.71875 -7.359375 C 1.25 -7.828125 1.015625 -8.4375 1.015625 -9.1875 C 1.015625 -10.125 1.351562 -10.929688 2.03125 -11.609375 C 2.71875 -12.285156 3.6875 -12.625 4.9375 -12.625 C 6.132812 -12.625 7.078125 -12.304688 7.765625 -11.671875 C 8.453125 -11.035156 8.796875 -10.289062 8.796875 -9.4375 C 8.796875 -8.65625 8.597656 -8.019531 8.203125 -7.53125 C 7.972656 -7.257812 7.625 -6.988281 7.15625 -6.71875 C 7.6875 -6.476562 8.097656 -6.203125 8.390625 -5.890625 C 8.953125 -5.304688 9.234375 -4.546875 9.234375 -3.609375 C 9.234375 -2.503906 8.859375 -1.566406 8.109375 -0.796875 C 7.367188 -0.0234375 6.316406 0.359375 4.953125 0.359375 C 3.734375 0.359375 2.695312 0.0234375 1.84375 -0.640625 C 1 -1.304688 0.578125 -2.269531 0.578125 -3.53125 C 0.578125 -4.28125 0.757812 -4.925781 1.125 -5.46875 C 1.488281 -6.007812 2.03125 -6.421875 2.75 -6.703125 Z \"/>\n",
       "</symbol>\n",
       "<symbol overflow=\"visible\" id=\"glyph0-6\">\n",
       "<path style=\"stroke:none;\" d=\"M 1.71875 -8.90625 L 1.71875 -10.125 C 2.863281 -10.238281 3.660156 -10.425781 4.109375 -10.6875 C 4.566406 -10.945312 4.90625 -11.5625 5.125 -12.53125 L 6.375 -12.53125 L 6.375 0 L 4.6875 0 L 4.6875 -8.90625 Z \"/>\n",
       "</symbol>\n",
       "<symbol overflow=\"visible\" id=\"glyph0-7\">\n",
       "<path style=\"stroke:none;\" d=\"M 10.765625 -12.90625 L 10.765625 -11.375 L 6.421875 -11.375 L 6.421875 0 L 4.640625 0 L 4.640625 -11.375 L 0.296875 -11.375 L 0.296875 -12.90625 Z \"/>\n",
       "</symbol>\n",
       "<symbol overflow=\"visible\" id=\"glyph0-8\">\n",
       "<path style=\"stroke:none;\" d=\"M 5.078125 -9.625 C 5.742188 -9.625 6.390625 -9.46875 7.015625 -9.15625 C 7.648438 -8.84375 8.128906 -8.4375 8.453125 -7.9375 C 8.773438 -7.457031 8.988281 -6.90625 9.09375 -6.28125 C 9.1875 -5.84375 9.234375 -5.148438 9.234375 -4.203125 L 2.328125 -4.203125 C 2.359375 -3.242188 2.582031 -2.472656 3 -1.890625 C 3.425781 -1.316406 4.082031 -1.03125 4.96875 -1.03125 C 5.789062 -1.03125 6.445312 -1.304688 6.9375 -1.859375 C 7.21875 -2.171875 7.421875 -2.535156 7.546875 -2.953125 L 9.09375 -2.953125 C 9.050781 -2.609375 8.914062 -2.222656 8.6875 -1.796875 C 8.457031 -1.367188 8.195312 -1.019531 7.90625 -0.75 C 7.425781 -0.28125 6.832031 0.03125 6.125 0.1875 C 5.75 0.28125 5.316406 0.328125 4.828125 0.328125 C 3.660156 0.328125 2.671875 -0.09375 1.859375 -0.9375 C 1.046875 -1.789062 0.640625 -2.988281 0.640625 -4.53125 C 0.640625 -6.039062 1.046875 -7.265625 1.859375 -8.203125 C 2.679688 -9.148438 3.753906 -9.625 5.078125 -9.625 Z M 7.609375 -5.453125 C 7.535156 -6.140625 7.382812 -6.691406 7.15625 -7.109375 C 6.71875 -7.867188 5.992188 -8.25 4.984375 -8.25 C 4.253906 -8.25 3.644531 -7.984375 3.15625 -7.453125 C 2.664062 -6.929688 2.40625 -6.265625 2.375 -5.453125 Z M 4.9375 -9.640625 Z \"/>\n",
       "</symbol>\n",
       "<symbol overflow=\"visible\" id=\"glyph0-9\">\n",
       "<path style=\"stroke:none;\" d=\"M 1.15625 -9.40625 L 2.71875 -9.40625 L 2.71875 -8.078125 C 3.09375 -8.535156 3.4375 -8.875 3.75 -9.09375 C 4.269531 -9.445312 4.859375 -9.625 5.515625 -9.625 C 6.265625 -9.625 6.867188 -9.441406 7.328125 -9.078125 C 7.585938 -8.859375 7.820312 -8.546875 8.03125 -8.140625 C 8.382812 -8.640625 8.796875 -9.007812 9.265625 -9.25 C 9.742188 -9.5 10.28125 -9.625 10.875 -9.625 C 12.132812 -9.625 12.992188 -9.164062 13.453125 -8.25 C 13.703125 -7.757812 13.828125 -7.097656 13.828125 -6.265625 L 13.828125 0 L 12.1875 0 L 12.1875 -6.546875 C 12.1875 -7.171875 12.023438 -7.597656 11.703125 -7.828125 C 11.390625 -8.066406 11.007812 -8.1875 10.5625 -8.1875 C 9.945312 -8.1875 9.410156 -7.976562 8.953125 -7.5625 C 8.503906 -7.144531 8.28125 -6.445312 8.28125 -5.46875 L 8.28125 0 L 6.6875 0 L 6.6875 -6.140625 C 6.6875 -6.785156 6.609375 -7.253906 6.453125 -7.546875 C 6.210938 -7.984375 5.765625 -8.203125 5.109375 -8.203125 C 4.503906 -8.203125 3.957031 -7.96875 3.46875 -7.5 C 2.988281 -7.039062 2.75 -6.207031 2.75 -5 L 2.75 0 L 1.15625 0 Z \"/>\n",
       "</symbol>\n",
       "<symbol overflow=\"visible\" id=\"glyph0-10\">\n",
       "<path style=\"stroke:none;\" d=\"M 5.140625 -1.0625 C 5.867188 -1.0625 6.476562 -1.367188 6.96875 -1.984375 C 7.457031 -2.609375 7.703125 -3.535156 7.703125 -4.765625 C 7.703125 -5.515625 7.597656 -6.160156 7.390625 -6.703125 C 6.972656 -7.734375 6.222656 -8.25 5.140625 -8.25 C 4.035156 -8.25 3.285156 -7.703125 2.890625 -6.609375 C 2.671875 -6.023438 2.5625 -5.28125 2.5625 -4.375 C 2.5625 -3.644531 2.671875 -3.023438 2.890625 -2.515625 C 3.296875 -1.546875 4.046875 -1.0625 5.140625 -1.0625 Z M 1.03125 -9.375 L 2.578125 -9.375 L 2.578125 -8.125 C 2.890625 -8.550781 3.234375 -8.878906 3.609375 -9.109375 C 4.140625 -9.460938 4.769531 -9.640625 5.5 -9.640625 C 6.5625 -9.640625 7.460938 -9.226562 8.203125 -8.40625 C 8.953125 -7.59375 9.328125 -6.425781 9.328125 -4.90625 C 9.328125 -2.863281 8.789062 -1.398438 7.71875 -0.515625 C 7.039062 0.0351562 6.25 0.3125 5.34375 0.3125 C 4.632812 0.3125 4.039062 0.15625 3.5625 -0.15625 C 3.28125 -0.320312 2.96875 -0.625 2.625 -1.0625 L 2.625 3.75 L 1.03125 3.75 Z \"/>\n",
       "</symbol>\n",
       "<symbol overflow=\"visible\" id=\"glyph0-11\">\n",
       "<path style=\"stroke:none;\" d=\"M 1.203125 -9.40625 L 2.703125 -9.40625 L 2.703125 -7.78125 C 2.828125 -8.101562 3.128906 -8.488281 3.609375 -8.9375 C 4.085938 -9.394531 4.644531 -9.625 5.28125 -9.625 C 5.300781 -9.625 5.347656 -9.617188 5.421875 -9.609375 C 5.492188 -9.609375 5.613281 -9.597656 5.78125 -9.578125 L 5.78125 -7.90625 C 5.6875 -7.925781 5.597656 -7.9375 5.515625 -7.9375 C 5.441406 -7.945312 5.359375 -7.953125 5.265625 -7.953125 C 4.460938 -7.953125 3.847656 -7.695312 3.421875 -7.1875 C 2.992188 -6.675781 2.78125 -6.085938 2.78125 -5.421875 L 2.78125 0 L 1.203125 0 Z \"/>\n",
       "</symbol>\n",
       "<symbol overflow=\"visible\" id=\"glyph0-12\">\n",
       "<path style=\"stroke:none;\" d=\"M 2.375 -2.5 C 2.375 -2.039062 2.539062 -1.679688 2.875 -1.421875 C 3.207031 -1.160156 3.601562 -1.03125 4.0625 -1.03125 C 4.613281 -1.03125 5.148438 -1.160156 5.671875 -1.421875 C 6.554688 -1.847656 7 -2.546875 7 -3.515625 L 7 -4.796875 C 6.800781 -4.671875 6.550781 -4.566406 6.25 -4.484375 C 5.945312 -4.398438 5.648438 -4.34375 5.359375 -4.3125 L 4.390625 -4.1875 C 3.816406 -4.101562 3.390625 -3.984375 3.109375 -3.828125 C 2.617188 -3.546875 2.375 -3.101562 2.375 -2.5 Z M 6.203125 -5.703125 C 6.566406 -5.753906 6.8125 -5.90625 6.9375 -6.15625 C 7.007812 -6.300781 7.046875 -6.503906 7.046875 -6.765625 C 7.046875 -7.304688 6.851562 -7.695312 6.46875 -7.9375 C 6.082031 -8.1875 5.53125 -8.3125 4.8125 -8.3125 C 3.988281 -8.3125 3.40625 -8.085938 3.0625 -7.640625 C 2.863281 -7.390625 2.738281 -7.023438 2.6875 -6.546875 L 1.203125 -6.546875 C 1.234375 -7.703125 1.609375 -8.503906 2.328125 -8.953125 C 3.054688 -9.410156 3.898438 -9.640625 4.859375 -9.640625 C 5.960938 -9.640625 6.859375 -9.429688 7.546875 -9.015625 C 8.234375 -8.585938 8.578125 -7.929688 8.578125 -7.046875 L 8.578125 -1.625 C 8.578125 -1.457031 8.609375 -1.320312 8.671875 -1.21875 C 8.742188 -1.125 8.890625 -1.078125 9.109375 -1.078125 C 9.179688 -1.078125 9.257812 -1.078125 9.34375 -1.078125 C 9.425781 -1.085938 9.519531 -1.101562 9.625 -1.125 L 9.625 0.046875 C 9.375 0.117188 9.1875 0.160156 9.0625 0.171875 C 8.9375 0.191406 8.757812 0.203125 8.53125 0.203125 C 7.988281 0.203125 7.59375 0.0078125 7.34375 -0.375 C 7.21875 -0.582031 7.128906 -0.875 7.078125 -1.25 C 6.753906 -0.820312 6.289062 -0.453125 5.6875 -0.140625 C 5.082031 0.160156 4.414062 0.3125 3.6875 0.3125 C 2.8125 0.3125 2.097656 0.046875 1.546875 -0.484375 C 0.992188 -1.015625 0.71875 -1.675781 0.71875 -2.46875 C 0.71875 -3.34375 0.988281 -4.019531 1.53125 -4.5 C 2.082031 -4.976562 2.800781 -5.273438 3.6875 -5.390625 Z M 4.890625 -9.640625 Z \"/>\n",
       "</symbol>\n",
       "<symbol overflow=\"visible\" id=\"glyph0-13\">\n",
       "<path style=\"stroke:none;\" d=\"M 1.484375 -12.046875 L 3.078125 -12.046875 L 3.078125 -9.40625 L 4.578125 -9.40625 L 4.578125 -8.125 L 3.078125 -8.125 L 3.078125 -1.984375 C 3.078125 -1.648438 3.1875 -1.425781 3.40625 -1.3125 C 3.53125 -1.25 3.738281 -1.21875 4.03125 -1.21875 C 4.101562 -1.21875 4.179688 -1.21875 4.265625 -1.21875 C 4.359375 -1.226562 4.460938 -1.238281 4.578125 -1.25 L 4.578125 0 C 4.398438 0.0507812 4.210938 0.0859375 4.015625 0.109375 C 3.816406 0.140625 3.601562 0.15625 3.375 0.15625 C 2.632812 0.15625 2.132812 -0.03125 1.875 -0.40625 C 1.613281 -0.789062 1.484375 -1.285156 1.484375 -1.890625 L 1.484375 -8.125 L 0.203125 -8.125 L 0.203125 -9.40625 L 1.484375 -9.40625 Z \"/>\n",
       "</symbol>\n",
       "<symbol overflow=\"visible\" id=\"glyph0-14\">\n",
       "<path style=\"stroke:none;\" d=\"M 2.75 -9.40625 L 2.75 -3.171875 C 2.75 -2.679688 2.820312 -2.285156 2.96875 -1.984375 C 3.25 -1.421875 3.773438 -1.140625 4.546875 -1.140625 C 5.648438 -1.140625 6.398438 -1.632812 6.796875 -2.625 C 7.015625 -3.144531 7.125 -3.867188 7.125 -4.796875 L 7.125 -9.40625 L 8.703125 -9.40625 L 8.703125 0 L 7.203125 0 L 7.21875 -1.390625 C 7.019531 -1.035156 6.765625 -0.734375 6.453125 -0.484375 C 5.859375 0.00390625 5.128906 0.25 4.265625 0.25 C 2.921875 0.25 2.003906 -0.195312 1.515625 -1.09375 C 1.253906 -1.570312 1.125 -2.210938 1.125 -3.015625 L 1.125 -9.40625 Z M 4.90625 -9.640625 Z \"/>\n",
       "</symbol>\n",
       "<symbol overflow=\"visible\" id=\"glyph0-15\">\n",
       "<path style=\"stroke:none;\" d=\"\"/>\n",
       "</symbol>\n",
       "<symbol overflow=\"visible\" id=\"glyph0-16\">\n",
       "<path style=\"stroke:none;\" d=\"M 1.125 -13 L 4.5 -13 L 4.5 -11.703125 L 2.625 -11.703125 L 2.625 2.25 L 4.5 2.25 L 4.5 3.546875 L 1.125 3.546875 Z \"/>\n",
       "</symbol>\n",
       "<symbol overflow=\"visible\" id=\"glyph0-17\">\n",
       "<path style=\"stroke:none;\" d=\"M 1.53125 -12.90625 L 10.5 -12.90625 L 10.5 -11.328125 L 3.28125 -11.328125 L 3.28125 -7.40625 L 9.625 -7.40625 L 9.625 -5.875 L 3.28125 -5.875 L 3.28125 0 L 1.53125 0 Z \"/>\n",
       "</symbol>\n",
       "<symbol overflow=\"visible\" id=\"glyph0-18\">\n",
       "<path style=\"stroke:none;\" d=\"M 0.40625 2.25 L 2.28125 2.25 L 2.28125 -11.703125 L 0.40625 -11.703125 L 0.40625 -13 L 3.78125 -13 L 3.78125 3.546875 L 0.40625 3.546875 Z \"/>\n",
       "</symbol>\n",
       "<symbol overflow=\"visible\" id=\"glyph1-0\">\n",
       "<path style=\"stroke:none;\" d=\"M 0 -0.578125 L -12.90625 -0.578125 L -12.90625 -10.828125 L 0 -10.828125 Z M -1.625 -9.21875 L -11.296875 -9.21875 L -11.296875 -2.203125 L -1.625 -2.203125 Z \"/>\n",
       "</symbol>\n",
       "<symbol overflow=\"visible\" id=\"glyph1-1\">\n",
       "<path style=\"stroke:none;\" d=\"M -12.59375 -4.875 C -12.59375 -6.5 -11.921875 -7.675781 -10.578125 -8.40625 C -9.535156 -8.96875 -8.113281 -9.25 -6.3125 -9.25 C -4.601562 -9.25 -3.1875 -8.992188 -2.0625 -8.484375 C -0.457031 -7.742188 0.34375 -6.535156 0.34375 -4.859375 C 0.34375 -3.347656 -0.3125 -2.222656 -1.625 -1.484375 C -2.71875 -0.867188 -4.1875 -0.5625 -6.03125 -0.5625 C -7.46875 -0.5625 -8.695312 -0.742188 -9.71875 -1.109375 C -11.632812 -1.804688 -12.59375 -3.0625 -12.59375 -4.875 Z M -1.09375 -4.859375 C -1.09375 -5.671875 -1.457031 -6.320312 -2.1875 -6.8125 C -2.914062 -7.300781 -4.269531 -7.546875 -6.25 -7.546875 C -7.675781 -7.546875 -8.847656 -7.367188 -9.765625 -7.015625 C -10.691406 -6.660156 -11.15625 -5.976562 -11.15625 -4.96875 C -11.15625 -4.03125 -10.71875 -3.347656 -9.84375 -2.921875 C -8.96875 -2.492188 -7.679688 -2.28125 -5.984375 -2.28125 C -4.691406 -2.28125 -3.660156 -2.414062 -2.890625 -2.6875 C -1.691406 -3.113281 -1.09375 -3.835938 -1.09375 -4.859375 Z \"/>\n",
       "</symbol>\n",
       "<symbol overflow=\"visible\" id=\"glyph1-2\">\n",
       "<path style=\"stroke:none;\" d=\"M -1.921875 -1.53125 L -1.921875 -3.375 L 0 -3.375 L 0 -1.53125 Z \"/>\n",
       "</symbol>\n",
       "<symbol overflow=\"visible\" id=\"glyph1-3\">\n",
       "<path style=\"stroke:none;\" d=\"M 0 -0.5625 C -1.082031 -0.625 -2.023438 -0.847656 -2.828125 -1.234375 C -3.628906 -1.617188 -4.359375 -2.378906 -5.015625 -3.515625 L -6 -5.203125 C -6.4375 -5.960938 -6.8125 -6.492188 -7.125 -6.796875 C -7.601562 -7.273438 -8.160156 -7.515625 -8.796875 -7.515625 C -9.523438 -7.515625 -10.101562 -7.296875 -10.53125 -6.859375 C -10.96875 -6.421875 -11.1875 -5.832031 -11.1875 -5.09375 C -11.1875 -4.007812 -10.773438 -3.257812 -9.953125 -2.84375 C -9.515625 -2.625 -8.90625 -2.503906 -8.125 -2.484375 L -8.125 -0.875 C -9.21875 -0.882812 -10.109375 -1.085938 -10.796875 -1.484375 C -12.015625 -2.160156 -12.625 -3.367188 -12.625 -5.109375 C -12.625 -6.546875 -12.234375 -7.597656 -11.453125 -8.265625 C -10.679688 -8.929688 -9.816406 -9.265625 -8.859375 -9.265625 C -7.847656 -9.265625 -6.988281 -8.910156 -6.28125 -8.203125 C -5.863281 -7.785156 -5.359375 -7.050781 -4.765625 -6 L -4.09375 -4.796875 C -3.78125 -4.210938 -3.476562 -3.757812 -3.1875 -3.4375 C -2.675781 -2.851562 -2.113281 -2.484375 -1.5 -2.328125 L -1.5 -9.203125 L 0 -9.203125 Z \"/>\n",
       "</symbol>\n",
       "<symbol overflow=\"visible\" id=\"glyph1-4\">\n",
       "<path style=\"stroke:none;\" d=\"M -4.453125 -5.953125 L -10.15625 -5.953125 L -4.453125 -1.921875 Z M 0 -5.984375 L -3.078125 -5.984375 L -3.078125 -0.453125 L -4.625 -0.453125 L -12.625 -6.21875 L -12.625 -7.5625 L -4.453125 -7.5625 L -4.453125 -9.40625 L -3.078125 -9.40625 L -3.078125 -7.5625 L 0 -7.5625 Z \"/>\n",
       "</symbol>\n",
       "<symbol overflow=\"visible\" id=\"glyph1-5\">\n",
       "<path style=\"stroke:none;\" d=\"M -12.640625 -5.265625 C -12.640625 -6.671875 -12.273438 -7.648438 -11.546875 -8.203125 C -10.816406 -8.753906 -10.066406 -9.03125 -9.296875 -9.03125 L -9.296875 -7.46875 C -9.785156 -7.375 -10.171875 -7.222656 -10.453125 -7.015625 C -10.984375 -6.640625 -11.25 -6.066406 -11.25 -5.296875 C -11.25 -4.410156 -10.835938 -3.707031 -10.015625 -3.1875 C -9.203125 -2.664062 -8.035156 -2.375 -6.515625 -2.3125 C -7.046875 -2.675781 -7.441406 -3.132812 -7.703125 -3.6875 C -7.941406 -4.1875 -8.0625 -4.75 -8.0625 -5.375 C -8.0625 -6.425781 -7.722656 -7.34375 -7.046875 -8.125 C -6.367188 -8.914062 -5.363281 -9.3125 -4.03125 -9.3125 C -2.894531 -9.3125 -1.882812 -8.9375 -1 -8.1875 C -0.113281 -7.445312 0.328125 -6.390625 0.328125 -5.015625 C 0.328125 -3.835938 -0.117188 -2.816406 -1.015625 -1.953125 C -1.910156 -1.097656 -3.414062 -0.671875 -5.53125 -0.671875 C -7.09375 -0.671875 -8.421875 -0.863281 -9.515625 -1.25 C -11.597656 -1.976562 -12.640625 -3.316406 -12.640625 -5.265625 Z M -1.078125 -5.15625 C -1.078125 -5.988281 -1.359375 -6.609375 -1.921875 -7.015625 C -2.484375 -7.429688 -3.144531 -7.640625 -3.90625 -7.640625 C -4.550781 -7.640625 -5.164062 -7.453125 -5.75 -7.078125 C -6.332031 -6.710938 -6.625 -6.046875 -6.625 -5.078125 C -6.625 -4.390625 -6.394531 -3.789062 -5.9375 -3.28125 C -5.488281 -2.769531 -4.8125 -2.515625 -3.90625 -2.515625 C -3.101562 -2.515625 -2.429688 -2.742188 -1.890625 -3.203125 C -1.347656 -3.671875 -1.078125 -4.320312 -1.078125 -5.15625 Z \"/>\n",
       "</symbol>\n",
       "<symbol overflow=\"visible\" id=\"glyph1-6\">\n",
       "<path style=\"stroke:none;\" d=\"M -7.3125 -4.890625 C -7.3125 -5.585938 -7.503906 -6.132812 -7.890625 -6.53125 C -8.285156 -6.925781 -8.753906 -7.125 -9.296875 -7.125 C -9.765625 -7.125 -10.191406 -6.9375 -10.578125 -6.5625 C -10.972656 -6.1875 -11.171875 -5.613281 -11.171875 -4.84375 C -11.171875 -4.082031 -10.972656 -3.53125 -10.578125 -3.1875 C -10.191406 -2.851562 -9.734375 -2.6875 -9.203125 -2.6875 C -8.609375 -2.6875 -8.144531 -2.90625 -7.8125 -3.34375 C -7.476562 -3.78125 -7.3125 -4.296875 -7.3125 -4.890625 Z M -1.078125 -5 C -1.078125 -5.726562 -1.273438 -6.332031 -1.671875 -6.8125 C -2.066406 -7.300781 -2.660156 -7.546875 -3.453125 -7.546875 C -4.265625 -7.546875 -4.878906 -7.296875 -5.296875 -6.796875 C -5.722656 -6.296875 -5.9375 -5.65625 -5.9375 -4.875 C -5.9375 -4.125 -5.71875 -3.507812 -5.28125 -3.03125 C -4.851562 -2.550781 -4.257812 -2.3125 -3.5 -2.3125 C -2.84375 -2.3125 -2.273438 -2.53125 -1.796875 -2.96875 C -1.316406 -3.40625 -1.078125 -4.082031 -1.078125 -5 Z M -6.703125 -2.75 C -6.890625 -2.300781 -7.109375 -1.957031 -7.359375 -1.71875 C -7.828125 -1.25 -8.4375 -1.015625 -9.1875 -1.015625 C -10.125 -1.015625 -10.929688 -1.351562 -11.609375 -2.03125 C -12.285156 -2.71875 -12.625 -3.6875 -12.625 -4.9375 C -12.625 -6.132812 -12.304688 -7.078125 -11.671875 -7.765625 C -11.035156 -8.453125 -10.289062 -8.796875 -9.4375 -8.796875 C -8.65625 -8.796875 -8.019531 -8.597656 -7.53125 -8.203125 C -7.257812 -7.972656 -6.988281 -7.625 -6.71875 -7.15625 C -6.476562 -7.6875 -6.203125 -8.097656 -5.890625 -8.390625 C -5.304688 -8.953125 -4.546875 -9.234375 -3.609375 -9.234375 C -2.503906 -9.234375 -1.566406 -8.859375 -0.796875 -8.109375 C -0.0234375 -7.367188 0.359375 -6.316406 0.359375 -4.953125 C 0.359375 -3.734375 0.0234375 -2.695312 -0.640625 -1.84375 C -1.304688 -1 -2.269531 -0.578125 -3.53125 -0.578125 C -4.28125 -0.578125 -4.925781 -0.757812 -5.46875 -1.125 C -6.007812 -1.488281 -6.421875 -2.03125 -6.703125 -2.75 Z \"/>\n",
       "</symbol>\n",
       "<symbol overflow=\"visible\" id=\"glyph1-7\">\n",
       "<path style=\"stroke:none;\" d=\"M -8.90625 -1.71875 L -10.125 -1.71875 C -10.238281 -2.863281 -10.425781 -3.660156 -10.6875 -4.109375 C -10.945312 -4.566406 -11.5625 -4.90625 -12.53125 -5.125 L -12.53125 -6.375 L 0 -6.375 L 0 -4.6875 L -8.90625 -4.6875 Z \"/>\n",
       "</symbol>\n",
       "<symbol overflow=\"visible\" id=\"glyph1-8\">\n",
       "<path style=\"stroke:none;\" d=\"M -12.90625 -1.53125 L -12.90625 -7.34375 C -12.90625 -8.5 -12.582031 -9.425781 -11.9375 -10.125 C -11.289062 -10.832031 -10.382812 -11.1875 -9.21875 -11.1875 C -8.207031 -11.1875 -7.328125 -10.867188 -6.578125 -10.234375 C -5.828125 -9.609375 -5.453125 -8.644531 -5.453125 -7.34375 L -5.453125 -3.28125 L 0 -3.28125 L 0 -1.53125 Z M -9.203125 -9.40625 C -10.148438 -9.40625 -10.796875 -9.054688 -11.140625 -8.359375 C -11.316406 -7.972656 -11.40625 -7.441406 -11.40625 -6.765625 L -11.40625 -3.28125 L -6.9375 -3.28125 L -6.9375 -6.765625 C -6.9375 -7.554688 -7.101562 -8.191406 -7.4375 -8.671875 C -7.769531 -9.160156 -8.359375 -9.40625 -9.203125 -9.40625 Z \"/>\n",
       "</symbol>\n",
       "<symbol overflow=\"visible\" id=\"glyph1-9\">\n",
       "<path style=\"stroke:none;\" d=\"M -13.125 -5.328125 C -11.332031 -4.410156 -10.015625 -3.8125 -9.171875 -3.53125 C -7.890625 -3.113281 -6.410156 -2.90625 -4.734375 -2.90625 C -3.035156 -2.90625 -1.484375 -3.144531 -0.078125 -3.625 C 0.796875 -3.914062 2.046875 -4.492188 3.671875 -5.359375 L 3.671875 -4.296875 C 2.335938 -3.429688 1.484375 -2.894531 1.109375 -2.6875 C 0.742188 -2.488281 0.242188 -2.269531 -0.390625 -2.03125 C -1.253906 -1.695312 -2.179688 -1.46875 -3.171875 -1.34375 C -3.671875 -1.28125 -4.15625 -1.25 -4.625 -1.25 C -6.351562 -1.25 -7.894531 -1.519531 -9.25 -2.0625 C -10.113281 -2.40625 -11.40625 -3.128906 -13.125 -4.234375 Z \"/>\n",
       "</symbol>\n",
       "<symbol overflow=\"visible\" id=\"glyph1-10\">\n",
       "<path style=\"stroke:none;\" d=\"M -4.171875 -2.515625 C -3.429688 -2.554688 -2.832031 -2.726562 -2.375 -3.03125 C -1.519531 -3.613281 -1.09375 -4.632812 -1.09375 -6.09375 C -1.09375 -6.75 -1.1875 -7.347656 -1.375 -7.890625 C -1.738281 -8.929688 -2.390625 -9.453125 -3.328125 -9.453125 C -4.035156 -9.453125 -4.535156 -9.234375 -4.828125 -8.796875 C -5.128906 -8.347656 -5.382812 -7.648438 -5.59375 -6.703125 L -6 -4.953125 C -6.25 -3.816406 -6.53125 -3.007812 -6.84375 -2.53125 C -7.382812 -1.707031 -8.191406 -1.296875 -9.265625 -1.296875 C -10.421875 -1.296875 -11.367188 -1.695312 -12.109375 -2.5 C -12.859375 -3.300781 -13.234375 -4.441406 -13.234375 -5.921875 C -13.234375 -7.273438 -12.90625 -8.421875 -12.25 -9.359375 C -11.601562 -10.304688 -10.5625 -10.78125 -9.125 -10.78125 L -9.125 -9.140625 C -9.8125 -9.054688 -10.34375 -8.867188 -10.71875 -8.578125 C -11.382812 -8.046875 -11.71875 -7.140625 -11.71875 -5.859375 C -11.71875 -4.828125 -11.5 -4.085938 -11.0625 -3.640625 C -10.632812 -3.191406 -10.132812 -2.96875 -9.5625 -2.96875 C -8.925781 -2.96875 -8.460938 -3.226562 -8.171875 -3.75 C -7.984375 -4.09375 -7.75 -4.875 -7.46875 -6.09375 L -7.0625 -7.90625 C -6.863281 -8.78125 -6.585938 -9.457031 -6.234375 -9.9375 C -5.628906 -10.75 -4.753906 -11.15625 -3.609375 -11.15625 C -2.179688 -11.15625 -1.160156 -10.632812 -0.546875 -9.59375 C 0.0664062 -8.5625 0.375 -7.359375 0.375 -5.984375 C 0.375 -4.367188 -0.0351562 -3.109375 -0.859375 -2.203125 C -1.671875 -1.296875 -2.773438 -0.851562 -4.171875 -0.875 Z M -13.265625 -6.046875 Z \"/>\n",
       "</symbol>\n",
       "<symbol overflow=\"visible\" id=\"glyph1-11\">\n",
       "<path style=\"stroke:none;\" d=\"M -7.21875 -9.96875 L -5.75 -9.96875 L -5.75 -0.8125 L -7.21875 -0.8125 Z M -3.453125 -9.96875 L -1.953125 -9.96875 L -1.953125 -0.8125 L -3.453125 -0.8125 Z \"/>\n",
       "</symbol>\n",
       "<symbol overflow=\"visible\" id=\"glyph1-12\">\n",
       "<path style=\"stroke:none;\" d=\"M -11.078125 -2.75 L -11.078125 -1.15625 L -12.90625 -1.15625 L -12.90625 -2.75 Z M 2.375 0.328125 C 2.351562 -0.378906 2.289062 -0.800781 2.1875 -0.9375 C 2.09375 -1.082031 1.773438 -1.15625 1.234375 -1.15625 L -9.375 -1.15625 L -9.375 -2.75 L 1.390625 -2.75 C 2.078125 -2.75 2.59375 -2.632812 2.9375 -2.40625 C 3.507812 -2.039062 3.796875 -1.34375 3.796875 -0.3125 C 3.796875 -0.226562 3.789062 -0.144531 3.78125 -0.0625 C 3.78125 0.0195312 3.769531 0.148438 3.75 0.328125 Z \"/>\n",
       "</symbol>\n",
       "<symbol overflow=\"visible\" id=\"glyph1-13\">\n",
       "<path style=\"stroke:none;\" d=\"M 1.84375 -2 C 1.757812 -2.40625 1.484375 -2.6875 1.015625 -2.84375 C 0.773438 -2.925781 0.507812 -2.96875 0.21875 -2.96875 C 0.1875 -2.96875 0.160156 -2.96875 0.140625 -2.96875 C 0.117188 -2.96875 0.0703125 -2.960938 0 -2.953125 L 0 -2 L -1.921875 -2 L -1.921875 -3.875 L -0.140625 -3.875 C 0.484375 -3.875 1.007812 -3.78125 1.4375 -3.59375 C 2.125 -3.289062 2.535156 -2.757812 2.671875 -2 Z M -9.296875 -2 L -9.296875 -3.875 L -7.375 -3.875 L -7.375 -2 Z \"/>\n",
       "</symbol>\n",
       "<symbol overflow=\"visible\" id=\"glyph1-14\">\n",
       "<path style=\"stroke:none;\" d=\"M -12.90625 -10.765625 L -11.375 -10.765625 L -11.375 -6.421875 L 0 -6.421875 L 0 -4.640625 L -11.375 -4.640625 L -11.375 -0.296875 L -12.90625 -0.296875 Z \"/>\n",
       "</symbol>\n",
       "<symbol overflow=\"visible\" id=\"glyph1-15\">\n",
       "<path style=\"stroke:none;\" d=\"M 3.671875 -0.625 C 1.859375 -1.550781 0.535156 -2.148438 -0.296875 -2.421875 C -1.554688 -2.835938 -3.035156 -3.046875 -4.734375 -3.046875 C -6.421875 -3.046875 -7.96875 -2.804688 -9.375 -2.328125 C -10.238281 -2.035156 -11.488281 -1.457031 -13.125 -0.59375 L -13.125 -1.65625 C -11.675781 -2.5625 -10.785156 -3.109375 -10.453125 -3.296875 C -10.117188 -3.492188 -9.65625 -3.703125 -9.0625 -3.921875 C -8.332031 -4.203125 -7.609375 -4.398438 -6.890625 -4.515625 C -6.171875 -4.640625 -5.484375 -4.703125 -4.828125 -4.703125 C -3.085938 -4.703125 -1.539062 -4.425781 -0.1875 -3.875 C 0.6875 -3.53125 1.972656 -2.8125 3.671875 -1.71875 Z \"/>\n",
       "</symbol>\n",
       "<symbol overflow=\"visible\" id=\"glyph2-0\">\n",
       "<path style=\"stroke:none;\" d=\"M 1.359375 0 L 1.359375 -12.953125 L 11.78125 -12.953125 L 11.78125 0 Z M 10.171875 -1.625 L 10.171875 -11.34375 L 2.96875 -11.34375 L 2.96875 -1.625 Z \"/>\n",
       "</symbol>\n",
       "<symbol overflow=\"visible\" id=\"glyph2-1\">\n",
       "<path style=\"stroke:none;\" d=\"M 10.78125 -12.953125 L 10.78125 -10.65625 L 6.90625 -10.65625 L 6.90625 0 L 4.1875 0 L 4.1875 -10.65625 L 0.296875 -10.65625 L 0.296875 -12.953125 Z \"/>\n",
       "</symbol>\n",
       "<symbol overflow=\"visible\" id=\"glyph2-2\">\n",
       "<path style=\"stroke:none;\" d=\"M 6.453125 -9.828125 C 7.046875 -9.828125 7.582031 -9.722656 8.0625 -9.515625 C 8.550781 -9.316406 8.945312 -9.003906 9.25 -8.578125 C 9.519531 -8.222656 9.679688 -7.851562 9.734375 -7.46875 C 9.796875 -7.09375 9.828125 -6.476562 9.828125 -5.625 L 9.828125 0 L 7.265625 0 L 7.265625 -5.828125 C 7.265625 -6.335938 7.175781 -6.753906 7 -7.078125 C 6.769531 -7.523438 6.335938 -7.75 5.703125 -7.75 C 5.046875 -7.75 4.546875 -7.523438 4.203125 -7.078125 C 3.859375 -6.640625 3.6875 -6.007812 3.6875 -5.1875 L 3.6875 0 L 1.1875 0 L 1.1875 -12.90625 L 3.6875 -12.90625 L 3.6875 -8.328125 C 4.050781 -8.890625 4.46875 -9.28125 4.9375 -9.5 C 5.414062 -9.71875 5.921875 -9.828125 6.453125 -9.828125 Z \"/>\n",
       "</symbol>\n",
       "<symbol overflow=\"visible\" id=\"glyph2-3\">\n",
       "<path style=\"stroke:none;\" d=\"M 4.953125 -7.765625 C 4.367188 -7.765625 3.914062 -7.582031 3.59375 -7.21875 C 3.28125 -6.863281 3.082031 -6.375 3 -5.75 L 6.890625 -5.75 C 6.847656 -6.40625 6.644531 -6.90625 6.28125 -7.25 C 5.925781 -7.59375 5.484375 -7.765625 4.953125 -7.765625 Z M 4.953125 -9.828125 C 5.742188 -9.828125 6.457031 -9.675781 7.09375 -9.375 C 7.738281 -9.082031 8.269531 -8.613281 8.6875 -7.96875 C 9.0625 -7.40625 9.300781 -6.75 9.40625 -6 C 9.476562 -5.550781 9.507812 -4.914062 9.5 -4.09375 L 2.9375 -4.09375 C 2.96875 -3.132812 3.269531 -2.460938 3.84375 -2.078125 C 4.1875 -1.835938 4.601562 -1.71875 5.09375 -1.71875 C 5.601562 -1.71875 6.019531 -1.863281 6.34375 -2.15625 C 6.519531 -2.3125 6.675781 -2.53125 6.8125 -2.8125 L 9.375 -2.8125 C 9.300781 -2.238281 9.003906 -1.660156 8.484375 -1.078125 C 7.660156 -0.148438 6.507812 0.3125 5.03125 0.3125 C 3.8125 0.3125 2.734375 -0.078125 1.796875 -0.859375 C 0.867188 -1.648438 0.40625 -2.925781 0.40625 -4.6875 C 0.40625 -6.351562 0.828125 -7.625 1.671875 -8.5 C 2.515625 -9.382812 3.609375 -9.828125 4.953125 -9.828125 Z M 5.125 -9.828125 Z \"/>\n",
       "</symbol>\n",
       "<symbol overflow=\"visible\" id=\"glyph2-4\">\n",
       "<path style=\"stroke:none;\" d=\"M 6.375 -9.8125 C 6.414062 -9.8125 6.453125 -9.804688 6.484375 -9.796875 C 6.523438 -9.796875 6.597656 -9.796875 6.703125 -9.796875 L 6.703125 -7.21875 C 6.546875 -7.238281 6.40625 -7.25 6.28125 -7.25 C 6.15625 -7.257812 6.054688 -7.265625 5.984375 -7.265625 C 4.972656 -7.265625 4.296875 -6.9375 3.953125 -6.28125 C 3.765625 -5.914062 3.671875 -5.347656 3.671875 -4.578125 L 3.671875 0 L 1.140625 0 L 1.140625 -9.578125 L 3.53125 -9.578125 L 3.53125 -7.90625 C 3.914062 -8.550781 4.253906 -8.988281 4.546875 -9.21875 C 5.015625 -9.613281 5.625 -9.8125 6.375 -9.8125 Z \"/>\n",
       "</symbol>\n",
       "<symbol overflow=\"visible\" id=\"glyph2-5\">\n",
       "<path style=\"stroke:none;\" d=\"M 11.875 -9.796875 C 12.289062 -9.796875 12.703125 -9.710938 13.109375 -9.546875 C 13.523438 -9.378906 13.898438 -9.09375 14.234375 -8.6875 C 14.503906 -8.351562 14.6875 -7.941406 14.78125 -7.453125 C 14.84375 -7.128906 14.875 -6.65625 14.875 -6.03125 L 14.859375 0 L 12.28125 0 L 12.28125 -6.09375 C 12.28125 -6.457031 12.222656 -6.757812 12.109375 -7 C 11.890625 -7.445312 11.476562 -7.671875 10.875 -7.671875 C 10.1875 -7.671875 9.710938 -7.378906 9.453125 -6.796875 C 9.316406 -6.492188 9.25 -6.128906 9.25 -5.703125 L 9.25 0 L 6.71875 0 L 6.71875 -5.703125 C 6.71875 -6.273438 6.660156 -6.6875 6.546875 -6.9375 C 6.335938 -7.40625 5.925781 -7.640625 5.3125 -7.640625 C 4.59375 -7.640625 4.113281 -7.40625 3.875 -6.9375 C 3.738281 -6.675781 3.671875 -6.285156 3.671875 -5.765625 L 3.671875 0 L 1.125 0 L 1.125 -9.5625 L 3.5625 -9.5625 L 3.5625 -8.171875 C 3.875 -8.660156 4.164062 -9.015625 4.4375 -9.234375 C 4.925781 -9.609375 5.554688 -9.796875 6.328125 -9.796875 C 7.054688 -9.796875 7.648438 -9.632812 8.109375 -9.3125 C 8.472656 -9.007812 8.75 -8.625 8.9375 -8.15625 C 9.257812 -8.71875 9.664062 -9.128906 10.15625 -9.390625 C 10.664062 -9.660156 11.238281 -9.796875 11.875 -9.796875 Z \"/>\n",
       "</symbol>\n",
       "<symbol overflow=\"visible\" id=\"glyph2-6\">\n",
       "<path style=\"stroke:none;\" d=\"M 6.453125 -4.65625 C 6.296875 -4.5625 6.132812 -4.484375 5.96875 -4.421875 C 5.8125 -4.359375 5.59375 -4.300781 5.3125 -4.25 L 4.75 -4.140625 C 4.21875 -4.046875 3.835938 -3.929688 3.609375 -3.796875 C 3.222656 -3.566406 3.03125 -3.210938 3.03125 -2.734375 C 3.03125 -2.304688 3.148438 -1.992188 3.390625 -1.796875 C 3.628906 -1.609375 3.914062 -1.515625 4.25 -1.515625 C 4.789062 -1.515625 5.285156 -1.671875 5.734375 -1.984375 C 6.191406 -2.304688 6.429688 -2.890625 6.453125 -3.734375 Z M 4.9375 -5.828125 C 5.394531 -5.890625 5.722656 -5.960938 5.921875 -6.046875 C 6.273438 -6.203125 6.453125 -6.441406 6.453125 -6.765625 C 6.453125 -7.148438 6.316406 -7.414062 6.046875 -7.5625 C 5.773438 -7.71875 5.378906 -7.796875 4.859375 -7.796875 C 4.265625 -7.796875 3.84375 -7.648438 3.59375 -7.359375 C 3.414062 -7.140625 3.300781 -6.847656 3.25 -6.484375 L 0.828125 -6.484375 C 0.878906 -7.316406 1.113281 -8.003906 1.53125 -8.546875 C 2.1875 -9.390625 3.320312 -9.8125 4.9375 -9.8125 C 5.988281 -9.8125 6.921875 -9.601562 7.734375 -9.1875 C 8.546875 -8.769531 8.953125 -7.984375 8.953125 -6.828125 L 8.953125 -2.4375 C 8.953125 -2.132812 8.957031 -1.765625 8.96875 -1.328125 C 8.988281 -0.992188 9.039062 -0.769531 9.125 -0.65625 C 9.207031 -0.539062 9.332031 -0.445312 9.5 -0.375 L 9.5 0 L 6.765625 0 C 6.691406 -0.195312 6.640625 -0.378906 6.609375 -0.546875 C 6.578125 -0.710938 6.554688 -0.90625 6.546875 -1.125 C 6.191406 -0.75 5.789062 -0.429688 5.34375 -0.171875 C 4.800781 0.140625 4.191406 0.296875 3.515625 0.296875 C 2.648438 0.296875 1.929688 0.0507812 1.359375 -0.4375 C 0.796875 -0.9375 0.515625 -1.640625 0.515625 -2.546875 C 0.515625 -3.722656 0.96875 -4.578125 1.875 -5.109375 C 2.375 -5.390625 3.109375 -5.59375 4.078125 -5.71875 Z M 5.0625 -9.828125 Z \"/>\n",
       "</symbol>\n",
       "<symbol overflow=\"visible\" id=\"glyph2-7\">\n",
       "<path style=\"stroke:none;\" d=\"M 3.734375 0 L 1.21875 0 L 1.21875 -12.953125 L 3.734375 -12.953125 Z \"/>\n",
       "</symbol>\n",
       "<symbol overflow=\"visible\" id=\"glyph2-8\">\n",
       "<path style=\"stroke:none;\" d=\"\"/>\n",
       "</symbol>\n",
       "<symbol overflow=\"visible\" id=\"glyph2-9\">\n",
       "<path style=\"stroke:none;\" d=\"M 4.078125 -10.703125 L 4.078125 -7.21875 L 7.140625 -7.21875 C 7.753906 -7.21875 8.210938 -7.289062 8.515625 -7.4375 C 9.054688 -7.6875 9.328125 -8.171875 9.328125 -8.890625 C 9.328125 -9.679688 9.066406 -10.210938 8.546875 -10.484375 C 8.253906 -10.628906 7.8125 -10.703125 7.21875 -10.703125 Z M 7.78125 -12.953125 C 8.695312 -12.929688 9.398438 -12.816406 9.890625 -12.609375 C 10.378906 -12.410156 10.789062 -12.113281 11.125 -11.71875 C 11.40625 -11.382812 11.628906 -11.019531 11.796875 -10.625 C 11.960938 -10.226562 12.046875 -9.773438 12.046875 -9.265625 C 12.046875 -8.648438 11.890625 -8.046875 11.578125 -7.453125 C 11.265625 -6.859375 10.75 -6.4375 10.03125 -6.1875 C 10.632812 -5.945312 11.0625 -5.601562 11.3125 -5.15625 C 11.5625 -4.71875 11.6875 -4.046875 11.6875 -3.140625 L 11.6875 -2.265625 C 11.6875 -1.671875 11.707031 -1.269531 11.75 -1.0625 C 11.820312 -0.726562 11.988281 -0.484375 12.25 -0.328125 L 12.25 0 L 9.265625 0 C 9.179688 -0.289062 9.125 -0.519531 9.09375 -0.6875 C 9.019531 -1.050781 8.976562 -1.425781 8.96875 -1.8125 L 8.953125 -3.015625 C 8.941406 -3.835938 8.789062 -4.382812 8.5 -4.65625 C 8.207031 -4.9375 7.664062 -5.078125 6.875 -5.078125 L 4.078125 -5.078125 L 4.078125 0 L 1.4375 0 L 1.4375 -12.953125 Z \"/>\n",
       "</symbol>\n",
       "<symbol overflow=\"visible\" id=\"glyph2-10\">\n",
       "<path style=\"stroke:none;\" d=\"M 5.28125 -2.0625 C 5.863281 -2.0625 6.359375 -2.28125 6.765625 -2.71875 C 7.171875 -3.164062 7.375 -3.867188 7.375 -4.828125 C 7.375 -5.742188 7.179688 -6.4375 6.796875 -6.90625 C 6.410156 -7.382812 5.894531 -7.625 5.25 -7.625 C 4.375 -7.625 3.769531 -7.207031 3.4375 -6.375 C 3.257812 -5.9375 3.171875 -5.394531 3.171875 -4.75 C 3.171875 -4.195312 3.265625 -3.703125 3.453125 -3.265625 C 3.796875 -2.460938 4.40625 -2.0625 5.28125 -2.0625 Z M 4.65625 -9.8125 C 5.132812 -9.8125 5.554688 -9.738281 5.921875 -9.59375 C 6.523438 -9.34375 7.015625 -8.878906 7.390625 -8.203125 L 7.390625 -9.578125 L 9.828125 -9.578125 L 9.828125 -0.5 C 9.828125 0.738281 9.617188 1.671875 9.203125 2.296875 C 8.484375 3.378906 7.113281 3.921875 5.09375 3.921875 C 3.863281 3.921875 2.863281 3.679688 2.09375 3.203125 C 1.320312 2.722656 0.894531 2.003906 0.8125 1.046875 L 3.53125 1.046875 C 3.601562 1.335938 3.71875 1.546875 3.875 1.671875 C 4.144531 1.898438 4.597656 2.015625 5.234375 2.015625 C 6.140625 2.015625 6.742188 1.710938 7.046875 1.109375 C 7.242188 0.722656 7.34375 0.078125 7.34375 -0.828125 L 7.34375 -1.453125 C 7.101562 -1.035156 6.847656 -0.726562 6.578125 -0.53125 C 6.078125 -0.144531 5.425781 0.046875 4.625 0.046875 C 3.394531 0.046875 2.410156 -0.382812 1.671875 -1.25 C 0.941406 -2.113281 0.578125 -3.285156 0.578125 -4.765625 C 0.578125 -6.191406 0.929688 -7.390625 1.640625 -8.359375 C 2.347656 -9.328125 3.351562 -9.8125 4.65625 -9.8125 Z M 5.453125 -9.828125 Z \"/>\n",
       "</symbol>\n",
       "<symbol overflow=\"visible\" id=\"glyph2-11\">\n",
       "<path style=\"stroke:none;\" d=\"M 3.75 -10.71875 L 1.203125 -10.71875 L 1.203125 -13.03125 L 3.75 -13.03125 Z M 1.203125 -9.578125 L 3.75 -9.578125 L 3.75 0 L 1.203125 0 Z \"/>\n",
       "</symbol>\n",
       "<symbol overflow=\"visible\" id=\"glyph2-12\">\n",
       "<path style=\"stroke:none;\" d=\"M 7.765625 -4.796875 C 7.765625 -5.523438 7.597656 -6.175781 7.265625 -6.75 C 6.929688 -7.320312 6.382812 -7.609375 5.625 -7.609375 C 4.71875 -7.609375 4.09375 -7.175781 3.75 -6.3125 C 3.570312 -5.851562 3.484375 -5.273438 3.484375 -4.578125 C 3.484375 -3.460938 3.78125 -2.675781 4.375 -2.21875 C 4.726562 -1.957031 5.144531 -1.828125 5.625 -1.828125 C 6.320312 -1.828125 6.851562 -2.097656 7.21875 -2.640625 C 7.582031 -3.179688 7.765625 -3.898438 7.765625 -4.796875 Z M 6.34375 -9.796875 C 7.46875 -9.796875 8.414062 -9.378906 9.1875 -8.546875 C 9.96875 -7.722656 10.359375 -6.507812 10.359375 -4.90625 C 10.359375 -3.21875 9.976562 -1.929688 9.21875 -1.046875 C 8.457031 -0.171875 7.476562 0.265625 6.28125 0.265625 C 5.519531 0.265625 4.890625 0.078125 4.390625 -0.296875 C 4.109375 -0.503906 3.835938 -0.8125 3.578125 -1.21875 L 3.578125 3.765625 L 1.09375 3.765625 L 1.09375 -9.578125 L 3.5 -9.578125 L 3.5 -8.171875 C 3.769531 -8.585938 4.054688 -8.914062 4.359375 -9.15625 C 4.910156 -9.582031 5.570312 -9.796875 6.34375 -9.796875 Z \"/>\n",
       "</symbol>\n",
       "<symbol overflow=\"visible\" id=\"glyph2-13\">\n",
       "<path style=\"stroke:none;\" d=\"M 0.1875 -7.703125 L 0.1875 -9.5 L 1.515625 -9.5 L 1.515625 -12.171875 L 4 -12.171875 L 4 -9.5 L 5.5625 -9.5 L 5.5625 -7.703125 L 4 -7.703125 L 4 -2.640625 C 4 -2.253906 4.046875 -2.007812 4.140625 -1.90625 C 4.242188 -1.8125 4.550781 -1.765625 5.0625 -1.765625 C 5.132812 -1.765625 5.210938 -1.765625 5.296875 -1.765625 C 5.390625 -1.773438 5.476562 -1.78125 5.5625 -1.78125 L 5.5625 0.09375 L 4.375 0.125 C 3.1875 0.164062 2.375 -0.0351562 1.9375 -0.484375 C 1.65625 -0.773438 1.515625 -1.21875 1.515625 -1.8125 L 1.515625 -7.703125 Z \"/>\n",
       "</symbol>\n",
       "<symbol overflow=\"visible\" id=\"glyph2-14\">\n",
       "<path style=\"stroke:none;\" d=\"M 3.671875 -9.578125 L 3.671875 -3.8125 C 3.671875 -3.257812 3.734375 -2.847656 3.859375 -2.578125 C 4.085938 -2.085938 4.535156 -1.84375 5.203125 -1.84375 C 6.054688 -1.84375 6.644531 -2.191406 6.96875 -2.890625 C 7.125 -3.265625 7.203125 -3.757812 7.203125 -4.375 L 7.203125 -9.578125 L 9.75 -9.578125 L 9.75 0 L 7.3125 0 L 7.3125 -1.359375 C 7.289062 -1.328125 7.234375 -1.238281 7.140625 -1.09375 C 7.046875 -0.945312 6.929688 -0.816406 6.796875 -0.703125 C 6.410156 -0.347656 6.03125 -0.109375 5.65625 0.015625 C 5.289062 0.148438 4.863281 0.21875 4.375 0.21875 C 2.957031 0.21875 2.003906 -0.289062 1.515625 -1.3125 C 1.234375 -1.875 1.09375 -2.707031 1.09375 -3.8125 L 1.09375 -9.578125 Z M 5.421875 -9.828125 Z \"/>\n",
       "</symbol>\n",
       "<symbol overflow=\"visible\" id=\"glyph2-15\">\n",
       "<path style=\"stroke:none;\" d=\"M 8.671875 -8.828125 C 8.671875 -9.503906 8.492188 -9.984375 8.140625 -10.265625 C 7.785156 -10.554688 7.285156 -10.703125 6.640625 -10.703125 L 4.125 -10.703125 L 4.125 -6.890625 L 6.640625 -6.890625 C 7.285156 -6.890625 7.785156 -7.046875 8.140625 -7.359375 C 8.492188 -7.671875 8.671875 -8.160156 8.671875 -8.828125 Z M 11.34375 -8.84375 C 11.34375 -7.320312 10.957031 -6.242188 10.1875 -5.609375 C 9.414062 -4.972656 8.3125 -4.65625 6.875 -4.65625 L 4.125 -4.65625 L 4.125 0 L 1.4375 0 L 1.4375 -12.953125 L 7.078125 -12.953125 C 8.378906 -12.953125 9.414062 -12.617188 10.1875 -11.953125 C 10.957031 -11.285156 11.34375 -10.25 11.34375 -8.84375 Z \"/>\n",
       "</symbol>\n",
       "<symbol overflow=\"visible\" id=\"glyph2-16\">\n",
       "<path style=\"stroke:none;\" d=\"M 5.46875 -1.765625 C 6.195312 -1.765625 6.757812 -2.023438 7.15625 -2.546875 C 7.550781 -3.066406 7.75 -3.804688 7.75 -4.765625 C 7.75 -5.734375 7.550781 -6.472656 7.15625 -6.984375 C 6.757812 -7.503906 6.195312 -7.765625 5.46875 -7.765625 C 4.738281 -7.765625 4.175781 -7.503906 3.78125 -6.984375 C 3.382812 -6.472656 3.1875 -5.734375 3.1875 -4.765625 C 3.1875 -3.804688 3.382812 -3.066406 3.78125 -2.546875 C 4.175781 -2.023438 4.738281 -1.765625 5.46875 -1.765625 Z M 10.375 -4.765625 C 10.375 -3.359375 9.96875 -2.15625 9.15625 -1.15625 C 8.351562 -0.164062 7.125 0.328125 5.46875 0.328125 C 3.820312 0.328125 2.59375 -0.164062 1.78125 -1.15625 C 0.976562 -2.15625 0.578125 -3.359375 0.578125 -4.765625 C 0.578125 -6.148438 0.976562 -7.347656 1.78125 -8.359375 C 2.59375 -9.378906 3.820312 -9.890625 5.46875 -9.890625 C 7.125 -9.890625 8.351562 -9.378906 9.15625 -8.359375 C 9.96875 -7.347656 10.375 -6.148438 10.375 -4.765625 Z M 5.46875 -9.828125 Z \"/>\n",
       "</symbol>\n",
       "<symbol overflow=\"visible\" id=\"glyph2-17\">\n",
       "<path style=\"stroke:none;\" d=\"M 4.703125 -13.09375 C 4.859375 -13.09375 5 -13.085938 5.125 -13.078125 C 5.257812 -13.066406 5.4375 -13.050781 5.65625 -13.03125 L 5.65625 -11 C 5.519531 -11.007812 5.285156 -11.019531 4.953125 -11.03125 C 4.617188 -11.039062 4.390625 -10.96875 4.265625 -10.8125 C 4.140625 -10.65625 4.078125 -10.484375 4.078125 -10.296875 C 4.078125 -10.109375 4.078125 -9.84375 4.078125 -9.5 L 5.71875 -9.5 L 5.71875 -7.71875 L 4.078125 -7.71875 L 4.078125 0 L 1.578125 0 L 1.578125 -7.71875 L 0.1875 -7.71875 L 0.1875 -9.5 L 1.5625 -9.5 L 1.5625 -10.109375 C 1.5625 -11.128906 1.734375 -11.832031 2.078125 -12.21875 C 2.441406 -12.800781 3.316406 -13.09375 4.703125 -13.09375 Z \"/>\n",
       "</symbol>\n",
       "<symbol overflow=\"visible\" id=\"glyph3-0\">\n",
       "<path style=\"stroke:none;\" d=\"M 0.390625 0 L 0.390625 -8.609375 L 7.21875 -8.609375 L 7.21875 0 Z M 6.140625 -1.078125 L 6.140625 -7.53125 L 1.46875 -7.53125 L 1.46875 -1.078125 Z \"/>\n",
       "</symbol>\n",
       "<symbol overflow=\"visible\" id=\"glyph3-1\">\n",
       "<path style=\"stroke:none;\" d=\"M 1.03125 -8.609375 L 4.90625 -8.609375 C 5.664062 -8.609375 6.28125 -8.390625 6.75 -7.953125 C 7.21875 -7.523438 7.453125 -6.921875 7.453125 -6.140625 C 7.453125 -5.472656 7.242188 -4.890625 6.828125 -4.390625 C 6.410156 -3.890625 5.769531 -3.640625 4.90625 -3.640625 L 2.1875 -3.640625 L 2.1875 0 L 1.03125 0 Z M 6.28125 -6.140625 C 6.28125 -6.765625 6.046875 -7.191406 5.578125 -7.421875 C 5.316406 -7.546875 4.960938 -7.609375 4.515625 -7.609375 L 2.1875 -7.609375 L 2.1875 -4.625 L 4.515625 -4.625 C 5.035156 -4.625 5.457031 -4.734375 5.78125 -4.953125 C 6.113281 -5.179688 6.28125 -5.578125 6.28125 -6.140625 Z \"/>\n",
       "</symbol>\n",
       "<symbol overflow=\"visible\" id=\"glyph3-2\">\n",
       "<path style=\"stroke:none;\" d=\"M 3.546875 -8.75 C 2.929688 -7.5625 2.535156 -6.6875 2.359375 -6.125 C 2.078125 -5.257812 1.9375 -4.269531 1.9375 -3.15625 C 1.9375 -2.019531 2.097656 -0.984375 2.421875 -0.046875 C 2.609375 0.535156 2.988281 1.367188 3.5625 2.453125 L 2.859375 2.453125 C 2.285156 1.554688 1.929688 0.984375 1.796875 0.734375 C 1.660156 0.492188 1.515625 0.160156 1.359375 -0.265625 C 1.140625 -0.835938 0.984375 -1.453125 0.890625 -2.109375 C 0.847656 -2.453125 0.828125 -2.773438 0.828125 -3.078125 C 0.828125 -4.234375 1.007812 -5.265625 1.375 -6.171875 C 1.601562 -6.742188 2.082031 -7.601562 2.8125 -8.75 Z \"/>\n",
       "</symbol>\n",
       "<symbol overflow=\"visible\" id=\"glyph3-3\">\n",
       "<path style=\"stroke:none;\" d=\"M 1.671875 -2.78125 C 1.703125 -2.289062 1.816406 -1.894531 2.015625 -1.59375 C 2.410156 -1.019531 3.09375 -0.734375 4.0625 -0.734375 C 4.5 -0.734375 4.898438 -0.796875 5.265625 -0.921875 C 5.960938 -1.160156 6.3125 -1.59375 6.3125 -2.21875 C 6.3125 -2.6875 6.160156 -3.019531 5.859375 -3.21875 C 5.566406 -3.414062 5.101562 -3.585938 4.46875 -3.734375 L 3.3125 -4 C 2.539062 -4.164062 2 -4.351562 1.6875 -4.5625 C 1.144531 -4.925781 0.875 -5.460938 0.875 -6.171875 C 0.875 -6.953125 1.140625 -7.585938 1.671875 -8.078125 C 2.203125 -8.578125 2.957031 -8.828125 3.9375 -8.828125 C 4.84375 -8.828125 5.609375 -8.609375 6.234375 -8.171875 C 6.867188 -7.734375 7.1875 -7.035156 7.1875 -6.078125 L 6.09375 -6.078125 C 6.03125 -6.546875 5.90625 -6.898438 5.71875 -7.140625 C 5.363281 -7.585938 4.757812 -7.8125 3.90625 -7.8125 C 3.21875 -7.8125 2.722656 -7.664062 2.421875 -7.375 C 2.117188 -7.09375 1.96875 -6.757812 1.96875 -6.375 C 1.96875 -5.957031 2.144531 -5.648438 2.5 -5.453125 C 2.726562 -5.328125 3.25 -5.171875 4.0625 -4.984375 L 5.28125 -4.703125 C 5.851562 -4.566406 6.300781 -4.382812 6.625 -4.15625 C 7.164062 -3.757812 7.4375 -3.175781 7.4375 -2.40625 C 7.4375 -1.457031 7.085938 -0.773438 6.390625 -0.359375 C 5.703125 0.046875 4.898438 0.25 3.984375 0.25 C 2.910156 0.25 2.070312 -0.0195312 1.46875 -0.5625 C 0.863281 -1.113281 0.566406 -1.851562 0.578125 -2.78125 Z M 4.03125 -8.84375 Z \"/>\n",
       "</symbol>\n",
       "<symbol overflow=\"visible\" id=\"glyph3-4\">\n",
       "<path style=\"stroke:none;\" d=\"M 6.65625 -4.8125 L 6.65625 -3.828125 L 0.546875 -3.828125 L 0.546875 -4.8125 Z M 6.65625 -2.296875 L 6.65625 -1.296875 L 0.546875 -1.296875 L 0.546875 -2.296875 Z \"/>\n",
       "</symbol>\n",
       "<symbol overflow=\"visible\" id=\"glyph3-5\">\n",
       "<path style=\"stroke:none;\" d=\"M 1.15625 -5.9375 L 1.15625 -6.75 C 1.914062 -6.820312 2.441406 -6.945312 2.734375 -7.125 C 3.035156 -7.300781 3.265625 -7.710938 3.421875 -8.359375 L 4.25 -8.359375 L 4.25 0 L 3.125 0 L 3.125 -5.9375 Z \"/>\n",
       "</symbol>\n",
       "<symbol overflow=\"visible\" id=\"glyph3-6\">\n",
       "<path style=\"stroke:none;\" d=\"M 0.421875 2.453125 C 1.035156 1.242188 1.4375 0.359375 1.625 -0.203125 C 1.894531 -1.035156 2.03125 -2.019531 2.03125 -3.15625 C 2.03125 -4.28125 1.867188 -5.3125 1.546875 -6.25 C 1.359375 -6.832031 0.976562 -7.664062 0.40625 -8.75 L 1.109375 -8.75 C 1.710938 -7.789062 2.078125 -7.195312 2.203125 -6.96875 C 2.328125 -6.75 2.460938 -6.441406 2.609375 -6.046875 C 2.796875 -5.554688 2.929688 -5.070312 3.015625 -4.59375 C 3.097656 -4.113281 3.140625 -3.65625 3.140625 -3.21875 C 3.140625 -2.0625 2.953125 -1.03125 2.578125 -0.125 C 2.347656 0.457031 1.875 1.316406 1.15625 2.453125 Z \"/>\n",
       "</symbol>\n",
       "<symbol overflow=\"visible\" id=\"glyph3-7\">\n",
       "<path style=\"stroke:none;\" d=\"M 0.375 0 C 0.414062 -0.71875 0.566406 -1.34375 0.828125 -1.875 C 1.085938 -2.414062 1.59375 -2.90625 2.34375 -3.34375 L 3.46875 -4 C 3.96875 -4.289062 4.320312 -4.539062 4.53125 -4.75 C 4.851562 -5.070312 5.015625 -5.441406 5.015625 -5.859375 C 5.015625 -6.347656 4.863281 -6.734375 4.5625 -7.015625 C 4.269531 -7.304688 3.882812 -7.453125 3.40625 -7.453125 C 2.675781 -7.453125 2.175781 -7.179688 1.90625 -6.640625 C 1.75 -6.335938 1.664062 -5.929688 1.65625 -5.421875 L 0.578125 -5.421875 C 0.585938 -6.148438 0.722656 -6.742188 0.984375 -7.203125 C 1.441406 -8.015625 2.25 -8.421875 3.40625 -8.421875 C 4.363281 -8.421875 5.0625 -8.160156 5.5 -7.640625 C 5.945312 -7.117188 6.171875 -6.539062 6.171875 -5.90625 C 6.171875 -5.238281 5.9375 -4.664062 5.46875 -4.1875 C 5.195312 -3.90625 4.707031 -3.566406 4 -3.171875 L 3.1875 -2.734375 C 2.8125 -2.523438 2.515625 -2.320312 2.296875 -2.125 C 1.898438 -1.789062 1.648438 -1.414062 1.546875 -1 L 6.140625 -1 L 6.140625 0 Z \"/>\n",
       "</symbol>\n",
       "<symbol overflow=\"visible\" id=\"glyph3-8\">\n",
       "<path style=\"stroke:none;\" d=\"M 3.125 0.234375 C 2.125 0.234375 1.398438 -0.0351562 0.953125 -0.578125 C 0.503906 -1.128906 0.28125 -1.796875 0.28125 -2.578125 L 1.390625 -2.578125 C 1.429688 -2.035156 1.53125 -1.640625 1.6875 -1.390625 C 1.96875 -0.953125 2.460938 -0.734375 3.171875 -0.734375 C 3.734375 -0.734375 4.179688 -0.878906 4.515625 -1.171875 C 4.847656 -1.472656 5.015625 -1.859375 5.015625 -2.328125 C 5.015625 -2.898438 4.835938 -3.300781 4.484375 -3.53125 C 4.128906 -3.769531 3.640625 -3.890625 3.015625 -3.890625 C 2.941406 -3.890625 2.867188 -3.882812 2.796875 -3.875 C 2.722656 -3.875 2.648438 -3.875 2.578125 -3.875 L 2.578125 -4.8125 C 2.691406 -4.789062 2.785156 -4.78125 2.859375 -4.78125 C 2.929688 -4.78125 3.007812 -4.78125 3.09375 -4.78125 C 3.488281 -4.78125 3.8125 -4.84375 4.0625 -4.96875 C 4.507812 -5.1875 4.734375 -5.578125 4.734375 -6.140625 C 4.734375 -6.554688 4.582031 -6.875 4.28125 -7.09375 C 3.988281 -7.320312 3.644531 -7.4375 3.25 -7.4375 C 2.550781 -7.4375 2.066406 -7.203125 1.796875 -6.734375 C 1.648438 -6.484375 1.566406 -6.117188 1.546875 -5.640625 L 0.5 -5.640625 C 0.5 -6.265625 0.625 -6.796875 0.875 -7.234375 C 1.300781 -8.015625 2.054688 -8.40625 3.140625 -8.40625 C 3.992188 -8.40625 4.65625 -8.210938 5.125 -7.828125 C 5.59375 -7.453125 5.828125 -6.898438 5.828125 -6.171875 C 5.828125 -5.660156 5.691406 -5.242188 5.421875 -4.921875 C 5.242188 -4.722656 5.019531 -4.566406 4.75 -4.453125 C 5.1875 -4.328125 5.53125 -4.09375 5.78125 -3.75 C 6.03125 -3.40625 6.15625 -2.984375 6.15625 -2.484375 C 6.15625 -1.679688 5.890625 -1.023438 5.359375 -0.515625 C 4.835938 -0.015625 4.09375 0.234375 3.125 0.234375 Z \"/>\n",
       "</symbol>\n",
       "</g>\n",
       "<clipPath id=\"clip1\">\n",
       "  <path d=\"M 387 215 L 474.757812 215 L 474.757812 274 L 387 274 Z \"/>\n",
       "</clipPath>\n",
       "</defs>\n",
       "<g id=\"surface322\">\n",
       "<rect x=\"0\" y=\"0\" width=\"504\" height=\"504\" style=\"fill:rgb(100%,100%,100%);fill-opacity:1;stroke:none;\"/>\n",
       "<path style=\"fill:none;stroke-width:2.25;stroke-linecap:round;stroke-linejoin:round;stroke:rgb(10.588235%,61.960784%,46.666667%);stroke-opacity:0.301961;stroke-miterlimit:10;\" d=\"M 142.320312 409.601562 L 145.234375 276.570312 \"/>\n",
       "<path style=\"fill:none;stroke-width:2.25;stroke-linecap:round;stroke-linejoin:round;stroke:rgb(10.588235%,61.960784%,46.666667%);stroke-opacity:0.301961;stroke-miterlimit:10;\" d=\"M 145.96875 262.195312 L 148.042969 236.339844 \"/>\n",
       "<path style=\"fill:none;stroke-width:2.25;stroke-linecap:round;stroke-linejoin:round;stroke:rgb(10.588235%,61.960784%,46.666667%);stroke-opacity:0.301961;stroke-miterlimit:10;\" d=\"M 148.9375 236.355469 L 151.527344 294.941406 \"/>\n",
       "<path style=\"fill:none;stroke-width:2.25;stroke-linecap:round;stroke-linejoin:round;stroke:rgb(10.588235%,61.960784%,46.666667%);stroke-opacity:0.301961;stroke-miterlimit:10;\" d=\"M 152.144531 309.328125 L 154.773438 372.75 \"/>\n",
       "<path style=\"fill:none;stroke-width:2.25;stroke-linecap:round;stroke-linejoin:round;stroke:rgb(10.588235%,61.960784%,46.666667%);stroke-opacity:0.301961;stroke-miterlimit:10;\" d=\"M 155.949219 372.796875 L 157.421875 360.761719 \"/>\n",
       "<path style=\"fill:none;stroke-width:2.25;stroke-linecap:round;stroke-linejoin:round;stroke:rgb(10.588235%,61.960784%,46.666667%);stroke-opacity:0.301961;stroke-miterlimit:10;\" d=\"M 158.691406 346.425781 L 161.132812 301.546875 \"/>\n",
       "<path style=\"fill:none;stroke-width:2.25;stroke-linecap:round;stroke-linejoin:round;stroke:rgb(10.588235%,61.960784%,46.666667%);stroke-opacity:0.301961;stroke-miterlimit:10;\" d=\"M 168.902344 316.71875 L 170.285156 327.398438 \"/>\n",
       "<path style=\"fill:none;stroke-width:2.25;stroke-linecap:round;stroke-linejoin:round;stroke:rgb(10.588235%,61.960784%,46.666667%);stroke-opacity:0.301961;stroke-miterlimit:10;\" d=\"M 172.460938 341.628906 L 173.179688 345.710938 \"/>\n",
       "<path style=\"fill:none;stroke-width:2.25;stroke-linecap:round;stroke-linejoin:round;stroke:rgb(10.588235%,61.960784%,46.666667%);stroke-opacity:0.301961;stroke-miterlimit:10;\" d=\"M 195.15625 349.023438 L 195.660156 346.414062 \"/>\n",
       "<path style=\"fill:none;stroke-width:2.25;stroke-linecap:round;stroke-linejoin:round;stroke:rgb(10.588235%,61.960784%,46.666667%);stroke-opacity:0.301961;stroke-miterlimit:10;\" d=\"M 198.335938 346.421875 L 198.933594 349.625 \"/>\n",
       "<path style=\"fill:none;stroke-width:2.25;stroke-linecap:round;stroke-linejoin:round;stroke:rgb(10.588235%,61.960784%,46.666667%);stroke-opacity:0.301961;stroke-miterlimit:10;\" d=\"M 201.796875 363.734375 L 201.929688 364.335938 \"/>\n",
       "<path style=\"fill:none;stroke-width:2.25;stroke-linecap:round;stroke-linejoin:round;stroke:rgb(10.588235%,61.960784%,46.666667%);stroke-opacity:0.301961;stroke-miterlimit:10;\" d=\"M 220.734375 380.582031 L 221.714844 374.375 \"/>\n",
       "<path style=\"fill:none;stroke-width:2.25;stroke-linecap:round;stroke-linejoin:round;stroke:rgb(10.588235%,61.960784%,46.666667%);stroke-opacity:0.301961;stroke-miterlimit:10;\" d=\"M 237.304688 377.769531 L 237.414062 377.273438 \"/>\n",
       "<path style=\"fill:none;stroke-width:2.25;stroke-linecap:round;stroke-linejoin:round;stroke:rgb(10.588235%,61.960784%,46.666667%);stroke-opacity:0.301961;stroke-miterlimit:10;\" d=\"M 243.636719 374.320312 L 243.984375 376.019531 \"/>\n",
       "<path style=\"fill:none;stroke-width:2.25;stroke-linecap:round;stroke-linejoin:round;stroke:rgb(10.588235%,61.960784%,46.666667%);stroke-opacity:0.301961;stroke-miterlimit:10;\" d=\"M 262.925781 378.753906 L 263.421875 381.328125 \"/>\n",
       "<path style=\"fill:none;stroke-width:2.25;stroke-linecap:round;stroke-linejoin:round;stroke:rgb(10.588235%,61.960784%,46.666667%);stroke-opacity:0.301961;stroke-miterlimit:10;\" d=\"M 265.84375 381.273438 L 266.957031 373.753906 \"/>\n",
       "<path style=\"fill:none;stroke-width:2.25;stroke-linecap:round;stroke-linejoin:round;stroke:rgb(10.588235%,61.960784%,46.666667%);stroke-opacity:0.301961;stroke-miterlimit:10;\" d=\"M 272.402344 365.929688 L 273.304688 371.472656 \"/>\n",
       "<path style=\"fill:none;stroke-width:2.25;stroke-linecap:round;stroke-linejoin:round;stroke:rgb(10.588235%,61.960784%,46.666667%);stroke-opacity:0.301961;stroke-miterlimit:10;\" d=\"M 281.796875 369.480469 L 283.273438 381.570312 \"/>\n",
       "<path style=\"fill:none;stroke-width:2.25;stroke-linecap:round;stroke-linejoin:round;stroke:rgb(10.588235%,61.960784%,46.666667%);stroke-opacity:0.301961;stroke-miterlimit:10;\" d=\"M 288.191406 375.015625 L 289.785156 361.105469 \"/>\n",
       "<path style=\"fill:none;stroke-width:2.25;stroke-linecap:round;stroke-linejoin:round;stroke:rgb(10.588235%,61.960784%,46.666667%);stroke-opacity:0.301961;stroke-miterlimit:10;\" d=\"M 307.933594 352.367188 L 308.765625 347.453125 \"/>\n",
       "<path style=\"fill:none;stroke-width:2.25;stroke-linecap:round;stroke-linejoin:round;stroke:rgb(10.588235%,61.960784%,46.666667%);stroke-opacity:0.301961;stroke-miterlimit:10;\" d=\"M 311.414062 333.304688 L 311.738281 331.710938 \"/>\n",
       "<path style=\"fill:none;stroke-width:2.25;stroke-linecap:round;stroke-linejoin:round;stroke:rgb(10.588235%,61.960784%,46.666667%);stroke-opacity:0.301961;stroke-miterlimit:10;\" d=\"M 317.027344 340.296875 L 319.03125 363.757812 \"/>\n",
       "<path style=\"fill:none;stroke-width:2.25;stroke-linecap:round;stroke-linejoin:round;stroke:rgb(10.588235%,61.960784%,46.666667%);stroke-opacity:0.301961;stroke-miterlimit:10;\" d=\"M 320.871094 363.839844 L 321.640625 359.394531 \"/>\n",
       "<path style=\"fill:none;stroke-width:2.25;stroke-linecap:round;stroke-linejoin:round;stroke:rgb(10.588235%,61.960784%,46.666667%);stroke-opacity:0.301961;stroke-miterlimit:10;\" d=\"M 323.417969 345.121094 L 325.550781 317.21875 \"/>\n",
       "<path style=\"fill:none;stroke-width:2.25;stroke-linecap:round;stroke-linejoin:round;stroke:rgb(10.588235%,61.960784%,46.666667%);stroke-opacity:0.301961;stroke-miterlimit:10;\" d=\"M 329.925781 325.6875 L 331.949219 349.800781 \"/>\n",
       "<path style=\"fill:none;stroke-width:2.25;stroke-linecap:round;stroke-linejoin:round;stroke:rgb(10.588235%,61.960784%,46.666667%);stroke-opacity:0.301961;stroke-miterlimit:10;\" d=\"M 332.9375 364.164062 L 335.390625 409.609375 \"/>\n",
       "<path style=\"fill:none;stroke-width:2.25;stroke-linecap:round;stroke-linejoin:round;stroke:rgb(10.588235%,61.960784%,46.666667%);stroke-opacity:0.301961;stroke-miterlimit:10;\" d=\"M 336.183594 409.613281 L 338.601562 366.65625 \"/>\n",
       "<path style=\"fill:none;stroke-width:2.25;stroke-linecap:round;stroke-linejoin:round;stroke:rgb(10.588235%,61.960784%,46.666667%);stroke-opacity:0.301961;stroke-miterlimit:10;\" d=\"M 339.570312 352.289062 L 341.667969 325.691406 \"/>\n",
       "<path style=\"fill:none;stroke-width:2.25;stroke-linecap:round;stroke-linejoin:round;stroke:rgb(10.588235%,61.960784%,46.666667%);stroke-opacity:0.301961;stroke-miterlimit:10;\" d=\"M 342.796875 325.691406 L 344.894531 352.289062 \"/>\n",
       "<path style=\"fill:none;stroke-width:2.25;stroke-linecap:round;stroke-linejoin:round;stroke:rgb(10.588235%,61.960784%,46.666667%);stroke-opacity:0.301961;stroke-miterlimit:10;\" d=\"M 348.910156 340.804688 L 351.6875 251.996094 \"/>\n",
       "<path style=\"fill:none;stroke-width:2.25;stroke-linecap:round;stroke-linejoin:round;stroke:rgb(10.588235%,61.960784%,46.666667%);stroke-opacity:0.301961;stroke-miterlimit:10;\" d=\"M 352.046875 237.601562 L 355.003906 80 \"/>\n",
       "<path style=\"fill:none;stroke-width:2.25;stroke-linecap:round;stroke-linejoin:round;stroke:rgb(10.588235%,61.960784%,46.666667%);stroke-opacity:0.301961;stroke-miterlimit:10;\" d=\"M 355.207031 80 L 358.300781 409.601562 \"/>\n",
       "<path style=\"fill:none;stroke-width:2.25;stroke-linecap:round;stroke-linejoin:round;stroke:rgb(10.588235%,61.960784%,46.666667%);stroke-opacity:0.301961;stroke-miterlimit:10;\" d=\"M 358.5 409.601562 L 361.457031 252 \"/>\n",
       "<path style=\"fill:none;stroke-width:2.25;stroke-linecap:round;stroke-linejoin:round;stroke:rgb(10.588235%,61.960784%,46.666667%);stroke-opacity:0.301961;stroke-miterlimit:10;\" d=\"M 361.996094 237.613281 L 364.414062 194.65625 \"/>\n",
       "<path style=\"fill:none;stroke-width:2.25;stroke-linecap:round;stroke-linejoin:round;stroke:rgb(10.588235%,61.960784%,46.666667%);stroke-opacity:0.301961;stroke-miterlimit:10;\" d=\"M 364.921875 194.664062 L 367.945312 409.601562 \"/>\n",
       "<path style=\"fill:none;stroke-width:2.25;stroke-linecap:round;stroke-linejoin:round;stroke:rgb(10.588235%,61.960784%,46.666667%);stroke-opacity:0.301961;stroke-miterlimit:10;\" d=\"M 77.101562 416.800781 C 77.101562 420.398438 71.699219 420.398438 71.699219 416.800781 C 71.699219 413.199219 77.101562 413.199219 77.101562 416.800781 \"/>\n",
       "<path style=\"fill:none;stroke-width:2.25;stroke-linecap:round;stroke-linejoin:round;stroke:rgb(10.588235%,61.960784%,46.666667%);stroke-opacity:0.301961;stroke-miterlimit:10;\" d=\"M 80.328125 416.800781 C 80.328125 420.398438 74.925781 420.398438 74.925781 416.800781 C 74.925781 413.199219 80.328125 413.199219 80.328125 416.800781 \"/>\n",
       "<path style=\"fill:none;stroke-width:2.25;stroke-linecap:round;stroke-linejoin:round;stroke:rgb(10.588235%,61.960784%,46.666667%);stroke-opacity:0.301961;stroke-miterlimit:10;\" d=\"M 83.554688 416.800781 C 83.554688 420.398438 78.152344 420.398438 78.152344 416.800781 C 78.152344 413.199219 83.554688 413.199219 83.554688 416.800781 \"/>\n",
       "<path style=\"fill:none;stroke-width:2.25;stroke-linecap:round;stroke-linejoin:round;stroke:rgb(10.588235%,61.960784%,46.666667%);stroke-opacity:0.301961;stroke-miterlimit:10;\" d=\"M 86.78125 416.800781 C 86.78125 420.398438 81.378906 420.398438 81.378906 416.800781 C 81.378906 413.199219 86.78125 413.199219 86.78125 416.800781 \"/>\n",
       "<path style=\"fill:none;stroke-width:2.25;stroke-linecap:round;stroke-linejoin:round;stroke:rgb(10.588235%,61.960784%,46.666667%);stroke-opacity:0.301961;stroke-miterlimit:10;\" d=\"M 90.007812 416.800781 C 90.007812 420.398438 84.609375 420.398438 84.609375 416.800781 C 84.609375 413.199219 90.007812 413.199219 90.007812 416.800781 \"/>\n",
       "<path style=\"fill:none;stroke-width:2.25;stroke-linecap:round;stroke-linejoin:round;stroke:rgb(10.588235%,61.960784%,46.666667%);stroke-opacity:0.301961;stroke-miterlimit:10;\" d=\"M 93.234375 416.800781 C 93.234375 420.398438 87.835938 420.398438 87.835938 416.800781 C 87.835938 413.199219 93.234375 413.199219 93.234375 416.800781 \"/>\n",
       "<path style=\"fill:none;stroke-width:2.25;stroke-linecap:round;stroke-linejoin:round;stroke:rgb(10.588235%,61.960784%,46.666667%);stroke-opacity:0.301961;stroke-miterlimit:10;\" d=\"M 96.460938 416.800781 C 96.460938 420.398438 91.0625 420.398438 91.0625 416.800781 C 91.0625 413.199219 96.460938 413.199219 96.460938 416.800781 \"/>\n",
       "<path style=\"fill:none;stroke-width:2.25;stroke-linecap:round;stroke-linejoin:round;stroke:rgb(10.588235%,61.960784%,46.666667%);stroke-opacity:0.301961;stroke-miterlimit:10;\" d=\"M 99.6875 416.800781 C 99.6875 420.398438 94.289062 420.398438 94.289062 416.800781 C 94.289062 413.199219 99.6875 413.199219 99.6875 416.800781 \"/>\n",
       "<path style=\"fill:none;stroke-width:2.25;stroke-linecap:round;stroke-linejoin:round;stroke:rgb(10.588235%,61.960784%,46.666667%);stroke-opacity:0.301961;stroke-miterlimit:10;\" d=\"M 102.914062 416.800781 C 102.914062 420.398438 97.515625 420.398438 97.515625 416.800781 C 97.515625 413.199219 102.914062 413.199219 102.914062 416.800781 \"/>\n",
       "<path style=\"fill:none;stroke-width:2.25;stroke-linecap:round;stroke-linejoin:round;stroke:rgb(10.588235%,61.960784%,46.666667%);stroke-opacity:0.301961;stroke-miterlimit:10;\" d=\"M 106.140625 416.800781 C 106.140625 420.398438 100.742188 420.398438 100.742188 416.800781 C 100.742188 413.199219 106.140625 413.199219 106.140625 416.800781 \"/>\n",
       "<path style=\"fill:none;stroke-width:2.25;stroke-linecap:round;stroke-linejoin:round;stroke:rgb(10.588235%,61.960784%,46.666667%);stroke-opacity:0.301961;stroke-miterlimit:10;\" d=\"M 109.367188 416.800781 C 109.367188 420.398438 103.96875 420.398438 103.96875 416.800781 C 103.96875 413.199219 109.367188 413.199219 109.367188 416.800781 \"/>\n",
       "<path style=\"fill:none;stroke-width:2.25;stroke-linecap:round;stroke-linejoin:round;stroke:rgb(10.588235%,61.960784%,46.666667%);stroke-opacity:0.301961;stroke-miterlimit:10;\" d=\"M 112.597656 416.800781 C 112.597656 420.398438 107.195312 420.398438 107.195312 416.800781 C 107.195312 413.199219 112.597656 413.199219 112.597656 416.800781 \"/>\n",
       "<path style=\"fill:none;stroke-width:2.25;stroke-linecap:round;stroke-linejoin:round;stroke:rgb(10.588235%,61.960784%,46.666667%);stroke-opacity:0.301961;stroke-miterlimit:10;\" d=\"M 115.824219 416.800781 C 115.824219 420.398438 110.421875 420.398438 110.421875 416.800781 C 110.421875 413.199219 115.824219 413.199219 115.824219 416.800781 \"/>\n",
       "<path style=\"fill:none;stroke-width:2.25;stroke-linecap:round;stroke-linejoin:round;stroke:rgb(10.588235%,61.960784%,46.666667%);stroke-opacity:0.301961;stroke-miterlimit:10;\" d=\"M 119.050781 416.800781 C 119.050781 420.398438 113.648438 420.398438 113.648438 416.800781 C 113.648438 413.199219 119.050781 413.199219 119.050781 416.800781 \"/>\n",
       "<path style=\"fill:none;stroke-width:2.25;stroke-linecap:round;stroke-linejoin:round;stroke:rgb(10.588235%,61.960784%,46.666667%);stroke-opacity:0.301961;stroke-miterlimit:10;\" d=\"M 122.277344 416.800781 C 122.277344 420.398438 116.875 420.398438 116.875 416.800781 C 116.875 413.199219 122.277344 413.199219 122.277344 416.800781 \"/>\n",
       "<path style=\"fill:none;stroke-width:2.25;stroke-linecap:round;stroke-linejoin:round;stroke:rgb(10.588235%,61.960784%,46.666667%);stroke-opacity:0.301961;stroke-miterlimit:10;\" d=\"M 125.503906 416.800781 C 125.503906 420.398438 120.101562 420.398438 120.101562 416.800781 C 120.101562 413.199219 125.503906 413.199219 125.503906 416.800781 \"/>\n",
       "<path style=\"fill:none;stroke-width:2.25;stroke-linecap:round;stroke-linejoin:round;stroke:rgb(10.588235%,61.960784%,46.666667%);stroke-opacity:0.301961;stroke-miterlimit:10;\" d=\"M 128.730469 416.800781 C 128.730469 420.398438 123.332031 420.398438 123.332031 416.800781 C 123.332031 413.199219 128.730469 413.199219 128.730469 416.800781 \"/>\n",
       "<path style=\"fill:none;stroke-width:2.25;stroke-linecap:round;stroke-linejoin:round;stroke:rgb(10.588235%,61.960784%,46.666667%);stroke-opacity:0.301961;stroke-miterlimit:10;\" d=\"M 131.957031 416.800781 C 131.957031 420.398438 126.558594 420.398438 126.558594 416.800781 C 126.558594 413.199219 131.957031 413.199219 131.957031 416.800781 \"/>\n",
       "<path style=\"fill:none;stroke-width:2.25;stroke-linecap:round;stroke-linejoin:round;stroke:rgb(10.588235%,61.960784%,46.666667%);stroke-opacity:0.301961;stroke-miterlimit:10;\" d=\"M 135.183594 416.800781 C 135.183594 420.398438 129.785156 420.398438 129.785156 416.800781 C 129.785156 413.199219 135.183594 413.199219 135.183594 416.800781 \"/>\n",
       "<path style=\"fill:none;stroke-width:2.25;stroke-linecap:round;stroke-linejoin:round;stroke:rgb(10.588235%,61.960784%,46.666667%);stroke-opacity:0.301961;stroke-miterlimit:10;\" d=\"M 138.410156 416.800781 C 138.410156 420.398438 133.011719 420.398438 133.011719 416.800781 C 133.011719 413.199219 138.410156 413.199219 138.410156 416.800781 \"/>\n",
       "<path style=\"fill:none;stroke-width:2.25;stroke-linecap:round;stroke-linejoin:round;stroke:rgb(10.588235%,61.960784%,46.666667%);stroke-opacity:0.301961;stroke-miterlimit:10;\" d=\"M 141.636719 416.800781 C 141.636719 420.398438 136.238281 420.398438 136.238281 416.800781 C 136.238281 413.199219 141.636719 413.199219 141.636719 416.800781 \"/>\n",
       "<path style=\"fill:none;stroke-width:2.25;stroke-linecap:round;stroke-linejoin:round;stroke:rgb(10.588235%,61.960784%,46.666667%);stroke-opacity:0.301961;stroke-miterlimit:10;\" d=\"M 144.863281 416.800781 C 144.863281 420.398438 139.464844 420.398438 139.464844 416.800781 C 139.464844 413.199219 144.863281 413.199219 144.863281 416.800781 \"/>\n",
       "<path style=\"fill:none;stroke-width:2.25;stroke-linecap:round;stroke-linejoin:round;stroke:rgb(10.588235%,61.960784%,46.666667%);stroke-opacity:0.301961;stroke-miterlimit:10;\" d=\"M 148.089844 269.371094 C 148.089844 272.972656 142.691406 272.972656 142.691406 269.371094 C 142.691406 265.769531 148.089844 265.769531 148.089844 269.371094 \"/>\n",
       "<path style=\"fill:none;stroke-width:2.25;stroke-linecap:round;stroke-linejoin:round;stroke:rgb(10.588235%,61.960784%,46.666667%);stroke-opacity:0.301961;stroke-miterlimit:10;\" d=\"M 151.320312 229.164062 C 151.320312 232.761719 145.917969 232.761719 145.917969 229.164062 C 145.917969 225.5625 151.320312 225.5625 151.320312 229.164062 \"/>\n",
       "<path style=\"fill:none;stroke-width:2.25;stroke-linecap:round;stroke-linejoin:round;stroke:rgb(10.588235%,61.960784%,46.666667%);stroke-opacity:0.301961;stroke-miterlimit:10;\" d=\"M 154.546875 302.132812 C 154.546875 305.734375 149.144531 305.734375 149.144531 302.132812 C 149.144531 298.535156 154.546875 298.535156 154.546875 302.132812 \"/>\n",
       "<path style=\"fill:none;stroke-width:2.25;stroke-linecap:round;stroke-linejoin:round;stroke:rgb(10.588235%,61.960784%,46.666667%);stroke-opacity:0.301961;stroke-miterlimit:10;\" d=\"M 157.773438 379.941406 C 157.773438 383.542969 152.371094 383.542969 152.371094 379.941406 C 152.371094 376.34375 157.773438 376.34375 157.773438 379.941406 \"/>\n",
       "<path style=\"fill:none;stroke-width:2.25;stroke-linecap:round;stroke-linejoin:round;stroke:rgb(10.588235%,61.960784%,46.666667%);stroke-opacity:0.301961;stroke-miterlimit:10;\" d=\"M 161 353.617188 C 161 357.214844 155.597656 357.214844 155.597656 353.617188 C 155.597656 350.015625 161 350.015625 161 353.617188 \"/>\n",
       "<path style=\"fill:none;stroke-width:2.25;stroke-linecap:round;stroke-linejoin:round;stroke:rgb(10.588235%,61.960784%,46.666667%);stroke-opacity:0.301961;stroke-miterlimit:10;\" d=\"M 164.226562 294.359375 C 164.226562 297.960938 158.824219 297.960938 158.824219 294.359375 C 158.824219 290.757812 164.226562 290.757812 164.226562 294.359375 \"/>\n",
       "<path style=\"fill:none;stroke-width:2.25;stroke-linecap:round;stroke-linejoin:round;stroke:rgb(10.588235%,61.960784%,46.666667%);stroke-opacity:0.301961;stroke-miterlimit:10;\" d=\"M 167.453125 298.710938 C 167.453125 302.308594 162.054688 302.308594 162.054688 298.710938 C 162.054688 295.109375 167.453125 295.109375 167.453125 298.710938 \"/>\n",
       "<path style=\"fill:none;stroke-width:2.25;stroke-linecap:round;stroke-linejoin:round;stroke:rgb(10.588235%,61.960784%,46.666667%);stroke-opacity:0.301961;stroke-miterlimit:10;\" d=\"M 170.679688 309.578125 C 170.679688 313.179688 165.28125 313.179688 165.28125 309.578125 C 165.28125 305.980469 170.679688 305.980469 170.679688 309.578125 \"/>\n",
       "<path style=\"fill:none;stroke-width:2.25;stroke-linecap:round;stroke-linejoin:round;stroke:rgb(10.588235%,61.960784%,46.666667%);stroke-opacity:0.301961;stroke-miterlimit:10;\" d=\"M 173.90625 334.539062 C 173.90625 338.140625 168.507812 338.140625 168.507812 334.539062 C 168.507812 330.9375 173.90625 330.9375 173.90625 334.539062 \"/>\n",
       "<path style=\"fill:none;stroke-width:2.25;stroke-linecap:round;stroke-linejoin:round;stroke:rgb(10.588235%,61.960784%,46.666667%);stroke-opacity:0.301961;stroke-miterlimit:10;\" d=\"M 177.132812 352.800781 C 177.132812 356.398438 171.734375 356.398438 171.734375 352.800781 C 171.734375 349.199219 177.132812 349.199219 177.132812 352.800781 \"/>\n",
       "<path style=\"fill:none;stroke-width:2.25;stroke-linecap:round;stroke-linejoin:round;stroke:rgb(10.588235%,61.960784%,46.666667%);stroke-opacity:0.301961;stroke-miterlimit:10;\" d=\"M 180.359375 344.378906 C 180.359375 347.980469 174.960938 347.980469 174.960938 344.378906 C 174.960938 340.777344 180.359375 340.777344 180.359375 344.378906 \"/>\n",
       "<path style=\"fill:none;stroke-width:2.25;stroke-linecap:round;stroke-linejoin:round;stroke:rgb(10.588235%,61.960784%,46.666667%);stroke-opacity:0.301961;stroke-miterlimit:10;\" d=\"M 183.585938 347.421875 C 183.585938 351.023438 178.1875 351.023438 178.1875 347.421875 C 178.1875 343.820312 183.585938 343.820312 183.585938 347.421875 \"/>\n",
       "<path style=\"fill:none;stroke-width:2.25;stroke-linecap:round;stroke-linejoin:round;stroke:rgb(10.588235%,61.960784%,46.666667%);stroke-opacity:0.301961;stroke-miterlimit:10;\" d=\"M 186.8125 348.507812 C 186.8125 352.105469 181.414062 352.105469 181.414062 348.507812 C 181.414062 344.90625 186.8125 344.90625 186.8125 348.507812 \"/>\n",
       "<path style=\"fill:none;stroke-width:2.25;stroke-linecap:round;stroke-linejoin:round;stroke:rgb(10.588235%,61.960784%,46.666667%);stroke-opacity:0.301961;stroke-miterlimit:10;\" d=\"M 190.042969 358.660156 C 190.042969 362.257812 184.640625 362.257812 184.640625 358.660156 C 184.640625 355.058594 190.042969 355.058594 190.042969 358.660156 \"/>\n",
       "<path style=\"fill:none;stroke-width:2.25;stroke-linecap:round;stroke-linejoin:round;stroke:rgb(10.588235%,61.960784%,46.666667%);stroke-opacity:0.301961;stroke-miterlimit:10;\" d=\"M 193.269531 369.167969 C 193.269531 372.769531 187.867188 372.769531 187.867188 369.167969 C 187.867188 365.570312 193.269531 365.570312 193.269531 369.167969 \"/>\n",
       "<path style=\"fill:none;stroke-width:2.25;stroke-linecap:round;stroke-linejoin:round;stroke:rgb(10.588235%,61.960784%,46.666667%);stroke-opacity:0.301961;stroke-miterlimit:10;\" d=\"M 196.496094 356.09375 C 196.496094 359.695312 191.09375 359.695312 191.09375 356.09375 C 191.09375 352.492188 196.496094 352.492188 196.496094 356.09375 \"/>\n",
       "<path style=\"fill:none;stroke-width:2.25;stroke-linecap:round;stroke-linejoin:round;stroke:rgb(10.588235%,61.960784%,46.666667%);stroke-opacity:0.301961;stroke-miterlimit:10;\" d=\"M 199.722656 339.34375 C 199.722656 342.941406 194.320312 342.941406 194.320312 339.34375 C 194.320312 335.742188 199.722656 335.742188 199.722656 339.34375 \"/>\n",
       "<path style=\"fill:none;stroke-width:2.25;stroke-linecap:round;stroke-linejoin:round;stroke:rgb(10.588235%,61.960784%,46.666667%);stroke-opacity:0.301961;stroke-miterlimit:10;\" d=\"M 202.949219 356.703125 C 202.949219 360.304688 197.546875 360.304688 197.546875 356.703125 C 197.546875 353.105469 202.949219 353.105469 202.949219 356.703125 \"/>\n",
       "<path style=\"fill:none;stroke-width:2.25;stroke-linecap:round;stroke-linejoin:round;stroke:rgb(10.588235%,61.960784%,46.666667%);stroke-opacity:0.301961;stroke-miterlimit:10;\" d=\"M 206.175781 371.367188 C 206.175781 374.964844 200.777344 374.964844 200.777344 371.367188 C 200.777344 367.765625 206.175781 367.765625 206.175781 371.367188 \"/>\n",
       "<path style=\"fill:none;stroke-width:2.25;stroke-linecap:round;stroke-linejoin:round;stroke:rgb(10.588235%,61.960784%,46.666667%);stroke-opacity:0.301961;stroke-miterlimit:10;\" d=\"M 209.402344 375.519531 C 209.402344 379.121094 204.003906 379.121094 204.003906 375.519531 C 204.003906 371.921875 209.402344 371.921875 209.402344 375.519531 \"/>\n",
       "<path style=\"fill:none;stroke-width:2.25;stroke-linecap:round;stroke-linejoin:round;stroke:rgb(10.588235%,61.960784%,46.666667%);stroke-opacity:0.301961;stroke-miterlimit:10;\" d=\"M 212.628906 380.964844 C 212.628906 384.566406 207.230469 384.566406 207.230469 380.964844 C 207.230469 377.367188 212.628906 377.367188 212.628906 380.964844 \"/>\n",
       "<path style=\"fill:none;stroke-width:2.25;stroke-linecap:round;stroke-linejoin:round;stroke:rgb(10.588235%,61.960784%,46.666667%);stroke-opacity:0.301961;stroke-miterlimit:10;\" d=\"M 215.855469 385.289062 C 215.855469 388.886719 210.457031 388.886719 210.457031 385.289062 C 210.457031 381.6875 215.855469 381.6875 215.855469 385.289062 \"/>\n",
       "<path style=\"fill:none;stroke-width:2.25;stroke-linecap:round;stroke-linejoin:round;stroke:rgb(10.588235%,61.960784%,46.666667%);stroke-opacity:0.301961;stroke-miterlimit:10;\" d=\"M 219.082031 392.230469 C 219.082031 395.828125 213.683594 395.828125 213.683594 392.230469 C 213.683594 388.628906 219.082031 388.628906 219.082031 392.230469 \"/>\n",
       "<path style=\"fill:none;stroke-width:2.25;stroke-linecap:round;stroke-linejoin:round;stroke:rgb(10.588235%,61.960784%,46.666667%);stroke-opacity:0.301961;stroke-miterlimit:10;\" d=\"M 222.308594 387.691406 C 222.308594 391.292969 216.910156 391.292969 216.910156 387.691406 C 216.910156 384.09375 222.308594 384.09375 222.308594 387.691406 \"/>\n",
       "<path style=\"fill:none;stroke-width:2.25;stroke-linecap:round;stroke-linejoin:round;stroke:rgb(10.588235%,61.960784%,46.666667%);stroke-opacity:0.301961;stroke-miterlimit:10;\" d=\"M 225.535156 367.265625 C 225.535156 370.863281 220.136719 370.863281 220.136719 367.265625 C 220.136719 363.664062 225.535156 363.664062 225.535156 367.265625 \"/>\n",
       "<path style=\"fill:none;stroke-width:2.25;stroke-linecap:round;stroke-linejoin:round;stroke:rgb(10.588235%,61.960784%,46.666667%);stroke-opacity:0.301961;stroke-miterlimit:10;\" d=\"M 228.765625 366.132812 C 228.765625 369.734375 223.363281 369.734375 223.363281 366.132812 C 223.363281 362.535156 228.765625 362.535156 228.765625 366.132812 \"/>\n",
       "<path style=\"fill:none;stroke-width:2.25;stroke-linecap:round;stroke-linejoin:round;stroke:rgb(10.588235%,61.960784%,46.666667%);stroke-opacity:0.301961;stroke-miterlimit:10;\" d=\"M 231.992188 370.3125 C 231.992188 373.914062 226.589844 373.914062 226.589844 370.3125 C 226.589844 366.714844 231.992188 366.714844 231.992188 370.3125 \"/>\n",
       "<path style=\"fill:none;stroke-width:2.25;stroke-linecap:round;stroke-linejoin:round;stroke:rgb(10.588235%,61.960784%,46.666667%);stroke-opacity:0.301961;stroke-miterlimit:10;\" d=\"M 235.21875 371.3125 C 235.21875 374.914062 229.816406 374.914062 229.816406 371.3125 C 229.816406 367.710938 235.21875 367.710938 235.21875 371.3125 \"/>\n",
       "<path style=\"fill:none;stroke-width:2.25;stroke-linecap:round;stroke-linejoin:round;stroke:rgb(10.588235%,61.960784%,46.666667%);stroke-opacity:0.301961;stroke-miterlimit:10;\" d=\"M 238.445312 384.800781 C 238.445312 388.398438 233.042969 388.398438 233.042969 384.800781 C 233.042969 381.199219 238.445312 381.199219 238.445312 384.800781 \"/>\n",
       "<path style=\"fill:none;stroke-width:2.25;stroke-linecap:round;stroke-linejoin:round;stroke:rgb(10.588235%,61.960784%,46.666667%);stroke-opacity:0.301961;stroke-miterlimit:10;\" d=\"M 241.671875 370.242188 C 241.671875 373.84375 236.269531 373.84375 236.269531 370.242188 C 236.269531 366.644531 241.671875 366.644531 241.671875 370.242188 \"/>\n",
       "<path style=\"fill:none;stroke-width:2.25;stroke-linecap:round;stroke-linejoin:round;stroke:rgb(10.588235%,61.960784%,46.666667%);stroke-opacity:0.301961;stroke-miterlimit:10;\" d=\"M 244.898438 367.265625 C 244.898438 370.863281 239.5 370.863281 239.5 367.265625 C 239.5 363.664062 244.898438 363.664062 244.898438 367.265625 \"/>\n",
       "<path style=\"fill:none;stroke-width:2.25;stroke-linecap:round;stroke-linejoin:round;stroke:rgb(10.588235%,61.960784%,46.666667%);stroke-opacity:0.301961;stroke-miterlimit:10;\" d=\"M 248.125 383.074219 C 248.125 386.675781 242.726562 386.675781 242.726562 383.074219 C 242.726562 379.472656 248.125 379.472656 248.125 383.074219 \"/>\n",
       "<path style=\"fill:none;stroke-width:2.25;stroke-linecap:round;stroke-linejoin:round;stroke:rgb(10.588235%,61.960784%,46.666667%);stroke-opacity:0.301961;stroke-miterlimit:10;\" d=\"M 251.351562 382.710938 C 251.351562 386.308594 245.953125 386.308594 245.953125 382.710938 C 245.953125 379.109375 251.351562 379.109375 251.351562 382.710938 \"/>\n",
       "<path style=\"fill:none;stroke-width:2.25;stroke-linecap:round;stroke-linejoin:round;stroke:rgb(10.588235%,61.960784%,46.666667%);stroke-opacity:0.301961;stroke-miterlimit:10;\" d=\"M 254.578125 379.839844 C 254.578125 383.441406 249.179688 383.441406 249.179688 379.839844 C 249.179688 376.242188 254.578125 376.242188 254.578125 379.839844 \"/>\n",
       "<path style=\"fill:none;stroke-width:2.25;stroke-linecap:round;stroke-linejoin:round;stroke:rgb(10.588235%,61.960784%,46.666667%);stroke-opacity:0.301961;stroke-miterlimit:10;\" d=\"M 257.804688 388.601562 C 257.804688 392.203125 252.40625 392.203125 252.40625 388.601562 C 252.40625 385.003906 257.804688 385.003906 257.804688 388.601562 \"/>\n",
       "<path style=\"fill:none;stroke-width:2.25;stroke-linecap:round;stroke-linejoin:round;stroke:rgb(10.588235%,61.960784%,46.666667%);stroke-opacity:0.301961;stroke-miterlimit:10;\" d=\"M 261.03125 379.753906 C 261.03125 383.355469 255.632812 383.355469 255.632812 379.753906 C 255.632812 376.152344 261.03125 376.152344 261.03125 379.753906 \"/>\n",
       "<path style=\"fill:none;stroke-width:2.25;stroke-linecap:round;stroke-linejoin:round;stroke:rgb(10.588235%,61.960784%,46.666667%);stroke-opacity:0.301961;stroke-miterlimit:10;\" d=\"M 264.257812 371.683594 C 264.257812 375.285156 258.859375 375.285156 258.859375 371.683594 C 258.859375 368.085938 264.257812 368.085938 264.257812 371.683594 \"/>\n",
       "<path style=\"fill:none;stroke-width:2.25;stroke-linecap:round;stroke-linejoin:round;stroke:rgb(10.588235%,61.960784%,46.666667%);stroke-opacity:0.301961;stroke-miterlimit:10;\" d=\"M 267.488281 388.394531 C 267.488281 391.996094 262.085938 391.996094 262.085938 388.394531 C 262.085938 384.796875 267.488281 384.796875 267.488281 388.394531 \"/>\n",
       "<path style=\"fill:none;stroke-width:2.25;stroke-linecap:round;stroke-linejoin:round;stroke:rgb(10.588235%,61.960784%,46.666667%);stroke-opacity:0.301961;stroke-miterlimit:10;\" d=\"M 270.714844 366.632812 C 270.714844 370.234375 265.3125 370.234375 265.3125 366.632812 C 265.3125 363.035156 270.714844 363.035156 270.714844 366.632812 \"/>\n",
       "<path style=\"fill:none;stroke-width:2.25;stroke-linecap:round;stroke-linejoin:round;stroke:rgb(10.588235%,61.960784%,46.666667%);stroke-opacity:0.301961;stroke-miterlimit:10;\" d=\"M 273.941406 358.824219 C 273.941406 362.421875 268.539062 362.421875 268.539062 358.824219 C 268.539062 355.222656 273.941406 355.222656 273.941406 358.824219 \"/>\n",
       "<path style=\"fill:none;stroke-width:2.25;stroke-linecap:round;stroke-linejoin:round;stroke:rgb(10.588235%,61.960784%,46.666667%);stroke-opacity:0.301961;stroke-miterlimit:10;\" d=\"M 277.167969 378.578125 C 277.167969 382.179688 271.765625 382.179688 271.765625 378.578125 C 271.765625 374.976562 277.167969 374.976562 277.167969 378.578125 \"/>\n",
       "<path style=\"fill:none;stroke-width:2.25;stroke-linecap:round;stroke-linejoin:round;stroke:rgb(10.588235%,61.960784%,46.666667%);stroke-opacity:0.301961;stroke-miterlimit:10;\" d=\"M 280.394531 366.046875 C 280.394531 369.644531 274.992188 369.644531 274.992188 366.046875 C 274.992188 362.445312 280.394531 362.445312 280.394531 366.046875 \"/>\n",
       "<path style=\"fill:none;stroke-width:2.25;stroke-linecap:round;stroke-linejoin:round;stroke:rgb(10.588235%,61.960784%,46.666667%);stroke-opacity:0.301961;stroke-miterlimit:10;\" d=\"M 283.621094 362.332031 C 283.621094 365.933594 278.222656 365.933594 278.222656 362.332031 C 278.222656 358.734375 283.621094 358.734375 283.621094 362.332031 \"/>\n",
       "<path style=\"fill:none;stroke-width:2.25;stroke-linecap:round;stroke-linejoin:round;stroke:rgb(10.588235%,61.960784%,46.666667%);stroke-opacity:0.301961;stroke-miterlimit:10;\" d=\"M 286.847656 388.71875 C 286.847656 392.320312 281.449219 392.320312 281.449219 388.71875 C 281.449219 385.117188 286.847656 385.117188 286.847656 388.71875 \"/>\n",
       "<path style=\"fill:none;stroke-width:2.25;stroke-linecap:round;stroke-linejoin:round;stroke:rgb(10.588235%,61.960784%,46.666667%);stroke-opacity:0.301961;stroke-miterlimit:10;\" d=\"M 290.074219 382.167969 C 290.074219 385.769531 284.675781 385.769531 284.675781 382.167969 C 284.675781 378.570312 290.074219 378.570312 290.074219 382.167969 \"/>\n",
       "<path style=\"fill:none;stroke-width:2.25;stroke-linecap:round;stroke-linejoin:round;stroke:rgb(10.588235%,61.960784%,46.666667%);stroke-opacity:0.301961;stroke-miterlimit:10;\" d=\"M 293.300781 353.953125 C 293.300781 357.554688 287.902344 357.554688 287.902344 353.953125 C 287.902344 350.355469 293.300781 350.355469 293.300781 353.953125 \"/>\n",
       "<path style=\"fill:none;stroke-width:2.25;stroke-linecap:round;stroke-linejoin:round;stroke:rgb(10.588235%,61.960784%,46.666667%);stroke-opacity:0.301961;stroke-miterlimit:10;\" d=\"M 296.527344 357.34375 C 296.527344 360.941406 291.128906 360.941406 291.128906 357.34375 C 291.128906 353.742188 296.527344 353.742188 296.527344 357.34375 \"/>\n",
       "<path style=\"fill:none;stroke-width:2.25;stroke-linecap:round;stroke-linejoin:round;stroke:rgb(10.588235%,61.960784%,46.666667%);stroke-opacity:0.301961;stroke-miterlimit:10;\" d=\"M 299.753906 359.464844 C 299.753906 363.066406 294.355469 363.066406 294.355469 359.464844 C 294.355469 355.867188 299.753906 355.867188 299.753906 359.464844 \"/>\n",
       "<path style=\"fill:none;stroke-width:2.25;stroke-linecap:round;stroke-linejoin:round;stroke:rgb(10.588235%,61.960784%,46.666667%);stroke-opacity:0.301961;stroke-miterlimit:10;\" d=\"M 302.980469 367.65625 C 302.980469 371.257812 297.582031 371.257812 297.582031 367.65625 C 297.582031 364.058594 302.980469 364.058594 302.980469 367.65625 \"/>\n",
       "<path style=\"fill:none;stroke-width:2.25;stroke-linecap:round;stroke-linejoin:round;stroke:rgb(10.588235%,61.960784%,46.666667%);stroke-opacity:0.301961;stroke-miterlimit:10;\" d=\"M 306.210938 370.933594 C 306.210938 374.535156 300.808594 374.535156 300.808594 370.933594 C 300.808594 367.332031 306.210938 367.332031 306.210938 370.933594 \"/>\n",
       "<path style=\"fill:none;stroke-width:2.25;stroke-linecap:round;stroke-linejoin:round;stroke:rgb(10.588235%,61.960784%,46.666667%);stroke-opacity:0.301961;stroke-miterlimit:10;\" d=\"M 309.4375 359.464844 C 309.4375 363.066406 304.035156 363.066406 304.035156 359.464844 C 304.035156 355.867188 309.4375 355.867188 309.4375 359.464844 \"/>\n",
       "<path style=\"fill:none;stroke-width:2.25;stroke-linecap:round;stroke-linejoin:round;stroke:rgb(10.588235%,61.960784%,46.666667%);stroke-opacity:0.301961;stroke-miterlimit:10;\" d=\"M 312.664062 340.355469 C 312.664062 343.957031 307.261719 343.957031 307.261719 340.355469 C 307.261719 336.753906 312.664062 336.753906 312.664062 340.355469 \"/>\n",
       "<path style=\"fill:none;stroke-width:2.25;stroke-linecap:round;stroke-linejoin:round;stroke:rgb(10.588235%,61.960784%,46.666667%);stroke-opacity:0.301961;stroke-miterlimit:10;\" d=\"M 315.890625 324.65625 C 315.890625 328.257812 310.488281 328.257812 310.488281 324.65625 C 310.488281 321.058594 315.890625 321.058594 315.890625 324.65625 \"/>\n",
       "<path style=\"fill:none;stroke-width:2.25;stroke-linecap:round;stroke-linejoin:round;stroke:rgb(10.588235%,61.960784%,46.666667%);stroke-opacity:0.301961;stroke-miterlimit:10;\" d=\"M 319.117188 333.125 C 319.117188 336.722656 313.71875 336.722656 313.71875 333.125 C 313.71875 329.523438 319.117188 329.523438 319.117188 333.125 \"/>\n",
       "<path style=\"fill:none;stroke-width:2.25;stroke-linecap:round;stroke-linejoin:round;stroke:rgb(10.588235%,61.960784%,46.666667%);stroke-opacity:0.301961;stroke-miterlimit:10;\" d=\"M 322.34375 370.933594 C 322.34375 374.535156 316.945312 374.535156 316.945312 370.933594 C 316.945312 367.332031 322.34375 367.332031 322.34375 370.933594 \"/>\n",
       "<path style=\"fill:none;stroke-width:2.25;stroke-linecap:round;stroke-linejoin:round;stroke:rgb(10.588235%,61.960784%,46.666667%);stroke-opacity:0.301961;stroke-miterlimit:10;\" d=\"M 325.570312 352.300781 C 325.570312 355.898438 320.171875 355.898438 320.171875 352.300781 C 320.171875 348.699219 325.570312 348.699219 325.570312 352.300781 \"/>\n",
       "<path style=\"fill:none;stroke-width:2.25;stroke-linecap:round;stroke-linejoin:round;stroke:rgb(10.588235%,61.960784%,46.666667%);stroke-opacity:0.301961;stroke-miterlimit:10;\" d=\"M 328.796875 310.042969 C 328.796875 313.640625 323.398438 313.640625 323.398438 310.042969 C 323.398438 306.441406 328.796875 306.441406 328.796875 310.042969 \"/>\n",
       "<path style=\"fill:none;stroke-width:2.25;stroke-linecap:round;stroke-linejoin:round;stroke:rgb(10.588235%,61.960784%,46.666667%);stroke-opacity:0.301961;stroke-miterlimit:10;\" d=\"M 332.023438 318.515625 C 332.023438 322.113281 326.625 322.113281 326.625 318.515625 C 326.625 314.914062 332.023438 314.914062 332.023438 318.515625 \"/>\n",
       "<path style=\"fill:none;stroke-width:2.25;stroke-linecap:round;stroke-linejoin:round;stroke:rgb(10.588235%,61.960784%,46.666667%);stroke-opacity:0.301961;stroke-miterlimit:10;\" d=\"M 335.25 356.972656 C 335.25 360.574219 329.851562 360.574219 329.851562 356.972656 C 329.851562 353.375 335.25 353.375 335.25 356.972656 \"/>\n",
       "<path style=\"fill:none;stroke-width:2.25;stroke-linecap:round;stroke-linejoin:round;stroke:rgb(10.588235%,61.960784%,46.666667%);stroke-opacity:0.301961;stroke-miterlimit:10;\" d=\"M 338.476562 416.800781 C 338.476562 420.398438 333.078125 420.398438 333.078125 416.800781 C 333.078125 413.199219 338.476562 413.199219 338.476562 416.800781 \"/>\n",
       "<path style=\"fill:none;stroke-width:2.25;stroke-linecap:round;stroke-linejoin:round;stroke:rgb(10.588235%,61.960784%,46.666667%);stroke-opacity:0.301961;stroke-miterlimit:10;\" d=\"M 341.703125 359.464844 C 341.703125 363.066406 336.304688 363.066406 336.304688 359.464844 C 336.304688 355.867188 341.703125 355.867188 341.703125 359.464844 \"/>\n",
       "<path style=\"fill:none;stroke-width:2.25;stroke-linecap:round;stroke-linejoin:round;stroke:rgb(10.588235%,61.960784%,46.666667%);stroke-opacity:0.301961;stroke-miterlimit:10;\" d=\"M 344.933594 318.515625 C 344.933594 322.113281 339.53125 322.113281 339.53125 318.515625 C 339.53125 314.914062 344.933594 314.914062 344.933594 318.515625 \"/>\n",
       "<path style=\"fill:none;stroke-width:2.25;stroke-linecap:round;stroke-linejoin:round;stroke:rgb(10.588235%,61.960784%,46.666667%);stroke-opacity:0.301961;stroke-miterlimit:10;\" d=\"M 348.160156 359.464844 C 348.160156 363.066406 342.757812 363.066406 342.757812 359.464844 C 342.757812 355.867188 348.160156 355.867188 348.160156 359.464844 \"/>\n",
       "<path style=\"fill:none;stroke-width:2.25;stroke-linecap:round;stroke-linejoin:round;stroke:rgb(10.588235%,61.960784%,46.666667%);stroke-opacity:0.301961;stroke-miterlimit:10;\" d=\"M 351.386719 348 C 351.386719 351.601562 345.984375 351.601562 345.984375 348 C 345.984375 344.398438 351.386719 344.398438 351.386719 348 \"/>\n",
       "<path style=\"fill:none;stroke-width:2.25;stroke-linecap:round;stroke-linejoin:round;stroke:rgb(10.588235%,61.960784%,46.666667%);stroke-opacity:0.301961;stroke-miterlimit:10;\" d=\"M 354.613281 244.800781 C 354.613281 248.398438 349.210938 248.398438 349.210938 244.800781 C 349.210938 241.199219 354.613281 241.199219 354.613281 244.800781 \"/>\n",
       "<path style=\"fill:none;stroke-width:2.25;stroke-linecap:round;stroke-linejoin:round;stroke:rgb(10.588235%,61.960784%,46.666667%);stroke-opacity:0.301961;stroke-miterlimit:10;\" d=\"M 357.839844 72.800781 C 357.839844 76.398438 352.441406 76.398438 352.441406 72.800781 C 352.441406 69.199219 357.839844 69.199219 357.839844 72.800781 \"/>\n",
       "<path style=\"fill:none;stroke-width:2.25;stroke-linecap:round;stroke-linejoin:round;stroke:rgb(10.588235%,61.960784%,46.666667%);stroke-opacity:0.301961;stroke-miterlimit:10;\" d=\"M 361.066406 416.800781 C 361.066406 420.398438 355.667969 420.398438 355.667969 416.800781 C 355.667969 413.199219 361.066406 413.199219 361.066406 416.800781 \"/>\n",
       "<path style=\"fill:none;stroke-width:2.25;stroke-linecap:round;stroke-linejoin:round;stroke:rgb(10.588235%,61.960784%,46.666667%);stroke-opacity:0.301961;stroke-miterlimit:10;\" d=\"M 364.292969 244.800781 C 364.292969 248.398438 358.894531 248.398438 358.894531 244.800781 C 358.894531 241.199219 364.292969 241.199219 364.292969 244.800781 \"/>\n",
       "<path style=\"fill:none;stroke-width:2.25;stroke-linecap:round;stroke-linejoin:round;stroke:rgb(10.588235%,61.960784%,46.666667%);stroke-opacity:0.301961;stroke-miterlimit:10;\" d=\"M 367.519531 187.464844 C 367.519531 191.066406 362.121094 191.066406 362.121094 187.464844 C 362.121094 183.867188 367.519531 183.867188 367.519531 187.464844 \"/>\n",
       "<path style=\"fill:none;stroke-width:2.25;stroke-linecap:round;stroke-linejoin:round;stroke:rgb(10.588235%,61.960784%,46.666667%);stroke-opacity:0.301961;stroke-miterlimit:10;\" d=\"M 370.746094 416.800781 C 370.746094 420.398438 365.347656 420.398438 365.347656 416.800781 C 365.347656 413.199219 370.746094 413.199219 370.746094 416.800781 \"/>\n",
       "<path style=\"fill:none;stroke-width:2.25;stroke-linecap:round;stroke-linejoin:round;stroke:rgb(10.588235%,61.960784%,46.666667%);stroke-opacity:0.301961;stroke-miterlimit:10;\" d=\"M 373.972656 416.800781 C 373.972656 420.398438 368.574219 420.398438 368.574219 416.800781 C 368.574219 413.199219 373.972656 413.199219 373.972656 416.800781 \"/>\n",
       "<path style=\"fill:none;stroke-width:2.25;stroke-linecap:round;stroke-linejoin:round;stroke:rgb(10.588235%,61.960784%,46.666667%);stroke-opacity:0.301961;stroke-miterlimit:10;\" d=\"M 377.199219 416.800781 C 377.199219 420.398438 371.800781 420.398438 371.800781 416.800781 C 371.800781 413.199219 377.199219 413.199219 377.199219 416.800781 \"/>\n",
       "<path style=\"fill:none;stroke-width:2.25;stroke-linecap:round;stroke-linejoin:round;stroke:rgb(10.588235%,61.960784%,46.666667%);stroke-opacity:0.301961;stroke-miterlimit:10;\" d=\"M 380.425781 416.800781 C 380.425781 420.398438 375.027344 420.398438 375.027344 416.800781 C 375.027344 413.199219 380.425781 413.199219 380.425781 416.800781 \"/>\n",
       "<path style=\"fill:none;stroke-width:2.25;stroke-linecap:round;stroke-linejoin:round;stroke:rgb(10.588235%,61.960784%,46.666667%);stroke-opacity:0.301961;stroke-miterlimit:10;\" d=\"M 383.65625 416.800781 C 383.65625 420.398438 378.253906 420.398438 378.253906 416.800781 C 378.253906 413.199219 383.65625 413.199219 383.65625 416.800781 \"/>\n",
       "<path style=\"fill:none;stroke-width:2.25;stroke-linecap:round;stroke-linejoin:round;stroke:rgb(10.588235%,61.960784%,46.666667%);stroke-opacity:0.301961;stroke-miterlimit:10;\" d=\"M 386.882812 416.800781 C 386.882812 420.398438 381.480469 420.398438 381.480469 416.800781 C 381.480469 413.199219 386.882812 413.199219 386.882812 416.800781 \"/>\n",
       "<path style=\"fill:none;stroke-width:2.25;stroke-linecap:round;stroke-linejoin:round;stroke:rgb(10.588235%,61.960784%,46.666667%);stroke-opacity:0.301961;stroke-miterlimit:10;\" d=\"M 390.109375 416.800781 C 390.109375 420.398438 384.707031 420.398438 384.707031 416.800781 C 384.707031 413.199219 390.109375 413.199219 390.109375 416.800781 \"/>\n",
       "<path style=\"fill:none;stroke-width:2.25;stroke-linecap:round;stroke-linejoin:round;stroke:rgb(10.588235%,61.960784%,46.666667%);stroke-opacity:0.301961;stroke-miterlimit:10;\" d=\"M 393.335938 416.800781 C 393.335938 420.398438 387.933594 420.398438 387.933594 416.800781 C 387.933594 413.199219 393.335938 413.199219 393.335938 416.800781 \"/>\n",
       "<path style=\"fill:none;stroke-width:2.25;stroke-linecap:round;stroke-linejoin:round;stroke:rgb(10.588235%,61.960784%,46.666667%);stroke-opacity:0.301961;stroke-miterlimit:10;\" d=\"M 396.5625 416.800781 C 396.5625 420.398438 391.164062 420.398438 391.164062 416.800781 C 391.164062 413.199219 396.5625 413.199219 396.5625 416.800781 \"/>\n",
       "<path style=\"fill:none;stroke-width:2.25;stroke-linecap:round;stroke-linejoin:round;stroke:rgb(10.588235%,61.960784%,46.666667%);stroke-opacity:0.301961;stroke-miterlimit:10;\" d=\"M 399.789062 416.800781 C 399.789062 420.398438 394.390625 420.398438 394.390625 416.800781 C 394.390625 413.199219 399.789062 413.199219 399.789062 416.800781 \"/>\n",
       "<path style=\"fill:none;stroke-width:2.25;stroke-linecap:round;stroke-linejoin:round;stroke:rgb(10.588235%,61.960784%,46.666667%);stroke-opacity:0.301961;stroke-miterlimit:10;\" d=\"M 403.015625 416.800781 C 403.015625 420.398438 397.617188 420.398438 397.617188 416.800781 C 397.617188 413.199219 403.015625 413.199219 403.015625 416.800781 \"/>\n",
       "<path style=\"fill:none;stroke-width:2.25;stroke-linecap:round;stroke-linejoin:round;stroke:rgb(10.588235%,61.960784%,46.666667%);stroke-opacity:0.301961;stroke-miterlimit:10;\" d=\"M 406.242188 416.800781 C 406.242188 420.398438 400.84375 420.398438 400.84375 416.800781 C 400.84375 413.199219 406.242188 413.199219 406.242188 416.800781 \"/>\n",
       "<path style=\"fill:none;stroke-width:2.25;stroke-linecap:round;stroke-linejoin:round;stroke:rgb(10.588235%,61.960784%,46.666667%);stroke-opacity:0.301961;stroke-miterlimit:10;\" d=\"M 409.46875 416.800781 C 409.46875 420.398438 404.070312 420.398438 404.070312 416.800781 C 404.070312 413.199219 409.46875 413.199219 409.46875 416.800781 \"/>\n",
       "<path style=\"fill:none;stroke-width:2.25;stroke-linecap:round;stroke-linejoin:round;stroke:rgb(10.588235%,61.960784%,46.666667%);stroke-opacity:0.301961;stroke-miterlimit:10;\" d=\"M 412.695312 416.800781 C 412.695312 420.398438 407.296875 420.398438 407.296875 416.800781 C 407.296875 413.199219 412.695312 413.199219 412.695312 416.800781 \"/>\n",
       "<path style=\"fill:none;stroke-width:2.25;stroke-linecap:round;stroke-linejoin:round;stroke:rgb(10.588235%,61.960784%,46.666667%);stroke-opacity:0.301961;stroke-miterlimit:10;\" d=\"M 415.921875 416.800781 C 415.921875 420.398438 410.523438 420.398438 410.523438 416.800781 C 410.523438 413.199219 415.921875 413.199219 415.921875 416.800781 \"/>\n",
       "<path style=\"fill:none;stroke-width:2.25;stroke-linecap:round;stroke-linejoin:round;stroke:rgb(10.588235%,61.960784%,46.666667%);stroke-opacity:0.301961;stroke-miterlimit:10;\" d=\"M 419.152344 416.800781 C 419.152344 420.398438 413.75 420.398438 413.75 416.800781 C 413.75 413.199219 419.152344 413.199219 419.152344 416.800781 \"/>\n",
       "<path style=\"fill:none;stroke-width:2.25;stroke-linecap:round;stroke-linejoin:round;stroke:rgb(10.588235%,61.960784%,46.666667%);stroke-opacity:0.301961;stroke-miterlimit:10;\" d=\"M 422.378906 416.800781 C 422.378906 420.398438 416.976562 420.398438 416.976562 416.800781 C 416.976562 413.199219 422.378906 413.199219 422.378906 416.800781 \"/>\n",
       "<path style=\"fill:none;stroke-width:2.25;stroke-linecap:round;stroke-linejoin:round;stroke:rgb(10.588235%,61.960784%,46.666667%);stroke-opacity:0.301961;stroke-miterlimit:10;\" d=\"M 425.605469 416.800781 C 425.605469 420.398438 420.203125 420.398438 420.203125 416.800781 C 420.203125 413.199219 425.605469 413.199219 425.605469 416.800781 \"/>\n",
       "<path style=\"fill:none;stroke-width:2.25;stroke-linecap:round;stroke-linejoin:round;stroke:rgb(10.588235%,61.960784%,46.666667%);stroke-opacity:0.301961;stroke-miterlimit:10;\" d=\"M 428.832031 416.800781 C 428.832031 420.398438 423.429688 420.398438 423.429688 416.800781 C 423.429688 413.199219 428.832031 413.199219 428.832031 416.800781 \"/>\n",
       "<path style=\"fill:none;stroke-width:2.25;stroke-linecap:round;stroke-linejoin:round;stroke:rgb(10.588235%,61.960784%,46.666667%);stroke-opacity:0.301961;stroke-miterlimit:10;\" d=\"M 432.058594 416.800781 C 432.058594 420.398438 426.65625 420.398438 426.65625 416.800781 C 426.65625 413.199219 432.058594 413.199219 432.058594 416.800781 \"/>\n",
       "<path style=\"fill:none;stroke-width:2.25;stroke-linecap:round;stroke-linejoin:round;stroke:rgb(10.588235%,61.960784%,46.666667%);stroke-opacity:0.301961;stroke-miterlimit:10;\" d=\"M 435.285156 416.800781 C 435.285156 420.398438 429.886719 420.398438 429.886719 416.800781 C 429.886719 413.199219 435.285156 413.199219 435.285156 416.800781 \"/>\n",
       "<path style=\"fill:none;stroke-width:2.25;stroke-linecap:round;stroke-linejoin:round;stroke:rgb(10.588235%,61.960784%,46.666667%);stroke-opacity:0.301961;stroke-miterlimit:10;\" d=\"M 438.511719 416.800781 C 438.511719 420.398438 433.113281 420.398438 433.113281 416.800781 C 433.113281 413.199219 438.511719 413.199219 438.511719 416.800781 \"/>\n",
       "<path style=\"fill:none;stroke-width:2.25;stroke-linecap:round;stroke-linejoin:round;stroke:rgb(10.588235%,61.960784%,46.666667%);stroke-opacity:0.301961;stroke-miterlimit:10;\" d=\"M 441.738281 416.800781 C 441.738281 420.398438 436.339844 420.398438 436.339844 416.800781 C 436.339844 413.199219 441.738281 413.199219 441.738281 416.800781 \"/>\n",
       "<path style=\"fill:none;stroke-width:2.25;stroke-linecap:round;stroke-linejoin:round;stroke:rgb(10.588235%,61.960784%,46.666667%);stroke-opacity:0.301961;stroke-miterlimit:10;\" d=\"M 444.964844 416.800781 C 444.964844 420.398438 439.566406 420.398438 439.566406 416.800781 C 439.566406 413.199219 444.964844 413.199219 444.964844 416.800781 \"/>\n",
       "<path style=\"fill:none;stroke-width:2.25;stroke-linecap:round;stroke-linejoin:round;stroke:rgb(10.588235%,61.960784%,46.666667%);stroke-opacity:0.301961;stroke-miterlimit:10;\" d=\"M 448.191406 416.800781 C 448.191406 420.398438 442.792969 420.398438 442.792969 416.800781 C 442.792969 413.199219 448.191406 413.199219 448.191406 416.800781 \"/>\n",
       "<path style=\"fill:none;stroke-width:2.25;stroke-linecap:round;stroke-linejoin:round;stroke:rgb(10.588235%,61.960784%,46.666667%);stroke-opacity:0.301961;stroke-miterlimit:10;\" d=\"M 451.417969 416.800781 C 451.417969 420.398438 446.019531 420.398438 446.019531 416.800781 C 446.019531 413.199219 451.417969 413.199219 451.417969 416.800781 \"/>\n",
       "<path style=\"fill:none;stroke-width:2.25;stroke-linecap:round;stroke-linejoin:round;stroke:rgb(10.588235%,61.960784%,46.666667%);stroke-opacity:0.301961;stroke-miterlimit:10;\" d=\"M 454.644531 416.800781 C 454.644531 420.398438 449.246094 420.398438 449.246094 416.800781 C 449.246094 413.199219 454.644531 413.199219 454.644531 416.800781 \"/>\n",
       "<path style=\"fill:none;stroke-width:2.25;stroke-linecap:round;stroke-linejoin:round;stroke:rgb(10.588235%,61.960784%,46.666667%);stroke-opacity:0.301961;stroke-miterlimit:10;\" d=\"M 457.875 416.800781 C 457.875 420.398438 452.472656 420.398438 452.472656 416.800781 C 452.472656 413.199219 457.875 413.199219 457.875 416.800781 \"/>\n",
       "<path style=\"fill:none;stroke-width:2.25;stroke-linecap:round;stroke-linejoin:round;stroke:rgb(10.588235%,61.960784%,46.666667%);stroke-opacity:0.301961;stroke-miterlimit:10;\" d=\"M 461.101562 416.800781 C 461.101562 420.398438 455.699219 420.398438 455.699219 416.800781 C 455.699219 413.199219 461.101562 413.199219 461.101562 416.800781 \"/>\n",
       "<path style=\"fill:none;stroke-width:0.75;stroke-linecap:round;stroke-linejoin:round;stroke:rgb(0%,0%,0%);stroke-opacity:1;stroke-miterlimit:10;\" d=\"M 71.171875 430.558594 L 458.398438 430.558594 \"/>\n",
       "<path style=\"fill:none;stroke-width:0.75;stroke-linecap:round;stroke-linejoin:round;stroke:rgb(0%,0%,0%);stroke-opacity:1;stroke-miterlimit:10;\" d=\"M 71.171875 430.558594 L 71.171875 437.761719 \"/>\n",
       "<path style=\"fill:none;stroke-width:0.75;stroke-linecap:round;stroke-linejoin:round;stroke:rgb(0%,0%,0%);stroke-opacity:1;stroke-miterlimit:10;\" d=\"M 135.710938 430.558594 L 135.710938 437.761719 \"/>\n",
       "<path style=\"fill:none;stroke-width:0.75;stroke-linecap:round;stroke-linejoin:round;stroke:rgb(0%,0%,0%);stroke-opacity:1;stroke-miterlimit:10;\" d=\"M 200.25 430.558594 L 200.25 437.761719 \"/>\n",
       "<path style=\"fill:none;stroke-width:0.75;stroke-linecap:round;stroke-linejoin:round;stroke:rgb(0%,0%,0%);stroke-opacity:1;stroke-miterlimit:10;\" d=\"M 264.785156 430.558594 L 264.785156 437.761719 \"/>\n",
       "<path style=\"fill:none;stroke-width:0.75;stroke-linecap:round;stroke-linejoin:round;stroke:rgb(0%,0%,0%);stroke-opacity:1;stroke-miterlimit:10;\" d=\"M 329.324219 430.558594 L 329.324219 437.761719 \"/>\n",
       "<path style=\"fill:none;stroke-width:0.75;stroke-linecap:round;stroke-linejoin:round;stroke:rgb(0%,0%,0%);stroke-opacity:1;stroke-miterlimit:10;\" d=\"M 393.863281 430.558594 L 393.863281 437.761719 \"/>\n",
       "<path style=\"fill:none;stroke-width:0.75;stroke-linecap:round;stroke-linejoin:round;stroke:rgb(0%,0%,0%);stroke-opacity:1;stroke-miterlimit:10;\" d=\"M 458.398438 430.558594 L 458.398438 437.761719 \"/>\n",
       "<g style=\"fill:rgb(0%,0%,0%);fill-opacity:1;\">\n",
       "  <use xlink:href=\"#glyph0-1\" x=\"66.167969\" y=\"456.480469\"/>\n",
       "</g>\n",
       "<g style=\"fill:rgb(0%,0%,0%);fill-opacity:1;\">\n",
       "  <use xlink:href=\"#glyph0-2\" x=\"125.699219\" y=\"456.480469\"/>\n",
       "  <use xlink:href=\"#glyph0-1\" x=\"135.709961\" y=\"456.480469\"/>\n",
       "</g>\n",
       "<g style=\"fill:rgb(0%,0%,0%);fill-opacity:1;\">\n",
       "  <use xlink:href=\"#glyph0-3\" x=\"190.238281\" y=\"456.480469\"/>\n",
       "  <use xlink:href=\"#glyph0-1\" x=\"200.249023\" y=\"456.480469\"/>\n",
       "</g>\n",
       "<g style=\"fill:rgb(0%,0%,0%);fill-opacity:1;\">\n",
       "  <use xlink:href=\"#glyph0-4\" x=\"254.773438\" y=\"456.480469\"/>\n",
       "  <use xlink:href=\"#glyph0-1\" x=\"264.78418\" y=\"456.480469\"/>\n",
       "</g>\n",
       "<g style=\"fill:rgb(0%,0%,0%);fill-opacity:1;\">\n",
       "  <use xlink:href=\"#glyph0-5\" x=\"319.3125\" y=\"456.480469\"/>\n",
       "  <use xlink:href=\"#glyph0-1\" x=\"329.323242\" y=\"456.480469\"/>\n",
       "</g>\n",
       "<g style=\"fill:rgb(0%,0%,0%);fill-opacity:1;\">\n",
       "  <use xlink:href=\"#glyph0-6\" x=\"378.847656\" y=\"456.480469\"/>\n",
       "  <use xlink:href=\"#glyph0-1\" x=\"388.858398\" y=\"456.480469\"/>\n",
       "  <use xlink:href=\"#glyph0-1\" x=\"398.869141\" y=\"456.480469\"/>\n",
       "</g>\n",
       "<g style=\"fill:rgb(0%,0%,0%);fill-opacity:1;\">\n",
       "  <use xlink:href=\"#glyph0-6\" x=\"443.382812\" y=\"456.480469\"/>\n",
       "  <use xlink:href=\"#glyph0-2\" x=\"453.393555\" y=\"456.480469\"/>\n",
       "  <use xlink:href=\"#glyph0-1\" x=\"463.404297\" y=\"456.480469\"/>\n",
       "</g>\n",
       "<path style=\"fill:none;stroke-width:0.75;stroke-linecap:round;stroke-linejoin:round;stroke:rgb(0%,0%,0%);stroke-opacity:1;stroke-miterlimit:10;\" d=\"M 59.039062 416.800781 L 59.039062 72.800781 \"/>\n",
       "<path style=\"fill:none;stroke-width:0.75;stroke-linecap:round;stroke-linejoin:round;stroke:rgb(0%,0%,0%);stroke-opacity:1;stroke-miterlimit:10;\" d=\"M 59.039062 416.800781 L 51.839844 416.800781 \"/>\n",
       "<path style=\"fill:none;stroke-width:0.75;stroke-linecap:round;stroke-linejoin:round;stroke:rgb(0%,0%,0%);stroke-opacity:1;stroke-miterlimit:10;\" d=\"M 59.039062 348 L 51.839844 348 \"/>\n",
       "<path style=\"fill:none;stroke-width:0.75;stroke-linecap:round;stroke-linejoin:round;stroke:rgb(0%,0%,0%);stroke-opacity:1;stroke-miterlimit:10;\" d=\"M 59.039062 279.199219 L 51.839844 279.199219 \"/>\n",
       "<path style=\"fill:none;stroke-width:0.75;stroke-linecap:round;stroke-linejoin:round;stroke:rgb(0%,0%,0%);stroke-opacity:1;stroke-miterlimit:10;\" d=\"M 59.039062 210.398438 L 51.839844 210.398438 \"/>\n",
       "<path style=\"fill:none;stroke-width:0.75;stroke-linecap:round;stroke-linejoin:round;stroke:rgb(0%,0%,0%);stroke-opacity:1;stroke-miterlimit:10;\" d=\"M 59.039062 141.601562 L 51.839844 141.601562 \"/>\n",
       "<path style=\"fill:none;stroke-width:0.75;stroke-linecap:round;stroke-linejoin:round;stroke:rgb(0%,0%,0%);stroke-opacity:1;stroke-miterlimit:10;\" d=\"M 59.039062 72.800781 L 51.839844 72.800781 \"/>\n",
       "<g style=\"fill:rgb(0%,0%,0%);fill-opacity:1;\">\n",
       "  <use xlink:href=\"#glyph1-1\" x=\"41.761719\" y=\"429.3125\"/>\n",
       "  <use xlink:href=\"#glyph1-2\" x=\"41.761719\" y=\"419.301758\"/>\n",
       "  <use xlink:href=\"#glyph1-1\" x=\"41.761719\" y=\"414.300781\"/>\n",
       "</g>\n",
       "<g style=\"fill:rgb(0%,0%,0%);fill-opacity:1;\">\n",
       "  <use xlink:href=\"#glyph1-1\" x=\"41.761719\" y=\"360.511719\"/>\n",
       "  <use xlink:href=\"#glyph1-2\" x=\"41.761719\" y=\"350.500977\"/>\n",
       "  <use xlink:href=\"#glyph1-3\" x=\"41.761719\" y=\"345.5\"/>\n",
       "</g>\n",
       "<g style=\"fill:rgb(0%,0%,0%);fill-opacity:1;\">\n",
       "  <use xlink:href=\"#glyph1-1\" x=\"41.761719\" y=\"291.710938\"/>\n",
       "  <use xlink:href=\"#glyph1-2\" x=\"41.761719\" y=\"281.700195\"/>\n",
       "  <use xlink:href=\"#glyph1-4\" x=\"41.761719\" y=\"276.699219\"/>\n",
       "</g>\n",
       "<g style=\"fill:rgb(0%,0%,0%);fill-opacity:1;\">\n",
       "  <use xlink:href=\"#glyph1-1\" x=\"41.761719\" y=\"222.910156\"/>\n",
       "  <use xlink:href=\"#glyph1-2\" x=\"41.761719\" y=\"212.899414\"/>\n",
       "  <use xlink:href=\"#glyph1-5\" x=\"41.761719\" y=\"207.898438\"/>\n",
       "</g>\n",
       "<g style=\"fill:rgb(0%,0%,0%);fill-opacity:1;\">\n",
       "  <use xlink:href=\"#glyph1-1\" x=\"41.761719\" y=\"154.113281\"/>\n",
       "  <use xlink:href=\"#glyph1-2\" x=\"41.761719\" y=\"144.102539\"/>\n",
       "  <use xlink:href=\"#glyph1-6\" x=\"41.761719\" y=\"139.101562\"/>\n",
       "</g>\n",
       "<g style=\"fill:rgb(0%,0%,0%);fill-opacity:1;\">\n",
       "  <use xlink:href=\"#glyph1-7\" x=\"41.761719\" y=\"85.3125\"/>\n",
       "  <use xlink:href=\"#glyph1-2\" x=\"41.761719\" y=\"75.301758\"/>\n",
       "  <use xlink:href=\"#glyph1-1\" x=\"41.761719\" y=\"70.300781\"/>\n",
       "</g>\n",
       "<path style=\"fill:none;stroke-width:0.75;stroke-linecap:round;stroke-linejoin:round;stroke:rgb(0%,0%,0%);stroke-opacity:1;stroke-miterlimit:10;\" d=\"M 59.039062 430.558594 L 473.761719 430.558594 L 473.761719 59.039062 L 59.039062 59.039062 L 59.039062 430.558594 \"/>\n",
       "<g style=\"fill:rgb(0%,0%,0%);fill-opacity:1;\">\n",
       "  <use xlink:href=\"#glyph2-1\" x=\"108.851562\" y=\"35.996094\"/>\n",
       "  <use xlink:href=\"#glyph2-2\" x=\"119.84668\" y=\"35.996094\"/>\n",
       "  <use xlink:href=\"#glyph2-3\" x=\"130.841797\" y=\"35.996094\"/>\n",
       "  <use xlink:href=\"#glyph2-4\" x=\"140.852539\" y=\"35.996094\"/>\n",
       "  <use xlink:href=\"#glyph2-5\" x=\"147.857422\" y=\"35.996094\"/>\n",
       "  <use xlink:href=\"#glyph2-6\" x=\"163.862305\" y=\"35.996094\"/>\n",
       "  <use xlink:href=\"#glyph2-7\" x=\"173.873047\" y=\"35.996094\"/>\n",
       "  <use xlink:href=\"#glyph2-8\" x=\"178.874023\" y=\"35.996094\"/>\n",
       "  <use xlink:href=\"#glyph2-9\" x=\"183.875\" y=\"35.996094\"/>\n",
       "  <use xlink:href=\"#glyph2-3\" x=\"196.874023\" y=\"35.996094\"/>\n",
       "  <use xlink:href=\"#glyph2-10\" x=\"206.884766\" y=\"35.996094\"/>\n",
       "  <use xlink:href=\"#glyph2-11\" x=\"217.879883\" y=\"35.996094\"/>\n",
       "  <use xlink:href=\"#glyph2-5\" x=\"222.880859\" y=\"35.996094\"/>\n",
       "  <use xlink:href=\"#glyph2-3\" x=\"238.885742\" y=\"35.996094\"/>\n",
       "  <use xlink:href=\"#glyph2-8\" x=\"248.896484\" y=\"35.996094\"/>\n",
       "  <use xlink:href=\"#glyph2-1\" x=\"253.897461\" y=\"35.996094\"/>\n",
       "  <use xlink:href=\"#glyph2-3\" x=\"264.892578\" y=\"35.996094\"/>\n",
       "  <use xlink:href=\"#glyph2-5\" x=\"274.90332\" y=\"35.996094\"/>\n",
       "  <use xlink:href=\"#glyph2-12\" x=\"290.908203\" y=\"35.996094\"/>\n",
       "  <use xlink:href=\"#glyph2-3\" x=\"301.90332\" y=\"35.996094\"/>\n",
       "  <use xlink:href=\"#glyph2-4\" x=\"311.914062\" y=\"35.996094\"/>\n",
       "  <use xlink:href=\"#glyph2-6\" x=\"318.918945\" y=\"35.996094\"/>\n",
       "  <use xlink:href=\"#glyph2-13\" x=\"328.929688\" y=\"35.996094\"/>\n",
       "  <use xlink:href=\"#glyph2-14\" x=\"334.923828\" y=\"35.996094\"/>\n",
       "  <use xlink:href=\"#glyph2-4\" x=\"345.918945\" y=\"35.996094\"/>\n",
       "  <use xlink:href=\"#glyph2-3\" x=\"352.923828\" y=\"35.996094\"/>\n",
       "  <use xlink:href=\"#glyph2-8\" x=\"362.93457\" y=\"35.996094\"/>\n",
       "  <use xlink:href=\"#glyph2-15\" x=\"367.935547\" y=\"35.996094\"/>\n",
       "  <use xlink:href=\"#glyph2-4\" x=\"379.941406\" y=\"35.996094\"/>\n",
       "  <use xlink:href=\"#glyph2-16\" x=\"386.946289\" y=\"35.996094\"/>\n",
       "  <use xlink:href=\"#glyph2-17\" x=\"397.941406\" y=\"35.996094\"/>\n",
       "  <use xlink:href=\"#glyph2-11\" x=\"403.935547\" y=\"35.996094\"/>\n",
       "  <use xlink:href=\"#glyph2-7\" x=\"408.936523\" y=\"35.996094\"/>\n",
       "  <use xlink:href=\"#glyph2-3\" x=\"413.9375\" y=\"35.996094\"/>\n",
       "</g>\n",
       "<g style=\"fill:rgb(0%,0%,0%);fill-opacity:1;\">\n",
       "  <use xlink:href=\"#glyph0-7\" x=\"201.878906\" y=\"485.28125\"/>\n",
       "  <use xlink:href=\"#glyph0-8\" x=\"212.874023\" y=\"485.28125\"/>\n",
       "  <use xlink:href=\"#glyph0-9\" x=\"222.884766\" y=\"485.28125\"/>\n",
       "  <use xlink:href=\"#glyph0-10\" x=\"237.878906\" y=\"485.28125\"/>\n",
       "  <use xlink:href=\"#glyph0-8\" x=\"247.889648\" y=\"485.28125\"/>\n",
       "  <use xlink:href=\"#glyph0-11\" x=\"257.900391\" y=\"485.28125\"/>\n",
       "  <use xlink:href=\"#glyph0-12\" x=\"263.894531\" y=\"485.28125\"/>\n",
       "  <use xlink:href=\"#glyph0-13\" x=\"273.905273\" y=\"485.28125\"/>\n",
       "  <use xlink:href=\"#glyph0-14\" x=\"278.90625\" y=\"485.28125\"/>\n",
       "  <use xlink:href=\"#glyph0-11\" x=\"288.916992\" y=\"485.28125\"/>\n",
       "  <use xlink:href=\"#glyph0-8\" x=\"294.911133\" y=\"485.28125\"/>\n",
       "  <use xlink:href=\"#glyph0-15\" x=\"304.921875\" y=\"485.28125\"/>\n",
       "  <use xlink:href=\"#glyph0-16\" x=\"309.922852\" y=\"485.28125\"/>\n",
       "  <use xlink:href=\"#glyph0-17\" x=\"314.923828\" y=\"485.28125\"/>\n",
       "  <use xlink:href=\"#glyph0-18\" x=\"325.918945\" y=\"485.28125\"/>\n",
       "</g>\n",
       "<g style=\"fill:rgb(0%,0%,0%);fill-opacity:1;\">\n",
       "  <use xlink:href=\"#glyph1-8\" x=\"12.960938\" y=\"278.054688\"/>\n",
       "  <use xlink:href=\"#glyph1-9\" x=\"12.960938\" y=\"266.048828\"/>\n",
       "  <use xlink:href=\"#glyph1-10\" x=\"12.960938\" y=\"260.054688\"/>\n",
       "  <use xlink:href=\"#glyph1-11\" x=\"12.960938\" y=\"248.048828\"/>\n",
       "  <use xlink:href=\"#glyph1-12\" x=\"12.960938\" y=\"237.537109\"/>\n",
       "  <use xlink:href=\"#glyph1-13\" x=\"12.960938\" y=\"233.538086\"/>\n",
       "  <use xlink:href=\"#glyph1-14\" x=\"12.960938\" y=\"228.537109\"/>\n",
       "  <use xlink:href=\"#glyph1-15\" x=\"12.960938\" y=\"217.541992\"/>\n",
       "</g>\n",
       "<path style=\"fill:none;stroke-width:3.75;stroke-linecap:round;stroke-linejoin:round;stroke:rgb(10.588235%,61.960784%,46.666667%);stroke-opacity:1;stroke-miterlimit:10;\" d=\"M 74.398438 324.578125 L 77.625 326.199219 L 80.855469 327.792969 L 84.082031 329.359375 L 87.308594 330.894531 L 90.535156 332.398438 L 93.761719 333.871094 L 96.988281 335.316406 L 100.214844 336.726562 L 103.441406 338.101562 L 106.667969 339.449219 L 109.894531 340.757812 L 113.121094 342.035156 L 116.347656 343.277344 L 119.578125 344.484375 L 122.804688 345.65625 L 126.03125 346.792969 L 129.257812 347.894531 L 132.484375 348.957031 L 135.710938 349.984375 L 138.9375 350.972656 L 142.164062 351.925781 L 145.390625 352.84375 L 148.617188 353.71875 L 151.84375 354.5625 L 155.074219 355.363281 L 158.300781 356.128906 L 161.527344 356.855469 L 164.753906 357.546875 L 167.980469 358.199219 L 171.207031 358.8125 L 174.433594 359.390625 L 177.660156 359.929688 L 180.886719 360.429688 L 184.113281 360.894531 L 187.339844 361.320312 L 190.566406 361.707031 L 193.796875 362.0625 L 197.023438 362.375 L 200.25 362.65625 L 203.476562 362.898438 L 206.703125 363.105469 L 209.929688 363.273438 L 213.15625 363.410156 L 216.382812 363.507812 L 219.609375 363.574219 L 222.835938 363.605469 L 226.0625 363.601562 L 229.289062 363.5625 L 232.519531 363.488281 L 235.746094 363.382812 L 238.972656 363.246094 L 242.199219 363.078125 L 245.425781 362.875 L 248.652344 362.640625 L 251.878906 362.375 L 255.105469 362.078125 L 258.332031 361.753906 L 261.558594 361.394531 L 264.785156 361.011719 L 268.011719 360.59375 L 271.242188 360.152344 L 274.46875 359.679688 L 277.695312 359.179688 L 280.921875 358.65625 L 284.148438 358.101562 L 287.375 357.523438 L 290.601562 356.917969 L 293.828125 356.289062 L 297.054688 355.636719 L 300.28125 354.957031 L 303.507812 354.257812 L 306.734375 353.53125 L 309.964844 352.785156 L 313.191406 352.015625 L 316.417969 351.226562 L 319.644531 350.414062 L 322.871094 349.585938 L 326.097656 348.734375 L 329.324219 347.867188 L 332.550781 346.976562 L 335.777344 346.070312 L 339.003906 345.148438 L 342.230469 344.210938 L 345.457031 343.253906 L 348.6875 342.28125 L 351.914062 341.296875 L 355.140625 340.296875 L 358.367188 339.285156 L 361.59375 338.257812 L 364.820312 337.21875 L 368.046875 336.167969 L 371.273438 335.109375 L 374.5 334.035156 L 377.726562 332.953125 L 380.953125 331.863281 L 384.179688 330.765625 L 387.410156 329.660156 L 393.863281 327.425781 L 400.316406 325.167969 L 403.542969 324.03125 L 409.996094 321.75 L 413.222656 320.605469 L 422.902344 317.160156 L 426.132812 316.007812 L 432.585938 313.710938 L 439.039062 311.421875 L 442.265625 310.28125 L 445.492188 309.144531 L 448.71875 308.011719 L 451.945312 306.882812 L 455.171875 305.757812 L 458.398438 304.640625 L 461.625 303.53125 \"/>\n",
       "<path style=\"fill:none;stroke-width:2.25;stroke-linecap:round;stroke-linejoin:round;stroke:rgb(85.098039%,37.254902%,0.784314%);stroke-opacity:0.301961;stroke-miterlimit:10;\" d=\"M 135.847656 409.601562 L 138.804688 252 \"/>\n",
       "<path style=\"fill:none;stroke-width:2.25;stroke-linecap:round;stroke-linejoin:round;stroke:rgb(85.098039%,37.254902%,0.784314%);stroke-opacity:0.301961;stroke-miterlimit:10;\" d=\"M 139.207031 251.996094 L 141.894531 323.605469 \"/>\n",
       "<path style=\"fill:none;stroke-width:2.25;stroke-linecap:round;stroke-linejoin:round;stroke:rgb(85.098039%,37.254902%,0.784314%);stroke-opacity:0.301961;stroke-miterlimit:10;\" d=\"M 142.433594 337.996094 L 145.121094 409.605469 \"/>\n",
       "<path style=\"fill:none;stroke-width:2.25;stroke-linecap:round;stroke-linejoin:round;stroke:rgb(85.098039%,37.254902%,0.784314%);stroke-opacity:0.301961;stroke-miterlimit:10;\" d=\"M 149.023438 409.613281 L 151.441406 366.65625 \"/>\n",
       "<path style=\"fill:none;stroke-width:2.25;stroke-linecap:round;stroke-linejoin:round;stroke:rgb(85.098039%,37.254902%,0.784314%);stroke-opacity:0.301961;stroke-miterlimit:10;\" d=\"M 152.28125 352.28125 L 154.636719 313.414062 \"/>\n",
       "<path style=\"fill:none;stroke-width:2.25;stroke-linecap:round;stroke-linejoin:round;stroke:rgb(85.098039%,37.254902%,0.784314%);stroke-opacity:0.301961;stroke-miterlimit:10;\" d=\"M 169.09375 306.933594 L 170.09375 300.523438 \"/>\n",
       "<path style=\"fill:none;stroke-width:2.25;stroke-linecap:round;stroke-linejoin:round;stroke:rgb(85.098039%,37.254902%,0.784314%);stroke-opacity:0.301961;stroke-miterlimit:10;\" d=\"M 172.015625 286.253906 L 173.625 271.953125 \"/>\n",
       "<path style=\"fill:none;stroke-width:2.25;stroke-linecap:round;stroke-linejoin:round;stroke:rgb(85.098039%,37.254902%,0.784314%);stroke-opacity:0.301961;stroke-miterlimit:10;\" d=\"M 178.957031 279.039062 L 179.59375 282.523438 \"/>\n",
       "<path style=\"fill:none;stroke-width:2.25;stroke-linecap:round;stroke-linejoin:round;stroke:rgb(85.098039%,37.254902%,0.784314%);stroke-opacity:0.301961;stroke-miterlimit:10;\" d=\"M 214.566406 287.3125 L 214.972656 289.339844 \"/>\n",
       "<path style=\"fill:none;stroke-width:2.25;stroke-linecap:round;stroke-linejoin:round;stroke:rgb(85.098039%,37.254902%,0.784314%);stroke-opacity:0.301961;stroke-miterlimit:10;\" d=\"M 221.007812 277.429688 L 221.4375 275.253906 \"/>\n",
       "<path style=\"fill:none;stroke-width:2.25;stroke-linecap:round;stroke-linejoin:round;stroke:rgb(85.098039%,37.254902%,0.784314%);stroke-opacity:0.301961;stroke-miterlimit:10;\" d=\"M 259.578125 258.878906 L 260.3125 254.710938 \"/>\n",
       "<path style=\"fill:none;stroke-width:2.25;stroke-linecap:round;stroke-linejoin:round;stroke:rgb(85.098039%,37.254902%,0.784314%);stroke-opacity:0.301961;stroke-miterlimit:10;\" d=\"M 262.851562 254.703125 L 263.496094 258.230469 \"/>\n",
       "<path style=\"fill:none;stroke-width:2.25;stroke-linecap:round;stroke-linejoin:round;stroke:rgb(85.098039%,37.254902%,0.784314%);stroke-opacity:0.301961;stroke-miterlimit:10;\" d=\"M 265.808594 272.441406 L 266.992188 280.671875 \"/>\n",
       "<path style=\"fill:none;stroke-width:2.25;stroke-linecap:round;stroke-linejoin:round;stroke:rgb(85.098039%,37.254902%,0.784314%);stroke-opacity:0.301961;stroke-miterlimit:10;\" d=\"M 268.527344 280.617188 L 270.722656 250.050781 \"/>\n",
       "<path style=\"fill:none;stroke-width:2.25;stroke-linecap:round;stroke-linejoin:round;stroke:rgb(85.098039%,37.254902%,0.784314%);stroke-opacity:0.301961;stroke-miterlimit:10;\" d=\"M 275.875 258.230469 L 276.285156 260.296875 \"/>\n",
       "<path style=\"fill:none;stroke-width:2.25;stroke-linecap:round;stroke-linejoin:round;stroke:rgb(85.098039%,37.254902%,0.784314%);stroke-opacity:0.301961;stroke-miterlimit:10;\" d=\"M 279.050781 260.285156 L 279.566406 257.605469 \"/>\n",
       "<path style=\"fill:none;stroke-width:2.25;stroke-linecap:round;stroke-linejoin:round;stroke:rgb(85.098039%,37.254902%,0.784314%);stroke-opacity:0.301961;stroke-miterlimit:10;\" d=\"M 301.609375 253.765625 L 302.183594 256.835938 \"/>\n",
       "<path style=\"fill:none;stroke-width:2.25;stroke-linecap:round;stroke-linejoin:round;stroke:rgb(85.098039%,37.254902%,0.784314%);stroke-opacity:0.301961;stroke-miterlimit:10;\" d=\"M 307.582031 256.761719 L 309.117188 243.757812 \"/>\n",
       "<path style=\"fill:none;stroke-width:2.25;stroke-linecap:round;stroke-linejoin:round;stroke:rgb(85.098039%,37.254902%,0.784314%);stroke-opacity:0.301961;stroke-miterlimit:10;\" d=\"M 323.398438 273.480469 L 325.566406 302.859375 \"/>\n",
       "<path style=\"fill:none;stroke-width:2.25;stroke-linecap:round;stroke-linejoin:round;stroke:rgb(85.098039%,37.254902%,0.784314%);stroke-opacity:0.301961;stroke-miterlimit:10;\" d=\"M 336.183594 294.945312 L 338.601562 251.988281 \"/>\n",
       "<path style=\"fill:none;stroke-width:2.25;stroke-linecap:round;stroke-linejoin:round;stroke:rgb(85.098039%,37.254902%,0.784314%);stroke-opacity:0.301961;stroke-miterlimit:10;\" d=\"M 339.320312 251.992188 L 341.917969 311.320312 \"/>\n",
       "<path style=\"fill:none;stroke-width:2.25;stroke-linecap:round;stroke-linejoin:round;stroke:rgb(85.098039%,37.254902%,0.784314%);stroke-opacity:0.301961;stroke-miterlimit:10;\" d=\"M 343.625 311.449219 L 344.066406 309.199219 \"/>\n",
       "<path style=\"fill:none;stroke-width:2.25;stroke-linecap:round;stroke-linejoin:round;stroke:rgb(85.098039%,37.254902%,0.784314%);stroke-opacity:0.301961;stroke-miterlimit:10;\" d=\"M 346.460938 295.003906 L 347.683594 286.328125 \"/>\n",
       "<path style=\"fill:none;stroke-width:2.25;stroke-linecap:round;stroke-linejoin:round;stroke:rgb(85.098039%,37.254902%,0.784314%);stroke-opacity:0.301961;stroke-miterlimit:10;\" d=\"M 349.136719 286.386719 L 351.464844 323.613281 \"/>\n",
       "<path style=\"fill:none;stroke-width:2.25;stroke-linecap:round;stroke-linejoin:round;stroke:rgb(85.098039%,37.254902%,0.784314%);stroke-opacity:0.301961;stroke-miterlimit:10;\" d=\"M 352.183594 337.996094 L 354.871094 409.605469 \"/>\n",
       "<path style=\"fill:none;stroke-width:2.25;stroke-linecap:round;stroke-linejoin:round;stroke:rgb(85.098039%,37.254902%,0.784314%);stroke-opacity:0.301961;stroke-miterlimit:10;\" d=\"M 355.207031 409.601562 L 358.300781 80 \"/>\n",
       "<path style=\"fill:none;stroke-width:2.25;stroke-linecap:round;stroke-linejoin:round;stroke:rgb(85.098039%,37.254902%,0.784314%);stroke-opacity:0.301961;stroke-miterlimit:10;\" d=\"M 358.5 80 L 361.457031 237.601562 \"/>\n",
       "<path style=\"fill:none;stroke-width:2.25;stroke-linecap:round;stroke-linejoin:round;stroke:rgb(85.098039%,37.254902%,0.784314%);stroke-opacity:0.301961;stroke-miterlimit:10;\" d=\"M 361.996094 251.988281 L 364.414062 294.945312 \"/>\n",
       "<path style=\"fill:none;stroke-width:2.25;stroke-linecap:round;stroke-linejoin:round;stroke:rgb(85.098039%,37.254902%,0.784314%);stroke-opacity:0.301961;stroke-miterlimit:10;\" d=\"M 365.023438 309.332031 L 367.84375 409.601562 \"/>\n",
       "<path style=\"fill:none;stroke-width:2.25;stroke-linecap:round;stroke-linejoin:round;stroke:rgb(85.098039%,37.254902%,0.784314%);stroke-opacity:0.301961;stroke-miterlimit:10;\" d=\"M 77.101562 416.800781 C 77.101562 420.398438 71.699219 420.398438 71.699219 416.800781 C 71.699219 413.199219 77.101562 413.199219 77.101562 416.800781 \"/>\n",
       "<path style=\"fill:none;stroke-width:2.25;stroke-linecap:round;stroke-linejoin:round;stroke:rgb(85.098039%,37.254902%,0.784314%);stroke-opacity:0.301961;stroke-miterlimit:10;\" d=\"M 80.328125 416.800781 C 80.328125 420.398438 74.925781 420.398438 74.925781 416.800781 C 74.925781 413.199219 80.328125 413.199219 80.328125 416.800781 \"/>\n",
       "<path style=\"fill:none;stroke-width:2.25;stroke-linecap:round;stroke-linejoin:round;stroke:rgb(85.098039%,37.254902%,0.784314%);stroke-opacity:0.301961;stroke-miterlimit:10;\" d=\"M 83.554688 416.800781 C 83.554688 420.398438 78.152344 420.398438 78.152344 416.800781 C 78.152344 413.199219 83.554688 413.199219 83.554688 416.800781 \"/>\n",
       "<path style=\"fill:none;stroke-width:2.25;stroke-linecap:round;stroke-linejoin:round;stroke:rgb(85.098039%,37.254902%,0.784314%);stroke-opacity:0.301961;stroke-miterlimit:10;\" d=\"M 86.78125 416.800781 C 86.78125 420.398438 81.378906 420.398438 81.378906 416.800781 C 81.378906 413.199219 86.78125 413.199219 86.78125 416.800781 \"/>\n",
       "<path style=\"fill:none;stroke-width:2.25;stroke-linecap:round;stroke-linejoin:round;stroke:rgb(85.098039%,37.254902%,0.784314%);stroke-opacity:0.301961;stroke-miterlimit:10;\" d=\"M 90.007812 416.800781 C 90.007812 420.398438 84.609375 420.398438 84.609375 416.800781 C 84.609375 413.199219 90.007812 413.199219 90.007812 416.800781 \"/>\n",
       "<path style=\"fill:none;stroke-width:2.25;stroke-linecap:round;stroke-linejoin:round;stroke:rgb(85.098039%,37.254902%,0.784314%);stroke-opacity:0.301961;stroke-miterlimit:10;\" d=\"M 93.234375 416.800781 C 93.234375 420.398438 87.835938 420.398438 87.835938 416.800781 C 87.835938 413.199219 93.234375 413.199219 93.234375 416.800781 \"/>\n",
       "<path style=\"fill:none;stroke-width:2.25;stroke-linecap:round;stroke-linejoin:round;stroke:rgb(85.098039%,37.254902%,0.784314%);stroke-opacity:0.301961;stroke-miterlimit:10;\" d=\"M 96.460938 416.800781 C 96.460938 420.398438 91.0625 420.398438 91.0625 416.800781 C 91.0625 413.199219 96.460938 413.199219 96.460938 416.800781 \"/>\n",
       "<path style=\"fill:none;stroke-width:2.25;stroke-linecap:round;stroke-linejoin:round;stroke:rgb(85.098039%,37.254902%,0.784314%);stroke-opacity:0.301961;stroke-miterlimit:10;\" d=\"M 99.6875 416.800781 C 99.6875 420.398438 94.289062 420.398438 94.289062 416.800781 C 94.289062 413.199219 99.6875 413.199219 99.6875 416.800781 \"/>\n",
       "<path style=\"fill:none;stroke-width:2.25;stroke-linecap:round;stroke-linejoin:round;stroke:rgb(85.098039%,37.254902%,0.784314%);stroke-opacity:0.301961;stroke-miterlimit:10;\" d=\"M 102.914062 416.800781 C 102.914062 420.398438 97.515625 420.398438 97.515625 416.800781 C 97.515625 413.199219 102.914062 413.199219 102.914062 416.800781 \"/>\n",
       "<path style=\"fill:none;stroke-width:2.25;stroke-linecap:round;stroke-linejoin:round;stroke:rgb(85.098039%,37.254902%,0.784314%);stroke-opacity:0.301961;stroke-miterlimit:10;\" d=\"M 106.140625 416.800781 C 106.140625 420.398438 100.742188 420.398438 100.742188 416.800781 C 100.742188 413.199219 106.140625 413.199219 106.140625 416.800781 \"/>\n",
       "<path style=\"fill:none;stroke-width:2.25;stroke-linecap:round;stroke-linejoin:round;stroke:rgb(85.098039%,37.254902%,0.784314%);stroke-opacity:0.301961;stroke-miterlimit:10;\" d=\"M 109.367188 416.800781 C 109.367188 420.398438 103.96875 420.398438 103.96875 416.800781 C 103.96875 413.199219 109.367188 413.199219 109.367188 416.800781 \"/>\n",
       "<path style=\"fill:none;stroke-width:2.25;stroke-linecap:round;stroke-linejoin:round;stroke:rgb(85.098039%,37.254902%,0.784314%);stroke-opacity:0.301961;stroke-miterlimit:10;\" d=\"M 112.597656 416.800781 C 112.597656 420.398438 107.195312 420.398438 107.195312 416.800781 C 107.195312 413.199219 112.597656 413.199219 112.597656 416.800781 \"/>\n",
       "<path style=\"fill:none;stroke-width:2.25;stroke-linecap:round;stroke-linejoin:round;stroke:rgb(85.098039%,37.254902%,0.784314%);stroke-opacity:0.301961;stroke-miterlimit:10;\" d=\"M 115.824219 416.800781 C 115.824219 420.398438 110.421875 420.398438 110.421875 416.800781 C 110.421875 413.199219 115.824219 413.199219 115.824219 416.800781 \"/>\n",
       "<path style=\"fill:none;stroke-width:2.25;stroke-linecap:round;stroke-linejoin:round;stroke:rgb(85.098039%,37.254902%,0.784314%);stroke-opacity:0.301961;stroke-miterlimit:10;\" d=\"M 119.050781 416.800781 C 119.050781 420.398438 113.648438 420.398438 113.648438 416.800781 C 113.648438 413.199219 119.050781 413.199219 119.050781 416.800781 \"/>\n",
       "<path style=\"fill:none;stroke-width:2.25;stroke-linecap:round;stroke-linejoin:round;stroke:rgb(85.098039%,37.254902%,0.784314%);stroke-opacity:0.301961;stroke-miterlimit:10;\" d=\"M 122.277344 416.800781 C 122.277344 420.398438 116.875 420.398438 116.875 416.800781 C 116.875 413.199219 122.277344 413.199219 122.277344 416.800781 \"/>\n",
       "<path style=\"fill:none;stroke-width:2.25;stroke-linecap:round;stroke-linejoin:round;stroke:rgb(85.098039%,37.254902%,0.784314%);stroke-opacity:0.301961;stroke-miterlimit:10;\" d=\"M 125.503906 416.800781 C 125.503906 420.398438 120.101562 420.398438 120.101562 416.800781 C 120.101562 413.199219 125.503906 413.199219 125.503906 416.800781 \"/>\n",
       "<path style=\"fill:none;stroke-width:2.25;stroke-linecap:round;stroke-linejoin:round;stroke:rgb(85.098039%,37.254902%,0.784314%);stroke-opacity:0.301961;stroke-miterlimit:10;\" d=\"M 128.730469 416.800781 C 128.730469 420.398438 123.332031 420.398438 123.332031 416.800781 C 123.332031 413.199219 128.730469 413.199219 128.730469 416.800781 \"/>\n",
       "<path style=\"fill:none;stroke-width:2.25;stroke-linecap:round;stroke-linejoin:round;stroke:rgb(85.098039%,37.254902%,0.784314%);stroke-opacity:0.301961;stroke-miterlimit:10;\" d=\"M 131.957031 416.800781 C 131.957031 420.398438 126.558594 420.398438 126.558594 416.800781 C 126.558594 413.199219 131.957031 413.199219 131.957031 416.800781 \"/>\n",
       "<path style=\"fill:none;stroke-width:2.25;stroke-linecap:round;stroke-linejoin:round;stroke:rgb(85.098039%,37.254902%,0.784314%);stroke-opacity:0.301961;stroke-miterlimit:10;\" d=\"M 135.183594 416.800781 C 135.183594 420.398438 129.785156 420.398438 129.785156 416.800781 C 129.785156 413.199219 135.183594 413.199219 135.183594 416.800781 \"/>\n",
       "<path style=\"fill:none;stroke-width:2.25;stroke-linecap:round;stroke-linejoin:round;stroke:rgb(85.098039%,37.254902%,0.784314%);stroke-opacity:0.301961;stroke-miterlimit:10;\" d=\"M 138.410156 416.800781 C 138.410156 420.398438 133.011719 420.398438 133.011719 416.800781 C 133.011719 413.199219 138.410156 413.199219 138.410156 416.800781 \"/>\n",
       "<path style=\"fill:none;stroke-width:2.25;stroke-linecap:round;stroke-linejoin:round;stroke:rgb(85.098039%,37.254902%,0.784314%);stroke-opacity:0.301961;stroke-miterlimit:10;\" d=\"M 141.636719 244.800781 C 141.636719 248.398438 136.238281 248.398438 136.238281 244.800781 C 136.238281 241.199219 141.636719 241.199219 141.636719 244.800781 \"/>\n",
       "<path style=\"fill:none;stroke-width:2.25;stroke-linecap:round;stroke-linejoin:round;stroke:rgb(85.098039%,37.254902%,0.784314%);stroke-opacity:0.301961;stroke-miterlimit:10;\" d=\"M 144.863281 330.800781 C 144.863281 334.398438 139.464844 334.398438 139.464844 330.800781 C 139.464844 327.199219 144.863281 327.199219 144.863281 330.800781 \"/>\n",
       "<path style=\"fill:none;stroke-width:2.25;stroke-linecap:round;stroke-linejoin:round;stroke:rgb(85.098039%,37.254902%,0.784314%);stroke-opacity:0.301961;stroke-miterlimit:10;\" d=\"M 148.089844 416.800781 C 148.089844 420.398438 142.691406 420.398438 142.691406 416.800781 C 142.691406 413.199219 148.089844 413.199219 148.089844 416.800781 \"/>\n",
       "<path style=\"fill:none;stroke-width:2.25;stroke-linecap:round;stroke-linejoin:round;stroke:rgb(85.098039%,37.254902%,0.784314%);stroke-opacity:0.301961;stroke-miterlimit:10;\" d=\"M 151.320312 416.800781 C 151.320312 420.398438 145.917969 420.398438 145.917969 416.800781 C 145.917969 413.199219 151.320312 413.199219 151.320312 416.800781 \"/>\n",
       "<path style=\"fill:none;stroke-width:2.25;stroke-linecap:round;stroke-linejoin:round;stroke:rgb(85.098039%,37.254902%,0.784314%);stroke-opacity:0.301961;stroke-miterlimit:10;\" d=\"M 154.546875 359.464844 C 154.546875 363.066406 149.144531 363.066406 149.144531 359.464844 C 149.144531 355.867188 154.546875 355.867188 154.546875 359.464844 \"/>\n",
       "<path style=\"fill:none;stroke-width:2.25;stroke-linecap:round;stroke-linejoin:round;stroke:rgb(85.098039%,37.254902%,0.784314%);stroke-opacity:0.301961;stroke-miterlimit:10;\" d=\"M 157.773438 306.230469 C 157.773438 309.828125 152.371094 309.828125 152.371094 306.230469 C 152.371094 302.628906 157.773438 302.628906 157.773438 306.230469 \"/>\n",
       "<path style=\"fill:none;stroke-width:2.25;stroke-linecap:round;stroke-linejoin:round;stroke:rgb(85.098039%,37.254902%,0.784314%);stroke-opacity:0.301961;stroke-miterlimit:10;\" d=\"M 161 311.492188 C 161 315.09375 155.597656 315.09375 155.597656 311.492188 C 155.597656 307.894531 161 307.894531 161 311.492188 \"/>\n",
       "<path style=\"fill:none;stroke-width:2.25;stroke-linecap:round;stroke-linejoin:round;stroke:rgb(85.098039%,37.254902%,0.784314%);stroke-opacity:0.301961;stroke-miterlimit:10;\" d=\"M 164.226562 323.511719 C 164.226562 327.113281 158.824219 327.113281 158.824219 323.511719 C 158.824219 319.910156 164.226562 319.910156 164.226562 323.511719 \"/>\n",
       "<path style=\"fill:none;stroke-width:2.25;stroke-linecap:round;stroke-linejoin:round;stroke:rgb(85.098039%,37.254902%,0.784314%);stroke-opacity:0.301961;stroke-miterlimit:10;\" d=\"M 167.453125 314.113281 C 167.453125 317.714844 162.054688 317.714844 162.054688 314.113281 C 162.054688 310.511719 167.453125 310.511719 167.453125 314.113281 \"/>\n",
       "<path style=\"fill:none;stroke-width:2.25;stroke-linecap:round;stroke-linejoin:round;stroke:rgb(85.098039%,37.254902%,0.784314%);stroke-opacity:0.301961;stroke-miterlimit:10;\" d=\"M 170.679688 314.046875 C 170.679688 317.648438 165.28125 317.648438 165.28125 314.046875 C 165.28125 310.445312 170.679688 310.445312 170.679688 314.046875 \"/>\n",
       "<path style=\"fill:none;stroke-width:2.25;stroke-linecap:round;stroke-linejoin:round;stroke:rgb(85.098039%,37.254902%,0.784314%);stroke-opacity:0.301961;stroke-miterlimit:10;\" d=\"M 173.90625 293.410156 C 173.90625 297.007812 168.507812 297.007812 168.507812 293.410156 C 168.507812 289.808594 173.90625 289.808594 173.90625 293.410156 \"/>\n",
       "<path style=\"fill:none;stroke-width:2.25;stroke-linecap:round;stroke-linejoin:round;stroke:rgb(85.098039%,37.254902%,0.784314%);stroke-opacity:0.301961;stroke-miterlimit:10;\" d=\"M 177.132812 264.800781 C 177.132812 268.398438 171.734375 268.398438 171.734375 264.800781 C 171.734375 261.199219 177.132812 261.199219 177.132812 264.800781 \"/>\n",
       "<path style=\"fill:none;stroke-width:2.25;stroke-linecap:round;stroke-linejoin:round;stroke:rgb(85.098039%,37.254902%,0.784314%);stroke-opacity:0.301961;stroke-miterlimit:10;\" d=\"M 180.359375 271.957031 C 180.359375 275.558594 174.960938 275.558594 174.960938 271.957031 C 174.960938 268.359375 180.359375 268.359375 180.359375 271.957031 \"/>\n",
       "<path style=\"fill:none;stroke-width:2.25;stroke-linecap:round;stroke-linejoin:round;stroke:rgb(85.098039%,37.254902%,0.784314%);stroke-opacity:0.301961;stroke-miterlimit:10;\" d=\"M 183.585938 289.605469 C 183.585938 293.207031 178.1875 293.207031 178.1875 289.605469 C 178.1875 286.007812 183.585938 286.007812 183.585938 289.605469 \"/>\n",
       "<path style=\"fill:none;stroke-width:2.25;stroke-linecap:round;stroke-linejoin:round;stroke:rgb(85.098039%,37.254902%,0.784314%);stroke-opacity:0.301961;stroke-miterlimit:10;\" d=\"M 186.8125 295.386719 C 186.8125 298.988281 181.414062 298.988281 181.414062 295.386719 C 181.414062 291.789062 186.8125 291.789062 186.8125 295.386719 \"/>\n",
       "<path style=\"fill:none;stroke-width:2.25;stroke-linecap:round;stroke-linejoin:round;stroke:rgb(85.098039%,37.254902%,0.784314%);stroke-opacity:0.301961;stroke-miterlimit:10;\" d=\"M 190.042969 283.5625 C 190.042969 287.160156 184.640625 287.160156 184.640625 283.5625 C 184.640625 279.960938 190.042969 279.960938 190.042969 283.5625 \"/>\n",
       "<path style=\"fill:none;stroke-width:2.25;stroke-linecap:round;stroke-linejoin:round;stroke:rgb(85.098039%,37.254902%,0.784314%);stroke-opacity:0.301961;stroke-miterlimit:10;\" d=\"M 193.269531 284.492188 C 193.269531 288.09375 187.867188 288.09375 187.867188 284.492188 C 187.867188 280.890625 193.269531 280.890625 193.269531 284.492188 \"/>\n",
       "<path style=\"fill:none;stroke-width:2.25;stroke-linecap:round;stroke-linejoin:round;stroke:rgb(85.098039%,37.254902%,0.784314%);stroke-opacity:0.301961;stroke-miterlimit:10;\" d=\"M 196.496094 292.859375 C 196.496094 296.457031 191.09375 296.457031 191.09375 292.859375 C 191.09375 289.257812 196.496094 289.257812 196.496094 292.859375 \"/>\n",
       "<path style=\"fill:none;stroke-width:2.25;stroke-linecap:round;stroke-linejoin:round;stroke:rgb(85.098039%,37.254902%,0.784314%);stroke-opacity:0.301961;stroke-miterlimit:10;\" d=\"M 199.722656 289.222656 C 199.722656 292.824219 194.320312 292.824219 194.320312 289.222656 C 194.320312 285.625 199.722656 285.625 199.722656 289.222656 \"/>\n",
       "<path style=\"fill:none;stroke-width:2.25;stroke-linecap:round;stroke-linejoin:round;stroke:rgb(85.098039%,37.254902%,0.784314%);stroke-opacity:0.301961;stroke-miterlimit:10;\" d=\"M 202.949219 300.75 C 202.949219 304.351562 197.546875 304.351562 197.546875 300.75 C 197.546875 297.152344 202.949219 297.152344 202.949219 300.75 \"/>\n",
       "<path style=\"fill:none;stroke-width:2.25;stroke-linecap:round;stroke-linejoin:round;stroke:rgb(85.098039%,37.254902%,0.784314%);stroke-opacity:0.301961;stroke-miterlimit:10;\" d=\"M 206.175781 289.152344 C 206.175781 292.753906 200.777344 292.753906 200.777344 289.152344 C 200.777344 285.550781 206.175781 285.550781 206.175781 289.152344 \"/>\n",
       "<path style=\"fill:none;stroke-width:2.25;stroke-linecap:round;stroke-linejoin:round;stroke:rgb(85.098039%,37.254902%,0.784314%);stroke-opacity:0.301961;stroke-miterlimit:10;\" d=\"M 209.402344 281.492188 C 209.402344 285.09375 204.003906 285.09375 204.003906 281.492188 C 204.003906 277.894531 209.402344 277.894531 209.402344 281.492188 \"/>\n",
       "<path style=\"fill:none;stroke-width:2.25;stroke-linecap:round;stroke-linejoin:round;stroke:rgb(85.098039%,37.254902%,0.784314%);stroke-opacity:0.301961;stroke-miterlimit:10;\" d=\"M 212.628906 285.410156 C 212.628906 289.011719 207.230469 289.011719 207.230469 285.410156 C 207.230469 281.8125 212.628906 281.8125 212.628906 285.410156 \"/>\n",
       "<path style=\"fill:none;stroke-width:2.25;stroke-linecap:round;stroke-linejoin:round;stroke:rgb(85.098039%,37.254902%,0.784314%);stroke-opacity:0.301961;stroke-miterlimit:10;\" d=\"M 215.855469 280.25 C 215.855469 283.851562 210.457031 283.851562 210.457031 280.25 C 210.457031 276.648438 215.855469 276.648438 215.855469 280.25 \"/>\n",
       "<path style=\"fill:none;stroke-width:2.25;stroke-linecap:round;stroke-linejoin:round;stroke:rgb(85.098039%,37.254902%,0.784314%);stroke-opacity:0.301961;stroke-miterlimit:10;\" d=\"M 219.082031 296.398438 C 219.082031 300 213.683594 300 213.683594 296.398438 C 213.683594 292.800781 219.082031 292.800781 219.082031 296.398438 \"/>\n",
       "<path style=\"fill:none;stroke-width:2.25;stroke-linecap:round;stroke-linejoin:round;stroke:rgb(85.098039%,37.254902%,0.784314%);stroke-opacity:0.301961;stroke-miterlimit:10;\" d=\"M 222.308594 284.492188 C 222.308594 288.09375 216.910156 288.09375 216.910156 284.492188 C 216.910156 280.890625 222.308594 280.890625 222.308594 284.492188 \"/>\n",
       "<path style=\"fill:none;stroke-width:2.25;stroke-linecap:round;stroke-linejoin:round;stroke:rgb(85.098039%,37.254902%,0.784314%);stroke-opacity:0.301961;stroke-miterlimit:10;\" d=\"M 225.535156 268.191406 C 225.535156 271.792969 220.136719 271.792969 220.136719 268.191406 C 220.136719 264.59375 225.535156 264.59375 225.535156 268.191406 \"/>\n",
       "<path style=\"fill:none;stroke-width:2.25;stroke-linecap:round;stroke-linejoin:round;stroke:rgb(85.098039%,37.254902%,0.784314%);stroke-opacity:0.301961;stroke-miterlimit:10;\" d=\"M 228.765625 262.132812 C 228.765625 265.734375 223.363281 265.734375 223.363281 262.132812 C 223.363281 258.535156 228.765625 258.535156 228.765625 262.132812 \"/>\n",
       "<path style=\"fill:none;stroke-width:2.25;stroke-linecap:round;stroke-linejoin:round;stroke:rgb(85.098039%,37.254902%,0.784314%);stroke-opacity:0.301961;stroke-miterlimit:10;\" d=\"M 231.992188 261.84375 C 231.992188 265.445312 226.589844 265.445312 226.589844 261.84375 C 226.589844 258.246094 231.992188 258.246094 231.992188 261.84375 \"/>\n",
       "<path style=\"fill:none;stroke-width:2.25;stroke-linecap:round;stroke-linejoin:round;stroke:rgb(85.098039%,37.254902%,0.784314%);stroke-opacity:0.301961;stroke-miterlimit:10;\" d=\"M 235.21875 266.121094 C 235.21875 269.722656 229.816406 269.722656 229.816406 266.121094 C 229.816406 262.523438 235.21875 262.523438 235.21875 266.121094 \"/>\n",
       "<path style=\"fill:none;stroke-width:2.25;stroke-linecap:round;stroke-linejoin:round;stroke:rgb(85.098039%,37.254902%,0.784314%);stroke-opacity:0.301961;stroke-miterlimit:10;\" d=\"M 238.445312 275.464844 C 238.445312 279.066406 233.042969 279.066406 233.042969 275.464844 C 233.042969 271.867188 238.445312 271.867188 238.445312 275.464844 \"/>\n",
       "<path style=\"fill:none;stroke-width:2.25;stroke-linecap:round;stroke-linejoin:round;stroke:rgb(85.098039%,37.254902%,0.784314%);stroke-opacity:0.301961;stroke-miterlimit:10;\" d=\"M 241.671875 264.199219 C 241.671875 267.796875 236.269531 267.796875 236.269531 264.199219 C 236.269531 260.597656 241.671875 260.597656 241.671875 264.199219 \"/>\n",
       "<path style=\"fill:none;stroke-width:2.25;stroke-linecap:round;stroke-linejoin:round;stroke:rgb(85.098039%,37.254902%,0.784314%);stroke-opacity:0.301961;stroke-miterlimit:10;\" d=\"M 244.898438 251.679688 C 244.898438 255.28125 239.5 255.28125 239.5 251.679688 C 239.5 248.078125 244.898438 248.078125 244.898438 251.679688 \"/>\n",
       "<path style=\"fill:none;stroke-width:2.25;stroke-linecap:round;stroke-linejoin:round;stroke:rgb(85.098039%,37.254902%,0.784314%);stroke-opacity:0.301961;stroke-miterlimit:10;\" d=\"M 248.125 254.917969 C 248.125 258.519531 242.726562 258.519531 242.726562 254.917969 C 242.726562 251.316406 248.125 251.316406 248.125 254.917969 \"/>\n",
       "<path style=\"fill:none;stroke-width:2.25;stroke-linecap:round;stroke-linejoin:round;stroke:rgb(85.098039%,37.254902%,0.784314%);stroke-opacity:0.301961;stroke-miterlimit:10;\" d=\"M 251.351562 261.84375 C 251.351562 265.445312 245.953125 265.445312 245.953125 261.84375 C 245.953125 258.246094 251.351562 258.246094 251.351562 261.84375 \"/>\n",
       "<path style=\"fill:none;stroke-width:2.25;stroke-linecap:round;stroke-linejoin:round;stroke:rgb(85.098039%,37.254902%,0.784314%);stroke-opacity:0.301961;stroke-miterlimit:10;\" d=\"M 254.578125 260.4375 C 254.578125 264.035156 249.179688 264.035156 249.179688 260.4375 C 249.179688 256.835938 254.578125 256.835938 254.578125 260.4375 \"/>\n",
       "<path style=\"fill:none;stroke-width:2.25;stroke-linecap:round;stroke-linejoin:round;stroke:rgb(85.098039%,37.254902%,0.784314%);stroke-opacity:0.301961;stroke-miterlimit:10;\" d=\"M 257.804688 261.71875 C 257.804688 265.316406 252.40625 265.316406 252.40625 261.71875 C 252.40625 258.117188 257.804688 258.117188 257.804688 261.71875 \"/>\n",
       "<path style=\"fill:none;stroke-width:2.25;stroke-linecap:round;stroke-linejoin:round;stroke:rgb(85.098039%,37.254902%,0.784314%);stroke-opacity:0.301961;stroke-miterlimit:10;\" d=\"M 261.03125 265.96875 C 261.03125 269.570312 255.632812 269.570312 255.632812 265.96875 C 255.632812 262.371094 261.03125 262.371094 261.03125 265.96875 \"/>\n",
       "<path style=\"fill:none;stroke-width:2.25;stroke-linecap:round;stroke-linejoin:round;stroke:rgb(85.098039%,37.254902%,0.784314%);stroke-opacity:0.301961;stroke-miterlimit:10;\" d=\"M 264.257812 247.621094 C 264.257812 251.21875 258.859375 251.21875 258.859375 247.621094 C 258.859375 244.019531 264.257812 244.019531 264.257812 247.621094 \"/>\n",
       "<path style=\"fill:none;stroke-width:2.25;stroke-linecap:round;stroke-linejoin:round;stroke:rgb(85.098039%,37.254902%,0.784314%);stroke-opacity:0.301961;stroke-miterlimit:10;\" d=\"M 267.488281 265.3125 C 267.488281 268.914062 262.085938 268.914062 262.085938 265.3125 C 262.085938 261.714844 267.488281 261.714844 267.488281 265.3125 \"/>\n",
       "<path style=\"fill:none;stroke-width:2.25;stroke-linecap:round;stroke-linejoin:round;stroke:rgb(85.098039%,37.254902%,0.784314%);stroke-opacity:0.301961;stroke-miterlimit:10;\" d=\"M 270.714844 287.800781 C 270.714844 291.398438 265.3125 291.398438 265.3125 287.800781 C 265.3125 284.199219 270.714844 284.199219 270.714844 287.800781 \"/>\n",
       "<path style=\"fill:none;stroke-width:2.25;stroke-linecap:round;stroke-linejoin:round;stroke:rgb(85.098039%,37.254902%,0.784314%);stroke-opacity:0.301961;stroke-miterlimit:10;\" d=\"M 273.941406 242.867188 C 273.941406 246.46875 268.539062 246.46875 268.539062 242.867188 C 268.539062 239.265625 273.941406 239.265625 273.941406 242.867188 \"/>\n",
       "<path style=\"fill:none;stroke-width:2.25;stroke-linecap:round;stroke-linejoin:round;stroke:rgb(85.098039%,37.254902%,0.784314%);stroke-opacity:0.301961;stroke-miterlimit:10;\" d=\"M 277.167969 251.171875 C 277.167969 254.769531 271.765625 254.769531 271.765625 251.171875 C 271.765625 247.570312 277.167969 247.570312 277.167969 251.171875 \"/>\n",
       "<path style=\"fill:none;stroke-width:2.25;stroke-linecap:round;stroke-linejoin:round;stroke:rgb(85.098039%,37.254902%,0.784314%);stroke-opacity:0.301961;stroke-miterlimit:10;\" d=\"M 280.394531 267.355469 C 280.394531 270.957031 274.992188 270.957031 274.992188 267.355469 C 274.992188 263.757812 280.394531 263.757812 280.394531 267.355469 \"/>\n",
       "<path style=\"fill:none;stroke-width:2.25;stroke-linecap:round;stroke-linejoin:round;stroke:rgb(85.098039%,37.254902%,0.784314%);stroke-opacity:0.301961;stroke-miterlimit:10;\" d=\"M 283.621094 250.535156 C 283.621094 254.132812 278.222656 254.132812 278.222656 250.535156 C 278.222656 246.933594 283.621094 246.933594 283.621094 250.535156 \"/>\n",
       "<path style=\"fill:none;stroke-width:2.25;stroke-linecap:round;stroke-linejoin:round;stroke:rgb(85.098039%,37.254902%,0.784314%);stroke-opacity:0.301961;stroke-miterlimit:10;\" d=\"M 286.847656 243.628906 C 286.847656 247.230469 281.449219 247.230469 281.449219 243.628906 C 281.449219 240.03125 286.847656 240.03125 286.847656 243.628906 \"/>\n",
       "<path style=\"fill:none;stroke-width:2.25;stroke-linecap:round;stroke-linejoin:round;stroke:rgb(85.098039%,37.254902%,0.784314%);stroke-opacity:0.301961;stroke-miterlimit:10;\" d=\"M 290.074219 243.644531 C 290.074219 247.246094 284.675781 247.246094 284.675781 243.644531 C 284.675781 240.046875 290.074219 240.046875 290.074219 243.644531 \"/>\n",
       "<path style=\"fill:none;stroke-width:2.25;stroke-linecap:round;stroke-linejoin:round;stroke:rgb(85.098039%,37.254902%,0.784314%);stroke-opacity:0.301961;stroke-miterlimit:10;\" d=\"M 293.300781 254.722656 C 293.300781 258.324219 287.902344 258.324219 287.902344 254.722656 C 287.902344 251.125 293.300781 251.125 293.300781 254.722656 \"/>\n",
       "<path style=\"fill:none;stroke-width:2.25;stroke-linecap:round;stroke-linejoin:round;stroke:rgb(85.098039%,37.254902%,0.784314%);stroke-opacity:0.301961;stroke-miterlimit:10;\" d=\"M 296.527344 242.675781 C 296.527344 246.277344 291.128906 246.277344 291.128906 242.675781 C 291.128906 239.078125 296.527344 239.078125 296.527344 242.675781 \"/>\n",
       "<path style=\"fill:none;stroke-width:2.25;stroke-linecap:round;stroke-linejoin:round;stroke:rgb(85.098039%,37.254902%,0.784314%);stroke-opacity:0.301961;stroke-miterlimit:10;\" d=\"M 299.753906 240.703125 C 299.753906 244.304688 294.355469 244.304688 294.355469 240.703125 C 294.355469 237.105469 299.753906 237.105469 299.753906 240.703125 \"/>\n",
       "<path style=\"fill:none;stroke-width:2.25;stroke-linecap:round;stroke-linejoin:round;stroke:rgb(85.098039%,37.254902%,0.784314%);stroke-opacity:0.301961;stroke-miterlimit:10;\" d=\"M 302.980469 246.691406 C 302.980469 250.289062 297.582031 250.289062 297.582031 246.691406 C 297.582031 243.089844 302.980469 243.089844 302.980469 246.691406 \"/>\n",
       "<path style=\"fill:none;stroke-width:2.25;stroke-linecap:round;stroke-linejoin:round;stroke:rgb(85.098039%,37.254902%,0.784314%);stroke-opacity:0.301961;stroke-miterlimit:10;\" d=\"M 306.210938 263.910156 C 306.210938 267.511719 300.808594 267.511719 300.808594 263.910156 C 300.808594 260.3125 306.210938 260.3125 306.210938 263.910156 \"/>\n",
       "<path style=\"fill:none;stroke-width:2.25;stroke-linecap:round;stroke-linejoin:round;stroke:rgb(85.098039%,37.254902%,0.784314%);stroke-opacity:0.301961;stroke-miterlimit:10;\" d=\"M 309.4375 263.910156 C 309.4375 267.511719 304.035156 267.511719 304.035156 263.910156 C 304.035156 260.3125 309.4375 260.3125 309.4375 263.910156 \"/>\n",
       "<path style=\"fill:none;stroke-width:2.25;stroke-linecap:round;stroke-linejoin:round;stroke:rgb(85.098039%,37.254902%,0.784314%);stroke-opacity:0.301961;stroke-miterlimit:10;\" d=\"M 312.664062 236.609375 C 312.664062 240.210938 307.261719 240.210938 307.261719 236.609375 C 307.261719 233.007812 312.664062 233.007812 312.664062 236.609375 \"/>\n",
       "<path style=\"fill:none;stroke-width:2.25;stroke-linecap:round;stroke-linejoin:round;stroke:rgb(85.098039%,37.254902%,0.784314%);stroke-opacity:0.301961;stroke-miterlimit:10;\" d=\"M 315.890625 244.800781 C 315.890625 248.398438 310.488281 248.398438 310.488281 244.800781 C 310.488281 241.199219 315.890625 241.199219 315.890625 244.800781 \"/>\n",
       "<path style=\"fill:none;stroke-width:2.25;stroke-linecap:round;stroke-linejoin:round;stroke:rgb(85.098039%,37.254902%,0.784314%);stroke-opacity:0.301961;stroke-miterlimit:10;\" d=\"M 319.117188 258.746094 C 319.117188 262.347656 313.71875 262.347656 313.71875 258.746094 C 313.71875 255.144531 319.117188 255.144531 319.117188 258.746094 \"/>\n",
       "<path style=\"fill:none;stroke-width:2.25;stroke-linecap:round;stroke-linejoin:round;stroke:rgb(85.098039%,37.254902%,0.784314%);stroke-opacity:0.301961;stroke-miterlimit:10;\" d=\"M 322.34375 267.734375 C 322.34375 271.332031 316.945312 271.332031 316.945312 267.734375 C 316.945312 264.132812 322.34375 264.132812 322.34375 267.734375 \"/>\n",
       "<path style=\"fill:none;stroke-width:2.25;stroke-linecap:round;stroke-linejoin:round;stroke:rgb(85.098039%,37.254902%,0.784314%);stroke-opacity:0.301961;stroke-miterlimit:10;\" d=\"M 325.570312 266.300781 C 325.570312 269.898438 320.171875 269.898438 320.171875 266.300781 C 320.171875 262.699219 325.570312 262.699219 325.570312 266.300781 \"/>\n",
       "<path style=\"fill:none;stroke-width:2.25;stroke-linecap:round;stroke-linejoin:round;stroke:rgb(85.098039%,37.254902%,0.784314%);stroke-opacity:0.301961;stroke-miterlimit:10;\" d=\"M 328.796875 310.042969 C 328.796875 313.640625 323.398438 313.640625 323.398438 310.042969 C 323.398438 306.441406 328.796875 306.441406 328.796875 310.042969 \"/>\n",
       "<path style=\"fill:none;stroke-width:2.25;stroke-linecap:round;stroke-linejoin:round;stroke:rgb(85.098039%,37.254902%,0.784314%);stroke-opacity:0.301961;stroke-miterlimit:10;\" d=\"M 332.023438 318.515625 C 332.023438 322.113281 326.625 322.113281 326.625 318.515625 C 326.625 314.914062 332.023438 314.914062 332.023438 318.515625 \"/>\n",
       "<path style=\"fill:none;stroke-width:2.25;stroke-linecap:round;stroke-linejoin:round;stroke:rgb(85.098039%,37.254902%,0.784314%);stroke-opacity:0.301961;stroke-miterlimit:10;\" d=\"M 335.25 312.105469 C 335.25 315.703125 329.851562 315.703125 329.851562 312.105469 C 329.851562 308.503906 335.25 308.503906 335.25 312.105469 \"/>\n",
       "<path style=\"fill:none;stroke-width:2.25;stroke-linecap:round;stroke-linejoin:round;stroke:rgb(85.098039%,37.254902%,0.784314%);stroke-opacity:0.301961;stroke-miterlimit:10;\" d=\"M 338.476562 302.132812 C 338.476562 305.734375 333.078125 305.734375 333.078125 302.132812 C 333.078125 298.535156 338.476562 298.535156 338.476562 302.132812 \"/>\n",
       "<path style=\"fill:none;stroke-width:2.25;stroke-linecap:round;stroke-linejoin:round;stroke:rgb(85.098039%,37.254902%,0.784314%);stroke-opacity:0.301961;stroke-miterlimit:10;\" d=\"M 341.703125 244.800781 C 341.703125 248.398438 336.304688 248.398438 336.304688 244.800781 C 336.304688 241.199219 341.703125 241.199219 341.703125 244.800781 \"/>\n",
       "<path style=\"fill:none;stroke-width:2.25;stroke-linecap:round;stroke-linejoin:round;stroke:rgb(85.098039%,37.254902%,0.784314%);stroke-opacity:0.301961;stroke-miterlimit:10;\" d=\"M 344.933594 318.515625 C 344.933594 322.113281 339.53125 322.113281 339.53125 318.515625 C 339.53125 314.914062 344.933594 314.914062 344.933594 318.515625 \"/>\n",
       "<path style=\"fill:none;stroke-width:2.25;stroke-linecap:round;stroke-linejoin:round;stroke:rgb(85.098039%,37.254902%,0.784314%);stroke-opacity:0.301961;stroke-miterlimit:10;\" d=\"M 348.160156 302.132812 C 348.160156 305.734375 342.757812 305.734375 342.757812 302.132812 C 342.757812 298.535156 348.160156 298.535156 348.160156 302.132812 \"/>\n",
       "<path style=\"fill:none;stroke-width:2.25;stroke-linecap:round;stroke-linejoin:round;stroke:rgb(85.098039%,37.254902%,0.784314%);stroke-opacity:0.301961;stroke-miterlimit:10;\" d=\"M 351.386719 279.199219 C 351.386719 282.800781 345.984375 282.800781 345.984375 279.199219 C 345.984375 275.601562 351.386719 275.601562 351.386719 279.199219 \"/>\n",
       "<path style=\"fill:none;stroke-width:2.25;stroke-linecap:round;stroke-linejoin:round;stroke:rgb(85.098039%,37.254902%,0.784314%);stroke-opacity:0.301961;stroke-miterlimit:10;\" d=\"M 354.613281 330.800781 C 354.613281 334.398438 349.210938 334.398438 349.210938 330.800781 C 349.210938 327.199219 354.613281 327.199219 354.613281 330.800781 \"/>\n",
       "<path style=\"fill:none;stroke-width:2.25;stroke-linecap:round;stroke-linejoin:round;stroke:rgb(85.098039%,37.254902%,0.784314%);stroke-opacity:0.301961;stroke-miterlimit:10;\" d=\"M 357.839844 416.800781 C 357.839844 420.398438 352.441406 420.398438 352.441406 416.800781 C 352.441406 413.199219 357.839844 413.199219 357.839844 416.800781 \"/>\n",
       "<path style=\"fill:none;stroke-width:2.25;stroke-linecap:round;stroke-linejoin:round;stroke:rgb(85.098039%,37.254902%,0.784314%);stroke-opacity:0.301961;stroke-miterlimit:10;\" d=\"M 361.066406 72.800781 C 361.066406 76.398438 355.667969 76.398438 355.667969 72.800781 C 355.667969 69.199219 361.066406 69.199219 361.066406 72.800781 \"/>\n",
       "<path style=\"fill:none;stroke-width:2.25;stroke-linecap:round;stroke-linejoin:round;stroke:rgb(85.098039%,37.254902%,0.784314%);stroke-opacity:0.301961;stroke-miterlimit:10;\" d=\"M 364.292969 244.800781 C 364.292969 248.398438 358.894531 248.398438 358.894531 244.800781 C 358.894531 241.199219 364.292969 241.199219 364.292969 244.800781 \"/>\n",
       "<path style=\"fill:none;stroke-width:2.25;stroke-linecap:round;stroke-linejoin:round;stroke:rgb(85.098039%,37.254902%,0.784314%);stroke-opacity:0.301961;stroke-miterlimit:10;\" d=\"M 367.519531 302.132812 C 367.519531 305.734375 362.121094 305.734375 362.121094 302.132812 C 362.121094 298.535156 367.519531 298.535156 367.519531 302.132812 \"/>\n",
       "<path style=\"fill:none;stroke-width:2.25;stroke-linecap:round;stroke-linejoin:round;stroke:rgb(85.098039%,37.254902%,0.784314%);stroke-opacity:0.301961;stroke-miterlimit:10;\" d=\"M 370.746094 416.800781 C 370.746094 420.398438 365.347656 420.398438 365.347656 416.800781 C 365.347656 413.199219 370.746094 413.199219 370.746094 416.800781 \"/>\n",
       "<path style=\"fill:none;stroke-width:2.25;stroke-linecap:round;stroke-linejoin:round;stroke:rgb(85.098039%,37.254902%,0.784314%);stroke-opacity:0.301961;stroke-miterlimit:10;\" d=\"M 373.972656 416.800781 C 373.972656 420.398438 368.574219 420.398438 368.574219 416.800781 C 368.574219 413.199219 373.972656 413.199219 373.972656 416.800781 \"/>\n",
       "<path style=\"fill:none;stroke-width:2.25;stroke-linecap:round;stroke-linejoin:round;stroke:rgb(85.098039%,37.254902%,0.784314%);stroke-opacity:0.301961;stroke-miterlimit:10;\" d=\"M 377.199219 416.800781 C 377.199219 420.398438 371.800781 420.398438 371.800781 416.800781 C 371.800781 413.199219 377.199219 413.199219 377.199219 416.800781 \"/>\n",
       "<path style=\"fill:none;stroke-width:2.25;stroke-linecap:round;stroke-linejoin:round;stroke:rgb(85.098039%,37.254902%,0.784314%);stroke-opacity:0.301961;stroke-miterlimit:10;\" d=\"M 380.425781 416.800781 C 380.425781 420.398438 375.027344 420.398438 375.027344 416.800781 C 375.027344 413.199219 380.425781 413.199219 380.425781 416.800781 \"/>\n",
       "<path style=\"fill:none;stroke-width:2.25;stroke-linecap:round;stroke-linejoin:round;stroke:rgb(85.098039%,37.254902%,0.784314%);stroke-opacity:0.301961;stroke-miterlimit:10;\" d=\"M 383.65625 416.800781 C 383.65625 420.398438 378.253906 420.398438 378.253906 416.800781 C 378.253906 413.199219 383.65625 413.199219 383.65625 416.800781 \"/>\n",
       "<path style=\"fill:none;stroke-width:2.25;stroke-linecap:round;stroke-linejoin:round;stroke:rgb(85.098039%,37.254902%,0.784314%);stroke-opacity:0.301961;stroke-miterlimit:10;\" d=\"M 386.882812 416.800781 C 386.882812 420.398438 381.480469 420.398438 381.480469 416.800781 C 381.480469 413.199219 386.882812 413.199219 386.882812 416.800781 \"/>\n",
       "<path style=\"fill:none;stroke-width:2.25;stroke-linecap:round;stroke-linejoin:round;stroke:rgb(85.098039%,37.254902%,0.784314%);stroke-opacity:0.301961;stroke-miterlimit:10;\" d=\"M 390.109375 416.800781 C 390.109375 420.398438 384.707031 420.398438 384.707031 416.800781 C 384.707031 413.199219 390.109375 413.199219 390.109375 416.800781 \"/>\n",
       "<path style=\"fill:none;stroke-width:2.25;stroke-linecap:round;stroke-linejoin:round;stroke:rgb(85.098039%,37.254902%,0.784314%);stroke-opacity:0.301961;stroke-miterlimit:10;\" d=\"M 393.335938 416.800781 C 393.335938 420.398438 387.933594 420.398438 387.933594 416.800781 C 387.933594 413.199219 393.335938 413.199219 393.335938 416.800781 \"/>\n",
       "<path style=\"fill:none;stroke-width:2.25;stroke-linecap:round;stroke-linejoin:round;stroke:rgb(85.098039%,37.254902%,0.784314%);stroke-opacity:0.301961;stroke-miterlimit:10;\" d=\"M 396.5625 416.800781 C 396.5625 420.398438 391.164062 420.398438 391.164062 416.800781 C 391.164062 413.199219 396.5625 413.199219 396.5625 416.800781 \"/>\n",
       "<path style=\"fill:none;stroke-width:2.25;stroke-linecap:round;stroke-linejoin:round;stroke:rgb(85.098039%,37.254902%,0.784314%);stroke-opacity:0.301961;stroke-miterlimit:10;\" d=\"M 399.789062 416.800781 C 399.789062 420.398438 394.390625 420.398438 394.390625 416.800781 C 394.390625 413.199219 399.789062 413.199219 399.789062 416.800781 \"/>\n",
       "<path style=\"fill:none;stroke-width:2.25;stroke-linecap:round;stroke-linejoin:round;stroke:rgb(85.098039%,37.254902%,0.784314%);stroke-opacity:0.301961;stroke-miterlimit:10;\" d=\"M 403.015625 416.800781 C 403.015625 420.398438 397.617188 420.398438 397.617188 416.800781 C 397.617188 413.199219 403.015625 413.199219 403.015625 416.800781 \"/>\n",
       "<path style=\"fill:none;stroke-width:2.25;stroke-linecap:round;stroke-linejoin:round;stroke:rgb(85.098039%,37.254902%,0.784314%);stroke-opacity:0.301961;stroke-miterlimit:10;\" d=\"M 406.242188 416.800781 C 406.242188 420.398438 400.84375 420.398438 400.84375 416.800781 C 400.84375 413.199219 406.242188 413.199219 406.242188 416.800781 \"/>\n",
       "<path style=\"fill:none;stroke-width:2.25;stroke-linecap:round;stroke-linejoin:round;stroke:rgb(85.098039%,37.254902%,0.784314%);stroke-opacity:0.301961;stroke-miterlimit:10;\" d=\"M 409.46875 416.800781 C 409.46875 420.398438 404.070312 420.398438 404.070312 416.800781 C 404.070312 413.199219 409.46875 413.199219 409.46875 416.800781 \"/>\n",
       "<path style=\"fill:none;stroke-width:2.25;stroke-linecap:round;stroke-linejoin:round;stroke:rgb(85.098039%,37.254902%,0.784314%);stroke-opacity:0.301961;stroke-miterlimit:10;\" d=\"M 412.695312 416.800781 C 412.695312 420.398438 407.296875 420.398438 407.296875 416.800781 C 407.296875 413.199219 412.695312 413.199219 412.695312 416.800781 \"/>\n",
       "<path style=\"fill:none;stroke-width:2.25;stroke-linecap:round;stroke-linejoin:round;stroke:rgb(85.098039%,37.254902%,0.784314%);stroke-opacity:0.301961;stroke-miterlimit:10;\" d=\"M 415.921875 416.800781 C 415.921875 420.398438 410.523438 420.398438 410.523438 416.800781 C 410.523438 413.199219 415.921875 413.199219 415.921875 416.800781 \"/>\n",
       "<path style=\"fill:none;stroke-width:2.25;stroke-linecap:round;stroke-linejoin:round;stroke:rgb(85.098039%,37.254902%,0.784314%);stroke-opacity:0.301961;stroke-miterlimit:10;\" d=\"M 419.152344 416.800781 C 419.152344 420.398438 413.75 420.398438 413.75 416.800781 C 413.75 413.199219 419.152344 413.199219 419.152344 416.800781 \"/>\n",
       "<path style=\"fill:none;stroke-width:2.25;stroke-linecap:round;stroke-linejoin:round;stroke:rgb(85.098039%,37.254902%,0.784314%);stroke-opacity:0.301961;stroke-miterlimit:10;\" d=\"M 422.378906 416.800781 C 422.378906 420.398438 416.976562 420.398438 416.976562 416.800781 C 416.976562 413.199219 422.378906 413.199219 422.378906 416.800781 \"/>\n",
       "<path style=\"fill:none;stroke-width:2.25;stroke-linecap:round;stroke-linejoin:round;stroke:rgb(85.098039%,37.254902%,0.784314%);stroke-opacity:0.301961;stroke-miterlimit:10;\" d=\"M 425.605469 416.800781 C 425.605469 420.398438 420.203125 420.398438 420.203125 416.800781 C 420.203125 413.199219 425.605469 413.199219 425.605469 416.800781 \"/>\n",
       "<path style=\"fill:none;stroke-width:2.25;stroke-linecap:round;stroke-linejoin:round;stroke:rgb(85.098039%,37.254902%,0.784314%);stroke-opacity:0.301961;stroke-miterlimit:10;\" d=\"M 428.832031 416.800781 C 428.832031 420.398438 423.429688 420.398438 423.429688 416.800781 C 423.429688 413.199219 428.832031 413.199219 428.832031 416.800781 \"/>\n",
       "<path style=\"fill:none;stroke-width:2.25;stroke-linecap:round;stroke-linejoin:round;stroke:rgb(85.098039%,37.254902%,0.784314%);stroke-opacity:0.301961;stroke-miterlimit:10;\" d=\"M 432.058594 416.800781 C 432.058594 420.398438 426.65625 420.398438 426.65625 416.800781 C 426.65625 413.199219 432.058594 413.199219 432.058594 416.800781 \"/>\n",
       "<path style=\"fill:none;stroke-width:2.25;stroke-linecap:round;stroke-linejoin:round;stroke:rgb(85.098039%,37.254902%,0.784314%);stroke-opacity:0.301961;stroke-miterlimit:10;\" d=\"M 435.285156 416.800781 C 435.285156 420.398438 429.886719 420.398438 429.886719 416.800781 C 429.886719 413.199219 435.285156 413.199219 435.285156 416.800781 \"/>\n",
       "<path style=\"fill:none;stroke-width:2.25;stroke-linecap:round;stroke-linejoin:round;stroke:rgb(85.098039%,37.254902%,0.784314%);stroke-opacity:0.301961;stroke-miterlimit:10;\" d=\"M 438.511719 416.800781 C 438.511719 420.398438 433.113281 420.398438 433.113281 416.800781 C 433.113281 413.199219 438.511719 413.199219 438.511719 416.800781 \"/>\n",
       "<path style=\"fill:none;stroke-width:2.25;stroke-linecap:round;stroke-linejoin:round;stroke:rgb(85.098039%,37.254902%,0.784314%);stroke-opacity:0.301961;stroke-miterlimit:10;\" d=\"M 441.738281 416.800781 C 441.738281 420.398438 436.339844 420.398438 436.339844 416.800781 C 436.339844 413.199219 441.738281 413.199219 441.738281 416.800781 \"/>\n",
       "<path style=\"fill:none;stroke-width:2.25;stroke-linecap:round;stroke-linejoin:round;stroke:rgb(85.098039%,37.254902%,0.784314%);stroke-opacity:0.301961;stroke-miterlimit:10;\" d=\"M 444.964844 416.800781 C 444.964844 420.398438 439.566406 420.398438 439.566406 416.800781 C 439.566406 413.199219 444.964844 413.199219 444.964844 416.800781 \"/>\n",
       "<path style=\"fill:none;stroke-width:2.25;stroke-linecap:round;stroke-linejoin:round;stroke:rgb(85.098039%,37.254902%,0.784314%);stroke-opacity:0.301961;stroke-miterlimit:10;\" d=\"M 448.191406 416.800781 C 448.191406 420.398438 442.792969 420.398438 442.792969 416.800781 C 442.792969 413.199219 448.191406 413.199219 448.191406 416.800781 \"/>\n",
       "<path style=\"fill:none;stroke-width:2.25;stroke-linecap:round;stroke-linejoin:round;stroke:rgb(85.098039%,37.254902%,0.784314%);stroke-opacity:0.301961;stroke-miterlimit:10;\" d=\"M 451.417969 416.800781 C 451.417969 420.398438 446.019531 420.398438 446.019531 416.800781 C 446.019531 413.199219 451.417969 413.199219 451.417969 416.800781 \"/>\n",
       "<path style=\"fill:none;stroke-width:2.25;stroke-linecap:round;stroke-linejoin:round;stroke:rgb(85.098039%,37.254902%,0.784314%);stroke-opacity:0.301961;stroke-miterlimit:10;\" d=\"M 454.644531 416.800781 C 454.644531 420.398438 449.246094 420.398438 449.246094 416.800781 C 449.246094 413.199219 454.644531 413.199219 454.644531 416.800781 \"/>\n",
       "<path style=\"fill:none;stroke-width:2.25;stroke-linecap:round;stroke-linejoin:round;stroke:rgb(85.098039%,37.254902%,0.784314%);stroke-opacity:0.301961;stroke-miterlimit:10;\" d=\"M 457.875 416.800781 C 457.875 420.398438 452.472656 420.398438 452.472656 416.800781 C 452.472656 413.199219 457.875 413.199219 457.875 416.800781 \"/>\n",
       "<path style=\"fill:none;stroke-width:2.25;stroke-linecap:round;stroke-linejoin:round;stroke:rgb(85.098039%,37.254902%,0.784314%);stroke-opacity:0.301961;stroke-miterlimit:10;\" d=\"M 461.101562 416.800781 C 461.101562 420.398438 455.699219 420.398438 455.699219 416.800781 C 455.699219 413.199219 461.101562 413.199219 461.101562 416.800781 \"/>\n",
       "<path style=\"fill:none;stroke-width:3.75;stroke-linecap:round;stroke-linejoin:round;stroke:rgb(85.098039%,37.254902%,0.784314%);stroke-opacity:1;stroke-miterlimit:10;\" d=\"M 74.398438 337.507812 L 77.625 336.339844 L 80.855469 335.164062 L 84.082031 333.976562 L 87.308594 332.785156 L 90.535156 331.582031 L 93.761719 330.371094 L 96.988281 329.152344 L 100.214844 327.925781 L 103.441406 326.695312 L 106.667969 325.453125 L 109.894531 324.207031 L 113.121094 322.953125 L 116.347656 321.691406 L 119.578125 320.421875 L 122.804688 319.148438 L 126.03125 317.867188 L 129.257812 316.582031 L 132.484375 315.292969 L 135.710938 313.996094 L 138.9375 312.695312 L 142.164062 311.390625 L 145.390625 310.082031 L 148.617188 308.769531 L 151.84375 307.449219 L 155.074219 306.132812 L 161.527344 303.484375 L 171.207031 299.5 L 177.660156 296.835938 L 180.886719 295.507812 L 184.113281 294.175781 L 187.339844 292.847656 L 190.566406 291.523438 L 193.796875 290.199219 L 197.023438 288.875 L 203.476562 286.242188 L 206.703125 284.933594 L 209.929688 283.628906 L 213.15625 282.328125 L 216.382812 281.03125 L 219.609375 279.746094 L 222.835938 278.464844 L 226.0625 277.191406 L 229.289062 275.925781 L 232.519531 274.671875 L 235.746094 273.425781 L 238.972656 272.1875 L 242.199219 270.964844 L 245.425781 269.75 L 248.652344 268.546875 L 251.878906 267.355469 L 255.105469 266.175781 L 258.332031 265.011719 L 261.558594 263.859375 L 264.785156 262.722656 L 268.011719 261.601562 L 271.242188 260.496094 L 274.46875 259.40625 L 277.695312 258.332031 L 280.921875 257.277344 L 284.148438 256.238281 L 287.375 255.214844 L 290.601562 254.214844 L 293.828125 253.230469 L 297.054688 252.265625 L 300.28125 251.320312 L 303.507812 250.394531 L 306.734375 249.488281 L 309.964844 248.601562 L 313.191406 247.738281 L 316.417969 246.894531 L 319.644531 246.074219 L 322.871094 245.273438 L 326.097656 244.496094 L 329.324219 243.738281 L 332.550781 243.003906 L 335.777344 242.292969 L 339.003906 241.601562 L 342.230469 240.9375 L 345.457031 240.292969 L 348.6875 239.671875 L 351.914062 239.074219 L 355.140625 238.496094 L 358.367188 237.945312 L 361.59375 237.414062 L 364.820312 236.90625 L 368.046875 236.421875 L 371.273438 235.957031 L 374.5 235.515625 L 377.726562 235.097656 L 380.953125 234.699219 L 384.179688 234.324219 L 387.410156 233.972656 L 390.636719 233.640625 L 393.863281 233.328125 L 397.089844 233.035156 L 400.316406 232.765625 L 403.542969 232.515625 L 406.769531 232.285156 L 409.996094 232.074219 L 413.222656 231.878906 L 416.449219 231.707031 L 419.675781 231.550781 L 422.902344 231.410156 L 426.132812 231.289062 L 429.359375 231.183594 L 432.585938 231.097656 L 435.8125 231.023438 L 439.039062 230.96875 L 442.265625 230.925781 L 445.492188 230.898438 L 448.71875 230.886719 L 451.945312 230.886719 L 455.171875 230.898438 L 458.398438 230.925781 L 461.625 230.964844 \"/>\n",
       "<path style=\"fill:none;stroke-width:2.25;stroke-linecap:round;stroke-linejoin:round;stroke:rgb(45.882353%,43.921569%,70.196078%);stroke-opacity:0.301961;stroke-miterlimit:10;\" d=\"M 135.847656 409.601562 L 138.804688 252 \"/>\n",
       "<path style=\"fill:none;stroke-width:2.25;stroke-linecap:round;stroke-linejoin:round;stroke:rgb(45.882353%,43.921569%,70.196078%);stroke-opacity:0.301961;stroke-miterlimit:10;\" d=\"M 139.207031 237.605469 L 141.894531 165.996094 \"/>\n",
       "<path style=\"fill:none;stroke-width:2.25;stroke-linecap:round;stroke-linejoin:round;stroke:rgb(45.882353%,43.921569%,70.196078%);stroke-opacity:0.301961;stroke-miterlimit:10;\" d=\"M 142.542969 165.988281 L 145.015625 213.039062 \"/>\n",
       "<path style=\"fill:none;stroke-width:2.25;stroke-linecap:round;stroke-linejoin:round;stroke:rgb(45.882353%,43.921569%,70.196078%);stroke-opacity:0.301961;stroke-miterlimit:10;\" d=\"M 145.96875 227.40625 L 148.042969 253.257812 \"/>\n",
       "<path style=\"fill:none;stroke-width:2.25;stroke-linecap:round;stroke-linejoin:round;stroke:rgb(45.882353%,43.921569%,70.196078%);stroke-opacity:0.301961;stroke-miterlimit:10;\" d=\"M 150.074219 253.386719 L 150.390625 251.851562 \"/>\n",
       "<path style=\"fill:none;stroke-width:2.25;stroke-linecap:round;stroke-linejoin:round;stroke:rgb(45.882353%,43.921569%,70.196078%);stroke-opacity:0.301961;stroke-miterlimit:10;\" d=\"M 152.78125 237.660156 L 154.132812 227.367188 \"/>\n",
       "<path style=\"fill:none;stroke-width:2.25;stroke-linecap:round;stroke-linejoin:round;stroke:rgb(45.882353%,43.921569%,70.196078%);stroke-opacity:0.301961;stroke-miterlimit:10;\" d=\"M 156.164062 227.34375 L 157.207031 234.171875 \"/>\n",
       "<path style=\"fill:none;stroke-width:2.25;stroke-linecap:round;stroke-linejoin:round;stroke:rgb(45.882353%,43.921569%,70.196078%);stroke-opacity:0.301961;stroke-miterlimit:10;\" d=\"M 158.789062 248.472656 L 161.035156 281.34375 \"/>\n",
       "<path style=\"fill:none;stroke-width:2.25;stroke-linecap:round;stroke-linejoin:round;stroke:rgb(45.882353%,43.921569%,70.196078%);stroke-opacity:0.301961;stroke-miterlimit:10;\" d=\"M 178.769531 282.949219 L 179.777344 276.484375 \"/>\n",
       "<path style=\"fill:none;stroke-width:2.25;stroke-linecap:round;stroke-linejoin:round;stroke:rgb(45.882353%,43.921569%,70.196078%);stroke-opacity:0.301961;stroke-miterlimit:10;\" d=\"M 194.921875 264.558594 L 195.894531 270.722656 \"/>\n",
       "<path style=\"fill:none;stroke-width:2.25;stroke-linecap:round;stroke-linejoin:round;stroke:rgb(45.882353%,43.921569%,70.196078%);stroke-opacity:0.301961;stroke-miterlimit:10;\" d=\"M 197.820312 270.675781 L 199.449219 256.101562 \"/>\n",
       "<path style=\"fill:none;stroke-width:2.25;stroke-linecap:round;stroke-linejoin:round;stroke:rgb(45.882353%,43.921569%,70.196078%);stroke-opacity:0.301961;stroke-miterlimit:10;\" d=\"M 214.152344 233.730469 L 215.386719 224.902344 \"/>\n",
       "<path style=\"fill:none;stroke-width:2.25;stroke-linecap:round;stroke-linejoin:round;stroke:rgb(45.882353%,43.921569%,70.196078%);stroke-opacity:0.301961;stroke-miterlimit:10;\" d=\"M 217.769531 224.835938 L 218.222656 227.148438 \"/>\n",
       "<path style=\"fill:none;stroke-width:2.25;stroke-linecap:round;stroke-linejoin:round;stroke:rgb(45.882353%,43.921569%,70.196078%);stroke-opacity:0.301961;stroke-miterlimit:10;\" d=\"M 220.238281 241.386719 L 222.207031 263.773438 \"/>\n",
       "<path style=\"fill:none;stroke-width:2.25;stroke-linecap:round;stroke-linejoin:round;stroke:rgb(45.882353%,43.921569%,70.196078%);stroke-opacity:0.301961;stroke-miterlimit:10;\" d=\"M 233.523438 261.835938 L 234.738281 253.261719 \"/>\n",
       "<path style=\"fill:none;stroke-width:2.25;stroke-linecap:round;stroke-linejoin:round;stroke:rgb(45.882353%,43.921569%,70.196078%);stroke-opacity:0.301961;stroke-miterlimit:10;\" d=\"M 236.636719 253.277344 L 238.078125 264.8125 \"/>\n",
       "<path style=\"fill:none;stroke-width:2.25;stroke-linecap:round;stroke-linejoin:round;stroke:rgb(45.882353%,43.921569%,70.196078%);stroke-opacity:0.301961;stroke-miterlimit:10;\" d=\"M 240.4375 279.007812 L 240.730469 280.40625 \"/>\n",
       "<path style=\"fill:none;stroke-width:2.25;stroke-linecap:round;stroke-linejoin:round;stroke:rgb(45.882353%,43.921569%,70.196078%);stroke-opacity:0.301961;stroke-miterlimit:10;\" d=\"M 243.402344 280.355469 L 244.222656 275.507812 \"/>\n",
       "<path style=\"fill:none;stroke-width:2.25;stroke-linecap:round;stroke-linejoin:round;stroke:rgb(45.882353%,43.921569%,70.196078%);stroke-opacity:0.301961;stroke-miterlimit:10;\" d=\"M 259.207031 267.824219 L 260.6875 279.949219 \"/>\n",
       "<path style=\"fill:none;stroke-width:2.25;stroke-linecap:round;stroke-linejoin:round;stroke:rgb(45.882353%,43.921569%,70.196078%);stroke-opacity:0.301961;stroke-miterlimit:10;\" d=\"M 262.230469 279.925781 L 264.113281 259.859375 \"/>\n",
       "<path style=\"fill:none;stroke-width:2.25;stroke-linecap:round;stroke-linejoin:round;stroke:rgb(45.882353%,43.921569%,70.196078%);stroke-opacity:0.301961;stroke-miterlimit:10;\" d=\"M 268.453125 259.152344 L 270.800781 297.523438 \"/>\n",
       "<path style=\"fill:none;stroke-width:2.25;stroke-linecap:round;stroke-linejoin:round;stroke:rgb(45.882353%,43.921569%,70.196078%);stroke-opacity:0.301961;stroke-miterlimit:10;\" d=\"M 272.0625 297.558594 L 273.644531 283.804688 \"/>\n",
       "<path style=\"fill:none;stroke-width:2.25;stroke-linecap:round;stroke-linejoin:round;stroke:rgb(45.882353%,43.921569%,70.196078%);stroke-opacity:0.301961;stroke-miterlimit:10;\" d=\"M 278.8125 280.109375 L 279.804688 286.421875 \"/>\n",
       "<path style=\"fill:none;stroke-width:2.25;stroke-linecap:round;stroke-linejoin:round;stroke:rgb(45.882353%,43.921569%,70.196078%);stroke-opacity:0.301961;stroke-miterlimit:10;\" d=\"M 282.097656 286.429688 L 282.972656 281.15625 \"/>\n",
       "<path style=\"fill:none;stroke-width:2.25;stroke-linecap:round;stroke-linejoin:round;stroke:rgb(45.882353%,43.921569%,70.196078%);stroke-opacity:0.301961;stroke-miterlimit:10;\" d=\"M 288.707031 287.660156 L 289.269531 290.648438 \"/>\n",
       "<path style=\"fill:none;stroke-width:2.25;stroke-linecap:round;stroke-linejoin:round;stroke:rgb(45.882353%,43.921569%,70.196078%);stroke-opacity:0.301961;stroke-miterlimit:10;\" d=\"M 298.652344 299.207031 L 298.683594 299.074219 \"/>\n",
       "<path style=\"fill:none;stroke-width:2.25;stroke-linecap:round;stroke-linejoin:round;stroke:rgb(45.882353%,43.921569%,70.196078%);stroke-opacity:0.301961;stroke-miterlimit:10;\" d=\"M 301.402344 284.941406 L 302.390625 278.667969 \"/>\n",
       "<path style=\"fill:none;stroke-width:2.25;stroke-linecap:round;stroke-linejoin:round;stroke:rgb(45.882353%,43.921569%,70.196078%);stroke-opacity:0.301961;stroke-miterlimit:10;\" d=\"M 307.234375 290.203125 L 309.464844 322.253906 \"/>\n",
       "<path style=\"fill:none;stroke-width:2.25;stroke-linecap:round;stroke-linejoin:round;stroke:rgb(45.882353%,43.921569%,70.196078%);stroke-opacity:0.301961;stroke-miterlimit:10;\" d=\"M 314.214844 329.816406 L 315.390625 321.65625 \"/>\n",
       "<path style=\"fill:none;stroke-width:2.25;stroke-linecap:round;stroke-linejoin:round;stroke:rgb(45.882353%,43.921569%,70.196078%);stroke-opacity:0.301961;stroke-miterlimit:10;\" d=\"M 316.914062 307.347656 L 319.148438 274.917969 \"/>\n",
       "<path style=\"fill:none;stroke-width:2.25;stroke-linecap:round;stroke-linejoin:round;stroke:rgb(45.882353%,43.921569%,70.196078%);stroke-opacity:0.301961;stroke-miterlimit:10;\" d=\"M 320.785156 274.84375 L 321.726562 280.691406 \"/>\n",
       "<path style=\"fill:none;stroke-width:2.25;stroke-linecap:round;stroke-linejoin:round;stroke:rgb(45.882353%,43.921569%,70.196078%);stroke-opacity:0.301961;stroke-miterlimit:10;\" d=\"M 327.445312 279.246094 L 327.976562 276.445312 \"/>\n",
       "<path style=\"fill:none;stroke-width:2.25;stroke-linecap:round;stroke-linejoin:round;stroke:rgb(45.882353%,43.921569%,70.196078%);stroke-opacity:0.301961;stroke-miterlimit:10;\" d=\"M 330.046875 262.207031 L 331.828125 244.484375 \"/>\n",
       "<path style=\"fill:none;stroke-width:2.25;stroke-linecap:round;stroke-linejoin:round;stroke:rgb(45.882353%,43.921569%,70.196078%);stroke-opacity:0.301961;stroke-miterlimit:10;\" d=\"M 333.015625 230.136719 L 335.3125 194.652344 \"/>\n",
       "<path style=\"fill:none;stroke-width:2.25;stroke-linecap:round;stroke-linejoin:round;stroke:rgb(45.882353%,43.921569%,70.196078%);stroke-opacity:0.301961;stroke-miterlimit:10;\" d=\"M 335.980469 194.664062 L 338.800781 294.9375 \"/>\n",
       "<path style=\"fill:none;stroke-width:2.25;stroke-linecap:round;stroke-linejoin:round;stroke:rgb(45.882353%,43.921569%,70.196078%);stroke-opacity:0.301961;stroke-miterlimit:10;\" d=\"M 339.710938 294.96875 L 341.527344 276.535156 \"/>\n",
       "<path style=\"fill:none;stroke-width:2.25;stroke-linecap:round;stroke-linejoin:round;stroke:rgb(45.882353%,43.921569%,70.196078%);stroke-opacity:0.301961;stroke-miterlimit:10;\" d=\"M 343.167969 262.234375 L 344.519531 251.9375 \"/>\n",
       "<path style=\"fill:none;stroke-width:2.25;stroke-linecap:round;stroke-linejoin:round;stroke:rgb(45.882353%,43.921569%,70.196078%);stroke-opacity:0.301961;stroke-miterlimit:10;\" d=\"M 346.132812 251.96875 L 348.011719 272.03125 \"/>\n",
       "<path style=\"fill:none;stroke-width:2.25;stroke-linecap:round;stroke-linejoin:round;stroke:rgb(45.882353%,43.921569%,70.196078%);stroke-opacity:0.301961;stroke-miterlimit:10;\" d=\"M 349.136719 286.386719 L 351.464844 323.613281 \"/>\n",
       "<path style=\"fill:none;stroke-width:2.25;stroke-linecap:round;stroke-linejoin:round;stroke:rgb(45.882353%,43.921569%,70.196078%);stroke-opacity:0.301961;stroke-miterlimit:10;\" d=\"M 352.183594 337.996094 L 354.871094 409.605469 \"/>\n",
       "<path style=\"fill:none;stroke-width:2.25;stroke-linecap:round;stroke-linejoin:round;stroke:rgb(45.882353%,43.921569%,70.196078%);stroke-opacity:0.301961;stroke-miterlimit:10;\" d=\"M 77.101562 416.800781 C 77.101562 420.398438 71.699219 420.398438 71.699219 416.800781 C 71.699219 413.199219 77.101562 413.199219 77.101562 416.800781 \"/>\n",
       "<path style=\"fill:none;stroke-width:2.25;stroke-linecap:round;stroke-linejoin:round;stroke:rgb(45.882353%,43.921569%,70.196078%);stroke-opacity:0.301961;stroke-miterlimit:10;\" d=\"M 80.328125 416.800781 C 80.328125 420.398438 74.925781 420.398438 74.925781 416.800781 C 74.925781 413.199219 80.328125 413.199219 80.328125 416.800781 \"/>\n",
       "<path style=\"fill:none;stroke-width:2.25;stroke-linecap:round;stroke-linejoin:round;stroke:rgb(45.882353%,43.921569%,70.196078%);stroke-opacity:0.301961;stroke-miterlimit:10;\" d=\"M 83.554688 416.800781 C 83.554688 420.398438 78.152344 420.398438 78.152344 416.800781 C 78.152344 413.199219 83.554688 413.199219 83.554688 416.800781 \"/>\n",
       "<path style=\"fill:none;stroke-width:2.25;stroke-linecap:round;stroke-linejoin:round;stroke:rgb(45.882353%,43.921569%,70.196078%);stroke-opacity:0.301961;stroke-miterlimit:10;\" d=\"M 86.78125 416.800781 C 86.78125 420.398438 81.378906 420.398438 81.378906 416.800781 C 81.378906 413.199219 86.78125 413.199219 86.78125 416.800781 \"/>\n",
       "<path style=\"fill:none;stroke-width:2.25;stroke-linecap:round;stroke-linejoin:round;stroke:rgb(45.882353%,43.921569%,70.196078%);stroke-opacity:0.301961;stroke-miterlimit:10;\" d=\"M 90.007812 416.800781 C 90.007812 420.398438 84.609375 420.398438 84.609375 416.800781 C 84.609375 413.199219 90.007812 413.199219 90.007812 416.800781 \"/>\n",
       "<path style=\"fill:none;stroke-width:2.25;stroke-linecap:round;stroke-linejoin:round;stroke:rgb(45.882353%,43.921569%,70.196078%);stroke-opacity:0.301961;stroke-miterlimit:10;\" d=\"M 93.234375 416.800781 C 93.234375 420.398438 87.835938 420.398438 87.835938 416.800781 C 87.835938 413.199219 93.234375 413.199219 93.234375 416.800781 \"/>\n",
       "<path style=\"fill:none;stroke-width:2.25;stroke-linecap:round;stroke-linejoin:round;stroke:rgb(45.882353%,43.921569%,70.196078%);stroke-opacity:0.301961;stroke-miterlimit:10;\" d=\"M 96.460938 416.800781 C 96.460938 420.398438 91.0625 420.398438 91.0625 416.800781 C 91.0625 413.199219 96.460938 413.199219 96.460938 416.800781 \"/>\n",
       "<path style=\"fill:none;stroke-width:2.25;stroke-linecap:round;stroke-linejoin:round;stroke:rgb(45.882353%,43.921569%,70.196078%);stroke-opacity:0.301961;stroke-miterlimit:10;\" d=\"M 99.6875 416.800781 C 99.6875 420.398438 94.289062 420.398438 94.289062 416.800781 C 94.289062 413.199219 99.6875 413.199219 99.6875 416.800781 \"/>\n",
       "<path style=\"fill:none;stroke-width:2.25;stroke-linecap:round;stroke-linejoin:round;stroke:rgb(45.882353%,43.921569%,70.196078%);stroke-opacity:0.301961;stroke-miterlimit:10;\" d=\"M 102.914062 416.800781 C 102.914062 420.398438 97.515625 420.398438 97.515625 416.800781 C 97.515625 413.199219 102.914062 413.199219 102.914062 416.800781 \"/>\n",
       "<path style=\"fill:none;stroke-width:2.25;stroke-linecap:round;stroke-linejoin:round;stroke:rgb(45.882353%,43.921569%,70.196078%);stroke-opacity:0.301961;stroke-miterlimit:10;\" d=\"M 106.140625 416.800781 C 106.140625 420.398438 100.742188 420.398438 100.742188 416.800781 C 100.742188 413.199219 106.140625 413.199219 106.140625 416.800781 \"/>\n",
       "<path style=\"fill:none;stroke-width:2.25;stroke-linecap:round;stroke-linejoin:round;stroke:rgb(45.882353%,43.921569%,70.196078%);stroke-opacity:0.301961;stroke-miterlimit:10;\" d=\"M 109.367188 416.800781 C 109.367188 420.398438 103.96875 420.398438 103.96875 416.800781 C 103.96875 413.199219 109.367188 413.199219 109.367188 416.800781 \"/>\n",
       "<path style=\"fill:none;stroke-width:2.25;stroke-linecap:round;stroke-linejoin:round;stroke:rgb(45.882353%,43.921569%,70.196078%);stroke-opacity:0.301961;stroke-miterlimit:10;\" d=\"M 112.597656 416.800781 C 112.597656 420.398438 107.195312 420.398438 107.195312 416.800781 C 107.195312 413.199219 112.597656 413.199219 112.597656 416.800781 \"/>\n",
       "<path style=\"fill:none;stroke-width:2.25;stroke-linecap:round;stroke-linejoin:round;stroke:rgb(45.882353%,43.921569%,70.196078%);stroke-opacity:0.301961;stroke-miterlimit:10;\" d=\"M 115.824219 416.800781 C 115.824219 420.398438 110.421875 420.398438 110.421875 416.800781 C 110.421875 413.199219 115.824219 413.199219 115.824219 416.800781 \"/>\n",
       "<path style=\"fill:none;stroke-width:2.25;stroke-linecap:round;stroke-linejoin:round;stroke:rgb(45.882353%,43.921569%,70.196078%);stroke-opacity:0.301961;stroke-miterlimit:10;\" d=\"M 119.050781 416.800781 C 119.050781 420.398438 113.648438 420.398438 113.648438 416.800781 C 113.648438 413.199219 119.050781 413.199219 119.050781 416.800781 \"/>\n",
       "<path style=\"fill:none;stroke-width:2.25;stroke-linecap:round;stroke-linejoin:round;stroke:rgb(45.882353%,43.921569%,70.196078%);stroke-opacity:0.301961;stroke-miterlimit:10;\" d=\"M 122.277344 416.800781 C 122.277344 420.398438 116.875 420.398438 116.875 416.800781 C 116.875 413.199219 122.277344 413.199219 122.277344 416.800781 \"/>\n",
       "<path style=\"fill:none;stroke-width:2.25;stroke-linecap:round;stroke-linejoin:round;stroke:rgb(45.882353%,43.921569%,70.196078%);stroke-opacity:0.301961;stroke-miterlimit:10;\" d=\"M 125.503906 416.800781 C 125.503906 420.398438 120.101562 420.398438 120.101562 416.800781 C 120.101562 413.199219 125.503906 413.199219 125.503906 416.800781 \"/>\n",
       "<path style=\"fill:none;stroke-width:2.25;stroke-linecap:round;stroke-linejoin:round;stroke:rgb(45.882353%,43.921569%,70.196078%);stroke-opacity:0.301961;stroke-miterlimit:10;\" d=\"M 128.730469 416.800781 C 128.730469 420.398438 123.332031 420.398438 123.332031 416.800781 C 123.332031 413.199219 128.730469 413.199219 128.730469 416.800781 \"/>\n",
       "<path style=\"fill:none;stroke-width:2.25;stroke-linecap:round;stroke-linejoin:round;stroke:rgb(45.882353%,43.921569%,70.196078%);stroke-opacity:0.301961;stroke-miterlimit:10;\" d=\"M 131.957031 416.800781 C 131.957031 420.398438 126.558594 420.398438 126.558594 416.800781 C 126.558594 413.199219 131.957031 413.199219 131.957031 416.800781 \"/>\n",
       "<path style=\"fill:none;stroke-width:2.25;stroke-linecap:round;stroke-linejoin:round;stroke:rgb(45.882353%,43.921569%,70.196078%);stroke-opacity:0.301961;stroke-miterlimit:10;\" d=\"M 135.183594 416.800781 C 135.183594 420.398438 129.785156 420.398438 129.785156 416.800781 C 129.785156 413.199219 135.183594 413.199219 135.183594 416.800781 \"/>\n",
       "<path style=\"fill:none;stroke-width:2.25;stroke-linecap:round;stroke-linejoin:round;stroke:rgb(45.882353%,43.921569%,70.196078%);stroke-opacity:0.301961;stroke-miterlimit:10;\" d=\"M 138.410156 416.800781 C 138.410156 420.398438 133.011719 420.398438 133.011719 416.800781 C 133.011719 413.199219 138.410156 413.199219 138.410156 416.800781 \"/>\n",
       "<path style=\"fill:none;stroke-width:2.25;stroke-linecap:round;stroke-linejoin:round;stroke:rgb(45.882353%,43.921569%,70.196078%);stroke-opacity:0.301961;stroke-miterlimit:10;\" d=\"M 141.636719 244.800781 C 141.636719 248.398438 136.238281 248.398438 136.238281 244.800781 C 136.238281 241.199219 141.636719 241.199219 141.636719 244.800781 \"/>\n",
       "<path style=\"fill:none;stroke-width:2.25;stroke-linecap:round;stroke-linejoin:round;stroke:rgb(45.882353%,43.921569%,70.196078%);stroke-opacity:0.301961;stroke-miterlimit:10;\" d=\"M 144.863281 158.800781 C 144.863281 162.398438 139.464844 162.398438 139.464844 158.800781 C 139.464844 155.199219 144.863281 155.199219 144.863281 158.800781 \"/>\n",
       "<path style=\"fill:none;stroke-width:2.25;stroke-linecap:round;stroke-linejoin:round;stroke:rgb(45.882353%,43.921569%,70.196078%);stroke-opacity:0.301961;stroke-miterlimit:10;\" d=\"M 148.089844 220.230469 C 148.089844 223.828125 142.691406 223.828125 142.691406 220.230469 C 142.691406 216.628906 148.089844 216.628906 148.089844 220.230469 \"/>\n",
       "<path style=\"fill:none;stroke-width:2.25;stroke-linecap:round;stroke-linejoin:round;stroke:rgb(45.882353%,43.921569%,70.196078%);stroke-opacity:0.301961;stroke-miterlimit:10;\" d=\"M 151.320312 260.4375 C 151.320312 264.035156 145.917969 264.035156 145.917969 260.4375 C 145.917969 256.835938 151.320312 256.835938 151.320312 260.4375 \"/>\n",
       "<path style=\"fill:none;stroke-width:2.25;stroke-linecap:round;stroke-linejoin:round;stroke:rgb(45.882353%,43.921569%,70.196078%);stroke-opacity:0.301961;stroke-miterlimit:10;\" d=\"M 154.546875 244.800781 C 154.546875 248.398438 149.144531 248.398438 149.144531 244.800781 C 149.144531 241.199219 154.546875 241.199219 154.546875 244.800781 \"/>\n",
       "<path style=\"fill:none;stroke-width:2.25;stroke-linecap:round;stroke-linejoin:round;stroke:rgb(45.882353%,43.921569%,70.196078%);stroke-opacity:0.301961;stroke-miterlimit:10;\" d=\"M 157.773438 220.230469 C 157.773438 223.828125 152.371094 223.828125 152.371094 220.230469 C 152.371094 216.628906 157.773438 216.628906 157.773438 220.230469 \"/>\n",
       "<path style=\"fill:none;stroke-width:2.25;stroke-linecap:round;stroke-linejoin:round;stroke:rgb(45.882353%,43.921569%,70.196078%);stroke-opacity:0.301961;stroke-miterlimit:10;\" d=\"M 161 241.289062 C 161 244.890625 155.597656 244.890625 155.597656 241.289062 C 155.597656 237.691406 161 237.691406 161 241.289062 \"/>\n",
       "<path style=\"fill:none;stroke-width:2.25;stroke-linecap:round;stroke-linejoin:round;stroke:rgb(45.882353%,43.921569%,70.196078%);stroke-opacity:0.301961;stroke-miterlimit:10;\" d=\"M 164.226562 288.527344 C 164.226562 292.128906 158.824219 292.128906 158.824219 288.527344 C 158.824219 284.929688 164.226562 284.929688 164.226562 288.527344 \"/>\n",
       "<path style=\"fill:none;stroke-width:2.25;stroke-linecap:round;stroke-linejoin:round;stroke:rgb(45.882353%,43.921569%,70.196078%);stroke-opacity:0.301961;stroke-miterlimit:10;\" d=\"M 167.453125 293.574219 C 167.453125 297.175781 162.054688 297.175781 162.054688 293.574219 C 162.054688 289.976562 167.453125 289.976562 167.453125 293.574219 \"/>\n",
       "<path style=\"fill:none;stroke-width:2.25;stroke-linecap:round;stroke-linejoin:round;stroke:rgb(45.882353%,43.921569%,70.196078%);stroke-opacity:0.301961;stroke-miterlimit:10;\" d=\"M 170.679688 282.773438 C 170.679688 286.375 165.28125 286.375 165.28125 282.773438 C 165.28125 279.175781 170.679688 279.175781 170.679688 282.773438 \"/>\n",
       "<path style=\"fill:none;stroke-width:2.25;stroke-linecap:round;stroke-linejoin:round;stroke:rgb(45.882353%,43.921569%,70.196078%);stroke-opacity:0.301961;stroke-miterlimit:10;\" d=\"M 173.90625 278.453125 C 173.90625 282.050781 168.507812 282.050781 168.507812 278.453125 C 168.507812 274.851562 173.90625 274.851562 173.90625 278.453125 \"/>\n",
       "<path style=\"fill:none;stroke-width:2.25;stroke-linecap:round;stroke-linejoin:round;stroke:rgb(45.882353%,43.921569%,70.196078%);stroke-opacity:0.301961;stroke-miterlimit:10;\" d=\"M 177.132812 288.800781 C 177.132812 292.398438 171.734375 292.398438 171.734375 288.800781 C 171.734375 285.199219 177.132812 285.199219 177.132812 288.800781 \"/>\n",
       "<path style=\"fill:none;stroke-width:2.25;stroke-linecap:round;stroke-linejoin:round;stroke:rgb(45.882353%,43.921569%,70.196078%);stroke-opacity:0.301961;stroke-miterlimit:10;\" d=\"M 180.359375 290.0625 C 180.359375 293.664062 174.960938 293.664062 174.960938 290.0625 C 174.960938 286.464844 180.359375 286.464844 180.359375 290.0625 \"/>\n",
       "<path style=\"fill:none;stroke-width:2.25;stroke-linecap:round;stroke-linejoin:round;stroke:rgb(45.882353%,43.921569%,70.196078%);stroke-opacity:0.301961;stroke-miterlimit:10;\" d=\"M 183.585938 269.371094 C 183.585938 272.972656 178.1875 272.972656 178.1875 269.371094 C 178.1875 265.769531 183.585938 265.769531 183.585938 269.371094 \"/>\n",
       "<path style=\"fill:none;stroke-width:2.25;stroke-linecap:round;stroke-linejoin:round;stroke:rgb(45.882353%,43.921569%,70.196078%);stroke-opacity:0.301961;stroke-miterlimit:10;\" d=\"M 186.8125 262.507812 C 186.8125 266.105469 181.414062 266.105469 181.414062 262.507812 C 181.414062 258.90625 186.8125 258.90625 186.8125 262.507812 \"/>\n",
       "<path style=\"fill:none;stroke-width:2.25;stroke-linecap:round;stroke-linejoin:round;stroke:rgb(45.882353%,43.921569%,70.196078%);stroke-opacity:0.301961;stroke-miterlimit:10;\" d=\"M 190.042969 264.179688 C 190.042969 267.78125 184.640625 267.78125 184.640625 264.179688 C 184.640625 260.582031 190.042969 260.582031 190.042969 264.179688 \"/>\n",
       "<path style=\"fill:none;stroke-width:2.25;stroke-linecap:round;stroke-linejoin:round;stroke:rgb(45.882353%,43.921569%,70.196078%);stroke-opacity:0.301961;stroke-miterlimit:10;\" d=\"M 193.269531 252.738281 C 193.269531 256.339844 187.867188 256.339844 187.867188 252.738281 C 187.867188 249.136719 193.269531 249.136719 193.269531 252.738281 \"/>\n",
       "<path style=\"fill:none;stroke-width:2.25;stroke-linecap:round;stroke-linejoin:round;stroke:rgb(45.882353%,43.921569%,70.196078%);stroke-opacity:0.301961;stroke-miterlimit:10;\" d=\"M 196.496094 257.445312 C 196.496094 261.046875 191.09375 261.046875 191.09375 257.445312 C 191.09375 253.847656 196.496094 253.847656 196.496094 257.445312 \"/>\n",
       "<path style=\"fill:none;stroke-width:2.25;stroke-linecap:round;stroke-linejoin:round;stroke:rgb(45.882353%,43.921569%,70.196078%);stroke-opacity:0.301961;stroke-miterlimit:10;\" d=\"M 199.722656 277.832031 C 199.722656 281.433594 194.320312 281.433594 194.320312 277.832031 C 194.320312 274.234375 199.722656 274.234375 199.722656 277.832031 \"/>\n",
       "<path style=\"fill:none;stroke-width:2.25;stroke-linecap:round;stroke-linejoin:round;stroke:rgb(45.882353%,43.921569%,70.196078%);stroke-opacity:0.301961;stroke-miterlimit:10;\" d=\"M 202.949219 248.945312 C 202.949219 252.542969 197.546875 252.542969 197.546875 248.945312 C 197.546875 245.34375 202.949219 245.34375 202.949219 248.945312 \"/>\n",
       "<path style=\"fill:none;stroke-width:2.25;stroke-linecap:round;stroke-linejoin:round;stroke:rgb(45.882353%,43.921569%,70.196078%);stroke-opacity:0.301961;stroke-miterlimit:10;\" d=\"M 206.175781 245.882812 C 206.175781 249.480469 200.777344 249.480469 200.777344 245.882812 C 200.777344 242.28125 206.175781 242.28125 206.175781 245.882812 \"/>\n",
       "<path style=\"fill:none;stroke-width:2.25;stroke-linecap:round;stroke-linejoin:round;stroke:rgb(45.882353%,43.921569%,70.196078%);stroke-opacity:0.301961;stroke-miterlimit:10;\" d=\"M 209.402344 249.386719 C 209.402344 252.988281 204.003906 252.988281 204.003906 249.386719 C 204.003906 245.785156 209.402344 245.785156 209.402344 249.386719 \"/>\n",
       "<path style=\"fill:none;stroke-width:2.25;stroke-linecap:round;stroke-linejoin:round;stroke:rgb(45.882353%,43.921569%,70.196078%);stroke-opacity:0.301961;stroke-miterlimit:10;\" d=\"M 212.628906 240.023438 C 212.628906 243.621094 207.230469 243.621094 207.230469 240.023438 C 207.230469 236.421875 212.628906 236.421875 212.628906 240.023438 \"/>\n",
       "<path style=\"fill:none;stroke-width:2.25;stroke-linecap:round;stroke-linejoin:round;stroke:rgb(45.882353%,43.921569%,70.196078%);stroke-opacity:0.301961;stroke-miterlimit:10;\" d=\"M 215.855469 240.859375 C 215.855469 244.460938 210.457031 244.460938 210.457031 240.859375 C 210.457031 237.261719 215.855469 237.261719 215.855469 240.859375 \"/>\n",
       "<path style=\"fill:none;stroke-width:2.25;stroke-linecap:round;stroke-linejoin:round;stroke:rgb(45.882353%,43.921569%,70.196078%);stroke-opacity:0.301961;stroke-miterlimit:10;\" d=\"M 219.082031 217.769531 C 219.082031 221.371094 213.683594 221.371094 213.683594 217.769531 C 213.683594 214.171875 219.082031 214.171875 219.082031 217.769531 \"/>\n",
       "<path style=\"fill:none;stroke-width:2.25;stroke-linecap:round;stroke-linejoin:round;stroke:rgb(45.882353%,43.921569%,70.196078%);stroke-opacity:0.301961;stroke-miterlimit:10;\" d=\"M 222.308594 234.214844 C 222.308594 237.816406 216.910156 237.816406 216.910156 234.214844 C 216.910156 230.617188 222.308594 230.617188 222.308594 234.214844 \"/>\n",
       "<path style=\"fill:none;stroke-width:2.25;stroke-linecap:round;stroke-linejoin:round;stroke:rgb(45.882353%,43.921569%,70.196078%);stroke-opacity:0.301961;stroke-miterlimit:10;\" d=\"M 225.535156 270.945312 C 225.535156 274.542969 220.136719 274.542969 220.136719 270.945312 C 220.136719 267.34375 225.535156 267.34375 225.535156 270.945312 \"/>\n",
       "<path style=\"fill:none;stroke-width:2.25;stroke-linecap:round;stroke-linejoin:round;stroke:rgb(45.882353%,43.921569%,70.196078%);stroke-opacity:0.301961;stroke-miterlimit:10;\" d=\"M 228.765625 278.132812 C 228.765625 281.734375 223.363281 281.734375 223.363281 278.132812 C 223.363281 274.535156 228.765625 274.535156 228.765625 278.132812 \"/>\n",
       "<path style=\"fill:none;stroke-width:2.25;stroke-linecap:round;stroke-linejoin:round;stroke:rgb(45.882353%,43.921569%,70.196078%);stroke-opacity:0.301961;stroke-miterlimit:10;\" d=\"M 231.992188 274.242188 C 231.992188 277.839844 226.589844 277.839844 226.589844 274.242188 C 226.589844 270.640625 231.992188 270.640625 231.992188 274.242188 \"/>\n",
       "<path style=\"fill:none;stroke-width:2.25;stroke-linecap:round;stroke-linejoin:round;stroke:rgb(45.882353%,43.921569%,70.196078%);stroke-opacity:0.301961;stroke-miterlimit:10;\" d=\"M 235.21875 268.964844 C 235.21875 272.566406 229.816406 272.566406 229.816406 268.964844 C 229.816406 265.367188 235.21875 265.367188 235.21875 268.964844 \"/>\n",
       "<path style=\"fill:none;stroke-width:2.25;stroke-linecap:round;stroke-linejoin:round;stroke:rgb(45.882353%,43.921569%,70.196078%);stroke-opacity:0.301961;stroke-miterlimit:10;\" d=\"M 238.445312 246.132812 C 238.445312 249.734375 233.042969 249.734375 233.042969 246.132812 C 233.042969 242.535156 238.445312 242.535156 238.445312 246.132812 \"/>\n",
       "<path style=\"fill:none;stroke-width:2.25;stroke-linecap:round;stroke-linejoin:round;stroke:rgb(45.882353%,43.921569%,70.196078%);stroke-opacity:0.301961;stroke-miterlimit:10;\" d=\"M 241.671875 271.957031 C 241.671875 275.558594 236.269531 275.558594 236.269531 271.957031 C 236.269531 268.359375 241.671875 268.359375 241.671875 271.957031 \"/>\n",
       "<path style=\"fill:none;stroke-width:2.25;stroke-linecap:round;stroke-linejoin:round;stroke:rgb(45.882353%,43.921569%,70.196078%);stroke-opacity:0.301961;stroke-miterlimit:10;\" d=\"M 244.898438 287.457031 C 244.898438 291.054688 239.5 291.054688 239.5 287.457031 C 239.5 283.855469 244.898438 283.855469 244.898438 287.457031 \"/>\n",
       "<path style=\"fill:none;stroke-width:2.25;stroke-linecap:round;stroke-linejoin:round;stroke:rgb(45.882353%,43.921569%,70.196078%);stroke-opacity:0.301961;stroke-miterlimit:10;\" d=\"M 248.125 268.40625 C 248.125 272.007812 242.726562 272.007812 242.726562 268.40625 C 242.726562 264.808594 248.125 264.808594 248.125 268.40625 \"/>\n",
       "<path style=\"fill:none;stroke-width:2.25;stroke-linecap:round;stroke-linejoin:round;stroke:rgb(45.882353%,43.921569%,70.196078%);stroke-opacity:0.301961;stroke-miterlimit:10;\" d=\"M 251.351562 261.84375 C 251.351562 265.445312 245.953125 265.445312 245.953125 261.84375 C 245.953125 258.246094 251.351562 258.246094 251.351562 261.84375 \"/>\n",
       "<path style=\"fill:none;stroke-width:2.25;stroke-linecap:round;stroke-linejoin:round;stroke:rgb(45.882353%,43.921569%,70.196078%);stroke-opacity:0.301961;stroke-miterlimit:10;\" d=\"M 254.578125 266.121094 C 254.578125 269.722656 249.179688 269.722656 249.179688 266.121094 C 249.179688 262.523438 254.578125 262.523438 254.578125 266.121094 \"/>\n",
       "<path style=\"fill:none;stroke-width:2.25;stroke-linecap:round;stroke-linejoin:round;stroke:rgb(45.882353%,43.921569%,70.196078%);stroke-opacity:0.301961;stroke-miterlimit:10;\" d=\"M 257.804688 256.078125 C 257.804688 259.679688 252.40625 259.679688 252.40625 256.078125 C 252.40625 252.480469 257.804688 252.480469 257.804688 256.078125 \"/>\n",
       "<path style=\"fill:none;stroke-width:2.25;stroke-linecap:round;stroke-linejoin:round;stroke:rgb(45.882353%,43.921569%,70.196078%);stroke-opacity:0.301961;stroke-miterlimit:10;\" d=\"M 261.03125 260.675781 C 261.03125 264.277344 255.632812 264.277344 255.632812 260.675781 C 255.632812 257.078125 261.03125 257.078125 261.03125 260.675781 \"/>\n",
       "<path style=\"fill:none;stroke-width:2.25;stroke-linecap:round;stroke-linejoin:round;stroke:rgb(45.882353%,43.921569%,70.196078%);stroke-opacity:0.301961;stroke-miterlimit:10;\" d=\"M 264.257812 287.09375 C 264.257812 290.695312 258.859375 290.695312 258.859375 287.09375 C 258.859375 283.496094 264.257812 283.496094 264.257812 287.09375 \"/>\n",
       "<path style=\"fill:none;stroke-width:2.25;stroke-linecap:round;stroke-linejoin:round;stroke:rgb(45.882353%,43.921569%,70.196078%);stroke-opacity:0.301961;stroke-miterlimit:10;\" d=\"M 267.488281 252.691406 C 267.488281 256.289062 262.085938 256.289062 262.085938 252.691406 C 262.085938 249.089844 267.488281 249.089844 267.488281 252.691406 \"/>\n",
       "<path style=\"fill:none;stroke-width:2.25;stroke-linecap:round;stroke-linejoin:round;stroke:rgb(45.882353%,43.921569%,70.196078%);stroke-opacity:0.301961;stroke-miterlimit:10;\" d=\"M 270.714844 251.964844 C 270.714844 255.566406 265.3125 255.566406 265.3125 251.964844 C 265.3125 248.367188 270.714844 248.367188 270.714844 251.964844 \"/>\n",
       "<path style=\"fill:none;stroke-width:2.25;stroke-linecap:round;stroke-linejoin:round;stroke:rgb(45.882353%,43.921569%,70.196078%);stroke-opacity:0.301961;stroke-miterlimit:10;\" d=\"M 273.941406 304.710938 C 273.941406 308.308594 268.539062 308.308594 268.539062 304.710938 C 268.539062 301.109375 273.941406 301.109375 273.941406 304.710938 \"/>\n",
       "<path style=\"fill:none;stroke-width:2.25;stroke-linecap:round;stroke-linejoin:round;stroke:rgb(45.882353%,43.921569%,70.196078%);stroke-opacity:0.301961;stroke-miterlimit:10;\" d=\"M 277.167969 276.652344 C 277.167969 280.25 271.765625 280.25 271.765625 276.652344 C 271.765625 273.050781 277.167969 273.050781 277.167969 276.652344 \"/>\n",
       "<path style=\"fill:none;stroke-width:2.25;stroke-linecap:round;stroke-linejoin:round;stroke:rgb(45.882353%,43.921569%,70.196078%);stroke-opacity:0.301961;stroke-miterlimit:10;\" d=\"M 280.394531 272.996094 C 280.394531 276.597656 274.992188 276.597656 274.992188 272.996094 C 274.992188 269.398438 280.394531 269.398438 280.394531 272.996094 \"/>\n",
       "<path style=\"fill:none;stroke-width:2.25;stroke-linecap:round;stroke-linejoin:round;stroke:rgb(45.882353%,43.921569%,70.196078%);stroke-opacity:0.301961;stroke-miterlimit:10;\" d=\"M 283.621094 293.535156 C 283.621094 297.132812 278.222656 297.132812 278.222656 293.535156 C 278.222656 289.933594 283.621094 289.933594 283.621094 293.535156 \"/>\n",
       "<path style=\"fill:none;stroke-width:2.25;stroke-linecap:round;stroke-linejoin:round;stroke:rgb(45.882353%,43.921569%,70.196078%);stroke-opacity:0.301961;stroke-miterlimit:10;\" d=\"M 286.847656 274.050781 C 286.847656 277.652344 281.449219 277.652344 281.449219 274.050781 C 281.449219 270.453125 286.847656 270.453125 286.847656 274.050781 \"/>\n",
       "<path style=\"fill:none;stroke-width:2.25;stroke-linecap:round;stroke-linejoin:round;stroke:rgb(45.882353%,43.921569%,70.196078%);stroke-opacity:0.301961;stroke-miterlimit:10;\" d=\"M 290.074219 280.585938 C 290.074219 284.183594 284.675781 284.183594 284.675781 280.585938 C 284.675781 276.984375 290.074219 276.984375 290.074219 280.585938 \"/>\n",
       "<path style=\"fill:none;stroke-width:2.25;stroke-linecap:round;stroke-linejoin:round;stroke:rgb(45.882353%,43.921569%,70.196078%);stroke-opacity:0.301961;stroke-miterlimit:10;\" d=\"M 293.300781 297.722656 C 293.300781 301.324219 287.902344 301.324219 287.902344 297.722656 C 287.902344 294.125 293.300781 294.125 293.300781 297.722656 \"/>\n",
       "<path style=\"fill:none;stroke-width:2.25;stroke-linecap:round;stroke-linejoin:round;stroke:rgb(45.882353%,43.921569%,70.196078%);stroke-opacity:0.301961;stroke-miterlimit:10;\" d=\"M 296.527344 306.378906 C 296.527344 309.980469 291.128906 309.980469 291.128906 306.378906 C 291.128906 302.78125 296.527344 302.78125 296.527344 306.378906 \"/>\n",
       "<path style=\"fill:none;stroke-width:2.25;stroke-linecap:round;stroke-linejoin:round;stroke:rgb(45.882353%,43.921569%,70.196078%);stroke-opacity:0.301961;stroke-miterlimit:10;\" d=\"M 299.753906 306.230469 C 299.753906 309.828125 294.355469 309.828125 294.355469 306.230469 C 294.355469 302.628906 299.753906 302.628906 299.753906 306.230469 \"/>\n",
       "<path style=\"fill:none;stroke-width:2.25;stroke-linecap:round;stroke-linejoin:round;stroke:rgb(45.882353%,43.921569%,70.196078%);stroke-opacity:0.301961;stroke-miterlimit:10;\" d=\"M 302.980469 292.054688 C 302.980469 295.652344 297.582031 295.652344 297.582031 292.054688 C 297.582031 288.453125 302.980469 288.453125 302.980469 292.054688 \"/>\n",
       "<path style=\"fill:none;stroke-width:2.25;stroke-linecap:round;stroke-linejoin:round;stroke:rgb(45.882353%,43.921569%,70.196078%);stroke-opacity:0.301961;stroke-miterlimit:10;\" d=\"M 306.210938 271.554688 C 306.210938 275.15625 300.808594 275.15625 300.808594 271.554688 C 300.808594 267.957031 306.210938 267.957031 306.210938 271.554688 \"/>\n",
       "<path style=\"fill:none;stroke-width:2.25;stroke-linecap:round;stroke-linejoin:round;stroke:rgb(45.882353%,43.921569%,70.196078%);stroke-opacity:0.301961;stroke-miterlimit:10;\" d=\"M 309.4375 283.023438 C 309.4375 286.621094 304.035156 286.621094 304.035156 283.023438 C 304.035156 279.421875 309.4375 279.421875 309.4375 283.023438 \"/>\n",
       "<path style=\"fill:none;stroke-width:2.25;stroke-linecap:round;stroke-linejoin:round;stroke:rgb(45.882353%,43.921569%,70.196078%);stroke-opacity:0.301961;stroke-miterlimit:10;\" d=\"M 312.664062 329.433594 C 312.664062 333.035156 307.261719 333.035156 307.261719 329.433594 C 307.261719 325.835938 312.664062 325.835938 312.664062 329.433594 \"/>\n",
       "<path style=\"fill:none;stroke-width:2.25;stroke-linecap:round;stroke-linejoin:round;stroke:rgb(45.882353%,43.921569%,70.196078%);stroke-opacity:0.301961;stroke-miterlimit:10;\" d=\"M 315.890625 336.941406 C 315.890625 340.542969 310.488281 340.542969 310.488281 336.941406 C 310.488281 333.34375 315.890625 333.34375 315.890625 336.941406 \"/>\n",
       "<path style=\"fill:none;stroke-width:2.25;stroke-linecap:round;stroke-linejoin:round;stroke:rgb(45.882353%,43.921569%,70.196078%);stroke-opacity:0.301961;stroke-miterlimit:10;\" d=\"M 319.117188 314.53125 C 319.117188 318.128906 313.71875 318.128906 313.71875 314.53125 C 313.71875 310.929688 319.117188 310.929688 319.117188 314.53125 \"/>\n",
       "<path style=\"fill:none;stroke-width:2.25;stroke-linecap:round;stroke-linejoin:round;stroke:rgb(45.882353%,43.921569%,70.196078%);stroke-opacity:0.301961;stroke-miterlimit:10;\" d=\"M 322.34375 267.734375 C 322.34375 271.332031 316.945312 271.332031 316.945312 267.734375 C 316.945312 264.132812 322.34375 264.132812 322.34375 267.734375 \"/>\n",
       "<path style=\"fill:none;stroke-width:2.25;stroke-linecap:round;stroke-linejoin:round;stroke:rgb(45.882353%,43.921569%,70.196078%);stroke-opacity:0.301961;stroke-miterlimit:10;\" d=\"M 325.570312 287.800781 C 325.570312 291.398438 320.171875 291.398438 320.171875 287.800781 C 320.171875 284.199219 325.570312 284.199219 325.570312 287.800781 \"/>\n",
       "<path style=\"fill:none;stroke-width:2.25;stroke-linecap:round;stroke-linejoin:round;stroke:rgb(45.882353%,43.921569%,70.196078%);stroke-opacity:0.301961;stroke-miterlimit:10;\" d=\"M 328.796875 286.316406 C 328.796875 289.917969 323.398438 289.917969 323.398438 286.316406 C 323.398438 282.71875 328.796875 282.71875 328.796875 286.316406 \"/>\n",
       "<path style=\"fill:none;stroke-width:2.25;stroke-linecap:round;stroke-linejoin:round;stroke:rgb(45.882353%,43.921569%,70.196078%);stroke-opacity:0.301961;stroke-miterlimit:10;\" d=\"M 332.023438 269.371094 C 332.023438 272.972656 326.625 272.972656 326.625 269.371094 C 326.625 265.769531 332.023438 265.769531 332.023438 269.371094 \"/>\n",
       "<path style=\"fill:none;stroke-width:2.25;stroke-linecap:round;stroke-linejoin:round;stroke:rgb(45.882353%,43.921569%,70.196078%);stroke-opacity:0.301961;stroke-miterlimit:10;\" d=\"M 335.25 237.320312 C 335.25 240.921875 329.851562 240.921875 329.851562 237.320312 C 329.851562 233.722656 335.25 233.722656 335.25 237.320312 \"/>\n",
       "<path style=\"fill:none;stroke-width:2.25;stroke-linecap:round;stroke-linejoin:round;stroke:rgb(45.882353%,43.921569%,70.196078%);stroke-opacity:0.301961;stroke-miterlimit:10;\" d=\"M 338.476562 187.464844 C 338.476562 191.066406 333.078125 191.066406 333.078125 187.464844 C 333.078125 183.867188 338.476562 183.867188 338.476562 187.464844 \"/>\n",
       "<path style=\"fill:none;stroke-width:2.25;stroke-linecap:round;stroke-linejoin:round;stroke:rgb(45.882353%,43.921569%,70.196078%);stroke-opacity:0.301961;stroke-miterlimit:10;\" d=\"M 341.703125 302.132812 C 341.703125 305.734375 336.304688 305.734375 336.304688 302.132812 C 336.304688 298.535156 341.703125 298.535156 341.703125 302.132812 \"/>\n",
       "<path style=\"fill:none;stroke-width:2.25;stroke-linecap:round;stroke-linejoin:round;stroke:rgb(45.882353%,43.921569%,70.196078%);stroke-opacity:0.301961;stroke-miterlimit:10;\" d=\"M 344.933594 269.371094 C 344.933594 272.972656 339.53125 272.972656 339.53125 269.371094 C 339.53125 265.769531 344.933594 265.769531 344.933594 269.371094 \"/>\n",
       "<path style=\"fill:none;stroke-width:2.25;stroke-linecap:round;stroke-linejoin:round;stroke:rgb(45.882353%,43.921569%,70.196078%);stroke-opacity:0.301961;stroke-miterlimit:10;\" d=\"M 348.160156 244.800781 C 348.160156 248.398438 342.757812 248.398438 342.757812 244.800781 C 342.757812 241.199219 348.160156 241.199219 348.160156 244.800781 \"/>\n",
       "<path style=\"fill:none;stroke-width:2.25;stroke-linecap:round;stroke-linejoin:round;stroke:rgb(45.882353%,43.921569%,70.196078%);stroke-opacity:0.301961;stroke-miterlimit:10;\" d=\"M 351.386719 279.199219 C 351.386719 282.800781 345.984375 282.800781 345.984375 279.199219 C 345.984375 275.601562 351.386719 275.601562 351.386719 279.199219 \"/>\n",
       "<path style=\"fill:none;stroke-width:2.25;stroke-linecap:round;stroke-linejoin:round;stroke:rgb(45.882353%,43.921569%,70.196078%);stroke-opacity:0.301961;stroke-miterlimit:10;\" d=\"M 354.613281 330.800781 C 354.613281 334.398438 349.210938 334.398438 349.210938 330.800781 C 349.210938 327.199219 354.613281 327.199219 354.613281 330.800781 \"/>\n",
       "<path style=\"fill:none;stroke-width:2.25;stroke-linecap:round;stroke-linejoin:round;stroke:rgb(45.882353%,43.921569%,70.196078%);stroke-opacity:0.301961;stroke-miterlimit:10;\" d=\"M 357.839844 416.800781 C 357.839844 420.398438 352.441406 420.398438 352.441406 416.800781 C 352.441406 413.199219 357.839844 413.199219 357.839844 416.800781 \"/>\n",
       "<path style=\"fill:none;stroke-width:2.25;stroke-linecap:round;stroke-linejoin:round;stroke:rgb(45.882353%,43.921569%,70.196078%);stroke-opacity:0.301961;stroke-miterlimit:10;\" d=\"M 361.066406 416.800781 C 361.066406 420.398438 355.667969 420.398438 355.667969 416.800781 C 355.667969 413.199219 361.066406 413.199219 361.066406 416.800781 \"/>\n",
       "<path style=\"fill:none;stroke-width:2.25;stroke-linecap:round;stroke-linejoin:round;stroke:rgb(45.882353%,43.921569%,70.196078%);stroke-opacity:0.301961;stroke-miterlimit:10;\" d=\"M 364.292969 416.800781 C 364.292969 420.398438 358.894531 420.398438 358.894531 416.800781 C 358.894531 413.199219 364.292969 413.199219 364.292969 416.800781 \"/>\n",
       "<path style=\"fill:none;stroke-width:2.25;stroke-linecap:round;stroke-linejoin:round;stroke:rgb(45.882353%,43.921569%,70.196078%);stroke-opacity:0.301961;stroke-miterlimit:10;\" d=\"M 367.519531 416.800781 C 367.519531 420.398438 362.121094 420.398438 362.121094 416.800781 C 362.121094 413.199219 367.519531 413.199219 367.519531 416.800781 \"/>\n",
       "<path style=\"fill:none;stroke-width:2.25;stroke-linecap:round;stroke-linejoin:round;stroke:rgb(45.882353%,43.921569%,70.196078%);stroke-opacity:0.301961;stroke-miterlimit:10;\" d=\"M 370.746094 416.800781 C 370.746094 420.398438 365.347656 420.398438 365.347656 416.800781 C 365.347656 413.199219 370.746094 413.199219 370.746094 416.800781 \"/>\n",
       "<path style=\"fill:none;stroke-width:2.25;stroke-linecap:round;stroke-linejoin:round;stroke:rgb(45.882353%,43.921569%,70.196078%);stroke-opacity:0.301961;stroke-miterlimit:10;\" d=\"M 373.972656 416.800781 C 373.972656 420.398438 368.574219 420.398438 368.574219 416.800781 C 368.574219 413.199219 373.972656 413.199219 373.972656 416.800781 \"/>\n",
       "<path style=\"fill:none;stroke-width:2.25;stroke-linecap:round;stroke-linejoin:round;stroke:rgb(45.882353%,43.921569%,70.196078%);stroke-opacity:0.301961;stroke-miterlimit:10;\" d=\"M 377.199219 416.800781 C 377.199219 420.398438 371.800781 420.398438 371.800781 416.800781 C 371.800781 413.199219 377.199219 413.199219 377.199219 416.800781 \"/>\n",
       "<path style=\"fill:none;stroke-width:2.25;stroke-linecap:round;stroke-linejoin:round;stroke:rgb(45.882353%,43.921569%,70.196078%);stroke-opacity:0.301961;stroke-miterlimit:10;\" d=\"M 380.425781 416.800781 C 380.425781 420.398438 375.027344 420.398438 375.027344 416.800781 C 375.027344 413.199219 380.425781 413.199219 380.425781 416.800781 \"/>\n",
       "<path style=\"fill:none;stroke-width:2.25;stroke-linecap:round;stroke-linejoin:round;stroke:rgb(45.882353%,43.921569%,70.196078%);stroke-opacity:0.301961;stroke-miterlimit:10;\" d=\"M 383.65625 416.800781 C 383.65625 420.398438 378.253906 420.398438 378.253906 416.800781 C 378.253906 413.199219 383.65625 413.199219 383.65625 416.800781 \"/>\n",
       "<path style=\"fill:none;stroke-width:2.25;stroke-linecap:round;stroke-linejoin:round;stroke:rgb(45.882353%,43.921569%,70.196078%);stroke-opacity:0.301961;stroke-miterlimit:10;\" d=\"M 386.882812 416.800781 C 386.882812 420.398438 381.480469 420.398438 381.480469 416.800781 C 381.480469 413.199219 386.882812 413.199219 386.882812 416.800781 \"/>\n",
       "<path style=\"fill:none;stroke-width:2.25;stroke-linecap:round;stroke-linejoin:round;stroke:rgb(45.882353%,43.921569%,70.196078%);stroke-opacity:0.301961;stroke-miterlimit:10;\" d=\"M 390.109375 416.800781 C 390.109375 420.398438 384.707031 420.398438 384.707031 416.800781 C 384.707031 413.199219 390.109375 413.199219 390.109375 416.800781 \"/>\n",
       "<path style=\"fill:none;stroke-width:2.25;stroke-linecap:round;stroke-linejoin:round;stroke:rgb(45.882353%,43.921569%,70.196078%);stroke-opacity:0.301961;stroke-miterlimit:10;\" d=\"M 393.335938 416.800781 C 393.335938 420.398438 387.933594 420.398438 387.933594 416.800781 C 387.933594 413.199219 393.335938 413.199219 393.335938 416.800781 \"/>\n",
       "<path style=\"fill:none;stroke-width:2.25;stroke-linecap:round;stroke-linejoin:round;stroke:rgb(45.882353%,43.921569%,70.196078%);stroke-opacity:0.301961;stroke-miterlimit:10;\" d=\"M 396.5625 416.800781 C 396.5625 420.398438 391.164062 420.398438 391.164062 416.800781 C 391.164062 413.199219 396.5625 413.199219 396.5625 416.800781 \"/>\n",
       "<path style=\"fill:none;stroke-width:2.25;stroke-linecap:round;stroke-linejoin:round;stroke:rgb(45.882353%,43.921569%,70.196078%);stroke-opacity:0.301961;stroke-miterlimit:10;\" d=\"M 399.789062 416.800781 C 399.789062 420.398438 394.390625 420.398438 394.390625 416.800781 C 394.390625 413.199219 399.789062 413.199219 399.789062 416.800781 \"/>\n",
       "<path style=\"fill:none;stroke-width:2.25;stroke-linecap:round;stroke-linejoin:round;stroke:rgb(45.882353%,43.921569%,70.196078%);stroke-opacity:0.301961;stroke-miterlimit:10;\" d=\"M 403.015625 416.800781 C 403.015625 420.398438 397.617188 420.398438 397.617188 416.800781 C 397.617188 413.199219 403.015625 413.199219 403.015625 416.800781 \"/>\n",
       "<path style=\"fill:none;stroke-width:2.25;stroke-linecap:round;stroke-linejoin:round;stroke:rgb(45.882353%,43.921569%,70.196078%);stroke-opacity:0.301961;stroke-miterlimit:10;\" d=\"M 406.242188 416.800781 C 406.242188 420.398438 400.84375 420.398438 400.84375 416.800781 C 400.84375 413.199219 406.242188 413.199219 406.242188 416.800781 \"/>\n",
       "<path style=\"fill:none;stroke-width:2.25;stroke-linecap:round;stroke-linejoin:round;stroke:rgb(45.882353%,43.921569%,70.196078%);stroke-opacity:0.301961;stroke-miterlimit:10;\" d=\"M 409.46875 416.800781 C 409.46875 420.398438 404.070312 420.398438 404.070312 416.800781 C 404.070312 413.199219 409.46875 413.199219 409.46875 416.800781 \"/>\n",
       "<path style=\"fill:none;stroke-width:2.25;stroke-linecap:round;stroke-linejoin:round;stroke:rgb(45.882353%,43.921569%,70.196078%);stroke-opacity:0.301961;stroke-miterlimit:10;\" d=\"M 412.695312 416.800781 C 412.695312 420.398438 407.296875 420.398438 407.296875 416.800781 C 407.296875 413.199219 412.695312 413.199219 412.695312 416.800781 \"/>\n",
       "<path style=\"fill:none;stroke-width:2.25;stroke-linecap:round;stroke-linejoin:round;stroke:rgb(45.882353%,43.921569%,70.196078%);stroke-opacity:0.301961;stroke-miterlimit:10;\" d=\"M 415.921875 416.800781 C 415.921875 420.398438 410.523438 420.398438 410.523438 416.800781 C 410.523438 413.199219 415.921875 413.199219 415.921875 416.800781 \"/>\n",
       "<path style=\"fill:none;stroke-width:2.25;stroke-linecap:round;stroke-linejoin:round;stroke:rgb(45.882353%,43.921569%,70.196078%);stroke-opacity:0.301961;stroke-miterlimit:10;\" d=\"M 419.152344 416.800781 C 419.152344 420.398438 413.75 420.398438 413.75 416.800781 C 413.75 413.199219 419.152344 413.199219 419.152344 416.800781 \"/>\n",
       "<path style=\"fill:none;stroke-width:2.25;stroke-linecap:round;stroke-linejoin:round;stroke:rgb(45.882353%,43.921569%,70.196078%);stroke-opacity:0.301961;stroke-miterlimit:10;\" d=\"M 422.378906 416.800781 C 422.378906 420.398438 416.976562 420.398438 416.976562 416.800781 C 416.976562 413.199219 422.378906 413.199219 422.378906 416.800781 \"/>\n",
       "<path style=\"fill:none;stroke-width:2.25;stroke-linecap:round;stroke-linejoin:round;stroke:rgb(45.882353%,43.921569%,70.196078%);stroke-opacity:0.301961;stroke-miterlimit:10;\" d=\"M 425.605469 416.800781 C 425.605469 420.398438 420.203125 420.398438 420.203125 416.800781 C 420.203125 413.199219 425.605469 413.199219 425.605469 416.800781 \"/>\n",
       "<path style=\"fill:none;stroke-width:2.25;stroke-linecap:round;stroke-linejoin:round;stroke:rgb(45.882353%,43.921569%,70.196078%);stroke-opacity:0.301961;stroke-miterlimit:10;\" d=\"M 428.832031 416.800781 C 428.832031 420.398438 423.429688 420.398438 423.429688 416.800781 C 423.429688 413.199219 428.832031 413.199219 428.832031 416.800781 \"/>\n",
       "<path style=\"fill:none;stroke-width:2.25;stroke-linecap:round;stroke-linejoin:round;stroke:rgb(45.882353%,43.921569%,70.196078%);stroke-opacity:0.301961;stroke-miterlimit:10;\" d=\"M 432.058594 416.800781 C 432.058594 420.398438 426.65625 420.398438 426.65625 416.800781 C 426.65625 413.199219 432.058594 413.199219 432.058594 416.800781 \"/>\n",
       "<path style=\"fill:none;stroke-width:2.25;stroke-linecap:round;stroke-linejoin:round;stroke:rgb(45.882353%,43.921569%,70.196078%);stroke-opacity:0.301961;stroke-miterlimit:10;\" d=\"M 435.285156 416.800781 C 435.285156 420.398438 429.886719 420.398438 429.886719 416.800781 C 429.886719 413.199219 435.285156 413.199219 435.285156 416.800781 \"/>\n",
       "<path style=\"fill:none;stroke-width:2.25;stroke-linecap:round;stroke-linejoin:round;stroke:rgb(45.882353%,43.921569%,70.196078%);stroke-opacity:0.301961;stroke-miterlimit:10;\" d=\"M 438.511719 416.800781 C 438.511719 420.398438 433.113281 420.398438 433.113281 416.800781 C 433.113281 413.199219 438.511719 413.199219 438.511719 416.800781 \"/>\n",
       "<path style=\"fill:none;stroke-width:2.25;stroke-linecap:round;stroke-linejoin:round;stroke:rgb(45.882353%,43.921569%,70.196078%);stroke-opacity:0.301961;stroke-miterlimit:10;\" d=\"M 441.738281 416.800781 C 441.738281 420.398438 436.339844 420.398438 436.339844 416.800781 C 436.339844 413.199219 441.738281 413.199219 441.738281 416.800781 \"/>\n",
       "<path style=\"fill:none;stroke-width:2.25;stroke-linecap:round;stroke-linejoin:round;stroke:rgb(45.882353%,43.921569%,70.196078%);stroke-opacity:0.301961;stroke-miterlimit:10;\" d=\"M 444.964844 416.800781 C 444.964844 420.398438 439.566406 420.398438 439.566406 416.800781 C 439.566406 413.199219 444.964844 413.199219 444.964844 416.800781 \"/>\n",
       "<path style=\"fill:none;stroke-width:2.25;stroke-linecap:round;stroke-linejoin:round;stroke:rgb(45.882353%,43.921569%,70.196078%);stroke-opacity:0.301961;stroke-miterlimit:10;\" d=\"M 448.191406 416.800781 C 448.191406 420.398438 442.792969 420.398438 442.792969 416.800781 C 442.792969 413.199219 448.191406 413.199219 448.191406 416.800781 \"/>\n",
       "<path style=\"fill:none;stroke-width:2.25;stroke-linecap:round;stroke-linejoin:round;stroke:rgb(45.882353%,43.921569%,70.196078%);stroke-opacity:0.301961;stroke-miterlimit:10;\" d=\"M 451.417969 416.800781 C 451.417969 420.398438 446.019531 420.398438 446.019531 416.800781 C 446.019531 413.199219 451.417969 413.199219 451.417969 416.800781 \"/>\n",
       "<path style=\"fill:none;stroke-width:2.25;stroke-linecap:round;stroke-linejoin:round;stroke:rgb(45.882353%,43.921569%,70.196078%);stroke-opacity:0.301961;stroke-miterlimit:10;\" d=\"M 454.644531 416.800781 C 454.644531 420.398438 449.246094 420.398438 449.246094 416.800781 C 449.246094 413.199219 454.644531 413.199219 454.644531 416.800781 \"/>\n",
       "<path style=\"fill:none;stroke-width:2.25;stroke-linecap:round;stroke-linejoin:round;stroke:rgb(45.882353%,43.921569%,70.196078%);stroke-opacity:0.301961;stroke-miterlimit:10;\" d=\"M 457.875 416.800781 C 457.875 420.398438 452.472656 420.398438 452.472656 416.800781 C 452.472656 413.199219 457.875 413.199219 457.875 416.800781 \"/>\n",
       "<path style=\"fill:none;stroke-width:2.25;stroke-linecap:round;stroke-linejoin:round;stroke:rgb(45.882353%,43.921569%,70.196078%);stroke-opacity:0.301961;stroke-miterlimit:10;\" d=\"M 461.101562 416.800781 C 461.101562 420.398438 455.699219 420.398438 455.699219 416.800781 C 455.699219 413.199219 461.101562 413.199219 461.101562 416.800781 \"/>\n",
       "<path style=\"fill:none;stroke-width:3.75;stroke-linecap:round;stroke-linejoin:round;stroke:rgb(45.882353%,43.921569%,70.196078%);stroke-opacity:1;stroke-miterlimit:10;\" d=\"M 74.398438 244.3125 L 77.625 243.859375 L 80.855469 243.445312 L 84.082031 243.066406 L 87.308594 242.722656 L 90.535156 242.421875 L 93.761719 242.15625 L 96.988281 241.933594 L 100.214844 241.746094 L 103.441406 241.601562 L 106.667969 241.5 L 109.894531 241.433594 L 113.121094 241.414062 L 116.347656 241.433594 L 119.578125 241.492188 L 122.804688 241.59375 L 126.03125 241.738281 L 129.257812 241.921875 L 132.484375 242.152344 L 135.710938 242.417969 L 138.9375 242.730469 L 142.164062 243.082031 L 145.390625 243.476562 L 148.617188 243.910156 L 151.84375 244.386719 L 155.074219 244.90625 L 158.300781 245.460938 L 161.527344 246.058594 L 164.753906 246.695312 L 167.980469 247.375 L 171.207031 248.089844 L 174.433594 248.84375 L 177.660156 249.632812 L 180.886719 250.464844 L 184.113281 251.328125 L 187.339844 252.230469 L 190.566406 253.167969 L 193.796875 254.140625 L 197.023438 255.148438 L 200.25 256.1875 L 203.476562 257.257812 L 206.703125 258.363281 L 209.929688 259.5 L 213.15625 260.664062 L 216.382812 261.859375 L 219.609375 263.082031 L 222.835938 264.332031 L 226.0625 265.609375 L 229.289062 266.910156 L 232.519531 268.238281 L 235.746094 269.589844 L 238.972656 270.964844 L 242.199219 272.359375 L 245.425781 273.777344 L 248.652344 275.214844 L 251.878906 276.671875 L 255.105469 278.144531 L 258.332031 279.636719 L 261.558594 281.144531 L 264.785156 282.664062 L 268.011719 284.203125 L 271.242188 285.75 L 274.46875 287.3125 L 277.695312 288.886719 L 280.921875 290.46875 L 284.148438 292.058594 L 287.375 293.660156 L 290.601562 295.265625 L 297.054688 298.5 L 303.507812 301.75 L 306.734375 303.382812 L 309.964844 305.011719 L 322.871094 311.542969 L 326.097656 313.171875 L 329.324219 314.796875 L 332.550781 316.417969 L 335.777344 318.035156 L 339.003906 319.648438 L 342.230469 321.253906 L 345.457031 322.851562 L 348.6875 324.445312 L 351.914062 326.03125 L 355.140625 327.605469 L 358.367188 329.171875 L 361.59375 330.730469 L 364.820312 332.273438 L 368.046875 333.8125 L 371.273438 335.335938 L 374.5 336.847656 L 377.726562 338.347656 L 380.953125 339.835938 L 384.179688 341.308594 L 387.410156 342.769531 L 390.636719 344.214844 L 393.863281 345.648438 L 397.089844 347.066406 L 400.316406 348.464844 L 403.542969 349.851562 L 406.769531 351.222656 L 409.996094 352.578125 L 413.222656 353.917969 L 416.449219 355.238281 L 419.675781 356.542969 L 422.902344 357.832031 L 426.132812 359.101562 L 429.359375 360.355469 L 432.585938 361.589844 L 435.8125 362.808594 L 439.039062 364.007812 L 442.265625 365.191406 L 445.492188 366.355469 L 448.71875 367.503906 L 451.945312 368.628906 L 455.171875 369.742188 L 458.398438 370.832031 L 461.625 371.90625 \"/>\n",
       "<g clip-path=\"url(#clip1)\" clip-rule=\"nonzero\">\n",
       "<path style=\"fill:none;stroke-width:0.75;stroke-linecap:round;stroke-linejoin:round;stroke:rgb(0%,0%,0%);stroke-opacity:1;stroke-miterlimit:10;\" d=\"M 387.480469 216 L 473.761719 216 L 473.761719 273.601562 L 387.480469 273.601562 Z \"/>\n",
       "</g>\n",
       "<path style=\"fill:none;stroke-width:3;stroke-linecap:butt;stroke-linejoin:round;stroke:rgb(10.588235%,61.960784%,46.666667%);stroke-opacity:1;stroke-miterlimit:10;\" d=\"M 398.28125 230.398438 L 419.878906 230.398438 \"/>\n",
       "<path style=\"fill:none;stroke-width:3;stroke-linecap:butt;stroke-linejoin:round;stroke:rgb(85.098039%,37.254902%,0.784314%);stroke-opacity:1;stroke-miterlimit:10;\" d=\"M 398.28125 244.800781 L 419.878906 244.800781 \"/>\n",
       "<path style=\"fill:none;stroke-width:3;stroke-linecap:butt;stroke-linejoin:round;stroke:rgb(45.882353%,43.921569%,70.196078%);stroke-opacity:1;stroke-miterlimit:10;\" d=\"M 398.28125 259.199219 L 419.878906 259.199219 \"/>\n",
       "<g style=\"fill:rgb(0%,0%,0%);fill-opacity:1;\">\n",
       "  <use xlink:href=\"#glyph3-1\" x=\"430.679688\" y=\"234.703125\"/>\n",
       "  <use xlink:href=\"#glyph3-2\" x=\"438.683594\" y=\"234.703125\"/>\n",
       "  <use xlink:href=\"#glyph3-3\" x=\"442.679688\" y=\"234.703125\"/>\n",
       "  <use xlink:href=\"#glyph3-4\" x=\"450.683594\" y=\"234.703125\"/>\n",
       "  <use xlink:href=\"#glyph3-5\" x=\"457.691406\" y=\"234.703125\"/>\n",
       "  <use xlink:href=\"#glyph3-6\" x=\"464.365234\" y=\"234.703125\"/>\n",
       "</g>\n",
       "<g style=\"fill:rgb(0%,0%,0%);fill-opacity:1;\">\n",
       "  <use xlink:href=\"#glyph3-1\" x=\"430.679688\" y=\"249.105469\"/>\n",
       "  <use xlink:href=\"#glyph3-2\" x=\"438.683594\" y=\"249.105469\"/>\n",
       "  <use xlink:href=\"#glyph3-3\" x=\"442.679688\" y=\"249.105469\"/>\n",
       "  <use xlink:href=\"#glyph3-4\" x=\"450.683594\" y=\"249.105469\"/>\n",
       "  <use xlink:href=\"#glyph3-7\" x=\"457.691406\" y=\"249.105469\"/>\n",
       "  <use xlink:href=\"#glyph3-6\" x=\"464.365234\" y=\"249.105469\"/>\n",
       "</g>\n",
       "<g style=\"fill:rgb(0%,0%,0%);fill-opacity:1;\">\n",
       "  <use xlink:href=\"#glyph3-1\" x=\"430.679688\" y=\"263.503906\"/>\n",
       "  <use xlink:href=\"#glyph3-2\" x=\"438.683594\" y=\"263.503906\"/>\n",
       "  <use xlink:href=\"#glyph3-3\" x=\"442.679688\" y=\"263.503906\"/>\n",
       "  <use xlink:href=\"#glyph3-4\" x=\"450.683594\" y=\"263.503906\"/>\n",
       "  <use xlink:href=\"#glyph3-8\" x=\"457.691406\" y=\"263.503906\"/>\n",
       "  <use xlink:href=\"#glyph3-6\" x=\"464.365234\" y=\"263.503906\"/>\n",
       "</g>\n",
       "</g>\n",
       "</svg>\n"
      ],
      "text/plain": [
       "Plot with title “Thermal Regime Temperature Profile”"
      ]
     },
     "metadata": {},
     "output_type": "display_data"
    }
   ],
   "source": [
    "f_plot_prob_profiles(prof_est, res$resp_profile)"
   ]
  },
  {
   "cell_type": "markdown",
   "metadata": {},
   "source": [
    "##Estimate \"ground truth\" thermal response"
   ]
  },
  {
   "cell_type": "code",
   "execution_count": 125,
   "metadata": {
    "collapsed": false
   },
   "outputs": [],
   "source": [
    "# format data to match the observations available for thermal modeling\n",
    "f_estimate_GT_resp = function(df_orig, timestamps){\n",
    "    df_orig$HVAC = 0\n",
    "    if ('H' %in% names(df_orig)) df_orig$HVAC = df_orig$HVAC + df_orig$H\n",
    "    if ('C' %in% names(df_orig)) df_orig$HVAC = df_orig$HVAC + df_orig$C\n",
    "    df_orig$TemperatureD = df_orig$Temperature - 65\n",
    "    df_orig = subset(df_orig, date %in% timestamps)\n",
    "    \n",
    "    temp_vec = 1:120\n",
    "    df_resp = data.frame(Temperature = temp_vec)\n",
    "\n",
    "    fit                 = lowess(df_orig$Temperature, df_orig$HVAC) \n",
    "    plx_grid            = approx(fit$x, fit$y, temp_vec)\n",
    "    df_resp$fit_HVAC    = na.locf(na.locf(plx_grid$y, na.rm=FALSE), fromLast=TRUE)\n",
    "    df_resp$resp_HVAC   = na.locf(na.locf(c(NA,diff(plx_grid$y)), na.rm=FALSE), fromLast=TRUE)\n",
    "    #df_orig$resp_HVAC   = fit$y\n",
    "\n",
    "    # learn \"ground truth\" thermal response for HV and AC\n",
    "    if ('H' %in% names(df_orig))\n",
    "        fit               = lowess(df_orig$Temperature, df_orig$H) \n",
    "        plx_grid          = approx(fit$x, fit$y, temp_vec)\n",
    "        df_resp$fit_HV    = na.locf(na.locf(plx_grid$y, na.rm=FALSE), fromLast=TRUE)\n",
    "        df_resp$resp_HV   = na.locf(na.locf(c(NA,diff(plx_grid$y)), na.rm=FALSE), fromLast=TRUE)\n",
    "        #df_orig$resp_HV   = fit$y\n",
    "\n",
    "    if ('C' %in% names(df_orig))\n",
    "        fit               = lowess(df_orig$Temperature, df_orig$C) \n",
    "        plx_grid          = approx(fit$x, fit$y, temp_vec)\n",
    "        df_resp$fit_AC    = na.locf(na.locf(plx_grid$y, na.rm=FALSE), fromLast=TRUE)\n",
    "        df_resp$resp_AC   = na.locf(na.locf(c(NA,diff(plx_grid$y)), na.rm=FALSE), fromLast=TRUE)\n",
    "        #df_orig$resp_AC   = fit$y\n",
    "        \n",
    "    gc()\n",
    "    return(df_resp)\n",
    "}\n",
    "        "
   ]
  },
  {
   "cell_type": "code",
   "execution_count": 126,
   "metadata": {
    "collapsed": false
   },
   "outputs": [
    {
     "data": {
      "text/html": [
       "<table>\n",
       "<thead><tr><th></th><th scope=col>Temperature</th><th scope=col>fit_HVAC</th><th scope=col>resp_HVAC</th><th scope=col>fit_HV</th><th scope=col>resp_HV</th><th scope=col>fit_AC</th><th scope=col>resp_AC</th></tr></thead>\n",
       "<tbody>\n",
       "\t<tr><th scope=row>1</th><td>1</td><td>0.001324195</td><td>-5.038138e-05</td><td>0.001324195</td><td>-5.038138e-05</td><td>0.001324195</td><td>-5.038138e-05</td></tr>\n",
       "\t<tr><th scope=row>2</th><td>2</td><td>0.001324195</td><td>-5.038138e-05</td><td>0.001324195</td><td>-5.038138e-05</td><td>0.001324195</td><td>-5.038138e-05</td></tr>\n",
       "\t<tr><th scope=row>3</th><td>3</td><td>0.001324195</td><td>-5.038138e-05</td><td>0.001324195</td><td>-5.038138e-05</td><td>0.001324195</td><td>-5.038138e-05</td></tr>\n",
       "\t<tr><th scope=row>4</th><td>4</td><td>0.001324195</td><td>-5.038138e-05</td><td>0.001324195</td><td>-5.038138e-05</td><td>0.001324195</td><td>-5.038138e-05</td></tr>\n",
       "\t<tr><th scope=row>5</th><td>5</td><td>0.001324195</td><td>-5.038138e-05</td><td>0.001324195</td><td>-5.038138e-05</td><td>0.001324195</td><td>-5.038138e-05</td></tr>\n",
       "\t<tr><th scope=row>6</th><td>6</td><td>0.001324195</td><td>-5.038138e-05</td><td>0.001324195</td><td>-5.038138e-05</td><td>0.001324195</td><td>-5.038138e-05</td></tr>\n",
       "</tbody>\n",
       "</table>\n"
      ],
      "text/latex": [
       "\\begin{tabular}{r|lllllll}\n",
       "  & Temperature & fit_HVAC & resp_HVAC & fit_HV & resp_HV & fit_AC & resp_AC\\\\\n",
       "\\hline\n",
       "\t1 & 1 & 0.001324195 & -5.038138e-05 & 0.001324195 & -5.038138e-05 & 0.001324195 & -5.038138e-05\\\\\n",
       "\t2 & 2 & 0.001324195 & -5.038138e-05 & 0.001324195 & -5.038138e-05 & 0.001324195 & -5.038138e-05\\\\\n",
       "\t3 & 3 & 0.001324195 & -5.038138e-05 & 0.001324195 & -5.038138e-05 & 0.001324195 & -5.038138e-05\\\\\n",
       "\t4 & 4 & 0.001324195 & -5.038138e-05 & 0.001324195 & -5.038138e-05 & 0.001324195 & -5.038138e-05\\\\\n",
       "\t5 & 5 & 0.001324195 & -5.038138e-05 & 0.001324195 & -5.038138e-05 & 0.001324195 & -5.038138e-05\\\\\n",
       "\t6 & 6 & 0.001324195 & -5.038138e-05 & 0.001324195 & -5.038138e-05 & 0.001324195 & -5.038138e-05\\\\\n",
       "\\end{tabular}\n"
      ],
      "text/plain": [
       "  Temperature    fit_HVAC     resp_HVAC      fit_HV       resp_HV      fit_AC\n",
       "1           1 0.001324195 -5.038138e-05 0.001324195 -5.038138e-05 0.001324195\n",
       "2           2 0.001324195 -5.038138e-05 0.001324195 -5.038138e-05 0.001324195\n",
       "3           3 0.001324195 -5.038138e-05 0.001324195 -5.038138e-05 0.001324195\n",
       "4           4 0.001324195 -5.038138e-05 0.001324195 -5.038138e-05 0.001324195\n",
       "5           5 0.001324195 -5.038138e-05 0.001324195 -5.038138e-05 0.001324195\n",
       "6           6 0.001324195 -5.038138e-05 0.001324195 -5.038138e-05 0.001324195\n",
       "        resp_AC\n",
       "1 -5.038138e-05\n",
       "2 -5.038138e-05\n",
       "3 -5.038138e-05\n",
       "4 -5.038138e-05\n",
       "5 -5.038138e-05\n",
       "6 -5.038138e-05"
      ]
     },
     "execution_count": 126,
     "metadata": {},
     "output_type": "execute_result"
    }
   ],
   "source": [
    "df_orig = read.csv(as.character(row$file_orig))\n",
    "df_resp = f_estimate_GT_resp(df_orig, res$data$timestamps)\n",
    "head(df_resp)"
   ]
  },
  {
   "cell_type": "markdown",
   "metadata": {},
   "source": [
    "## Estimate \"breakpoint\" linear model "
   ]
  },
  {
   "cell_type": "code",
   "execution_count": 127,
   "metadata": {
    "collapsed": false
   },
   "outputs": [
    {
     "data": {
      "text/html": [
       "<table>\n",
       "<thead><tr><th></th><th scope=col>UID</th><th scope=col>name</th><th scope=col>grain</th><th scope=col>file_model_decode</th><th scope=col>file_model_interp</th><th scope=col>file_orig</th></tr></thead>\n",
       "<tbody>\n",
       "\t<tr><th scope=row>3</th><td>1105</td><td>Grant</td><td>60min</td><td>/Users/adrianalbert/S3L_server/energy-data/pecan_street/models_2//1105_Grant/60min/1105_Grant_decoded.RData</td><td>/Users/adrianalbert/S3L_server/energy-data/pecan_street/models_2//1105_Grant/60min/1105_Grant_interpreted.RData</td><td>/Users/adrianalbert/S3L_server/energy-data/pecan_street/usage-select//60min/1105.csv</td></tr>\n",
       "</tbody>\n",
       "</table>\n"
      ],
      "text/latex": [
       "\\begin{tabular}{r|llllll}\n",
       "  & UID & name & grain & file_model_decode & file_model_interp & file_orig\\\\\n",
       "\\hline\n",
       "\t3 & 1105 & Grant & 60min & /Users/adrianalbert/S3L_server/energy-data/pecan_street/models_2//1105_Grant/60min/1105_Grant_decoded.RData & /Users/adrianalbert/S3L_server/energy-data/pecan_street/models_2//1105_Grant/60min/1105_Grant_interpreted.RData & /Users/adrianalbert/S3L_server/energy-data/pecan_street/usage-select//60min/1105.csv\\\\\n",
       "\\end{tabular}\n"
      ],
      "text/plain": [
       "   UID  name grain\n",
       "3 1105 Grant 60min\n",
       "                                                                                            file_model_decode\n",
       "3 /Users/adrianalbert/S3L_server/energy-data/pecan_street/models_2//1105_Grant/60min/1105_Grant_decoded.RData\n",
       "                                                                                                file_model_interp\n",
       "3 /Users/adrianalbert/S3L_server/energy-data/pecan_street/models_2//1105_Grant/60min/1105_Grant_interpreted.RData\n",
       "                                                                             file_orig\n",
       "3 /Users/adrianalbert/S3L_server/energy-data/pecan_street/usage-select//60min/1105.csv"
      ]
     },
     "execution_count": 127,
     "metadata": {},
     "output_type": "execute_result"
    }
   ],
   "source": [
    "row"
   ]
  },
  {
   "cell_type": "code",
   "execution_count": 128,
   "metadata": {
    "collapsed": false
   },
   "outputs": [
    {
     "data": {
      "text/html": [
       "<table>\n",
       "<thead><tr><th></th><th scope=col>date</th><th scope=col>total</th><th scope=col>C</th><th scope=col>user</th><th scope=col>Temperature</th></tr></thead>\n",
       "<tbody>\n",
       "\t<tr><th scope=row>1</th><td>2013-11-13 16:00:00</td><td>0.4943333</td><td>0.00295</td><td>0.4913833</td><td>55.359</td></tr>\n",
       "\t<tr><th scope=row>2</th><td>2013-11-13 17:00:00</td><td>0.4058167</td><td>0</td><td>0.4058167</td><td>52.34833</td></tr>\n",
       "\t<tr><th scope=row>3</th><td>2013-11-13 18:00:00</td><td>0.94945</td><td>0.0005166667</td><td>0.9489333</td><td>47.66</td></tr>\n",
       "\t<tr><th scope=row>4</th><td>2013-11-13 19:00:00</td><td>0.4052833</td><td>0</td><td>0.4052833</td><td>43.769</td></tr>\n",
       "\t<tr><th scope=row>5</th><td>2013-11-13 20:00:00</td><td>0.31975</td><td>0</td><td>0.31975</td><td>41.10633</td></tr>\n",
       "\t<tr><th scope=row>6</th><td>2013-11-13 21:00:00</td><td>0.1960833</td><td>0</td><td>0.1960833</td><td>38.804</td></tr>\n",
       "</tbody>\n",
       "</table>\n"
      ],
      "text/latex": [
       "\\begin{tabular}{r|lllll}\n",
       "  & date & total & C & user & Temperature\\\\\n",
       "\\hline\n",
       "\t1 & 2013-11-13 16:00:00 & 0.4943333 & 0.00295 & 0.4913833 & 55.359\\\\\n",
       "\t2 & 2013-11-13 17:00:00 & 0.4058167 & 0 & 0.4058167 & 52.34833\\\\\n",
       "\t3 & 2013-11-13 18:00:00 & 0.94945 & 0.0005166667 & 0.9489333 & 47.66\\\\\n",
       "\t4 & 2013-11-13 19:00:00 & 0.4052833 & 0 & 0.4052833 & 43.769\\\\\n",
       "\t5 & 2013-11-13 20:00:00 & 0.31975 & 0 & 0.31975 & 41.10633\\\\\n",
       "\t6 & 2013-11-13 21:00:00 & 0.1960833 & 0 & 0.1960833 & 38.804\\\\\n",
       "\\end{tabular}\n"
      ],
      "text/plain": [
       "                 date     total            C      user Temperature\n",
       "1 2013-11-13 16:00:00 0.4943333 0.0029500000 0.4913833    55.35900\n",
       "2 2013-11-13 17:00:00 0.4058167 0.0000000000 0.4058167    52.34833\n",
       "3 2013-11-13 18:00:00 0.9494500 0.0005166667 0.9489333    47.66000\n",
       "4 2013-11-13 19:00:00 0.4052833 0.0000000000 0.4052833    43.76900\n",
       "5 2013-11-13 20:00:00 0.3197500 0.0000000000 0.3197500    41.10633\n",
       "6 2013-11-13 21:00:00 0.1960833 0.0000000000 0.1960833    38.80400"
      ]
     },
     "execution_count": 128,
     "metadata": {},
     "output_type": "execute_result"
    }
   ],
   "source": [
    "df_orig = read.csv(as.character(row$file_orig))\n",
    "head(df_orig)"
   ]
  },
  {
   "cell_type": "code",
   "execution_count": 129,
   "metadata": {
    "collapsed": true
   },
   "outputs": [],
   "source": [
    "f_estimate_breakpoint_LM = function(df_orig){\n",
    "    \n",
    "    temp_vec = 1:120\n",
    "    df_resp = data.frame(Temperature = temp_vec)\n",
    "    df_resp$resp_HV  = 0\n",
    "    df_resp$resp_AC  = 0\n",
    "    df_resp$resp_HVAC= 0\n",
    "    res = tryCatch({\n",
    "        fit.lm<-lm(user~Temperature, data=df_orig)\n",
    "        fit.seg<-segmented(fit.lm, seg.Z=~Temperature)\n",
    "        psi = fit.seg$psi[,'Est.']\n",
    "        resp= c(hv=as.numeric(fit.seg$coefficients['Temperature']), \n",
    "                ac=as.numeric(fit.seg$coefficients['Temperature']) + as.numeric(fit.seg$coefficients['U1.Temperature']))        \n",
    "\n",
    "        df_resp$resp_HV = sapply(df_resp$Temperature, function(x) if (x<psi) resp['hv'] else 0)\n",
    "        df_resp$resp_AC = sapply(df_resp$Temperature, function(x) if (x>=psi) resp['ac'] else 0)\n",
    "        df_resp$resp_HVAC = sapply(df_resp$Temperature, function(x) if (x<psi) resp['hv'] else resp['ac'])\n",
    "        return(list(df_resp, psi, resp))\n",
    "    }, error = function(e) {\n",
    "        return(list(df_resp, 0, 0))\n",
    "    })\n",
    "}\n",
    "  "
   ]
  },
  {
   "cell_type": "code",
   "execution_count": 130,
   "metadata": {
    "collapsed": false
   },
   "outputs": [],
   "source": [
    "res_BP = f_estimate_breakpoint_LM(df_orig)"
   ]
  },
  {
   "cell_type": "code",
   "execution_count": 131,
   "metadata": {
    "collapsed": false,
    "scrolled": false
   },
   "outputs": [
    {
     "data": {
      "application/pdf": "[encoded data removed]",
      "image/jpeg": "[encoded data removed]",
      "image/png": "[encoded data removed]",
      "image/svg+xml": [
       "<?xml version=\"1.0\" encoding=\"UTF-8\"?>\n",
       "<svg xmlns=\"http://www.w3.org/2000/svg\" xmlns:xlink=\"http://www.w3.org/1999/xlink\" width=\"504pt\" height=\"504pt\" viewBox=\"0 0 504 504\" version=\"1.1\">\n",
       "<defs>\n",
       "<g>\n",
       "<symbol overflow=\"visible\" id=\"glyph0-0\">\n",
       "<path style=\"stroke:none;\" d=\"M 0.390625 0 L 0.390625 -8.609375 L 7.21875 -8.609375 L 7.21875 0 Z M 6.140625 -1.078125 L 6.140625 -7.53125 L 1.46875 -7.53125 L 1.46875 -1.078125 Z \"/>\n",
       "</symbol>\n",
       "<symbol overflow=\"visible\" id=\"glyph0-1\">\n",
       "<path style=\"stroke:none;\" d=\"M 3.25 -8.390625 C 4.332031 -8.390625 5.117188 -7.941406 5.609375 -7.046875 C 5.984375 -6.359375 6.171875 -5.410156 6.171875 -4.203125 C 6.171875 -3.066406 6 -2.125 5.65625 -1.375 C 5.164062 -0.300781 4.359375 0.234375 3.234375 0.234375 C 2.234375 0.234375 1.484375 -0.203125 0.984375 -1.078125 C 0.578125 -1.816406 0.375 -2.800781 0.375 -4.03125 C 0.375 -4.976562 0.5 -5.796875 0.75 -6.484375 C 1.207031 -7.753906 2.039062 -8.390625 3.25 -8.390625 Z M 3.234375 -0.734375 C 3.785156 -0.734375 4.222656 -0.972656 4.546875 -1.453125 C 4.867188 -1.941406 5.03125 -2.847656 5.03125 -4.171875 C 5.03125 -5.117188 4.910156 -5.898438 4.671875 -6.515625 C 4.441406 -7.128906 3.988281 -7.4375 3.3125 -7.4375 C 2.6875 -7.4375 2.226562 -7.144531 1.9375 -6.5625 C 1.65625 -5.976562 1.515625 -5.117188 1.515625 -3.984375 C 1.515625 -3.128906 1.609375 -2.441406 1.796875 -1.921875 C 2.078125 -1.128906 2.554688 -0.734375 3.234375 -0.734375 Z \"/>\n",
       "</symbol>\n",
       "<symbol overflow=\"visible\" id=\"glyph0-2\">\n",
       "<path style=\"stroke:none;\" d=\"M 0.375 0 C 0.414062 -0.71875 0.566406 -1.34375 0.828125 -1.875 C 1.085938 -2.414062 1.59375 -2.90625 2.34375 -3.34375 L 3.46875 -4 C 3.96875 -4.289062 4.320312 -4.539062 4.53125 -4.75 C 4.851562 -5.070312 5.015625 -5.441406 5.015625 -5.859375 C 5.015625 -6.347656 4.863281 -6.734375 4.5625 -7.015625 C 4.269531 -7.304688 3.882812 -7.453125 3.40625 -7.453125 C 2.675781 -7.453125 2.175781 -7.179688 1.90625 -6.640625 C 1.75 -6.335938 1.664062 -5.929688 1.65625 -5.421875 L 0.578125 -5.421875 C 0.585938 -6.148438 0.722656 -6.742188 0.984375 -7.203125 C 1.441406 -8.015625 2.25 -8.421875 3.40625 -8.421875 C 4.363281 -8.421875 5.0625 -8.160156 5.5 -7.640625 C 5.945312 -7.117188 6.171875 -6.539062 6.171875 -5.90625 C 6.171875 -5.238281 5.9375 -4.664062 5.46875 -4.1875 C 5.195312 -3.90625 4.707031 -3.566406 4 -3.171875 L 3.1875 -2.734375 C 2.8125 -2.523438 2.515625 -2.320312 2.296875 -2.125 C 1.898438 -1.789062 1.648438 -1.414062 1.546875 -1 L 6.140625 -1 L 6.140625 0 Z \"/>\n",
       "</symbol>\n",
       "<symbol overflow=\"visible\" id=\"glyph0-3\">\n",
       "<path style=\"stroke:none;\" d=\"M 3.96875 -2.96875 L 3.96875 -6.78125 L 1.28125 -2.96875 Z M 3.984375 0 L 3.984375 -2.046875 L 0.3125 -2.046875 L 0.3125 -3.078125 L 4.15625 -8.421875 L 5.046875 -8.421875 L 5.046875 -2.96875 L 6.28125 -2.96875 L 6.28125 -2.046875 L 5.046875 -2.046875 L 5.046875 0 Z \"/>\n",
       "</symbol>\n",
       "<symbol overflow=\"visible\" id=\"glyph0-4\">\n",
       "<path style=\"stroke:none;\" d=\"M 3.515625 -8.421875 C 4.453125 -8.421875 5.101562 -8.175781 5.46875 -7.6875 C 5.84375 -7.207031 6.03125 -6.707031 6.03125 -6.1875 L 4.984375 -6.1875 C 4.921875 -6.519531 4.820312 -6.78125 4.6875 -6.96875 C 4.425781 -7.320312 4.039062 -7.5 3.53125 -7.5 C 2.9375 -7.5 2.460938 -7.222656 2.109375 -6.671875 C 1.765625 -6.128906 1.578125 -5.351562 1.546875 -4.34375 C 1.785156 -4.695312 2.085938 -4.960938 2.453125 -5.140625 C 2.785156 -5.296875 3.160156 -5.375 3.578125 -5.375 C 4.285156 -5.375 4.898438 -5.148438 5.421875 -4.703125 C 5.941406 -4.253906 6.203125 -3.582031 6.203125 -2.6875 C 6.203125 -1.925781 5.953125 -1.25 5.453125 -0.65625 C 4.960938 -0.0703125 4.257812 0.21875 3.34375 0.21875 C 2.550781 0.21875 1.867188 -0.078125 1.296875 -0.671875 C 0.734375 -1.273438 0.453125 -2.28125 0.453125 -3.6875 C 0.453125 -4.726562 0.578125 -5.613281 0.828125 -6.34375 C 1.316406 -7.726562 2.210938 -8.421875 3.515625 -8.421875 Z M 3.4375 -0.71875 C 3.988281 -0.71875 4.398438 -0.90625 4.671875 -1.28125 C 4.953125 -1.65625 5.09375 -2.097656 5.09375 -2.609375 C 5.09375 -3.035156 4.96875 -3.441406 4.71875 -3.828125 C 4.476562 -4.210938 4.03125 -4.40625 3.375 -4.40625 C 2.925781 -4.40625 2.53125 -4.253906 2.1875 -3.953125 C 1.84375 -3.660156 1.671875 -3.210938 1.671875 -2.609375 C 1.671875 -2.078125 1.828125 -1.628906 2.140625 -1.265625 C 2.453125 -0.898438 2.882812 -0.71875 3.4375 -0.71875 Z \"/>\n",
       "</symbol>\n",
       "<symbol overflow=\"visible\" id=\"glyph0-5\">\n",
       "<path style=\"stroke:none;\" d=\"M 3.265625 -4.875 C 3.734375 -4.875 4.097656 -5.003906 4.359375 -5.265625 C 4.617188 -5.523438 4.75 -5.832031 4.75 -6.1875 C 4.75 -6.5 4.625 -6.785156 4.375 -7.046875 C 4.125 -7.316406 3.742188 -7.453125 3.234375 -7.453125 C 2.722656 -7.453125 2.351562 -7.316406 2.125 -7.046875 C 1.894531 -6.785156 1.78125 -6.484375 1.78125 -6.140625 C 1.78125 -5.742188 1.925781 -5.429688 2.21875 -5.203125 C 2.519531 -4.984375 2.867188 -4.875 3.265625 -4.875 Z M 3.328125 -0.71875 C 3.816406 -0.71875 4.222656 -0.847656 4.546875 -1.109375 C 4.867188 -1.378906 5.03125 -1.773438 5.03125 -2.296875 C 5.03125 -2.835938 4.863281 -3.25 4.53125 -3.53125 C 4.195312 -3.8125 3.769531 -3.953125 3.25 -3.953125 C 2.75 -3.953125 2.335938 -3.804688 2.015625 -3.515625 C 1.703125 -3.234375 1.546875 -2.835938 1.546875 -2.328125 C 1.546875 -1.890625 1.691406 -1.507812 1.984375 -1.1875 C 2.273438 -0.875 2.722656 -0.71875 3.328125 -0.71875 Z M 1.828125 -4.46875 C 1.535156 -4.59375 1.304688 -4.738281 1.140625 -4.90625 C 0.835938 -5.21875 0.6875 -5.625 0.6875 -6.125 C 0.6875 -6.75 0.910156 -7.285156 1.359375 -7.734375 C 1.816406 -8.191406 2.457031 -8.421875 3.28125 -8.421875 C 4.09375 -8.421875 4.722656 -8.207031 5.171875 -7.78125 C 5.628906 -7.351562 5.859375 -6.859375 5.859375 -6.296875 C 5.859375 -5.773438 5.726562 -5.347656 5.46875 -5.015625 C 5.320312 -4.835938 5.09375 -4.660156 4.78125 -4.484375 C 5.125 -4.328125 5.394531 -4.144531 5.59375 -3.9375 C 5.96875 -3.539062 6.15625 -3.03125 6.15625 -2.40625 C 6.15625 -1.664062 5.90625 -1.039062 5.40625 -0.53125 C 4.914062 -0.0195312 4.21875 0.234375 3.3125 0.234375 C 2.488281 0.234375 1.796875 0.015625 1.234375 -0.421875 C 0.671875 -0.867188 0.390625 -1.515625 0.390625 -2.359375 C 0.390625 -2.847656 0.507812 -3.273438 0.75 -3.640625 C 0.988281 -4.003906 1.347656 -4.28125 1.828125 -4.46875 Z \"/>\n",
       "</symbol>\n",
       "<symbol overflow=\"visible\" id=\"glyph0-6\">\n",
       "<path style=\"stroke:none;\" d=\"M 1.15625 -5.9375 L 1.15625 -6.75 C 1.914062 -6.820312 2.441406 -6.945312 2.734375 -7.125 C 3.035156 -7.300781 3.265625 -7.710938 3.421875 -8.359375 L 4.25 -8.359375 L 4.25 0 L 3.125 0 L 3.125 -5.9375 Z \"/>\n",
       "</symbol>\n",
       "<symbol overflow=\"visible\" id=\"glyph0-7\">\n",
       "<path style=\"stroke:none;\" d=\"M 0.796875 -6.28125 L 1.8125 -6.28125 L 1.8125 -5.1875 C 1.882812 -5.40625 2.082031 -5.664062 2.40625 -5.96875 C 2.726562 -6.269531 3.097656 -6.421875 3.515625 -6.421875 C 3.535156 -6.421875 3.566406 -6.414062 3.609375 -6.40625 C 3.660156 -6.40625 3.742188 -6.398438 3.859375 -6.390625 L 3.859375 -5.28125 C 3.796875 -5.289062 3.738281 -5.296875 3.6875 -5.296875 C 3.632812 -5.296875 3.578125 -5.296875 3.515625 -5.296875 C 2.984375 -5.296875 2.570312 -5.125 2.28125 -4.78125 C 2 -4.445312 1.859375 -4.054688 1.859375 -3.609375 L 1.859375 0 L 0.796875 0 Z \"/>\n",
       "</symbol>\n",
       "<symbol overflow=\"visible\" id=\"glyph0-8\">\n",
       "<path style=\"stroke:none;\" d=\"M 3.390625 -6.421875 C 3.835938 -6.421875 4.269531 -6.316406 4.6875 -6.109375 C 5.101562 -5.898438 5.421875 -5.628906 5.640625 -5.296875 C 5.847656 -4.972656 5.988281 -4.601562 6.0625 -4.1875 C 6.125 -3.894531 6.15625 -3.429688 6.15625 -2.796875 L 1.546875 -2.796875 C 1.566406 -2.160156 1.71875 -1.648438 2 -1.265625 C 2.28125 -0.878906 2.71875 -0.6875 3.3125 -0.6875 C 3.863281 -0.6875 4.300781 -0.867188 4.625 -1.234375 C 4.8125 -1.441406 4.945312 -1.6875 5.03125 -1.96875 L 6.0625 -1.96875 C 6.039062 -1.738281 5.953125 -1.484375 5.796875 -1.203125 C 5.640625 -0.921875 5.46875 -0.6875 5.28125 -0.5 C 4.957031 -0.1875 4.554688 0.0195312 4.078125 0.125 C 3.828125 0.1875 3.539062 0.21875 3.21875 0.21875 C 2.4375 0.21875 1.773438 -0.0625 1.234375 -0.625 C 0.691406 -1.195312 0.421875 -1.992188 0.421875 -3.015625 C 0.421875 -4.023438 0.691406 -4.84375 1.234375 -5.46875 C 1.785156 -6.101562 2.503906 -6.421875 3.390625 -6.421875 Z M 5.0625 -3.640625 C 5.019531 -4.097656 4.921875 -4.460938 4.765625 -4.734375 C 4.484375 -5.242188 4.003906 -5.5 3.328125 -5.5 C 2.835938 -5.5 2.425781 -5.320312 2.09375 -4.96875 C 1.769531 -4.625 1.597656 -4.179688 1.578125 -3.640625 Z M 3.28125 -6.421875 Z \"/>\n",
       "</symbol>\n",
       "<symbol overflow=\"visible\" id=\"glyph0-9\">\n",
       "<path style=\"stroke:none;\" d=\"M 1.40625 -1.96875 C 1.4375 -1.613281 1.523438 -1.34375 1.671875 -1.15625 C 1.929688 -0.820312 2.390625 -0.65625 3.046875 -0.65625 C 3.441406 -0.65625 3.785156 -0.738281 4.078125 -0.90625 C 4.378906 -1.070312 4.53125 -1.332031 4.53125 -1.6875 C 4.53125 -1.957031 4.410156 -2.164062 4.171875 -2.3125 C 4.015625 -2.394531 3.710938 -2.492188 3.265625 -2.609375 L 2.421875 -2.8125 C 1.890625 -2.945312 1.5 -3.097656 1.25 -3.265625 C 0.789062 -3.546875 0.5625 -3.941406 0.5625 -4.453125 C 0.5625 -5.046875 0.773438 -5.523438 1.203125 -5.890625 C 1.628906 -6.253906 2.207031 -6.4375 2.9375 -6.4375 C 3.875 -6.4375 4.550781 -6.160156 4.96875 -5.609375 C 5.238281 -5.253906 5.367188 -4.875 5.359375 -4.46875 L 4.359375 -4.46875 C 4.335938 -4.707031 4.253906 -4.925781 4.109375 -5.125 C 3.867188 -5.394531 3.445312 -5.53125 2.84375 -5.53125 C 2.445312 -5.53125 2.144531 -5.453125 1.9375 -5.296875 C 1.738281 -5.148438 1.640625 -4.953125 1.640625 -4.703125 C 1.640625 -4.429688 1.773438 -4.210938 2.046875 -4.046875 C 2.203125 -3.953125 2.429688 -3.867188 2.734375 -3.796875 L 3.421875 -3.625 C 4.179688 -3.4375 4.691406 -3.257812 4.953125 -3.09375 C 5.359375 -2.820312 5.5625 -2.394531 5.5625 -1.8125 C 5.5625 -1.257812 5.347656 -0.78125 4.921875 -0.375 C 4.503906 0.03125 3.863281 0.234375 3 0.234375 C 2.0625 0.234375 1.394531 0.0234375 1 -0.390625 C 0.613281 -0.816406 0.410156 -1.34375 0.390625 -1.96875 Z M 2.953125 -6.421875 Z \"/>\n",
       "</symbol>\n",
       "<symbol overflow=\"visible\" id=\"glyph0-10\">\n",
       "<path style=\"stroke:none;\" d=\"M 0 1.5 L 0 0.90625 L 6.671875 0.90625 L 6.671875 1.5 Z \"/>\n",
       "</symbol>\n",
       "<symbol overflow=\"visible\" id=\"glyph0-11\">\n",
       "<path style=\"stroke:none;\" d=\"M 4.15625 -4.96875 C 4.644531 -4.96875 5.023438 -5.035156 5.296875 -5.171875 C 5.722656 -5.390625 5.9375 -5.773438 5.9375 -6.328125 C 5.9375 -6.890625 5.707031 -7.269531 5.25 -7.46875 C 5 -7.582031 4.617188 -7.640625 4.109375 -7.640625 L 2.03125 -7.640625 L 2.03125 -4.96875 Z M 4.546875 -1 C 5.253906 -1 5.765625 -1.207031 6.078125 -1.625 C 6.265625 -1.882812 6.359375 -2.195312 6.359375 -2.5625 C 6.359375 -3.1875 6.078125 -3.613281 5.515625 -3.84375 C 5.222656 -3.96875 4.832031 -4.03125 4.34375 -4.03125 L 2.03125 -4.03125 L 2.03125 -1 Z M 0.890625 -8.609375 L 4.578125 -8.609375 C 5.585938 -8.609375 6.304688 -8.304688 6.734375 -7.703125 C 6.984375 -7.347656 7.109375 -6.9375 7.109375 -6.46875 C 7.109375 -5.925781 6.953125 -5.484375 6.640625 -5.140625 C 6.484375 -4.953125 6.253906 -4.785156 5.953125 -4.640625 C 6.390625 -4.472656 6.71875 -4.28125 6.9375 -4.0625 C 7.332031 -3.6875 7.53125 -3.171875 7.53125 -2.515625 C 7.53125 -1.960938 7.351562 -1.460938 7 -1.015625 C 6.476562 -0.335938 5.65625 0 4.53125 0 L 0.890625 0 Z \"/>\n",
       "</symbol>\n",
       "<symbol overflow=\"visible\" id=\"glyph0-12\">\n",
       "<path style=\"stroke:none;\" d=\"M 1.03125 -8.609375 L 4.90625 -8.609375 C 5.664062 -8.609375 6.28125 -8.390625 6.75 -7.953125 C 7.21875 -7.523438 7.453125 -6.921875 7.453125 -6.140625 C 7.453125 -5.472656 7.242188 -4.890625 6.828125 -4.390625 C 6.410156 -3.890625 5.769531 -3.640625 4.90625 -3.640625 L 2.1875 -3.640625 L 2.1875 0 L 1.03125 0 Z M 6.28125 -6.140625 C 6.28125 -6.765625 6.046875 -7.191406 5.578125 -7.421875 C 5.316406 -7.546875 4.960938 -7.609375 4.515625 -7.609375 L 2.1875 -7.609375 L 2.1875 -4.625 L 4.515625 -4.625 C 5.035156 -4.625 5.457031 -4.734375 5.78125 -4.953125 C 6.113281 -5.179688 6.28125 -5.578125 6.28125 -6.140625 Z \"/>\n",
       "</symbol>\n",
       "<symbol overflow=\"visible\" id=\"glyph0-13\">\n",
       "<path style=\"stroke:none;\" d=\"M 0.75 -8.671875 L 3 -8.671875 L 3 -7.8125 L 1.75 -7.8125 L 1.75 1.5 L 3 1.5 L 3 2.359375 L 0.75 2.359375 Z \"/>\n",
       "</symbol>\n",
       "<symbol overflow=\"visible\" id=\"glyph0-14\">\n",
       "<path style=\"stroke:none;\" d=\"M 0.28125 1.5 L 1.53125 1.5 L 1.53125 -7.8125 L 0.28125 -7.8125 L 0.28125 -8.671875 L 2.53125 -8.671875 L 2.53125 2.359375 L 0.28125 2.359375 Z \"/>\n",
       "</symbol>\n",
       "<symbol overflow=\"visible\" id=\"glyph0-15\">\n",
       "<path style=\"stroke:none;\" d=\"M 3.578125 -0.609375 C 4.242188 -0.640625 4.707031 -0.882812 4.96875 -1.34375 C 5.09375 -1.570312 5.15625 -1.84375 5.15625 -2.15625 C 5.15625 -2.644531 4.976562 -3.015625 4.625 -3.265625 C 4.414062 -3.421875 4.066406 -3.5625 3.578125 -3.6875 Z M 1.59375 -6.265625 C 1.59375 -5.878906 1.71875 -5.578125 1.96875 -5.359375 C 2.226562 -5.140625 2.578125 -4.988281 3.015625 -4.90625 L 3.015625 -7.65625 C 2.503906 -7.632812 2.140625 -7.476562 1.921875 -7.1875 C 1.703125 -6.894531 1.59375 -6.585938 1.59375 -6.265625 Z M 0.546875 -6.1875 C 0.546875 -6.78125 0.757812 -7.316406 1.1875 -7.796875 C 1.625 -8.273438 2.238281 -8.519531 3.03125 -8.53125 L 3.03125 -9.3125 L 3.578125 -9.3125 L 3.578125 -8.53125 C 4.359375 -8.476562 4.957031 -8.25 5.375 -7.84375 C 5.789062 -7.445312 6.007812 -6.914062 6.03125 -6.25 L 5 -6.25 C 4.96875 -6.539062 4.890625 -6.796875 4.765625 -7.015625 C 4.515625 -7.410156 4.117188 -7.617188 3.578125 -7.640625 L 3.578125 -4.78125 C 4.484375 -4.53125 5.097656 -4.296875 5.421875 -4.078125 C 5.953125 -3.703125 6.21875 -3.15625 6.21875 -2.4375 C 6.21875 -1.40625 5.878906 -0.671875 5.203125 -0.234375 C 4.828125 0.015625 4.285156 0.175781 3.578125 0.25 L 3.578125 1.390625 L 3.03125 1.390625 L 3.03125 0.25 C 1.882812 0.175781 1.109375 -0.222656 0.703125 -0.953125 C 0.484375 -1.347656 0.375 -1.882812 0.375 -2.5625 L 1.40625 -2.5625 C 1.4375 -2.019531 1.523438 -1.628906 1.671875 -1.390625 C 1.910156 -0.941406 2.359375 -0.691406 3.015625 -0.640625 L 3.015625 -3.828125 C 2.171875 -3.992188 1.546875 -4.265625 1.140625 -4.640625 C 0.742188 -5.015625 0.546875 -5.53125 0.546875 -6.1875 Z \"/>\n",
       "</symbol>\n",
       "<symbol overflow=\"visible\" id=\"glyph0-16\">\n",
       "<path style=\"stroke:none;\" d=\"M 7.171875 -8.609375 L 7.171875 -7.578125 L 4.28125 -7.578125 L 4.28125 0 L 3.09375 0 L 3.09375 -7.578125 L 0.1875 -7.578125 L 0.1875 -8.609375 Z \"/>\n",
       "</symbol>\n",
       "<symbol overflow=\"visible\" id=\"glyph0-17\">\n",
       "<path style=\"stroke:none;\" d=\"M 0.78125 -6.28125 L 1.8125 -6.28125 L 1.8125 -5.390625 C 2.0625 -5.691406 2.289062 -5.914062 2.5 -6.0625 C 2.84375 -6.300781 3.238281 -6.421875 3.6875 -6.421875 C 4.1875 -6.421875 4.585938 -6.296875 4.890625 -6.046875 C 5.054688 -5.910156 5.210938 -5.703125 5.359375 -5.421875 C 5.585938 -5.765625 5.859375 -6.015625 6.171875 -6.171875 C 6.492188 -6.335938 6.851562 -6.421875 7.25 -6.421875 C 8.09375 -6.421875 8.664062 -6.113281 8.96875 -5.5 C 9.132812 -5.175781 9.21875 -4.734375 9.21875 -4.171875 L 9.21875 0 L 8.125 0 L 8.125 -4.359375 C 8.125 -4.773438 8.019531 -5.0625 7.8125 -5.21875 C 7.601562 -5.375 7.347656 -5.453125 7.046875 -5.453125 C 6.628906 -5.453125 6.269531 -5.3125 5.96875 -5.03125 C 5.675781 -4.757812 5.53125 -4.300781 5.53125 -3.65625 L 5.53125 0 L 4.453125 0 L 4.453125 -4.09375 C 4.453125 -4.519531 4.398438 -4.832031 4.296875 -5.03125 C 4.140625 -5.320312 3.84375 -5.46875 3.40625 -5.46875 C 3.007812 -5.46875 2.644531 -5.3125 2.3125 -5 C 1.988281 -4.695312 1.828125 -4.140625 1.828125 -3.328125 L 1.828125 0 L 0.78125 0 Z \"/>\n",
       "</symbol>\n",
       "<symbol overflow=\"visible\" id=\"glyph0-18\">\n",
       "<path style=\"stroke:none;\" d=\"M 3.421875 -0.703125 C 3.910156 -0.703125 4.316406 -0.910156 4.640625 -1.328125 C 4.972656 -1.742188 5.140625 -2.359375 5.140625 -3.171875 C 5.140625 -3.671875 5.066406 -4.101562 4.921875 -4.46875 C 4.648438 -5.15625 4.148438 -5.5 3.421875 -5.5 C 2.691406 -5.5 2.191406 -5.132812 1.921875 -4.40625 C 1.773438 -4.019531 1.703125 -3.523438 1.703125 -2.921875 C 1.703125 -2.429688 1.773438 -2.019531 1.921875 -1.6875 C 2.191406 -1.03125 2.691406 -0.703125 3.421875 -0.703125 Z M 0.6875 -6.25 L 1.71875 -6.25 L 1.71875 -5.421875 C 1.925781 -5.703125 2.15625 -5.921875 2.40625 -6.078125 C 2.757812 -6.304688 3.175781 -6.421875 3.65625 -6.421875 C 4.375 -6.421875 4.976562 -6.148438 5.46875 -5.609375 C 5.96875 -5.066406 6.21875 -4.289062 6.21875 -3.28125 C 6.21875 -1.90625 5.859375 -0.925781 5.140625 -0.34375 C 4.691406 0.03125 4.164062 0.21875 3.5625 0.21875 C 3.09375 0.21875 2.695312 0.113281 2.375 -0.09375 C 2.1875 -0.21875 1.976562 -0.421875 1.75 -0.703125 L 1.75 2.5 L 0.6875 2.5 Z \"/>\n",
       "</symbol>\n",
       "<symbol overflow=\"visible\" id=\"glyph0-19\">\n",
       "<path style=\"stroke:none;\" d=\"M 1.578125 -1.671875 C 1.578125 -1.367188 1.6875 -1.128906 1.90625 -0.953125 C 2.132812 -0.773438 2.398438 -0.6875 2.703125 -0.6875 C 3.078125 -0.6875 3.4375 -0.769531 3.78125 -0.9375 C 4.375 -1.226562 4.671875 -1.695312 4.671875 -2.34375 L 4.671875 -3.1875 C 4.535156 -3.113281 4.363281 -3.046875 4.15625 -2.984375 C 3.957031 -2.929688 3.757812 -2.894531 3.5625 -2.875 L 2.9375 -2.796875 C 2.550781 -2.742188 2.257812 -2.660156 2.0625 -2.546875 C 1.738281 -2.367188 1.578125 -2.078125 1.578125 -1.671875 Z M 4.140625 -3.796875 C 4.378906 -3.828125 4.539062 -3.929688 4.625 -4.109375 C 4.664062 -4.203125 4.6875 -4.335938 4.6875 -4.515625 C 4.6875 -4.867188 4.554688 -5.125 4.296875 -5.28125 C 4.046875 -5.445312 3.6875 -5.53125 3.21875 -5.53125 C 2.664062 -5.53125 2.273438 -5.382812 2.046875 -5.09375 C 1.910156 -4.925781 1.820312 -4.679688 1.78125 -4.359375 L 0.796875 -4.359375 C 0.816406 -5.128906 1.066406 -5.664062 1.546875 -5.96875 C 2.035156 -6.269531 2.597656 -6.421875 3.234375 -6.421875 C 3.972656 -6.421875 4.570312 -6.28125 5.03125 -6 C 5.488281 -5.71875 5.71875 -5.28125 5.71875 -4.6875 L 5.71875 -1.078125 C 5.71875 -0.972656 5.738281 -0.882812 5.78125 -0.8125 C 5.832031 -0.75 5.929688 -0.71875 6.078125 -0.71875 C 6.117188 -0.71875 6.164062 -0.71875 6.21875 -0.71875 C 6.28125 -0.726562 6.347656 -0.738281 6.421875 -0.75 L 6.421875 0.03125 C 6.253906 0.0703125 6.125 0.0976562 6.03125 0.109375 C 5.945312 0.128906 5.832031 0.140625 5.6875 0.140625 C 5.320312 0.140625 5.0625 0.0078125 4.90625 -0.25 C 4.8125 -0.382812 4.75 -0.578125 4.71875 -0.828125 C 4.5 -0.546875 4.1875 -0.300781 3.78125 -0.09375 C 3.382812 0.113281 2.945312 0.21875 2.46875 0.21875 C 1.882812 0.21875 1.40625 0.0390625 1.03125 -0.3125 C 0.664062 -0.664062 0.484375 -1.109375 0.484375 -1.640625 C 0.484375 -2.222656 0.664062 -2.675781 1.03125 -3 C 1.394531 -3.320312 1.867188 -3.519531 2.453125 -3.59375 Z M 3.265625 -6.421875 Z \"/>\n",
       "</symbol>\n",
       "<symbol overflow=\"visible\" id=\"glyph0-20\">\n",
       "<path style=\"stroke:none;\" d=\"M 0.984375 -8.03125 L 2.046875 -8.03125 L 2.046875 -6.28125 L 3.046875 -6.28125 L 3.046875 -5.421875 L 2.046875 -5.421875 L 2.046875 -1.3125 C 2.046875 -1.09375 2.125 -0.945312 2.28125 -0.875 C 2.351562 -0.832031 2.488281 -0.8125 2.6875 -0.8125 C 2.738281 -0.8125 2.789062 -0.8125 2.84375 -0.8125 C 2.90625 -0.820312 2.972656 -0.828125 3.046875 -0.828125 L 3.046875 0 C 2.929688 0.03125 2.804688 0.0507812 2.671875 0.0625 C 2.546875 0.0820312 2.40625 0.09375 2.25 0.09375 C 1.757812 0.09375 1.425781 -0.03125 1.25 -0.28125 C 1.070312 -0.53125 0.984375 -0.859375 0.984375 -1.265625 L 0.984375 -5.421875 L 0.140625 -5.421875 L 0.140625 -6.28125 L 0.984375 -6.28125 Z \"/>\n",
       "</symbol>\n",
       "<symbol overflow=\"visible\" id=\"glyph0-21\">\n",
       "<path style=\"stroke:none;\" d=\"M 1.828125 -6.28125 L 1.828125 -2.109375 C 1.828125 -1.785156 1.878906 -1.523438 1.984375 -1.328125 C 2.171875 -0.953125 2.519531 -0.765625 3.03125 -0.765625 C 3.757812 -0.765625 4.257812 -1.09375 4.53125 -1.75 C 4.675781 -2.101562 4.75 -2.582031 4.75 -3.1875 L 4.75 -6.28125 L 5.796875 -6.28125 L 5.796875 0 L 4.8125 0 L 4.8125 -0.921875 C 4.675781 -0.679688 4.507812 -0.484375 4.3125 -0.328125 C 3.90625 0.00390625 3.414062 0.171875 2.84375 0.171875 C 1.945312 0.171875 1.335938 -0.128906 1.015625 -0.734375 C 0.835938 -1.046875 0.75 -1.472656 0.75 -2.015625 L 0.75 -6.28125 Z M 3.28125 -6.421875 Z \"/>\n",
       "</symbol>\n",
       "<symbol overflow=\"visible\" id=\"glyph1-0\">\n",
       "<path style=\"stroke:none;\" d=\"M 0 -0.390625 L -8.609375 -0.390625 L -8.609375 -7.21875 L 0 -7.21875 Z M -1.078125 -6.140625 L -7.53125 -6.140625 L -7.53125 -1.46875 L -1.078125 -1.46875 Z \"/>\n",
       "</symbol>\n",
       "<symbol overflow=\"visible\" id=\"glyph1-1\">\n",
       "<path style=\"stroke:none;\" d=\"M -3.890625 -0.5 L -3.890625 -3.4375 L -2.796875 -3.4375 L -2.796875 -0.5 Z \"/>\n",
       "</symbol>\n",
       "<symbol overflow=\"visible\" id=\"glyph1-2\">\n",
       "<path style=\"stroke:none;\" d=\"M -8.390625 -3.25 C -8.390625 -4.332031 -7.941406 -5.117188 -7.046875 -5.609375 C -6.359375 -5.984375 -5.410156 -6.171875 -4.203125 -6.171875 C -3.066406 -6.171875 -2.125 -6 -1.375 -5.65625 C -0.300781 -5.164062 0.234375 -4.359375 0.234375 -3.234375 C 0.234375 -2.234375 -0.203125 -1.484375 -1.078125 -0.984375 C -1.816406 -0.578125 -2.800781 -0.375 -4.03125 -0.375 C -4.976562 -0.375 -5.796875 -0.5 -6.484375 -0.75 C -7.753906 -1.207031 -8.390625 -2.039062 -8.390625 -3.25 Z M -0.734375 -3.234375 C -0.734375 -3.785156 -0.972656 -4.222656 -1.453125 -4.546875 C -1.941406 -4.867188 -2.847656 -5.03125 -4.171875 -5.03125 C -5.117188 -5.03125 -5.898438 -4.910156 -6.515625 -4.671875 C -7.128906 -4.441406 -7.4375 -3.988281 -7.4375 -3.3125 C -7.4375 -2.6875 -7.144531 -2.226562 -6.5625 -1.9375 C -5.976562 -1.65625 -5.117188 -1.515625 -3.984375 -1.515625 C -3.128906 -1.515625 -2.441406 -1.609375 -1.921875 -1.796875 C -1.128906 -2.078125 -0.734375 -2.554688 -0.734375 -3.234375 Z \"/>\n",
       "</symbol>\n",
       "<symbol overflow=\"visible\" id=\"glyph1-3\">\n",
       "<path style=\"stroke:none;\" d=\"M -1.28125 -1.03125 L -1.28125 -2.25 L 0 -2.25 L 0 -1.03125 Z \"/>\n",
       "</symbol>\n",
       "<symbol overflow=\"visible\" id=\"glyph1-4\">\n",
       "<path style=\"stroke:none;\" d=\"M -2.96875 -3.96875 L -6.78125 -3.96875 L -2.96875 -1.28125 Z M 0 -3.984375 L -2.046875 -3.984375 L -2.046875 -0.3125 L -3.078125 -0.3125 L -8.421875 -4.15625 L -8.421875 -5.046875 L -2.96875 -5.046875 L -2.96875 -6.28125 L -2.046875 -6.28125 L -2.046875 -5.046875 L 0 -5.046875 Z \"/>\n",
       "</symbol>\n",
       "<symbol overflow=\"visible\" id=\"glyph1-5\">\n",
       "<path style=\"stroke:none;\" d=\"M 0.234375 -3.125 C 0.234375 -2.125 -0.0351562 -1.398438 -0.578125 -0.953125 C -1.128906 -0.503906 -1.796875 -0.28125 -2.578125 -0.28125 L -2.578125 -1.390625 C -2.035156 -1.429688 -1.640625 -1.53125 -1.390625 -1.6875 C -0.953125 -1.96875 -0.734375 -2.460938 -0.734375 -3.171875 C -0.734375 -3.734375 -0.878906 -4.179688 -1.171875 -4.515625 C -1.472656 -4.847656 -1.859375 -5.015625 -2.328125 -5.015625 C -2.898438 -5.015625 -3.300781 -4.835938 -3.53125 -4.484375 C -3.769531 -4.128906 -3.890625 -3.640625 -3.890625 -3.015625 C -3.890625 -2.941406 -3.882812 -2.867188 -3.875 -2.796875 C -3.875 -2.722656 -3.875 -2.648438 -3.875 -2.578125 L -4.8125 -2.578125 C -4.789062 -2.691406 -4.78125 -2.785156 -4.78125 -2.859375 C -4.78125 -2.929688 -4.78125 -3.007812 -4.78125 -3.09375 C -4.78125 -3.488281 -4.84375 -3.8125 -4.96875 -4.0625 C -5.1875 -4.507812 -5.578125 -4.734375 -6.140625 -4.734375 C -6.554688 -4.734375 -6.875 -4.582031 -7.09375 -4.28125 C -7.320312 -3.988281 -7.4375 -3.644531 -7.4375 -3.25 C -7.4375 -2.550781 -7.203125 -2.066406 -6.734375 -1.796875 C -6.484375 -1.648438 -6.117188 -1.566406 -5.640625 -1.546875 L -5.640625 -0.5 C -6.265625 -0.5 -6.796875 -0.625 -7.234375 -0.875 C -8.015625 -1.300781 -8.40625 -2.054688 -8.40625 -3.140625 C -8.40625 -3.992188 -8.210938 -4.65625 -7.828125 -5.125 C -7.453125 -5.59375 -6.898438 -5.828125 -6.171875 -5.828125 C -5.660156 -5.828125 -5.242188 -5.691406 -4.921875 -5.421875 C -4.722656 -5.242188 -4.566406 -5.019531 -4.453125 -4.75 C -4.328125 -5.1875 -4.09375 -5.53125 -3.75 -5.78125 C -3.40625 -6.03125 -2.984375 -6.15625 -2.484375 -6.15625 C -1.679688 -6.15625 -1.023438 -5.890625 -0.515625 -5.359375 C -0.015625 -4.835938 0.234375 -4.09375 0.234375 -3.125 Z \"/>\n",
       "</symbol>\n",
       "<symbol overflow=\"visible\" id=\"glyph1-6\">\n",
       "<path style=\"stroke:none;\" d=\"M 0 -0.375 C -0.71875 -0.414062 -1.34375 -0.566406 -1.875 -0.828125 C -2.414062 -1.085938 -2.90625 -1.59375 -3.34375 -2.34375 L -4 -3.46875 C -4.289062 -3.96875 -4.539062 -4.320312 -4.75 -4.53125 C -5.070312 -4.851562 -5.441406 -5.015625 -5.859375 -5.015625 C -6.347656 -5.015625 -6.734375 -4.863281 -7.015625 -4.5625 C -7.304688 -4.269531 -7.453125 -3.882812 -7.453125 -3.40625 C -7.453125 -2.675781 -7.179688 -2.175781 -6.640625 -1.90625 C -6.335938 -1.75 -5.929688 -1.664062 -5.421875 -1.65625 L -5.421875 -0.578125 C -6.148438 -0.585938 -6.742188 -0.722656 -7.203125 -0.984375 C -8.015625 -1.441406 -8.421875 -2.25 -8.421875 -3.40625 C -8.421875 -4.363281 -8.160156 -5.0625 -7.640625 -5.5 C -7.117188 -5.945312 -6.539062 -6.171875 -5.90625 -6.171875 C -5.238281 -6.171875 -4.664062 -5.9375 -4.1875 -5.46875 C -3.90625 -5.195312 -3.566406 -4.707031 -3.171875 -4 L -2.734375 -3.1875 C -2.523438 -2.8125 -2.320312 -2.515625 -2.125 -2.296875 C -1.789062 -1.898438 -1.414062 -1.648438 -1 -1.546875 L -1 -6.140625 L 0 -6.140625 Z \"/>\n",
       "</symbol>\n",
       "<symbol overflow=\"visible\" id=\"glyph1-7\">\n",
       "<path style=\"stroke:none;\" d=\"M -5.9375 -1.15625 L -6.75 -1.15625 C -6.820312 -1.914062 -6.945312 -2.441406 -7.125 -2.734375 C -7.300781 -3.035156 -7.710938 -3.265625 -8.359375 -3.421875 L -8.359375 -4.25 L 0 -4.25 L 0 -3.125 L -5.9375 -3.125 Z \"/>\n",
       "</symbol>\n",
       "<symbol overflow=\"visible\" id=\"glyph1-8\">\n",
       "<path style=\"stroke:none;\" d=\"M -6.28125 -0.796875 L -6.28125 -1.8125 L -5.1875 -1.8125 C -5.40625 -1.882812 -5.664062 -2.082031 -5.96875 -2.40625 C -6.269531 -2.726562 -6.421875 -3.097656 -6.421875 -3.515625 C -6.421875 -3.535156 -6.414062 -3.566406 -6.40625 -3.609375 C -6.40625 -3.660156 -6.398438 -3.742188 -6.390625 -3.859375 L -5.28125 -3.859375 C -5.289062 -3.796875 -5.296875 -3.738281 -5.296875 -3.6875 C -5.296875 -3.632812 -5.296875 -3.578125 -5.296875 -3.515625 C -5.296875 -2.984375 -5.125 -2.570312 -4.78125 -2.28125 C -4.445312 -2 -4.054688 -1.859375 -3.609375 -1.859375 L 0 -1.859375 L 0 -0.796875 Z \"/>\n",
       "</symbol>\n",
       "<symbol overflow=\"visible\" id=\"glyph1-9\">\n",
       "<path style=\"stroke:none;\" d=\"M -6.421875 -3.390625 C -6.421875 -3.835938 -6.316406 -4.269531 -6.109375 -4.6875 C -5.898438 -5.101562 -5.628906 -5.421875 -5.296875 -5.640625 C -4.972656 -5.847656 -4.601562 -5.988281 -4.1875 -6.0625 C -3.894531 -6.125 -3.429688 -6.15625 -2.796875 -6.15625 L -2.796875 -1.546875 C -2.160156 -1.566406 -1.648438 -1.71875 -1.265625 -2 C -0.878906 -2.28125 -0.6875 -2.71875 -0.6875 -3.3125 C -0.6875 -3.863281 -0.867188 -4.300781 -1.234375 -4.625 C -1.441406 -4.8125 -1.6875 -4.945312 -1.96875 -5.03125 L -1.96875 -6.0625 C -1.738281 -6.039062 -1.484375 -5.953125 -1.203125 -5.796875 C -0.921875 -5.640625 -0.6875 -5.46875 -0.5 -5.28125 C -0.1875 -4.957031 0.0195312 -4.554688 0.125 -4.078125 C 0.1875 -3.828125 0.21875 -3.539062 0.21875 -3.21875 C 0.21875 -2.4375 -0.0625 -1.773438 -0.625 -1.234375 C -1.195312 -0.691406 -1.992188 -0.421875 -3.015625 -0.421875 C -4.023438 -0.421875 -4.84375 -0.691406 -5.46875 -1.234375 C -6.101562 -1.785156 -6.421875 -2.503906 -6.421875 -3.390625 Z M -3.640625 -5.0625 C -4.097656 -5.019531 -4.460938 -4.921875 -4.734375 -4.765625 C -5.242188 -4.484375 -5.5 -4.003906 -5.5 -3.328125 C -5.5 -2.835938 -5.320312 -2.425781 -4.96875 -2.09375 C -4.625 -1.769531 -4.179688 -1.597656 -3.640625 -1.578125 Z M -6.421875 -3.28125 Z \"/>\n",
       "</symbol>\n",
       "<symbol overflow=\"visible\" id=\"glyph1-10\">\n",
       "<path style=\"stroke:none;\" d=\"M -1.96875 -1.40625 C -1.613281 -1.4375 -1.34375 -1.523438 -1.15625 -1.671875 C -0.820312 -1.929688 -0.65625 -2.390625 -0.65625 -3.046875 C -0.65625 -3.441406 -0.738281 -3.785156 -0.90625 -4.078125 C -1.070312 -4.378906 -1.332031 -4.53125 -1.6875 -4.53125 C -1.957031 -4.53125 -2.164062 -4.410156 -2.3125 -4.171875 C -2.394531 -4.015625 -2.492188 -3.710938 -2.609375 -3.265625 L -2.8125 -2.421875 C -2.945312 -1.890625 -3.097656 -1.5 -3.265625 -1.25 C -3.546875 -0.789062 -3.941406 -0.5625 -4.453125 -0.5625 C -5.046875 -0.5625 -5.523438 -0.773438 -5.890625 -1.203125 C -6.253906 -1.628906 -6.4375 -2.207031 -6.4375 -2.9375 C -6.4375 -3.875 -6.160156 -4.550781 -5.609375 -4.96875 C -5.253906 -5.238281 -4.875 -5.367188 -4.46875 -5.359375 L -4.46875 -4.359375 C -4.707031 -4.335938 -4.925781 -4.253906 -5.125 -4.109375 C -5.394531 -3.867188 -5.53125 -3.445312 -5.53125 -2.84375 C -5.53125 -2.445312 -5.453125 -2.144531 -5.296875 -1.9375 C -5.148438 -1.738281 -4.953125 -1.640625 -4.703125 -1.640625 C -4.429688 -1.640625 -4.210938 -1.773438 -4.046875 -2.046875 C -3.953125 -2.203125 -3.867188 -2.429688 -3.796875 -2.734375 L -3.625 -3.421875 C -3.4375 -4.179688 -3.257812 -4.691406 -3.09375 -4.953125 C -2.820312 -5.359375 -2.394531 -5.5625 -1.8125 -5.5625 C -1.257812 -5.5625 -0.78125 -5.347656 -0.375 -4.921875 C 0.03125 -4.503906 0.234375 -3.863281 0.234375 -3 C 0.234375 -2.0625 0.0234375 -1.394531 -0.390625 -1 C -0.816406 -0.613281 -1.34375 -0.410156 -1.96875 -0.390625 Z M -6.421875 -2.953125 Z \"/>\n",
       "</symbol>\n",
       "<symbol overflow=\"visible\" id=\"glyph1-11\">\n",
       "<path style=\"stroke:none;\" d=\"M 1.5 0 L 0.90625 0 L 0.90625 -6.671875 L 1.5 -6.671875 Z \"/>\n",
       "</symbol>\n",
       "<symbol overflow=\"visible\" id=\"glyph1-12\">\n",
       "<path style=\"stroke:none;\" d=\"M -4.96875 -4.15625 C -4.96875 -4.644531 -5.035156 -5.023438 -5.171875 -5.296875 C -5.390625 -5.722656 -5.773438 -5.9375 -6.328125 -5.9375 C -6.890625 -5.9375 -7.269531 -5.707031 -7.46875 -5.25 C -7.582031 -5 -7.640625 -4.617188 -7.640625 -4.109375 L -7.640625 -2.03125 L -4.96875 -2.03125 Z M -1 -4.546875 C -1 -5.253906 -1.207031 -5.765625 -1.625 -6.078125 C -1.882812 -6.265625 -2.195312 -6.359375 -2.5625 -6.359375 C -3.1875 -6.359375 -3.613281 -6.078125 -3.84375 -5.515625 C -3.96875 -5.222656 -4.03125 -4.832031 -4.03125 -4.34375 L -4.03125 -2.03125 L -1 -2.03125 Z M -8.609375 -0.890625 L -8.609375 -4.578125 C -8.609375 -5.585938 -8.304688 -6.304688 -7.703125 -6.734375 C -7.347656 -6.984375 -6.9375 -7.109375 -6.46875 -7.109375 C -5.925781 -7.109375 -5.484375 -6.953125 -5.140625 -6.640625 C -4.953125 -6.484375 -4.785156 -6.253906 -4.640625 -5.953125 C -4.472656 -6.390625 -4.28125 -6.71875 -4.0625 -6.9375 C -3.6875 -7.332031 -3.171875 -7.53125 -2.515625 -7.53125 C -1.960938 -7.53125 -1.460938 -7.351562 -1.015625 -7 C -0.335938 -6.476562 0 -5.65625 0 -4.53125 L 0 -0.890625 Z \"/>\n",
       "</symbol>\n",
       "<symbol overflow=\"visible\" id=\"glyph1-13\">\n",
       "<path style=\"stroke:none;\" d=\"M -8.609375 -1.03125 L -8.609375 -4.90625 C -8.609375 -5.664062 -8.390625 -6.28125 -7.953125 -6.75 C -7.523438 -7.21875 -6.921875 -7.453125 -6.140625 -7.453125 C -5.472656 -7.453125 -4.890625 -7.242188 -4.390625 -6.828125 C -3.890625 -6.410156 -3.640625 -5.769531 -3.640625 -4.90625 L -3.640625 -2.1875 L 0 -2.1875 L 0 -1.03125 Z M -6.140625 -6.28125 C -6.765625 -6.28125 -7.191406 -6.046875 -7.421875 -5.578125 C -7.546875 -5.316406 -7.609375 -4.960938 -7.609375 -4.515625 L -7.609375 -2.1875 L -4.625 -2.1875 L -4.625 -4.515625 C -4.625 -5.035156 -4.734375 -5.457031 -4.953125 -5.78125 C -5.179688 -6.113281 -5.578125 -6.28125 -6.140625 -6.28125 Z \"/>\n",
       "</symbol>\n",
       "<symbol overflow=\"visible\" id=\"glyph1-14\">\n",
       "<path style=\"stroke:none;\" d=\"M -8.671875 -0.75 L -8.671875 -3 L -7.8125 -3 L -7.8125 -1.75 L 1.5 -1.75 L 1.5 -3 L 2.359375 -3 L 2.359375 -0.75 Z \"/>\n",
       "</symbol>\n",
       "<symbol overflow=\"visible\" id=\"glyph1-15\">\n",
       "<path style=\"stroke:none;\" d=\"M 1.5 -0.28125 L 1.5 -1.53125 L -7.8125 -1.53125 L -7.8125 -0.28125 L -8.671875 -0.28125 L -8.671875 -2.53125 L 2.359375 -2.53125 L 2.359375 -0.28125 Z \"/>\n",
       "</symbol>\n",
       "<symbol overflow=\"visible\" id=\"glyph1-16\">\n",
       "<path style=\"stroke:none;\" d=\"M -0.609375 -3.578125 C -0.640625 -4.242188 -0.882812 -4.707031 -1.34375 -4.96875 C -1.570312 -5.09375 -1.84375 -5.15625 -2.15625 -5.15625 C -2.644531 -5.15625 -3.015625 -4.976562 -3.265625 -4.625 C -3.421875 -4.414062 -3.5625 -4.066406 -3.6875 -3.578125 Z M -6.265625 -1.59375 C -5.878906 -1.59375 -5.578125 -1.71875 -5.359375 -1.96875 C -5.140625 -2.226562 -4.988281 -2.578125 -4.90625 -3.015625 L -7.65625 -3.015625 C -7.632812 -2.503906 -7.476562 -2.140625 -7.1875 -1.921875 C -6.894531 -1.703125 -6.585938 -1.59375 -6.265625 -1.59375 Z M -6.1875 -0.546875 C -6.78125 -0.546875 -7.316406 -0.757812 -7.796875 -1.1875 C -8.273438 -1.625 -8.519531 -2.238281 -8.53125 -3.03125 L -9.3125 -3.03125 L -9.3125 -3.578125 L -8.53125 -3.578125 C -8.476562 -4.359375 -8.25 -4.957031 -7.84375 -5.375 C -7.445312 -5.789062 -6.914062 -6.007812 -6.25 -6.03125 L -6.25 -5 C -6.539062 -4.96875 -6.796875 -4.890625 -7.015625 -4.765625 C -7.410156 -4.515625 -7.617188 -4.117188 -7.640625 -3.578125 L -4.78125 -3.578125 C -4.53125 -4.484375 -4.296875 -5.097656 -4.078125 -5.421875 C -3.703125 -5.953125 -3.15625 -6.21875 -2.4375 -6.21875 C -1.40625 -6.21875 -0.671875 -5.878906 -0.234375 -5.203125 C 0.015625 -4.828125 0.175781 -4.285156 0.25 -3.578125 L 1.390625 -3.578125 L 1.390625 -3.03125 L 0.25 -3.03125 C 0.175781 -1.882812 -0.222656 -1.109375 -0.953125 -0.703125 C -1.347656 -0.484375 -1.882812 -0.375 -2.5625 -0.375 L -2.5625 -1.40625 C -2.019531 -1.4375 -1.628906 -1.523438 -1.390625 -1.671875 C -0.941406 -1.910156 -0.691406 -2.359375 -0.640625 -3.015625 L -3.828125 -3.015625 C -3.992188 -2.171875 -4.265625 -1.546875 -4.640625 -1.140625 C -5.015625 -0.742188 -5.53125 -0.546875 -6.1875 -0.546875 Z \"/>\n",
       "</symbol>\n",
       "<symbol overflow=\"visible\" id=\"glyph1-17\">\n",
       "<path style=\"stroke:none;\" d=\"M -0.703125 -3.421875 C -0.703125 -3.910156 -0.910156 -4.316406 -1.328125 -4.640625 C -1.742188 -4.972656 -2.359375 -5.140625 -3.171875 -5.140625 C -3.671875 -5.140625 -4.101562 -5.066406 -4.46875 -4.921875 C -5.15625 -4.648438 -5.5 -4.148438 -5.5 -3.421875 C -5.5 -2.691406 -5.132812 -2.191406 -4.40625 -1.921875 C -4.019531 -1.773438 -3.523438 -1.703125 -2.921875 -1.703125 C -2.429688 -1.703125 -2.019531 -1.773438 -1.6875 -1.921875 C -1.03125 -2.191406 -0.703125 -2.691406 -0.703125 -3.421875 Z M -6.25 -0.6875 L -6.25 -1.71875 L -5.421875 -1.71875 C -5.703125 -1.925781 -5.921875 -2.15625 -6.078125 -2.40625 C -6.304688 -2.757812 -6.421875 -3.175781 -6.421875 -3.65625 C -6.421875 -4.375 -6.148438 -4.976562 -5.609375 -5.46875 C -5.066406 -5.96875 -4.289062 -6.21875 -3.28125 -6.21875 C -1.90625 -6.21875 -0.925781 -5.859375 -0.34375 -5.140625 C 0.03125 -4.691406 0.21875 -4.164062 0.21875 -3.5625 C 0.21875 -3.09375 0.113281 -2.695312 -0.09375 -2.375 C -0.21875 -2.1875 -0.421875 -1.976562 -0.703125 -1.75 L 2.5 -1.75 L 2.5 -0.6875 Z \"/>\n",
       "</symbol>\n",
       "<symbol overflow=\"visible\" id=\"glyph1-18\">\n",
       "<path style=\"stroke:none;\" d=\"M -8.609375 -0.9375 L -8.609375 -2.125 L -5.046875 -2.125 L -5.046875 -6.59375 L -8.609375 -6.59375 L -8.609375 -7.78125 L 0 -7.78125 L 0 -6.59375 L -4.03125 -6.59375 L -4.03125 -2.125 L 0 -2.125 L 0 -0.9375 Z \"/>\n",
       "</symbol>\n",
       "<symbol overflow=\"visible\" id=\"glyph1-19\">\n",
       "<path style=\"stroke:none;\" d=\"M -8.609375 -1.59375 L -1.28125 -4.0625 L -8.609375 -6.515625 L -8.609375 -7.8125 L 0 -4.671875 L 0 -3.4375 L -8.609375 -0.3125 Z \"/>\n",
       "</symbol>\n",
       "<symbol overflow=\"visible\" id=\"glyph1-20\">\n",
       "<path style=\"stroke:none;\" d=\"M -3.53125 -5.328125 L -7.328125 -4.03125 L -3.53125 -2.640625 Z M -8.609375 -3.421875 L -8.609375 -4.734375 L 0 -7.859375 L 0 -6.578125 L -2.578125 -5.703125 L -2.578125 -2.296875 L 0 -1.375 L 0 -0.171875 Z M -8.609375 -4.015625 Z \"/>\n",
       "</symbol>\n",
       "<symbol overflow=\"visible\" id=\"glyph1-21\">\n",
       "<path style=\"stroke:none;\" d=\"M -8.84375 -4.546875 C -8.84375 -5.628906 -8.554688 -6.472656 -7.984375 -7.078125 C -7.410156 -7.679688 -6.757812 -8.015625 -6.03125 -8.078125 L -6.03125 -6.9375 C -6.582031 -6.8125 -7.019531 -6.554688 -7.34375 -6.171875 C -7.664062 -5.785156 -7.828125 -5.242188 -7.828125 -4.546875 C -7.828125 -3.703125 -7.53125 -3.019531 -6.9375 -2.5 C -6.34375 -1.976562 -5.429688 -1.71875 -4.203125 -1.71875 C -3.191406 -1.71875 -2.367188 -1.953125 -1.734375 -2.421875 C -1.109375 -2.890625 -0.796875 -3.59375 -0.796875 -4.53125 C -0.796875 -5.382812 -1.128906 -6.039062 -1.796875 -6.5 C -2.140625 -6.726562 -2.597656 -6.90625 -3.171875 -7.03125 L -3.171875 -8.15625 C -2.265625 -8.0625 -1.503906 -7.726562 -0.890625 -7.15625 C -0.148438 -6.46875 0.21875 -5.546875 0.21875 -4.390625 C 0.21875 -3.390625 -0.0820312 -2.550781 -0.6875 -1.875 C -1.488281 -0.976562 -2.722656 -0.53125 -4.390625 -0.53125 C -5.660156 -0.53125 -6.703125 -0.863281 -7.515625 -1.53125 C -8.398438 -2.257812 -8.84375 -3.265625 -8.84375 -4.546875 Z M -8.84375 -4.3125 Z \"/>\n",
       "</symbol>\n",
       "</g>\n",
       "</defs>\n",
       "<g id=\"surface362\">\n",
       "<rect x=\"0\" y=\"0\" width=\"504\" height=\"504\" style=\"fill:rgb(100%,100%,100%);fill-opacity:1;stroke:none;\"/>\n",
       "<path style=\"fill:none;stroke-width:0.75;stroke-linecap:round;stroke-linejoin:round;stroke:rgb(0%,0%,0%);stroke-opacity:1;stroke-miterlimit:10;\" d=\"M 77.101562 416.800781 C 77.101562 420.398438 71.699219 420.398438 71.699219 416.800781 C 71.699219 413.199219 77.101562 413.199219 77.101562 416.800781 \"/>\n",
       "<path style=\"fill:none;stroke-width:0.75;stroke-linecap:round;stroke-linejoin:round;stroke:rgb(0%,0%,0%);stroke-opacity:1;stroke-miterlimit:10;\" d=\"M 80.328125 416.800781 C 80.328125 420.398438 74.925781 420.398438 74.925781 416.800781 C 74.925781 413.199219 80.328125 413.199219 80.328125 416.800781 \"/>\n",
       "<path style=\"fill:none;stroke-width:0.75;stroke-linecap:round;stroke-linejoin:round;stroke:rgb(0%,0%,0%);stroke-opacity:1;stroke-miterlimit:10;\" d=\"M 83.554688 416.800781 C 83.554688 420.398438 78.152344 420.398438 78.152344 416.800781 C 78.152344 413.199219 83.554688 413.199219 83.554688 416.800781 \"/>\n",
       "<path style=\"fill:none;stroke-width:0.75;stroke-linecap:round;stroke-linejoin:round;stroke:rgb(0%,0%,0%);stroke-opacity:1;stroke-miterlimit:10;\" d=\"M 86.78125 416.800781 C 86.78125 420.398438 81.378906 420.398438 81.378906 416.800781 C 81.378906 413.199219 86.78125 413.199219 86.78125 416.800781 \"/>\n",
       "<path style=\"fill:none;stroke-width:0.75;stroke-linecap:round;stroke-linejoin:round;stroke:rgb(0%,0%,0%);stroke-opacity:1;stroke-miterlimit:10;\" d=\"M 90.007812 416.800781 C 90.007812 420.398438 84.609375 420.398438 84.609375 416.800781 C 84.609375 413.199219 90.007812 413.199219 90.007812 416.800781 \"/>\n",
       "<path style=\"fill:none;stroke-width:0.75;stroke-linecap:round;stroke-linejoin:round;stroke:rgb(0%,0%,0%);stroke-opacity:1;stroke-miterlimit:10;\" d=\"M 93.234375 416.800781 C 93.234375 420.398438 87.835938 420.398438 87.835938 416.800781 C 87.835938 413.199219 93.234375 413.199219 93.234375 416.800781 \"/>\n",
       "<path style=\"fill:none;stroke-width:0.75;stroke-linecap:round;stroke-linejoin:round;stroke:rgb(0%,0%,0%);stroke-opacity:1;stroke-miterlimit:10;\" d=\"M 96.460938 416.800781 C 96.460938 420.398438 91.0625 420.398438 91.0625 416.800781 C 91.0625 413.199219 96.460938 413.199219 96.460938 416.800781 \"/>\n",
       "<path style=\"fill:none;stroke-width:0.75;stroke-linecap:round;stroke-linejoin:round;stroke:rgb(0%,0%,0%);stroke-opacity:1;stroke-miterlimit:10;\" d=\"M 99.6875 416.800781 C 99.6875 420.398438 94.289062 420.398438 94.289062 416.800781 C 94.289062 413.199219 99.6875 413.199219 99.6875 416.800781 \"/>\n",
       "<path style=\"fill:none;stroke-width:0.75;stroke-linecap:round;stroke-linejoin:round;stroke:rgb(0%,0%,0%);stroke-opacity:1;stroke-miterlimit:10;\" d=\"M 102.914062 416.800781 C 102.914062 420.398438 97.515625 420.398438 97.515625 416.800781 C 97.515625 413.199219 102.914062 413.199219 102.914062 416.800781 \"/>\n",
       "<path style=\"fill:none;stroke-width:0.75;stroke-linecap:round;stroke-linejoin:round;stroke:rgb(0%,0%,0%);stroke-opacity:1;stroke-miterlimit:10;\" d=\"M 106.140625 416.800781 C 106.140625 420.398438 100.742188 420.398438 100.742188 416.800781 C 100.742188 413.199219 106.140625 413.199219 106.140625 416.800781 \"/>\n",
       "<path style=\"fill:none;stroke-width:0.75;stroke-linecap:round;stroke-linejoin:round;stroke:rgb(0%,0%,0%);stroke-opacity:1;stroke-miterlimit:10;\" d=\"M 109.367188 416.800781 C 109.367188 420.398438 103.96875 420.398438 103.96875 416.800781 C 103.96875 413.199219 109.367188 413.199219 109.367188 416.800781 \"/>\n",
       "<path style=\"fill:none;stroke-width:0.75;stroke-linecap:round;stroke-linejoin:round;stroke:rgb(0%,0%,0%);stroke-opacity:1;stroke-miterlimit:10;\" d=\"M 112.597656 416.800781 C 112.597656 420.398438 107.195312 420.398438 107.195312 416.800781 C 107.195312 413.199219 112.597656 413.199219 112.597656 416.800781 \"/>\n",
       "<path style=\"fill:none;stroke-width:0.75;stroke-linecap:round;stroke-linejoin:round;stroke:rgb(0%,0%,0%);stroke-opacity:1;stroke-miterlimit:10;\" d=\"M 115.824219 416.800781 C 115.824219 420.398438 110.421875 420.398438 110.421875 416.800781 C 110.421875 413.199219 115.824219 413.199219 115.824219 416.800781 \"/>\n",
       "<path style=\"fill:none;stroke-width:0.75;stroke-linecap:round;stroke-linejoin:round;stroke:rgb(0%,0%,0%);stroke-opacity:1;stroke-miterlimit:10;\" d=\"M 119.050781 416.800781 C 119.050781 420.398438 113.648438 420.398438 113.648438 416.800781 C 113.648438 413.199219 119.050781 413.199219 119.050781 416.800781 \"/>\n",
       "<path style=\"fill:none;stroke-width:0.75;stroke-linecap:round;stroke-linejoin:round;stroke:rgb(0%,0%,0%);stroke-opacity:1;stroke-miterlimit:10;\" d=\"M 122.277344 416.800781 C 122.277344 420.398438 116.875 420.398438 116.875 416.800781 C 116.875 413.199219 122.277344 413.199219 122.277344 416.800781 \"/>\n",
       "<path style=\"fill:none;stroke-width:0.75;stroke-linecap:round;stroke-linejoin:round;stroke:rgb(0%,0%,0%);stroke-opacity:1;stroke-miterlimit:10;\" d=\"M 125.503906 416.800781 C 125.503906 420.398438 120.101562 420.398438 120.101562 416.800781 C 120.101562 413.199219 125.503906 413.199219 125.503906 416.800781 \"/>\n",
       "<path style=\"fill:none;stroke-width:0.75;stroke-linecap:round;stroke-linejoin:round;stroke:rgb(0%,0%,0%);stroke-opacity:1;stroke-miterlimit:10;\" d=\"M 128.730469 416.800781 C 128.730469 420.398438 123.332031 420.398438 123.332031 416.800781 C 123.332031 413.199219 128.730469 413.199219 128.730469 416.800781 \"/>\n",
       "<path style=\"fill:none;stroke-width:0.75;stroke-linecap:round;stroke-linejoin:round;stroke:rgb(0%,0%,0%);stroke-opacity:1;stroke-miterlimit:10;\" d=\"M 131.957031 416.800781 C 131.957031 420.398438 126.558594 420.398438 126.558594 416.800781 C 126.558594 413.199219 131.957031 413.199219 131.957031 416.800781 \"/>\n",
       "<path style=\"fill:none;stroke-width:0.75;stroke-linecap:round;stroke-linejoin:round;stroke:rgb(0%,0%,0%);stroke-opacity:1;stroke-miterlimit:10;\" d=\"M 135.183594 416.800781 C 135.183594 420.398438 129.785156 420.398438 129.785156 416.800781 C 129.785156 413.199219 135.183594 413.199219 135.183594 416.800781 \"/>\n",
       "<path style=\"fill:none;stroke-width:0.75;stroke-linecap:round;stroke-linejoin:round;stroke:rgb(0%,0%,0%);stroke-opacity:1;stroke-miterlimit:10;\" d=\"M 138.410156 416.800781 C 138.410156 420.398438 133.011719 420.398438 133.011719 416.800781 C 133.011719 413.199219 138.410156 413.199219 138.410156 416.800781 \"/>\n",
       "<path style=\"fill:none;stroke-width:0.75;stroke-linecap:round;stroke-linejoin:round;stroke:rgb(0%,0%,0%);stroke-opacity:1;stroke-miterlimit:10;\" d=\"M 141.636719 416.800781 C 141.636719 420.398438 136.238281 420.398438 136.238281 416.800781 C 136.238281 413.199219 141.636719 413.199219 141.636719 416.800781 \"/>\n",
       "<path style=\"fill:none;stroke-width:0.75;stroke-linecap:round;stroke-linejoin:round;stroke:rgb(0%,0%,0%);stroke-opacity:1;stroke-miterlimit:10;\" d=\"M 144.863281 416.800781 C 144.863281 420.398438 139.464844 420.398438 139.464844 416.800781 C 139.464844 413.199219 144.863281 413.199219 144.863281 416.800781 \"/>\n",
       "<path style=\"fill:none;stroke-width:0.75;stroke-linecap:round;stroke-linejoin:round;stroke:rgb(0%,0%,0%);stroke-opacity:1;stroke-miterlimit:10;\" d=\"M 148.089844 416.800781 C 148.089844 420.398438 142.691406 420.398438 142.691406 416.800781 C 142.691406 413.199219 148.089844 413.199219 148.089844 416.800781 \"/>\n",
       "<path style=\"fill:none;stroke-width:0.75;stroke-linecap:round;stroke-linejoin:round;stroke:rgb(0%,0%,0%);stroke-opacity:1;stroke-miterlimit:10;\" d=\"M 151.320312 416.800781 C 151.320312 420.398438 145.917969 420.398438 145.917969 416.800781 C 145.917969 413.199219 151.320312 413.199219 151.320312 416.800781 \"/>\n",
       "<path style=\"fill:none;stroke-width:0.75;stroke-linecap:round;stroke-linejoin:round;stroke:rgb(0%,0%,0%);stroke-opacity:1;stroke-miterlimit:10;\" d=\"M 154.546875 416.800781 C 154.546875 420.398438 149.144531 420.398438 149.144531 416.800781 C 149.144531 413.199219 154.546875 413.199219 154.546875 416.800781 \"/>\n",
       "<path style=\"fill:none;stroke-width:0.75;stroke-linecap:round;stroke-linejoin:round;stroke:rgb(0%,0%,0%);stroke-opacity:1;stroke-miterlimit:10;\" d=\"M 157.773438 416.800781 C 157.773438 420.398438 152.371094 420.398438 152.371094 416.800781 C 152.371094 413.199219 157.773438 413.199219 157.773438 416.800781 \"/>\n",
       "<path style=\"fill:none;stroke-width:0.75;stroke-linecap:round;stroke-linejoin:round;stroke:rgb(0%,0%,0%);stroke-opacity:1;stroke-miterlimit:10;\" d=\"M 161 72.800781 C 161 76.398438 155.597656 76.398438 155.597656 72.800781 C 155.597656 69.199219 161 69.199219 161 72.800781 \"/>\n",
       "<path style=\"fill:none;stroke-width:0.75;stroke-linecap:round;stroke-linejoin:round;stroke:rgb(0%,0%,0%);stroke-opacity:1;stroke-miterlimit:10;\" d=\"M 164.226562 72.800781 C 164.226562 76.398438 158.824219 76.398438 158.824219 72.800781 C 158.824219 69.199219 164.226562 69.199219 164.226562 72.800781 \"/>\n",
       "<path style=\"fill:none;stroke-width:0.75;stroke-linecap:round;stroke-linejoin:round;stroke:rgb(0%,0%,0%);stroke-opacity:1;stroke-miterlimit:10;\" d=\"M 167.453125 72.800781 C 167.453125 76.398438 162.054688 76.398438 162.054688 72.800781 C 162.054688 69.199219 167.453125 69.199219 167.453125 72.800781 \"/>\n",
       "<path style=\"fill:none;stroke-width:0.75;stroke-linecap:round;stroke-linejoin:round;stroke:rgb(0%,0%,0%);stroke-opacity:1;stroke-miterlimit:10;\" d=\"M 170.679688 72.800781 C 170.679688 76.398438 165.28125 76.398438 165.28125 72.800781 C 165.28125 69.199219 170.679688 69.199219 170.679688 72.800781 \"/>\n",
       "<path style=\"fill:none;stroke-width:0.75;stroke-linecap:round;stroke-linejoin:round;stroke:rgb(0%,0%,0%);stroke-opacity:1;stroke-miterlimit:10;\" d=\"M 173.90625 72.800781 C 173.90625 76.398438 168.507812 76.398438 168.507812 72.800781 C 168.507812 69.199219 173.90625 69.199219 173.90625 72.800781 \"/>\n",
       "<path style=\"fill:none;stroke-width:0.75;stroke-linecap:round;stroke-linejoin:round;stroke:rgb(0%,0%,0%);stroke-opacity:1;stroke-miterlimit:10;\" d=\"M 177.132812 72.800781 C 177.132812 76.398438 171.734375 76.398438 171.734375 72.800781 C 171.734375 69.199219 177.132812 69.199219 177.132812 72.800781 \"/>\n",
       "<path style=\"fill:none;stroke-width:0.75;stroke-linecap:round;stroke-linejoin:round;stroke:rgb(0%,0%,0%);stroke-opacity:1;stroke-miterlimit:10;\" d=\"M 180.359375 72.800781 C 180.359375 76.398438 174.960938 76.398438 174.960938 72.800781 C 174.960938 69.199219 180.359375 69.199219 180.359375 72.800781 \"/>\n",
       "<path style=\"fill:none;stroke-width:0.75;stroke-linecap:round;stroke-linejoin:round;stroke:rgb(0%,0%,0%);stroke-opacity:1;stroke-miterlimit:10;\" d=\"M 183.585938 72.800781 C 183.585938 76.398438 178.1875 76.398438 178.1875 72.800781 C 178.1875 69.199219 183.585938 69.199219 183.585938 72.800781 \"/>\n",
       "<path style=\"fill:none;stroke-width:0.75;stroke-linecap:round;stroke-linejoin:round;stroke:rgb(0%,0%,0%);stroke-opacity:1;stroke-miterlimit:10;\" d=\"M 186.8125 72.800781 C 186.8125 76.398438 181.414062 76.398438 181.414062 72.800781 C 181.414062 69.199219 186.8125 69.199219 186.8125 72.800781 \"/>\n",
       "<path style=\"fill:none;stroke-width:0.75;stroke-linecap:round;stroke-linejoin:round;stroke:rgb(0%,0%,0%);stroke-opacity:1;stroke-miterlimit:10;\" d=\"M 190.042969 72.800781 C 190.042969 76.398438 184.640625 76.398438 184.640625 72.800781 C 184.640625 69.199219 190.042969 69.199219 190.042969 72.800781 \"/>\n",
       "<path style=\"fill:none;stroke-width:0.75;stroke-linecap:round;stroke-linejoin:round;stroke:rgb(0%,0%,0%);stroke-opacity:1;stroke-miterlimit:10;\" d=\"M 193.269531 72.800781 C 193.269531 76.398438 187.867188 76.398438 187.867188 72.800781 C 187.867188 69.199219 193.269531 69.199219 193.269531 72.800781 \"/>\n",
       "<path style=\"fill:none;stroke-width:0.75;stroke-linecap:round;stroke-linejoin:round;stroke:rgb(0%,0%,0%);stroke-opacity:1;stroke-miterlimit:10;\" d=\"M 196.496094 72.800781 C 196.496094 76.398438 191.09375 76.398438 191.09375 72.800781 C 191.09375 69.199219 196.496094 69.199219 196.496094 72.800781 \"/>\n",
       "<path style=\"fill:none;stroke-width:0.75;stroke-linecap:round;stroke-linejoin:round;stroke:rgb(0%,0%,0%);stroke-opacity:1;stroke-miterlimit:10;\" d=\"M 199.722656 72.800781 C 199.722656 76.398438 194.320312 76.398438 194.320312 72.800781 C 194.320312 69.199219 199.722656 69.199219 199.722656 72.800781 \"/>\n",
       "<path style=\"fill:none;stroke-width:0.75;stroke-linecap:round;stroke-linejoin:round;stroke:rgb(0%,0%,0%);stroke-opacity:1;stroke-miterlimit:10;\" d=\"M 202.949219 72.800781 C 202.949219 76.398438 197.546875 76.398438 197.546875 72.800781 C 197.546875 69.199219 202.949219 69.199219 202.949219 72.800781 \"/>\n",
       "<path style=\"fill:none;stroke-width:0.75;stroke-linecap:round;stroke-linejoin:round;stroke:rgb(0%,0%,0%);stroke-opacity:1;stroke-miterlimit:10;\" d=\"M 206.175781 72.800781 C 206.175781 76.398438 200.777344 76.398438 200.777344 72.800781 C 200.777344 69.199219 206.175781 69.199219 206.175781 72.800781 \"/>\n",
       "<path style=\"fill:none;stroke-width:0.75;stroke-linecap:round;stroke-linejoin:round;stroke:rgb(0%,0%,0%);stroke-opacity:1;stroke-miterlimit:10;\" d=\"M 209.402344 72.800781 C 209.402344 76.398438 204.003906 76.398438 204.003906 72.800781 C 204.003906 69.199219 209.402344 69.199219 209.402344 72.800781 \"/>\n",
       "<path style=\"fill:none;stroke-width:0.75;stroke-linecap:round;stroke-linejoin:round;stroke:rgb(0%,0%,0%);stroke-opacity:1;stroke-miterlimit:10;\" d=\"M 212.628906 72.800781 C 212.628906 76.398438 207.230469 76.398438 207.230469 72.800781 C 207.230469 69.199219 212.628906 69.199219 212.628906 72.800781 \"/>\n",
       "<path style=\"fill:none;stroke-width:0.75;stroke-linecap:round;stroke-linejoin:round;stroke:rgb(0%,0%,0%);stroke-opacity:1;stroke-miterlimit:10;\" d=\"M 215.855469 72.800781 C 215.855469 76.398438 210.457031 76.398438 210.457031 72.800781 C 210.457031 69.199219 215.855469 69.199219 215.855469 72.800781 \"/>\n",
       "<path style=\"fill:none;stroke-width:0.75;stroke-linecap:round;stroke-linejoin:round;stroke:rgb(0%,0%,0%);stroke-opacity:1;stroke-miterlimit:10;\" d=\"M 219.082031 72.800781 C 219.082031 76.398438 213.683594 76.398438 213.683594 72.800781 C 213.683594 69.199219 219.082031 69.199219 219.082031 72.800781 \"/>\n",
       "<path style=\"fill:none;stroke-width:0.75;stroke-linecap:round;stroke-linejoin:round;stroke:rgb(0%,0%,0%);stroke-opacity:1;stroke-miterlimit:10;\" d=\"M 222.308594 72.800781 C 222.308594 76.398438 216.910156 76.398438 216.910156 72.800781 C 216.910156 69.199219 222.308594 69.199219 222.308594 72.800781 \"/>\n",
       "<path style=\"fill:none;stroke-width:0.75;stroke-linecap:round;stroke-linejoin:round;stroke:rgb(0%,0%,0%);stroke-opacity:1;stroke-miterlimit:10;\" d=\"M 225.535156 72.800781 C 225.535156 76.398438 220.136719 76.398438 220.136719 72.800781 C 220.136719 69.199219 225.535156 69.199219 225.535156 72.800781 \"/>\n",
       "<path style=\"fill:none;stroke-width:0.75;stroke-linecap:round;stroke-linejoin:round;stroke:rgb(0%,0%,0%);stroke-opacity:1;stroke-miterlimit:10;\" d=\"M 228.765625 72.800781 C 228.765625 76.398438 223.363281 76.398438 223.363281 72.800781 C 223.363281 69.199219 228.765625 69.199219 228.765625 72.800781 \"/>\n",
       "<path style=\"fill:none;stroke-width:0.75;stroke-linecap:round;stroke-linejoin:round;stroke:rgb(0%,0%,0%);stroke-opacity:1;stroke-miterlimit:10;\" d=\"M 231.992188 72.800781 C 231.992188 76.398438 226.589844 76.398438 226.589844 72.800781 C 226.589844 69.199219 231.992188 69.199219 231.992188 72.800781 \"/>\n",
       "<path style=\"fill:none;stroke-width:0.75;stroke-linecap:round;stroke-linejoin:round;stroke:rgb(0%,0%,0%);stroke-opacity:1;stroke-miterlimit:10;\" d=\"M 235.21875 72.800781 C 235.21875 76.398438 229.816406 76.398438 229.816406 72.800781 C 229.816406 69.199219 235.21875 69.199219 235.21875 72.800781 \"/>\n",
       "<path style=\"fill:none;stroke-width:0.75;stroke-linecap:round;stroke-linejoin:round;stroke:rgb(0%,0%,0%);stroke-opacity:1;stroke-miterlimit:10;\" d=\"M 238.445312 72.800781 C 238.445312 76.398438 233.042969 76.398438 233.042969 72.800781 C 233.042969 69.199219 238.445312 69.199219 238.445312 72.800781 \"/>\n",
       "<path style=\"fill:none;stroke-width:0.75;stroke-linecap:round;stroke-linejoin:round;stroke:rgb(0%,0%,0%);stroke-opacity:1;stroke-miterlimit:10;\" d=\"M 241.671875 72.800781 C 241.671875 76.398438 236.269531 76.398438 236.269531 72.800781 C 236.269531 69.199219 241.671875 69.199219 241.671875 72.800781 \"/>\n",
       "<path style=\"fill:none;stroke-width:0.75;stroke-linecap:round;stroke-linejoin:round;stroke:rgb(0%,0%,0%);stroke-opacity:1;stroke-miterlimit:10;\" d=\"M 244.898438 72.800781 C 244.898438 76.398438 239.5 76.398438 239.5 72.800781 C 239.5 69.199219 244.898438 69.199219 244.898438 72.800781 \"/>\n",
       "<path style=\"fill:none;stroke-width:0.75;stroke-linecap:round;stroke-linejoin:round;stroke:rgb(0%,0%,0%);stroke-opacity:1;stroke-miterlimit:10;\" d=\"M 248.125 72.800781 C 248.125 76.398438 242.726562 76.398438 242.726562 72.800781 C 242.726562 69.199219 248.125 69.199219 248.125 72.800781 \"/>\n",
       "<path style=\"fill:none;stroke-width:0.75;stroke-linecap:round;stroke-linejoin:round;stroke:rgb(0%,0%,0%);stroke-opacity:1;stroke-miterlimit:10;\" d=\"M 251.351562 72.800781 C 251.351562 76.398438 245.953125 76.398438 245.953125 72.800781 C 245.953125 69.199219 251.351562 69.199219 251.351562 72.800781 \"/>\n",
       "<path style=\"fill:none;stroke-width:0.75;stroke-linecap:round;stroke-linejoin:round;stroke:rgb(0%,0%,0%);stroke-opacity:1;stroke-miterlimit:10;\" d=\"M 254.578125 72.800781 C 254.578125 76.398438 249.179688 76.398438 249.179688 72.800781 C 249.179688 69.199219 254.578125 69.199219 254.578125 72.800781 \"/>\n",
       "<path style=\"fill:none;stroke-width:0.75;stroke-linecap:round;stroke-linejoin:round;stroke:rgb(0%,0%,0%);stroke-opacity:1;stroke-miterlimit:10;\" d=\"M 257.804688 72.800781 C 257.804688 76.398438 252.40625 76.398438 252.40625 72.800781 C 252.40625 69.199219 257.804688 69.199219 257.804688 72.800781 \"/>\n",
       "<path style=\"fill:none;stroke-width:0.75;stroke-linecap:round;stroke-linejoin:round;stroke:rgb(0%,0%,0%);stroke-opacity:1;stroke-miterlimit:10;\" d=\"M 261.03125 72.800781 C 261.03125 76.398438 255.632812 76.398438 255.632812 72.800781 C 255.632812 69.199219 261.03125 69.199219 261.03125 72.800781 \"/>\n",
       "<path style=\"fill:none;stroke-width:0.75;stroke-linecap:round;stroke-linejoin:round;stroke:rgb(0%,0%,0%);stroke-opacity:1;stroke-miterlimit:10;\" d=\"M 264.257812 72.800781 C 264.257812 76.398438 258.859375 76.398438 258.859375 72.800781 C 258.859375 69.199219 264.257812 69.199219 264.257812 72.800781 \"/>\n",
       "<path style=\"fill:none;stroke-width:0.75;stroke-linecap:round;stroke-linejoin:round;stroke:rgb(0%,0%,0%);stroke-opacity:1;stroke-miterlimit:10;\" d=\"M 267.488281 72.800781 C 267.488281 76.398438 262.085938 76.398438 262.085938 72.800781 C 262.085938 69.199219 267.488281 69.199219 267.488281 72.800781 \"/>\n",
       "<path style=\"fill:none;stroke-width:0.75;stroke-linecap:round;stroke-linejoin:round;stroke:rgb(0%,0%,0%);stroke-opacity:1;stroke-miterlimit:10;\" d=\"M 270.714844 72.800781 C 270.714844 76.398438 265.3125 76.398438 265.3125 72.800781 C 265.3125 69.199219 270.714844 69.199219 270.714844 72.800781 \"/>\n",
       "<path style=\"fill:none;stroke-width:0.75;stroke-linecap:round;stroke-linejoin:round;stroke:rgb(0%,0%,0%);stroke-opacity:1;stroke-miterlimit:10;\" d=\"M 273.941406 72.800781 C 273.941406 76.398438 268.539062 76.398438 268.539062 72.800781 C 268.539062 69.199219 273.941406 69.199219 273.941406 72.800781 \"/>\n",
       "<path style=\"fill:none;stroke-width:0.75;stroke-linecap:round;stroke-linejoin:round;stroke:rgb(0%,0%,0%);stroke-opacity:1;stroke-miterlimit:10;\" d=\"M 277.167969 72.800781 C 277.167969 76.398438 271.765625 76.398438 271.765625 72.800781 C 271.765625 69.199219 277.167969 69.199219 277.167969 72.800781 \"/>\n",
       "<path style=\"fill:none;stroke-width:0.75;stroke-linecap:round;stroke-linejoin:round;stroke:rgb(0%,0%,0%);stroke-opacity:1;stroke-miterlimit:10;\" d=\"M 280.394531 72.800781 C 280.394531 76.398438 274.992188 76.398438 274.992188 72.800781 C 274.992188 69.199219 280.394531 69.199219 280.394531 72.800781 \"/>\n",
       "<path style=\"fill:none;stroke-width:0.75;stroke-linecap:round;stroke-linejoin:round;stroke:rgb(0%,0%,0%);stroke-opacity:1;stroke-miterlimit:10;\" d=\"M 283.621094 72.800781 C 283.621094 76.398438 278.222656 76.398438 278.222656 72.800781 C 278.222656 69.199219 283.621094 69.199219 283.621094 72.800781 \"/>\n",
       "<path style=\"fill:none;stroke-width:0.75;stroke-linecap:round;stroke-linejoin:round;stroke:rgb(0%,0%,0%);stroke-opacity:1;stroke-miterlimit:10;\" d=\"M 286.847656 72.800781 C 286.847656 76.398438 281.449219 76.398438 281.449219 72.800781 C 281.449219 69.199219 286.847656 69.199219 286.847656 72.800781 \"/>\n",
       "<path style=\"fill:none;stroke-width:0.75;stroke-linecap:round;stroke-linejoin:round;stroke:rgb(0%,0%,0%);stroke-opacity:1;stroke-miterlimit:10;\" d=\"M 290.074219 72.800781 C 290.074219 76.398438 284.675781 76.398438 284.675781 72.800781 C 284.675781 69.199219 290.074219 69.199219 290.074219 72.800781 \"/>\n",
       "<path style=\"fill:none;stroke-width:0.75;stroke-linecap:round;stroke-linejoin:round;stroke:rgb(0%,0%,0%);stroke-opacity:1;stroke-miterlimit:10;\" d=\"M 293.300781 72.800781 C 293.300781 76.398438 287.902344 76.398438 287.902344 72.800781 C 287.902344 69.199219 293.300781 69.199219 293.300781 72.800781 \"/>\n",
       "<path style=\"fill:none;stroke-width:0.75;stroke-linecap:round;stroke-linejoin:round;stroke:rgb(0%,0%,0%);stroke-opacity:1;stroke-miterlimit:10;\" d=\"M 296.527344 72.800781 C 296.527344 76.398438 291.128906 76.398438 291.128906 72.800781 C 291.128906 69.199219 296.527344 69.199219 296.527344 72.800781 \"/>\n",
       "<path style=\"fill:none;stroke-width:0.75;stroke-linecap:round;stroke-linejoin:round;stroke:rgb(0%,0%,0%);stroke-opacity:1;stroke-miterlimit:10;\" d=\"M 299.753906 72.800781 C 299.753906 76.398438 294.355469 76.398438 294.355469 72.800781 C 294.355469 69.199219 299.753906 69.199219 299.753906 72.800781 \"/>\n",
       "<path style=\"fill:none;stroke-width:0.75;stroke-linecap:round;stroke-linejoin:round;stroke:rgb(0%,0%,0%);stroke-opacity:1;stroke-miterlimit:10;\" d=\"M 302.980469 72.800781 C 302.980469 76.398438 297.582031 76.398438 297.582031 72.800781 C 297.582031 69.199219 302.980469 69.199219 302.980469 72.800781 \"/>\n",
       "<path style=\"fill:none;stroke-width:0.75;stroke-linecap:round;stroke-linejoin:round;stroke:rgb(0%,0%,0%);stroke-opacity:1;stroke-miterlimit:10;\" d=\"M 306.210938 72.800781 C 306.210938 76.398438 300.808594 76.398438 300.808594 72.800781 C 300.808594 69.199219 306.210938 69.199219 306.210938 72.800781 \"/>\n",
       "<path style=\"fill:none;stroke-width:0.75;stroke-linecap:round;stroke-linejoin:round;stroke:rgb(0%,0%,0%);stroke-opacity:1;stroke-miterlimit:10;\" d=\"M 309.4375 72.800781 C 309.4375 76.398438 304.035156 76.398438 304.035156 72.800781 C 304.035156 69.199219 309.4375 69.199219 309.4375 72.800781 \"/>\n",
       "<path style=\"fill:none;stroke-width:0.75;stroke-linecap:round;stroke-linejoin:round;stroke:rgb(0%,0%,0%);stroke-opacity:1;stroke-miterlimit:10;\" d=\"M 312.664062 72.800781 C 312.664062 76.398438 307.261719 76.398438 307.261719 72.800781 C 307.261719 69.199219 312.664062 69.199219 312.664062 72.800781 \"/>\n",
       "<path style=\"fill:none;stroke-width:0.75;stroke-linecap:round;stroke-linejoin:round;stroke:rgb(0%,0%,0%);stroke-opacity:1;stroke-miterlimit:10;\" d=\"M 315.890625 72.800781 C 315.890625 76.398438 310.488281 76.398438 310.488281 72.800781 C 310.488281 69.199219 315.890625 69.199219 315.890625 72.800781 \"/>\n",
       "<path style=\"fill:none;stroke-width:0.75;stroke-linecap:round;stroke-linejoin:round;stroke:rgb(0%,0%,0%);stroke-opacity:1;stroke-miterlimit:10;\" d=\"M 319.117188 72.800781 C 319.117188 76.398438 313.71875 76.398438 313.71875 72.800781 C 313.71875 69.199219 319.117188 69.199219 319.117188 72.800781 \"/>\n",
       "<path style=\"fill:none;stroke-width:0.75;stroke-linecap:round;stroke-linejoin:round;stroke:rgb(0%,0%,0%);stroke-opacity:1;stroke-miterlimit:10;\" d=\"M 322.34375 72.800781 C 322.34375 76.398438 316.945312 76.398438 316.945312 72.800781 C 316.945312 69.199219 322.34375 69.199219 322.34375 72.800781 \"/>\n",
       "<path style=\"fill:none;stroke-width:0.75;stroke-linecap:round;stroke-linejoin:round;stroke:rgb(0%,0%,0%);stroke-opacity:1;stroke-miterlimit:10;\" d=\"M 325.570312 72.800781 C 325.570312 76.398438 320.171875 76.398438 320.171875 72.800781 C 320.171875 69.199219 325.570312 69.199219 325.570312 72.800781 \"/>\n",
       "<path style=\"fill:none;stroke-width:0.75;stroke-linecap:round;stroke-linejoin:round;stroke:rgb(0%,0%,0%);stroke-opacity:1;stroke-miterlimit:10;\" d=\"M 328.796875 72.800781 C 328.796875 76.398438 323.398438 76.398438 323.398438 72.800781 C 323.398438 69.199219 328.796875 69.199219 328.796875 72.800781 \"/>\n",
       "<path style=\"fill:none;stroke-width:0.75;stroke-linecap:round;stroke-linejoin:round;stroke:rgb(0%,0%,0%);stroke-opacity:1;stroke-miterlimit:10;\" d=\"M 332.023438 72.800781 C 332.023438 76.398438 326.625 76.398438 326.625 72.800781 C 326.625 69.199219 332.023438 69.199219 332.023438 72.800781 \"/>\n",
       "<path style=\"fill:none;stroke-width:0.75;stroke-linecap:round;stroke-linejoin:round;stroke:rgb(0%,0%,0%);stroke-opacity:1;stroke-miterlimit:10;\" d=\"M 335.25 72.800781 C 335.25 76.398438 329.851562 76.398438 329.851562 72.800781 C 329.851562 69.199219 335.25 69.199219 335.25 72.800781 \"/>\n",
       "<path style=\"fill:none;stroke-width:0.75;stroke-linecap:round;stroke-linejoin:round;stroke:rgb(0%,0%,0%);stroke-opacity:1;stroke-miterlimit:10;\" d=\"M 338.476562 72.800781 C 338.476562 76.398438 333.078125 76.398438 333.078125 72.800781 C 333.078125 69.199219 338.476562 69.199219 338.476562 72.800781 \"/>\n",
       "<path style=\"fill:none;stroke-width:0.75;stroke-linecap:round;stroke-linejoin:round;stroke:rgb(0%,0%,0%);stroke-opacity:1;stroke-miterlimit:10;\" d=\"M 341.703125 72.800781 C 341.703125 76.398438 336.304688 76.398438 336.304688 72.800781 C 336.304688 69.199219 341.703125 69.199219 341.703125 72.800781 \"/>\n",
       "<path style=\"fill:none;stroke-width:0.75;stroke-linecap:round;stroke-linejoin:round;stroke:rgb(0%,0%,0%);stroke-opacity:1;stroke-miterlimit:10;\" d=\"M 344.933594 72.800781 C 344.933594 76.398438 339.53125 76.398438 339.53125 72.800781 C 339.53125 69.199219 344.933594 69.199219 344.933594 72.800781 \"/>\n",
       "<path style=\"fill:none;stroke-width:0.75;stroke-linecap:round;stroke-linejoin:round;stroke:rgb(0%,0%,0%);stroke-opacity:1;stroke-miterlimit:10;\" d=\"M 348.160156 72.800781 C 348.160156 76.398438 342.757812 76.398438 342.757812 72.800781 C 342.757812 69.199219 348.160156 69.199219 348.160156 72.800781 \"/>\n",
       "<path style=\"fill:none;stroke-width:0.75;stroke-linecap:round;stroke-linejoin:round;stroke:rgb(0%,0%,0%);stroke-opacity:1;stroke-miterlimit:10;\" d=\"M 351.386719 72.800781 C 351.386719 76.398438 345.984375 76.398438 345.984375 72.800781 C 345.984375 69.199219 351.386719 69.199219 351.386719 72.800781 \"/>\n",
       "<path style=\"fill:none;stroke-width:0.75;stroke-linecap:round;stroke-linejoin:round;stroke:rgb(0%,0%,0%);stroke-opacity:1;stroke-miterlimit:10;\" d=\"M 354.613281 72.800781 C 354.613281 76.398438 349.210938 76.398438 349.210938 72.800781 C 349.210938 69.199219 354.613281 69.199219 354.613281 72.800781 \"/>\n",
       "<path style=\"fill:none;stroke-width:0.75;stroke-linecap:round;stroke-linejoin:round;stroke:rgb(0%,0%,0%);stroke-opacity:1;stroke-miterlimit:10;\" d=\"M 357.839844 72.800781 C 357.839844 76.398438 352.441406 76.398438 352.441406 72.800781 C 352.441406 69.199219 357.839844 69.199219 357.839844 72.800781 \"/>\n",
       "<path style=\"fill:none;stroke-width:0.75;stroke-linecap:round;stroke-linejoin:round;stroke:rgb(0%,0%,0%);stroke-opacity:1;stroke-miterlimit:10;\" d=\"M 361.066406 72.800781 C 361.066406 76.398438 355.667969 76.398438 355.667969 72.800781 C 355.667969 69.199219 361.066406 69.199219 361.066406 72.800781 \"/>\n",
       "<path style=\"fill:none;stroke-width:0.75;stroke-linecap:round;stroke-linejoin:round;stroke:rgb(0%,0%,0%);stroke-opacity:1;stroke-miterlimit:10;\" d=\"M 364.292969 72.800781 C 364.292969 76.398438 358.894531 76.398438 358.894531 72.800781 C 358.894531 69.199219 364.292969 69.199219 364.292969 72.800781 \"/>\n",
       "<path style=\"fill:none;stroke-width:0.75;stroke-linecap:round;stroke-linejoin:round;stroke:rgb(0%,0%,0%);stroke-opacity:1;stroke-miterlimit:10;\" d=\"M 367.519531 72.800781 C 367.519531 76.398438 362.121094 76.398438 362.121094 72.800781 C 362.121094 69.199219 367.519531 69.199219 367.519531 72.800781 \"/>\n",
       "<path style=\"fill:none;stroke-width:0.75;stroke-linecap:round;stroke-linejoin:round;stroke:rgb(0%,0%,0%);stroke-opacity:1;stroke-miterlimit:10;\" d=\"M 370.746094 72.800781 C 370.746094 76.398438 365.347656 76.398438 365.347656 72.800781 C 365.347656 69.199219 370.746094 69.199219 370.746094 72.800781 \"/>\n",
       "<path style=\"fill:none;stroke-width:0.75;stroke-linecap:round;stroke-linejoin:round;stroke:rgb(0%,0%,0%);stroke-opacity:1;stroke-miterlimit:10;\" d=\"M 373.972656 72.800781 C 373.972656 76.398438 368.574219 76.398438 368.574219 72.800781 C 368.574219 69.199219 373.972656 69.199219 373.972656 72.800781 \"/>\n",
       "<path style=\"fill:none;stroke-width:0.75;stroke-linecap:round;stroke-linejoin:round;stroke:rgb(0%,0%,0%);stroke-opacity:1;stroke-miterlimit:10;\" d=\"M 377.199219 72.800781 C 377.199219 76.398438 371.800781 76.398438 371.800781 72.800781 C 371.800781 69.199219 377.199219 69.199219 377.199219 72.800781 \"/>\n",
       "<path style=\"fill:none;stroke-width:0.75;stroke-linecap:round;stroke-linejoin:round;stroke:rgb(0%,0%,0%);stroke-opacity:1;stroke-miterlimit:10;\" d=\"M 380.425781 72.800781 C 380.425781 76.398438 375.027344 76.398438 375.027344 72.800781 C 375.027344 69.199219 380.425781 69.199219 380.425781 72.800781 \"/>\n",
       "<path style=\"fill:none;stroke-width:0.75;stroke-linecap:round;stroke-linejoin:round;stroke:rgb(0%,0%,0%);stroke-opacity:1;stroke-miterlimit:10;\" d=\"M 383.65625 72.800781 C 383.65625 76.398438 378.253906 76.398438 378.253906 72.800781 C 378.253906 69.199219 383.65625 69.199219 383.65625 72.800781 \"/>\n",
       "<path style=\"fill:none;stroke-width:0.75;stroke-linecap:round;stroke-linejoin:round;stroke:rgb(0%,0%,0%);stroke-opacity:1;stroke-miterlimit:10;\" d=\"M 386.882812 72.800781 C 386.882812 76.398438 381.480469 76.398438 381.480469 72.800781 C 381.480469 69.199219 386.882812 69.199219 386.882812 72.800781 \"/>\n",
       "<path style=\"fill:none;stroke-width:0.75;stroke-linecap:round;stroke-linejoin:round;stroke:rgb(0%,0%,0%);stroke-opacity:1;stroke-miterlimit:10;\" d=\"M 390.109375 72.800781 C 390.109375 76.398438 384.707031 76.398438 384.707031 72.800781 C 384.707031 69.199219 390.109375 69.199219 390.109375 72.800781 \"/>\n",
       "<path style=\"fill:none;stroke-width:0.75;stroke-linecap:round;stroke-linejoin:round;stroke:rgb(0%,0%,0%);stroke-opacity:1;stroke-miterlimit:10;\" d=\"M 393.335938 72.800781 C 393.335938 76.398438 387.933594 76.398438 387.933594 72.800781 C 387.933594 69.199219 393.335938 69.199219 393.335938 72.800781 \"/>\n",
       "<path style=\"fill:none;stroke-width:0.75;stroke-linecap:round;stroke-linejoin:round;stroke:rgb(0%,0%,0%);stroke-opacity:1;stroke-miterlimit:10;\" d=\"M 396.5625 72.800781 C 396.5625 76.398438 391.164062 76.398438 391.164062 72.800781 C 391.164062 69.199219 396.5625 69.199219 396.5625 72.800781 \"/>\n",
       "<path style=\"fill:none;stroke-width:0.75;stroke-linecap:round;stroke-linejoin:round;stroke:rgb(0%,0%,0%);stroke-opacity:1;stroke-miterlimit:10;\" d=\"M 399.789062 72.800781 C 399.789062 76.398438 394.390625 76.398438 394.390625 72.800781 C 394.390625 69.199219 399.789062 69.199219 399.789062 72.800781 \"/>\n",
       "<path style=\"fill:none;stroke-width:0.75;stroke-linecap:round;stroke-linejoin:round;stroke:rgb(0%,0%,0%);stroke-opacity:1;stroke-miterlimit:10;\" d=\"M 403.015625 72.800781 C 403.015625 76.398438 397.617188 76.398438 397.617188 72.800781 C 397.617188 69.199219 403.015625 69.199219 403.015625 72.800781 \"/>\n",
       "<path style=\"fill:none;stroke-width:0.75;stroke-linecap:round;stroke-linejoin:round;stroke:rgb(0%,0%,0%);stroke-opacity:1;stroke-miterlimit:10;\" d=\"M 406.242188 72.800781 C 406.242188 76.398438 400.84375 76.398438 400.84375 72.800781 C 400.84375 69.199219 406.242188 69.199219 406.242188 72.800781 \"/>\n",
       "<path style=\"fill:none;stroke-width:0.75;stroke-linecap:round;stroke-linejoin:round;stroke:rgb(0%,0%,0%);stroke-opacity:1;stroke-miterlimit:10;\" d=\"M 409.46875 72.800781 C 409.46875 76.398438 404.070312 76.398438 404.070312 72.800781 C 404.070312 69.199219 409.46875 69.199219 409.46875 72.800781 \"/>\n",
       "<path style=\"fill:none;stroke-width:0.75;stroke-linecap:round;stroke-linejoin:round;stroke:rgb(0%,0%,0%);stroke-opacity:1;stroke-miterlimit:10;\" d=\"M 412.695312 72.800781 C 412.695312 76.398438 407.296875 76.398438 407.296875 72.800781 C 407.296875 69.199219 412.695312 69.199219 412.695312 72.800781 \"/>\n",
       "<path style=\"fill:none;stroke-width:0.75;stroke-linecap:round;stroke-linejoin:round;stroke:rgb(0%,0%,0%);stroke-opacity:1;stroke-miterlimit:10;\" d=\"M 415.921875 72.800781 C 415.921875 76.398438 410.523438 76.398438 410.523438 72.800781 C 410.523438 69.199219 415.921875 69.199219 415.921875 72.800781 \"/>\n",
       "<path style=\"fill:none;stroke-width:0.75;stroke-linecap:round;stroke-linejoin:round;stroke:rgb(0%,0%,0%);stroke-opacity:1;stroke-miterlimit:10;\" d=\"M 419.152344 72.800781 C 419.152344 76.398438 413.75 76.398438 413.75 72.800781 C 413.75 69.199219 419.152344 69.199219 419.152344 72.800781 \"/>\n",
       "<path style=\"fill:none;stroke-width:0.75;stroke-linecap:round;stroke-linejoin:round;stroke:rgb(0%,0%,0%);stroke-opacity:1;stroke-miterlimit:10;\" d=\"M 422.378906 72.800781 C 422.378906 76.398438 416.976562 76.398438 416.976562 72.800781 C 416.976562 69.199219 422.378906 69.199219 422.378906 72.800781 \"/>\n",
       "<path style=\"fill:none;stroke-width:0.75;stroke-linecap:round;stroke-linejoin:round;stroke:rgb(0%,0%,0%);stroke-opacity:1;stroke-miterlimit:10;\" d=\"M 425.605469 72.800781 C 425.605469 76.398438 420.203125 76.398438 420.203125 72.800781 C 420.203125 69.199219 425.605469 69.199219 425.605469 72.800781 \"/>\n",
       "<path style=\"fill:none;stroke-width:0.75;stroke-linecap:round;stroke-linejoin:round;stroke:rgb(0%,0%,0%);stroke-opacity:1;stroke-miterlimit:10;\" d=\"M 428.832031 72.800781 C 428.832031 76.398438 423.429688 76.398438 423.429688 72.800781 C 423.429688 69.199219 428.832031 69.199219 428.832031 72.800781 \"/>\n",
       "<path style=\"fill:none;stroke-width:0.75;stroke-linecap:round;stroke-linejoin:round;stroke:rgb(0%,0%,0%);stroke-opacity:1;stroke-miterlimit:10;\" d=\"M 432.058594 72.800781 C 432.058594 76.398438 426.65625 76.398438 426.65625 72.800781 C 426.65625 69.199219 432.058594 69.199219 432.058594 72.800781 \"/>\n",
       "<path style=\"fill:none;stroke-width:0.75;stroke-linecap:round;stroke-linejoin:round;stroke:rgb(0%,0%,0%);stroke-opacity:1;stroke-miterlimit:10;\" d=\"M 435.285156 72.800781 C 435.285156 76.398438 429.886719 76.398438 429.886719 72.800781 C 429.886719 69.199219 435.285156 69.199219 435.285156 72.800781 \"/>\n",
       "<path style=\"fill:none;stroke-width:0.75;stroke-linecap:round;stroke-linejoin:round;stroke:rgb(0%,0%,0%);stroke-opacity:1;stroke-miterlimit:10;\" d=\"M 438.511719 72.800781 C 438.511719 76.398438 433.113281 76.398438 433.113281 72.800781 C 433.113281 69.199219 438.511719 69.199219 438.511719 72.800781 \"/>\n",
       "<path style=\"fill:none;stroke-width:0.75;stroke-linecap:round;stroke-linejoin:round;stroke:rgb(0%,0%,0%);stroke-opacity:1;stroke-miterlimit:10;\" d=\"M 441.738281 72.800781 C 441.738281 76.398438 436.339844 76.398438 436.339844 72.800781 C 436.339844 69.199219 441.738281 69.199219 441.738281 72.800781 \"/>\n",
       "<path style=\"fill:none;stroke-width:0.75;stroke-linecap:round;stroke-linejoin:round;stroke:rgb(0%,0%,0%);stroke-opacity:1;stroke-miterlimit:10;\" d=\"M 444.964844 72.800781 C 444.964844 76.398438 439.566406 76.398438 439.566406 72.800781 C 439.566406 69.199219 444.964844 69.199219 444.964844 72.800781 \"/>\n",
       "<path style=\"fill:none;stroke-width:0.75;stroke-linecap:round;stroke-linejoin:round;stroke:rgb(0%,0%,0%);stroke-opacity:1;stroke-miterlimit:10;\" d=\"M 448.191406 72.800781 C 448.191406 76.398438 442.792969 76.398438 442.792969 72.800781 C 442.792969 69.199219 448.191406 69.199219 448.191406 72.800781 \"/>\n",
       "<path style=\"fill:none;stroke-width:0.75;stroke-linecap:round;stroke-linejoin:round;stroke:rgb(0%,0%,0%);stroke-opacity:1;stroke-miterlimit:10;\" d=\"M 451.417969 72.800781 C 451.417969 76.398438 446.019531 76.398438 446.019531 72.800781 C 446.019531 69.199219 451.417969 69.199219 451.417969 72.800781 \"/>\n",
       "<path style=\"fill:none;stroke-width:0.75;stroke-linecap:round;stroke-linejoin:round;stroke:rgb(0%,0%,0%);stroke-opacity:1;stroke-miterlimit:10;\" d=\"M 454.644531 72.800781 C 454.644531 76.398438 449.246094 76.398438 449.246094 72.800781 C 449.246094 69.199219 454.644531 69.199219 454.644531 72.800781 \"/>\n",
       "<path style=\"fill:none;stroke-width:0.75;stroke-linecap:round;stroke-linejoin:round;stroke:rgb(0%,0%,0%);stroke-opacity:1;stroke-miterlimit:10;\" d=\"M 457.875 72.800781 C 457.875 76.398438 452.472656 76.398438 452.472656 72.800781 C 452.472656 69.199219 457.875 69.199219 457.875 72.800781 \"/>\n",
       "<path style=\"fill:none;stroke-width:0.75;stroke-linecap:round;stroke-linejoin:round;stroke:rgb(0%,0%,0%);stroke-opacity:1;stroke-miterlimit:10;\" d=\"M 461.101562 72.800781 C 461.101562 76.398438 455.699219 76.398438 455.699219 72.800781 C 455.699219 69.199219 461.101562 69.199219 461.101562 72.800781 \"/>\n",
       "<path style=\"fill:none;stroke-width:0.75;stroke-linecap:round;stroke-linejoin:round;stroke:rgb(0%,0%,0%);stroke-opacity:1;stroke-miterlimit:10;\" d=\"M 71.171875 430.558594 L 458.398438 430.558594 \"/>\n",
       "<path style=\"fill:none;stroke-width:0.75;stroke-linecap:round;stroke-linejoin:round;stroke:rgb(0%,0%,0%);stroke-opacity:1;stroke-miterlimit:10;\" d=\"M 71.171875 430.558594 L 71.171875 437.761719 \"/>\n",
       "<path style=\"fill:none;stroke-width:0.75;stroke-linecap:round;stroke-linejoin:round;stroke:rgb(0%,0%,0%);stroke-opacity:1;stroke-miterlimit:10;\" d=\"M 135.710938 430.558594 L 135.710938 437.761719 \"/>\n",
       "<path style=\"fill:none;stroke-width:0.75;stroke-linecap:round;stroke-linejoin:round;stroke:rgb(0%,0%,0%);stroke-opacity:1;stroke-miterlimit:10;\" d=\"M 200.25 430.558594 L 200.25 437.761719 \"/>\n",
       "<path style=\"fill:none;stroke-width:0.75;stroke-linecap:round;stroke-linejoin:round;stroke:rgb(0%,0%,0%);stroke-opacity:1;stroke-miterlimit:10;\" d=\"M 264.785156 430.558594 L 264.785156 437.761719 \"/>\n",
       "<path style=\"fill:none;stroke-width:0.75;stroke-linecap:round;stroke-linejoin:round;stroke:rgb(0%,0%,0%);stroke-opacity:1;stroke-miterlimit:10;\" d=\"M 329.324219 430.558594 L 329.324219 437.761719 \"/>\n",
       "<path style=\"fill:none;stroke-width:0.75;stroke-linecap:round;stroke-linejoin:round;stroke:rgb(0%,0%,0%);stroke-opacity:1;stroke-miterlimit:10;\" d=\"M 393.863281 430.558594 L 393.863281 437.761719 \"/>\n",
       "<path style=\"fill:none;stroke-width:0.75;stroke-linecap:round;stroke-linejoin:round;stroke:rgb(0%,0%,0%);stroke-opacity:1;stroke-miterlimit:10;\" d=\"M 458.398438 430.558594 L 458.398438 437.761719 \"/>\n",
       "<g style=\"fill:rgb(0%,0%,0%);fill-opacity:1;\">\n",
       "  <use xlink:href=\"#glyph0-1\" x=\"67.835938\" y=\"456.480469\"/>\n",
       "</g>\n",
       "<g style=\"fill:rgb(0%,0%,0%);fill-opacity:1;\">\n",
       "  <use xlink:href=\"#glyph0-2\" x=\"129.039062\" y=\"456.480469\"/>\n",
       "  <use xlink:href=\"#glyph0-1\" x=\"135.712891\" y=\"456.480469\"/>\n",
       "</g>\n",
       "<g style=\"fill:rgb(0%,0%,0%);fill-opacity:1;\">\n",
       "  <use xlink:href=\"#glyph0-3\" x=\"193.578125\" y=\"456.480469\"/>\n",
       "  <use xlink:href=\"#glyph0-1\" x=\"200.251953\" y=\"456.480469\"/>\n",
       "</g>\n",
       "<g style=\"fill:rgb(0%,0%,0%);fill-opacity:1;\">\n",
       "  <use xlink:href=\"#glyph0-4\" x=\"258.113281\" y=\"456.480469\"/>\n",
       "  <use xlink:href=\"#glyph0-1\" x=\"264.787109\" y=\"456.480469\"/>\n",
       "</g>\n",
       "<g style=\"fill:rgb(0%,0%,0%);fill-opacity:1;\">\n",
       "  <use xlink:href=\"#glyph0-5\" x=\"322.652344\" y=\"456.480469\"/>\n",
       "  <use xlink:href=\"#glyph0-1\" x=\"329.326172\" y=\"456.480469\"/>\n",
       "</g>\n",
       "<g style=\"fill:rgb(0%,0%,0%);fill-opacity:1;\">\n",
       "  <use xlink:href=\"#glyph0-6\" x=\"383.851562\" y=\"456.480469\"/>\n",
       "  <use xlink:href=\"#glyph0-1\" x=\"390.525391\" y=\"456.480469\"/>\n",
       "  <use xlink:href=\"#glyph0-1\" x=\"397.199219\" y=\"456.480469\"/>\n",
       "</g>\n",
       "<g style=\"fill:rgb(0%,0%,0%);fill-opacity:1;\">\n",
       "  <use xlink:href=\"#glyph0-6\" x=\"448.386719\" y=\"456.480469\"/>\n",
       "  <use xlink:href=\"#glyph0-2\" x=\"455.060547\" y=\"456.480469\"/>\n",
       "  <use xlink:href=\"#glyph0-1\" x=\"461.734375\" y=\"456.480469\"/>\n",
       "</g>\n",
       "<path style=\"fill:none;stroke-width:0.75;stroke-linecap:round;stroke-linejoin:round;stroke:rgb(0%,0%,0%);stroke-opacity:1;stroke-miterlimit:10;\" d=\"M 59.039062 378.882812 L 59.039062 76.953125 \"/>\n",
       "<path style=\"fill:none;stroke-width:0.75;stroke-linecap:round;stroke-linejoin:round;stroke:rgb(0%,0%,0%);stroke-opacity:1;stroke-miterlimit:10;\" d=\"M 59.039062 378.882812 L 51.839844 378.882812 \"/>\n",
       "<path style=\"fill:none;stroke-width:0.75;stroke-linecap:round;stroke-linejoin:round;stroke:rgb(0%,0%,0%);stroke-opacity:1;stroke-miterlimit:10;\" d=\"M 59.039062 303.402344 L 51.839844 303.402344 \"/>\n",
       "<path style=\"fill:none;stroke-width:0.75;stroke-linecap:round;stroke-linejoin:round;stroke:rgb(0%,0%,0%);stroke-opacity:1;stroke-miterlimit:10;\" d=\"M 59.039062 227.917969 L 51.839844 227.917969 \"/>\n",
       "<path style=\"fill:none;stroke-width:0.75;stroke-linecap:round;stroke-linejoin:round;stroke:rgb(0%,0%,0%);stroke-opacity:1;stroke-miterlimit:10;\" d=\"M 59.039062 152.4375 L 51.839844 152.4375 \"/>\n",
       "<path style=\"fill:none;stroke-width:0.75;stroke-linecap:round;stroke-linejoin:round;stroke:rgb(0%,0%,0%);stroke-opacity:1;stroke-miterlimit:10;\" d=\"M 59.039062 76.953125 L 51.839844 76.953125 \"/>\n",
       "<g style=\"fill:rgb(0%,0%,0%);fill-opacity:1;\">\n",
       "  <use xlink:href=\"#glyph1-1\" x=\"41.761719\" y=\"392.558594\"/>\n",
       "  <use xlink:href=\"#glyph1-2\" x=\"41.761719\" y=\"388.5625\"/>\n",
       "  <use xlink:href=\"#glyph1-3\" x=\"41.761719\" y=\"381.888672\"/>\n",
       "  <use xlink:href=\"#glyph1-2\" x=\"41.761719\" y=\"378.554688\"/>\n",
       "  <use xlink:href=\"#glyph1-4\" x=\"41.761719\" y=\"371.880859\"/>\n",
       "</g>\n",
       "<g style=\"fill:rgb(0%,0%,0%);fill-opacity:1;\">\n",
       "  <use xlink:href=\"#glyph1-1\" x=\"41.761719\" y=\"317.078125\"/>\n",
       "  <use xlink:href=\"#glyph1-2\" x=\"41.761719\" y=\"313.082031\"/>\n",
       "  <use xlink:href=\"#glyph1-3\" x=\"41.761719\" y=\"306.408203\"/>\n",
       "  <use xlink:href=\"#glyph1-2\" x=\"41.761719\" y=\"303.074219\"/>\n",
       "  <use xlink:href=\"#glyph1-5\" x=\"41.761719\" y=\"296.400391\"/>\n",
       "</g>\n",
       "<g style=\"fill:rgb(0%,0%,0%);fill-opacity:1;\">\n",
       "  <use xlink:href=\"#glyph1-1\" x=\"41.761719\" y=\"241.59375\"/>\n",
       "  <use xlink:href=\"#glyph1-2\" x=\"41.761719\" y=\"237.597656\"/>\n",
       "  <use xlink:href=\"#glyph1-3\" x=\"41.761719\" y=\"230.923828\"/>\n",
       "  <use xlink:href=\"#glyph1-2\" x=\"41.761719\" y=\"227.589844\"/>\n",
       "  <use xlink:href=\"#glyph1-6\" x=\"41.761719\" y=\"220.916016\"/>\n",
       "</g>\n",
       "<g style=\"fill:rgb(0%,0%,0%);fill-opacity:1;\">\n",
       "  <use xlink:href=\"#glyph1-1\" x=\"41.761719\" y=\"166.113281\"/>\n",
       "  <use xlink:href=\"#glyph1-2\" x=\"41.761719\" y=\"162.117188\"/>\n",
       "  <use xlink:href=\"#glyph1-3\" x=\"41.761719\" y=\"155.443359\"/>\n",
       "  <use xlink:href=\"#glyph1-2\" x=\"41.761719\" y=\"152.109375\"/>\n",
       "  <use xlink:href=\"#glyph1-7\" x=\"41.761719\" y=\"145.435547\"/>\n",
       "</g>\n",
       "<g style=\"fill:rgb(0%,0%,0%);fill-opacity:1;\">\n",
       "  <use xlink:href=\"#glyph1-2\" x=\"41.761719\" y=\"88.632812\"/>\n",
       "  <use xlink:href=\"#glyph1-3\" x=\"41.761719\" y=\"81.958984\"/>\n",
       "  <use xlink:href=\"#glyph1-2\" x=\"41.761719\" y=\"78.625\"/>\n",
       "  <use xlink:href=\"#glyph1-2\" x=\"41.761719\" y=\"71.951172\"/>\n",
       "</g>\n",
       "<path style=\"fill:none;stroke-width:0.75;stroke-linecap:round;stroke-linejoin:round;stroke:rgb(0%,0%,0%);stroke-opacity:1;stroke-miterlimit:10;\" d=\"M 59.039062 430.558594 L 473.761719 430.558594 L 473.761719 59.039062 L 59.039062 59.039062 L 59.039062 430.558594 \"/>\n",
       "<g style=\"fill:rgb(0%,0%,0%);fill-opacity:1;\">\n",
       "  <use xlink:href=\"#glyph0-7\" x=\"199.03125\" y=\"485.28125\"/>\n",
       "  <use xlink:href=\"#glyph0-8\" x=\"203.027344\" y=\"485.28125\"/>\n",
       "  <use xlink:href=\"#glyph0-9\" x=\"209.701172\" y=\"485.28125\"/>\n",
       "  <use xlink:href=\"#glyph0-10\" x=\"215.701172\" y=\"485.28125\"/>\n",
       "  <use xlink:href=\"#glyph0-11\" x=\"222.375\" y=\"485.28125\"/>\n",
       "  <use xlink:href=\"#glyph0-12\" x=\"230.378906\" y=\"485.28125\"/>\n",
       "  <use xlink:href=\"#glyph0-13\" x=\"238.382812\" y=\"485.28125\"/>\n",
       "  <use xlink:href=\"#glyph0-13\" x=\"241.716797\" y=\"485.28125\"/>\n",
       "  <use xlink:href=\"#glyph0-6\" x=\"245.050781\" y=\"485.28125\"/>\n",
       "  <use xlink:href=\"#glyph0-14\" x=\"251.724609\" y=\"485.28125\"/>\n",
       "  <use xlink:href=\"#glyph0-14\" x=\"255.058594\" y=\"485.28125\"/>\n",
       "  <use xlink:href=\"#glyph0-15\" x=\"258.392578\" y=\"485.28125\"/>\n",
       "  <use xlink:href=\"#glyph0-16\" x=\"265.066406\" y=\"485.28125\"/>\n",
       "  <use xlink:href=\"#glyph0-8\" x=\"272.396484\" y=\"485.28125\"/>\n",
       "  <use xlink:href=\"#glyph0-17\" x=\"279.070312\" y=\"485.28125\"/>\n",
       "  <use xlink:href=\"#glyph0-18\" x=\"289.066406\" y=\"485.28125\"/>\n",
       "  <use xlink:href=\"#glyph0-8\" x=\"295.740234\" y=\"485.28125\"/>\n",
       "  <use xlink:href=\"#glyph0-7\" x=\"302.414062\" y=\"485.28125\"/>\n",
       "  <use xlink:href=\"#glyph0-19\" x=\"306.410156\" y=\"485.28125\"/>\n",
       "  <use xlink:href=\"#glyph0-20\" x=\"313.083984\" y=\"485.28125\"/>\n",
       "  <use xlink:href=\"#glyph0-21\" x=\"316.417969\" y=\"485.28125\"/>\n",
       "  <use xlink:href=\"#glyph0-7\" x=\"323.091797\" y=\"485.28125\"/>\n",
       "  <use xlink:href=\"#glyph0-8\" x=\"327.087891\" y=\"485.28125\"/>\n",
       "</g>\n",
       "<g style=\"fill:rgb(0%,0%,0%);fill-opacity:1;\">\n",
       "  <use xlink:href=\"#glyph1-8\" x=\"12.960938\" y=\"309.496094\"/>\n",
       "  <use xlink:href=\"#glyph1-9\" x=\"12.960938\" y=\"305.5\"/>\n",
       "  <use xlink:href=\"#glyph1-10\" x=\"12.960938\" y=\"298.826172\"/>\n",
       "  <use xlink:href=\"#glyph1-11\" x=\"12.960938\" y=\"292.826172\"/>\n",
       "  <use xlink:href=\"#glyph1-12\" x=\"12.960938\" y=\"286.152344\"/>\n",
       "  <use xlink:href=\"#glyph1-13\" x=\"12.960938\" y=\"278.148438\"/>\n",
       "  <use xlink:href=\"#glyph1-14\" x=\"12.960938\" y=\"270.144531\"/>\n",
       "  <use xlink:href=\"#glyph1-14\" x=\"12.960938\" y=\"266.810547\"/>\n",
       "  <use xlink:href=\"#glyph1-7\" x=\"12.960938\" y=\"263.476562\"/>\n",
       "  <use xlink:href=\"#glyph1-15\" x=\"12.960938\" y=\"256.802734\"/>\n",
       "  <use xlink:href=\"#glyph1-15\" x=\"12.960938\" y=\"253.46875\"/>\n",
       "  <use xlink:href=\"#glyph1-16\" x=\"12.960938\" y=\"250.134766\"/>\n",
       "  <use xlink:href=\"#glyph1-8\" x=\"12.960938\" y=\"243.460938\"/>\n",
       "  <use xlink:href=\"#glyph1-9\" x=\"12.960938\" y=\"239.464844\"/>\n",
       "  <use xlink:href=\"#glyph1-10\" x=\"12.960938\" y=\"232.791016\"/>\n",
       "  <use xlink:href=\"#glyph1-17\" x=\"12.960938\" y=\"226.791016\"/>\n",
       "  <use xlink:href=\"#glyph1-11\" x=\"12.960938\" y=\"220.117188\"/>\n",
       "  <use xlink:href=\"#glyph1-18\" x=\"12.960938\" y=\"213.443359\"/>\n",
       "  <use xlink:href=\"#glyph1-19\" x=\"12.960938\" y=\"204.777344\"/>\n",
       "  <use xlink:href=\"#glyph1-20\" x=\"12.960938\" y=\"196.773438\"/>\n",
       "  <use xlink:href=\"#glyph1-21\" x=\"12.960938\" y=\"188.769531\"/>\n",
       "</g>\n",
       "</g>\n",
       "</svg>\n"
      ],
      "text/plain": [
       "plot without title"
      ]
     },
     "metadata": {},
     "output_type": "display_data"
    }
   ],
   "source": [
    "plot(res_BP[[1]]$Temperature, res_BP[[1]]$resp_HVAC)"
   ]
  },
  {
   "cell_type": "markdown",
   "metadata": {},
   "source": [
    "##Produce visualizations"
   ]
  },
  {
   "cell_type": "code",
   "execution_count": 132,
   "metadata": {
    "collapsed": true
   },
   "outputs": [],
   "source": [
    "# use custom colors for each end use\n",
    "cols = c(use= '#000000', AC = '#FE2E2E', HV = '#0040FF', user = '#088A08', nonHVAC = '#5F04B4',\n",
    "     lights = '#B45F04', always_on = '#01A9DB', scheduled = '#FF00BF', TemperatureF = '#424242')\n"
   ]
  },
  {
   "cell_type": "markdown",
   "metadata": {},
   "source": [
    "Plot ground truth response for HV/AC on same graph\n"
   ]
  },
  {
   "cell_type": "code",
   "execution_count": 133,
   "metadata": {
    "collapsed": false
   },
   "outputs": [],
   "source": [
    "f_plot_GT_profile = function(df_orig, df_resp){\n",
    "    plot(df_orig$Temperature, df_orig$HVAC, pch ='.', cex=0, col = rgb(1, 1, 1, 0.5),\n",
    "        cex.main=2, main=\"Ground Truth Temperature Profile\", \n",
    "        cex.lab=1.5,\n",
    "        cex.axis=1.2, xlab=\"Temperature [F]\", ylab=\"Ground Truth HVAC (kWh)\")\n",
    "\n",
    "    if ('H' %in% names(df_orig))\n",
    "        points(df_orig$Temperature, df_orig$H, pch ='.', cex=2.5, col = rgb(0, 0, 1, 0.5))\n",
    "        lines(df_resp$Temperature, df_resp$fit_HV, type='l', col='blue', lwd=4, xlab=\"\")\n",
    "\n",
    "    if ('C' %in% names(df_orig))\n",
    "        points(df_orig$Temperature, df_orig$C, pch ='.', cex=2.5, col = rgb(1, 0, 0, 0.5))\n",
    "        lines(df_resp$Temperature, df_resp$fit_AC, type='l', col='red', lwd=4, xlab=\"\")\n",
    "    legend(\"bottomright\", intersect(c(\"C\", \"H\"), names(df_orig)), \n",
    "       lty=c(1,1), # gives the legend appropriate symbols (lines)\n",
    "       lwd=c(2.5,2.5),col=c(\"red\",\"blue\"),\n",
    "       cex=1.5)\n",
    "\n",
    "    gc()\n",
    "}"
   ]
  },
  {
   "cell_type": "markdown",
   "metadata": {},
   "source": [
    "Plot response profiles"
   ]
  },
  {
   "cell_type": "code",
   "execution_count": 134,
   "metadata": {
    "collapsed": false
   },
   "outputs": [],
   "source": [
    "f_plot_response = function(df_resp, uname=\"\"){\n",
    "    v = c(df_resp$resp_HVAC, df_resp$resp_avg, df_resp$resp_HVAC_BP)\n",
    "    if ('C' %in% names(df_resp)) v = c(v, df_resp$C)\n",
    "    if ('H' %in% names(df_resp)) v = c(v, df_resp$H)\n",
    "    ylim_resp = range(v)\n",
    "    plot(df_resp$Temperature, df_resp$resp_HVAC, col='green', type='l', lwd=5, \n",
    "         cex.main=2, \n",
    "         cex.lab=2,\n",
    "         cex.axis=2, \n",
    "         ylim=ylim_resp,\n",
    "         main=paste(\"Ground Truth Thermal Response:\", uname), \n",
    "         xlab=\"Temperature [F]\", ylab=\"Response [kW/F]\")\n",
    "    if ('C' %in% names(df_resp))\n",
    "        points(df_resp$Temperature, df_resp$AC, col='red', type='l', lwd=5)\n",
    "    if ('H' %in% names(df_resp))\n",
    "        points(df_resp$Temperature, df_resp$HV, col='blue', type='l', lwd=5) \n",
    "    points(df_resp$Temperature, df_resp$resp_avg, col='black', type='l', lwd=5)\n",
    "    points(df_resp$Temperature, df_resp$resp_HVAC_BP, col='magenta', type='l', lwd=5)\n",
    "\n",
    "    cols = c(\"green\", \"red\",\"blue\", \"black\", \"magenta\"); \n",
    "    names(cols) = c(\"HVAC (GT)\", \"Cool (GT)\", \"Heat (GT)\", \"HVAC (TR)\", \"HVAC (BP)\")\n",
    "    cur_labels = c(\"HVAC (TR)\", \"HVAC (BP)\")\n",
    "    if (\"H\" %in% names(df_resp)) cur_labels = c(\"Heat (GT)\", cur_labels)\n",
    "    if (\"C\" %in% names(df_resp)) cur_labels = c(\"Cool (GT)\", cur_labels)\n",
    "    if (\"resp_HVAC\" %in% names(df_resp)) cur_labels = c(\"HVAC (GT)\", cur_labels)       \n",
    "    legend(\"topleft\", cur_labels, \n",
    "           lty=c(1,1), # gives the legend appropriate symbols (lines)\n",
    "           lwd=c(2.5,2.5),col=cols[cur_labels],\n",
    "           cex=1.5)\n",
    "    abline(h=0, lwd = 2, col='black')\n",
    "}\n"
   ]
  },
  {
   "cell_type": "code",
   "execution_count": 135,
   "metadata": {
    "collapsed": false
   },
   "outputs": [
    {
     "ename": "ERROR",
     "evalue": "Error in eval(expr, envir, enclos): object 'fname' not found\n",
     "output_type": "error",
     "traceback": [
      "Error in eval(expr, envir, enclos): object 'fname' not found\n"
     ]
    }
   ],
   "source": [
    "fname"
   ]
  },
  {
   "cell_type": "code",
   "execution_count": 136,
   "metadata": {
    "collapsed": false
   },
   "outputs": [
    {
     "name": "stderr",
     "output_type": "stream",
     "text": [
      "Warning message:\n",
      "In dir.create(dirname, recursive = T): '/Users/adrianalbert/S3L_server/plots/pecan-street-2/1105_Grant' already exists"
     ]
    },
    {
     "data": {
      "text/html": [
       "<strong>pdf:</strong> 2"
      ],
      "text/latex": [
       "\\textbf{pdf:} 2"
      ],
      "text/markdown": [
       "**pdf:** 2"
      ],
      "text/plain": [
       "pdf \n",
       "  2 "
      ]
     },
     "execution_count": 136,
     "metadata": {},
     "output_type": "execute_result"
    }
   ],
   "source": [
    "user_info = paste(row$UID, row$name, sep=\"_\")\n",
    "dirname = paste(PLOT_PATH, user_info,  sep=\"\")\n",
    "dir.create(dirname, recursive = T)\n",
    "fname =  paste(dirname, paste(c(user_info, row$grain, \"ground_truth_response.pdf\"),collapse='_'), sep=\"/\")\n",
    "\n",
    "df_resp_BP = res_BP[[1]]; names(df_resp_BP) = paste(names(df_resp_BP), \"BP\", sep=\"_\")\n",
    "df_resp_BP = cbind(df_resp, df_resp_BP, resp_avg = res$resp_profile$resp_avg[-1])\n",
    "pdf(file=fname,width=7,height=5)\n",
    "mar.default <- c(5,4,4,2) + 0.1\n",
    "par(mar = mar.default + c(0, 1, 0, 0)) \n",
    "f_plot_response(df_resp_BP)\n",
    "dev.off()"
   ]
  },
  {
   "cell_type": "markdown",
   "metadata": {},
   "source": [
    "##Process data to extract response"
   ]
  },
  {
   "cell_type": "code",
   "execution_count": 137,
   "metadata": {
    "collapsed": false,
    "scrolled": true
   },
   "outputs": [],
   "source": [
    "f_wrapper = function(row) {\n",
    "    df_orig = read.csv(as.character(row$file_orig))\n",
    "    res_HMM = f_process_model(row)                   # load & process data from HMM model\n",
    "    times_ok= res_HMM$data$timestamps\n",
    "    res_GTH = f_estimate_GT_resp(df_orig, times_ok)      # compute \"ground truth\" fit\n",
    "    prof_HMM= f_estimate_empirical_prob(res_HMM$data)# estimate empirical probabil\n",
    "    res_BP  = f_estimate_breakpoint_LM(df_orig)\n",
    "    \n",
    "    df_resp_HMM = res_HMM$resp_profile\n",
    "    df_resp_GTH = res_GTH\n",
    "    df_resp = cbind(df_resp_HMM[-nrow(df_resp_HMM),], df_resp_GTH[,-1])\n",
    "    df_resp$grain = row$grain\n",
    "    df_resp$name  = row$name\n",
    "    df_resp$UID   = row$UID\n",
    "    df_resp_BP    = res_BP[[1]]; names(df_resp_BP) = paste(names(df_resp_BP), \"BP\", sep=\"_\")\n",
    "    df_resp       = cbind(df_resp, df_resp_BP, resp_avg = res_HMM$resp_profile$resp_avg[-1])\n",
    "     \n",
    "    # prepare directory\n",
    "    user_info = paste(row$UID, row$name, sep=\"_\")\n",
    "    dirname = paste(PLOT_PATH, user_info,  sep=\"\")\n",
    "    dir.create(dirname, recursive = T)\n",
    "\n",
    "    # plot model regime probability profile\n",
    "    fname =  paste(dirname, paste(c(user_info, row$grain, \"state_prob_profile.pdf\"),collapse='_'), sep=\"/\")\n",
    "    if (file.exists(fname)) file.remove(fname)\n",
    "    pdf(file = fname, 7, 5)\n",
    "    f_plot_prob_profiles(prof_HMM, res_HMM$resp_profile)\n",
    "    dev.off()\n",
    "    \n",
    "    # plot ground truth estimation of response profiles\n",
    "    fname =  paste(dirname, paste(c(user_info, row$grain, \"ground_truth_response.pdf\"),collapse='_'), sep=\"/\")\n",
    "    if (file.exists(fname)) file.remove(fname)\n",
    "    pdf(file = fname, 7, 4.5)\n",
    "    mar.default <- c(5,4,4,3) + 0.1\n",
    "    par(mar = mar.default + c(0, 1, 0, 0)) \n",
    "    f_plot_response(df_resp, uname=row$name)\n",
    "    dev.off()\n",
    "    \n",
    "    # plot response profiles on same axis (ground truth, HMM)\n",
    "    fname =  paste(dirname, paste(c(user_info, row$grain, \"all_response_profiles.pdf\"),collapse='_'), sep=\"/\")\n",
    "    if (file.exists(fname)) file.remove(fname)\n",
    "    pdf(file = fname, 7, 5)\n",
    "    f_plot_GT_profile(df_orig, df_resp_GTH)\n",
    "    dev.off()\n",
    "    gc()\n",
    "    return(df_resp)\n",
    "}"
   ]
  },
  {
   "cell_type": "code",
   "execution_count": 138,
   "metadata": {
    "collapsed": false
   },
   "outputs": [
    {
     "data": {
      "text/html": [
       "<table>\n",
       "<thead><tr><th></th><th scope=col>UID</th><th scope=col>name</th><th scope=col>grain</th><th scope=col>file_model_decode</th><th scope=col>file_model_interp</th><th scope=col>file_orig</th></tr></thead>\n",
       "<tbody>\n",
       "\t<tr><th scope=row>3</th><td>1105</td><td>Grant</td><td>60min</td><td>/Users/adrianalbert/S3L_server/energy-data/pecan_street/models_2//1105_Grant/60min/1105_Grant_decoded.RData</td><td>/Users/adrianalbert/S3L_server/energy-data/pecan_street/models_2//1105_Grant/60min/1105_Grant_interpreted.RData</td><td>/Users/adrianalbert/S3L_server/energy-data/pecan_street/usage-select//60min/1105.csv</td></tr>\n",
       "</tbody>\n",
       "</table>\n"
      ],
      "text/latex": [
       "\\begin{tabular}{r|llllll}\n",
       "  & UID & name & grain & file_model_decode & file_model_interp & file_orig\\\\\n",
       "\\hline\n",
       "\t3 & 1105 & Grant & 60min & /Users/adrianalbert/S3L_server/energy-data/pecan_street/models_2//1105_Grant/60min/1105_Grant_decoded.RData & /Users/adrianalbert/S3L_server/energy-data/pecan_street/models_2//1105_Grant/60min/1105_Grant_interpreted.RData & /Users/adrianalbert/S3L_server/energy-data/pecan_street/usage-select//60min/1105.csv\\\\\n",
       "\\end{tabular}\n"
      ],
      "text/plain": [
       "   UID  name grain\n",
       "3 1105 Grant 60min\n",
       "                                                                                            file_model_decode\n",
       "3 /Users/adrianalbert/S3L_server/energy-data/pecan_street/models_2//1105_Grant/60min/1105_Grant_decoded.RData\n",
       "                                                                                                file_model_interp\n",
       "3 /Users/adrianalbert/S3L_server/energy-data/pecan_street/models_2//1105_Grant/60min/1105_Grant_interpreted.RData\n",
       "                                                                             file_orig\n",
       "3 /Users/adrianalbert/S3L_server/energy-data/pecan_street/usage-select//60min/1105.csv"
      ]
     },
     "execution_count": 138,
     "metadata": {},
     "output_type": "execute_result"
    }
   ],
   "source": [
    "row"
   ]
  },
  {
   "cell_type": "code",
   "execution_count": 139,
   "metadata": {
    "collapsed": false
   },
   "outputs": [
    {
     "data": {
      "text/html": [
       "<table>\n",
       "<thead><tr><th></th><th scope=col>Temperature</th><th scope=col>fit_HVAC</th><th scope=col>resp_HVAC</th><th scope=col>fit_HV</th><th scope=col>resp_HV</th><th scope=col>fit_AC</th><th scope=col>resp_AC</th></tr></thead>\n",
       "<tbody>\n",
       "\t<tr><th scope=row>1</th><td>1</td><td>0.001324195</td><td>-5.038138e-05</td><td>0.001324195</td><td>-5.038138e-05</td><td>0.001324195</td><td>-5.038138e-05</td></tr>\n",
       "\t<tr><th scope=row>2</th><td>2</td><td>0.001324195</td><td>-5.038138e-05</td><td>0.001324195</td><td>-5.038138e-05</td><td>0.001324195</td><td>-5.038138e-05</td></tr>\n",
       "\t<tr><th scope=row>3</th><td>3</td><td>0.001324195</td><td>-5.038138e-05</td><td>0.001324195</td><td>-5.038138e-05</td><td>0.001324195</td><td>-5.038138e-05</td></tr>\n",
       "\t<tr><th scope=row>4</th><td>4</td><td>0.001324195</td><td>-5.038138e-05</td><td>0.001324195</td><td>-5.038138e-05</td><td>0.001324195</td><td>-5.038138e-05</td></tr>\n",
       "\t<tr><th scope=row>5</th><td>5</td><td>0.001324195</td><td>-5.038138e-05</td><td>0.001324195</td><td>-5.038138e-05</td><td>0.001324195</td><td>-5.038138e-05</td></tr>\n",
       "\t<tr><th scope=row>6</th><td>6</td><td>0.001324195</td><td>-5.038138e-05</td><td>0.001324195</td><td>-5.038138e-05</td><td>0.001324195</td><td>-5.038138e-05</td></tr>\n",
       "</tbody>\n",
       "</table>\n"
      ],
      "text/latex": [
       "\\begin{tabular}{r|lllllll}\n",
       "  & Temperature & fit_HVAC & resp_HVAC & fit_HV & resp_HV & fit_AC & resp_AC\\\\\n",
       "\\hline\n",
       "\t1 & 1 & 0.001324195 & -5.038138e-05 & 0.001324195 & -5.038138e-05 & 0.001324195 & -5.038138e-05\\\\\n",
       "\t2 & 2 & 0.001324195 & -5.038138e-05 & 0.001324195 & -5.038138e-05 & 0.001324195 & -5.038138e-05\\\\\n",
       "\t3 & 3 & 0.001324195 & -5.038138e-05 & 0.001324195 & -5.038138e-05 & 0.001324195 & -5.038138e-05\\\\\n",
       "\t4 & 4 & 0.001324195 & -5.038138e-05 & 0.001324195 & -5.038138e-05 & 0.001324195 & -5.038138e-05\\\\\n",
       "\t5 & 5 & 0.001324195 & -5.038138e-05 & 0.001324195 & -5.038138e-05 & 0.001324195 & -5.038138e-05\\\\\n",
       "\t6 & 6 & 0.001324195 & -5.038138e-05 & 0.001324195 & -5.038138e-05 & 0.001324195 & -5.038138e-05\\\\\n",
       "\\end{tabular}\n"
      ],
      "text/plain": [
       "  Temperature    fit_HVAC     resp_HVAC      fit_HV       resp_HV      fit_AC\n",
       "1           1 0.001324195 -5.038138e-05 0.001324195 -5.038138e-05 0.001324195\n",
       "2           2 0.001324195 -5.038138e-05 0.001324195 -5.038138e-05 0.001324195\n",
       "3           3 0.001324195 -5.038138e-05 0.001324195 -5.038138e-05 0.001324195\n",
       "4           4 0.001324195 -5.038138e-05 0.001324195 -5.038138e-05 0.001324195\n",
       "5           5 0.001324195 -5.038138e-05 0.001324195 -5.038138e-05 0.001324195\n",
       "6           6 0.001324195 -5.038138e-05 0.001324195 -5.038138e-05 0.001324195\n",
       "        resp_AC\n",
       "1 -5.038138e-05\n",
       "2 -5.038138e-05\n",
       "3 -5.038138e-05\n",
       "4 -5.038138e-05\n",
       "5 -5.038138e-05\n",
       "6 -5.038138e-05"
      ]
     },
     "execution_count": 139,
     "metadata": {},
     "output_type": "execute_result"
    }
   ],
   "source": [
    "head(df_resp)"
   ]
  },
  {
   "cell_type": "code",
   "execution_count": 140,
   "metadata": {
    "collapsed": false
   },
   "outputs": [
    {
     "name": "stderr",
     "output_type": "stream",
     "text": [
      "Warning message:\n",
      "In dir.create(dirname, recursive = T): '/Users/adrianalbert/S3L_server/plots/pecan-street-2/1105_Grant' already exists"
     ]
    }
   ],
   "source": [
    "tmp =f_wrapper(row)"
   ]
  },
  {
   "cell_type": "code",
   "execution_count": 141,
   "metadata": {
    "collapsed": false
   },
   "outputs": [
    {
     "data": {
      "text/html": [
       "<table>\n",
       "<thead><tr><th></th><th scope=col>UID</th><th scope=col>name</th><th scope=col>grain</th><th scope=col>file_model_decode</th><th scope=col>file_model_interp</th><th scope=col>file_orig</th></tr></thead>\n",
       "<tbody>\n",
       "\t<tr><th scope=row>41</th><td>2158</td><td>Peter</td><td>60min</td><td>/Users/adrianalbert/S3L_server/energy-data/pecan_street/models_2//2158_Peter/60min/2158_Peter_decoded.RData</td><td>/Users/adrianalbert/S3L_server/energy-data/pecan_street/models_2//2158_Peter/60min/2158_Peter_interpreted.RData</td><td>/Users/adrianalbert/S3L_server/energy-data/pecan_street/usage-select//60min/2158.csv</td></tr>\n",
       "\t<tr><th scope=row>200</th><td>6836</td><td>Nelson</td><td>60min</td><td>/Users/adrianalbert/S3L_server/energy-data/pecan_street/models_2//6836_Nelson/60min/6836_Nelson_decoded.RData</td><td>/Users/adrianalbert/S3L_server/energy-data/pecan_street/models_2//6836_Nelson/60min/6836_Nelson_interpreted.RData</td><td>/Users/adrianalbert/S3L_server/energy-data/pecan_street/usage-select//60min/6836.csv</td></tr>\n",
       "\t<tr><th scope=row>226</th><td>7800</td><td>Jose</td><td>60min</td><td>/Users/adrianalbert/S3L_server/energy-data/pecan_street/models_2//7800_Jose/60min/7800_Jose_decoded.RData</td><td>/Users/adrianalbert/S3L_server/energy-data/pecan_street/models_2//7800_Jose/60min/7800_Jose_interpreted.RData</td><td>/Users/adrianalbert/S3L_server/energy-data/pecan_street/usage-select//60min/7800.csv</td></tr>\n",
       "</tbody>\n",
       "</table>\n"
      ],
      "text/latex": [
       "\\begin{tabular}{r|llllll}\n",
       "  & UID & name & grain & file_model_decode & file_model_interp & file_orig\\\\\n",
       "\\hline\n",
       "\t41 & 2158 & Peter & 60min & /Users/adrianalbert/S3L_server/energy-data/pecan_street/models_2//2158_Peter/60min/2158_Peter_decoded.RData & /Users/adrianalbert/S3L_server/energy-data/pecan_street/models_2//2158_Peter/60min/2158_Peter_interpreted.RData & /Users/adrianalbert/S3L_server/energy-data/pecan_street/usage-select//60min/2158.csv\\\\\n",
       "\t200 & 6836 & Nelson & 60min & /Users/adrianalbert/S3L_server/energy-data/pecan_street/models_2//6836_Nelson/60min/6836_Nelson_decoded.RData & /Users/adrianalbert/S3L_server/energy-data/pecan_street/models_2//6836_Nelson/60min/6836_Nelson_interpreted.RData & /Users/adrianalbert/S3L_server/energy-data/pecan_street/usage-select//60min/6836.csv\\\\\n",
       "\t226 & 7800 & Jose & 60min & /Users/adrianalbert/S3L_server/energy-data/pecan_street/models_2//7800_Jose/60min/7800_Jose_decoded.RData & /Users/adrianalbert/S3L_server/energy-data/pecan_street/models_2//7800_Jose/60min/7800_Jose_interpreted.RData & /Users/adrianalbert/S3L_server/energy-data/pecan_street/usage-select//60min/7800.csv\\\\\n",
       "\\end{tabular}\n"
      ],
      "text/plain": [
       "     UID   name grain\n",
       "41  2158  Peter 60min\n",
       "200 6836 Nelson 60min\n",
       "226 7800   Jose 60min\n",
       "                                                                                                file_model_decode\n",
       "41    /Users/adrianalbert/S3L_server/energy-data/pecan_street/models_2//2158_Peter/60min/2158_Peter_decoded.RData\n",
       "200 /Users/adrianalbert/S3L_server/energy-data/pecan_street/models_2//6836_Nelson/60min/6836_Nelson_decoded.RData\n",
       "226     /Users/adrianalbert/S3L_server/energy-data/pecan_street/models_2//7800_Jose/60min/7800_Jose_decoded.RData\n",
       "                                                                                                    file_model_interp\n",
       "41    /Users/adrianalbert/S3L_server/energy-data/pecan_street/models_2//2158_Peter/60min/2158_Peter_interpreted.RData\n",
       "200 /Users/adrianalbert/S3L_server/energy-data/pecan_street/models_2//6836_Nelson/60min/6836_Nelson_interpreted.RData\n",
       "226     /Users/adrianalbert/S3L_server/energy-data/pecan_street/models_2//7800_Jose/60min/7800_Jose_interpreted.RData\n",
       "                                                                               file_orig\n",
       "41  /Users/adrianalbert/S3L_server/energy-data/pecan_street/usage-select//60min/2158.csv\n",
       "200 /Users/adrianalbert/S3L_server/energy-data/pecan_street/usage-select//60min/6836.csv\n",
       "226 /Users/adrianalbert/S3L_server/energy-data/pecan_street/usage-select//60min/7800.csv"
      ]
     },
     "execution_count": 141,
     "metadata": {},
     "output_type": "execute_result"
    }
   ],
   "source": [
    "info_files[info_files$name%in% c('Nelson', 'Jose', 'Peter'),]"
   ]
  },
  {
   "cell_type": "code",
   "execution_count": 142,
   "metadata": {
    "collapsed": false,
    "scrolled": true
   },
   "outputs": [
    {
     "name": "stdout",
     "output_type": "stream",
     "text": [
      "[1] \"Processing file 1 of 301 : 1069\"\n"
     ]
    },
    {
     "name": "stderr",
     "output_type": "stream",
     "text": [
      "Warning message:\n",
      "In dir.create(dirname, recursive = T): '/Users/adrianalbert/S3L_server/plots/pecan-street-2/1069_Edd' already exists"
     ]
    },
    {
     "name": "stdout",
     "output_type": "stream",
     "text": [
      "[1] \"Processing file 2 of 301 : 1086\"\n"
     ]
    },
    {
     "name": "stderr",
     "output_type": "stream",
     "text": [
      "Warning message:\n",
      "In dir.create(dirname, recursive = T): '/Users/adrianalbert/S3L_server/plots/pecan-street-2/1086_Emery' already existsWarning message:\n",
      "In brewer.pal(nStates, \"Dark2\"): minimal value for n is 3, returning requested palette with 3 different levels\n"
     ]
    },
    {
     "name": "stdout",
     "output_type": "stream",
     "text": [
      "[1] \"Processing file 3 of 301 : 1105\"\n"
     ]
    },
    {
     "name": "stderr",
     "output_type": "stream",
     "text": [
      "Warning message:\n",
      "In dir.create(dirname, recursive = T): '/Users/adrianalbert/S3L_server/plots/pecan-street-2/1105_Grant' already exists"
     ]
    },
    {
     "name": "stdout",
     "output_type": "stream",
     "text": [
      "[1] \"Processing file 4 of 301 : 114\"\n"
     ]
    },
    {
     "name": "stderr",
     "output_type": "stream",
     "text": [
      "Warning message:\n",
      "In dir.create(dirname, recursive = T): '/Users/adrianalbert/S3L_server/plots/pecan-street-2/114_James' already exists"
     ]
    },
    {
     "name": "stdout",
     "output_type": "stream",
     "text": [
      "[1] \"Processing file 5 of 301 : 1167\"\n"
     ]
    },
    {
     "name": "stderr",
     "output_type": "stream",
     "text": [
      "Warning message:\n",
      "In dir.create(dirname, recursive = T): '/Users/adrianalbert/S3L_server/plots/pecan-street-2/1167_Jerome' already existsWarning message:\n",
      "In brewer.pal(nStates, \"Dark2\"): minimal value for n is 3, returning requested palette with 3 different levels\n"
     ]
    },
    {
     "name": "stdout",
     "output_type": "stream",
     "text": [
      "[1] \"Processing file 6 of 301 : 1169\"\n"
     ]
    },
    {
     "name": "stderr",
     "output_type": "stream",
     "text": [
      "Warning message:\n",
      "In dir.create(dirname, recursive = T): '/Users/adrianalbert/S3L_server/plots/pecan-street-2/1169_George' already exists"
     ]
    },
    {
     "name": "stdout",
     "output_type": "stream",
     "text": [
      "[1] \"Processing file 7 of 301 : 1185\"\n"
     ]
    },
    {
     "name": "stderr",
     "output_type": "stream",
     "text": [
      "Warning message:\n",
      "In dir.create(dirname, recursive = T): '/Users/adrianalbert/S3L_server/plots/pecan-street-2/1185_Frank' already exists"
     ]
    },
    {
     "name": "stdout",
     "output_type": "stream",
     "text": [
      "[1] \"Processing file 8 of 301 : 1283\"\n"
     ]
    },
    {
     "name": "stderr",
     "output_type": "stream",
     "text": [
      "Warning message:\n",
      "In dir.create(dirname, recursive = T): '/Users/adrianalbert/S3L_server/plots/pecan-street-2/1283_Thomas' already existsWarning message:\n",
      "In brewer.pal(nStates, \"Dark2\"): minimal value for n is 3, returning requested palette with 3 different levels\n"
     ]
    },
    {
     "name": "stdout",
     "output_type": "stream",
     "text": [
      "[1] \"Processing file 9 of 301 : 1331\"\n"
     ]
    },
    {
     "name": "stderr",
     "output_type": "stream",
     "text": [
      "Warning message:\n",
      "In dir.create(dirname, recursive = T): '/Users/adrianalbert/S3L_server/plots/pecan-street-2/1331_Max' already exists"
     ]
    },
    {
     "name": "stdout",
     "output_type": "stream",
     "text": [
      "[1] \"Processing file 10 of 301 : 1334\"\n"
     ]
    },
    {
     "name": "stderr",
     "output_type": "stream",
     "text": [
      "Warning message:\n",
      "In dir.create(dirname, recursive = T): '/Users/adrianalbert/S3L_server/plots/pecan-street-2/1334_Henry' already exists"
     ]
    },
    {
     "name": "stdout",
     "output_type": "stream",
     "text": [
      "[1] \"Processing file 11 of 301 : 135\"\n"
     ]
    },
    {
     "name": "stderr",
     "output_type": "stream",
     "text": [
      "Warning message:\n",
      "In dir.create(dirname, recursive = T): '/Users/adrianalbert/S3L_server/plots/pecan-street-2/135_Mose' already exists"
     ]
    },
    {
     "name": "stdout",
     "output_type": "stream",
     "text": [
      "[1] \"Processing file 12 of 301 : 1392\"\n"
     ]
    },
    {
     "name": "stderr",
     "output_type": "stream",
     "text": [
      "Warning message:\n",
      "In dir.create(dirname, recursive = T): '/Users/adrianalbert/S3L_server/plots/pecan-street-2/1392_Steve' already exists"
     ]
    },
    {
     "name": "stdout",
     "output_type": "stream",
     "text": [
      "[1] \"Processing file 13 of 301 : 1450\"\n"
     ]
    },
    {
     "name": "stderr",
     "output_type": "stream",
     "text": [
      "Warning message:\n",
      "In dir.create(dirname, recursive = T): '/Users/adrianalbert/S3L_server/plots/pecan-street-2/1450_Gordon' already existsWarning message:\n",
      "In brewer.pal(nStates, \"Dark2\"): minimal value for n is 3, returning requested palette with 3 different levels\n"
     ]
    },
    {
     "name": "stdout",
     "output_type": "stream",
     "text": [
      "[1] \"Processing file 14 of 301 : 1464\"\n"
     ]
    },
    {
     "name": "stderr",
     "output_type": "stream",
     "text": [
      "Warning message:\n",
      "In dir.create(dirname, recursive = T): '/Users/adrianalbert/S3L_server/plots/pecan-street-2/1464_Robert' already existsWarning message:\n",
      "In brewer.pal(nStates, \"Dark2\"): minimal value for n is 3, returning requested palette with 3 different levels\n"
     ]
    },
    {
     "name": "stdout",
     "output_type": "stream",
     "text": [
      "[1] \"Processing file 15 of 301 : 1500\"\n"
     ]
    },
    {
     "name": "stderr",
     "output_type": "stream",
     "text": [
      "Warning message:\n",
      "In dir.create(dirname, recursive = T): '/Users/adrianalbert/S3L_server/plots/pecan-street-2/1500_Pete' already exists"
     ]
    },
    {
     "name": "stdout",
     "output_type": "stream",
     "text": [
      "[1] \"Processing file 16 of 301 : 1507\"\n"
     ]
    },
    {
     "name": "stderr",
     "output_type": "stream",
     "text": [
      "Warning message:\n",
      "In dir.create(dirname, recursive = T): '/Users/adrianalbert/S3L_server/plots/pecan-street-2/1507_Chris' already exists"
     ]
    },
    {
     "name": "stdout",
     "output_type": "stream",
     "text": [
      "[1] \"Processing file 17 of 301 : 1577\"\n"
     ]
    },
    {
     "name": "stderr",
     "output_type": "stream",
     "text": [
      "Warning message:\n",
      "In dir.create(dirname, recursive = T): '/Users/adrianalbert/S3L_server/plots/pecan-street-2/1577_Clark' already exists"
     ]
    },
    {
     "name": "stdout",
     "output_type": "stream",
     "text": [
      "[1] \"Processing file 18 of 301 : 160\"\n"
     ]
    },
    {
     "name": "stderr",
     "output_type": "stream",
     "text": [
      "Warning message:\n",
      "In dir.create(dirname, recursive = T): '/Users/adrianalbert/S3L_server/plots/pecan-street-2/160_Gustave' already exists"
     ]
    },
    {
     "name": "stdout",
     "output_type": "stream",
     "text": [
      "[1] \"Processing file 19 of 301 : 1617\"\n"
     ]
    },
    {
     "name": "stderr",
     "output_type": "stream",
     "text": [
      "Warning message:\n",
      "In dir.create(dirname, recursive = T): '/Users/adrianalbert/S3L_server/plots/pecan-street-2/1617_Orville' already exists"
     ]
    },
    {
     "name": "stdout",
     "output_type": "stream",
     "text": [
      "[1] \"Processing file 20 of 301 : 1629\"\n"
     ]
    },
    {
     "name": "stderr",
     "output_type": "stream",
     "text": [
      "Warning message:\n",
      "In dir.create(dirname, recursive = T): '/Users/adrianalbert/S3L_server/plots/pecan-street-2/1629_Lorenzo' already exists"
     ]
    },
    {
     "name": "stdout",
     "output_type": "stream",
     "text": [
      "[1] \"Processing file 21 of 301 : 1632\"\n"
     ]
    },
    {
     "name": "stderr",
     "output_type": "stream",
     "text": [
      "Warning message:\n",
      "In dir.create(dirname, recursive = T): '/Users/adrianalbert/S3L_server/plots/pecan-street-2/1632_Bruce' already exists"
     ]
    },
    {
     "name": "stdout",
     "output_type": "stream",
     "text": [
      "[1] \"Processing file 22 of 301 : 1642\"\n"
     ]
    },
    {
     "name": "stderr",
     "output_type": "stream",
     "text": [
      "Warning message:\n",
      "In dir.create(dirname, recursive = T): '/Users/adrianalbert/S3L_server/plots/pecan-street-2/1642_Walter' already exists"
     ]
    },
    {
     "name": "stdout",
     "output_type": "stream",
     "text": [
      "[1] \"Processing file 23 of 301 : 1681\"\n"
     ]
    },
    {
     "name": "stderr",
     "output_type": "stream",
     "text": [
      "Warning message:\n",
      "In dir.create(dirname, recursive = T): '/Users/adrianalbert/S3L_server/plots/pecan-street-2/1681_Marcus' already exists"
     ]
    },
    {
     "name": "stdout",
     "output_type": "stream",
     "text": [
      "[1] \"Processing file 24 of 301 : 1696\"\n"
     ]
    },
    {
     "name": "stderr",
     "output_type": "stream",
     "text": [
      "Warning message:\n",
      "In dir.create(dirname, recursive = T): '/Users/adrianalbert/S3L_server/plots/pecan-street-2/1696_Preston' already exists"
     ]
    },
    {
     "name": "stdout",
     "output_type": "stream",
     "text": [
      "[1] \"Processing file 25 of 301 : 1697\"\n"
     ]
    },
    {
     "name": "stderr",
     "output_type": "stream",
     "text": [
      "Warning message:\n",
      "In dir.create(dirname, recursive = T): '/Users/adrianalbert/S3L_server/plots/pecan-street-2/1697_Arthur' already existsWarning message:\n",
      "In brewer.pal(nStates, \"Dark2\"): minimal value for n is 3, returning requested palette with 3 different levels\n"
     ]
    },
    {
     "name": "stdout",
     "output_type": "stream",
     "text": [
      "[1] \"Processing file 26 of 301 : 1714\"\n"
     ]
    },
    {
     "name": "stderr",
     "output_type": "stream",
     "text": [
      "Warning message:\n",
      "In dir.create(dirname, recursive = T): '/Users/adrianalbert/S3L_server/plots/pecan-street-2/1714_Albert' already exists"
     ]
    },
    {
     "name": "stdout",
     "output_type": "stream",
     "text": [
      "[1] \"Processing file 27 of 301 : 1718\"\n"
     ]
    },
    {
     "name": "stderr",
     "output_type": "stream",
     "text": [
      "Warning message:\n",
      "In dir.create(dirname, recursive = T): '/Users/adrianalbert/S3L_server/plots/pecan-street-2/1718_Samuel' already existsWarning message:\n",
      "In brewer.pal(nStates, \"Dark2\"): minimal value for n is 3, returning requested palette with 3 different levels\n"
     ]
    },
    {
     "name": "stdout",
     "output_type": "stream",
     "text": [
      "[1] \"Processing file 28 of 301 : 1790\"\n"
     ]
    },
    {
     "name": "stderr",
     "output_type": "stream",
     "text": [
      "Warning message:\n",
      "In dir.create(dirname, recursive = T): '/Users/adrianalbert/S3L_server/plots/pecan-street-2/1790_Louis' already existsWarning message:\n",
      "In brewer.pal(nStates, \"Dark2\"): minimal value for n is 3, returning requested palette with 3 different levels\n"
     ]
    },
    {
     "name": "stdout",
     "output_type": "stream",
     "text": [
      "[1] \"Processing file 29 of 301 : 1830\"\n"
     ]
    },
    {
     "name": "stderr",
     "output_type": "stream",
     "text": [
      "Warning message:\n",
      "In dir.create(dirname, recursive = T): '/Users/adrianalbert/S3L_server/plots/pecan-street-2/1830_Donald' already existsWarning message:\n",
      "In brewer.pal(nStates, \"Dark2\"): minimal value for n is 3, returning requested palette with 3 different levels\n"
     ]
    },
    {
     "name": "stdout",
     "output_type": "stream",
     "text": [
      "[1] \"Processing file 30 of 301 : 1854\"\n"
     ]
    },
    {
     "name": "stderr",
     "output_type": "stream",
     "text": [
      "Warning message:\n",
      "In dir.create(dirname, recursive = T): '/Users/adrianalbert/S3L_server/plots/pecan-street-2/1854_Jackson' already exists"
     ]
    },
    {
     "name": "stdout",
     "output_type": "stream",
     "text": [
      "[1] \"Processing file 31 of 301 : 1947\"\n"
     ]
    },
    {
     "name": "stderr",
     "output_type": "stream",
     "text": [
      "Warning message:\n",
      "In dir.create(dirname, recursive = T): '/Users/adrianalbert/S3L_server/plots/pecan-street-2/1947_Cecil' already existsWarning message:\n",
      "In brewer.pal(nStates, \"Dark2\"): minimal value for n is 3, returning requested palette with 3 different levels\n"
     ]
    },
    {
     "name": "stdout",
     "output_type": "stream",
     "text": [
      "[1] \"Processing file 32 of 301 : 1953\"\n"
     ]
    },
    {
     "name": "stderr",
     "output_type": "stream",
     "text": [
      "Warning message:\n",
      "In dir.create(dirname, recursive = T): '/Users/adrianalbert/S3L_server/plots/pecan-street-2/1953_Daniel' already exists"
     ]
    },
    {
     "name": "stdout",
     "output_type": "stream",
     "text": [
      "[1] \"Processing file 33 of 301 : 1994\"\n"
     ]
    },
    {
     "name": "stderr",
     "output_type": "stream",
     "text": [
      "Warning message:\n",
      "In dir.create(dirname, recursive = T): '/Users/adrianalbert/S3L_server/plots/pecan-street-2/1994_Barney' already exists"
     ]
    },
    {
     "name": "stdout",
     "output_type": "stream",
     "text": [
      "[1] \"Processing file 34 of 301 : 2004\"\n"
     ]
    },
    {
     "name": "stderr",
     "output_type": "stream",
     "text": [
      "Warning message:\n",
      "In dir.create(dirname, recursive = T): '/Users/adrianalbert/S3L_server/plots/pecan-street-2/2004_Delbert' already exists"
     ]
    },
    {
     "name": "stdout",
     "output_type": "stream",
     "text": [
      "[1] \"Processing file 35 of 301 : 2018\"\n"
     ]
    },
    {
     "name": "stderr",
     "output_type": "stream",
     "text": [
      "Warning message:\n",
      "In dir.create(dirname, recursive = T): '/Users/adrianalbert/S3L_server/plots/pecan-street-2/2018_Edmond' already exists"
     ]
    },
    {
     "name": "stdout",
     "output_type": "stream",
     "text": [
      "[1] \"Processing file 36 of 301 : 2034\"\n"
     ]
    },
    {
     "name": "stderr",
     "output_type": "stream",
     "text": [
      "Warning message:\n",
      "In dir.create(dirname, recursive = T): '/Users/adrianalbert/S3L_server/plots/pecan-street-2/2034_Anderson' already exists"
     ]
    },
    {
     "name": "stdout",
     "output_type": "stream",
     "text": [
      "[1] \"Processing file 37 of 301 : 2062\"\n"
     ]
    },
    {
     "name": "stderr",
     "output_type": "stream",
     "text": [
      "Warning message:\n",
      "In dir.create(dirname, recursive = T): '/Users/adrianalbert/S3L_server/plots/pecan-street-2/2062_Ernest' already existsWarning message:\n",
      "In brewer.pal(nStates, \"Dark2\"): minimal value for n is 3, returning requested palette with 3 different levels\n"
     ]
    },
    {
     "name": "stdout",
     "output_type": "stream",
     "text": [
      "[1] \"Processing file 38 of 301 : 2094\"\n"
     ]
    },
    {
     "name": "stderr",
     "output_type": "stream",
     "text": [
      "Warning message:\n",
      "In dir.create(dirname, recursive = T): '/Users/adrianalbert/S3L_server/plots/pecan-street-2/2094_Jesse' already exists"
     ]
    },
    {
     "name": "stdout",
     "output_type": "stream",
     "text": [
      "[1] \"Processing file 39 of 301 : 2129\"\n"
     ]
    },
    {
     "name": "stderr",
     "output_type": "stream",
     "text": [
      "Warning message:\n",
      "In dir.create(dirname, recursive = T): '/Users/adrianalbert/S3L_server/plots/pecan-street-2/2129_Oscar' already exists"
     ]
    },
    {
     "name": "stdout",
     "output_type": "stream",
     "text": [
      "[1] \"Processing file 40 of 301 : 2156\"\n"
     ]
    },
    {
     "name": "stderr",
     "output_type": "stream",
     "text": [
      "Warning message:\n",
      "In dir.create(dirname, recursive = T): '/Users/adrianalbert/S3L_server/plots/pecan-street-2/2156_Lewis' already exists"
     ]
    },
    {
     "name": "stdout",
     "output_type": "stream",
     "text": [
      "[1] \"Processing file 41 of 301 : 2158\"\n"
     ]
    },
    {
     "name": "stderr",
     "output_type": "stream",
     "text": [
      "Warning message:\n",
      "In dir.create(dirname, recursive = T): '/Users/adrianalbert/S3L_server/plots/pecan-street-2/2158_Peter' already exists"
     ]
    },
    {
     "name": "stdout",
     "output_type": "stream",
     "text": [
      "[1] \"Processing file 42 of 301 : 2171\"\n"
     ]
    },
    {
     "name": "stderr",
     "output_type": "stream",
     "text": [
      "Warning message:\n",
      "In dir.create(dirname, recursive = T): '/Users/adrianalbert/S3L_server/plots/pecan-street-2/2171_Benjamin' already exists"
     ]
    },
    {
     "name": "stdout",
     "output_type": "stream",
     "text": [
      "[1] \"Processing file 43 of 301 : 2199\"\n"
     ]
    },
    {
     "name": "stderr",
     "output_type": "stream",
     "text": [
      "Warning message:\n",
      "In dir.create(dirname, recursive = T): '/Users/adrianalbert/S3L_server/plots/pecan-street-2/2199_Frederick' already exists"
     ]
    },
    {
     "name": "stdout",
     "output_type": "stream",
     "text": [
      "[1] \"Processing file 44 of 301 : 2247\"\n"
     ]
    },
    {
     "name": "stderr",
     "output_type": "stream",
     "text": [
      "Warning message:\n",
      "In dir.create(dirname, recursive = T): '/Users/adrianalbert/S3L_server/plots/pecan-street-2/2247_Jefferson' already exists"
     ]
    },
    {
     "name": "stdout",
     "output_type": "stream",
     "text": [
      "[1] \"Processing file 45 of 301 : 2360\"\n"
     ]
    },
    {
     "name": "stderr",
     "output_type": "stream",
     "text": [
      "Warning message:\n",
      "In dir.create(dirname, recursive = T): '/Users/adrianalbert/S3L_server/plots/pecan-street-2/2360_Luke' already exists"
     ]
    },
    {
     "name": "stdout",
     "output_type": "stream",
     "text": [
      "[1] \"Processing file 46 of 301 : 2365\"\n"
     ]
    },
    {
     "name": "stderr",
     "output_type": "stream",
     "text": [
      "Warning message:\n",
      "In dir.create(dirname, recursive = T): '/Users/adrianalbert/S3L_server/plots/pecan-street-2/2365_Neal' already exists"
     ]
    },
    {
     "name": "stdout",
     "output_type": "stream",
     "text": [
      "[1] \"Processing file 47 of 301 : 2378\"\n"
     ]
    },
    {
     "name": "stderr",
     "output_type": "stream",
     "text": [
      "Warning message:\n",
      "In dir.create(dirname, recursive = T): '/Users/adrianalbert/S3L_server/plots/pecan-street-2/2378_Burt' already exists"
     ]
    },
    {
     "name": "stdout",
     "output_type": "stream",
     "text": [
      "[1] \"Processing file 48 of 301 : 2470\"\n"
     ]
    },
    {
     "name": "stderr",
     "output_type": "stream",
     "text": [
      "Warning message:\n",
      "In dir.create(dirname, recursive = T): '/Users/adrianalbert/S3L_server/plots/pecan-street-2/2470_Jacob' already exists"
     ]
    },
    {
     "name": "stdout",
     "output_type": "stream",
     "text": [
      "[1] \"Processing file 49 of 301 : 2575\"\n"
     ]
    },
    {
     "name": "stderr",
     "output_type": "stream",
     "text": [
      "Warning message:\n",
      "In dir.create(dirname, recursive = T): '/Users/adrianalbert/S3L_server/plots/pecan-street-2/2575_Elmer' already exists"
     ]
    },
    {
     "name": "stdout",
     "output_type": "stream",
     "text": [
      "[1] \"Processing file 50 of 301 : 26\"\n"
     ]
    },
    {
     "name": "stderr",
     "output_type": "stream",
     "text": [
      "Warning message:\n",
      "In dir.create(dirname, recursive = T): '/Users/adrianalbert/S3L_server/plots/pecan-street-2/26_Carl' already exists"
     ]
    },
    {
     "name": "stdout",
     "output_type": "stream",
     "text": [
      "[1] \"Processing file 51 of 301 : 2606\"\n"
     ]
    },
    {
     "name": "stderr",
     "output_type": "stream",
     "text": [
      "Warning message:\n",
      "In dir.create(dirname, recursive = T): '/Users/adrianalbert/S3L_server/plots/pecan-street-2/2606_Tony' already exists"
     ]
    },
    {
     "name": "stdout",
     "output_type": "stream",
     "text": [
      "[1] \"Processing file 52 of 301 : 2638\"\n"
     ]
    },
    {
     "name": "stderr",
     "output_type": "stream",
     "text": [
      "Warning message:\n",
      "In dir.create(dirname, recursive = T): '/Users/adrianalbert/S3L_server/plots/pecan-street-2/2638_Lee' already existsWarning message:\n",
      "In brewer.pal(nStates, \"Dark2\"): minimal value for n is 3, returning requested palette with 3 different levels\n"
     ]
    },
    {
     "name": "stdout",
     "output_type": "stream",
     "text": [
      "[1] \"Processing file 53 of 301 : 2641\"\n"
     ]
    },
    {
     "name": "stderr",
     "output_type": "stream",
     "text": [
      "Warning message:\n",
      "In dir.create(dirname, recursive = T): '/Users/adrianalbert/S3L_server/plots/pecan-street-2/2641_Conrad' already exists"
     ]
    },
    {
     "name": "stdout",
     "output_type": "stream",
     "text": [
      "[1] \"Processing file 54 of 301 : 275\"\n"
     ]
    },
    {
     "name": "stderr",
     "output_type": "stream",
     "text": [
      "Warning message:\n",
      "In dir.create(dirname, recursive = T): '/Users/adrianalbert/S3L_server/plots/pecan-street-2/275_Matt' already existsWarning message:\n",
      "In brewer.pal(nStates, \"Dark2\"): minimal value for n is 3, returning requested palette with 3 different levels\n"
     ]
    },
    {
     "name": "stdout",
     "output_type": "stream",
     "text": [
      "[1] \"Processing file 55 of 301 : 2769\"\n"
     ]
    },
    {
     "name": "stderr",
     "output_type": "stream",
     "text": [
      "Warning message:\n",
      "In dir.create(dirname, recursive = T): '/Users/adrianalbert/S3L_server/plots/pecan-street-2/2769_Riley' already exists"
     ]
    },
    {
     "name": "stdout",
     "output_type": "stream",
     "text": [
      "[1] \"Processing file 56 of 301 : 2787\"\n"
     ]
    },
    {
     "name": "stderr",
     "output_type": "stream",
     "text": [
      "Warning message:\n",
      "In dir.create(dirname, recursive = T): '/Users/adrianalbert/S3L_server/plots/pecan-street-2/2787_Vincent' already exists"
     ]
    },
    {
     "name": "stdout",
     "output_type": "stream",
     "text": [
      "[1] \"Processing file 57 of 301 : 280\"\n"
     ]
    },
    {
     "name": "stderr",
     "output_type": "stream",
     "text": [
      "Warning message:\n",
      "In dir.create(dirname, recursive = T): '/Users/adrianalbert/S3L_server/plots/pecan-street-2/280_Emory' already exists"
     ]
    },
    {
     "name": "stdout",
     "output_type": "stream",
     "text": [
      "[1] \"Processing file 58 of 301 : 2814\"\n"
     ]
    },
    {
     "name": "stderr",
     "output_type": "stream",
     "text": [
      "Warning message:\n",
      "In dir.create(dirname, recursive = T): '/Users/adrianalbert/S3L_server/plots/pecan-street-2/2814_Martin' already exists"
     ]
    },
    {
     "name": "stdout",
     "output_type": "stream",
     "text": [
      "[1] \"Processing file 59 of 301 : 2818\"\n"
     ]
    },
    {
     "name": "stderr",
     "output_type": "stream",
     "text": [
      "Warning message:\n",
      "In dir.create(dirname, recursive = T): '/Users/adrianalbert/S3L_server/plots/pecan-street-2/2818_Michael' already exists"
     ]
    },
    {
     "name": "stdout",
     "output_type": "stream",
     "text": [
      "[1] \"Processing file 60 of 301 : 2829\"\n"
     ]
    },
    {
     "name": "stderr",
     "output_type": "stream",
     "text": [
      "Warning message:\n",
      "In dir.create(dirname, recursive = T): '/Users/adrianalbert/S3L_server/plots/pecan-street-2/2829_Bert' already exists"
     ]
    },
    {
     "name": "stdout",
     "output_type": "stream",
     "text": [
      "[1] \"Processing file 61 of 301 : 2845\"\n"
     ]
    },
    {
     "name": "stderr",
     "output_type": "stream",
     "text": [
      "Warning message:\n",
      "In dir.create(dirname, recursive = T): '/Users/adrianalbert/S3L_server/plots/pecan-street-2/2845_Nick' already exists"
     ]
    },
    {
     "name": "stdout",
     "output_type": "stream",
     "text": [
      "[1] \"Processing file 62 of 301 : 2864\"\n"
     ]
    },
    {
     "name": "stderr",
     "output_type": "stream",
     "text": [
      "Warning message:\n",
      "In dir.create(dirname, recursive = T): '/Users/adrianalbert/S3L_server/plots/pecan-street-2/2864_Herman' already existsWarning message:\n",
      "In brewer.pal(nStates, \"Dark2\"): minimal value for n is 3, returning requested palette with 3 different levels\n"
     ]
    },
    {
     "name": "stdout",
     "output_type": "stream",
     "text": [
      "[1] \"Processing file 63 of 301 : 2945\"\n"
     ]
    },
    {
     "name": "stderr",
     "output_type": "stream",
     "text": [
      "Warning message:\n",
      "In dir.create(dirname, recursive = T): '/Users/adrianalbert/S3L_server/plots/pecan-street-2/2945_Francis' already exists"
     ]
    },
    {
     "name": "stdout",
     "output_type": "stream",
     "text": [
      "[1] \"Processing file 64 of 301 : 2953\"\n"
     ]
    },
    {
     "name": "stderr",
     "output_type": "stream",
     "text": [
      "Warning message:\n",
      "In dir.create(dirname, recursive = T): '/Users/adrianalbert/S3L_server/plots/pecan-street-2/2953_Ezra' already exists"
     ]
    },
    {
     "name": "stdout",
     "output_type": "stream",
     "text": [
      "[1] \"Processing file 65 of 301 : 2965\"\n"
     ]
    },
    {
     "name": "stderr",
     "output_type": "stream",
     "text": [
      "Warning message:\n",
      "In dir.create(dirname, recursive = T): '/Users/adrianalbert/S3L_server/plots/pecan-street-2/2965_Harvey' already exists"
     ]
    },
    {
     "name": "stdout",
     "output_type": "stream",
     "text": [
      "[1] \"Processing file 66 of 301 : 297\"\n"
     ]
    },
    {
     "name": "stderr",
     "output_type": "stream",
     "text": [
      "Warning message:\n",
      "In dir.create(dirname, recursive = T): '/Users/adrianalbert/S3L_server/plots/pecan-street-2/297_Green' already exists"
     ]
    },
    {
     "name": "stdout",
     "output_type": "stream",
     "text": [
      "[1] \"Processing file 67 of 301 : 2995\"\n"
     ]
    },
    {
     "name": "stderr",
     "output_type": "stream",
     "text": [
      "Warning message:\n",
      "In dir.create(dirname, recursive = T): '/Users/adrianalbert/S3L_server/plots/pecan-street-2/2995_Juan' already exists"
     ]
    },
    {
     "name": "stdout",
     "output_type": "stream",
     "text": [
      "[1] \"Processing file 68 of 301 : 3032\"\n"
     ]
    },
    {
     "name": "stderr",
     "output_type": "stream",
     "text": [
      "Warning message:\n",
      "In dir.create(dirname, recursive = T): '/Users/adrianalbert/S3L_server/plots/pecan-street-2/3032_Clifton' already exists"
     ]
    },
    {
     "name": "stdout",
     "output_type": "stream",
     "text": [
      "[1] \"Processing file 69 of 301 : 3036\"\n"
     ]
    },
    {
     "name": "stderr",
     "output_type": "stream",
     "text": [
      "Warning message:\n",
      "In dir.create(dirname, recursive = T): '/Users/adrianalbert/S3L_server/plots/pecan-street-2/3036_Ed' already exists"
     ]
    },
    {
     "name": "stdout",
     "output_type": "stream",
     "text": [
      "[1] \"Processing file 70 of 301 : 3039\"\n"
     ]
    },
    {
     "name": "stderr",
     "output_type": "stream",
     "text": [
      "Warning message:\n",
      "In dir.create(dirname, recursive = T): '/Users/adrianalbert/S3L_server/plots/pecan-street-2/3039_Claude' already existsWarning message:\n",
      "In brewer.pal(nStates, \"Dark2\"): minimal value for n is 3, returning requested palette with 3 different levels\n"
     ]
    },
    {
     "name": "stdout",
     "output_type": "stream",
     "text": [
      "[1] \"Processing file 71 of 301 : 3044\"\n"
     ]
    },
    {
     "name": "stderr",
     "output_type": "stream",
     "text": [
      "Warning message:\n",
      "In dir.create(dirname, recursive = T): '/Users/adrianalbert/S3L_server/plots/pecan-street-2/3044_Lucius' already existsWarning message:\n",
      "In brewer.pal(nStates, \"Dark2\"): minimal value for n is 3, returning requested palette with 3 different levels\n"
     ]
    },
    {
     "name": "stdout",
     "output_type": "stream",
     "text": [
      "[1] \"Processing file 72 of 301 : 3087\"\n"
     ]
    },
    {
     "name": "stderr",
     "output_type": "stream",
     "text": [
      "Warning message:\n",
      "In dir.create(dirname, recursive = T): '/Users/adrianalbert/S3L_server/plots/pecan-street-2/3087_Porter' already exists"
     ]
    },
    {
     "name": "stdout",
     "output_type": "stream",
     "text": [
      "[1] \"Processing file 73 of 301 : 3092\"\n"
     ]
    },
    {
     "name": "stderr",
     "output_type": "stream",
     "text": [
      "Warning message:\n",
      "In dir.create(dirname, recursive = T): '/Users/adrianalbert/S3L_server/plots/pecan-street-2/3092_Arnold' already existsWarning message:\n",
      "In brewer.pal(nStates, \"Dark2\"): minimal value for n is 3, returning requested palette with 3 different levels\n"
     ]
    },
    {
     "name": "stdout",
     "output_type": "stream",
     "text": [
      "[1] \"Processing file 74 of 301 : 3192\"\n"
     ]
    },
    {
     "name": "stderr",
     "output_type": "stream",
     "text": [
      "Warning message:\n",
      "In dir.create(dirname, recursive = T): '/Users/adrianalbert/S3L_server/plots/pecan-street-2/3192_Ben' already exists"
     ]
    },
    {
     "name": "stdout",
     "output_type": "stream",
     "text": [
      "[1] \"Processing file 75 of 301 : 3221\"\n"
     ]
    },
    {
     "name": "stderr",
     "output_type": "stream",
     "text": [
      "Warning message:\n",
      "In dir.create(dirname, recursive = T): '/Users/adrianalbert/S3L_server/plots/pecan-street-2/3221_Bud' already existsWarning message:\n",
      "In brewer.pal(nStates, \"Dark2\"): minimal value for n is 3, returning requested palette with 3 different levels\n"
     ]
    },
    {
     "name": "stdout",
     "output_type": "stream",
     "text": [
      "[1] \"Processing file 76 of 301 : 3263\"\n"
     ]
    },
    {
     "name": "stderr",
     "output_type": "stream",
     "text": [
      "Warning message:\n",
      "In dir.create(dirname, recursive = T): '/Users/adrianalbert/S3L_server/plots/pecan-street-2/3263_Jeremiah' already exists"
     ]
    },
    {
     "name": "stdout",
     "output_type": "stream",
     "text": [
      "[1] \"Processing file 77 of 301 : 3273\"\n"
     ]
    },
    {
     "name": "stderr",
     "output_type": "stream",
     "text": [
      "Warning message:\n",
      "In dir.create(dirname, recursive = T): '/Users/adrianalbert/S3L_server/plots/pecan-street-2/3273_Taylor' already exists"
     ]
    },
    {
     "name": "stdout",
     "output_type": "stream",
     "text": [
      "[1] \"Processing file 78 of 301 : 3367\"\n"
     ]
    },
    {
     "name": "stderr",
     "output_type": "stream",
     "text": [
      "Warning message:\n",
      "In dir.create(dirname, recursive = T): '/Users/adrianalbert/S3L_server/plots/pecan-street-2/3367_Paul' already exists"
     ]
    },
    {
     "name": "stdout",
     "output_type": "stream",
     "text": [
      "[1] \"Processing file 79 of 301 : 3392\"\n"
     ]
    },
    {
     "name": "stderr",
     "output_type": "stream",
     "text": [
      "Warning message:\n",
      "In dir.create(dirname, recursive = T): '/Users/adrianalbert/S3L_server/plots/pecan-street-2/3392_Roland' already existsWarning message:\n",
      "In brewer.pal(nStates, \"Dark2\"): minimal value for n is 3, returning requested palette with 3 different levels\n"
     ]
    },
    {
     "name": "stdout",
     "output_type": "stream",
     "text": [
      "[1] \"Processing file 80 of 301 : 3394\"\n"
     ]
    },
    {
     "name": "stderr",
     "output_type": "stream",
     "text": [
      "Warning message:\n",
      "In dir.create(dirname, recursive = T): '/Users/adrianalbert/S3L_server/plots/pecan-street-2/3394_Spencer' already exists"
     ]
    },
    {
     "name": "stdout",
     "output_type": "stream",
     "text": [
      "[1] \"Processing file 81 of 301 : 3411\"\n"
     ]
    },
    {
     "name": "stderr",
     "output_type": "stream",
     "text": [
      "Warning message:\n",
      "In dir.create(dirname, recursive = T): '/Users/adrianalbert/S3L_server/plots/pecan-street-2/3411_Burton' already exists"
     ]
    },
    {
     "name": "stdout",
     "output_type": "stream",
     "text": [
      "[1] \"Processing file 82 of 301 : 3425\"\n"
     ]
    },
    {
     "name": "stderr",
     "output_type": "stream",
     "text": [
      "Warning message:\n",
      "In dir.create(dirname, recursive = T): '/Users/adrianalbert/S3L_server/plots/pecan-street-2/3425_Don' already exists"
     ]
    },
    {
     "name": "stdout",
     "output_type": "stream",
     "text": [
      "[1] \"Processing file 83 of 301 : 3443\"\n"
     ]
    },
    {
     "name": "stderr",
     "output_type": "stream",
     "text": [
      "Warning message:\n",
      "In dir.create(dirname, recursive = T): '/Users/adrianalbert/S3L_server/plots/pecan-street-2/3443_Emmet' already existsWarning message:\n",
      "In brewer.pal(nStates, \"Dark2\"): minimal value for n is 3, returning requested palette with 3 different levels\n"
     ]
    },
    {
     "name": "stdout",
     "output_type": "stream",
     "text": [
      "[1] \"Processing file 84 of 301 : 3456\"\n"
     ]
    },
    {
     "name": "stderr",
     "output_type": "stream",
     "text": [
      "Warning message:\n",
      "In dir.create(dirname, recursive = T): '/Users/adrianalbert/S3L_server/plots/pecan-street-2/3456_Edgar' already exists"
     ]
    },
    {
     "name": "stdout",
     "output_type": "stream",
     "text": [
      "[1] \"Processing file 85 of 301 : 347\"\n"
     ]
    },
    {
     "name": "stderr",
     "output_type": "stream",
     "text": [
      "Warning message:\n",
      "In dir.create(dirname, recursive = T): '/Users/adrianalbert/S3L_server/plots/pecan-street-2/347_Gustav' already exists"
     ]
    },
    {
     "name": "stdout",
     "output_type": "stream",
     "text": [
      "[1] \"Processing file 86 of 301 : 3482\"\n"
     ]
    },
    {
     "name": "stderr",
     "output_type": "stream",
     "text": [
      "Warning message:\n",
      "In dir.create(dirname, recursive = T): '/Users/adrianalbert/S3L_server/plots/pecan-street-2/3482_Isaac' already exists"
     ]
    },
    {
     "name": "stdout",
     "output_type": "stream",
     "text": [
      "[1] \"Processing file 87 of 301 : 3484\"\n"
     ]
    },
    {
     "name": "stderr",
     "output_type": "stream",
     "text": [
      "Warning message:\n",
      "In dir.create(dirname, recursive = T): '/Users/adrianalbert/S3L_server/plots/pecan-street-2/3484_Louie' already exists"
     ]
    },
    {
     "name": "stdout",
     "output_type": "stream",
     "text": [
      "[1] \"Processing file 88 of 301 : 3500\"\n"
     ]
    },
    {
     "name": "stderr",
     "output_type": "stream",
     "text": [
      "Warning message:\n",
      "In dir.create(dirname, recursive = T): '/Users/adrianalbert/S3L_server/plots/pecan-street-2/3500_Otto' already existsWarning message:\n",
      "In brewer.pal(nStates, \"Dark2\"): minimal value for n is 3, returning requested palette with 3 different levels\n"
     ]
    },
    {
     "name": "stdout",
     "output_type": "stream",
     "text": [
      "[1] \"Processing file 89 of 301 : 3504\"\n"
     ]
    },
    {
     "name": "stderr",
     "output_type": "stream",
     "text": [
      "Warning message:\n",
      "In dir.create(dirname, recursive = T): '/Users/adrianalbert/S3L_server/plots/pecan-street-2/3504_Luther' already exists"
     ]
    },
    {
     "name": "stdout",
     "output_type": "stream",
     "text": [
      "[1] \"Processing file 90 of 301 : 3531\"\n"
     ]
    },
    {
     "name": "stderr",
     "output_type": "stream",
     "text": [
      "Warning message:\n",
      "In dir.create(dirname, recursive = T): '/Users/adrianalbert/S3L_server/plots/pecan-street-2/3531_Morgan' already exists"
     ]
    },
    {
     "name": "stdout",
     "output_type": "stream",
     "text": [
      "[1] \"Processing file 91 of 301 : 3615\"\n"
     ]
    },
    {
     "name": "stderr",
     "output_type": "stream",
     "text": [
      "Warning message:\n",
      "In dir.create(dirname, recursive = T): '/Users/adrianalbert/S3L_server/plots/pecan-street-2/3615_Ned' already existsWarning message:\n",
      "In brewer.pal(nStates, \"Dark2\"): minimal value for n is 3, returning requested palette with 3 different levels\n"
     ]
    },
    {
     "name": "stdout",
     "output_type": "stream",
     "text": [
      "[1] \"Processing file 92 of 301 : 3649\"\n"
     ]
    },
    {
     "name": "stderr",
     "output_type": "stream",
     "text": [
      "Warning message:\n",
      "In dir.create(dirname, recursive = T): '/Users/adrianalbert/S3L_server/plots/pecan-street-2/3649_Van' already exists"
     ]
    },
    {
     "name": "stdout",
     "output_type": "stream",
     "text": [
      "[1] \"Processing file 93 of 301 : 3678\"\n"
     ]
    },
    {
     "name": "stderr",
     "output_type": "stream",
     "text": [
      "Warning message:\n",
      "In dir.create(dirname, recursive = T): '/Users/adrianalbert/S3L_server/plots/pecan-street-2/3678_Chauncey' already exists"
     ]
    },
    {
     "name": "stdout",
     "output_type": "stream",
     "text": [
      "[1] \"Processing file 94 of 301 : 370\"\n"
     ]
    },
    {
     "name": "stderr",
     "output_type": "stream",
     "text": [
      "Warning message:\n",
      "In dir.create(dirname, recursive = T): '/Users/adrianalbert/S3L_server/plots/pecan-street-2/370_Theodore' already exists"
     ]
    },
    {
     "name": "stdout",
     "output_type": "stream",
     "text": [
      "[1] \"Processing file 95 of 301 : 3719\"\n"
     ]
    },
    {
     "name": "stderr",
     "output_type": "stream",
     "text": [
      "Warning message:\n",
      "In dir.create(dirname, recursive = T): '/Users/adrianalbert/S3L_server/plots/pecan-street-2/3719_Hugh' already exists"
     ]
    },
    {
     "name": "stdout",
     "output_type": "stream",
     "text": [
      "[1] \"Processing file 96 of 301 : 3721\"\n"
     ]
    },
    {
     "name": "stderr",
     "output_type": "stream",
     "text": [
      "Warning message:\n",
      "In dir.create(dirname, recursive = T): '/Users/adrianalbert/S3L_server/plots/pecan-street-2/3721_Ferdinand' already exists"
     ]
    },
    {
     "name": "stdout",
     "output_type": "stream",
     "text": [
      "[1] \"Processing file 97 of 301 : 3723\"\n"
     ]
    },
    {
     "name": "stderr",
     "output_type": "stream",
     "text": [
      "Warning message:\n",
      "In dir.create(dirname, recursive = T): '/Users/adrianalbert/S3L_server/plots/pecan-street-2/3723_Clyde' already exists"
     ]
    },
    {
     "name": "stdout",
     "output_type": "stream",
     "text": [
      "[1] \"Processing file 98 of 301 : 3736\"\n"
     ]
    },
    {
     "name": "stderr",
     "output_type": "stream",
     "text": [
      "Warning message:\n",
      "In dir.create(dirname, recursive = T): '/Users/adrianalbert/S3L_server/plots/pecan-street-2/3736_General' already exists"
     ]
    },
    {
     "name": "stdout",
     "output_type": "stream",
     "text": [
      "[1] \"Processing file 99 of 301 : 3778\"\n"
     ]
    },
    {
     "name": "stderr",
     "output_type": "stream",
     "text": [
      "Warning message:\n",
      "In dir.create(dirname, recursive = T): '/Users/adrianalbert/S3L_server/plots/pecan-street-2/3778_Alexander' already existsWarning message:\n",
      "In brewer.pal(nStates, \"Dark2\"): minimal value for n is 3, returning requested palette with 3 different levels\n"
     ]
    },
    {
     "name": "stdout",
     "output_type": "stream",
     "text": [
      "[1] \"Processing file 100 of 301 : 3795\"\n"
     ]
    },
    {
     "name": "stderr",
     "output_type": "stream",
     "text": [
      "Warning message:\n",
      "In dir.create(dirname, recursive = T): '/Users/adrianalbert/S3L_server/plots/pecan-street-2/3795_Julian' already exists"
     ]
    },
    {
     "name": "stdout",
     "output_type": "stream",
     "text": [
      "[1] \"Processing file 101 of 301 : 3829\"\n"
     ]
    },
    {
     "name": "stderr",
     "output_type": "stream",
     "text": [
      "Warning message:\n",
      "In dir.create(dirname, recursive = T): '/Users/adrianalbert/S3L_server/plots/pecan-street-2/3829_Kenneth' already exists"
     ]
    },
    {
     "name": "stdout",
     "output_type": "stream",
     "text": [
      "[1] \"Processing file 102 of 301 : 3864\"\n"
     ]
    },
    {
     "name": "stderr",
     "output_type": "stream",
     "text": [
      "Warning message:\n",
      "In dir.create(dirname, recursive = T): '/Users/adrianalbert/S3L_server/plots/pecan-street-2/3864_Mitchell' already exists"
     ]
    },
    {
     "name": "stdout",
     "output_type": "stream",
     "text": [
      "[1] \"Processing file 103 of 301 : 3873\"\n"
     ]
    },
    {
     "name": "stderr",
     "output_type": "stream",
     "text": [
      "Warning message:\n",
      "In dir.create(dirname, recursive = T): '/Users/adrianalbert/S3L_server/plots/pecan-street-2/3873_Allie' already exists"
     ]
    },
    {
     "name": "stdout",
     "output_type": "stream",
     "text": [
      "[1] \"Processing file 104 of 301 : 3883\"\n"
     ]
    },
    {
     "name": "stderr",
     "output_type": "stream",
     "text": [
      "Warning message:\n",
      "In dir.create(dirname, recursive = T): '/Users/adrianalbert/S3L_server/plots/pecan-street-2/3883_Josh' already exists"
     ]
    },
    {
     "name": "stdout",
     "output_type": "stream",
     "text": [
      "[1] \"Processing file 105 of 301 : 3893\"\n"
     ]
    },
    {
     "name": "stderr",
     "output_type": "stream",
     "text": [
      "Warning message:\n",
      "In dir.create(dirname, recursive = T): '/Users/adrianalbert/S3L_server/plots/pecan-street-2/3893_Judson' already exists"
     ]
    },
    {
     "name": "stdout",
     "output_type": "stream",
     "text": [
      "[1] \"Processing file 106 of 301 : 3916\"\n"
     ]
    },
    {
     "name": "stderr",
     "output_type": "stream",
     "text": [
      "Warning message:\n",
      "In dir.create(dirname, recursive = T): '/Users/adrianalbert/S3L_server/plots/pecan-street-2/3916_Lyman' already existsWarning message:\n",
      "In brewer.pal(nStates, \"Dark2\"): minimal value for n is 3, returning requested palette with 3 different levels\n"
     ]
    },
    {
     "name": "stdout",
     "output_type": "stream",
     "text": [
      "[1] \"Processing file 107 of 301 : 3935\"\n"
     ]
    },
    {
     "name": "stderr",
     "output_type": "stream",
     "text": [
      "Warning message:\n",
      "In dir.create(dirname, recursive = T): '/Users/adrianalbert/S3L_server/plots/pecan-street-2/3935_Floyd' already existsWarning message:\n",
      "In brewer.pal(nStates, \"Dark2\"): minimal value for n is 3, returning requested palette with 3 different levels\n"
     ]
    },
    {
     "name": "stdout",
     "output_type": "stream",
     "text": [
      "[1] \"Processing file 108 of 301 : 3938\"\n"
     ]
    },
    {
     "name": "stderr",
     "output_type": "stream",
     "text": [
      "Warning message:\n",
      "In dir.create(dirname, recursive = T): '/Users/adrianalbert/S3L_server/plots/pecan-street-2/3938_Napoleon' already exists"
     ]
    },
    {
     "name": "stdout",
     "output_type": "stream",
     "text": [
      "[1] \"Processing file 109 of 301 : 3967\"\n"
     ]
    },
    {
     "name": "stderr",
     "output_type": "stream",
     "text": [
      "Warning message:\n",
      "In dir.create(dirname, recursive = T): '/Users/adrianalbert/S3L_server/plots/pecan-street-2/3967_Jack' already exists"
     ]
    },
    {
     "name": "stdout",
     "output_type": "stream",
     "text": [
      "[1] \"Processing file 110 of 301 : 3973\"\n"
     ]
    },
    {
     "name": "stderr",
     "output_type": "stream",
     "text": [
      "Warning message:\n",
      "In dir.create(dirname, recursive = T): '/Users/adrianalbert/S3L_server/plots/pecan-street-2/3973_Pedro' already exists"
     ]
    },
    {
     "name": "stdout",
     "output_type": "stream",
     "text": [
      "[1] \"Processing file 111 of 301 : 410\"\n"
     ]
    },
    {
     "name": "stderr",
     "output_type": "stream",
     "text": [
      "Warning message:\n",
      "In dir.create(dirname, recursive = T): '/Users/adrianalbert/S3L_server/plots/pecan-street-2/410_Horace' already exists"
     ]
    },
    {
     "name": "stdout",
     "output_type": "stream",
     "text": [
      "[1] \"Processing file 112 of 301 : 4135\"\n"
     ]
    },
    {
     "name": "stderr",
     "output_type": "stream",
     "text": [
      "Warning message:\n",
      "In dir.create(dirname, recursive = T): '/Users/adrianalbert/S3L_server/plots/pecan-street-2/4135_Marion' already exists"
     ]
    },
    {
     "name": "stdout",
     "output_type": "stream",
     "text": [
      "[1] \"Processing file 113 of 301 : 4154\"\n"
     ]
    },
    {
     "name": "stderr",
     "output_type": "stream",
     "text": [
      "Warning message:\n",
      "In dir.create(dirname, recursive = T): '/Users/adrianalbert/S3L_server/plots/pecan-street-2/4154_Philip' already exists"
     ]
    },
    {
     "name": "stdout",
     "output_type": "stream",
     "text": [
      "[1] \"Processing file 114 of 301 : 4220\"\n"
     ]
    },
    {
     "name": "stderr",
     "output_type": "stream",
     "text": [
      "Warning message:\n",
      "In dir.create(dirname, recursive = T): '/Users/adrianalbert/S3L_server/plots/pecan-street-2/4220_Berry' already exists"
     ]
    },
    {
     "name": "stdout",
     "output_type": "stream",
     "text": [
      "[1] \"Processing file 115 of 301 : 4251\"\n"
     ]
    },
    {
     "name": "stderr",
     "output_type": "stream",
     "text": [
      "Warning message:\n",
      "In dir.create(dirname, recursive = T): '/Users/adrianalbert/S3L_server/plots/pecan-street-2/4251_Archie' already exists"
     ]
    },
    {
     "name": "stdout",
     "output_type": "stream",
     "text": [
      "[1] \"Processing file 116 of 301 : 4296\"\n"
     ]
    },
    {
     "name": "stderr",
     "output_type": "stream",
     "text": [
      "Warning message:\n",
      "In dir.create(dirname, recursive = T): '/Users/adrianalbert/S3L_server/plots/pecan-street-2/4296_Dewitt' already exists"
     ]
    },
    {
     "name": "stdout",
     "output_type": "stream",
     "text": [
      "[1] \"Processing file 117 of 301 : 4298\"\n"
     ]
    },
    {
     "name": "stderr",
     "output_type": "stream",
     "text": [
      "Warning message:\n",
      "In dir.create(dirname, recursive = T): '/Users/adrianalbert/S3L_server/plots/pecan-street-2/4298_Ervin' already exists"
     ]
    },
    {
     "name": "stdout",
     "output_type": "stream",
     "text": [
      "[1] \"Processing file 118 of 301 : 4313\"\n"
     ]
    },
    {
     "name": "stderr",
     "output_type": "stream",
     "text": [
      "Warning message:\n",
      "In dir.create(dirname, recursive = T): '/Users/adrianalbert/S3L_server/plots/pecan-street-2/4313_Forest' already exists"
     ]
    },
    {
     "name": "stdout",
     "output_type": "stream",
     "text": [
      "[1] \"Processing file 119 of 301 : 4321\"\n"
     ]
    },
    {
     "name": "stderr",
     "output_type": "stream",
     "text": [
      "Warning message:\n",
      "In dir.create(dirname, recursive = T): '/Users/adrianalbert/S3L_server/plots/pecan-street-2/4321_Lynn' already exists"
     ]
    },
    {
     "name": "stdout",
     "output_type": "stream",
     "text": [
      "[1] \"Processing file 120 of 301 : 4329\"\n"
     ]
    },
    {
     "name": "stderr",
     "output_type": "stream",
     "text": [
      "Warning message:\n",
      "In dir.create(dirname, recursive = T): '/Users/adrianalbert/S3L_server/plots/pecan-street-2/4329_Pink' already exists"
     ]
    },
    {
     "name": "stdout",
     "output_type": "stream",
     "text": [
      "[1] \"Processing file 121 of 301 : 434\"\n"
     ]
    },
    {
     "name": "stderr",
     "output_type": "stream",
     "text": [
      "Warning message:\n",
      "In dir.create(dirname, recursive = T): '/Users/adrianalbert/S3L_server/plots/pecan-street-2/434_Ruben' already exists"
     ]
    },
    {
     "name": "stdout",
     "output_type": "stream",
     "text": [
      "[1] \"Processing file 122 of 301 : 4342\"\n"
     ]
    },
    {
     "name": "stderr",
     "output_type": "stream",
     "text": [
      "Warning message:\n",
      "In dir.create(dirname, recursive = T): '/Users/adrianalbert/S3L_server/plots/pecan-street-2/4342_Sanford' already exists"
     ]
    },
    {
     "name": "stdout",
     "output_type": "stream",
     "text": [
      "[1] \"Processing file 123 of 301 : 4352\"\n"
     ]
    },
    {
     "name": "stderr",
     "output_type": "stream",
     "text": [
      "Warning message:\n",
      "In dir.create(dirname, recursive = T): '/Users/adrianalbert/S3L_server/plots/pecan-street-2/4352_Raymond' already exists"
     ]
    },
    {
     "name": "stdout",
     "output_type": "stream",
     "text": [
      "[1] \"Processing file 124 of 301 : 4373\"\n"
     ]
    },
    {
     "name": "stderr",
     "output_type": "stream",
     "text": [
      "Warning message:\n",
      "In dir.create(dirname, recursive = T): '/Users/adrianalbert/S3L_server/plots/pecan-street-2/4373_Warren' already exists"
     ]
    },
    {
     "name": "stdout",
     "output_type": "stream",
     "text": [
      "[1] \"Processing file 125 of 301 : 4416\"\n"
     ]
    },
    {
     "name": "stderr",
     "output_type": "stream",
     "text": [
      "Warning message:\n",
      "In dir.create(dirname, recursive = T): '/Users/adrianalbert/S3L_server/plots/pecan-street-2/4416_Douglas' already exists"
     ]
    },
    {
     "name": "stdout",
     "output_type": "stream",
     "text": [
      "[1] \"Processing file 126 of 301 : 4495\"\n"
     ]
    },
    {
     "name": "stderr",
     "output_type": "stream",
     "text": [
      "Warning message:\n",
      "In dir.create(dirname, recursive = T): '/Users/adrianalbert/S3L_server/plots/pecan-street-2/4495_Omer' already existsWarning message:\n",
      "In brewer.pal(nStates, \"Dark2\"): minimal value for n is 3, returning requested palette with 3 different levels\n"
     ]
    },
    {
     "name": "stdout",
     "output_type": "stream",
     "text": [
      "[1] \"Processing file 127 of 301 : 4514\"\n"
     ]
    },
    {
     "name": "stderr",
     "output_type": "stream",
     "text": [
      "Warning message:\n",
      "In dir.create(dirname, recursive = T): '/Users/adrianalbert/S3L_server/plots/pecan-street-2/4514_Ulysses' already exists"
     ]
    },
    {
     "name": "stdout",
     "output_type": "stream",
     "text": [
      "[1] \"Processing file 128 of 301 : 4544\"\n"
     ]
    },
    {
     "name": "stderr",
     "output_type": "stream",
     "text": [
      "Warning message:\n",
      "In dir.create(dirname, recursive = T): '/Users/adrianalbert/S3L_server/plots/pecan-street-2/4544_Walker' already exists"
     ]
    },
    {
     "name": "stdout",
     "output_type": "stream",
     "text": [
      "[1] \"Processing file 129 of 301 : 457\"\n"
     ]
    },
    {
     "name": "stderr",
     "output_type": "stream",
     "text": [
      "Warning message:\n",
      "In dir.create(dirname, recursive = T): '/Users/adrianalbert/S3L_server/plots/pecan-street-2/457_Wilbert' already exists"
     ]
    },
    {
     "name": "stdout",
     "output_type": "stream",
     "text": [
      "[1] \"Processing file 130 of 301 : 4641\"\n"
     ]
    },
    {
     "name": "stderr",
     "output_type": "stream",
     "text": [
      "Warning message:\n",
      "In dir.create(dirname, recursive = T): '/Users/adrianalbert/S3L_server/plots/pecan-street-2/4641_Leo' already exists"
     ]
    },
    {
     "name": "stdout",
     "output_type": "stream",
     "text": [
      "[1] \"Processing file 131 of 301 : 4660\"\n"
     ]
    },
    {
     "name": "stderr",
     "output_type": "stream",
     "text": [
      "Warning message:\n",
      "In dir.create(dirname, recursive = T): '/Users/adrianalbert/S3L_server/plots/pecan-street-2/4660_Benjiman' already exists"
     ]
    },
    {
     "name": "stdout",
     "output_type": "stream",
     "text": [
      "[1] \"Processing file 132 of 301 : 4767\"\n"
     ]
    },
    {
     "name": "stderr",
     "output_type": "stream",
     "text": [
      "Warning message:\n",
      "In dir.create(dirname, recursive = T): '/Users/adrianalbert/S3L_server/plots/pecan-street-2/4767_Ray' already exists"
     ]
    },
    {
     "name": "stdout",
     "output_type": "stream",
     "text": [
      "[1] \"Processing file 133 of 301 : 4773\"\n"
     ]
    },
    {
     "name": "stderr",
     "output_type": "stream",
     "text": [
      "Warning message:\n",
      "In dir.create(dirname, recursive = T): '/Users/adrianalbert/S3L_server/plots/pecan-street-2/4773_Jonas' already existsWarning message:\n",
      "In brewer.pal(nStates, \"Dark2\"): minimal value for n is 3, returning requested palette with 3 different levels\n"
     ]
    },
    {
     "name": "stdout",
     "output_type": "stream",
     "text": [
      "[1] \"Processing file 134 of 301 : 4776\"\n"
     ]
    },
    {
     "name": "stderr",
     "output_type": "stream",
     "text": [
      "Warning message:\n",
      "In dir.create(dirname, recursive = T): '/Users/adrianalbert/S3L_server/plots/pecan-street-2/4776_Major' already exists"
     ]
    },
    {
     "name": "stdout",
     "output_type": "stream",
     "text": [
      "[1] \"Processing file 135 of 301 : 48\"\n"
     ]
    },
    {
     "name": "stderr",
     "output_type": "stream",
     "text": [
      "Warning message:\n",
      "In dir.create(dirname, recursive = T): '/Users/adrianalbert/S3L_server/plots/pecan-street-2/48_Abner' already exists"
     ]
    },
    {
     "name": "stdout",
     "output_type": "stream",
     "text": [
      "[1] \"Processing file 136 of 301 : 4800\"\n"
     ]
    },
    {
     "name": "stderr",
     "output_type": "stream",
     "text": [
      "Warning message:\n",
      "In dir.create(dirname, recursive = T): '/Users/adrianalbert/S3L_server/plots/pecan-street-2/4800_Archibald' already exists"
     ]
    },
    {
     "name": "stdout",
     "output_type": "stream",
     "text": [
      "[1] \"Processing file 137 of 301 : 484\"\n"
     ]
    },
    {
     "name": "stderr",
     "output_type": "stream",
     "text": [
      "Warning message:\n",
      "In dir.create(dirname, recursive = T): '/Users/adrianalbert/S3L_server/plots/pecan-street-2/484_Sidney' already exists"
     ]
    },
    {
     "name": "stdout",
     "output_type": "stream",
     "text": [
      "[1] \"Processing file 138 of 301 : 4856\"\n"
     ]
    },
    {
     "name": "stderr",
     "output_type": "stream",
     "text": [
      "Warning message:\n",
      "In dir.create(dirname, recursive = T): '/Users/adrianalbert/S3L_server/plots/pecan-street-2/4856_Caleb' already exists"
     ]
    },
    {
     "name": "stdout",
     "output_type": "stream",
     "text": [
      "[1] \"Processing file 139 of 301 : 4864\"\n"
     ]
    },
    {
     "name": "stderr",
     "output_type": "stream",
     "text": [
      "Warning message:\n",
      "In dir.create(dirname, recursive = T): '/Users/adrianalbert/S3L_server/plots/pecan-street-2/4864_Clint' already exists"
     ]
    },
    {
     "name": "stdout",
     "output_type": "stream",
     "text": [
      "[1] \"Processing file 140 of 301 : 4874\"\n"
     ]
    },
    {
     "name": "stderr",
     "output_type": "stream",
     "text": [
      "Warning message:\n",
      "In dir.create(dirname, recursive = T): '/Users/adrianalbert/S3L_server/plots/pecan-street-2/4874_Dudley' already exists"
     ]
    },
    {
     "name": "stdout",
     "output_type": "stream",
     "text": [
      "[1] \"Processing file 141 of 301 : 490\"\n"
     ]
    },
    {
     "name": "stderr",
     "output_type": "stream",
     "text": [
      "Warning message:\n",
      "In dir.create(dirname, recursive = T): '/Users/adrianalbert/S3L_server/plots/pecan-street-2/490_Granville' already existsWarning message:\n",
      "In brewer.pal(nStates, \"Dark2\"): minimal value for n is 3, returning requested palette with 3 different levels\n"
     ]
    },
    {
     "name": "stdout",
     "output_type": "stream",
     "text": [
      "[1] \"Processing file 142 of 301 : 4922\"\n"
     ]
    },
    {
     "name": "stderr",
     "output_type": "stream",
     "text": [
      "Warning message:\n",
      "In dir.create(dirname, recursive = T): '/Users/adrianalbert/S3L_server/plots/pecan-street-2/4922_King' already exists"
     ]
    },
    {
     "name": "stdout",
     "output_type": "stream",
     "text": [
      "[1] \"Processing file 143 of 301 : 4946\"\n"
     ]
    },
    {
     "name": "stderr",
     "output_type": "stream",
     "text": [
      "Warning message:\n",
      "In dir.create(dirname, recursive = T): '/Users/adrianalbert/S3L_server/plots/pecan-street-2/4946_Mary' already exists"
     ]
    },
    {
     "name": "stdout",
     "output_type": "stream",
     "text": [
      "[1] \"Processing file 144 of 301 : 4956\"\n"
     ]
    },
    {
     "name": "stderr",
     "output_type": "stream",
     "text": [
      "Warning message:\n",
      "In dir.create(dirname, recursive = T): '/Users/adrianalbert/S3L_server/plots/pecan-street-2/4956_Merton' already exists"
     ]
    },
    {
     "name": "stdout",
     "output_type": "stream",
     "text": [
      "[1] \"Processing file 145 of 301 : 4967\"\n"
     ]
    },
    {
     "name": "stderr",
     "output_type": "stream",
     "text": [
      "Warning message:\n",
      "In dir.create(dirname, recursive = T): '/Users/adrianalbert/S3L_server/plots/pecan-street-2/4967_Antonio' already exists"
     ]
    },
    {
     "name": "stdout",
     "output_type": "stream",
     "text": [
      "[1] \"Processing file 146 of 301 : 499\"\n"
     ]
    },
    {
     "name": "stderr",
     "output_type": "stream",
     "text": [
      "Warning message:\n",
      "In dir.create(dirname, recursive = T): '/Users/adrianalbert/S3L_server/plots/pecan-street-2/499_Bennie' already existsWarning message:\n",
      "In brewer.pal(nStates, \"Dark2\"): minimal value for n is 3, returning requested palette with 3 different levels\n"
     ]
    },
    {
     "name": "stdout",
     "output_type": "stream",
     "text": [
      "[1] \"Processing file 147 of 301 : 4998\"\n"
     ]
    },
    {
     "name": "stderr",
     "output_type": "stream",
     "text": [
      "Warning message:\n",
      "In dir.create(dirname, recursive = T): '/Users/adrianalbert/S3L_server/plots/pecan-street-2/4998_Dan' already exists"
     ]
    },
    {
     "name": "stdout",
     "output_type": "stream",
     "text": [
      "[1] \"Processing file 148 of 301 : 5026\"\n"
     ]
    },
    {
     "name": "stderr",
     "output_type": "stream",
     "text": [
      "Warning message:\n",
      "In dir.create(dirname, recursive = T): '/Users/adrianalbert/S3L_server/plots/pecan-street-2/5026_Carroll' already exists"
     ]
    },
    {
     "name": "stdout",
     "output_type": "stream",
     "text": [
      "[1] \"Processing file 149 of 301 : 508\"\n"
     ]
    },
    {
     "name": "stderr",
     "output_type": "stream",
     "text": [
      "Warning message:\n",
      "In dir.create(dirname, recursive = T): '/Users/adrianalbert/S3L_server/plots/pecan-street-2/508_Josiah' already exists"
     ]
    },
    {
     "name": "stdout",
     "output_type": "stream",
     "text": [
      "[1] \"Processing file 150 of 301 : 5109\"\n"
     ]
    },
    {
     "name": "stderr",
     "output_type": "stream",
     "text": [
      "Warning message:\n",
      "In dir.create(dirname, recursive = T): '/Users/adrianalbert/S3L_server/plots/pecan-street-2/5109_Milo' already exists"
     ]
    },
    {
     "name": "stdout",
     "output_type": "stream",
     "text": [
      "[1] \"Processing file 151 of 301 : 5209\"\n"
     ]
    },
    {
     "name": "stderr",
     "output_type": "stream",
     "text": [
      "Warning message:\n",
      "In dir.create(dirname, recursive = T): '/Users/adrianalbert/S3L_server/plots/pecan-street-2/5209_Royal' already exists"
     ]
    },
    {
     "name": "stdout",
     "output_type": "stream",
     "text": [
      "[1] \"Processing file 152 of 301 : 5218\"\n"
     ]
    },
    {
     "name": "stderr",
     "output_type": "stream",
     "text": [
      "Warning message:\n",
      "In dir.create(dirname, recursive = T): '/Users/adrianalbert/S3L_server/plots/pecan-street-2/5218_Perry' already exists"
     ]
    },
    {
     "name": "stdout",
     "output_type": "stream",
     "text": [
      "[1] \"Processing file 153 of 301 : 5275\"\n"
     ]
    },
    {
     "name": "stderr",
     "output_type": "stream",
     "text": [
      "Warning message:\n",
      "In dir.create(dirname, recursive = T): '/Users/adrianalbert/S3L_server/plots/pecan-street-2/5275_Anthony' already exists"
     ]
    },
    {
     "name": "stdout",
     "output_type": "stream",
     "text": [
      "[1] \"Processing file 154 of 301 : 5356\"\n"
     ]
    },
    {
     "name": "stderr",
     "output_type": "stream",
     "text": [
      "Warning message:\n",
      "In dir.create(dirname, recursive = T): '/Users/adrianalbert/S3L_server/plots/pecan-street-2/5356_Elza' already exists"
     ]
    },
    {
     "name": "stdout",
     "output_type": "stream",
     "text": [
      "[1] \"Processing file 155 of 301 : 5357\"\n"
     ]
    },
    {
     "name": "stderr",
     "output_type": "stream",
     "text": [
      "Warning message:\n",
      "In dir.create(dirname, recursive = T): '/Users/adrianalbert/S3L_server/plots/pecan-street-2/5357_Eddie' already exists"
     ]
    },
    {
     "name": "stdout",
     "output_type": "stream",
     "text": [
      "[1] \"Processing file 156 of 301 : 5371\"\n"
     ]
    },
    {
     "name": "stderr",
     "output_type": "stream",
     "text": [
      "Warning message:\n",
      "In dir.create(dirname, recursive = T): '/Users/adrianalbert/S3L_server/plots/pecan-street-2/5371_Amos' already exists"
     ]
    },
    {
     "name": "stdout",
     "output_type": "stream",
     "text": [
      "[1] \"Processing file 157 of 301 : 5395\"\n"
     ]
    },
    {
     "name": "stderr",
     "output_type": "stream",
     "text": [
      "Warning message:\n",
      "In dir.create(dirname, recursive = T): '/Users/adrianalbert/S3L_server/plots/pecan-street-2/5395_Dennis' already exists"
     ]
    },
    {
     "name": "stdout",
     "output_type": "stream",
     "text": [
      "[1] \"Processing file 158 of 301 : 5403\"\n"
     ]
    },
    {
     "name": "stderr",
     "output_type": "stream",
     "text": [
      "Warning message:\n",
      "In dir.create(dirname, recursive = T): '/Users/adrianalbert/S3L_server/plots/pecan-street-2/5403_Clifford' already exists"
     ]
    },
    {
     "name": "stdout",
     "output_type": "stream",
     "text": [
      "[1] \"Processing file 159 of 301 : 5448\"\n"
     ]
    },
    {
     "name": "stderr",
     "output_type": "stream",
     "text": [
      "Warning message:\n",
      "In dir.create(dirname, recursive = T): '/Users/adrianalbert/S3L_server/plots/pecan-street-2/5448_Emerson' already exists"
     ]
    },
    {
     "name": "stdout",
     "output_type": "stream",
     "text": [
      "[1] \"Processing file 160 of 301 : 5449\"\n"
     ]
    },
    {
     "name": "stderr",
     "output_type": "stream",
     "text": [
      "Warning message:\n",
      "In dir.create(dirname, recursive = T): '/Users/adrianalbert/S3L_server/plots/pecan-street-2/5449_Fletcher' already exists"
     ]
    },
    {
     "name": "stdout",
     "output_type": "stream",
     "text": [
      "[1] \"Processing file 161 of 301 : 545\"\n"
     ]
    },
    {
     "name": "stderr",
     "output_type": "stream",
     "text": [
      "Warning message:\n",
      "In dir.create(dirname, recursive = T): '/Users/adrianalbert/S3L_server/plots/pecan-street-2/545_Alonzo' already exists"
     ]
    },
    {
     "name": "stdout",
     "output_type": "stream",
     "text": [
      "[1] \"Processing file 162 of 301 : 5485\"\n"
     ]
    },
    {
     "name": "stderr",
     "output_type": "stream",
     "text": [
      "Warning message:\n",
      "In dir.create(dirname, recursive = T): '/Users/adrianalbert/S3L_server/plots/pecan-street-2/5485_Laurence' already exists"
     ]
    },
    {
     "name": "stdout",
     "output_type": "stream",
     "text": [
      "[1] \"Processing file 163 of 301 : 5539\"\n"
     ]
    },
    {
     "name": "stderr",
     "output_type": "stream",
     "text": [
      "Warning message:\n",
      "In dir.create(dirname, recursive = T): '/Users/adrianalbert/S3L_server/plots/pecan-street-2/5539_Neil' already exists"
     ]
    },
    {
     "name": "stdout",
     "output_type": "stream",
     "text": [
      "[1] \"Processing file 164 of 301 : 5545\"\n"
     ]
    },
    {
     "name": "stderr",
     "output_type": "stream",
     "text": [
      "Warning message:\n",
      "In dir.create(dirname, recursive = T): '/Users/adrianalbert/S3L_server/plots/pecan-street-2/5545_Roger' already exists"
     ]
    },
    {
     "name": "stdout",
     "output_type": "stream",
     "text": [
      "[1] \"Processing file 165 of 301 : 5552\"\n"
     ]
    },
    {
     "name": "stderr",
     "output_type": "stream",
     "text": [
      "Warning message:\n",
      "In dir.create(dirname, recursive = T): '/Users/adrianalbert/S3L_server/plots/pecan-street-2/5552_Seth' already exists"
     ]
    },
    {
     "name": "stdout",
     "output_type": "stream",
     "text": [
      "[1] \"Processing file 166 of 301 : 5568\"\n"
     ]
    },
    {
     "name": "stderr",
     "output_type": "stream",
     "text": [
      "Warning message:\n",
      "In dir.create(dirname, recursive = T): '/Users/adrianalbert/S3L_server/plots/pecan-street-2/5568_Franklin' already exists"
     ]
    },
    {
     "name": "stdout",
     "output_type": "stream",
     "text": [
      "[1] \"Processing file 167 of 301 : 5673\"\n"
     ]
    },
    {
     "name": "stderr",
     "output_type": "stream",
     "text": [
      "Warning message:\n",
      "In dir.create(dirname, recursive = T): '/Users/adrianalbert/S3L_server/plots/pecan-street-2/5673_Glen' already exists"
     ]
    },
    {
     "name": "stdout",
     "output_type": "stream",
     "text": [
      "[1] \"Processing file 168 of 301 : 5677\"\n"
     ]
    },
    {
     "name": "stderr",
     "output_type": "stream",
     "text": [
      "Warning message:\n",
      "In dir.create(dirname, recursive = T): '/Users/adrianalbert/S3L_server/plots/pecan-street-2/5677_Hugo' already existsWarning message:\n",
      "In brewer.pal(nStates, \"Dark2\"): minimal value for n is 3, returning requested palette with 3 different levels\n"
     ]
    },
    {
     "name": "stdout",
     "output_type": "stream",
     "text": [
      "[1] \"Processing file 169 of 301 : 5746\"\n"
     ]
    },
    {
     "name": "stderr",
     "output_type": "stream",
     "text": [
      "Warning message:\n",
      "In dir.create(dirname, recursive = T): '/Users/adrianalbert/S3L_server/plots/pecan-street-2/5746_Nathan' already exists"
     ]
    },
    {
     "name": "stdout",
     "output_type": "stream",
     "text": [
      "[1] \"Processing file 170 of 301 : 5785\"\n"
     ]
    },
    {
     "name": "stderr",
     "output_type": "stream",
     "text": [
      "Warning message:\n",
      "In dir.create(dirname, recursive = T): '/Users/adrianalbert/S3L_server/plots/pecan-street-2/5785_Harold' already exists"
     ]
    },
    {
     "name": "stdout",
     "output_type": "stream",
     "text": [
      "[1] \"Processing file 171 of 301 : 5786\"\n"
     ]
    },
    {
     "name": "stderr",
     "output_type": "stream",
     "text": [
      "Warning message:\n",
      "In dir.create(dirname, recursive = T): '/Users/adrianalbert/S3L_server/plots/pecan-street-2/5786_Jimmie' already exists"
     ]
    },
    {
     "name": "stdout",
     "output_type": "stream",
     "text": [
      "[1] \"Processing file 172 of 301 : 580\"\n"
     ]
    },
    {
     "name": "stderr",
     "output_type": "stream",
     "text": [
      "Warning message:\n",
      "In dir.create(dirname, recursive = T): '/Users/adrianalbert/S3L_server/plots/pecan-street-2/580_Johnnie' already exists"
     ]
    },
    {
     "name": "stdout",
     "output_type": "stream",
     "text": [
      "[1] \"Processing file 173 of 301 : 5814\"\n"
     ]
    },
    {
     "name": "stderr",
     "output_type": "stream",
     "text": [
      "Warning message:\n",
      "In dir.create(dirname, recursive = T): '/Users/adrianalbert/S3L_server/plots/pecan-street-2/5814_Levi' already exists"
     ]
    },
    {
     "name": "stdout",
     "output_type": "stream",
     "text": [
      "[1] \"Processing file 174 of 301 : 5852\"\n"
     ]
    },
    {
     "name": "stderr",
     "output_type": "stream",
     "text": [
      "Warning message:\n",
      "In dir.create(dirname, recursive = T): '/Users/adrianalbert/S3L_server/plots/pecan-street-2/5852_Washington' already exists"
     ]
    },
    {
     "name": "stdout",
     "output_type": "stream",
     "text": [
      "[1] \"Processing file 175 of 301 : 5874\"\n"
     ]
    },
    {
     "name": "stderr",
     "output_type": "stream",
     "text": [
      "Warning message:\n",
      "In dir.create(dirname, recursive = T): '/Users/adrianalbert/S3L_server/plots/pecan-street-2/5874_Lester' already exists"
     ]
    },
    {
     "name": "stdout",
     "output_type": "stream",
     "text": [
      "[1] \"Processing file 176 of 301 : 5889\"\n"
     ]
    },
    {
     "name": "stderr",
     "output_type": "stream",
     "text": [
      "Warning message:\n",
      "In dir.create(dirname, recursive = T): '/Users/adrianalbert/S3L_server/plots/pecan-street-2/5889_Elwood' already exists"
     ]
    },
    {
     "name": "stdout",
     "output_type": "stream",
     "text": [
      "[1] \"Processing file 177 of 301 : 59\"\n"
     ]
    },
    {
     "name": "stderr",
     "output_type": "stream",
     "text": [
      "Warning message:\n",
      "In dir.create(dirname, recursive = T): '/Users/adrianalbert/S3L_server/plots/pecan-street-2/59_Gust' already exists"
     ]
    },
    {
     "name": "stdout",
     "output_type": "stream",
     "text": [
      "[1] \"Processing file 178 of 301 : 5938\"\n"
     ]
    },
    {
     "name": "stderr",
     "output_type": "stream",
     "text": [
      "Warning message:\n",
      "In dir.create(dirname, recursive = T): '/Users/adrianalbert/S3L_server/plots/pecan-street-2/5938_Harmon' already exists"
     ]
    },
    {
     "name": "stdout",
     "output_type": "stream",
     "text": [
      "[1] \"Processing file 179 of 301 : 5949\"\n"
     ]
    },
    {
     "name": "stderr",
     "output_type": "stream",
     "text": [
      "Warning message:\n",
      "In dir.create(dirname, recursive = T): '/Users/adrianalbert/S3L_server/plots/pecan-street-2/5949_Adam' already exists"
     ]
    },
    {
     "name": "stdout",
     "output_type": "stream",
     "text": [
      "[1] \"Processing file 180 of 301 : 5959\"\n"
     ]
    },
    {
     "name": "stderr",
     "output_type": "stream",
     "text": [
      "Warning message:\n",
      "In dir.create(dirname, recursive = T): '/Users/adrianalbert/S3L_server/plots/pecan-street-2/5959_Jordan' already exists"
     ]
    },
    {
     "name": "stdout",
     "output_type": "stream",
     "text": [
      "[1] \"Processing file 181 of 301 : 5972\"\n"
     ]
    },
    {
     "name": "stderr",
     "output_type": "stream",
     "text": [
      "Warning message:\n",
      "In dir.create(dirname, recursive = T): '/Users/adrianalbert/S3L_server/plots/pecan-street-2/5972_Lloyd' already exists"
     ]
    },
    {
     "name": "stdout",
     "output_type": "stream",
     "text": [
      "[1] \"Processing file 182 of 301 : 5994\"\n"
     ]
    },
    {
     "name": "stderr",
     "output_type": "stream",
     "text": [
      "Warning message:\n",
      "In dir.create(dirname, recursive = T): '/Users/adrianalbert/S3L_server/plots/pecan-street-2/5994_Simeon' already exists"
     ]
    },
    {
     "name": "stdout",
     "output_type": "stream",
     "text": [
      "[1] \"Processing file 183 of 301 : 6072\"\n"
     ]
    },
    {
     "name": "stderr",
     "output_type": "stream",
     "text": [
      "Warning message:\n",
      "In dir.create(dirname, recursive = T): '/Users/adrianalbert/S3L_server/plots/pecan-street-2/6072_Mack' already exists"
     ]
    },
    {
     "name": "stdout",
     "output_type": "stream",
     "text": [
      "[1] \"Processing file 184 of 301 : 6078\"\n"
     ]
    },
    {
     "name": "stderr",
     "output_type": "stream",
     "text": [
      "Warning message:\n",
      "In dir.create(dirname, recursive = T): '/Users/adrianalbert/S3L_server/plots/pecan-street-2/6078_Wayne' already exists"
     ]
    },
    {
     "name": "stdout",
     "output_type": "stream",
     "text": [
      "[1] \"Processing file 185 of 301 : 6101\"\n"
     ]
    },
    {
     "name": "stderr",
     "output_type": "stream",
     "text": [
      "Warning message:\n",
      "In dir.create(dirname, recursive = T): '/Users/adrianalbert/S3L_server/plots/pecan-street-2/6101_Fredrick' already exists"
     ]
    },
    {
     "name": "stdout",
     "output_type": "stream",
     "text": [
      "[1] \"Processing file 186 of 301 : 6121\"\n"
     ]
    },
    {
     "name": "stderr",
     "output_type": "stream",
     "text": [
      "Warning message:\n",
      "In dir.create(dirname, recursive = T): '/Users/adrianalbert/S3L_server/plots/pecan-street-2/6121_Jay' already exists"
     ]
    },
    {
     "name": "stdout",
     "output_type": "stream",
     "text": [
      "[1] \"Processing file 187 of 301 : 6139\"\n"
     ]
    },
    {
     "name": "stderr",
     "output_type": "stream",
     "text": [
      "Warning message:\n",
      "In dir.create(dirname, recursive = T): '/Users/adrianalbert/S3L_server/plots/pecan-street-2/6139_Jess' already exists"
     ]
    },
    {
     "name": "stdout",
     "output_type": "stream",
     "text": [
      "[1] \"Processing file 188 of 301 : 6165\"\n"
     ]
    },
    {
     "name": "stderr",
     "output_type": "stream",
     "text": [
      "Warning message:\n",
      "In dir.create(dirname, recursive = T): '/Users/adrianalbert/S3L_server/plots/pecan-street-2/6165_Wilber' already exists"
     ]
    },
    {
     "name": "stdout",
     "output_type": "stream",
     "text": [
      "[1] \"Processing file 189 of 301 : 6191\"\n"
     ]
    },
    {
     "name": "stderr",
     "output_type": "stream",
     "text": [
      "Warning message:\n",
      "In dir.create(dirname, recursive = T): '/Users/adrianalbert/S3L_server/plots/pecan-street-2/6191_Clem' already existsWarning message:\n",
      "In brewer.pal(nStates, \"Dark2\"): minimal value for n is 3, returning requested palette with 3 different levels\n"
     ]
    },
    {
     "name": "stdout",
     "output_type": "stream",
     "text": [
      "[1] \"Processing file 190 of 301 : 624\"\n"
     ]
    },
    {
     "name": "stderr",
     "output_type": "stream",
     "text": [
      "Warning message:\n",
      "In dir.create(dirname, recursive = T): '/Users/adrianalbert/S3L_server/plots/pecan-street-2/624_Melvin' already exists"
     ]
    },
    {
     "name": "stdout",
     "output_type": "stream",
     "text": [
      "[1] \"Processing file 191 of 301 : 6378\"\n"
     ]
    },
    {
     "name": "stderr",
     "output_type": "stream",
     "text": [
      "Warning message:\n",
      "In dir.create(dirname, recursive = T): '/Users/adrianalbert/S3L_server/plots/pecan-street-2/6378_Frederic' already exists"
     ]
    },
    {
     "name": "stdout",
     "output_type": "stream",
     "text": [
      "[1] \"Processing file 192 of 301 : 6412\"\n"
     ]
    },
    {
     "name": "stderr",
     "output_type": "stream",
     "text": [
      "Warning message:\n",
      "In dir.create(dirname, recursive = T): '/Users/adrianalbert/S3L_server/plots/pecan-street-2/6412_Aaron' already exists"
     ]
    },
    {
     "name": "stdout",
     "output_type": "stream",
     "text": [
      "[1] \"Processing file 193 of 301 : 6500\"\n"
     ]
    },
    {
     "name": "stderr",
     "output_type": "stream",
     "text": [
      "Warning message:\n",
      "In dir.create(dirname, recursive = T): '/Users/adrianalbert/S3L_server/plots/pecan-street-2/6500_Irwin' already exists"
     ]
    },
    {
     "name": "stdout",
     "output_type": "stream",
     "text": [
      "[1] \"Processing file 194 of 301 : 6593\"\n"
     ]
    },
    {
     "name": "stderr",
     "output_type": "stream",
     "text": [
      "Warning message:\n",
      "In dir.create(dirname, recursive = T): '/Users/adrianalbert/S3L_server/plots/pecan-street-2/6593_Lafayette' already existsWarning message:\n",
      "In brewer.pal(nStates, \"Dark2\"): minimal value for n is 3, returning requested palette with 3 different levels\n"
     ]
    },
    {
     "name": "stdout",
     "output_type": "stream",
     "text": [
      "[1] \"Processing file 195 of 301 : 661\"\n"
     ]
    },
    {
     "name": "stderr",
     "output_type": "stream",
     "text": [
      "Warning message:\n",
      "In dir.create(dirname, recursive = T): '/Users/adrianalbert/S3L_server/plots/pecan-street-2/661_Loren' already exists"
     ]
    },
    {
     "name": "stdout",
     "output_type": "stream",
     "text": [
      "[1] \"Processing file 196 of 301 : 6636\"\n"
     ]
    },
    {
     "name": "stderr",
     "output_type": "stream",
     "text": [
      "Warning message:\n",
      "In dir.create(dirname, recursive = T): '/Users/adrianalbert/S3L_server/plots/pecan-street-2/6636_Gilbert' already exists"
     ]
    },
    {
     "name": "stdout",
     "output_type": "stream",
     "text": [
      "[1] \"Processing file 197 of 301 : 6692\"\n"
     ]
    },
    {
     "name": "stderr",
     "output_type": "stream",
     "text": [
      "Warning message:\n",
      "In dir.create(dirname, recursive = T): '/Users/adrianalbert/S3L_server/plots/pecan-street-2/6692_Madison' already exists"
     ]
    },
    {
     "name": "stdout",
     "output_type": "stream",
     "text": [
      "[1] \"Processing file 198 of 301 : 6730\"\n"
     ]
    },
    {
     "name": "stderr",
     "output_type": "stream",
     "text": [
      "Warning message:\n",
      "In dir.create(dirname, recursive = T): '/Users/adrianalbert/S3L_server/plots/pecan-street-2/6730_Gus' already exists"
     ]
    },
    {
     "name": "stdout",
     "output_type": "stream",
     "text": [
      "[1] \"Processing file 199 of 301 : 6826\"\n"
     ]
    },
    {
     "name": "stderr",
     "output_type": "stream",
     "text": [
      "Warning message:\n",
      "In dir.create(dirname, recursive = T): '/Users/adrianalbert/S3L_server/plots/pecan-street-2/6826_Mason' already existsWarning message:\n",
      "In brewer.pal(nStates, \"Dark2\"): minimal value for n is 3, returning requested palette with 3 different levels\n"
     ]
    },
    {
     "name": "stdout",
     "output_type": "stream",
     "text": [
      "[1] \"Processing file 200 of 301 : 6836\"\n"
     ]
    },
    {
     "name": "stderr",
     "output_type": "stream",
     "text": [
      "Warning message:\n",
      "In dir.create(dirname, recursive = T): '/Users/adrianalbert/S3L_server/plots/pecan-street-2/6836_Nelson' already exists"
     ]
    },
    {
     "name": "stdout",
     "output_type": "stream",
     "text": [
      "[1] \"Processing file 201 of 301 : 6910\"\n"
     ]
    },
    {
     "name": "stderr",
     "output_type": "stream",
     "text": [
      "Warning message:\n",
      "In dir.create(dirname, recursive = T): '/Users/adrianalbert/S3L_server/plots/pecan-street-2/6910_Silas' already exists"
     ]
    },
    {
     "name": "stdout",
     "output_type": "stream",
     "text": [
      "[1] \"Processing file 202 of 301 : 6941\"\n"
     ]
    },
    {
     "name": "stderr",
     "output_type": "stream",
     "text": [
      "Warning message:\n",
      "In dir.create(dirname, recursive = T): '/Users/adrianalbert/S3L_server/plots/pecan-street-2/6941_Christopher' already exists"
     ]
    },
    {
     "name": "stdout",
     "output_type": "stream",
     "text": [
      "[1] \"Processing file 203 of 301 : 7016\"\n"
     ]
    },
    {
     "name": "stderr",
     "output_type": "stream",
     "text": [
      "Warning message:\n",
      "In dir.create(dirname, recursive = T): '/Users/adrianalbert/S3L_server/plots/pecan-street-2/7016_Percy' already exists"
     ]
    },
    {
     "name": "stdout",
     "output_type": "stream",
     "text": [
      "[1] \"Processing file 204 of 301 : 7062\"\n"
     ]
    },
    {
     "name": "stderr",
     "output_type": "stream",
     "text": [
      "Warning message:\n",
      "In dir.create(dirname, recursive = T): '/Users/adrianalbert/S3L_server/plots/pecan-street-2/7062_Aubrey' already existsWarning message:\n",
      "In brewer.pal(nStates, \"Dark2\"): minimal value for n is 3, returning requested palette with 3 different levels\n"
     ]
    },
    {
     "name": "stdout",
     "output_type": "stream",
     "text": [
      "[1] \"Processing file 205 of 301 : 7319\"\n"
     ]
    },
    {
     "name": "stderr",
     "output_type": "stream",
     "text": [
      "Warning message:\n",
      "In dir.create(dirname, recursive = T): '/Users/adrianalbert/S3L_server/plots/pecan-street-2/7319_Hans' already exists"
     ]
    },
    {
     "name": "stdout",
     "output_type": "stream",
     "text": [
      "[1] \"Processing file 206 of 301 : 7361\"\n"
     ]
    },
    {
     "name": "stderr",
     "output_type": "stream",
     "text": [
      "Warning message:\n",
      "In dir.create(dirname, recursive = T): '/Users/adrianalbert/S3L_server/plots/pecan-street-2/7361_Cornelius' already exists"
     ]
    },
    {
     "name": "stdout",
     "output_type": "stream",
     "text": [
      "[1] \"Processing file 207 of 301 : 739\"\n"
     ]
    },
    {
     "name": "stderr",
     "output_type": "stream",
     "text": [
      "Warning message:\n",
      "In dir.create(dirname, recursive = T): '/Users/adrianalbert/S3L_server/plots/pecan-street-2/739_Felix' already exists"
     ]
    },
    {
     "name": "stdout",
     "output_type": "stream",
     "text": [
      "[1] \"Processing file 208 of 301 : 7390\"\n"
     ]
    },
    {
     "name": "stderr",
     "output_type": "stream",
     "text": [
      "Warning message:\n",
      "In dir.create(dirname, recursive = T): '/Users/adrianalbert/S3L_server/plots/pecan-street-2/7390_Karl' already exists"
     ]
    },
    {
     "name": "stdout",
     "output_type": "stream",
     "text": [
      "[1] \"Processing file 209 of 301 : 7436\"\n"
     ]
    },
    {
     "name": "stderr",
     "output_type": "stream",
     "text": [
      "Warning message:\n",
      "In dir.create(dirname, recursive = T): '/Users/adrianalbert/S3L_server/plots/pecan-street-2/7436_Wash' already exists"
     ]
    },
    {
     "name": "stdout",
     "output_type": "stream",
     "text": [
      "[1] \"Processing file 210 of 301 : 7491\"\n"
     ]
    },
    {
     "name": "stderr",
     "output_type": "stream",
     "text": [
      "Warning message:\n",
      "In dir.create(dirname, recursive = T): '/Users/adrianalbert/S3L_server/plots/pecan-street-2/7491_Wilfred' already exists"
     ]
    },
    {
     "name": "stdout",
     "output_type": "stream",
     "text": [
      "[1] \"Processing file 211 of 301 : 7504\"\n"
     ]
    },
    {
     "name": "stderr",
     "output_type": "stream",
     "text": [
      "Warning message:\n",
      "In dir.create(dirname, recursive = T): '/Users/adrianalbert/S3L_server/plots/pecan-street-2/7504_Claud' already exists"
     ]
    },
    {
     "name": "stdout",
     "output_type": "stream",
     "text": [
      "[1] \"Processing file 212 of 301 : 7510\"\n"
     ]
    },
    {
     "name": "stderr",
     "output_type": "stream",
     "text": [
      "Warning message:\n",
      "In dir.create(dirname, recursive = T): '/Users/adrianalbert/S3L_server/plots/pecan-street-2/7510_Roscoe' already exists"
     ]
    },
    {
     "name": "stdout",
     "output_type": "stream",
     "text": [
      "[1] \"Processing file 213 of 301 : 7512\"\n"
     ]
    },
    {
     "name": "stderr",
     "output_type": "stream",
     "text": [
      "Warning message:\n",
      "In dir.create(dirname, recursive = T): '/Users/adrianalbert/S3L_server/plots/pecan-street-2/7512_Allan' already exists"
     ]
    },
    {
     "name": "stdout",
     "output_type": "stream",
     "text": [
      "[1] \"Processing file 214 of 301 : 7527\"\n"
     ]
    },
    {
     "name": "stderr",
     "output_type": "stream",
     "text": [
      "Warning message:\n",
      "In dir.create(dirname, recursive = T): '/Users/adrianalbert/S3L_server/plots/pecan-street-2/7527_Alphonse' already exists"
     ]
    },
    {
     "name": "stdout",
     "output_type": "stream",
     "text": [
      "[1] \"Processing file 215 of 301 : 7531\"\n"
     ]
    },
    {
     "name": "stderr",
     "output_type": "stream",
     "text": [
      "Warning message:\n",
      "In dir.create(dirname, recursive = T): '/Users/adrianalbert/S3L_server/plots/pecan-street-2/7531_Sylvester' already exists"
     ]
    },
    {
     "name": "stdout",
     "output_type": "stream",
     "text": [
      "[1] \"Processing file 216 of 301 : 7536\"\n"
     ]
    },
    {
     "name": "stderr",
     "output_type": "stream",
     "text": [
      "Warning message:\n",
      "In dir.create(dirname, recursive = T): '/Users/adrianalbert/S3L_server/plots/pecan-street-2/7536_Earnest' already exists"
     ]
    },
    {
     "name": "stdout",
     "output_type": "stream",
     "text": [
      "[1] \"Processing file 217 of 301 : 7597\"\n"
     ]
    },
    {
     "name": "stderr",
     "output_type": "stream",
     "text": [
      "Warning message:\n",
      "In dir.create(dirname, recursive = T): '/Users/adrianalbert/S3L_server/plots/pecan-street-2/7597_Dallas' already exists"
     ]
    },
    {
     "name": "stdout",
     "output_type": "stream",
     "text": [
      "[1] \"Processing file 218 of 301 : 7617\"\n"
     ]
    },
    {
     "name": "stderr",
     "output_type": "stream",
     "text": [
      "Warning message:\n",
      "In dir.create(dirname, recursive = T): '/Users/adrianalbert/S3L_server/plots/pecan-street-2/7617_Dee' already exists"
     ]
    },
    {
     "name": "stdout",
     "output_type": "stream",
     "text": [
      "[1] \"Processing file 219 of 301 : 7680\"\n"
     ]
    },
    {
     "name": "stderr",
     "output_type": "stream",
     "text": [
      "Warning message:\n",
      "In dir.create(dirname, recursive = T): '/Users/adrianalbert/S3L_server/plots/pecan-street-2/7680_Hiram' already existsWarning message:\n",
      "In brewer.pal(nStates, \"Dark2\"): minimal value for n is 3, returning requested palette with 3 different levels\n"
     ]
    },
    {
     "name": "stdout",
     "output_type": "stream",
     "text": [
      "[1] \"Processing file 220 of 301 : 7703\"\n"
     ]
    },
    {
     "name": "stderr",
     "output_type": "stream",
     "text": [
      "Warning message:\n",
      "In dir.create(dirname, recursive = T): '/Users/adrianalbert/S3L_server/plots/pecan-street-2/7703_Jason' already exists"
     ]
    },
    {
     "name": "stdout",
     "output_type": "stream",
     "text": [
      "[1] \"Processing file 221 of 301 : 772\"\n"
     ]
    },
    {
     "name": "stderr",
     "output_type": "stream",
     "text": [
      "Warning message:\n",
      "In dir.create(dirname, recursive = T): '/Users/adrianalbert/S3L_server/plots/pecan-street-2/772_Johnny' already exists"
     ]
    },
    {
     "name": "stdout",
     "output_type": "stream",
     "text": [
      "[1] \"Processing file 222 of 301 : 7731\"\n"
     ]
    },
    {
     "name": "stderr",
     "output_type": "stream",
     "text": [
      "Warning message:\n",
      "In dir.create(dirname, recursive = T): '/Users/adrianalbert/S3L_server/plots/pecan-street-2/7731_Otis' already exists"
     ]
    },
    {
     "name": "stdout",
     "output_type": "stream",
     "text": [
      "[1] \"Processing file 223 of 301 : 774\"\n"
     ]
    },
    {
     "name": "stderr",
     "output_type": "stream",
     "text": [
      "Warning message:\n",
      "In dir.create(dirname, recursive = T): '/Users/adrianalbert/S3L_server/plots/pecan-street-2/774_Lawson' already exists"
     ]
    },
    {
     "name": "stdout",
     "output_type": "stream",
     "text": [
      "[1] \"Processing file 224 of 301 : 7769\"\n"
     ]
    },
    {
     "name": "stderr",
     "output_type": "stream",
     "text": [
      "Warning message:\n",
      "In dir.create(dirname, recursive = T): '/Users/adrianalbert/S3L_server/plots/pecan-street-2/7769_Mark' already exists"
     ]
    },
    {
     "name": "stdout",
     "output_type": "stream",
     "text": [
      "[1] \"Processing file 225 of 301 : 7788\"\n"
     ]
    },
    {
     "name": "stderr",
     "output_type": "stream",
     "text": [
      "Warning message:\n",
      "In dir.create(dirname, recursive = T): '/Users/adrianalbert/S3L_server/plots/pecan-street-2/7788_Lew' already exists"
     ]
    },
    {
     "name": "stdout",
     "output_type": "stream",
     "text": [
      "[1] \"Processing file 226 of 301 : 7800\"\n"
     ]
    },
    {
     "name": "stderr",
     "output_type": "stream",
     "text": [
      "Warning message:\n",
      "In dir.create(dirname, recursive = T): '/Users/adrianalbert/S3L_server/plots/pecan-street-2/7800_Jose' already exists"
     ]
    },
    {
     "name": "stdout",
     "output_type": "stream",
     "text": [
      "[1] \"Processing file 227 of 301 : 7850\"\n"
     ]
    },
    {
     "name": "stderr",
     "output_type": "stream",
     "text": [
      "Warning message:\n",
      "In dir.create(dirname, recursive = T): '/Users/adrianalbert/S3L_server/plots/pecan-street-2/7850_Wilbur' already exists"
     ]
    },
    {
     "name": "stdout",
     "output_type": "stream",
     "text": [
      "[1] \"Processing file 228 of 301 : 7863\"\n"
     ]
    },
    {
     "name": "stderr",
     "output_type": "stream",
     "text": [
      "Warning message:\n",
      "In dir.create(dirname, recursive = T): '/Users/adrianalbert/S3L_server/plots/pecan-street-2/7863_Abraham' already exists"
     ]
    },
    {
     "name": "stdout",
     "output_type": "stream",
     "text": [
      "[1] \"Processing file 229 of 301 : 7866\"\n"
     ]
    },
    {
     "name": "stderr",
     "output_type": "stream",
     "text": [
      "Warning message:\n",
      "In dir.create(dirname, recursive = T): '/Users/adrianalbert/S3L_server/plots/pecan-street-2/7866_Virgil' already exists"
     ]
    },
    {
     "name": "stdout",
     "output_type": "stream",
     "text": [
      "[1] \"Processing file 230 of 301 : 7875\"\n"
     ]
    },
    {
     "name": "stderr",
     "output_type": "stream",
     "text": [
      "Warning message:\n",
      "In dir.create(dirname, recursive = T): '/Users/adrianalbert/S3L_server/plots/pecan-street-2/7875_Micheal' already exists"
     ]
    },
    {
     "name": "stdout",
     "output_type": "stream",
     "text": [
      "[1] \"Processing file 231 of 301 : 7881\"\n"
     ]
    },
    {
     "name": "stderr",
     "output_type": "stream",
     "text": [
      "Warning message:\n",
      "In dir.create(dirname, recursive = T): '/Users/adrianalbert/S3L_server/plots/pecan-street-2/7881_Orin' already exists"
     ]
    },
    {
     "name": "stdout",
     "output_type": "stream",
     "text": [
      "[1] \"Processing file 232 of 301 : 7901\"\n"
     ]
    },
    {
     "name": "stderr",
     "output_type": "stream",
     "text": [
      "Warning message:\n",
      "In dir.create(dirname, recursive = T): '/Users/adrianalbert/S3L_server/plots/pecan-street-2/7901_Cal' already exists"
     ]
    },
    {
     "name": "stdout",
     "output_type": "stream",
     "text": [
      "[1] \"Processing file 233 of 301 : 7940\"\n"
     ]
    },
    {
     "name": "stderr",
     "output_type": "stream",
     "text": [
      "Warning message:\n",
      "In dir.create(dirname, recursive = T): '/Users/adrianalbert/S3L_server/plots/pecan-street-2/7940_Elbert' already exists"
     ]
    },
    {
     "name": "stdout",
     "output_type": "stream",
     "text": [
      "[1] \"Processing file 234 of 301 : 7951\"\n"
     ]
    },
    {
     "name": "stderr",
     "output_type": "stream",
     "text": [
      "Warning message:\n",
      "In dir.create(dirname, recursive = T): '/Users/adrianalbert/S3L_server/plots/pecan-street-2/7951_Erastus' already exists"
     ]
    },
    {
     "name": "stdout",
     "output_type": "stream",
     "text": [
      "[1] \"Processing file 235 of 301 : 7984\"\n"
     ]
    },
    {
     "name": "stderr",
     "output_type": "stream",
     "text": [
      "Warning message:\n",
      "In dir.create(dirname, recursive = T): '/Users/adrianalbert/S3L_server/plots/pecan-street-2/7984_Hardy' already exists"
     ]
    },
    {
     "name": "stdout",
     "output_type": "stream",
     "text": [
      "[1] \"Processing file 236 of 301 : 7989\"\n"
     ]
    },
    {
     "name": "stderr",
     "output_type": "stream",
     "text": [
      "Warning message:\n",
      "In dir.create(dirname, recursive = T): '/Users/adrianalbert/S3L_server/plots/pecan-street-2/7989_Marshall' already exists"
     ]
    },
    {
     "name": "stdout",
     "output_type": "stream",
     "text": [
      "[1] \"Processing file 237 of 301 : 8031\"\n"
     ]
    },
    {
     "name": "stderr",
     "output_type": "stream",
     "text": [
      "Warning message:\n",
      "In dir.create(dirname, recursive = T): '/Users/adrianalbert/S3L_server/plots/pecan-street-2/8031_Owen' already exists"
     ]
    },
    {
     "name": "stdout",
     "output_type": "stream",
     "text": [
      "[1] \"Processing file 238 of 301 : 8034\"\n"
     ]
    },
    {
     "name": "stderr",
     "output_type": "stream",
     "text": [
      "Warning message:\n",
      "In dir.create(dirname, recursive = T): '/Users/adrianalbert/S3L_server/plots/pecan-street-2/8034_Lucien' already exists"
     ]
    },
    {
     "name": "stdout",
     "output_type": "stream",
     "text": [
      "[1] \"Processing file 239 of 301 : 8046\"\n"
     ]
    },
    {
     "name": "stderr",
     "output_type": "stream",
     "text": [
      "Warning message:\n",
      "In dir.create(dirname, recursive = T): '/Users/adrianalbert/S3L_server/plots/pecan-street-2/8046_Randolph' already existsWarning message:\n",
      "In brewer.pal(nStates, \"Dark2\"): minimal value for n is 3, returning requested palette with 3 different levels\n"
     ]
    },
    {
     "name": "stdout",
     "output_type": "stream",
     "text": [
      "[1] \"Processing file 240 of 301 : 8047\"\n"
     ]
    },
    {
     "name": "stderr",
     "output_type": "stream",
     "text": [
      "Warning message:\n",
      "In dir.create(dirname, recursive = T): '/Users/adrianalbert/S3L_server/plots/pecan-street-2/8047_Wiley' already exists"
     ]
    },
    {
     "name": "stdout",
     "output_type": "stream",
     "text": [
      "[1] \"Processing file 241 of 301 : 8079\"\n"
     ]
    },
    {
     "name": "stderr",
     "output_type": "stream",
     "text": [
      "Warning message:\n",
      "In dir.create(dirname, recursive = T): '/Users/adrianalbert/S3L_server/plots/pecan-street-2/8079_Wilmer' already existsWarning message:\n",
      "In brewer.pal(nStates, \"Dark2\"): minimal value for n is 3, returning requested palette with 3 different levels\n"
     ]
    },
    {
     "name": "stdout",
     "output_type": "stream",
     "text": [
      "[1] \"Processing file 242 of 301 : 8084\"\n"
     ]
    },
    {
     "name": "stderr",
     "output_type": "stream",
     "text": [
      "Warning message:\n",
      "In dir.create(dirname, recursive = T): '/Users/adrianalbert/S3L_server/plots/pecan-street-2/8084_Anton' already existsWarning message:\n",
      "In brewer.pal(nStates, \"Dark2\"): minimal value for n is 3, returning requested palette with 3 different levels\n"
     ]
    },
    {
     "name": "stdout",
     "output_type": "stream",
     "text": [
      "[1] \"Processing file 243 of 301 : 8092\"\n"
     ]
    },
    {
     "name": "stderr",
     "output_type": "stream",
     "text": [
      "Warning message:\n",
      "In dir.create(dirname, recursive = T): '/Users/adrianalbert/S3L_server/plots/pecan-street-2/8092_Zack' already existsWarning message:\n",
      "In brewer.pal(nStates, \"Dark2\"): minimal value for n is 3, returning requested palette with 3 different levels\n"
     ]
    },
    {
     "name": "stdout",
     "output_type": "stream",
     "text": [
      "[1] \"Processing file 244 of 301 : 8121\"\n"
     ]
    },
    {
     "name": "stderr",
     "output_type": "stream",
     "text": [
      "Warning message:\n",
      "In dir.create(dirname, recursive = T): '/Users/adrianalbert/S3L_server/plots/pecan-street-2/8121_Alvah' already existsWarning message:\n",
      "In brewer.pal(nStates, \"Dark2\"): minimal value for n is 3, returning requested palette with 3 different levels\n"
     ]
    },
    {
     "name": "stdout",
     "output_type": "stream",
     "text": [
      "[1] \"Processing file 245 of 301 : 8142\"\n"
     ]
    },
    {
     "name": "stderr",
     "output_type": "stream",
     "text": [
      "Warning message:\n",
      "In dir.create(dirname, recursive = T): '/Users/adrianalbert/S3L_server/plots/pecan-street-2/8142_Bertram' already exists"
     ]
    },
    {
     "name": "stdout",
     "output_type": "stream",
     "text": [
      "[1] \"Processing file 246 of 301 : 8168\"\n"
     ]
    },
    {
     "name": "stderr",
     "output_type": "stream",
     "text": [
      "Warning message:\n",
      "In dir.create(dirname, recursive = T): '/Users/adrianalbert/S3L_server/plots/pecan-street-2/8168_Clay' already existsWarning message:\n",
      "In brewer.pal(nStates, \"Dark2\"): minimal value for n is 3, returning requested palette with 3 different levels\n"
     ]
    },
    {
     "name": "stdout",
     "output_type": "stream",
     "text": [
      "[1] \"Processing file 247 of 301 : 8197\"\n"
     ]
    },
    {
     "name": "stderr",
     "output_type": "stream",
     "text": [
      "Warning message:\n",
      "In dir.create(dirname, recursive = T): '/Users/adrianalbert/S3L_server/plots/pecan-street-2/8197_Manuel' already existsWarning message:\n",
      "In brewer.pal(nStates, \"Dark2\"): minimal value for n is 3, returning requested palette with 3 different levels\n"
     ]
    },
    {
     "name": "stdout",
     "output_type": "stream",
     "text": [
      "[1] \"Processing file 248 of 301 : 8201\"\n"
     ]
    },
    {
     "name": "stderr",
     "output_type": "stream",
     "text": [
      "Warning message:\n",
      "In dir.create(dirname, recursive = T): '/Users/adrianalbert/S3L_server/plots/pecan-street-2/8201_Giles' already existsWarning message:\n",
      "In brewer.pal(nStates, \"Dark2\"): minimal value for n is 3, returning requested palette with 3 different levels\n"
     ]
    },
    {
     "name": "stdout",
     "output_type": "stream",
     "text": [
      "[1] \"Processing file 249 of 301 : 821\"\n"
     ]
    },
    {
     "name": "stderr",
     "output_type": "stream",
     "text": [
      "Warning message:\n",
      "In dir.create(dirname, recursive = T): '/Users/adrianalbert/S3L_server/plots/pecan-street-2/821_Grover' already exists"
     ]
    },
    {
     "name": "stdout",
     "output_type": "stream",
     "text": [
      "[1] \"Processing file 250 of 301 : 8218\"\n"
     ]
    },
    {
     "name": "stderr",
     "output_type": "stream",
     "text": [
      "Warning message:\n",
      "In dir.create(dirname, recursive = T): '/Users/adrianalbert/S3L_server/plots/pecan-street-2/8218_Harris' already exists"
     ]
    },
    {
     "name": "stdout",
     "output_type": "stream",
     "text": [
      "[1] \"Processing file 251 of 301 : 8236\"\n"
     ]
    },
    {
     "name": "stderr",
     "output_type": "stream",
     "text": [
      "Warning message:\n",
      "In dir.create(dirname, recursive = T): '/Users/adrianalbert/S3L_server/plots/pecan-street-2/8236_Phillip' already exists"
     ]
    },
    {
     "name": "stdout",
     "output_type": "stream",
     "text": [
      "[1] \"Processing file 252 of 301 : 8282\"\n"
     ]
    },
    {
     "name": "stderr",
     "output_type": "stream",
     "text": [
      "Warning message:\n",
      "In dir.create(dirname, recursive = T): '/Users/adrianalbert/S3L_server/plots/pecan-street-2/8282_Isom' already exists"
     ]
    },
    {
     "name": "stdout",
     "output_type": "stream",
     "text": [
      "[1] \"Processing file 253 of 301 : 8292\"\n"
     ]
    },
    {
     "name": "stderr",
     "output_type": "stream",
     "text": [
      "Warning message:\n",
      "In dir.create(dirname, recursive = T): '/Users/adrianalbert/S3L_server/plots/pecan-street-2/8292_Jesus' already exists"
     ]
    },
    {
     "name": "stdout",
     "output_type": "stream",
     "text": [
      "[1] \"Processing file 254 of 301 : 8342\"\n"
     ]
    },
    {
     "name": "stderr",
     "output_type": "stream",
     "text": [
      "Warning message:\n",
      "In dir.create(dirname, recursive = T): '/Users/adrianalbert/S3L_server/plots/pecan-street-2/8342_Johnie' already exists"
     ]
    },
    {
     "name": "stdout",
     "output_type": "stream",
     "text": [
      "[1] \"Processing file 255 of 301 : 8419\"\n"
     ]
    },
    {
     "name": "stderr",
     "output_type": "stream",
     "text": [
      "Warning message:\n",
      "In dir.create(dirname, recursive = T): '/Users/adrianalbert/S3L_server/plots/pecan-street-2/8419_Emmett' already exists"
     ]
    },
    {
     "name": "stdout",
     "output_type": "stream",
     "text": [
      "[1] \"Processing file 256 of 301 : 8574\"\n"
     ]
    },
    {
     "name": "stderr",
     "output_type": "stream",
     "text": [
      "Warning message:\n",
      "In dir.create(dirname, recursive = T): '/Users/adrianalbert/S3L_server/plots/pecan-street-2/8574_Lucian' already exists"
     ]
    },
    {
     "name": "stdout",
     "output_type": "stream",
     "text": [
      "[1] \"Processing file 257 of 301 : 8597\"\n"
     ]
    },
    {
     "name": "stderr",
     "output_type": "stream",
     "text": [
      "Warning message:\n",
      "In dir.create(dirname, recursive = T): '/Users/adrianalbert/S3L_server/plots/pecan-street-2/8597_Eli' already exists"
     ]
    },
    {
     "name": "stdout",
     "output_type": "stream",
     "text": [
      "[1] \"Processing file 258 of 301 : 86\"\n"
     ]
    },
    {
     "name": "stderr",
     "output_type": "stream",
     "text": [
      "Warning message:\n",
      "In dir.create(dirname, recursive = T): '/Users/adrianalbert/S3L_server/plots/pecan-street-2/86_Nicholas' already exists"
     ]
    },
    {
     "name": "stdout",
     "output_type": "stream",
     "text": [
      "[1] \"Processing file 259 of 301 : 8645\"\n"
     ]
    },
    {
     "name": "stderr",
     "output_type": "stream",
     "text": [
      "Warning message:\n",
      "In dir.create(dirname, recursive = T): '/Users/adrianalbert/S3L_server/plots/pecan-street-2/8645_Merritt' already exists"
     ]
    },
    {
     "name": "stdout",
     "output_type": "stream",
     "text": [
      "[1] \"Processing file 260 of 301 : 871\"\n"
     ]
    },
    {
     "name": "stderr",
     "output_type": "stream",
     "text": [
      "Warning message:\n",
      "In dir.create(dirname, recursive = T): '/Users/adrianalbert/S3L_server/plots/pecan-street-2/871_Newton' already exists"
     ]
    },
    {
     "name": "stdout",
     "output_type": "stream",
     "text": [
      "[1] \"Processing file 261 of 301 : 8736\"\n"
     ]
    },
    {
     "name": "stderr",
     "output_type": "stream",
     "text": [
      "Warning message:\n",
      "In dir.create(dirname, recursive = T): '/Users/adrianalbert/S3L_server/plots/pecan-street-2/8736_Otho' already exists"
     ]
    },
    {
     "name": "stdout",
     "output_type": "stream",
     "text": [
      "[1] \"Processing file 262 of 301 : 878\"\n"
     ]
    },
    {
     "name": "stderr",
     "output_type": "stream",
     "text": [
      "Warning message:\n",
      "In dir.create(dirname, recursive = T): '/Users/adrianalbert/S3L_server/plots/pecan-street-2/878_Rolla' already exists"
     ]
    },
    {
     "name": "stdout",
     "output_type": "stream",
     "text": [
      "[1] \"Processing file 263 of 301 : 898\"\n"
     ]
    },
    {
     "name": "stderr",
     "output_type": "stream",
     "text": [
      "Warning message:\n",
      "In dir.create(dirname, recursive = T): '/Users/adrianalbert/S3L_server/plots/pecan-street-2/898_Edmund' already exists"
     ]
    },
    {
     "name": "stdout",
     "output_type": "stream",
     "text": [
      "[1] \"Processing file 264 of 301 : 900\"\n"
     ]
    },
    {
     "name": "stderr",
     "output_type": "stream",
     "text": [
      "Warning message:\n",
      "In dir.create(dirname, recursive = T): '/Users/adrianalbert/S3L_server/plots/pecan-street-2/900_Jeff' already exists"
     ]
    },
    {
     "name": "stdout",
     "output_type": "stream",
     "text": [
      "[1] \"Processing file 265 of 301 : 9213\"\n"
     ]
    },
    {
     "name": "stderr",
     "output_type": "stream",
     "text": [
      "Warning message:\n",
      "In dir.create(dirname, recursive = T): '/Users/adrianalbert/S3L_server/plots/pecan-street-2/9213_Hamilton' already existsWarning message:\n",
      "In brewer.pal(nStates, \"Dark2\"): minimal value for n is 3, returning requested palette with 3 different levels\n"
     ]
    },
    {
     "name": "stdout",
     "output_type": "stream",
     "text": [
      "[1] \"Processing file 266 of 301 : 9233\"\n"
     ]
    },
    {
     "name": "stderr",
     "output_type": "stream",
     "text": [
      "Warning message:\n",
      "In dir.create(dirname, recursive = T): '/Users/adrianalbert/S3L_server/plots/pecan-street-2/9233_Harve' already exists"
     ]
    },
    {
     "name": "stdout",
     "output_type": "stream",
     "text": [
      "[1] \"Processing file 267 of 301 : 9295\"\n"
     ]
    },
    {
     "name": "stderr",
     "output_type": "stream",
     "text": [
      "Warning message:\n",
      "In dir.create(dirname, recursive = T): '/Users/adrianalbert/S3L_server/plots/pecan-street-2/9295_Leander' already exists"
     ]
    },
    {
     "name": "stdout",
     "output_type": "stream",
     "text": [
      "[1] \"Processing file 268 of 301 : 93\"\n"
     ]
    },
    {
     "name": "stderr",
     "output_type": "stream",
     "text": [
      "Warning message:\n",
      "In dir.create(dirname, recursive = T): '/Users/adrianalbert/S3L_server/plots/pecan-street-2/93_Lon' already exists"
     ]
    },
    {
     "name": "stdout",
     "output_type": "stream",
     "text": [
      "[1] \"Processing file 269 of 301 : 9340\"\n"
     ]
    },
    {
     "name": "stderr",
     "output_type": "stream",
     "text": [
      "Warning message:\n",
      "In dir.create(dirname, recursive = T): '/Users/adrianalbert/S3L_server/plots/pecan-street-2/9340_Melville' already exists"
     ]
    },
    {
     "name": "stdout",
     "output_type": "stream",
     "text": [
      "[1] \"Processing file 270 of 301 : 9343\"\n"
     ]
    },
    {
     "name": "stderr",
     "output_type": "stream",
     "text": [
      "Warning message:\n",
      "In dir.create(dirname, recursive = T): '/Users/adrianalbert/S3L_server/plots/pecan-street-2/9343_Merle' already exists"
     ]
    },
    {
     "name": "stdout",
     "output_type": "stream",
     "text": [
      "[1] \"Processing file 271 of 301 : 9356\"\n"
     ]
    },
    {
     "name": "stderr",
     "output_type": "stream",
     "text": [
      "Warning message:\n",
      "In dir.create(dirname, recursive = T): '/Users/adrianalbert/S3L_server/plots/pecan-street-2/9356_Ora' already exists"
     ]
    },
    {
     "name": "stdout",
     "output_type": "stream",
     "text": [
      "[1] \"Processing file 272 of 301 : 936\"\n"
     ]
    },
    {
     "name": "stderr",
     "output_type": "stream",
     "text": [
      "Warning message:\n",
      "In dir.create(dirname, recursive = T): '/Users/adrianalbert/S3L_server/plots/pecan-street-2/936_Ollie' already exists"
     ]
    },
    {
     "name": "stdout",
     "output_type": "stream",
     "text": [
      "[1] \"Processing file 273 of 301 : 94\"\n"
     ]
    },
    {
     "name": "stderr",
     "output_type": "stream",
     "text": [
      "Warning message:\n",
      "In dir.create(dirname, recursive = T): '/Users/adrianalbert/S3L_server/plots/pecan-street-2/94_Russell' already exists"
     ]
    },
    {
     "name": "stdout",
     "output_type": "stream",
     "text": [
      "[1] \"Processing file 274 of 301 : 9462\"\n"
     ]
    },
    {
     "ename": "ERROR",
     "evalue": "Error in resp$stderr[\"(Intercept)\", s]: incorrect number of dimensions\n",
     "output_type": "error",
     "traceback": [
      "Error in resp$stderr[\"(Intercept)\", s]: incorrect number of dimensions\n"
     ]
    }
   ],
   "source": [
    "thermal_model = list()\n",
    "for (i in 1:nrow(info_files)) {\n",
    "    row <- info_files[i,]\n",
    "    print(paste(\"Processing file\", i, \"of\", nrow(info_files), \":\", row$UID))\n",
    "    thermal_model[[length(thermal_model)+1]] = f_wrapper(row)\n",
    "}\n"
   ]
  },
  {
   "cell_type": "code",
   "execution_count": 143,
   "metadata": {
    "collapsed": false
   },
   "outputs": [
    {
     "data": {
      "text/html": [
       "<table>\n",
       "<thead><tr><th></th><th scope=col>UID</th><th scope=col>name</th><th scope=col>grain</th><th scope=col>file_model_decode</th><th scope=col>file_model_interp</th><th scope=col>file_orig</th></tr></thead>\n",
       "<tbody>\n",
       "\t<tr><th scope=row>274</th><td>9462</td><td>Murray</td><td>60min</td><td>/Users/adrianalbert/S3L_server/energy-data/pecan_street/models_2//9462_Murray/60min/9462_Murray_decoded.RData</td><td>/Users/adrianalbert/S3L_server/energy-data/pecan_street/models_2//9462_Murray/60min/9462_Murray_interpreted.RData</td><td>/Users/adrianalbert/S3L_server/energy-data/pecan_street/usage-select//60min/9462.csv</td></tr>\n",
       "</tbody>\n",
       "</table>\n"
      ],
      "text/latex": [
       "\\begin{tabular}{r|llllll}\n",
       "  & UID & name & grain & file_model_decode & file_model_interp & file_orig\\\\\n",
       "\\hline\n",
       "\t274 & 9462 & Murray & 60min & /Users/adrianalbert/S3L_server/energy-data/pecan_street/models_2//9462_Murray/60min/9462_Murray_decoded.RData & /Users/adrianalbert/S3L_server/energy-data/pecan_street/models_2//9462_Murray/60min/9462_Murray_interpreted.RData & /Users/adrianalbert/S3L_server/energy-data/pecan_street/usage-select//60min/9462.csv\\\\\n",
       "\\end{tabular}\n"
      ],
      "text/plain": [
       "     UID   name grain\n",
       "274 9462 Murray 60min\n",
       "                                                                                                file_model_decode\n",
       "274 /Users/adrianalbert/S3L_server/energy-data/pecan_street/models_2//9462_Murray/60min/9462_Murray_decoded.RData\n",
       "                                                                                                    file_model_interp\n",
       "274 /Users/adrianalbert/S3L_server/energy-data/pecan_street/models_2//9462_Murray/60min/9462_Murray_interpreted.RData\n",
       "                                                                               file_orig\n",
       "274 /Users/adrianalbert/S3L_server/energy-data/pecan_street/usage-select//60min/9462.csv"
      ]
     },
     "execution_count": 143,
     "metadata": {},
     "output_type": "execute_result"
    }
   ],
   "source": [
    "info_files[i,]"
   ]
  },
  {
   "cell_type": "code",
   "execution_count": 144,
   "metadata": {
    "collapsed": false
   },
   "outputs": [],
   "source": [
    "save(file=paste(MODEL_PATH, \"all_model_results.RData\", sep=''), list = c(\"thermal_model\"))"
   ]
  },
  {
   "cell_type": "code",
   "execution_count": null,
   "metadata": {
    "collapsed": true
   },
   "outputs": [],
   "source": []
  }
 ],
 "metadata": {
  "kernelspec": {
   "display_name": "R",
   "language": "",
   "name": "ir"
  },
  "language_info": {
   "codemirror_mode": "r",
   "file_extension": ".r",
   "mimetype": "text/x-r-source",
   "name": "R",
   "pygments_lexer": "r",
   "version": "3.2.2"
  }
 },
 "nbformat": 4,
 "nbformat_minor": 0
}
