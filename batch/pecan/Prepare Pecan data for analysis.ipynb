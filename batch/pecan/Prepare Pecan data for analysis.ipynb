{
 "cells": [
  {
   "cell_type": "markdown",
   "metadata": {},
   "source": [
    "# Initializations"
   ]
  },
  {
   "cell_type": "code",
   "execution_count": 1,
   "metadata": {
    "collapsed": false
   },
   "outputs": [],
   "source": [
    "rm(list = ls())\n",
    "options(error = recover)\n",
    "\n",
    "library('parallel')\n",
    "library('ggplot2')\n",
    "library('reshape')\n",
    "\n",
    "# __________________________________________________\n",
    "# Initializations...\n",
    "\n",
    "setwd('~/EnergyAnalytics/batch/')\n",
    "source('../utils/aggregate_data.r')\n",
    "\n",
    "# select one year of data to use\n",
    "DATA_PATH     = '~/S3L_server/energy-data/pecan_street/usage-processed/'\n",
    "DATA_OUT_PATH = '~/S3L_server/energy-data/pecan_street/usage-select'\n",
    "dir.create(DATA_OUT_PATH)\n",
    "dir.create(paste(DATA_OUT_PATH, \"60min/\", sep=\"/\"))"
   ]
  },
  {
   "cell_type": "code",
   "execution_count": 2,
   "metadata": {
    "collapsed": false
   },
   "outputs": [
    {
     "name": "stderr",
     "output_type": "stream",
     "text": [
      "Warning message:\n",
      "In dir.create(PLOTS_PATH): '/Users/adrianalbert/S3L_server/plots/pecan-street-2' already exists"
     ]
    }
   ],
   "source": [
    "PLOTS_PATH    = '~/S3L_server/plots/pecan-street-2'\n",
    "dir.create(PLOTS_PATH)"
   ]
  },
  {
   "cell_type": "markdown",
   "metadata": {},
   "source": [
    "# Load data"
   ]
  },
  {
   "cell_type": "code",
   "execution_count": 3,
   "metadata": {
    "collapsed": true
   },
   "outputs": [],
   "source": [
    "# load weather data\n",
    "weather.hourly = read.csv('~/S3L_server/energy-data/pecan_street/weather/weather_hourly.csv')\n",
    "weather.15mins = read.csv('~/S3L_server/energy-data/pecan_street/weather/weather_15mins.csv')\n",
    "weather.hourly$date = as.POSIXct(as.character(weather.hourly$date))\n",
    "weather.15mins$date = as.POSIXct(as.character(weather.15mins$date))\n",
    "\n",
    "# load user names\n",
    "user_names = read.csv('~/S3L_server/energy-data/pecan_street/metadata/user_names_ids.csv')\n",
    "\n",
    "# __________________________________________________\n",
    "# Access usage data\n",
    "\n",
    "# list all data files by year/uid\n",
    "files.proc  = list.files(DATA_OUT_PATH, full.names = TRUE, recursive = T)\n",
    "uids.done   = unique(sapply(files.proc, function(x) {\n",
    "  tmp = strsplit(x, '/')[[1]]\n",
    "  uid = tmp[length(tmp)]\n",
    "  uid = strsplit(uid, '\\\\.')[[1]][1]\n",
    "  return(uid)\n",
    "}))\n",
    "files.input = list.files(DATA_PATH, full.names = TRUE, recursive = T)\n",
    "uids.input  = unique(sapply(files.input, function(x) {\n",
    "  tmp = strsplit(x, '/')[[1]]\n",
    "  uid = tmp[length(tmp)]\n",
    "  uid = strsplit(uid, '_')[[1]][1]\n",
    "  return(uid)\n",
    "}))\n",
    "\n",
    "# only process those files not processed before\n",
    "idx.ok   = which(!(uids.input %in% uids.done))\n",
    "if (length(idx.ok) == 0) stop(\"All files have already been processed!\")\n",
    "\n",
    "# select files with appropriate resolution \n",
    "files_01 = files.input[grep('minute',files.input)]\n",
    "files_15 = files.input[grep('15mins',files.input)]\n",
    "files_60 = files.input[grep('hourly', files.input)]"
   ]
  },
  {
   "cell_type": "code",
   "execution_count": 4,
   "metadata": {
    "collapsed": false
   },
   "outputs": [
    {
     "data": {
      "text/html": [
       "1205"
      ],
      "text/latex": [
       "1205"
      ],
      "text/markdown": [
       "1205"
      ],
      "text/plain": [
       "[1] 1205"
      ]
     },
     "execution_count": 4,
     "metadata": {},
     "output_type": "execute_result"
    }
   ],
   "source": [
    "length(files_60)"
   ]
  },
  {
   "cell_type": "markdown",
   "metadata": {},
   "source": [
    "#### Concatenate data across multiple years"
   ]
  },
  {
   "cell_type": "code",
   "execution_count": 5,
   "metadata": {
    "collapsed": true
   },
   "outputs": [],
   "source": [
    "# ------------------------------------------\n",
    "# Concatenate data across multiple years\n",
    "# ------------------------------------------\n",
    "\n",
    "concatenate_data = function(data_list, dateCol = 'date') {\n",
    "  \n",
    "  if (length(data_list) == 1) return(data_list[[1]])\n",
    "  \n",
    "  # make sure all end-uses are aligned\n",
    "  all_cols = unique(unlist(lapply(data_list, names)))\n",
    "  i = 1\n",
    "  while (is.null(data_list[[i]]) & i < length(data_list)) i = i + 1; \n",
    "  if (i<=length(data_list)) data = data_list[[i]] else return(NULL)\n",
    "  for (i in 2:length(data_list)) {\n",
    "    tmp = data_list[[i]]\n",
    "    if(is.null(tmp)) next\n",
    "    cur_cols = setdiff(names(data), names(tmp))\n",
    "    new_cols = setdiff(names(data_list[[i]]), names(data))\n",
    "    if (length(cur_cols)>0)  {\n",
    "      tmp[,cur_cols] = NA\n",
    "    }\n",
    "    if(length(new_cols)>0) {\n",
    "      data[,new_cols]= NA;\n",
    "    }\n",
    "    data = rbind(data, tmp)\n",
    "  }\n",
    "  \n",
    "  if (!is.null(data)) data[,dateCol] = as.POSIXct(data[,dateCol])\n",
    "  return(data)\n",
    "}\n"
   ]
  },
  {
   "cell_type": "code",
   "execution_count": 6,
   "metadata": {
    "collapsed": false
   },
   "outputs": [
    {
     "name": "stderr",
     "output_type": "stream",
     "text": [
      "Loading required package: plyr\n",
      "\n",
      "Attaching package: ‘plyr’\n",
      "\n",
      "The following objects are masked from ‘package:reshape’:\n",
      "\n",
      "    rename, round_any\n",
      "\n"
     ]
    },
    {
     "name": "stdout",
     "output_type": "stream",
     "text": [
      "[1] \"Processing uid 1103 : 1/555\\n\"\n",
      "[1] \"Processing uid 1114 : 2/555\\n\"\n",
      "[1] \"Processing uid 114 : 3/555\\n\"\n",
      "[1] \"Processing uid 1153 : 4/555\\n\"\n",
      "[1] \"Processing uid 1169 : 5/555\\n\"\n",
      "[1] \"Processing uid 1185 : 6/555\\n\"\n",
      "[1] \"Processing uid 1192 : 7/555\\n\"\n",
      "[1] \"Processing uid 1283 : 8/555\\n\"\n",
      "[1] \"Processing uid 1334 : 9/555\\n\"\n",
      "[1] \"Processing uid 1464 : 10/555\\n\"\n",
      "[1] \"Processing uid 1508 : 11/555\\n\"\n",
      "[1] \"Processing uid 1601 : 12/555\\n\"\n",
      "[1] \"Processing uid 1642 : 13/555\\n\"\n",
      "[1] \"Processing uid 1697 : 14/555\\n\"\n",
      "[1] \"Processing uid 171 : 15/555\\n\"\n",
      "[1] \"Processing uid 1714 : 16/555\\n\"\n",
      "[1] \"Processing uid 1718 : 17/555\\n\"\n",
      "[1] \"Processing uid 1782 : 18/555\\n\"\n",
      "[1] \"Processing uid 1790 : 19/555\\n\"\n",
      "[1] \"Processing uid 1791 : 20/555\\n\"\n",
      "[1] \"Processing uid 1792 : 21/555\\n\"\n",
      "[1] \"Processing uid 1800 : 22/555\\n\"\n",
      "[1] \"Processing uid 1801 : 23/555\\n\"\n",
      "[1] \"Processing uid 187 : 24/555\\n\"\n",
      "[1] \"Processing uid 1953 : 25/555\\n\"\n",
      "[1] \"Processing uid 2062 : 26/555\\n\"\n",
      "[1] \"Processing uid 2072 : 27/555\\n\"\n",
      "[1] \"Processing uid 2094 : 28/555\\n\"\n",
      "[1] \"Processing uid 2129 : 29/555\\n\"\n",
      "[1] \"Processing uid 2156 : 30/555\\n\"\n",
      "[1] \"Processing uid 2158 : 31/555\\n\"\n",
      "[1] \"Processing uid 2171 : 32/555\\n\"\n",
      "[1] \"Processing uid 2199 : 33/555\\n\"\n",
      "[1] \"Processing uid 2233 : 34/555\\n\"\n",
      "[1] \"Processing uid 2242 : 35/555\\n\"\n",
      "[1] \"Processing uid 2335 : 36/555\\n\"\n",
      "[1] \"Processing uid 2337 : 37/555\\n\"\n",
      "[1] \"Processing uid 2449 : 38/555\\n\"\n",
      "[1] \"Processing uid 2470 : 39/555\\n\"\n",
      "[1] \"Processing uid 252 : 40/555\\n\"\n",
      "[1] \"Processing uid 2575 : 41/555\\n\"\n",
      "[1] \"Processing uid 26 : 42/555\\n\"\n",
      "[1] \"Processing uid 2638 : 43/555\\n\"\n",
      "[1] \"Processing uid 2755 : 44/555\\n\"\n",
      "[1] \"Processing uid 2814 : 45/555\\n\"\n",
      "[1] \"Processing uid 2818 : 46/555\\n\"\n",
      "[1] \"Processing uid 2829 : 47/555\\n\"\n",
      "[1] \"Processing uid 2864 : 48/555\\n\"\n",
      "[1] \"Processing uid 2925 : 49/555\\n\"\n",
      "[1] \"Processing uid 2945 : 50/555\\n\"\n",
      "[1] \"Processing uid 2965 : 51/555\\n\"\n",
      "[1] \"Processing uid 2974 : 52/555\\n\"\n",
      "[1] \"Processing uid 2980 : 53/555\\n\"\n",
      "[1] \"Processing uid 2986 : 54/555\\n\"\n",
      "[1] \"Processing uid 3036 : 55/555\\n\"\n",
      "[1] \"Processing uid 3039 : 56/555\\n\"\n",
      "[1] \"Processing uid 3134 : 57/555\\n\"\n",
      "[1] \"Processing uid 3192 : 58/555\\n\"\n",
      "[1] \"Processing uid 3224 : 59/555\\n\"\n",
      "[1] \"Processing uid 3367 : 60/555\\n\"\n",
      "[1] \"Processing uid 3456 : 61/555\\n\"\n",
      "[1] \"Processing uid 3482 : 62/555\\n\"\n",
      "[1] \"Processing uid 3500 : 63/555\\n\"\n",
      "[1] \"Processing uid 3504 : 64/555\\n\"\n",
      "[1] \"Processing uid 3527 : 65/555\\n\"\n",
      "[1] \"Processing uid 3544 : 66/555\\n\"\n",
      "[1] \"Processing uid 3632 : 67/555\\n\"\n",
      "[1] \"Processing uid 3635 : 68/555\\n\"\n",
      "[1] \"Processing uid 364 : 69/555\\n\"\n",
      "[1] \"Processing uid 370 : 70/555\\n\"\n",
      "[1] \"Processing uid 3719 : 71/555\\n\"\n",
      "[1] \"Processing uid 3723 : 72/555\\n\"\n",
      "[1] \"Processing uid 3778 : 73/555\\n\"\n",
      "[1] \"Processing uid 3918 : 74/555\\n\"\n",
      "[1] \"Processing uid 3935 : 75/555\\n\"\n",
      "[1] \"Processing uid 3964 : 76/555\\n\"\n",
      "[1] \"Processing uid 3967 : 77/555\\n\"\n",
      "[1] \"Processing uid 4031 : 78/555\\n\"\n",
      "[1] \"Processing uid 410 : 79/555\\n\"\n",
      "[1] \"Processing uid 4135 : 80/555\\n\"\n",
      "[1] \"Processing uid 4154 : 81/555\\n\"\n",
      "[1] \"Processing uid 4193 : 82/555\\n\"\n",
      "[1] \"Processing uid 4251 : 83/555\\n\"\n",
      "[1] \"Processing uid 4297 : 84/555\\n\"\n",
      "[1] \"Processing uid 4302 : 85/555\\n\"\n",
      "[1] \"Processing uid 4336 : 86/555\\n\"\n",
      "[1] \"Processing uid 4352 : 87/555\\n\"\n",
      "[1] \"Processing uid 4357 : 88/555\\n\"\n",
      "[1] \"Processing uid 4373 : 89/555\\n\"\n",
      "[1] \"Processing uid 4447 : 90/555\\n\"\n",
      "[1] \"Processing uid 4526 : 91/555\\n\"\n",
      "[1] \"Processing uid 4641 : 92/555\\n\"\n",
      "[1] \"Processing uid 4732 : 93/555\\n\"\n",
      "[1] \"Processing uid 4767 : 94/555\\n\"\n",
      "[1] \"Processing uid 484 : 95/555\\n\"\n",
      "[1] \"Processing uid 4957 : 96/555\\n\"\n",
      "[1] \"Processing uid 4998 : 97/555\\n\"\n",
      "[1] \"Processing uid 5129 : 98/555\\n\"\n",
      "[1] \"Processing uid 5164 : 99/555\\n\"\n",
      "[1] \"Processing uid 5218 : 100/555\\n\"\n",
      "[1] \"Processing uid 5246 : 101/555\\n\"\n",
      "[1] \"Processing uid 5275 : 102/555\\n\"\n",
      "[1] \"Processing uid 5357 : 103/555\\n\"\n",
      "[1] \"Processing uid 5371 : 104/555\\n\"\n",
      "[1] \"Processing uid 5395 : 105/555\\n\"\n",
      "[1] \"Processing uid 5403 : 106/555\\n\"\n",
      "[1] \"Processing uid 5438 : 107/555\\n\"\n",
      "[1] \"Not enough samples (less than one month!) !\\n\"\n",
      "[1] \"Processing uid 5439 : 108/555\\n\"\n",
      "[1] \"Processing uid 545 : 109/555\\n\"\n",
      "[1] \"Processing uid 555 : 110/555\\n\"\n",
      "[1] \"Processing uid 5568 : 111/555\\n\"\n",
      "[1] \"Processing uid 5615 : 112/555\\n\"\n",
      "[1] \"Processing uid 5738 : 113/555\\n\"\n",
      "[1] \"Processing uid 5746 : 114/555\\n\"\n",
      "[1] \"Processing uid 5785 : 115/555\\n\"\n",
      "[1] \"Processing uid 5796 : 116/555\\n\"\n",
      "[1] \"Processing uid 5814 : 117/555\\n\"\n",
      "[1] \"Processing uid 5817 : 118/555\\n\"\n",
      "[1] \"Processing uid 585 : 119/555\\n\"\n",
      "[1] \"Processing uid 5874 : 120/555\\n\"\n",
      "[1] \"Processing uid 5892 : 121/555\\n\"\n",
      "[1] \"Processing uid 5949 : 122/555\\n\"\n",
      "[1] \"Processing uid 5972 : 123/555\\n\"\n",
      "[1] \"Processing uid 6072 : 124/555\\n\"\n",
      "[1] \"Processing uid 6101 : 125/555\\n\"\n",
      "[1] \"Processing uid 6121 : 126/555\\n\"\n",
      "[1] \"Processing uid 6139 : 127/555\\n\"\n",
      "[1] \"Processing uid 624 : 128/555\\n\"\n",
      "[1] \"Processing uid 6266 : 129/555\\n\"\n",
      "[1] \"Processing uid 6412 : 130/555\\n\"\n",
      "[1] \"Processing uid 6423 : 131/555\\n\"\n",
      "[1] \"Processing uid 6545 : 132/555\\n\"\n",
      "[1] \"Processing uid 6636 : 133/555\\n\"\n",
      "[1] \"Processing uid 6643 : 134/555\\n\"\n",
      "[1] \"Processing uid 6673 : 135/555\\n\"\n",
      "[1] \"Processing uid 6730 : 136/555\\n\"\n",
      "[1] \"Processing uid 6836 : 137/555\\n\"\n",
      "[1] \"Processing uid 6871 : 138/555\\n\"\n",
      "[1] \"Processing uid 6910 : 139/555\\n\"\n",
      "[1] \"Processing uid 6941 : 140/555\\n\"\n",
      "[1] \"Processing uid 6979 : 141/555\\n\"\n",
      "[1] \"Processing uid 6990 : 142/555\\n\"\n",
      "[1] \"Processing uid 7016 : 143/555\\n\"\n",
      "[1] \"Processing uid 7108 : 144/555\\n\"\n",
      "[1] \"Processing uid 7240 : 145/555\\n\"\n",
      "[1] \"Processing uid 7361 : 146/555\\n\"\n",
      "[1] \"Processing uid 739 : 147/555\\n\"\n",
      "[1] \"Processing uid 7429 : 148/555\\n\"\n",
      "[1] \"Processing uid 744 : 149/555\\n\"\n",
      "[1] \"Processing uid 7504 : 150/555\\n\"\n",
      "[1] \"Processing uid 7510 : 151/555\\n\"\n",
      "[1] \"Processing uid 7531 : 152/555\\n\"\n",
      "[1] \"Processing uid 7536 : 153/555\\n\"\n",
      "[1] \"Processing uid 7680 : 154/555\\n\"\n",
      "[1] \"Processing uid 7731 : 155/555\\n\"\n",
      "[1] \"Processing uid 7739 : 156/555\\n\"\n",
      "[1] \"Processing uid 7741 : 157/555\\n\"\n",
      "[1] \"Processing uid 7767 : 158/555\\n\"\n",
      "[1] \"Processing uid 7769 : 159/555\\n\"\n",
      "[1] \"Processing uid 7800 : 160/555\\n\"\n",
      "[1] \"Processing uid 7850 : 161/555\\n\"\n",
      "[1] \"Processing uid 7863 : 162/555\\n\"\n",
      "[1] \"Processing uid 7866 : 163/555\\n\"\n",
      "[1] \"Processing uid 7900 : 164/555\\n\"\n",
      "[1] \"Not enough samples (less than one month!) !\\n\"\n",
      "[1] \"Processing uid 7940 : 165/555\\n\"\n",
      "[1] \"Processing uid 7965 : 166/555\\n\"\n",
      "[1] \"Processing uid 7989 : 167/555\\n\"\n",
      "[1] \"Processing uid 8031 : 168/555\\n\"\n",
      "[1] \"Processing uid 8047 : 169/555\\n\"\n",
      "[1] \"Processing uid 8084 : 170/555\\n\"\n",
      "[1] \"Processing uid 8155 : 171/555\\n\"\n",
      "[1] \"Processing uid 8197 : 172/555\\n\"\n",
      "[1] \"Processing uid 8236 : 173/555\\n\"\n",
      "[1] \"Processing uid 8317 : 174/555\\n\"\n",
      "[1] \"Processing uid 8419 : 175/555\\n\"\n",
      "[1] \"Processing uid 8597 : 176/555\\n\"\n",
      "[1] \"Processing uid 86 : 177/555\\n\"\n",
      "[1] \"Processing uid 861 : 178/555\\n\"\n",
      "[1] \"Processing uid 8626 : 179/555\\n\"\n",
      "[1] \"Processing uid 8669 : 180/555\\n\"\n",
      "[1] \"Processing uid 871 : 181/555\\n\"\n",
      "[1] \"Processing uid 8829 : 182/555\\n\"\n",
      "[1] \"Processing uid 8872 : 183/555\\n\"\n",
      "[1] \"Processing uid 890 : 184/555\\n\"\n",
      "[1] \"Processing uid 8967 : 185/555\\n\"\n",
      "[1] \"Processing uid 898 : 186/555\\n\"\n",
      "[1] \"Processing uid 900 : 187/555\\n\"\n",
      "[1] \"Processing uid 9019 : 188/555\\n\"\n",
      "[1] \"Processing uid 9052 : 189/555\\n\"\n",
      "[1] \"Processing uid 9121 : 190/555\\n\"\n",
      "[1] \"Processing uid 9160 : 191/555\\n\"\n",
      "[1] \"Processing uid 93 : 192/555\\n\"\n",
      "[1] \"Processing uid 9356 : 193/555\\n\"\n",
      "[1] \"Processing uid 936 : 194/555\\n\"\n",
      "[1] \"Processing uid 94 : 195/555\\n\"\n",
      "[1] \"Processing uid 9451 : 196/555\\n\"\n",
      "[1] \"Processing uid 9499 : 197/555\\n\"\n",
      "[1] \"Processing uid 9509 : 198/555\\n\"\n",
      "[1] \"Processing uid 9609 : 199/555\\n\"\n",
      "[1] \"Processing uid 9631 : 200/555\\n\"\n",
      "[1] \"Processing uid 9643 : 201/555\\n\"\n",
      "[1] \"Processing uid 9654 : 202/555\\n\"\n",
      "[1] \"Processing uid 9701 : 203/555\\n\"\n",
      "[1] \"Processing uid 9729 : 204/555\\n\"\n",
      "[1] \"Processing uid 9737 : 205/555\\n\"\n",
      "[1] \"Processing uid 9771 : 206/555\\n\"\n",
      "[1] \"Processing uid 9830 : 207/555\\n\"\n",
      "[1] \"Processing uid 991 : 208/555\\n\"\n",
      "[1] \"Not enough samples (less than one month!) !\\n\"\n",
      "[1] \"Processing uid 9915 : 209/555\\n\"\n",
      "[1] \"Processing uid 9919 : 210/555\\n\"\n",
      "[1] \"Processing uid 9922 : 211/555\\n\"\n",
      "[1] \"Processing uid 9923 : 212/555\\n\"\n",
      "[1] \"Processing uid 9926 : 213/555\\n\"\n",
      "[1] \"Processing uid 9929 : 214/555\\n\"\n",
      "[1] \"Processing uid 9932 : 215/555\\n\"\n",
      "[1] \"Processing uid 9933 : 216/555\\n\"\n",
      "[1] \"Processing uid 9934 : 217/555\\n\"\n",
      "[1] \"Processing uid 9936 : 218/555\\n\"\n",
      "[1] \"Processing uid 9937 : 219/555\\n\"\n",
      "[1] \"Processing uid 9939 : 220/555\\n\"\n",
      "[1] \"Processing uid 9942 : 221/555\\n\"\n",
      "[1] \"Processing uid 9971 : 222/555\\n\"\n",
      "[1] \"Processing uid 9982 : 223/555\\n\"\n",
      "[1] \"Processing uid 1069 : 224/555\\n\"\n",
      "[1] \"Processing uid 1086 : 225/555\\n\"\n",
      "[1] \"Processing uid 1105 : 226/555\\n\"\n",
      "[1] \"Processing uid 1167 : 227/555\\n\"\n",
      "[1] \"Processing uid 1331 : 228/555\\n\"\n",
      "[1] \"Processing uid 135 : 229/555\\n\"\n",
      "[1] \"Processing uid 1392 : 230/555\\n\"\n",
      "[1] \"Processing uid 1450 : 231/555\\n\"\n",
      "[1] \"Processing uid 1479 : 232/555\\n\"\n",
      "[1] \"Processing uid 1500 : 233/555\\n\"\n",
      "[1] \"Processing uid 1507 : 234/555\\n\"\n",
      "[1] \"Processing uid 1577 : 235/555\\n\"\n",
      "[1] \"Processing uid 160 : 236/555\\n\"\n",
      "[1] \"Processing uid 1617 : 237/555\\n\"\n",
      "[1] \"Processing uid 1629 : 238/555\\n\"\n",
      "[1] \"Processing uid 1632 : 239/555\\n\"\n",
      "[1] \"Processing uid 1681 : 240/555\\n\"\n",
      "[1] \"Processing uid 1696 : 241/555\\n\"\n",
      "[1] \"Processing uid 1700 : 242/555\\n\"\n",
      "[1] \"Not enough samples (less than one month!) !\\n\"\n",
      "[1] \"Processing uid 1731 : 243/555\\n\"\n",
      "[1] \"Processing uid 1830 : 244/555\\n\"\n",
      "[1] \"Processing uid 1854 : 245/555\\n\"\n",
      "[1] \"Processing uid 1947 : 246/555\\n\"\n",
      "[1] \"Processing uid 1994 : 247/555\\n\"\n",
      "[1] \"Processing uid 2004 : 248/555\\n\"\n",
      "[1] \"Processing uid 2018 : 249/555\\n\"\n",
      "[1] \"Processing uid 2034 : 250/555\\n\"\n",
      "[1] \"Processing uid 22 : 251/555\\n\"\n",
      "[1] \"Processing uid 222 : 252/555\\n\"\n",
      "[1] \"Not enough samples (less than one month!) !\\n\"\n",
      "[1] \"Processing uid 2247 : 253/555\\n\"\n",
      "[1] \"Processing uid 2360 : 254/555\\n\"\n",
      "[1] \"Processing uid 2365 : 255/555\\n\"\n",
      "[1] \"Processing uid 2378 : 256/555\\n\"\n",
      "[1] \"Processing uid 243 : 257/555\\n\"\n",
      "[1] \"Processing uid 2557 : 258/555\\n\"\n",
      "[1] \"Not enough samples (less than one month!) !\\n\"\n",
      "[1] \"Processing uid 2606 : 259/555\\n\"\n",
      "[1] \"Processing uid 2641 : 260/555\\n\"\n",
      "[1] \"Processing uid 2742 : 261/555\\n\"\n",
      "[1] \"Processing uid 275 : 262/555\\n\"\n",
      "[1] \"Processing uid 2769 : 263/555\\n\"\n",
      "[1] \"Processing uid 2787 : 264/555\\n\"\n",
      "[1] \"Processing uid 280 : 265/555\\n\"\n",
      "[1] \"Processing uid 2815 : 266/555\\n\"\n",
      "[1] \"Not enough samples (less than one month!) !\\n\"\n",
      "[1] \"Processing uid 2845 : 267/555\\n\"\n",
      "[1] \"Processing uid 2953 : 268/555\\n\"\n",
      "[1] \"Processing uid 297 : 269/555\\n\"\n",
      "[1] \"Processing uid 2995 : 270/555\\n\"\n",
      "[1] \"Processing uid 3032 : 271/555\\n\"\n",
      "[1] \"Processing uid 3044 : 272/555\\n\"\n",
      "[1] \"Processing uid 3087 : 273/555\\n\"\n",
      "[1] \"Processing uid 3092 : 274/555\\n\"\n",
      "[1] \"Processing uid 3221 : 275/555\\n\"\n",
      "[1] \"Processing uid 3263 : 276/555\\n\"\n",
      "[1] \"Processing uid 3273 : 277/555\\n\"\n",
      "[1] \"Processing uid 3368 : 278/555\\n\"\n",
      "[1] \"Processing uid 3392 : 279/555\\n\"\n",
      "[1] \"Processing uid 3394 : 280/555\\n\"\n",
      "[1] \"Processing uid 3411 : 281/555\\n\"\n",
      "[1] \"Processing uid 3425 : 282/555\\n\"\n",
      "[1] \"Processing uid 3443 : 283/555\\n\"\n",
      "[1] \"Processing uid 347 : 284/555\\n\"\n",
      "[1] \"Processing uid 3484 : 285/555\\n\"\n",
      "[1] \"Processing uid 3531 : 286/555\\n\"\n",
      "[1] \"Processing uid 3615 : 287/555\\n\"\n",
      "[1] \"Processing uid 3649 : 288/555\\n\"\n",
      "[1] \"Processing uid 3652 : 289/555\\n\"\n",
      "[1] \"Processing uid 3678 : 290/555\\n\"\n",
      "[1] \"Processing uid 3687 : 291/555\\n\"\n",
      "[1] \"Processing uid 3721 : 292/555\\n\"\n",
      "[1] \"Processing uid 3736 : 293/555\\n\"\n",
      "[1] \"Processing uid 3795 : 294/555\\n\"\n",
      "[1] \"Processing uid 3829 : 295/555\\n\"\n",
      "[1] \"Processing uid 3864 : 296/555\\n\"\n",
      "[1] \"Processing uid 3873 : 297/555\\n\"\n",
      "[1] \"Processing uid 3883 : 298/555\\n\"\n",
      "[1] \"Processing uid 3893 : 299/555\\n\"\n",
      "[1] \"Processing uid 3916 : 300/555\\n\"\n",
      "[1] \"Processing uid 3938 : 301/555\\n\"\n",
      "[1] \"Processing uid 3973 : 302/555\\n\"\n",
      "[1] \"Processing uid 4220 : 303/555\\n\"\n",
      "[1] \"Processing uid 4296 : 304/555\\n\"\n",
      "[1] \"Processing uid 4298 : 305/555\\n\"\n",
      "[1] \"Processing uid 4313 : 306/555\\n\"\n",
      "[1] \"Processing uid 4321 : 307/555\\n\"\n",
      "[1] \"Processing uid 4329 : 308/555\\n\"\n",
      "[1] \"Processing uid 434 : 309/555\\n\"\n",
      "[1] \"Processing uid 4342 : 310/555\\n\"\n",
      "[1] \"Processing uid 4383 : 311/555\\n\"\n",
      "[1] \"Processing uid 4416 : 312/555\\n\"\n",
      "[1] \"Processing uid 4438 : 313/555\\n\"\n",
      "[1] \"Processing uid 4495 : 314/555\\n\"\n",
      "[1] \"Processing uid 4505 : 315/555\\n\"\n",
      "[1] \"Processing uid 4514 : 316/555\\n\"\n",
      "[1] \"Processing uid 4544 : 317/555\\n\"\n",
      "[1] \"Processing uid 457 : 318/555\\n\"\n",
      "[1] \"Processing uid 4590 : 319/555\\n\"\n",
      "[1] \"Not enough samples (less than one month!) !\\n\"\n",
      "[1] \"Processing uid 4660 : 320/555\\n\"\n",
      "[1] \"Processing uid 4670 : 321/555\\n\"\n",
      "[1] \"Processing uid 4773 : 322/555\\n\"\n",
      "[1] \"Processing uid 4776 : 323/555\\n\"\n",
      "[1] \"Processing uid 48 : 324/555\\n\"\n",
      "[1] \"Processing uid 4800 : 325/555\\n\"\n",
      "[1] \"Processing uid 4856 : 326/555\\n\"\n",
      "[1] \"Processing uid 4864 : 327/555\\n\"\n",
      "[1] \"Processing uid 4874 : 328/555\\n\"\n",
      "[1] \"Processing uid 490 : 329/555\\n\"\n",
      "[1] \"Processing uid 4922 : 330/555\\n\"\n",
      "[1] \"Processing uid 4946 : 331/555\\n\"\n",
      "[1] \"Processing uid 4956 : 332/555\\n\"\n",
      "[1] \"Processing uid 4967 : 333/555\\n\"\n",
      "[1] \"Processing uid 499 : 334/555\\n\"\n",
      "[1] \"Processing uid 5026 : 335/555\\n\"\n",
      "[1] \"Processing uid 5060 : 336/555\\n\"\n",
      "[1] \"Processing uid 508 : 337/555\\n\"\n",
      "[1] \"Processing uid 5109 : 338/555\\n\"\n",
      "[1] \"Processing uid 5209 : 339/555\\n\"\n",
      "[1] \"Processing uid 5262 : 340/555\\n\"\n",
      "[1] \"Processing uid 5288 : 341/555\\n\"\n",
      "[1] \"Not enough samples (less than one month!) !\\n\"\n",
      "[1] \"Processing uid 5356 : 342/555\\n\"\n",
      "[1] \"Processing uid 5448 : 343/555\\n\"\n",
      "[1] \"Processing uid 5449 : 344/555\\n\"\n",
      "[1] \"Processing uid 5456 : 345/555\\n\"\n",
      "[1] \"Processing uid 5485 : 346/555\\n\"\n",
      "[1] \"Processing uid 5539 : 347/555\\n\"\n",
      "[1] \"Processing uid 5545 : 348/555\\n\"\n",
      "[1] \"Processing uid 5552 : 349/555\\n\"\n",
      "[1] \"Processing uid 5673 : 350/555\\n\"\n",
      "[1] \"Processing uid 5677 : 351/555\\n\"\n",
      "[1] \"Processing uid 5786 : 352/555\\n\"\n",
      "[1] \"Processing uid 580 : 353/555\\n\"\n",
      "[1] \"Processing uid 5852 : 354/555\\n\"\n",
      "[1] \"Processing uid 5889 : 355/555\\n\"\n",
      "[1] \"Processing uid 59 : 356/555\\n\"\n",
      "[1] \"Processing uid 5938 : 357/555\\n\"\n",
      "[1] \"Processing uid 5959 : 358/555\\n\"\n",
      "[1] \"Processing uid 5994 : 359/555\\n\"\n",
      "[1] \"Processing uid 6078 : 360/555\\n\"\n",
      "[1] \"Processing uid 6165 : 361/555\\n\"\n",
      "[1] \"Processing uid 6191 : 362/555\\n\"\n",
      "[1] \"Processing uid 6377 : 363/555\\n\"\n",
      "[1] \"Processing uid 6378 : 364/555\\n\"\n",
      "[1] \"Processing uid 6500 : 365/555\\n\"\n",
      "[1] \"Processing uid 6578 : 366/555\\n\"\n",
      "[1] \"Processing uid 6593 : 367/555\\n\"\n",
      "[1] \"Processing uid 661 : 368/555\\n\"\n",
      "[1] \"Processing uid 6692 : 369/555\\n\"\n",
      "[1] \"Processing uid 6826 : 370/555\\n\"\n",
      "[1] \"Processing uid 6887 : 371/555\\n\"\n",
      "[1] \"Not enough samples (less than one month!) !\\n\"\n",
      "[1] \"Processing uid 7030 : 372/555\\n\"\n",
      "[1] \"Processing uid 7062 : 373/555\\n\"\n",
      "[1] \"Processing uid 7166 : 374/555\\n\"\n",
      "[1] \"Not enough samples (less than one month!) !\\n\"\n",
      "[1] \"Processing uid 7319 : 375/555\\n\"\n",
      "[1] \"Processing uid 7390 : 376/555\\n\"\n",
      "[1] \"Processing uid 7408 : 377/555\\n\"\n",
      "[1] \"Not enough samples (less than one month!) !\\n\"\n",
      "[1] \"Processing uid 7436 : 378/555\\n\"\n",
      "[1] \"Processing uid 7491 : 379/555\\n\"\n",
      "[1] \"Processing uid 7512 : 380/555\\n\"\n",
      "[1] \"Processing uid 7527 : 381/555\\n\"\n",
      "[1] \"Processing uid 7597 : 382/555\\n\"\n",
      "[1] \"Processing uid 7617 : 383/555\\n\"\n",
      "[1] \"Processing uid 7693 : 384/555\\n\"\n",
      "[1] \"Processing uid 7703 : 385/555\\n\"\n",
      "[1] \"Processing uid 772 : 386/555\\n\"\n",
      "[1] \"Processing uid 774 : 387/555\\n\"\n",
      "[1] \"Processing uid 7788 : 388/555\\n\"\n",
      "[1] \"Processing uid 7875 : 389/555\\n\"\n",
      "[1] \"Processing uid 7881 : 390/555\\n\"\n",
      "[1] \"Processing uid 7893 : 391/555\\n\"\n",
      "[1] \"Processing uid 7901 : 392/555\\n\"\n",
      "[1] \"Processing uid 7951 : 393/555\\n\"\n",
      "[1] \"Processing uid 7982 : 394/555\\n\"\n",
      "[1] \"Processing uid 7984 : 395/555\\n\"\n",
      "[1] \"Processing uid 8034 : 396/555\\n\"\n",
      "[1] \"Processing uid 8046 : 397/555\\n\"\n",
      "[1] \"Processing uid 8061 : 398/555\\n\"\n",
      "[1] \"Processing uid 8071 : 399/555\\n\"\n",
      "[1] \"Not enough samples (less than one month!) !\\n\"\n",
      "[1] \"Processing uid 8079 : 400/555\\n\"\n",
      "[1] \"Processing uid 8092 : 401/555\\n\"\n",
      "[1] \"Processing uid 8117 : 402/555\\n\"\n",
      "[1] \"Processing uid 8121 : 403/555\\n\"\n",
      "[1] \"Processing uid 8142 : 404/555\\n\"\n",
      "[1] \"Processing uid 8168 : 405/555\\n\"\n",
      "[1] \"Processing uid 8183 : 406/555\\n\"\n",
      "[1] \"Processing uid 8188 : 407/555\\n\"\n",
      "[1] \"Processing uid 8201 : 408/555\\n\"\n",
      "[1] \"Processing uid 821 : 409/555\\n\"\n",
      "[1] \"Processing uid 8218 : 410/555\\n\"\n",
      "[1] \"Processing uid 8282 : 411/555\\n\"\n",
      "[1] \"Processing uid 8292 : 412/555\\n\"\n",
      "[1] \"Processing uid 8342 : 413/555\\n\"\n",
      "[1] \"Processing uid 8467 : 414/555\\n\"\n",
      "[1] \"Processing uid 8574 : 415/555\\n\"\n",
      "[1] \"Processing uid 8589 : 416/555\\n\"\n",
      "[1] \"Processing uid 8645 : 417/555\\n\"\n",
      "[1] \"Processing uid 8736 : 418/555\\n\"\n",
      "[1] \"Processing uid 8741 : 419/555\\n\"\n",
      "[1] \"Processing uid 878 : 420/555\\n\"\n",
      "[1] \"Processing uid 8852 : 421/555\\n\"\n",
      "[1] \"Processing uid 8956 : 422/555\\n\"\n",
      "[1] \"Processing uid 8961 : 423/555\\n\"\n",
      "[1] \"Processing uid 8986 : 424/555\\n\"\n",
      "[1] \"Processing uid 9036 : 425/555\\n\"\n",
      "[1] \"Processing uid 9139 : 426/555\\n\"\n",
      "[1] \"Processing uid 9141 : 427/555\\n\"\n",
      "[1] \"Processing uid 9165 : 428/555\\n\"\n",
      "[1] \"Processing uid 9201 : 429/555\\n\"\n",
      "[1] \"Processing uid 9206 : 430/555\\n\"\n",
      "[1] \"Processing uid 9213 : 431/555\\n\"\n",
      "[1] \"Processing uid 9233 : 432/555\\n\"\n",
      "[1] \"Processing uid 9248 : 433/555\\n\"\n",
      "[1] \"Processing uid 9295 : 434/555\\n\"\n",
      "[1] \"Processing uid 9340 : 435/555\\n\"\n",
      "[1] \"Processing uid 9343 : 436/555\\n\"\n",
      "[1] \"Processing uid 9462 : 437/555\\n\"\n",
      "[1] \"Processing uid 9484 : 438/555\\n\"\n",
      "[1] \"Processing uid 9488 : 439/555\\n\"\n",
      "[1] \"Processing uid 954 : 440/555\\n\"\n",
      "[1] \"Processing uid 9548 : 441/555\\n\"\n",
      "[1] \"Processing uid 9555 : 442/555\\n\"\n",
      "[1] \"Processing uid 9578 : 443/555\\n\"\n",
      "[1] \"Processing uid 9605 : 444/555\\n\"\n",
      "[1] \"Processing uid 9613 : 445/555\\n\"\n",
      "[1] \"Processing uid 9647 : 446/555\\n\"\n",
      "[1] \"Processing uid 9674 : 447/555\\n\"\n",
      "[1] \"Processing uid 9688 : 448/555\\n\"\n",
      "[1] \"Processing uid 9745 : 449/555\\n\"\n",
      "[1] \"Processing uid 9775 : 450/555\\n\"\n",
      "[1] \"Processing uid 9776 : 451/555\\n\"\n",
      "[1] \"Processing uid 9803 : 452/555\\n\"\n",
      "[1] \"Processing uid 9875 : 453/555\\n\"\n",
      "[1] \"Processing uid 9931 : 454/555\\n\"\n",
      "[1] \"Processing uid 9938 : 455/555\\n\"\n",
      "[1] \"Processing uid 9983 : 456/555\\n\"\n",
      "[1] \"Processing uid 1037 : 457/555\\n\"\n",
      "[1] \"Not enough samples (less than one month!) !\\n\"\n",
      "[1] \"Processing uid 115 : 458/555\\n\"\n",
      "[1] \"Not enough samples (less than one month!) !\\n\"\n",
      "[1] \"Processing uid 121 : 459/555\\n\"\n",
      "[1] \"Not enough samples (less than one month!) !\\n\"\n",
      "[1] \"Processing uid 130 : 460/555\\n\"\n",
      "[1] \"Not enough samples (less than one month!) !\\n\"\n",
      "[1] \"Processing uid 1310 : 461/555\\n\"\n",
      "[1] \"Not enough samples (less than one month!) !\\n\"\n",
      "[1] \"Processing uid 1314 : 462/555\\n\"\n",
      "[1] \"Not enough samples (less than one month!) !\\n\"\n",
      "[1] \"Processing uid 1586 : 463/555\\n\"\n",
      "[1] \"Not enough samples (less than one month!) !\\n\"\n",
      "[1] \"Processing uid 1766 : 464/555\\n\"\n",
      "[1] \"Not enough samples (less than one month!) !\\n\"\n",
      "[1] \"Processing uid 1889 : 465/555\\n\"\n",
      "[1] \"Not enough samples (less than one month!) !\\n\"\n",
      "[1] \"Processing uid 2075 : 466/555\\n\"\n",
      "[1] \"Not enough samples (less than one month!) !\\n\"\n",
      "[1] \"Processing uid 2354 : 467/555\\n\"\n",
      "[1] \"Not enough samples (less than one month!) !\\n\"\n",
      "[1] \"Processing uid 2366 : 468/555\\n\"\n",
      "[1] \"Not enough samples (less than one month!) !\\n\"\n",
      "[1] \"Processing uid 2401 : 469/555\\n\"\n",
      "[1] \"Not enough samples (less than one month!) !\\n\"\n",
      "[1] \"Processing uid 2465 : 470/555\\n\"\n",
      "[1] \"Not enough samples (less than one month!) !\\n\"\n",
      "[1] \"Processing uid 2472 : 471/555\\n\"\n",
      "[1] \"Not enough samples (less than one month!) !\\n\"\n",
      "[1] \"Processing uid 2505 : 472/555\\n\"\n",
      "[1] \"Not enough samples (less than one month!) !\\n\"\n",
      "[1] \"Processing uid 2667 : 473/555\\n\"\n",
      "[1] \"Not enough samples (less than one month!) !\\n\"\n",
      "[1] \"Processing uid 267 : 474/555\\n\"\n",
      "[1] \"Not enough samples (less than one month!) !\\n\"\n",
      "[1] \"Processing uid 2751 : 475/555\\n\"\n",
      "[1] \"Not enough samples (less than one month!) !\\n\"\n",
      "[1] \"Processing uid 2903 : 476/555\\n\"\n",
      "[1] \"Not enough samples (less than one month!) !\\n\"\n",
      "[1] \"Processing uid 2992 : 477/555\\n\"\n",
      "[1] \"Not enough samples (less than one month!) !\\n\"\n",
      "[1] \"Processing uid 3268 : 478/555\\n\"\n",
      "[1] \"Not enough samples (less than one month!) !\\n\"\n",
      "[1] \"Processing uid 3299 : 479/555\\n\"\n",
      "[1] \"Not enough samples (less than one month!) !\\n\"\n",
      "[1] \"Processing uid 3426 : 480/555\\n\"\n",
      "[1] \"Not enough samples (less than one month!) !\\n\"\n",
      "[1] \"Processing uid 3519 : 481/555\\n\"\n",
      "[1] \"Not enough samples (less than one month!) !\\n\"\n",
      "[1] \"Processing uid 3631 : 482/555\\n\"\n",
      "[1] \"Not enough samples (less than one month!) !\\n\"\n",
      "[1] \"Processing uid 3806 : 483/555\\n\"\n",
      "[1] \"Not enough samples (less than one month!) !\\n\"\n",
      "[1] \"Processing uid 3831 : 484/555\\n\"\n",
      "[1] \"Not enough samples (less than one month!) !\\n\"\n",
      "[1] \"Processing uid 3886 : 485/555\\n\"\n",
      "[1] \"Not enough samples (less than one month!) !\\n\"\n",
      "[1] \"Processing uid 4000 : 486/555\\n\"\n",
      "[1] \"Not enough samples (less than one month!) !\\n\"\n",
      "[1] \"Processing uid 4022 : 487/555\\n\"\n",
      "[1] \"Not enough samples (less than one month!) !\\n\"\n",
      "[1] \"Processing uid 4042 : 488/555\\n\"\n",
      "[1] \"Not enough samples (less than one month!) !\\n\"\n",
      "[1] \"Processing uid 4053 : 489/555\\n\"\n",
      "[1] \"Not enough samples (less than one month!) !\\n\"\n",
      "[1] \"Processing uid 4224 : 490/555\\n\"\n",
      "[1] \"Not enough samples (less than one month!) !\\n\"\n",
      "[1] \"Processing uid 4499 : 491/555\\n\"\n",
      "[1] \"Not enough samples (less than one month!) !\\n\"\n",
      "[1] \"Processing uid 470 : 492/555\\n\"\n",
      "[1] \"Not enough samples (less than one month!) !\\n\"\n",
      "[1] \"Processing uid 491 : 493/555\\n\"\n",
      "[1] \"Not enough samples (less than one month!) !\\n\"\n",
      "[1] \"Processing uid 4910 : 494/555\\n\"\n",
      "[1] \"Not enough samples (less than one month!) !\\n\"\n",
      "[1] \"Processing uid 4927 : 495/555\\n\"\n",
      "[1] \"Not enough samples (less than one month!) !\\n\"\n",
      "[1] \"Processing uid 4934 : 496/555\\n\"\n",
      "[1] \"Not enough samples (less than one month!) !\\n\"\n",
      "[1] \"Processing uid 507 : 497/555\\n\"\n",
      "[1] \"Not enough samples (less than one month!) !\\n\"\n",
      "[1] \"Processing uid 5087 : 498/555\\n\"\n",
      "[1] \"Not enough samples (less than one month!) !\\n\"\n",
      "[1] \"Processing uid 5226 : 499/555\\n\"\n",
      "[1] \"Not enough samples (less than one month!) !\\n\"\n",
      "[1] \"Processing uid 5252 : 500/555\\n\"\n",
      "[1] \"Not enough samples (less than one month!) !\\n\"\n",
      "[1] \"Processing uid 5279 : 501/555\\n\"\n",
      "[1] \"Not enough samples (less than one month!) !\\n\"\n",
      "[1] \"Processing uid 54 : 502/555\\n\"\n",
      "[1] \"Not enough samples (less than one month!) !\\n\"\n",
      "[1] \"Processing uid 5728 : 503/555\\n\"\n",
      "[1] \"Not enough samples (less than one month!) !\\n\"\n",
      "[1] \"Processing uid 5909 : 504/555\\n\"\n",
      "[1] \"Not enough samples (less than one month!) !\\n\"\n",
      "[1] \"Processing uid 5944 : 505/555\\n\"\n",
      "[1] \"Not enough samples (less than one month!) !\\n\"\n",
      "[1] \"Processing uid 6012 : 506/555\\n\"\n",
      "[1] \"Not enough samples (less than one month!) !\\n\"\n",
      "[1] \"Processing uid 6083 : 507/555\\n\"\n",
      "[1] \"Not enough samples (less than one month!) !\\n\"\n",
      "[1] \"Processing uid 6108 : 508/555\\n\"\n",
      "[1] \"Not enough samples (less than one month!) !\\n\"\n",
      "[1] \"Processing uid 6148 : 509/555\\n\"\n",
      "[1] \"Not enough samples (less than one month!) !\\n\"\n",
      "[1] \"Processing uid 6268 : 510/555\\n\"\n",
      "[1] \"Not enough samples (less than one month!) !\\n\"\n",
      "[1] \"Processing uid 6334 : 511/555\\n\"\n",
      "[1] \"Not enough samples (less than one month!) !\\n\"\n",
      "[1] \"Processing uid 6429 : 512/555\\n\"\n",
      "[1] \"Not enough samples (less than one month!) !\\n\"\n",
      "[1] \"Processing uid 645 : 513/555\\n\"\n",
      "[1] \"Not enough samples (less than one month!) !\\n\"\n",
      "[1] \"Processing uid 6497 : 514/555\\n\"\n",
      "[1] \"Not enough samples (less than one month!) !\\n\"\n",
      "[1] \"Processing uid 6536 : 515/555\\n\"\n",
      "[1] \"Not enough samples (less than one month!) !\\n\"\n",
      "[1] \"Processing uid 6547 : 516/555\\n\"\n",
      "[1] \"Not enough samples (less than one month!) !\\n\"\n",
      "[1] \"Processing uid 6614 : 517/555\\n\"\n",
      "[1] \"Not enough samples (less than one month!) !\\n\"\n",
      "[1] \"Processing uid 6689 : 518/555\\n\"\n",
      "[1] \"Not enough samples (less than one month!) !\\n\"\n",
      "[1] \"Processing uid 6691 : 519/555\\n\"\n",
      "[1] \"Not enough samples (less than one month!) !\\n\"\n",
      "[1] \"Processing uid 6799 : 520/555\\n\"\n",
      "[1] \"Not enough samples (less than one month!) !\\n\"\n",
      "[1] \"Processing uid 68 : 521/555\\n\"\n",
      "[1] \"Not enough samples (less than one month!) !\\n\"\n",
      "[1] \"Processing uid 6956 : 522/555\\n\"\n",
      "[1] \"Not enough samples (less than one month!) !\\n\"\n",
      "[1] \"Processing uid 7013 : 523/555\\n\"\n",
      "[1] \"Not enough samples (less than one month!) !\\n\"\n",
      "[1] \"Processing uid 7024 : 524/555\\n\"\n",
      "[1] \"Not enough samples (less than one month!) !\\n\"\n",
      "[1] \"Processing uid 7114 : 525/555\\n\"\n",
      "[1] \"Not enough samples (less than one month!) !\\n\"\n",
      "[1] \"Processing uid 7122 : 526/555\\n\"\n",
      "[1] \"Not enough samples (less than one month!) !\\n\"\n",
      "[1] \"Processing uid 7208 : 527/555\\n\"\n",
      "[1] \"Not enough samples (less than one month!) !\\n\"\n",
      "[1] \"Processing uid 7276 : 528/555\\n\"\n",
      "[1] \"Not enough samples (less than one month!) !\\n\"\n",
      "[1] \"Processing uid 7287 : 529/555\\n\"\n",
      "[1] \"Not enough samples (less than one month!) !\\n\"\n",
      "[1] \"Processing uid 7468 : 530/555\\n\"\n",
      "[1] \"Not enough samples (less than one month!) !\\n\"\n",
      "[1] \"Processing uid 7549 : 531/555\\n\"\n",
      "[1] \"Not enough samples (less than one month!) !\\n\"\n",
      "[1] \"Processing uid 7585 : 532/555\\n\"\n",
      "[1] \"Not enough samples (less than one month!) !\\n\"\n",
      "[1] \"Processing uid 7587 : 533/555\\n\"\n",
      "[1] \"Not enough samples (less than one month!) !\\n\"\n",
      "[1] \"Processing uid 7627 : 534/555\\n\"\n",
      "[1] \"Not enough samples (less than one month!) !\\n\"\n",
      "[1] \"Processing uid 765 : 535/555\\n\"\n",
      "[1] \"Not enough samples (less than one month!) !\\n\"\n",
      "[1] \"Processing uid 7764 : 536/555\\n\"\n",
      "[1] \"Not enough samples (less than one month!) !\\n\"\n",
      "[1] \"Processing uid 7787 : 537/555\\n\"\n",
      "[1] \"Not enough samples (less than one month!) !\\n\"\n",
      "[1] \"Processing uid 8029 : 538/555\\n\"\n",
      "[1] \"Not enough samples (less than one month!) !\\n\"\n",
      "[1] \"Processing uid 8163 : 539/555\\n\"\n",
      "[1] \"Not enough samples (less than one month!) !\\n\"\n",
      "[1] \"Processing uid 8328 : 540/555\\n\"\n",
      "[1] \"Not enough samples (less than one month!) !\\n\"\n",
      "[1] \"Processing uid 8368 : 541/555\\n\"\n",
      "[1] \"Not enough samples (less than one month!) !\\n\"\n",
      "[1] \"Processing uid 8733 : 542/555\\n\"\n",
      "[1] \"Not enough samples (less than one month!) !\\n\"\n",
      "[1] \"Processing uid 8767 : 543/555\\n\"\n",
      "[1] \"Not enough samples (less than one month!) !\\n\"\n",
      "[1] \"Processing uid 8807 : 544/555\\n\"\n",
      "[1] \"Not enough samples (less than one month!) !\\n\"\n",
      "[1] \"Processing uid 8848 : 545/555\\n\"\n",
      "[1] \"Not enough samples (less than one month!) !\\n\"\n",
      "[1] \"Processing uid 8942 : 546/555\\n\"\n",
      "[1] \"Not enough samples (less than one month!) !\\n\"\n",
      "[1] \"Processing uid 9195 : 547/555\\n\"\n",
      "[1] \"Not enough samples (less than one month!) !\\n\"\n",
      "[1] \"Processing uid 9370 : 548/555\\n\"\n",
      "[1] \"Not enough samples (less than one month!) !\\n\"\n",
      "[1] \"Processing uid 9610 : 549/555\\n\"\n",
      "[1] \"Not enough samples (less than one month!) !\\n\"\n",
      "[1] \"Processing uid 9612 : 550/555\\n\"\n",
      "[1] \"Not enough samples (less than one month!) !\\n\"\n",
      "[1] \"Processing uid 9624 : 551/555\\n\"\n",
      "[1] \"Not enough samples (less than one month!) !\\n\"\n",
      "[1] \"Processing uid 9818 : 552/555\\n\"\n",
      "[1] \"Not enough samples (less than one month!) !\\n\"\n",
      "[1] \"Processing uid 9846 : 553/555\\n\"\n",
      "[1] \"Not enough samples (less than one month!) !\\n\"\n",
      "[1] \"Processing uid 9912 : 554/555\\n\"\n",
      "[1] \"Not enough samples (less than one month!) !\\n\"\n",
      "[1] \"Processing uid 9921 : 555/555\\n\"\n",
      "[1] \"Not enough samples (less than one month!) !\\n\"\n"
     ]
    }
   ],
   "source": [
    "if(!require(plyr)){\n",
    "    install.packages(\"plyr\")}\n",
    "\n",
    "rm.large<-colwise(function(x){\n",
    "  return(ifelse(x > 100, NA, x))})\n",
    "\n",
    "data = list()\n",
    "for (i in 1:length(uids.input[idx.ok])){ \n",
    "\n",
    "  # current user info\n",
    "  uid = uids.input[idx.ok[i]]  \n",
    "  user_name = as.character(user_names$name[which(user_names$ID == uid)])\n",
    "  print(paste('Processing uid ', uid, ' : ', i, '/', length(idx.ok), '\\n', sep = ''))\n",
    "\n",
    "  # get data for current user\n",
    "  files_60_i = files_60[grep(paste('/', uid, '_hourly.csv', sep=''), files_60)]\n",
    "  data_list_60 = lapply(files_60_i, function(f) {\n",
    "    # get current data  \n",
    "    data = read.csv(f)   \n",
    "    return(data)\n",
    "  })\n",
    "    \n",
    "  # concatenate data across years\n",
    "  data_60_sel = concatenate_data(data_list_60)  \n",
    "  names(data_60_sel)[names(data_60_sel)==\"use\"] <- \"total\"\n",
    "    \n",
    "  # mark unreasonably high values by NA\n",
    "  dates = data_60_sel$date\n",
    "  data_60_sel$date <- NULL\n",
    "  data_60_sel = rm.large(data_60_sel)\n",
    "  data_60_sel$date = dates\n",
    "      \n",
    "  # skip users that don't have enough data, at least a month of hourly data\n",
    "  if (nrow(data_60_sel) < 30 * 24) {\n",
    "    print('Not enough samples (less than one month!) !\\n')\n",
    "    next\n",
    "    #return(NULL)\n",
    "  }  \n",
    "  \n",
    "  # add in weather (temperature) data \n",
    "  data_60_sel = merge(data_60_sel, subset(weather.hourly, select = c('date', 'TemperatureF')), by = 'date')  \n",
    "  names(data_60_sel)[names(data_60_sel)==\"TemperatureF\"] <- \"Temperature\"\n",
    "  \n",
    "  # skip users that don't have enough data, at least a month of hourly data\n",
    "  if (nrow(data_60_sel) < 30 * 24) {\n",
    "    print('Not enough samples (less than one month!) !\\n')\n",
    "    next\n",
    "    #return(NULL)\n",
    "  }  \n",
    "    \n",
    "  data[[uid]] = data_60_sel\n",
    "#   return(data_60_sel)\n",
    "# })\n",
    "}"
   ]
  },
  {
   "cell_type": "code",
   "execution_count": 7,
   "metadata": {
    "collapsed": false
   },
   "outputs": [
    {
     "data": {
      "text/html": [
       "<table>\n",
       "<thead><tr><th></th><th scope=col>X</th><th scope=col>ID</th><th scope=col>name</th></tr></thead>\n",
       "<tbody>\n",
       "\t<tr><th scope=row>138</th><td>138</td><td>6836</td><td>Nelson</td></tr>\n",
       "</tbody>\n",
       "</table>\n"
      ],
      "text/latex": [
       "\\begin{tabular}{r|lll}\n",
       "  & X & ID & name\\\\\n",
       "\\hline\n",
       "\t138 & 138 & 6836 & Nelson\\\\\n",
       "\\end{tabular}\n"
      ],
      "text/plain": [
       "      X   ID   name\n",
       "138 138 6836 Nelson"
      ]
     },
     "execution_count": 7,
     "metadata": {},
     "output_type": "execute_result"
    }
   ],
   "source": [
    "user_names[user_names$name=='Nelson',]"
   ]
  },
  {
   "cell_type": "code",
   "execution_count": 8,
   "metadata": {
    "collapsed": false
   },
   "outputs": [
    {
     "data": {
      "text/html": [
       "443"
      ],
      "text/latex": [
       "443"
      ],
      "text/markdown": [
       "443"
      ],
      "text/plain": [
       "[1] 443"
      ]
     },
     "execution_count": 8,
     "metadata": {},
     "output_type": "execute_result"
    }
   ],
   "source": [
    "length(data)"
   ]
  },
  {
   "cell_type": "code",
   "execution_count": 9,
   "metadata": {
    "collapsed": false
   },
   "outputs": [
    {
     "data": {
      "text/html": [
       "TRUE"
      ],
      "text/latex": [
       "TRUE"
      ],
      "text/markdown": [
       "TRUE"
      ],
      "text/plain": [
       "[1] TRUE"
      ]
     },
     "execution_count": 9,
     "metadata": {},
     "output_type": "execute_result"
    }
   ],
   "source": [
    "'6836' %in% names(data)"
   ]
  },
  {
   "cell_type": "code",
   "execution_count": 10,
   "metadata": {
    "collapsed": false
   },
   "outputs": [
    {
     "data": {
      "text/html": [
       "<ol class=list-inline>\n",
       "\t<li>16708</li>\n",
       "\t<li>20</li>\n",
       "</ol>\n"
      ],
      "text/latex": [
       "\\begin{enumerate*}\n",
       "\\item 16708\n",
       "\\item 20\n",
       "\\end{enumerate*}\n"
      ],
      "text/markdown": [
       "1. 16708\n",
       "2. 20\n",
       "\n",
       "\n"
      ],
      "text/plain": [
       "[1] 16708    20"
      ]
     },
     "execution_count": 10,
     "metadata": {},
     "output_type": "execute_result"
    }
   ],
   "source": [
    "dim(data[['6836']])"
   ]
  },
  {
   "cell_type": "code",
   "execution_count": 11,
   "metadata": {
    "collapsed": false
   },
   "outputs": [
    {
     "data": {
      "text/plain": [
       "      date                         total              air1       \n",
       " Min.   :2012-05-03 17:00:00   Min.   :0.07867   Min.   :0.0000  \n",
       " 1st Qu.:2012-10-25 11:45:00   1st Qu.:0.15593   1st Qu.:0.0000  \n",
       " Median :2013-04-17 13:30:00   Median :0.28875   Median :0.0000  \n",
       " Mean   :2013-04-17 12:16:00   Mean   :0.63819   Mean   :0.1373  \n",
       " 3rd Qu.:2013-10-08 14:15:00   3rd Qu.:0.73035   3rd Qu.:0.1353  \n",
       " Max.   :2014-03-31 16:00:00   Max.   :4.61957   Max.   :1.3742  \n",
       "                               NA's   :211       NA's   :127     \n",
       "   bathroom1         bedroom1           car1       clotheswasher1  \n",
       " Min.   :0.0000   Min.   :0.0000   Min.   :0.000   Min.   :0.0000  \n",
       " 1st Qu.:0.0000   1st Qu.:0.0000   1st Qu.:0.000   1st Qu.:0.0000  \n",
       " Median :0.0000   Median :0.0000   Median :0.000   Median :0.0000  \n",
       " Mean   :0.0012   Mean   :0.0030   Mean   :0.162   Mean   :0.0008  \n",
       " 3rd Qu.:0.0000   3rd Qu.:0.0015   3rd Qu.:0.000   3rd Qu.:0.0000  \n",
       " Max.   :0.0588   Max.   :0.0499   Max.   :3.379   Max.   :0.0734  \n",
       " NA's   :323      NA's   :323      NA's   :323     NA's   :323     \n",
       "  dishwasher1       disposal1          drye1            furnace1     \n",
       " Min.   :0.0000   Min.   :0.0000   Min.   :0.00000   Min.   :0.0000  \n",
       " 1st Qu.:0.0000   1st Qu.:0.0000   1st Qu.:0.00000   1st Qu.:0.0260  \n",
       " Median :0.0000   Median :0.0000   Median :0.00000   Median :0.0280  \n",
       " Mean   :0.0015   Mean   :0.0000   Mean   :0.02546   Mean   :0.1037  \n",
       " 3rd Qu.:0.0000   3rd Qu.:0.0000   3rd Qu.:0.00000   3rd Qu.:0.1597  \n",
       " Max.   :0.5203   Max.   :0.0529   Max.   :3.51835   Max.   :0.5267  \n",
       " NA's   :323      NA's   :323      NA's   :127       NA's   :356     \n",
       "      gen            kitchenapp1       kitchenapp2      livingroom1    \n",
       " Min.   :-0.01135   Min.   :0.00000   Min.   :0.0000   Min.   :0.0000  \n",
       " 1st Qu.:-0.00563   1st Qu.:0.00000   1st Qu.:0.0000   1st Qu.:0.0050  \n",
       " Median : 0.00022   Median :0.00300   Median :0.0000   Median :0.0110  \n",
       " Mean   : 0.52134   Mean   :0.00419   Mean   :0.0005   Mean   :0.0211  \n",
       " 3rd Qu.: 0.90202   3rd Qu.:0.00300   3rd Qu.:0.0001   3rd Qu.:0.0175  \n",
       " Max.   : 2.84730   Max.   :0.05667   Max.   :0.0396   Max.   :0.3715  \n",
       " NA's   :211        NA's   :299       NA's   :323      NA's   :323     \n",
       "   microwave1     refrigerator1       unknown1          unknown2      \n",
       " Min.   :0.0000   Min.   :0.0000   Min.   :0.00000   Min.   :0.00000  \n",
       " 1st Qu.:0.0000   1st Qu.:0.0430   1st Qu.:0.00000   1st Qu.:0.00000  \n",
       " Median :0.0000   Median :0.0572   Median :0.00000   Median :0.00038  \n",
       " Mean   :0.0011   Mean   :0.0625   Mean   :0.00001   Mean   :0.00303  \n",
       " 3rd Qu.:0.0000   3rd Qu.:0.0748   3rd Qu.:0.00000   3rd Qu.:0.00137  \n",
       " Max.   :0.0577   Max.   :0.2752   Max.   :0.00165   Max.   :1.10670  \n",
       " NA's   :323      NA's   :374      NA's   :243       NA's   :245      \n",
       "  Temperature    \n",
       " Min.   : 21.04  \n",
       " 1st Qu.: 57.49  \n",
       " Median : 71.89  \n",
       " Mean   : 69.33  \n",
       " 3rd Qu.: 81.36  \n",
       " Max.   :106.36  \n",
       "                 "
      ]
     },
     "execution_count": 11,
     "metadata": {},
     "output_type": "execute_result"
    }
   ],
   "source": [
    "summary(data[['6836']])"
   ]
  },
  {
   "cell_type": "markdown",
   "metadata": {},
   "source": [
    "# Study usage across users and appliances by season\n",
    "It's unclear what appliances are \"cooling\" and what are \"heating\". So let's look at what appliances are used primarily in the Summer vs Winter."
   ]
  },
  {
   "cell_type": "code",
   "execution_count": 12,
   "metadata": {
    "collapsed": false
   },
   "outputs": [
    {
     "name": "stderr",
     "output_type": "stream",
     "text": [
      "\n",
      "Attaching package: ‘lubridate’\n",
      "\n",
      "The following object is masked from ‘package:plyr’:\n",
      "\n",
      "    here\n",
      "\n",
      "The following object is masked from ‘package:reshape’:\n",
      "\n",
      "    stamp\n",
      "\n"
     ]
    }
   ],
   "source": [
    "cons_season = list()\n",
    "library(\"lubridate\")\n",
    "for (uid in names(data)) {\n",
    "  # current user info\n",
    "  data_60= data[[uid]]\n",
    "  user_name = as.character(user_names$name[which(user_names$ID == uid)])\n",
    "  # skip users that don't have enough data, at least a month of hourly data\n",
    "  if (nrow(data_60) < 30 * 24) {\n",
    "    cat('Not enough samples (less than one month!) !\\n')\n",
    "    next\n",
    "  }\n",
    "    \n",
    "  # Compute basic stats about end-uses\n",
    "  # --------------------------------------------\n",
    "  \n",
    "  # prepare data...\n",
    "  df = cbind(data_60, Hour = hour(data_60$date), Month = month(data_60$date, label=T))\n",
    "  df$Time = 'Night'\n",
    "  df$Time[which(df$Hour %in% 5:11)]  = 'Morning'\n",
    "  df$Time[which(df$Hour %in% 12:18)] = 'Afternoon'\n",
    "  df$Time[which(df$Hour %in% 19:21)] = 'Evening'\n",
    "  df$Season = 'Winter'\n",
    "  df$Season[which(df$Month %in% c(\"Mar\", 'Apr', 'May', 'Jun', 'Jul', 'Aug', 'Sep', 'Oct', \"Nov\"))] = 'Summer'\n",
    "  #df[is.na(df)] <- 0\n",
    "    \n",
    "  # consumption by time of day  \n",
    "  cur_mu_time = aggregate(. ~ Time + Season, na.action=NULL,\n",
    "                          FUN = function(x) {if (!is.null(x)) return(mean(x, na.rm=T)) else return(0)},\n",
    "                          data = df[,-which(names(df) %in% c('date', 'Temperature', 'Hour', 'Month'))])\n",
    "  cur_mu_time = melt(cur_mu_time, id.vars = c('Time', 'Season'))\n",
    "  cur_mu_time$ID = uid; cur_mu_time$name = user_name;   \n",
    "  # consumption by hour of day\n",
    "  cur_mu_hour = aggregate(. ~ Hour + Season, na.action=NULL,\n",
    "                          FUN = function(x) {if (!is.null(x)) return(mean(x, na.rm=T)) else return(0)},\n",
    "                          data = df[,-which(names(df) %in% c('date', 'Temperature', 'Time', 'Month'))])\n",
    "  cur_mu_hour = melt(cur_mu_hour, id.vars = c('Hour', 'Season'))\n",
    "  cur_mu_hour$ID = uid; cur_mu_hour$name = user_name;   \n",
    "  # consumption by season\n",
    "  cur_mu_season = aggregate(. ~ Season, na.action=NULL,\n",
    "                            FUN = function(x) {if (!is.null(x)) return(mean(x, na.rm=T)) else return(0)},\n",
    "                          data = df[,-which(names(df) %in% c('date', 'Temperature', 'Time', 'Month', 'Hour'))])\n",
    "  cur_mu_season = melt(cur_mu_season, id.vars = c('Season'))\n",
    "  cur_mu_season$ID = uid; cur_mu_season$name = user_name;   \n",
    "                          \n",
    "  cons_season[[uid]] = list(hod=cur_mu_hour, tod=cur_mu_time, seas=cur_mu_season)\n",
    "}"
   ]
  },
  {
   "cell_type": "code",
   "execution_count": 13,
   "metadata": {
    "collapsed": false
   },
   "outputs": [],
   "source": [
    "df_seas = do.call(\"rbind\", lapply(cons_season, function(l) l[['seas']]))"
   ]
  },
  {
   "cell_type": "code",
   "execution_count": 14,
   "metadata": {
    "collapsed": false
   },
   "outputs": [
    {
     "name": "stdout",
     "output_type": "stream",
     "text": [
      "'data.frame':\t9022 obs. of  5 variables:\n",
      " $ Season  : chr  \"Summer\" \"Winter\" \"Summer\" \"Winter\" ...\n",
      " $ variable: Factor w/ 70 levels \"total\",\"gen\",..: 1 1 2 2 1 1 2 2 1 1 ...\n",
      " $ value   : num  0.636 0.381 0.671 0.486 1.147 ...\n",
      " $ ID      : chr  \"1103\" \"1103\" \"1103\" \"1103\" ...\n",
      " $ name    : chr  \"John\" \"John\" \"John\" \"John\" ...\n"
     ]
    }
   ],
   "source": [
    "str(df_seas)"
   ]
  },
  {
   "cell_type": "code",
   "execution_count": 15,
   "metadata": {
    "collapsed": false,
    "scrolled": false
   },
   "outputs": [
    {
     "data": {
      "text/html": [
       "<table>\n",
       "<thead><tr><th></th><th scope=col>Summer</th><th scope=col>Winter</th></tr></thead>\n",
       "<tbody>\n",
       "\t<tr><th scope=row>total</th><td>1.181547</td><td>0.9388732</td></tr>\n",
       "\t<tr><th scope=row>gen</th><td>0.8265601</td><td>0.6180913</td></tr>\n",
       "\t<tr><th scope=row>air1</th><td>0.3036983</td><td>0.06499117</td></tr>\n",
       "\t<tr><th scope=row>bathroom1</th><td>0.0144852</td><td>0.02105121</td></tr>\n",
       "\t<tr><th scope=row>bedroom1</th><td>0.04172266</td><td>0.040295</td></tr>\n",
       "\t<tr><th scope=row>bedroom2</th><td>0.05049719</td><td>0.05213969</td></tr>\n",
       "</tbody>\n",
       "</table>\n"
      ],
      "text/latex": [
       "\\begin{tabular}{r|ll}\n",
       "  & Summer & Winter\\\\\n",
       "\\hline\n",
       "\ttotal & 1.181547 & 0.9388732\\\\\n",
       "\tgen & 0.8265601 & 0.6180913\\\\\n",
       "\tair1 & 0.3036983 & 0.06499117\\\\\n",
       "\tbathroom1 & 0.0144852 & 0.02105121\\\\\n",
       "\tbedroom1 & 0.04172266 & 0.040295\\\\\n",
       "\tbedroom2 & 0.05049719 & 0.05213969\\\\\n",
       "\\end{tabular}\n"
      ],
      "text/plain": [
       "              Summer     Winter\n",
       "total     1.18154683 0.93887319\n",
       "gen       0.82656013 0.61809135\n",
       "air1      0.30369826 0.06499117\n",
       "bathroom1 0.01448520 0.02105121\n",
       "bedroom1  0.04172266 0.04029500\n",
       "bedroom2  0.05049719 0.05213969"
      ]
     },
     "execution_count": 15,
     "metadata": {},
     "output_type": "execute_result"
    }
   ],
   "source": [
    "avg_tot_seas = aggregate(. ~ variable + Season, FUN = function(x) mean(x, na.rm=T),\n",
    "                        data = df_seas[,-which(names(df_seas) %in% c('ID', 'name'))])\n",
    "avg_tot_seas_w = cast(avg_tot_seas, variable~Season, mean)\n",
    "rownames(avg_tot_seas_w) <- avg_tot_seas_w$variable\n",
    "avg_tot_seas_w$variable = NULL\n",
    "avg_tot_seas_w = as.data.frame(avg_tot_seas_w)  \n",
    "avg_tot_seas_w = avg_tot_seas_w[!rownames(avg_tot_seas_w) %in% c('unknown1', 'unknown4'),] \n",
    "head(avg_tot_seas_w)"
   ]
  },
  {
   "cell_type": "code",
   "execution_count": 16,
   "metadata": {
    "collapsed": false
   },
   "outputs": [
    {
     "data": {
      "text/html": [
       "TRUE"
      ],
      "text/latex": [
       "TRUE"
      ],
      "text/markdown": [
       "TRUE"
      ],
      "text/plain": [
       "[1] TRUE"
      ]
     },
     "execution_count": 16,
     "metadata": {},
     "output_type": "execute_result"
    }
   ],
   "source": [
    "'total' %in% rownames(avg_tot_seas_w)"
   ]
  },
  {
   "cell_type": "code",
   "execution_count": 17,
   "metadata": {
    "collapsed": false
   },
   "outputs": [],
   "source": [
    "ratio_season = as.matrix(avg_tot_seas_w['Winter'] / avg_tot_seas_w['Summer'])\n",
    "ord_idx = order(ratio_season)\n",
    "ratio_season = ratio_season[ord_idx,]"
   ]
  },
  {
   "cell_type": "code",
   "execution_count": 18,
   "metadata": {
    "collapsed": false
   },
   "outputs": [
    {
     "data": {
      "text/html": [
       "<dl class=dl-horizontal>\n",
       "\t<dt>air3</dt>\n",
       "\t\t<dd>0.0551756584886467</dd>\n",
       "\t<dt>pump1</dt>\n",
       "\t\t<dd>0.0814158183614186</dd>\n",
       "\t<dt>diningroom2</dt>\n",
       "\t\t<dd>0.158407599385441</dd>\n",
       "\t<dt>air1</dt>\n",
       "\t\t<dd>0.213999161934387</dd>\n",
       "\t<dt>air2</dt>\n",
       "\t\t<dd>0.288673222582953</dd>\n",
       "\t<dt>bedroom4</dt>\n",
       "\t\t<dd>0.482339161690216</dd>\n",
       "\t<dt>drye1</dt>\n",
       "\t\t<dd>0.675763216684616</dd>\n",
       "\t<dt>sprinkler1</dt>\n",
       "\t\t<dd>0.691427769467704</dd>\n",
       "\t<dt>oven1</dt>\n",
       "\t\t<dd>0.705035172197507</dd>\n",
       "\t<dt>winecooler1</dt>\n",
       "\t\t<dd>0.720212296692473</dd>\n",
       "\t<dt>disposal1</dt>\n",
       "\t\t<dd>0.7435657837494</dd>\n",
       "\t<dt>gen</dt>\n",
       "\t\t<dd>0.747787516275303</dd>\n",
       "\t<dt>freezer1</dt>\n",
       "\t\t<dd>0.778000395730646</dd>\n",
       "\t<dt>total</dt>\n",
       "\t\t<dd>0.794613608031692</dd>\n",
       "</dl>\n"
      ],
      "text/latex": [
       "\\begin{description*}\n",
       "\\item[air3] 0.0551756584886467\n",
       "\\item[pump1] 0.0814158183614186\n",
       "\\item[diningroom2] 0.158407599385441\n",
       "\\item[air1] 0.213999161934387\n",
       "\\item[air2] 0.288673222582953\n",
       "\\item[bedroom4] 0.482339161690216\n",
       "\\item[drye1] 0.675763216684616\n",
       "\\item[sprinkler1] 0.691427769467704\n",
       "\\item[oven1] 0.705035172197507\n",
       "\\item[winecooler1] 0.720212296692473\n",
       "\\item[disposal1] 0.7435657837494\n",
       "\\item[gen] 0.747787516275303\n",
       "\\item[freezer1] 0.778000395730646\n",
       "\\item[total] 0.794613608031692\n",
       "\\end{description*}\n"
      ],
      "text/markdown": [
       "air3\n",
       ":   0.0551756584886467pump1\n",
       ":   0.0814158183614186diningroom2\n",
       ":   0.158407599385441air1\n",
       ":   0.213999161934387air2\n",
       ":   0.288673222582953bedroom4\n",
       ":   0.482339161690216drye1\n",
       ":   0.675763216684616sprinkler1\n",
       ":   0.691427769467704oven1\n",
       ":   0.705035172197507winecooler1\n",
       ":   0.720212296692473disposal1\n",
       ":   0.7435657837494gen\n",
       ":   0.747787516275303freezer1\n",
       ":   0.778000395730646total\n",
       ":   0.794613608031692\n",
       "\n"
      ],
      "text/plain": [
       "       air3       pump1 diningroom2        air1        air2    bedroom4 \n",
       " 0.05517566  0.08141582  0.15840760  0.21399916  0.28867322  0.48233916 \n",
       "      drye1  sprinkler1       oven1 winecooler1   disposal1         gen \n",
       " 0.67576322  0.69142777  0.70503517  0.72021230  0.74356578  0.74778752 \n",
       "   freezer1       total \n",
       " 0.77800040  0.79461361 "
      ]
     },
     "execution_count": 18,
     "metadata": {},
     "output_type": "execute_result"
    }
   ],
   "source": [
    "ratio_season[ratio_season<0.8]"
   ]
  },
  {
   "cell_type": "code",
   "execution_count": 19,
   "metadata": {
    "collapsed": false
   },
   "outputs": [
    {
     "data": {
      "text/html": [
       "<dl class=dl-horizontal>\n",
       "\t<dt>housefan1</dt>\n",
       "\t\t<dd>1.21496206002717</dd>\n",
       "\t<dt>outsidelights_plugs2</dt>\n",
       "\t\t<dd>1.24198189747093</dd>\n",
       "\t<dt>lights_plugs4</dt>\n",
       "\t\t<dd>1.27248664946042</dd>\n",
       "\t<dt>venthood1</dt>\n",
       "\t\t<dd>1.28424066814512</dd>\n",
       "\t<dt>bathroom2</dt>\n",
       "\t\t<dd>1.30463247708886</dd>\n",
       "\t<dt>waterheater1</dt>\n",
       "\t\t<dd>1.33465628302581</dd>\n",
       "\t<dt>oven2</dt>\n",
       "\t\t<dd>1.37439234848274</dd>\n",
       "\t<dt>clotheswasher1</dt>\n",
       "\t\t<dd>1.37514877224479</dd>\n",
       "\t<dt>bedroom3</dt>\n",
       "\t\t<dd>1.3922172861947</dd>\n",
       "\t<dt>bathroom1</dt>\n",
       "\t\t<dd>1.45329139892154</dd>\n",
       "\t<dt>shed1</dt>\n",
       "\t\t<dd>1.68507147793543</dd>\n",
       "\t<dt>garage2</dt>\n",
       "\t\t<dd>1.68892219620674</dd>\n",
       "\t<dt>waterheater2</dt>\n",
       "\t\t<dd>1.89871820145091</dd>\n",
       "\t<dt>jacuzzi1</dt>\n",
       "\t\t<dd>2.01162141472788</dd>\n",
       "\t<dt>unknown3</dt>\n",
       "\t\t<dd>2.41999325827004</dd>\n",
       "\t<dt>poollight1</dt>\n",
       "\t\t<dd>2.67057580373821</dd>\n",
       "\t<dt>heater1</dt>\n",
       "\t\t<dd>2.95497060372055</dd>\n",
       "\t<dt>bedroom5</dt>\n",
       "\t\t<dd>3.51781301819581</dd>\n",
       "</dl>\n"
      ],
      "text/latex": [
       "\\begin{description*}\n",
       "\\item[housefan1] 1.21496206002717\n",
       "\\item[outsidelights_plugs2] 1.24198189747093\n",
       "\\item[lights_plugs4] 1.27248664946042\n",
       "\\item[venthood1] 1.28424066814512\n",
       "\\item[bathroom2] 1.30463247708886\n",
       "\\item[waterheater1] 1.33465628302581\n",
       "\\item[oven2] 1.37439234848274\n",
       "\\item[clotheswasher1] 1.37514877224479\n",
       "\\item[bedroom3] 1.3922172861947\n",
       "\\item[bathroom1] 1.45329139892154\n",
       "\\item[shed1] 1.68507147793543\n",
       "\\item[garage2] 1.68892219620674\n",
       "\\item[waterheater2] 1.89871820145091\n",
       "\\item[jacuzzi1] 2.01162141472788\n",
       "\\item[unknown3] 2.41999325827004\n",
       "\\item[poollight1] 2.67057580373821\n",
       "\\item[heater1] 2.95497060372055\n",
       "\\item[bedroom5] 3.51781301819581\n",
       "\\end{description*}\n"
      ],
      "text/markdown": [
       "housefan1\n",
       ":   1.21496206002717outsidelights_plugs2\n",
       ":   1.24198189747093lights_plugs4\n",
       ":   1.27248664946042venthood1\n",
       ":   1.28424066814512bathroom2\n",
       ":   1.30463247708886waterheater1\n",
       ":   1.33465628302581oven2\n",
       ":   1.37439234848274clotheswasher1\n",
       ":   1.37514877224479bedroom3\n",
       ":   1.3922172861947bathroom1\n",
       ":   1.45329139892154shed1\n",
       ":   1.68507147793543garage2\n",
       ":   1.68892219620674waterheater2\n",
       ":   1.89871820145091jacuzzi1\n",
       ":   2.01162141472788unknown3\n",
       ":   2.41999325827004poollight1\n",
       ":   2.67057580373821heater1\n",
       ":   2.95497060372055bedroom5\n",
       ":   3.51781301819581\n",
       "\n"
      ],
      "text/plain": [
       "           housefan1 outsidelights_plugs2        lights_plugs4 \n",
       "            1.214962             1.241982             1.272487 \n",
       "           venthood1            bathroom2         waterheater1 \n",
       "            1.284241             1.304632             1.334656 \n",
       "               oven2       clotheswasher1             bedroom3 \n",
       "            1.374392             1.375149             1.392217 \n",
       "           bathroom1                shed1              garage2 \n",
       "            1.453291             1.685071             1.688922 \n",
       "        waterheater2             jacuzzi1             unknown3 \n",
       "            1.898718             2.011621             2.419993 \n",
       "          poollight1              heater1             bedroom5 \n",
       "            2.670576             2.954971             3.517813 "
      ]
     },
     "execution_count": 19,
     "metadata": {},
     "output_type": "execute_result"
    }
   ],
   "source": [
    "ratio_season[ratio_season>1.2]"
   ]
  },
  {
   "cell_type": "markdown",
   "metadata": {},
   "source": [
    "#### Define categories of usage based on seasonality"
   ]
  },
  {
   "cell_type": "code",
   "execution_count": 20,
   "metadata": {
    "collapsed": false
   },
   "outputs": [],
   "source": [
    "# some interesting components\n",
    "# appliances   = as.character(read.csv('~/energy-data/pecan_street/metadata/appliances.csv')$Appliance)\n",
    "select.keep  = c('dataid', 'localminute', 'use')\n",
    "select.AC    = c(\"air1\", \"air2\", \"air3\", \"diningroom2\")\n",
    "select.HV    = c(\"heater1\", \"bedroom3\", \"unknown3\", \"bedroom5\", \"waterheater2\", \"jacuzzi1\")\n",
    "select.light = c(\"lights_plugs1\", \"lights_plugs2\", \"lights_plugs3\", \"lights_plugs4\", \"lights_plugs5\", \"lights_plugs6\",\n",
    "                 \"outsidelights_plugs1\", \"outsidelights_plugs2\")\n",
    "select.alwOn = c('refridgerator1', 'refridgerator2', 'winecooler1', 'aquarium1', \"freezer1\")\n",
    "select.sched = c(\"pool1\", \"pool2\", 'sprinkler1', \"poolpump1\", \"pump1\")\n",
    "select.total = c('total')\n",
    "select.dhw   = c('waterheater1', 'waterheater2')\n",
    "select.user  = c(\"bathroom1\", \"bathroom2\", \"bedroom1\", \"bedroom2\", \"bedroom3\", \"bedroom4\", \"bedroom5\",\n",
    "                 \"clotheswasher1\", \"clotheswasher_dryg1\", \"diningroom1\", \"diningroom2\", \"dishwasher1\",\n",
    "                 \"disposal1\", \"drye1\", \"dryg1\", \"garage1\", \"garage2\", \"icemaker1\", \"jacuzzi1\", \n",
    "                 \"kitchenapp1\", \"kitchenapp2\", \"livingroom1\", \"livingroom2\", \"heater1\",\n",
    "                 \"microwave1\", \"office1\", \"oven1\", \"poollight1\",  \"range1\", \"security1\", \"shed1\", \"utilityroom1\", \"venthood1\")\n",
    "select.user  = setdiff(select.user, c(select.AC, select.HV))\n",
    "\n",
    "select.solar = c('gen')\n",
    "select.ev    = c('car1')\n"
   ]
  },
  {
   "cell_type": "markdown",
   "metadata": {},
   "source": [
    "# Combine end uses by functionality and dump to file"
   ]
  },
  {
   "cell_type": "code",
   "execution_count": 115,
   "metadata": {
    "collapsed": false
   },
   "outputs": [],
   "source": [
    "cols = c(total= '#000000', C = '#FE2E2E', H = '#0040FF', nonHVAC = '#088A08', user = '#5F04B4', \n",
    "         lights = '#B45F04', always_on = '#01A9DB', scheduled = '#FF00BF', Temperature = '#424242')"
   ]
  },
  {
   "cell_type": "code",
   "execution_count": 116,
   "metadata": {
    "collapsed": true
   },
   "outputs": [],
   "source": [
    "# function to aggregate data into broader categories\n",
    "to_categories = function(homeData, dateCol = 'date') {\n",
    "  names(homeData) = tolower(names(homeData))\n",
    "  \n",
    "  # what kind of data does this user have?\n",
    "  hv.cols       = intersect(names(homeData), select.HV)\n",
    "  ac.cols       = intersect(names(homeData), select.AC)\n",
    "  user.cols     = intersect(names(homeData), select.user)\n",
    "  alwOn.cols    = intersect(names(homeData), select.alwOn)\n",
    "  sched.cols    = intersect(names(homeData), select.sched)\n",
    "  light.cols    = intersect(names(homeData), select.light)\n",
    "  \n",
    "  # if no HVAC data, not interesting\n",
    "  if (length(hv.cols) == 0 && length(ac.cols) == 0) return(NULL)\n",
    "  if (!(select.total %in% names(homeData))) return(NULL)\n",
    "  \n",
    "  # aggregate components\n",
    "  AC_kwh        = add.columns(homeData, select.AC)\n",
    "  HV_kwh        = add.columns(homeData, select.HV)\n",
    "  total_kwh     = add.columns(homeData, select.total)\n",
    "#   user_kwh      = add.columns(homeData, select.user)\n",
    "  light_kwh     = add.columns(homeData, select.light)\n",
    "  sched_kwh     = add.columns(homeData, select.sched)\n",
    "  alwOn_kwh     = add.columns(homeData, select.alwOn)\n",
    "#   nonHVAC_kwh   = total_kwh - AC_kwh - HV_kwh - alwOn_kwh - sched_kwh\n",
    "  user_kwh   = total_kwh - AC_kwh - HV_kwh - alwOn_kwh - sched_kwh - light_kwh\n",
    "  \n",
    "  # create new dataset\n",
    "  data_new = subset(homeData, select = c(dateCol, select.total))\n",
    "  names(data_new)[names(data_new)==select.total[1]] <- \"total\"\n",
    "  if (length(ac.cols)>0) data_new = cbind(data_new, C = AC_kwh)\n",
    "  if (length(hv.cols)>0) data_new = cbind(data_new, H = HV_kwh)\n",
    "  if (length(user.cols)>0) data_new = cbind(data_new, user = user_kwh)\n",
    "  if (length(light.cols)>0) data_new = cbind(data_new, lights = light_kwh)\n",
    "  if (length(alwOn.cols)>0) data_new = cbind(data_new, always_on = alwOn_kwh)\n",
    "  if (length(sched.cols)>0) data_new = cbind(data_new, scheduled = sched_kwh)\n",
    "  #data_new = cbind(data_new, nonHVAC = nonHVAC_kwh)\n",
    "  \n",
    "  return(data_new)\n",
    "}"
   ]
  },
  {
   "cell_type": "code",
   "execution_count": 133,
   "metadata": {
    "collapsed": true
   },
   "outputs": [],
   "source": [
    "# plot usage by given factor\n",
    "plot_comps = function(dat, var = 'Hour', title = 'Components', facet = NULL) {\n",
    "    \n",
    "  p = ggplot(dat, aes_string(x = var, y = 'value'))\n",
    "  p = p + geom_area(aes(fill = variable, color = variable), position = 'stack')    \n",
    "  if (!is.null(facet)) \n",
    "    p = p + facet_wrap(as.formula(paste(\"~\", facet)), ncol=2, scales = 'fixed')\n",
    "  p = p + scale_color_manual(values = cols) + scale_fill_manual(values = cols)\n",
    "  p = p + theme_bw() +\n",
    "    theme(panel.grid.major  = element_blank(),\n",
    "          panel.grid.minor = element_blank(),\n",
    "          panel.background = element_blank(),\n",
    "          strip.text.x     = element_text(size=18),\n",
    "          axis.title.x     = element_text(size = 18),\n",
    "          axis.text.y      = element_text(size=18), \n",
    "          axis.text.x      = element_text(size=18),\n",
    "          axis.title.y     = element_text(size=18),\n",
    "          axis.title.x     = element_text(size=18),\n",
    "          plot.title       = element_text(size=20),            \n",
    "          legend.text      = element_text(size=18),        \n",
    "          legend.title     = element_blank(),    \n",
    "          legend.position  = c(0.18, 0.45),\n",
    "          legend.direction=\"horizontal\",\n",
    "          axis.ticks = element_blank() ) + \n",
    "    theme(plot.title=element_text(family=\"Times\", face=\"bold\", size=20)) + \n",
    "    ggtitle(title)  + xlab(var) + ylab('Avg. kWh')\n",
    "  \n",
    "  return(p)\n",
    "}"
   ]
  },
  {
   "cell_type": "code",
   "execution_count": 134,
   "metadata": {
    "collapsed": true
   },
   "outputs": [],
   "source": [
    "# function to plot ground truth components\n",
    "f_plot_user = function(homeData0, main = NULL) {\n",
    "\n",
    "  #homeData$nonHVAC = NULL\n",
    "  maxUsage = Inf; noTries = 0\n",
    "  while (is.infinite(maxUsage) & noTries < 5){\n",
    "      idx = sample(1:(nrow(homeData0)-400),1)\n",
    "      TT  = 250 \n",
    "      noTries = noTries + 1\n",
    "      homeData = homeData0[idx:(idx+TT),]\n",
    "      maxUsage = max(homeData$total, na.rm=T)\n",
    "  }\n",
    "  if (is.infinite(maxUsage)) return(NULL)\n",
    "  homeData$date = as.POSIXct(homeData$date)\n",
    "  # plot different usages\n",
    "  plot(homeData$date,homeData$total,type='l',col=cols['total'], lwd=2,\n",
    "       main=main, ylab='kWh', xlab=NA, ylim=c(0,1.1*maxUsage), xaxt='n',\n",
    "       cex.main=1.5, cex.axis=1.5, cex.lab=1.5)\n",
    "  for (var in setdiff(names(homeData), c('total', 'date'))) {\n",
    "    points(homeData$date,homeData[,var],type='l',col=cols[var], lwd=1.8)\n",
    "  }\n",
    "  \n",
    "  # if plotting temperature, adjust values to plot on same axis\n",
    "  if ('Temperature' %in% names(homeData))\n",
    "    points(homeData$date, homeData$TemperatureF/100*maxUsage,type='l',col=cols['Temperature'], cex=1.5)\n",
    "  \n",
    "  d = homeData$date\n",
    "  dts = seq(d[1],d[length(d)],by=3600*24) # one per day from one per minute\n",
    "  axis(1, dts, format(dts, \"%a, %m/%d\"), cex.axis=1.5)\n",
    "  grid(nx=NA,ny=NULL)\n",
    "  abline(v=dts,col=\"black\",lty=3)  \n",
    "  vars_sel = setdiff(names(homeData), 'date')\n",
    "  legend(\"top\", lty=1,cex=1.5,lwd=3,  x.intersp=0.0, legend=vars_sel, col=cols[vars_sel],horiz=T)\n",
    "\n",
    "}"
   ]
  },
  {
   "cell_type": "code",
   "execution_count": 150,
   "metadata": {
    "collapsed": false,
    "scrolled": true
   },
   "outputs": [
    {
     "name": "stdout",
     "output_type": "stream",
     "text": [
      "No HVAC data for user 1103 !\n",
      "No HVAC data for user 1114 !\n",
      "Plotting for 114 \n"
     ]
    },
    {
     "name": "stderr",
     "output_type": "stream",
     "text": [
      "Warning message:\n",
      "In dir.create(file.path(PLOTS_PATH, uid), recursive = TRUE): '/Users/adrianalbert/S3L_server/plots/pecan-street-2/114' already exists"
     ]
    },
    {
     "name": "stdout",
     "output_type": "stream",
     "text": [
      "No HVAC data for user 1153 !\n",
      "Plotting for 1169 \n"
     ]
    },
    {
     "name": "stderr",
     "output_type": "stream",
     "text": [
      "Warning message:\n",
      "In dir.create(file.path(PLOTS_PATH, uid), recursive = TRUE): '/Users/adrianalbert/S3L_server/plots/pecan-street-2/1169' already exists"
     ]
    },
    {
     "name": "stdout",
     "output_type": "stream",
     "text": [
      "Plotting for 1185 \n"
     ]
    },
    {
     "name": "stderr",
     "output_type": "stream",
     "text": [
      "Warning message:\n",
      "In dir.create(file.path(PLOTS_PATH, uid), recursive = TRUE): '/Users/adrianalbert/S3L_server/plots/pecan-street-2/1185' already exists"
     ]
    },
    {
     "name": "stdout",
     "output_type": "stream",
     "text": [
      "No HVAC data for user 1192 !\n",
      "Plotting for 1283 \n"
     ]
    },
    {
     "name": "stderr",
     "output_type": "stream",
     "text": [
      "Warning message:\n",
      "In dir.create(file.path(PLOTS_PATH, uid), recursive = TRUE): '/Users/adrianalbert/S3L_server/plots/pecan-street-2/1283' already exists"
     ]
    },
    {
     "name": "stdout",
     "output_type": "stream",
     "text": [
      "Plotting for 1334 \n"
     ]
    },
    {
     "name": "stderr",
     "output_type": "stream",
     "text": [
      "Warning message:\n",
      "In dir.create(file.path(PLOTS_PATH, uid), recursive = TRUE): '/Users/adrianalbert/S3L_server/plots/pecan-street-2/1334' already exists"
     ]
    },
    {
     "name": "stdout",
     "output_type": "stream",
     "text": [
      "Plotting for 1464 \n"
     ]
    },
    {
     "name": "stderr",
     "output_type": "stream",
     "text": [
      "Warning message:\n",
      "In dir.create(file.path(PLOTS_PATH, uid), recursive = TRUE): '/Users/adrianalbert/S3L_server/plots/pecan-street-2/1464' already exists"
     ]
    },
    {
     "name": "stdout",
     "output_type": "stream",
     "text": [
      "No HVAC data for user 1508 !\n",
      "No HVAC data for user 1601 !\n",
      "Plotting for 1642 \n"
     ]
    },
    {
     "name": "stderr",
     "output_type": "stream",
     "text": [
      "Warning message:\n",
      "In dir.create(file.path(PLOTS_PATH, uid), recursive = TRUE): '/Users/adrianalbert/S3L_server/plots/pecan-street-2/1642' already exists"
     ]
    },
    {
     "name": "stdout",
     "output_type": "stream",
     "text": [
      "Plotting for 1697 \n"
     ]
    },
    {
     "name": "stderr",
     "output_type": "stream",
     "text": [
      "Warning message:\n",
      "In dir.create(file.path(PLOTS_PATH, uid), recursive = TRUE): '/Users/adrianalbert/S3L_server/plots/pecan-street-2/1697' already exists"
     ]
    },
    {
     "name": "stdout",
     "output_type": "stream",
     "text": [
      "No HVAC data for user 171 !\n",
      "Plotting for 1714 \n"
     ]
    },
    {
     "name": "stderr",
     "output_type": "stream",
     "text": [
      "Warning message:\n",
      "In dir.create(file.path(PLOTS_PATH, uid), recursive = TRUE): '/Users/adrianalbert/S3L_server/plots/pecan-street-2/1714' already exists"
     ]
    },
    {
     "name": "stdout",
     "output_type": "stream",
     "text": [
      "Plotting for 1718 \n"
     ]
    },
    {
     "name": "stderr",
     "output_type": "stream",
     "text": [
      "Warning message:\n",
      "In dir.create(file.path(PLOTS_PATH, uid), recursive = TRUE): '/Users/adrianalbert/S3L_server/plots/pecan-street-2/1718' already exists"
     ]
    },
    {
     "name": "stdout",
     "output_type": "stream",
     "text": [
      "Plotting for 1782 \n"
     ]
    },
    {
     "name": "stderr",
     "output_type": "stream",
     "text": [
      "Warning message:\n",
      "In dir.create(file.path(PLOTS_PATH, uid), recursive = TRUE): '/Users/adrianalbert/S3L_server/plots/pecan-street-2/1782' already exists"
     ]
    },
    {
     "name": "stdout",
     "output_type": "stream",
     "text": [
      "Plotting for 1790 \n"
     ]
    },
    {
     "name": "stderr",
     "output_type": "stream",
     "text": [
      "Warning message:\n",
      "In dir.create(file.path(PLOTS_PATH, uid), recursive = TRUE): '/Users/adrianalbert/S3L_server/plots/pecan-street-2/1790' already exists"
     ]
    },
    {
     "name": "stdout",
     "output_type": "stream",
     "text": [
      "No HVAC data for user 1791 !\n",
      "No HVAC data for user 1792 !\n",
      "No HVAC data for user 1800 !\n",
      "Plotting for 1801 \n"
     ]
    },
    {
     "name": "stderr",
     "output_type": "stream",
     "text": [
      "Warning message:\n",
      "In dir.create(file.path(PLOTS_PATH, uid), recursive = TRUE): '/Users/adrianalbert/S3L_server/plots/pecan-street-2/1801' already exists"
     ]
    },
    {
     "name": "stdout",
     "output_type": "stream",
     "text": [
      "No HVAC data for user 187 !\n",
      "Plotting for 1953 \n"
     ]
    },
    {
     "name": "stderr",
     "output_type": "stream",
     "text": [
      "Warning message:\n",
      "In dir.create(file.path(PLOTS_PATH, uid), recursive = TRUE): '/Users/adrianalbert/S3L_server/plots/pecan-street-2/1953' already exists"
     ]
    },
    {
     "name": "stdout",
     "output_type": "stream",
     "text": [
      "Plotting for 2062 \n"
     ]
    },
    {
     "name": "stderr",
     "output_type": "stream",
     "text": [
      "Warning message:\n",
      "In dir.create(file.path(PLOTS_PATH, uid), recursive = TRUE): '/Users/adrianalbert/S3L_server/plots/pecan-street-2/2062' already exists"
     ]
    },
    {
     "name": "stdout",
     "output_type": "stream",
     "text": [
      "No HVAC data for user 2072 !\n",
      "Plotting for 2094 \n"
     ]
    },
    {
     "name": "stderr",
     "output_type": "stream",
     "text": [
      "Warning message:\n",
      "In dir.create(file.path(PLOTS_PATH, uid), recursive = TRUE): '/Users/adrianalbert/S3L_server/plots/pecan-street-2/2094' already exists"
     ]
    },
    {
     "name": "stdout",
     "output_type": "stream",
     "text": [
      "Plotting for 2129 \n"
     ]
    },
    {
     "name": "stderr",
     "output_type": "stream",
     "text": [
      "Warning message:\n",
      "In dir.create(file.path(PLOTS_PATH, uid), recursive = TRUE): '/Users/adrianalbert/S3L_server/plots/pecan-street-2/2129' already exists"
     ]
    },
    {
     "name": "stdout",
     "output_type": "stream",
     "text": [
      "Plotting for 2156 \n"
     ]
    },
    {
     "name": "stderr",
     "output_type": "stream",
     "text": [
      "Warning message:\n",
      "In dir.create(file.path(PLOTS_PATH, uid), recursive = TRUE): '/Users/adrianalbert/S3L_server/plots/pecan-street-2/2156' already exists"
     ]
    },
    {
     "name": "stdout",
     "output_type": "stream",
     "text": [
      "Plotting for 2158 \n"
     ]
    },
    {
     "name": "stderr",
     "output_type": "stream",
     "text": [
      "Warning message:\n",
      "In dir.create(file.path(PLOTS_PATH, uid), recursive = TRUE): '/Users/adrianalbert/S3L_server/plots/pecan-street-2/2158' already exists"
     ]
    },
    {
     "name": "stdout",
     "output_type": "stream",
     "text": [
      "Plotting for 2171 \n"
     ]
    },
    {
     "name": "stderr",
     "output_type": "stream",
     "text": [
      "Warning message:\n",
      "In dir.create(file.path(PLOTS_PATH, uid), recursive = TRUE): '/Users/adrianalbert/S3L_server/plots/pecan-street-2/2171' already exists"
     ]
    },
    {
     "name": "stdout",
     "output_type": "stream",
     "text": [
      "Plotting for 2199 \n"
     ]
    },
    {
     "name": "stderr",
     "output_type": "stream",
     "text": [
      "Warning message:\n",
      "In dir.create(file.path(PLOTS_PATH, uid), recursive = TRUE): '/Users/adrianalbert/S3L_server/plots/pecan-street-2/2199' already exists"
     ]
    },
    {
     "name": "stdout",
     "output_type": "stream",
     "text": [
      "No HVAC data for user 2233 !\n",
      "Plotting for 2242 \n"
     ]
    },
    {
     "name": "stderr",
     "output_type": "stream",
     "text": [
      "Warning message:\n",
      "In dir.create(file.path(PLOTS_PATH, uid), recursive = TRUE): '/Users/adrianalbert/S3L_server/plots/pecan-street-2/2242' already exists"
     ]
    },
    {
     "name": "stdout",
     "output_type": "stream",
     "text": [
      "Plotting for 2335 \n"
     ]
    },
    {
     "name": "stderr",
     "output_type": "stream",
     "text": [
      "Warning message:\n",
      "In dir.create(file.path(PLOTS_PATH, uid), recursive = TRUE): '/Users/adrianalbert/S3L_server/plots/pecan-street-2/2335' already exists"
     ]
    },
    {
     "name": "stdout",
     "output_type": "stream",
     "text": [
      "No HVAC data for user 2337 !\n",
      "No HVAC data for user 2449 !\n",
      "Plotting for 2470 \n"
     ]
    },
    {
     "name": "stderr",
     "output_type": "stream",
     "text": [
      "Warning message:\n",
      "In dir.create(file.path(PLOTS_PATH, uid), recursive = TRUE): '/Users/adrianalbert/S3L_server/plots/pecan-street-2/2470' already exists"
     ]
    },
    {
     "name": "stdout",
     "output_type": "stream",
     "text": [
      "No HVAC data for user 252 !\n",
      "Plotting for 2575 \n"
     ]
    },
    {
     "name": "stderr",
     "output_type": "stream",
     "text": [
      "Warning message:\n",
      "In dir.create(file.path(PLOTS_PATH, uid), recursive = TRUE): '/Users/adrianalbert/S3L_server/plots/pecan-street-2/2575' already exists"
     ]
    },
    {
     "name": "stdout",
     "output_type": "stream",
     "text": [
      "Plotting for 26 \n"
     ]
    },
    {
     "name": "stderr",
     "output_type": "stream",
     "text": [
      "Warning message:\n",
      "In dir.create(file.path(PLOTS_PATH, uid), recursive = TRUE): '/Users/adrianalbert/S3L_server/plots/pecan-street-2/26' already exists"
     ]
    },
    {
     "name": "stdout",
     "output_type": "stream",
     "text": [
      "Plotting for 2638 \n"
     ]
    },
    {
     "name": "stderr",
     "output_type": "stream",
     "text": [
      "Warning message:\n",
      "In dir.create(file.path(PLOTS_PATH, uid), recursive = TRUE): '/Users/adrianalbert/S3L_server/plots/pecan-street-2/2638' already exists"
     ]
    },
    {
     "name": "stdout",
     "output_type": "stream",
     "text": [
      "No HVAC data for user 2755 !\n",
      "Plotting for 2814 \n"
     ]
    },
    {
     "name": "stderr",
     "output_type": "stream",
     "text": [
      "Warning message:\n",
      "In dir.create(file.path(PLOTS_PATH, uid), recursive = TRUE): '/Users/adrianalbert/S3L_server/plots/pecan-street-2/2814' already exists"
     ]
    },
    {
     "name": "stdout",
     "output_type": "stream",
     "text": [
      "Plotting for 2818 \n"
     ]
    },
    {
     "name": "stderr",
     "output_type": "stream",
     "text": [
      "Warning message:\n",
      "In dir.create(file.path(PLOTS_PATH, uid), recursive = TRUE): '/Users/adrianalbert/S3L_server/plots/pecan-street-2/2818' already exists"
     ]
    },
    {
     "name": "stdout",
     "output_type": "stream",
     "text": [
      "Plotting for 2829 \n"
     ]
    },
    {
     "name": "stderr",
     "output_type": "stream",
     "text": [
      "Warning message:\n",
      "In dir.create(file.path(PLOTS_PATH, uid), recursive = TRUE): '/Users/adrianalbert/S3L_server/plots/pecan-street-2/2829' already exists"
     ]
    },
    {
     "name": "stdout",
     "output_type": "stream",
     "text": [
      "Plotting for 2864 \n"
     ]
    },
    {
     "name": "stderr",
     "output_type": "stream",
     "text": [
      "Warning message:\n",
      "In dir.create(file.path(PLOTS_PATH, uid), recursive = TRUE): '/Users/adrianalbert/S3L_server/plots/pecan-street-2/2864' already exists"
     ]
    },
    {
     "name": "stdout",
     "output_type": "stream",
     "text": [
      "No HVAC data for user 2925 !\n",
      "Plotting for 2945 \n"
     ]
    },
    {
     "name": "stderr",
     "output_type": "stream",
     "text": [
      "Warning message:\n",
      "In dir.create(file.path(PLOTS_PATH, uid), recursive = TRUE): '/Users/adrianalbert/S3L_server/plots/pecan-street-2/2945' already exists"
     ]
    },
    {
     "name": "stdout",
     "output_type": "stream",
     "text": [
      "Plotting for 2965 \n"
     ]
    },
    {
     "name": "stderr",
     "output_type": "stream",
     "text": [
      "Warning message:\n",
      "In dir.create(file.path(PLOTS_PATH, uid), recursive = TRUE): '/Users/adrianalbert/S3L_server/plots/pecan-street-2/2965' already exists"
     ]
    },
    {
     "name": "stdout",
     "output_type": "stream",
     "text": [
      "Plotting for 2974 \n"
     ]
    },
    {
     "name": "stderr",
     "output_type": "stream",
     "text": [
      "Warning message:\n",
      "In dir.create(file.path(PLOTS_PATH, uid), recursive = TRUE): '/Users/adrianalbert/S3L_server/plots/pecan-street-2/2974' already exists"
     ]
    },
    {
     "name": "stdout",
     "output_type": "stream",
     "text": [
      "No HVAC data for user 2980 !\n",
      "No HVAC data for user 2986 !\n",
      "Plotting for 3036 \n"
     ]
    },
    {
     "name": "stderr",
     "output_type": "stream",
     "text": [
      "Warning message:\n",
      "In dir.create(file.path(PLOTS_PATH, uid), recursive = TRUE): '/Users/adrianalbert/S3L_server/plots/pecan-street-2/3036' already exists"
     ]
    },
    {
     "name": "stdout",
     "output_type": "stream",
     "text": [
      "Plotting for 3039 \n"
     ]
    },
    {
     "name": "stderr",
     "output_type": "stream",
     "text": [
      "Warning message:\n",
      "In dir.create(file.path(PLOTS_PATH, uid), recursive = TRUE): '/Users/adrianalbert/S3L_server/plots/pecan-street-2/3039' already exists"
     ]
    },
    {
     "name": "stdout",
     "output_type": "stream",
     "text": [
      "No HVAC data for user 3134 !\n",
      "Plotting for 3192 \n"
     ]
    },
    {
     "name": "stderr",
     "output_type": "stream",
     "text": [
      "Warning message:\n",
      "In dir.create(file.path(PLOTS_PATH, uid), recursive = TRUE): '/Users/adrianalbert/S3L_server/plots/pecan-street-2/3192' already exists"
     ]
    },
    {
     "name": "stdout",
     "output_type": "stream",
     "text": [
      "No HVAC data for user 3224 !\n",
      "Plotting for 3367 \n"
     ]
    },
    {
     "name": "stderr",
     "output_type": "stream",
     "text": [
      "Warning message:\n",
      "In dir.create(file.path(PLOTS_PATH, uid), recursive = TRUE): '/Users/adrianalbert/S3L_server/plots/pecan-street-2/3367' already exists"
     ]
    },
    {
     "name": "stdout",
     "output_type": "stream",
     "text": [
      "Plotting for 3456 \n"
     ]
    },
    {
     "name": "stderr",
     "output_type": "stream",
     "text": [
      "Warning message:\n",
      "In dir.create(file.path(PLOTS_PATH, uid), recursive = TRUE): '/Users/adrianalbert/S3L_server/plots/pecan-street-2/3456' already exists"
     ]
    },
    {
     "name": "stdout",
     "output_type": "stream",
     "text": [
      "Plotting for 3482 \n"
     ]
    },
    {
     "name": "stderr",
     "output_type": "stream",
     "text": [
      "Warning message:\n",
      "In dir.create(file.path(PLOTS_PATH, uid), recursive = TRUE): '/Users/adrianalbert/S3L_server/plots/pecan-street-2/3482' already exists"
     ]
    },
    {
     "name": "stdout",
     "output_type": "stream",
     "text": [
      "Plotting for 3500 \n"
     ]
    },
    {
     "name": "stderr",
     "output_type": "stream",
     "text": [
      "Warning message:\n",
      "In dir.create(file.path(PLOTS_PATH, uid), recursive = TRUE): '/Users/adrianalbert/S3L_server/plots/pecan-street-2/3500' already exists"
     ]
    },
    {
     "name": "stdout",
     "output_type": "stream",
     "text": [
      "Plotting for 3504 \n"
     ]
    },
    {
     "name": "stderr",
     "output_type": "stream",
     "text": [
      "Warning message:\n",
      "In dir.create(file.path(PLOTS_PATH, uid), recursive = TRUE): '/Users/adrianalbert/S3L_server/plots/pecan-street-2/3504' already exists"
     ]
    },
    {
     "name": "stdout",
     "output_type": "stream",
     "text": [
      "No HVAC data for user 3527 !\n",
      "No HVAC data for user 3544 !\n",
      "No HVAC data for user 3632 !\n",
      "No HVAC data for user 3635 !\n",
      "No HVAC data for user 364 !\n",
      "Plotting for 370 \n"
     ]
    },
    {
     "name": "stderr",
     "output_type": "stream",
     "text": [
      "Warning message:\n",
      "In dir.create(file.path(PLOTS_PATH, uid), recursive = TRUE): '/Users/adrianalbert/S3L_server/plots/pecan-street-2/370' already exists"
     ]
    },
    {
     "name": "stdout",
     "output_type": "stream",
     "text": [
      "Plotting for 3719 \n"
     ]
    },
    {
     "name": "stderr",
     "output_type": "stream",
     "text": [
      "Warning message:\n",
      "In dir.create(file.path(PLOTS_PATH, uid), recursive = TRUE): '/Users/adrianalbert/S3L_server/plots/pecan-street-2/3719' already exists"
     ]
    },
    {
     "name": "stdout",
     "output_type": "stream",
     "text": [
      "Plotting for 3723 \n"
     ]
    },
    {
     "name": "stderr",
     "output_type": "stream",
     "text": [
      "Warning message:\n",
      "In dir.create(file.path(PLOTS_PATH, uid), recursive = TRUE): '/Users/adrianalbert/S3L_server/plots/pecan-street-2/3723' already exists"
     ]
    },
    {
     "name": "stdout",
     "output_type": "stream",
     "text": [
      "Plotting for 3778 \n"
     ]
    },
    {
     "name": "stderr",
     "output_type": "stream",
     "text": [
      "Warning message:\n",
      "In dir.create(file.path(PLOTS_PATH, uid), recursive = TRUE): '/Users/adrianalbert/S3L_server/plots/pecan-street-2/3778' already existsWarning message:\n",
      "In max(homeData$total, na.rm = T): no non-missing arguments to max; returning -Inf"
     ]
    },
    {
     "name": "stdout",
     "output_type": "stream",
     "text": [
      "No HVAC data for user 3918 !\n",
      "Plotting for 3935 \n"
     ]
    },
    {
     "name": "stderr",
     "output_type": "stream",
     "text": [
      "Warning message:\n",
      "In dir.create(file.path(PLOTS_PATH, uid), recursive = TRUE): '/Users/adrianalbert/S3L_server/plots/pecan-street-2/3935' already exists"
     ]
    },
    {
     "name": "stdout",
     "output_type": "stream",
     "text": [
      "No HVAC data for user 3964 !\n",
      "Plotting for 3967 \n"
     ]
    },
    {
     "name": "stderr",
     "output_type": "stream",
     "text": [
      "Warning message:\n",
      "In dir.create(file.path(PLOTS_PATH, uid), recursive = TRUE): '/Users/adrianalbert/S3L_server/plots/pecan-street-2/3967' already exists"
     ]
    },
    {
     "name": "stdout",
     "output_type": "stream",
     "text": [
      "No HVAC data for user 4031 !\n",
      "Plotting for 410 \n"
     ]
    },
    {
     "name": "stderr",
     "output_type": "stream",
     "text": [
      "Warning message:\n",
      "In dir.create(file.path(PLOTS_PATH, uid), recursive = TRUE): '/Users/adrianalbert/S3L_server/plots/pecan-street-2/410' already exists"
     ]
    },
    {
     "name": "stdout",
     "output_type": "stream",
     "text": [
      "Plotting for 4135 \n"
     ]
    },
    {
     "name": "stderr",
     "output_type": "stream",
     "text": [
      "Warning message:\n",
      "In dir.create(file.path(PLOTS_PATH, uid), recursive = TRUE): '/Users/adrianalbert/S3L_server/plots/pecan-street-2/4135' already exists"
     ]
    },
    {
     "name": "stdout",
     "output_type": "stream",
     "text": [
      "Plotting for 4154 \n"
     ]
    },
    {
     "name": "stderr",
     "output_type": "stream",
     "text": [
      "Warning message:\n",
      "In dir.create(file.path(PLOTS_PATH, uid), recursive = TRUE): '/Users/adrianalbert/S3L_server/plots/pecan-street-2/4154' already exists"
     ]
    },
    {
     "name": "stdout",
     "output_type": "stream",
     "text": [
      "No HVAC data for user 4193 !\n",
      "Plotting for 4251 \n"
     ]
    },
    {
     "name": "stderr",
     "output_type": "stream",
     "text": [
      "Warning message:\n",
      "In dir.create(file.path(PLOTS_PATH, uid), recursive = TRUE): '/Users/adrianalbert/S3L_server/plots/pecan-street-2/4251' already exists"
     ]
    },
    {
     "name": "stdout",
     "output_type": "stream",
     "text": [
      "No HVAC data for user 4297 !\n",
      "No HVAC data for user 4302 !\n",
      "No HVAC data for user 4336 !\n",
      "Plotting for 4352 \n"
     ]
    },
    {
     "name": "stderr",
     "output_type": "stream",
     "text": [
      "Warning message:\n",
      "In dir.create(file.path(PLOTS_PATH, uid), recursive = TRUE): '/Users/adrianalbert/S3L_server/plots/pecan-street-2/4352' already exists"
     ]
    },
    {
     "name": "stdout",
     "output_type": "stream",
     "text": [
      "No HVAC data for user 4357 !\n",
      "Plotting for 4373 \n"
     ]
    },
    {
     "name": "stderr",
     "output_type": "stream",
     "text": [
      "Warning message:\n",
      "In dir.create(file.path(PLOTS_PATH, uid), recursive = TRUE): '/Users/adrianalbert/S3L_server/plots/pecan-street-2/4373' already exists"
     ]
    },
    {
     "name": "stdout",
     "output_type": "stream",
     "text": [
      "No HVAC data for user 4447 !\n",
      "Plotting for 4526 \n"
     ]
    },
    {
     "name": "stderr",
     "output_type": "stream",
     "text": [
      "Warning message:\n",
      "In dir.create(file.path(PLOTS_PATH, uid), recursive = TRUE): '/Users/adrianalbert/S3L_server/plots/pecan-street-2/4526' already exists"
     ]
    },
    {
     "name": "stdout",
     "output_type": "stream",
     "text": [
      "Plotting for 4641 \n"
     ]
    },
    {
     "name": "stderr",
     "output_type": "stream",
     "text": [
      "Warning message:\n",
      "In dir.create(file.path(PLOTS_PATH, uid), recursive = TRUE): '/Users/adrianalbert/S3L_server/plots/pecan-street-2/4641' already exists"
     ]
    },
    {
     "name": "stdout",
     "output_type": "stream",
     "text": [
      "No HVAC data for user 4732 !\n",
      "Plotting for 4767 \n"
     ]
    },
    {
     "name": "stderr",
     "output_type": "stream",
     "text": [
      "Warning message:\n",
      "In dir.create(file.path(PLOTS_PATH, uid), recursive = TRUE): '/Users/adrianalbert/S3L_server/plots/pecan-street-2/4767' already exists"
     ]
    },
    {
     "name": "stdout",
     "output_type": "stream",
     "text": [
      "Plotting for 484 \n"
     ]
    },
    {
     "name": "stderr",
     "output_type": "stream",
     "text": [
      "Warning message:\n",
      "In dir.create(file.path(PLOTS_PATH, uid), recursive = TRUE): '/Users/adrianalbert/S3L_server/plots/pecan-street-2/484' already exists"
     ]
    },
    {
     "name": "stdout",
     "output_type": "stream",
     "text": [
      "Plotting for 4957 \n"
     ]
    },
    {
     "name": "stderr",
     "output_type": "stream",
     "text": [
      "Warning message:\n",
      "In dir.create(file.path(PLOTS_PATH, uid), recursive = TRUE): '/Users/adrianalbert/S3L_server/plots/pecan-street-2/4957' already exists"
     ]
    },
    {
     "name": "stdout",
     "output_type": "stream",
     "text": [
      "Plotting for 4998 \n"
     ]
    },
    {
     "name": "stderr",
     "output_type": "stream",
     "text": [
      "Warning message:\n",
      "In dir.create(file.path(PLOTS_PATH, uid), recursive = TRUE): '/Users/adrianalbert/S3L_server/plots/pecan-street-2/4998' already exists"
     ]
    },
    {
     "name": "stdout",
     "output_type": "stream",
     "text": [
      "No HVAC data for user 5129 !\n",
      "No HVAC data for user 5164 !\n",
      "Plotting for 5218 \n"
     ]
    },
    {
     "name": "stderr",
     "output_type": "stream",
     "text": [
      "Warning message:\n",
      "In dir.create(file.path(PLOTS_PATH, uid), recursive = TRUE): '/Users/adrianalbert/S3L_server/plots/pecan-street-2/5218' already exists"
     ]
    },
    {
     "name": "stdout",
     "output_type": "stream",
     "text": [
      "No HVAC data for user 5246 !\n",
      "Plotting for 5275 \n"
     ]
    },
    {
     "name": "stderr",
     "output_type": "stream",
     "text": [
      "Warning message:\n",
      "In dir.create(file.path(PLOTS_PATH, uid), recursive = TRUE): '/Users/adrianalbert/S3L_server/plots/pecan-street-2/5275' already exists"
     ]
    },
    {
     "name": "stdout",
     "output_type": "stream",
     "text": [
      "Plotting for 5357 \n"
     ]
    },
    {
     "name": "stderr",
     "output_type": "stream",
     "text": [
      "Warning message:\n",
      "In dir.create(file.path(PLOTS_PATH, uid), recursive = TRUE): '/Users/adrianalbert/S3L_server/plots/pecan-street-2/5357' already exists"
     ]
    },
    {
     "name": "stdout",
     "output_type": "stream",
     "text": [
      "Plotting for 5371 \n"
     ]
    },
    {
     "name": "stderr",
     "output_type": "stream",
     "text": [
      "Warning message:\n",
      "In dir.create(file.path(PLOTS_PATH, uid), recursive = TRUE): '/Users/adrianalbert/S3L_server/plots/pecan-street-2/5371' already exists"
     ]
    },
    {
     "name": "stdout",
     "output_type": "stream",
     "text": [
      "Plotting for 5395 \n"
     ]
    },
    {
     "name": "stderr",
     "output_type": "stream",
     "text": [
      "Warning message:\n",
      "In dir.create(file.path(PLOTS_PATH, uid), recursive = TRUE): '/Users/adrianalbert/S3L_server/plots/pecan-street-2/5395' already exists"
     ]
    },
    {
     "name": "stdout",
     "output_type": "stream",
     "text": [
      "Plotting for 5403 \n"
     ]
    },
    {
     "name": "stderr",
     "output_type": "stream",
     "text": [
      "Warning message:\n",
      "In dir.create(file.path(PLOTS_PATH, uid), recursive = TRUE): '/Users/adrianalbert/S3L_server/plots/pecan-street-2/5403' already exists"
     ]
    },
    {
     "name": "stdout",
     "output_type": "stream",
     "text": [
      "No HVAC data for user 5439 !\n",
      "Plotting for 545 \n"
     ]
    },
    {
     "name": "stderr",
     "output_type": "stream",
     "text": [
      "Warning message:\n",
      "In dir.create(file.path(PLOTS_PATH, uid), recursive = TRUE): '/Users/adrianalbert/S3L_server/plots/pecan-street-2/545' already exists"
     ]
    },
    {
     "name": "stdout",
     "output_type": "stream",
     "text": [
      "No HVAC data for user 555 !\n",
      "Plotting for 5568 \n"
     ]
    },
    {
     "name": "stderr",
     "output_type": "stream",
     "text": [
      "Warning message:\n",
      "In dir.create(file.path(PLOTS_PATH, uid), recursive = TRUE): '/Users/adrianalbert/S3L_server/plots/pecan-street-2/5568' already exists"
     ]
    },
    {
     "name": "stdout",
     "output_type": "stream",
     "text": [
      "No HVAC data for user 5615 !\n",
      "No HVAC data for user 5738 !\n",
      "Plotting for 5746 \n"
     ]
    },
    {
     "name": "stderr",
     "output_type": "stream",
     "text": [
      "Warning message:\n",
      "In dir.create(file.path(PLOTS_PATH, uid), recursive = TRUE): '/Users/adrianalbert/S3L_server/plots/pecan-street-2/5746' already exists"
     ]
    },
    {
     "name": "stdout",
     "output_type": "stream",
     "text": [
      "Plotting for 5785 \n"
     ]
    },
    {
     "name": "stderr",
     "output_type": "stream",
     "text": [
      "Warning message:\n",
      "In dir.create(file.path(PLOTS_PATH, uid), recursive = TRUE): '/Users/adrianalbert/S3L_server/plots/pecan-street-2/5785' already exists"
     ]
    },
    {
     "name": "stdout",
     "output_type": "stream",
     "text": [
      "No HVAC data for user 5796 !\n",
      "Plotting for 5814 \n"
     ]
    },
    {
     "name": "stderr",
     "output_type": "stream",
     "text": [
      "Warning message:\n",
      "In dir.create(file.path(PLOTS_PATH, uid), recursive = TRUE): '/Users/adrianalbert/S3L_server/plots/pecan-street-2/5814' already exists"
     ]
    },
    {
     "name": "stdout",
     "output_type": "stream",
     "text": [
      "No HVAC data for user 5817 !\n",
      "No HVAC data for user 585 !\n",
      "Plotting for 5874 \n"
     ]
    },
    {
     "name": "stderr",
     "output_type": "stream",
     "text": [
      "Warning message:\n",
      "In dir.create(file.path(PLOTS_PATH, uid), recursive = TRUE): '/Users/adrianalbert/S3L_server/plots/pecan-street-2/5874' already exists"
     ]
    },
    {
     "name": "stdout",
     "output_type": "stream",
     "text": [
      "No HVAC data for user 5892 !\n",
      "Plotting for 5949 \n"
     ]
    },
    {
     "name": "stderr",
     "output_type": "stream",
     "text": [
      "Warning message:\n",
      "In dir.create(file.path(PLOTS_PATH, uid), recursive = TRUE): '/Users/adrianalbert/S3L_server/plots/pecan-street-2/5949' already exists"
     ]
    },
    {
     "name": "stdout",
     "output_type": "stream",
     "text": [
      "Plotting for 5972 \n"
     ]
    },
    {
     "name": "stderr",
     "output_type": "stream",
     "text": [
      "Warning message:\n",
      "In dir.create(file.path(PLOTS_PATH, uid), recursive = TRUE): '/Users/adrianalbert/S3L_server/plots/pecan-street-2/5972' already exists"
     ]
    },
    {
     "name": "stdout",
     "output_type": "stream",
     "text": [
      "Plotting for 6072 \n"
     ]
    },
    {
     "name": "stderr",
     "output_type": "stream",
     "text": [
      "Warning message:\n",
      "In dir.create(file.path(PLOTS_PATH, uid), recursive = TRUE): '/Users/adrianalbert/S3L_server/plots/pecan-street-2/6072' already exists"
     ]
    },
    {
     "name": "stdout",
     "output_type": "stream",
     "text": [
      "Plotting for 6101 \n"
     ]
    },
    {
     "name": "stderr",
     "output_type": "stream",
     "text": [
      "Warning message:\n",
      "In dir.create(file.path(PLOTS_PATH, uid), recursive = TRUE): '/Users/adrianalbert/S3L_server/plots/pecan-street-2/6101' already exists"
     ]
    },
    {
     "name": "stdout",
     "output_type": "stream",
     "text": [
      "Plotting for 6121 \n"
     ]
    },
    {
     "name": "stderr",
     "output_type": "stream",
     "text": [
      "Warning message:\n",
      "In dir.create(file.path(PLOTS_PATH, uid), recursive = TRUE): '/Users/adrianalbert/S3L_server/plots/pecan-street-2/6121' already existsWarning message:\n",
      "In max(homeData$total, na.rm = T): no non-missing arguments to max; returning -Inf"
     ]
    },
    {
     "name": "stdout",
     "output_type": "stream",
     "text": [
      "Plotting for 6139 \n"
     ]
    },
    {
     "name": "stderr",
     "output_type": "stream",
     "text": [
      "Warning message:\n",
      "In dir.create(file.path(PLOTS_PATH, uid), recursive = TRUE): '/Users/adrianalbert/S3L_server/plots/pecan-street-2/6139' already existsWarning message:\n",
      "In max(homeData$total, na.rm = T): no non-missing arguments to max; returning -Inf"
     ]
    },
    {
     "name": "stdout",
     "output_type": "stream",
     "text": [
      "Plotting for 624 \n"
     ]
    },
    {
     "name": "stderr",
     "output_type": "stream",
     "text": [
      "Warning message:\n",
      "In dir.create(file.path(PLOTS_PATH, uid), recursive = TRUE): '/Users/adrianalbert/S3L_server/plots/pecan-street-2/624' already exists"
     ]
    },
    {
     "name": "stdout",
     "output_type": "stream",
     "text": [
      "No HVAC data for user 6266 !\n",
      "Plotting for 6412 \n"
     ]
    },
    {
     "name": "stderr",
     "output_type": "stream",
     "text": [
      "Warning message:\n",
      "In dir.create(file.path(PLOTS_PATH, uid), recursive = TRUE): '/Users/adrianalbert/S3L_server/plots/pecan-street-2/6412' already exists"
     ]
    },
    {
     "name": "stdout",
     "output_type": "stream",
     "text": [
      "No HVAC data for user 6423 !\n",
      "No HVAC data for user 6545 !\n",
      "Plotting for 6636 \n"
     ]
    },
    {
     "name": "stderr",
     "output_type": "stream",
     "text": [
      "Warning message:\n",
      "In dir.create(file.path(PLOTS_PATH, uid), recursive = TRUE): '/Users/adrianalbert/S3L_server/plots/pecan-street-2/6636' already exists"
     ]
    },
    {
     "name": "stdout",
     "output_type": "stream",
     "text": [
      "No HVAC data for user 6643 !\n",
      "Plotting for 6673 \n"
     ]
    },
    {
     "name": "stderr",
     "output_type": "stream",
     "text": [
      "Warning message:\n",
      "In dir.create(file.path(PLOTS_PATH, uid), recursive = TRUE): '/Users/adrianalbert/S3L_server/plots/pecan-street-2/6673' already exists"
     ]
    },
    {
     "name": "stdout",
     "output_type": "stream",
     "text": [
      "Plotting for 6730 \n"
     ]
    },
    {
     "name": "stderr",
     "output_type": "stream",
     "text": [
      "Warning message:\n",
      "In dir.create(file.path(PLOTS_PATH, uid), recursive = TRUE): '/Users/adrianalbert/S3L_server/plots/pecan-street-2/6730' already exists"
     ]
    },
    {
     "name": "stdout",
     "output_type": "stream",
     "text": [
      "Plotting for 6836 \n"
     ]
    },
    {
     "name": "stderr",
     "output_type": "stream",
     "text": [
      "Warning message:\n",
      "In dir.create(file.path(PLOTS_PATH, uid), recursive = TRUE): '/Users/adrianalbert/S3L_server/plots/pecan-street-2/6836' already exists"
     ]
    },
    {
     "name": "stdout",
     "output_type": "stream",
     "text": [
      "No HVAC data for user 6871 !\n",
      "Plotting for 6910 \n"
     ]
    },
    {
     "name": "stderr",
     "output_type": "stream",
     "text": [
      "Warning message:\n",
      "In dir.create(file.path(PLOTS_PATH, uid), recursive = TRUE): '/Users/adrianalbert/S3L_server/plots/pecan-street-2/6910' already exists"
     ]
    },
    {
     "name": "stdout",
     "output_type": "stream",
     "text": [
      "Plotting for 6941 \n"
     ]
    },
    {
     "name": "stderr",
     "output_type": "stream",
     "text": [
      "Warning message:\n",
      "In dir.create(file.path(PLOTS_PATH, uid), recursive = TRUE): '/Users/adrianalbert/S3L_server/plots/pecan-street-2/6941' already exists"
     ]
    },
    {
     "name": "stdout",
     "output_type": "stream",
     "text": [
      "No HVAC data for user 6979 !\n",
      "Plotting for 6990 \n"
     ]
    },
    {
     "name": "stderr",
     "output_type": "stream",
     "text": [
      "Warning message:\n",
      "In dir.create(file.path(PLOTS_PATH, uid), recursive = TRUE): '/Users/adrianalbert/S3L_server/plots/pecan-street-2/6990' already exists"
     ]
    },
    {
     "name": "stdout",
     "output_type": "stream",
     "text": [
      "Plotting for 7016 \n"
     ]
    },
    {
     "name": "stderr",
     "output_type": "stream",
     "text": [
      "Warning message:\n",
      "In dir.create(file.path(PLOTS_PATH, uid), recursive = TRUE): '/Users/adrianalbert/S3L_server/plots/pecan-street-2/7016' already exists"
     ]
    },
    {
     "name": "stdout",
     "output_type": "stream",
     "text": [
      "No HVAC data for user 7108 !\n",
      "No HVAC data for user 7240 !\n",
      "Plotting for 7361 \n"
     ]
    },
    {
     "name": "stderr",
     "output_type": "stream",
     "text": [
      "Warning message:\n",
      "In dir.create(file.path(PLOTS_PATH, uid), recursive = TRUE): '/Users/adrianalbert/S3L_server/plots/pecan-street-2/7361' already exists"
     ]
    },
    {
     "name": "stdout",
     "output_type": "stream",
     "text": [
      "Plotting for 739 \n"
     ]
    },
    {
     "name": "stderr",
     "output_type": "stream",
     "text": [
      "Warning message:\n",
      "In dir.create(file.path(PLOTS_PATH, uid), recursive = TRUE): '/Users/adrianalbert/S3L_server/plots/pecan-street-2/739' already exists"
     ]
    },
    {
     "name": "stdout",
     "output_type": "stream",
     "text": [
      "No HVAC data for user 7429 !\n",
      "No HVAC data for user 744 !\n",
      "Plotting for 7504 \n"
     ]
    },
    {
     "name": "stderr",
     "output_type": "stream",
     "text": [
      "Warning message:\n",
      "In dir.create(file.path(PLOTS_PATH, uid), recursive = TRUE): '/Users/adrianalbert/S3L_server/plots/pecan-street-2/7504' already exists"
     ]
    },
    {
     "name": "stdout",
     "output_type": "stream",
     "text": [
      "Plotting for 7510 \n"
     ]
    },
    {
     "name": "stderr",
     "output_type": "stream",
     "text": [
      "Warning message:\n",
      "In dir.create(file.path(PLOTS_PATH, uid), recursive = TRUE): '/Users/adrianalbert/S3L_server/plots/pecan-street-2/7510' already exists"
     ]
    },
    {
     "name": "stdout",
     "output_type": "stream",
     "text": [
      "Plotting for 7531 \n"
     ]
    },
    {
     "name": "stderr",
     "output_type": "stream",
     "text": [
      "Warning message:\n",
      "In dir.create(file.path(PLOTS_PATH, uid), recursive = TRUE): '/Users/adrianalbert/S3L_server/plots/pecan-street-2/7531' already exists"
     ]
    },
    {
     "name": "stdout",
     "output_type": "stream",
     "text": [
      "Plotting for 7536 \n"
     ]
    },
    {
     "name": "stderr",
     "output_type": "stream",
     "text": [
      "Warning message:\n",
      "In dir.create(file.path(PLOTS_PATH, uid), recursive = TRUE): '/Users/adrianalbert/S3L_server/plots/pecan-street-2/7536' already exists"
     ]
    },
    {
     "name": "stdout",
     "output_type": "stream",
     "text": [
      "Plotting for 7680 \n"
     ]
    },
    {
     "name": "stderr",
     "output_type": "stream",
     "text": [
      "Warning message:\n",
      "In dir.create(file.path(PLOTS_PATH, uid), recursive = TRUE): '/Users/adrianalbert/S3L_server/plots/pecan-street-2/7680' already exists"
     ]
    },
    {
     "name": "stdout",
     "output_type": "stream",
     "text": [
      "Plotting for 7731 \n"
     ]
    },
    {
     "name": "stderr",
     "output_type": "stream",
     "text": [
      "Warning message:\n",
      "In dir.create(file.path(PLOTS_PATH, uid), recursive = TRUE): '/Users/adrianalbert/S3L_server/plots/pecan-street-2/7731' already exists"
     ]
    },
    {
     "name": "stdout",
     "output_type": "stream",
     "text": [
      "No HVAC data for user 7739 !\n",
      "No HVAC data for user 7741 !\n",
      "No HVAC data for user 7767 !\n",
      "Plotting for 7769 \n"
     ]
    },
    {
     "name": "stderr",
     "output_type": "stream",
     "text": [
      "Warning message:\n",
      "In dir.create(file.path(PLOTS_PATH, uid), recursive = TRUE): '/Users/adrianalbert/S3L_server/plots/pecan-street-2/7769' already exists"
     ]
    },
    {
     "name": "stdout",
     "output_type": "stream",
     "text": [
      "Plotting for 7800 \n"
     ]
    },
    {
     "name": "stderr",
     "output_type": "stream",
     "text": [
      "Warning message:\n",
      "In dir.create(file.path(PLOTS_PATH, uid), recursive = TRUE): '/Users/adrianalbert/S3L_server/plots/pecan-street-2/7800' already exists"
     ]
    },
    {
     "name": "stdout",
     "output_type": "stream",
     "text": [
      "Plotting for 7850 \n"
     ]
    },
    {
     "name": "stderr",
     "output_type": "stream",
     "text": [
      "Warning message:\n",
      "In dir.create(file.path(PLOTS_PATH, uid), recursive = TRUE): '/Users/adrianalbert/S3L_server/plots/pecan-street-2/7850' already exists"
     ]
    },
    {
     "name": "stdout",
     "output_type": "stream",
     "text": [
      "Plotting for 7863 \n"
     ]
    },
    {
     "name": "stderr",
     "output_type": "stream",
     "text": [
      "Warning message:\n",
      "In dir.create(file.path(PLOTS_PATH, uid), recursive = TRUE): '/Users/adrianalbert/S3L_server/plots/pecan-street-2/7863' already exists"
     ]
    },
    {
     "name": "stdout",
     "output_type": "stream",
     "text": [
      "Plotting for 7866 \n"
     ]
    },
    {
     "name": "stderr",
     "output_type": "stream",
     "text": [
      "Warning message:\n",
      "In dir.create(file.path(PLOTS_PATH, uid), recursive = TRUE): '/Users/adrianalbert/S3L_server/plots/pecan-street-2/7866' already exists"
     ]
    },
    {
     "name": "stdout",
     "output_type": "stream",
     "text": [
      "Plotting for 7940 \n"
     ]
    },
    {
     "name": "stderr",
     "output_type": "stream",
     "text": [
      "Warning message:\n",
      "In dir.create(file.path(PLOTS_PATH, uid), recursive = TRUE): '/Users/adrianalbert/S3L_server/plots/pecan-street-2/7940' already existsWarning message:\n",
      "In max(homeData$total, na.rm = T): no non-missing arguments to max; returning -Inf"
     ]
    },
    {
     "name": "stdout",
     "output_type": "stream",
     "text": [
      "No HVAC data for user 7965 !\n",
      "Plotting for 7989 \n"
     ]
    },
    {
     "name": "stderr",
     "output_type": "stream",
     "text": [
      "Warning message:\n",
      "In dir.create(file.path(PLOTS_PATH, uid), recursive = TRUE): '/Users/adrianalbert/S3L_server/plots/pecan-street-2/7989' already exists"
     ]
    },
    {
     "name": "stdout",
     "output_type": "stream",
     "text": [
      "Plotting for 8031 \n"
     ]
    },
    {
     "name": "stderr",
     "output_type": "stream",
     "text": [
      "Warning message:\n",
      "In dir.create(file.path(PLOTS_PATH, uid), recursive = TRUE): '/Users/adrianalbert/S3L_server/plots/pecan-street-2/8031' already exists"
     ]
    },
    {
     "name": "stdout",
     "output_type": "stream",
     "text": [
      "Plotting for 8047 \n"
     ]
    },
    {
     "name": "stderr",
     "output_type": "stream",
     "text": [
      "Warning message:\n",
      "In dir.create(file.path(PLOTS_PATH, uid), recursive = TRUE): '/Users/adrianalbert/S3L_server/plots/pecan-street-2/8047' already exists"
     ]
    },
    {
     "name": "stdout",
     "output_type": "stream",
     "text": [
      "Plotting for 8084 \n"
     ]
    },
    {
     "name": "stderr",
     "output_type": "stream",
     "text": [
      "Warning message:\n",
      "In dir.create(file.path(PLOTS_PATH, uid), recursive = TRUE): '/Users/adrianalbert/S3L_server/plots/pecan-street-2/8084' already exists"
     ]
    },
    {
     "name": "stdout",
     "output_type": "stream",
     "text": [
      "No HVAC data for user 8155 !\n",
      "Plotting for 8197 \n"
     ]
    },
    {
     "name": "stderr",
     "output_type": "stream",
     "text": [
      "Warning message:\n",
      "In dir.create(file.path(PLOTS_PATH, uid), recursive = TRUE): '/Users/adrianalbert/S3L_server/plots/pecan-street-2/8197' already exists"
     ]
    },
    {
     "name": "stdout",
     "output_type": "stream",
     "text": [
      "Plotting for 8236 \n"
     ]
    },
    {
     "name": "stderr",
     "output_type": "stream",
     "text": [
      "Warning message:\n",
      "In dir.create(file.path(PLOTS_PATH, uid), recursive = TRUE): '/Users/adrianalbert/S3L_server/plots/pecan-street-2/8236' already exists"
     ]
    },
    {
     "name": "stdout",
     "output_type": "stream",
     "text": [
      "No HVAC data for user 8317 !\n",
      "Plotting for 8419 \n"
     ]
    },
    {
     "name": "stderr",
     "output_type": "stream",
     "text": [
      "Warning message:\n",
      "In dir.create(file.path(PLOTS_PATH, uid), recursive = TRUE): '/Users/adrianalbert/S3L_server/plots/pecan-street-2/8419' already exists"
     ]
    },
    {
     "name": "stdout",
     "output_type": "stream",
     "text": [
      "Plotting for 8597 \n"
     ]
    },
    {
     "name": "stderr",
     "output_type": "stream",
     "text": [
      "Warning message:\n",
      "In dir.create(file.path(PLOTS_PATH, uid), recursive = TRUE): '/Users/adrianalbert/S3L_server/plots/pecan-street-2/8597' already exists"
     ]
    },
    {
     "name": "stdout",
     "output_type": "stream",
     "text": [
      "Plotting for 86 \n"
     ]
    },
    {
     "name": "stderr",
     "output_type": "stream",
     "text": [
      "Warning message:\n",
      "In dir.create(file.path(PLOTS_PATH, uid), recursive = TRUE): '/Users/adrianalbert/S3L_server/plots/pecan-street-2/86' already exists"
     ]
    },
    {
     "name": "stdout",
     "output_type": "stream",
     "text": [
      "No HVAC data for user 861 !\n",
      "No HVAC data for user 8626 !\n",
      "Plotting for 8669 \n"
     ]
    },
    {
     "name": "stderr",
     "output_type": "stream",
     "text": [
      "Warning message:\n",
      "In dir.create(file.path(PLOTS_PATH, uid), recursive = TRUE): '/Users/adrianalbert/S3L_server/plots/pecan-street-2/8669' already exists"
     ]
    },
    {
     "name": "stdout",
     "output_type": "stream",
     "text": [
      "Plotting for 871 \n"
     ]
    },
    {
     "name": "stderr",
     "output_type": "stream",
     "text": [
      "Warning message:\n",
      "In dir.create(file.path(PLOTS_PATH, uid), recursive = TRUE): '/Users/adrianalbert/S3L_server/plots/pecan-street-2/871' already exists"
     ]
    },
    {
     "name": "stdout",
     "output_type": "stream",
     "text": [
      "No HVAC data for user 8829 !\n",
      "Plotting for 8872 \n"
     ]
    },
    {
     "name": "stderr",
     "output_type": "stream",
     "text": [
      "Warning message:\n",
      "In dir.create(file.path(PLOTS_PATH, uid), recursive = TRUE): '/Users/adrianalbert/S3L_server/plots/pecan-street-2/8872' already exists"
     ]
    },
    {
     "name": "stdout",
     "output_type": "stream",
     "text": [
      "No HVAC data for user 890 !\n",
      "No HVAC data for user 8967 !\n",
      "Plotting for 898 \n"
     ]
    },
    {
     "name": "stderr",
     "output_type": "stream",
     "text": [
      "Warning message:\n",
      "In dir.create(file.path(PLOTS_PATH, uid), recursive = TRUE): '/Users/adrianalbert/S3L_server/plots/pecan-street-2/898' already exists"
     ]
    },
    {
     "name": "stdout",
     "output_type": "stream",
     "text": [
      "Plotting for 900 \n"
     ]
    },
    {
     "name": "stderr",
     "output_type": "stream",
     "text": [
      "Warning message:\n",
      "In dir.create(file.path(PLOTS_PATH, uid), recursive = TRUE): '/Users/adrianalbert/S3L_server/plots/pecan-street-2/900' already exists"
     ]
    },
    {
     "name": "stdout",
     "output_type": "stream",
     "text": [
      "Plotting for 9019 \n"
     ]
    },
    {
     "name": "stderr",
     "output_type": "stream",
     "text": [
      "Warning message:\n",
      "In dir.create(file.path(PLOTS_PATH, uid), recursive = TRUE): '/Users/adrianalbert/S3L_server/plots/pecan-street-2/9019' already exists"
     ]
    },
    {
     "name": "stdout",
     "output_type": "stream",
     "text": [
      "No HVAC data for user 9052 !\n",
      "Plotting for 9121 \n"
     ]
    },
    {
     "name": "stderr",
     "output_type": "stream",
     "text": [
      "Warning message:\n",
      "In dir.create(file.path(PLOTS_PATH, uid), recursive = TRUE): '/Users/adrianalbert/S3L_server/plots/pecan-street-2/9121' already exists"
     ]
    },
    {
     "name": "stdout",
     "output_type": "stream",
     "text": [
      "Plotting for 9160 \n"
     ]
    },
    {
     "name": "stderr",
     "output_type": "stream",
     "text": [
      "Warning message:\n",
      "In dir.create(file.path(PLOTS_PATH, uid), recursive = TRUE): '/Users/adrianalbert/S3L_server/plots/pecan-street-2/9160' already exists"
     ]
    },
    {
     "name": "stdout",
     "output_type": "stream",
     "text": [
      "Plotting for 93 \n"
     ]
    },
    {
     "name": "stderr",
     "output_type": "stream",
     "text": [
      "Warning message:\n",
      "In dir.create(file.path(PLOTS_PATH, uid), recursive = TRUE): '/Users/adrianalbert/S3L_server/plots/pecan-street-2/93' already exists"
     ]
    },
    {
     "name": "stdout",
     "output_type": "stream",
     "text": [
      "Plotting for 9356 \n"
     ]
    },
    {
     "name": "stderr",
     "output_type": "stream",
     "text": [
      "Warning message:\n",
      "In dir.create(file.path(PLOTS_PATH, uid), recursive = TRUE): '/Users/adrianalbert/S3L_server/plots/pecan-street-2/9356' already exists"
     ]
    },
    {
     "name": "stdout",
     "output_type": "stream",
     "text": [
      "Plotting for 936 \n"
     ]
    },
    {
     "name": "stderr",
     "output_type": "stream",
     "text": [
      "Warning message:\n",
      "In dir.create(file.path(PLOTS_PATH, uid), recursive = TRUE): '/Users/adrianalbert/S3L_server/plots/pecan-street-2/936' already exists"
     ]
    },
    {
     "name": "stdout",
     "output_type": "stream",
     "text": [
      "Plotting for 94 \n"
     ]
    },
    {
     "name": "stderr",
     "output_type": "stream",
     "text": [
      "Warning message:\n",
      "In dir.create(file.path(PLOTS_PATH, uid), recursive = TRUE): '/Users/adrianalbert/S3L_server/plots/pecan-street-2/94' already exists"
     ]
    },
    {
     "name": "stdout",
     "output_type": "stream",
     "text": [
      "No HVAC data for user 9451 !\n",
      "Plotting for 9499 \n"
     ]
    },
    {
     "name": "stderr",
     "output_type": "stream",
     "text": [
      "Warning message:\n",
      "In dir.create(file.path(PLOTS_PATH, uid), recursive = TRUE): '/Users/adrianalbert/S3L_server/plots/pecan-street-2/9499' already exists"
     ]
    },
    {
     "name": "stdout",
     "output_type": "stream",
     "text": [
      "No HVAC data for user 9509 !\n",
      "Plotting for 9609 \n"
     ]
    },
    {
     "name": "stderr",
     "output_type": "stream",
     "text": [
      "Warning message:\n",
      "In dir.create(file.path(PLOTS_PATH, uid), recursive = TRUE): '/Users/adrianalbert/S3L_server/plots/pecan-street-2/9609' already exists"
     ]
    },
    {
     "name": "stdout",
     "output_type": "stream",
     "text": [
      "No HVAC data for user 9631 !\n",
      "Plotting for 9643 \n"
     ]
    },
    {
     "name": "stderr",
     "output_type": "stream",
     "text": [
      "Warning message:\n",
      "In dir.create(file.path(PLOTS_PATH, uid), recursive = TRUE): '/Users/adrianalbert/S3L_server/plots/pecan-street-2/9643' already exists"
     ]
    },
    {
     "name": "stdout",
     "output_type": "stream",
     "text": [
      "Plotting for 9654 \n"
     ]
    },
    {
     "name": "stderr",
     "output_type": "stream",
     "text": [
      "Warning message:\n",
      "In dir.create(file.path(PLOTS_PATH, uid), recursive = TRUE): '/Users/adrianalbert/S3L_server/plots/pecan-street-2/9654' already exists"
     ]
    },
    {
     "name": "stdout",
     "output_type": "stream",
     "text": [
      "Plotting for 9701 \n"
     ]
    },
    {
     "name": "stderr",
     "output_type": "stream",
     "text": [
      "Warning message:\n",
      "In dir.create(file.path(PLOTS_PATH, uid), recursive = TRUE): '/Users/adrianalbert/S3L_server/plots/pecan-street-2/9701' already exists"
     ]
    },
    {
     "name": "stdout",
     "output_type": "stream",
     "text": [
      "Plotting for 9729 \n"
     ]
    },
    {
     "name": "stderr",
     "output_type": "stream",
     "text": [
      "Warning message:\n",
      "In dir.create(file.path(PLOTS_PATH, uid), recursive = TRUE): '/Users/adrianalbert/S3L_server/plots/pecan-street-2/9729' already exists"
     ]
    },
    {
     "name": "stdout",
     "output_type": "stream",
     "text": [
      "Plotting for 9737 \n"
     ]
    },
    {
     "name": "stderr",
     "output_type": "stream",
     "text": [
      "Warning message:\n",
      "In dir.create(file.path(PLOTS_PATH, uid), recursive = TRUE): '/Users/adrianalbert/S3L_server/plots/pecan-street-2/9737' already exists"
     ]
    },
    {
     "name": "stdout",
     "output_type": "stream",
     "text": [
      "Plotting for 9771 \n"
     ]
    },
    {
     "name": "stderr",
     "output_type": "stream",
     "text": [
      "Warning message:\n",
      "In dir.create(file.path(PLOTS_PATH, uid), recursive = TRUE): '/Users/adrianalbert/S3L_server/plots/pecan-street-2/9771' already exists"
     ]
    },
    {
     "name": "stdout",
     "output_type": "stream",
     "text": [
      "Plotting for 9830 \n"
     ]
    },
    {
     "name": "stderr",
     "output_type": "stream",
     "text": [
      "Warning message:\n",
      "In dir.create(file.path(PLOTS_PATH, uid), recursive = TRUE): '/Users/adrianalbert/S3L_server/plots/pecan-street-2/9830' already exists"
     ]
    },
    {
     "name": "stdout",
     "output_type": "stream",
     "text": [
      "Plotting for 9915 \n"
     ]
    },
    {
     "name": "stderr",
     "output_type": "stream",
     "text": [
      "Warning message:\n",
      "In dir.create(file.path(PLOTS_PATH, uid), recursive = TRUE): '/Users/adrianalbert/S3L_server/plots/pecan-street-2/9915' already exists"
     ]
    },
    {
     "name": "stdout",
     "output_type": "stream",
     "text": [
      "Plotting for 9919 \n"
     ]
    },
    {
     "name": "stderr",
     "output_type": "stream",
     "text": [
      "Warning message:\n",
      "In dir.create(file.path(PLOTS_PATH, uid), recursive = TRUE): '/Users/adrianalbert/S3L_server/plots/pecan-street-2/9919' already exists"
     ]
    },
    {
     "name": "stdout",
     "output_type": "stream",
     "text": [
      "Plotting for 9922 \n"
     ]
    },
    {
     "name": "stderr",
     "output_type": "stream",
     "text": [
      "Warning message:\n",
      "In dir.create(file.path(PLOTS_PATH, uid), recursive = TRUE): '/Users/adrianalbert/S3L_server/plots/pecan-street-2/9922' already exists"
     ]
    },
    {
     "name": "stdout",
     "output_type": "stream",
     "text": [
      "Plotting for 9923 \n"
     ]
    },
    {
     "name": "stderr",
     "output_type": "stream",
     "text": [
      "Warning message:\n",
      "In dir.create(file.path(PLOTS_PATH, uid), recursive = TRUE): '/Users/adrianalbert/S3L_server/plots/pecan-street-2/9923' already exists"
     ]
    },
    {
     "name": "stdout",
     "output_type": "stream",
     "text": [
      "Plotting for 9926 \n"
     ]
    },
    {
     "name": "stderr",
     "output_type": "stream",
     "text": [
      "Warning message:\n",
      "In dir.create(file.path(PLOTS_PATH, uid), recursive = TRUE): '/Users/adrianalbert/S3L_server/plots/pecan-street-2/9926' already exists"
     ]
    },
    {
     "name": "stdout",
     "output_type": "stream",
     "text": [
      "Plotting for 9929 \n"
     ]
    },
    {
     "name": "stderr",
     "output_type": "stream",
     "text": [
      "Warning message:\n",
      "In dir.create(file.path(PLOTS_PATH, uid), recursive = TRUE): '/Users/adrianalbert/S3L_server/plots/pecan-street-2/9929' already exists"
     ]
    },
    {
     "name": "stdout",
     "output_type": "stream",
     "text": [
      "Plotting for 9932 \n"
     ]
    },
    {
     "name": "stderr",
     "output_type": "stream",
     "text": [
      "Warning message:\n",
      "In dir.create(file.path(PLOTS_PATH, uid), recursive = TRUE): '/Users/adrianalbert/S3L_server/plots/pecan-street-2/9932' already exists"
     ]
    },
    {
     "name": "stdout",
     "output_type": "stream",
     "text": [
      "Plotting for 9933 \n"
     ]
    },
    {
     "name": "stderr",
     "output_type": "stream",
     "text": [
      "Warning message:\n",
      "In dir.create(file.path(PLOTS_PATH, uid), recursive = TRUE): '/Users/adrianalbert/S3L_server/plots/pecan-street-2/9933' already exists"
     ]
    },
    {
     "name": "stdout",
     "output_type": "stream",
     "text": [
      "Plotting for 9934 \n"
     ]
    },
    {
     "name": "stderr",
     "output_type": "stream",
     "text": [
      "Warning message:\n",
      "In dir.create(file.path(PLOTS_PATH, uid), recursive = TRUE): '/Users/adrianalbert/S3L_server/plots/pecan-street-2/9934' already exists"
     ]
    },
    {
     "name": "stdout",
     "output_type": "stream",
     "text": [
      "Plotting for 9936 \n"
     ]
    },
    {
     "name": "stderr",
     "output_type": "stream",
     "text": [
      "Warning message:\n",
      "In dir.create(file.path(PLOTS_PATH, uid), recursive = TRUE): '/Users/adrianalbert/S3L_server/plots/pecan-street-2/9936' already existsWarning message:\n",
      "In max(homeData$total, na.rm = T): no non-missing arguments to max; returning -InfWarning message:\n",
      "In max(homeData$total, na.rm = T): no non-missing arguments to max; returning -InfWarning message:\n",
      "In max(homeData$total, na.rm = T): no non-missing arguments to max; returning -Inf"
     ]
    },
    {
     "name": "stdout",
     "output_type": "stream",
     "text": [
      "Plotting for 9937 \n"
     ]
    },
    {
     "name": "stderr",
     "output_type": "stream",
     "text": [
      "Warning message:\n",
      "In dir.create(file.path(PLOTS_PATH, uid), recursive = TRUE): '/Users/adrianalbert/S3L_server/plots/pecan-street-2/9937' already exists"
     ]
    },
    {
     "name": "stdout",
     "output_type": "stream",
     "text": [
      "Plotting for 9939 \n"
     ]
    },
    {
     "name": "stderr",
     "output_type": "stream",
     "text": [
      "Warning message:\n",
      "In dir.create(file.path(PLOTS_PATH, uid), recursive = TRUE): '/Users/adrianalbert/S3L_server/plots/pecan-street-2/9939' already exists"
     ]
    },
    {
     "name": "stdout",
     "output_type": "stream",
     "text": [
      "Plotting for 9942 \n"
     ]
    },
    {
     "name": "stderr",
     "output_type": "stream",
     "text": [
      "Warning message:\n",
      "In dir.create(file.path(PLOTS_PATH, uid), recursive = TRUE): '/Users/adrianalbert/S3L_server/plots/pecan-street-2/9942' already exists"
     ]
    },
    {
     "name": "stdout",
     "output_type": "stream",
     "text": [
      "Plotting for 9971 \n"
     ]
    },
    {
     "name": "stderr",
     "output_type": "stream",
     "text": [
      "Warning message:\n",
      "In dir.create(file.path(PLOTS_PATH, uid), recursive = TRUE): '/Users/adrianalbert/S3L_server/plots/pecan-street-2/9971' already exists"
     ]
    },
    {
     "name": "stdout",
     "output_type": "stream",
     "text": [
      "No HVAC data for user 9982 !\n",
      "Plotting for 1069 \n"
     ]
    },
    {
     "name": "stderr",
     "output_type": "stream",
     "text": [
      "Warning message:\n",
      "In dir.create(file.path(PLOTS_PATH, uid), recursive = TRUE): '/Users/adrianalbert/S3L_server/plots/pecan-street-2/1069' already exists"
     ]
    },
    {
     "name": "stdout",
     "output_type": "stream",
     "text": [
      "Plotting for 1086 \n"
     ]
    },
    {
     "name": "stderr",
     "output_type": "stream",
     "text": [
      "Warning message:\n",
      "In dir.create(file.path(PLOTS_PATH, uid), recursive = TRUE): '/Users/adrianalbert/S3L_server/plots/pecan-street-2/1086' already exists"
     ]
    },
    {
     "name": "stdout",
     "output_type": "stream",
     "text": [
      "Plotting for 1105 \n"
     ]
    },
    {
     "name": "stderr",
     "output_type": "stream",
     "text": [
      "Warning message:\n",
      "In dir.create(file.path(PLOTS_PATH, uid), recursive = TRUE): '/Users/adrianalbert/S3L_server/plots/pecan-street-2/1105' already exists"
     ]
    },
    {
     "name": "stdout",
     "output_type": "stream",
     "text": [
      "Plotting for 1167 \n"
     ]
    },
    {
     "name": "stderr",
     "output_type": "stream",
     "text": [
      "Warning message:\n",
      "In dir.create(file.path(PLOTS_PATH, uid), recursive = TRUE): '/Users/adrianalbert/S3L_server/plots/pecan-street-2/1167' already exists"
     ]
    },
    {
     "name": "stdout",
     "output_type": "stream",
     "text": [
      "Plotting for 1331 \n"
     ]
    },
    {
     "name": "stderr",
     "output_type": "stream",
     "text": [
      "Warning message:\n",
      "In dir.create(file.path(PLOTS_PATH, uid), recursive = TRUE): '/Users/adrianalbert/S3L_server/plots/pecan-street-2/1331' already exists"
     ]
    },
    {
     "name": "stdout",
     "output_type": "stream",
     "text": [
      "Plotting for 135 \n"
     ]
    },
    {
     "name": "stderr",
     "output_type": "stream",
     "text": [
      "Warning message:\n",
      "In dir.create(file.path(PLOTS_PATH, uid), recursive = TRUE): '/Users/adrianalbert/S3L_server/plots/pecan-street-2/135' already exists"
     ]
    },
    {
     "name": "stdout",
     "output_type": "stream",
     "text": [
      "Plotting for 1392 \n"
     ]
    },
    {
     "name": "stderr",
     "output_type": "stream",
     "text": [
      "Warning message:\n",
      "In dir.create(file.path(PLOTS_PATH, uid), recursive = TRUE): '/Users/adrianalbert/S3L_server/plots/pecan-street-2/1392' already exists"
     ]
    },
    {
     "name": "stdout",
     "output_type": "stream",
     "text": [
      "Plotting for 1450 \n"
     ]
    },
    {
     "name": "stderr",
     "output_type": "stream",
     "text": [
      "Warning message:\n",
      "In dir.create(file.path(PLOTS_PATH, uid), recursive = TRUE): '/Users/adrianalbert/S3L_server/plots/pecan-street-2/1450' already exists"
     ]
    },
    {
     "name": "stdout",
     "output_type": "stream",
     "text": [
      "Plotting for 1479 \n"
     ]
    },
    {
     "name": "stderr",
     "output_type": "stream",
     "text": [
      "Warning message:\n",
      "In dir.create(file.path(PLOTS_PATH, uid), recursive = TRUE): '/Users/adrianalbert/S3L_server/plots/pecan-street-2/1479' already exists"
     ]
    },
    {
     "name": "stdout",
     "output_type": "stream",
     "text": [
      "Plotting for 1500 \n"
     ]
    },
    {
     "name": "stderr",
     "output_type": "stream",
     "text": [
      "Warning message:\n",
      "In dir.create(file.path(PLOTS_PATH, uid), recursive = TRUE): '/Users/adrianalbert/S3L_server/plots/pecan-street-2/1500' already exists"
     ]
    },
    {
     "name": "stdout",
     "output_type": "stream",
     "text": [
      "Plotting for 1507 \n"
     ]
    },
    {
     "name": "stderr",
     "output_type": "stream",
     "text": [
      "Warning message:\n",
      "In dir.create(file.path(PLOTS_PATH, uid), recursive = TRUE): '/Users/adrianalbert/S3L_server/plots/pecan-street-2/1507' already exists"
     ]
    },
    {
     "name": "stdout",
     "output_type": "stream",
     "text": [
      "Plotting for 1577 \n"
     ]
    },
    {
     "name": "stderr",
     "output_type": "stream",
     "text": [
      "Warning message:\n",
      "In dir.create(file.path(PLOTS_PATH, uid), recursive = TRUE): '/Users/adrianalbert/S3L_server/plots/pecan-street-2/1577' already exists"
     ]
    },
    {
     "name": "stdout",
     "output_type": "stream",
     "text": [
      "Plotting for 160 \n"
     ]
    },
    {
     "name": "stderr",
     "output_type": "stream",
     "text": [
      "Warning message:\n",
      "In dir.create(file.path(PLOTS_PATH, uid), recursive = TRUE): '/Users/adrianalbert/S3L_server/plots/pecan-street-2/160' already exists"
     ]
    },
    {
     "name": "stdout",
     "output_type": "stream",
     "text": [
      "Plotting for 1617 \n"
     ]
    },
    {
     "name": "stderr",
     "output_type": "stream",
     "text": [
      "Warning message:\n",
      "In dir.create(file.path(PLOTS_PATH, uid), recursive = TRUE): '/Users/adrianalbert/S3L_server/plots/pecan-street-2/1617' already exists"
     ]
    },
    {
     "name": "stdout",
     "output_type": "stream",
     "text": [
      "Plotting for 1629 \n"
     ]
    },
    {
     "name": "stderr",
     "output_type": "stream",
     "text": [
      "Warning message:\n",
      "In dir.create(file.path(PLOTS_PATH, uid), recursive = TRUE): '/Users/adrianalbert/S3L_server/plots/pecan-street-2/1629' already exists"
     ]
    },
    {
     "name": "stdout",
     "output_type": "stream",
     "text": [
      "Plotting for 1632 \n"
     ]
    },
    {
     "name": "stderr",
     "output_type": "stream",
     "text": [
      "Warning message:\n",
      "In dir.create(file.path(PLOTS_PATH, uid), recursive = TRUE): '/Users/adrianalbert/S3L_server/plots/pecan-street-2/1632' already exists"
     ]
    },
    {
     "name": "stdout",
     "output_type": "stream",
     "text": [
      "Plotting for 1681 \n"
     ]
    },
    {
     "name": "stderr",
     "output_type": "stream",
     "text": [
      "Warning message:\n",
      "In dir.create(file.path(PLOTS_PATH, uid), recursive = TRUE): '/Users/adrianalbert/S3L_server/plots/pecan-street-2/1681' already exists"
     ]
    },
    {
     "name": "stdout",
     "output_type": "stream",
     "text": [
      "Plotting for 1696 \n"
     ]
    },
    {
     "name": "stderr",
     "output_type": "stream",
     "text": [
      "Warning message:\n",
      "In dir.create(file.path(PLOTS_PATH, uid), recursive = TRUE): '/Users/adrianalbert/S3L_server/plots/pecan-street-2/1696' already exists"
     ]
    },
    {
     "name": "stdout",
     "output_type": "stream",
     "text": [
      "No HVAC data for user 1731 !\n",
      "Plotting for 1830 \n"
     ]
    },
    {
     "name": "stderr",
     "output_type": "stream",
     "text": [
      "Warning message:\n",
      "In dir.create(file.path(PLOTS_PATH, uid), recursive = TRUE): '/Users/adrianalbert/S3L_server/plots/pecan-street-2/1830' already exists"
     ]
    },
    {
     "name": "stdout",
     "output_type": "stream",
     "text": [
      "Plotting for 1854 \n"
     ]
    },
    {
     "name": "stderr",
     "output_type": "stream",
     "text": [
      "Warning message:\n",
      "In dir.create(file.path(PLOTS_PATH, uid), recursive = TRUE): '/Users/adrianalbert/S3L_server/plots/pecan-street-2/1854' already exists"
     ]
    },
    {
     "name": "stdout",
     "output_type": "stream",
     "text": [
      "Plotting for 1947 \n"
     ]
    },
    {
     "name": "stderr",
     "output_type": "stream",
     "text": [
      "Warning message:\n",
      "In dir.create(file.path(PLOTS_PATH, uid), recursive = TRUE): '/Users/adrianalbert/S3L_server/plots/pecan-street-2/1947' already exists"
     ]
    },
    {
     "name": "stdout",
     "output_type": "stream",
     "text": [
      "Plotting for 1994 \n"
     ]
    },
    {
     "name": "stderr",
     "output_type": "stream",
     "text": [
      "Warning message:\n",
      "In dir.create(file.path(PLOTS_PATH, uid), recursive = TRUE): '/Users/adrianalbert/S3L_server/plots/pecan-street-2/1994' already exists"
     ]
    },
    {
     "name": "stdout",
     "output_type": "stream",
     "text": [
      "Plotting for 2004 \n"
     ]
    },
    {
     "name": "stderr",
     "output_type": "stream",
     "text": [
      "Warning message:\n",
      "In dir.create(file.path(PLOTS_PATH, uid), recursive = TRUE): '/Users/adrianalbert/S3L_server/plots/pecan-street-2/2004' already exists"
     ]
    },
    {
     "name": "stdout",
     "output_type": "stream",
     "text": [
      "Plotting for 2018 \n"
     ]
    },
    {
     "name": "stderr",
     "output_type": "stream",
     "text": [
      "Warning message:\n",
      "In dir.create(file.path(PLOTS_PATH, uid), recursive = TRUE): '/Users/adrianalbert/S3L_server/plots/pecan-street-2/2018' already exists"
     ]
    },
    {
     "name": "stdout",
     "output_type": "stream",
     "text": [
      "Plotting for 2034 \n"
     ]
    },
    {
     "name": "stderr",
     "output_type": "stream",
     "text": [
      "Warning message:\n",
      "In dir.create(file.path(PLOTS_PATH, uid), recursive = TRUE): '/Users/adrianalbert/S3L_server/plots/pecan-street-2/2034' already exists"
     ]
    },
    {
     "name": "stdout",
     "output_type": "stream",
     "text": [
      "Plotting for 22 \n"
     ]
    },
    {
     "name": "stderr",
     "output_type": "stream",
     "text": [
      "Warning message:\n",
      "In dir.create(file.path(PLOTS_PATH, uid), recursive = TRUE): '/Users/adrianalbert/S3L_server/plots/pecan-street-2/22' already exists"
     ]
    },
    {
     "name": "stdout",
     "output_type": "stream",
     "text": [
      "Plotting for 2247 \n"
     ]
    },
    {
     "name": "stderr",
     "output_type": "stream",
     "text": [
      "Warning message:\n",
      "In dir.create(file.path(PLOTS_PATH, uid), recursive = TRUE): '/Users/adrianalbert/S3L_server/plots/pecan-street-2/2247' already exists"
     ]
    },
    {
     "name": "stdout",
     "output_type": "stream",
     "text": [
      "Plotting for 2360 \n"
     ]
    },
    {
     "name": "stderr",
     "output_type": "stream",
     "text": [
      "Warning message:\n",
      "In dir.create(file.path(PLOTS_PATH, uid), recursive = TRUE): '/Users/adrianalbert/S3L_server/plots/pecan-street-2/2360' already exists"
     ]
    },
    {
     "name": "stdout",
     "output_type": "stream",
     "text": [
      "Plotting for 2365 \n"
     ]
    },
    {
     "name": "stderr",
     "output_type": "stream",
     "text": [
      "Warning message:\n",
      "In dir.create(file.path(PLOTS_PATH, uid), recursive = TRUE): '/Users/adrianalbert/S3L_server/plots/pecan-street-2/2365' already exists"
     ]
    },
    {
     "name": "stdout",
     "output_type": "stream",
     "text": [
      "Plotting for 2378 \n"
     ]
    },
    {
     "name": "stderr",
     "output_type": "stream",
     "text": [
      "Warning message:\n",
      "In dir.create(file.path(PLOTS_PATH, uid), recursive = TRUE): '/Users/adrianalbert/S3L_server/plots/pecan-street-2/2378' already exists"
     ]
    },
    {
     "name": "stdout",
     "output_type": "stream",
     "text": [
      "No HVAC data for user 243 !\n",
      "Plotting for 2606 \n"
     ]
    },
    {
     "name": "stderr",
     "output_type": "stream",
     "text": [
      "Warning message:\n",
      "In dir.create(file.path(PLOTS_PATH, uid), recursive = TRUE): '/Users/adrianalbert/S3L_server/plots/pecan-street-2/2606' already exists"
     ]
    },
    {
     "name": "stdout",
     "output_type": "stream",
     "text": [
      "Plotting for 2641 \n"
     ]
    },
    {
     "name": "stderr",
     "output_type": "stream",
     "text": [
      "Warning message:\n",
      "In dir.create(file.path(PLOTS_PATH, uid), recursive = TRUE): '/Users/adrianalbert/S3L_server/plots/pecan-street-2/2641' already exists"
     ]
    },
    {
     "name": "stdout",
     "output_type": "stream",
     "text": [
      "No HVAC data for user 2742 !\n",
      "Plotting for 275 \n"
     ]
    },
    {
     "name": "stderr",
     "output_type": "stream",
     "text": [
      "Warning message:\n",
      "In dir.create(file.path(PLOTS_PATH, uid), recursive = TRUE): '/Users/adrianalbert/S3L_server/plots/pecan-street-2/275' already exists"
     ]
    },
    {
     "name": "stdout",
     "output_type": "stream",
     "text": [
      "Plotting for 2769 \n"
     ]
    },
    {
     "name": "stderr",
     "output_type": "stream",
     "text": [
      "Warning message:\n",
      "In dir.create(file.path(PLOTS_PATH, uid), recursive = TRUE): '/Users/adrianalbert/S3L_server/plots/pecan-street-2/2769' already exists"
     ]
    },
    {
     "name": "stdout",
     "output_type": "stream",
     "text": [
      "Plotting for 2787 \n"
     ]
    },
    {
     "name": "stderr",
     "output_type": "stream",
     "text": [
      "Warning message:\n",
      "In dir.create(file.path(PLOTS_PATH, uid), recursive = TRUE): '/Users/adrianalbert/S3L_server/plots/pecan-street-2/2787' already exists"
     ]
    },
    {
     "name": "stdout",
     "output_type": "stream",
     "text": [
      "Plotting for 280 \n"
     ]
    },
    {
     "name": "stderr",
     "output_type": "stream",
     "text": [
      "Warning message:\n",
      "In dir.create(file.path(PLOTS_PATH, uid), recursive = TRUE): '/Users/adrianalbert/S3L_server/plots/pecan-street-2/280' already exists"
     ]
    },
    {
     "name": "stdout",
     "output_type": "stream",
     "text": [
      "Plotting for 2845 \n"
     ]
    },
    {
     "name": "stderr",
     "output_type": "stream",
     "text": [
      "Warning message:\n",
      "In dir.create(file.path(PLOTS_PATH, uid), recursive = TRUE): '/Users/adrianalbert/S3L_server/plots/pecan-street-2/2845' already exists"
     ]
    },
    {
     "name": "stdout",
     "output_type": "stream",
     "text": [
      "Plotting for 2953 \n"
     ]
    },
    {
     "name": "stderr",
     "output_type": "stream",
     "text": [
      "Warning message:\n",
      "In dir.create(file.path(PLOTS_PATH, uid), recursive = TRUE): '/Users/adrianalbert/S3L_server/plots/pecan-street-2/2953' already exists"
     ]
    },
    {
     "name": "stdout",
     "output_type": "stream",
     "text": [
      "Plotting for 297 \n"
     ]
    },
    {
     "name": "stderr",
     "output_type": "stream",
     "text": [
      "Warning message:\n",
      "In dir.create(file.path(PLOTS_PATH, uid), recursive = TRUE): '/Users/adrianalbert/S3L_server/plots/pecan-street-2/297' already exists"
     ]
    },
    {
     "name": "stdout",
     "output_type": "stream",
     "text": [
      "Plotting for 2995 \n"
     ]
    },
    {
     "name": "stderr",
     "output_type": "stream",
     "text": [
      "Warning message:\n",
      "In dir.create(file.path(PLOTS_PATH, uid), recursive = TRUE): '/Users/adrianalbert/S3L_server/plots/pecan-street-2/2995' already exists"
     ]
    },
    {
     "name": "stdout",
     "output_type": "stream",
     "text": [
      "Plotting for 3032 \n"
     ]
    },
    {
     "name": "stderr",
     "output_type": "stream",
     "text": [
      "Warning message:\n",
      "In dir.create(file.path(PLOTS_PATH, uid), recursive = TRUE): '/Users/adrianalbert/S3L_server/plots/pecan-street-2/3032' already exists"
     ]
    },
    {
     "name": "stdout",
     "output_type": "stream",
     "text": [
      "Plotting for 3044 \n"
     ]
    },
    {
     "name": "stderr",
     "output_type": "stream",
     "text": [
      "Warning message:\n",
      "In dir.create(file.path(PLOTS_PATH, uid), recursive = TRUE): '/Users/adrianalbert/S3L_server/plots/pecan-street-2/3044' already existsWarning message:\n",
      "In max(homeData$total, na.rm = T): no non-missing arguments to max; returning -InfWarning message:\n",
      "In max(homeData$total, na.rm = T): no non-missing arguments to max; returning -Inf"
     ]
    },
    {
     "name": "stdout",
     "output_type": "stream",
     "text": [
      "Plotting for 3087 \n"
     ]
    },
    {
     "name": "stderr",
     "output_type": "stream",
     "text": [
      "Warning message:\n",
      "In dir.create(file.path(PLOTS_PATH, uid), recursive = TRUE): '/Users/adrianalbert/S3L_server/plots/pecan-street-2/3087' already exists"
     ]
    },
    {
     "name": "stdout",
     "output_type": "stream",
     "text": [
      "Plotting for 3092 \n"
     ]
    },
    {
     "name": "stderr",
     "output_type": "stream",
     "text": [
      "Warning message:\n",
      "In dir.create(file.path(PLOTS_PATH, uid), recursive = TRUE): '/Users/adrianalbert/S3L_server/plots/pecan-street-2/3092' already exists"
     ]
    },
    {
     "name": "stdout",
     "output_type": "stream",
     "text": [
      "Plotting for 3221 \n"
     ]
    },
    {
     "name": "stderr",
     "output_type": "stream",
     "text": [
      "Warning message:\n",
      "In dir.create(file.path(PLOTS_PATH, uid), recursive = TRUE): '/Users/adrianalbert/S3L_server/plots/pecan-street-2/3221' already exists"
     ]
    },
    {
     "name": "stdout",
     "output_type": "stream",
     "text": [
      "Plotting for 3263 \n"
     ]
    },
    {
     "name": "stderr",
     "output_type": "stream",
     "text": [
      "Warning message:\n",
      "In dir.create(file.path(PLOTS_PATH, uid), recursive = TRUE): '/Users/adrianalbert/S3L_server/plots/pecan-street-2/3263' already exists"
     ]
    },
    {
     "name": "stdout",
     "output_type": "stream",
     "text": [
      "Plotting for 3273 \n"
     ]
    },
    {
     "name": "stderr",
     "output_type": "stream",
     "text": [
      "Warning message:\n",
      "In dir.create(file.path(PLOTS_PATH, uid), recursive = TRUE): '/Users/adrianalbert/S3L_server/plots/pecan-street-2/3273' already exists"
     ]
    },
    {
     "name": "stdout",
     "output_type": "stream",
     "text": [
      "No HVAC data for user 3368 !\n",
      "Plotting for 3392 \n"
     ]
    },
    {
     "name": "stderr",
     "output_type": "stream",
     "text": [
      "Warning message:\n",
      "In dir.create(file.path(PLOTS_PATH, uid), recursive = TRUE): '/Users/adrianalbert/S3L_server/plots/pecan-street-2/3392' already exists"
     ]
    },
    {
     "name": "stdout",
     "output_type": "stream",
     "text": [
      "Plotting for 3394 \n"
     ]
    },
    {
     "name": "stderr",
     "output_type": "stream",
     "text": [
      "Warning message:\n",
      "In dir.create(file.path(PLOTS_PATH, uid), recursive = TRUE): '/Users/adrianalbert/S3L_server/plots/pecan-street-2/3394' already exists"
     ]
    },
    {
     "name": "stdout",
     "output_type": "stream",
     "text": [
      "Plotting for 3411 \n"
     ]
    },
    {
     "name": "stderr",
     "output_type": "stream",
     "text": [
      "Warning message:\n",
      "In dir.create(file.path(PLOTS_PATH, uid), recursive = TRUE): '/Users/adrianalbert/S3L_server/plots/pecan-street-2/3411' already exists"
     ]
    },
    {
     "name": "stdout",
     "output_type": "stream",
     "text": [
      "Plotting for 3425 \n"
     ]
    },
    {
     "name": "stderr",
     "output_type": "stream",
     "text": [
      "Warning message:\n",
      "In dir.create(file.path(PLOTS_PATH, uid), recursive = TRUE): '/Users/adrianalbert/S3L_server/plots/pecan-street-2/3425' already exists"
     ]
    },
    {
     "name": "stdout",
     "output_type": "stream",
     "text": [
      "Plotting for 3443 \n"
     ]
    },
    {
     "name": "stderr",
     "output_type": "stream",
     "text": [
      "Warning message:\n",
      "In dir.create(file.path(PLOTS_PATH, uid), recursive = TRUE): '/Users/adrianalbert/S3L_server/plots/pecan-street-2/3443' already exists"
     ]
    },
    {
     "name": "stdout",
     "output_type": "stream",
     "text": [
      "Plotting for 347 \n"
     ]
    },
    {
     "name": "stderr",
     "output_type": "stream",
     "text": [
      "Warning message:\n",
      "In dir.create(file.path(PLOTS_PATH, uid), recursive = TRUE): '/Users/adrianalbert/S3L_server/plots/pecan-street-2/347' already exists"
     ]
    },
    {
     "name": "stdout",
     "output_type": "stream",
     "text": [
      "Plotting for 3484 \n"
     ]
    },
    {
     "name": "stderr",
     "output_type": "stream",
     "text": [
      "Warning message:\n",
      "In dir.create(file.path(PLOTS_PATH, uid), recursive = TRUE): '/Users/adrianalbert/S3L_server/plots/pecan-street-2/3484' already exists"
     ]
    },
    {
     "name": "stdout",
     "output_type": "stream",
     "text": [
      "Plotting for 3531 \n"
     ]
    },
    {
     "name": "stderr",
     "output_type": "stream",
     "text": [
      "Warning message:\n",
      "In dir.create(file.path(PLOTS_PATH, uid), recursive = TRUE): '/Users/adrianalbert/S3L_server/plots/pecan-street-2/3531' already exists"
     ]
    },
    {
     "name": "stdout",
     "output_type": "stream",
     "text": [
      "Plotting for 3615 \n"
     ]
    },
    {
     "name": "stderr",
     "output_type": "stream",
     "text": [
      "Warning message:\n",
      "In dir.create(file.path(PLOTS_PATH, uid), recursive = TRUE): '/Users/adrianalbert/S3L_server/plots/pecan-street-2/3615' already existsWarning message:\n",
      "In max(homeData$total, na.rm = T): no non-missing arguments to max; returning -Inf"
     ]
    },
    {
     "name": "stdout",
     "output_type": "stream",
     "text": [
      "Plotting for 3649 \n"
     ]
    },
    {
     "name": "stderr",
     "output_type": "stream",
     "text": [
      "Warning message:\n",
      "In dir.create(file.path(PLOTS_PATH, uid), recursive = TRUE): '/Users/adrianalbert/S3L_server/plots/pecan-street-2/3649' already exists"
     ]
    },
    {
     "name": "stdout",
     "output_type": "stream",
     "text": [
      "Plotting for 3652 \n"
     ]
    },
    {
     "name": "stderr",
     "output_type": "stream",
     "text": [
      "Warning message:\n",
      "In dir.create(file.path(PLOTS_PATH, uid), recursive = TRUE): '/Users/adrianalbert/S3L_server/plots/pecan-street-2/3652' already exists"
     ]
    },
    {
     "name": "stdout",
     "output_type": "stream",
     "text": [
      "Plotting for 3678 \n"
     ]
    },
    {
     "name": "stderr",
     "output_type": "stream",
     "text": [
      "Warning message:\n",
      "In dir.create(file.path(PLOTS_PATH, uid), recursive = TRUE): '/Users/adrianalbert/S3L_server/plots/pecan-street-2/3678' already exists"
     ]
    },
    {
     "name": "stdout",
     "output_type": "stream",
     "text": [
      "No HVAC data for user 3687 !\n",
      "Plotting for 3721 \n"
     ]
    },
    {
     "name": "stderr",
     "output_type": "stream",
     "text": [
      "Warning message:\n",
      "In dir.create(file.path(PLOTS_PATH, uid), recursive = TRUE): '/Users/adrianalbert/S3L_server/plots/pecan-street-2/3721' already exists"
     ]
    },
    {
     "name": "stdout",
     "output_type": "stream",
     "text": [
      "Plotting for 3736 \n"
     ]
    },
    {
     "name": "stderr",
     "output_type": "stream",
     "text": [
      "Warning message:\n",
      "In dir.create(file.path(PLOTS_PATH, uid), recursive = TRUE): '/Users/adrianalbert/S3L_server/plots/pecan-street-2/3736' already exists"
     ]
    },
    {
     "name": "stdout",
     "output_type": "stream",
     "text": [
      "Plotting for 3795 \n"
     ]
    },
    {
     "name": "stderr",
     "output_type": "stream",
     "text": [
      "Warning message:\n",
      "In dir.create(file.path(PLOTS_PATH, uid), recursive = TRUE): '/Users/adrianalbert/S3L_server/plots/pecan-street-2/3795' already exists"
     ]
    },
    {
     "name": "stdout",
     "output_type": "stream",
     "text": [
      "Plotting for 3829 \n"
     ]
    },
    {
     "name": "stderr",
     "output_type": "stream",
     "text": [
      "Warning message:\n",
      "In dir.create(file.path(PLOTS_PATH, uid), recursive = TRUE): '/Users/adrianalbert/S3L_server/plots/pecan-street-2/3829' already exists"
     ]
    },
    {
     "name": "stdout",
     "output_type": "stream",
     "text": [
      "Plotting for 3864 \n"
     ]
    },
    {
     "name": "stderr",
     "output_type": "stream",
     "text": [
      "Warning message:\n",
      "In dir.create(file.path(PLOTS_PATH, uid), recursive = TRUE): '/Users/adrianalbert/S3L_server/plots/pecan-street-2/3864' already exists"
     ]
    },
    {
     "name": "stdout",
     "output_type": "stream",
     "text": [
      "Plotting for 3873 \n"
     ]
    },
    {
     "name": "stderr",
     "output_type": "stream",
     "text": [
      "Warning message:\n",
      "In dir.create(file.path(PLOTS_PATH, uid), recursive = TRUE): '/Users/adrianalbert/S3L_server/plots/pecan-street-2/3873' already exists"
     ]
    },
    {
     "name": "stdout",
     "output_type": "stream",
     "text": [
      "Plotting for 3883 \n"
     ]
    },
    {
     "name": "stderr",
     "output_type": "stream",
     "text": [
      "Warning message:\n",
      "In dir.create(file.path(PLOTS_PATH, uid), recursive = TRUE): '/Users/adrianalbert/S3L_server/plots/pecan-street-2/3883' already exists"
     ]
    },
    {
     "name": "stdout",
     "output_type": "stream",
     "text": [
      "Plotting for 3893 \n"
     ]
    },
    {
     "name": "stderr",
     "output_type": "stream",
     "text": [
      "Warning message:\n",
      "In dir.create(file.path(PLOTS_PATH, uid), recursive = TRUE): '/Users/adrianalbert/S3L_server/plots/pecan-street-2/3893' already exists"
     ]
    },
    {
     "name": "stdout",
     "output_type": "stream",
     "text": [
      "Plotting for 3916 \n"
     ]
    },
    {
     "name": "stderr",
     "output_type": "stream",
     "text": [
      "Warning message:\n",
      "In dir.create(file.path(PLOTS_PATH, uid), recursive = TRUE): '/Users/adrianalbert/S3L_server/plots/pecan-street-2/3916' already exists"
     ]
    },
    {
     "name": "stdout",
     "output_type": "stream",
     "text": [
      "Plotting for 3938 \n"
     ]
    },
    {
     "name": "stderr",
     "output_type": "stream",
     "text": [
      "Warning message:\n",
      "In dir.create(file.path(PLOTS_PATH, uid), recursive = TRUE): '/Users/adrianalbert/S3L_server/plots/pecan-street-2/3938' already exists"
     ]
    },
    {
     "name": "stdout",
     "output_type": "stream",
     "text": [
      "Plotting for 3973 \n"
     ]
    },
    {
     "name": "stderr",
     "output_type": "stream",
     "text": [
      "Warning message:\n",
      "In dir.create(file.path(PLOTS_PATH, uid), recursive = TRUE): '/Users/adrianalbert/S3L_server/plots/pecan-street-2/3973' already exists"
     ]
    },
    {
     "name": "stdout",
     "output_type": "stream",
     "text": [
      "Plotting for 4220 \n"
     ]
    },
    {
     "name": "stderr",
     "output_type": "stream",
     "text": [
      "Warning message:\n",
      "In dir.create(file.path(PLOTS_PATH, uid), recursive = TRUE): '/Users/adrianalbert/S3L_server/plots/pecan-street-2/4220' already exists"
     ]
    },
    {
     "name": "stdout",
     "output_type": "stream",
     "text": [
      "Plotting for 4296 \n"
     ]
    },
    {
     "name": "stderr",
     "output_type": "stream",
     "text": [
      "Warning message:\n",
      "In dir.create(file.path(PLOTS_PATH, uid), recursive = TRUE): '/Users/adrianalbert/S3L_server/plots/pecan-street-2/4296' already exists"
     ]
    },
    {
     "name": "stdout",
     "output_type": "stream",
     "text": [
      "Plotting for 4298 \n"
     ]
    },
    {
     "name": "stderr",
     "output_type": "stream",
     "text": [
      "Warning message:\n",
      "In dir.create(file.path(PLOTS_PATH, uid), recursive = TRUE): '/Users/adrianalbert/S3L_server/plots/pecan-street-2/4298' already exists"
     ]
    },
    {
     "name": "stdout",
     "output_type": "stream",
     "text": [
      "Plotting for 4313 \n"
     ]
    },
    {
     "name": "stderr",
     "output_type": "stream",
     "text": [
      "Warning message:\n",
      "In dir.create(file.path(PLOTS_PATH, uid), recursive = TRUE): '/Users/adrianalbert/S3L_server/plots/pecan-street-2/4313' already exists"
     ]
    },
    {
     "name": "stdout",
     "output_type": "stream",
     "text": [
      "Plotting for 4321 \n"
     ]
    },
    {
     "name": "stderr",
     "output_type": "stream",
     "text": [
      "Warning message:\n",
      "In dir.create(file.path(PLOTS_PATH, uid), recursive = TRUE): '/Users/adrianalbert/S3L_server/plots/pecan-street-2/4321' already exists"
     ]
    },
    {
     "name": "stdout",
     "output_type": "stream",
     "text": [
      "Plotting for 4329 \n"
     ]
    },
    {
     "name": "stderr",
     "output_type": "stream",
     "text": [
      "Warning message:\n",
      "In dir.create(file.path(PLOTS_PATH, uid), recursive = TRUE): '/Users/adrianalbert/S3L_server/plots/pecan-street-2/4329' already exists"
     ]
    },
    {
     "name": "stdout",
     "output_type": "stream",
     "text": [
      "Plotting for 434 \n"
     ]
    },
    {
     "name": "stderr",
     "output_type": "stream",
     "text": [
      "Warning message:\n",
      "In dir.create(file.path(PLOTS_PATH, uid), recursive = TRUE): '/Users/adrianalbert/S3L_server/plots/pecan-street-2/434' already exists"
     ]
    },
    {
     "name": "stdout",
     "output_type": "stream",
     "text": [
      "Plotting for 4342 \n"
     ]
    },
    {
     "name": "stderr",
     "output_type": "stream",
     "text": [
      "Warning message:\n",
      "In dir.create(file.path(PLOTS_PATH, uid), recursive = TRUE): '/Users/adrianalbert/S3L_server/plots/pecan-street-2/4342' already exists"
     ]
    },
    {
     "name": "stdout",
     "output_type": "stream",
     "text": [
      "Plotting for 4383 \n"
     ]
    },
    {
     "name": "stderr",
     "output_type": "stream",
     "text": [
      "Warning message:\n",
      "In dir.create(file.path(PLOTS_PATH, uid), recursive = TRUE): '/Users/adrianalbert/S3L_server/plots/pecan-street-2/4383' already exists"
     ]
    },
    {
     "name": "stdout",
     "output_type": "stream",
     "text": [
      "Plotting for 4416 \n"
     ]
    },
    {
     "name": "stderr",
     "output_type": "stream",
     "text": [
      "Warning message:\n",
      "In dir.create(file.path(PLOTS_PATH, uid), recursive = TRUE): '/Users/adrianalbert/S3L_server/plots/pecan-street-2/4416' already exists"
     ]
    },
    {
     "name": "stdout",
     "output_type": "stream",
     "text": [
      "No HVAC data for user 4438 !\n",
      "Plotting for 4495 \n"
     ]
    },
    {
     "name": "stderr",
     "output_type": "stream",
     "text": [
      "Warning message:\n",
      "In dir.create(file.path(PLOTS_PATH, uid), recursive = TRUE): '/Users/adrianalbert/S3L_server/plots/pecan-street-2/4495' already exists"
     ]
    },
    {
     "name": "stdout",
     "output_type": "stream",
     "text": [
      "Plotting for 4505 \n"
     ]
    },
    {
     "name": "stderr",
     "output_type": "stream",
     "text": [
      "Warning message:\n",
      "In dir.create(file.path(PLOTS_PATH, uid), recursive = TRUE): '/Users/adrianalbert/S3L_server/plots/pecan-street-2/4505' already exists"
     ]
    },
    {
     "name": "stdout",
     "output_type": "stream",
     "text": [
      "Plotting for 4514 \n"
     ]
    },
    {
     "name": "stderr",
     "output_type": "stream",
     "text": [
      "Warning message:\n",
      "In dir.create(file.path(PLOTS_PATH, uid), recursive = TRUE): '/Users/adrianalbert/S3L_server/plots/pecan-street-2/4514' already exists"
     ]
    },
    {
     "name": "stdout",
     "output_type": "stream",
     "text": [
      "Plotting for 4544 \n"
     ]
    },
    {
     "name": "stderr",
     "output_type": "stream",
     "text": [
      "Warning message:\n",
      "In dir.create(file.path(PLOTS_PATH, uid), recursive = TRUE): '/Users/adrianalbert/S3L_server/plots/pecan-street-2/4544' already exists"
     ]
    },
    {
     "name": "stdout",
     "output_type": "stream",
     "text": [
      "Plotting for 457 \n"
     ]
    },
    {
     "name": "stderr",
     "output_type": "stream",
     "text": [
      "Warning message:\n",
      "In dir.create(file.path(PLOTS_PATH, uid), recursive = TRUE): '/Users/adrianalbert/S3L_server/plots/pecan-street-2/457' already exists"
     ]
    },
    {
     "name": "stdout",
     "output_type": "stream",
     "text": [
      "Plotting for 4660 \n"
     ]
    },
    {
     "name": "stderr",
     "output_type": "stream",
     "text": [
      "Warning message:\n",
      "In dir.create(file.path(PLOTS_PATH, uid), recursive = TRUE): '/Users/adrianalbert/S3L_server/plots/pecan-street-2/4660' already exists"
     ]
    },
    {
     "name": "stdout",
     "output_type": "stream",
     "text": [
      "Plotting for 4670 \n"
     ]
    },
    {
     "name": "stderr",
     "output_type": "stream",
     "text": [
      "Warning message:\n",
      "In dir.create(file.path(PLOTS_PATH, uid), recursive = TRUE): '/Users/adrianalbert/S3L_server/plots/pecan-street-2/4670' already existsWarning message:\n",
      "In max(homeData$total, na.rm = T): no non-missing arguments to max; returning -Inf"
     ]
    },
    {
     "name": "stdout",
     "output_type": "stream",
     "text": [
      "Plotting for 4773 \n"
     ]
    },
    {
     "name": "stderr",
     "output_type": "stream",
     "text": [
      "Warning message:\n",
      "In dir.create(file.path(PLOTS_PATH, uid), recursive = TRUE): '/Users/adrianalbert/S3L_server/plots/pecan-street-2/4773' already exists"
     ]
    },
    {
     "name": "stdout",
     "output_type": "stream",
     "text": [
      "Plotting for 4776 \n"
     ]
    },
    {
     "name": "stderr",
     "output_type": "stream",
     "text": [
      "Warning message:\n",
      "In dir.create(file.path(PLOTS_PATH, uid), recursive = TRUE): '/Users/adrianalbert/S3L_server/plots/pecan-street-2/4776' already exists"
     ]
    },
    {
     "name": "stdout",
     "output_type": "stream",
     "text": [
      "Plotting for 48 \n"
     ]
    },
    {
     "name": "stderr",
     "output_type": "stream",
     "text": [
      "Warning message:\n",
      "In dir.create(file.path(PLOTS_PATH, uid), recursive = TRUE): '/Users/adrianalbert/S3L_server/plots/pecan-street-2/48' already exists"
     ]
    },
    {
     "name": "stdout",
     "output_type": "stream",
     "text": [
      "Plotting for 4800 \n"
     ]
    },
    {
     "name": "stderr",
     "output_type": "stream",
     "text": [
      "Warning message:\n",
      "In dir.create(file.path(PLOTS_PATH, uid), recursive = TRUE): '/Users/adrianalbert/S3L_server/plots/pecan-street-2/4800' already exists"
     ]
    },
    {
     "name": "stdout",
     "output_type": "stream",
     "text": [
      "Plotting for 4856 \n"
     ]
    },
    {
     "name": "stderr",
     "output_type": "stream",
     "text": [
      "Warning message:\n",
      "In dir.create(file.path(PLOTS_PATH, uid), recursive = TRUE): '/Users/adrianalbert/S3L_server/plots/pecan-street-2/4856' already exists"
     ]
    },
    {
     "name": "stdout",
     "output_type": "stream",
     "text": [
      "Plotting for 4864 \n"
     ]
    },
    {
     "name": "stderr",
     "output_type": "stream",
     "text": [
      "Warning message:\n",
      "In dir.create(file.path(PLOTS_PATH, uid), recursive = TRUE): '/Users/adrianalbert/S3L_server/plots/pecan-street-2/4864' already existsWarning message:\n",
      "In max(homeData$total, na.rm = T): no non-missing arguments to max; returning -InfWarning message:\n",
      "In max(homeData$total, na.rm = T): no non-missing arguments to max; returning -Inf"
     ]
    },
    {
     "name": "stdout",
     "output_type": "stream",
     "text": [
      "Plotting for 4874 \n"
     ]
    },
    {
     "name": "stderr",
     "output_type": "stream",
     "text": [
      "Warning message:\n",
      "In dir.create(file.path(PLOTS_PATH, uid), recursive = TRUE): '/Users/adrianalbert/S3L_server/plots/pecan-street-2/4874' already exists"
     ]
    },
    {
     "name": "stdout",
     "output_type": "stream",
     "text": [
      "Plotting for 490 \n"
     ]
    },
    {
     "name": "stderr",
     "output_type": "stream",
     "text": [
      "Warning message:\n",
      "In dir.create(file.path(PLOTS_PATH, uid), recursive = TRUE): '/Users/adrianalbert/S3L_server/plots/pecan-street-2/490' already exists"
     ]
    },
    {
     "name": "stdout",
     "output_type": "stream",
     "text": [
      "Plotting for 4922 \n"
     ]
    },
    {
     "name": "stderr",
     "output_type": "stream",
     "text": [
      "Warning message:\n",
      "In dir.create(file.path(PLOTS_PATH, uid), recursive = TRUE): '/Users/adrianalbert/S3L_server/plots/pecan-street-2/4922' already exists"
     ]
    },
    {
     "name": "stdout",
     "output_type": "stream",
     "text": [
      "Plotting for 4946 \n"
     ]
    },
    {
     "name": "stderr",
     "output_type": "stream",
     "text": [
      "Warning message:\n",
      "In dir.create(file.path(PLOTS_PATH, uid), recursive = TRUE): '/Users/adrianalbert/S3L_server/plots/pecan-street-2/4946' already exists"
     ]
    },
    {
     "name": "stdout",
     "output_type": "stream",
     "text": [
      "Plotting for 4956 \n"
     ]
    },
    {
     "name": "stderr",
     "output_type": "stream",
     "text": [
      "Warning message:\n",
      "In dir.create(file.path(PLOTS_PATH, uid), recursive = TRUE): '/Users/adrianalbert/S3L_server/plots/pecan-street-2/4956' already exists"
     ]
    },
    {
     "name": "stdout",
     "output_type": "stream",
     "text": [
      "Plotting for 4967 \n"
     ]
    },
    {
     "name": "stderr",
     "output_type": "stream",
     "text": [
      "Warning message:\n",
      "In dir.create(file.path(PLOTS_PATH, uid), recursive = TRUE): '/Users/adrianalbert/S3L_server/plots/pecan-street-2/4967' already exists"
     ]
    },
    {
     "name": "stdout",
     "output_type": "stream",
     "text": [
      "Plotting for 499 \n"
     ]
    },
    {
     "name": "stderr",
     "output_type": "stream",
     "text": [
      "Warning message:\n",
      "In dir.create(file.path(PLOTS_PATH, uid), recursive = TRUE): '/Users/adrianalbert/S3L_server/plots/pecan-street-2/499' already exists"
     ]
    },
    {
     "name": "stdout",
     "output_type": "stream",
     "text": [
      "Plotting for 5026 \n"
     ]
    },
    {
     "name": "stderr",
     "output_type": "stream",
     "text": [
      "Warning message:\n",
      "In dir.create(file.path(PLOTS_PATH, uid), recursive = TRUE): '/Users/adrianalbert/S3L_server/plots/pecan-street-2/5026' already exists"
     ]
    },
    {
     "name": "stdout",
     "output_type": "stream",
     "text": [
      "Plotting for 5060 \n"
     ]
    },
    {
     "name": "stderr",
     "output_type": "stream",
     "text": [
      "Warning message:\n",
      "In dir.create(file.path(PLOTS_PATH, uid), recursive = TRUE): '/Users/adrianalbert/S3L_server/plots/pecan-street-2/5060' already exists"
     ]
    },
    {
     "name": "stdout",
     "output_type": "stream",
     "text": [
      "Plotting for 508 \n"
     ]
    },
    {
     "name": "stderr",
     "output_type": "stream",
     "text": [
      "Warning message:\n",
      "In dir.create(file.path(PLOTS_PATH, uid), recursive = TRUE): '/Users/adrianalbert/S3L_server/plots/pecan-street-2/508' already exists"
     ]
    },
    {
     "name": "stdout",
     "output_type": "stream",
     "text": [
      "Plotting for 5109 \n"
     ]
    },
    {
     "name": "stderr",
     "output_type": "stream",
     "text": [
      "Warning message:\n",
      "In dir.create(file.path(PLOTS_PATH, uid), recursive = TRUE): '/Users/adrianalbert/S3L_server/plots/pecan-street-2/5109' already exists"
     ]
    },
    {
     "name": "stdout",
     "output_type": "stream",
     "text": [
      "Plotting for 5209 \n"
     ]
    },
    {
     "name": "stderr",
     "output_type": "stream",
     "text": [
      "Warning message:\n",
      "In dir.create(file.path(PLOTS_PATH, uid), recursive = TRUE): '/Users/adrianalbert/S3L_server/plots/pecan-street-2/5209' already exists"
     ]
    },
    {
     "name": "stdout",
     "output_type": "stream",
     "text": [
      "No HVAC data for user 5262 !\n",
      "Plotting for 5356 \n"
     ]
    },
    {
     "name": "stderr",
     "output_type": "stream",
     "text": [
      "Warning message:\n",
      "In dir.create(file.path(PLOTS_PATH, uid), recursive = TRUE): '/Users/adrianalbert/S3L_server/plots/pecan-street-2/5356' already exists"
     ]
    },
    {
     "name": "stdout",
     "output_type": "stream",
     "text": [
      "Plotting for 5448 \n"
     ]
    },
    {
     "name": "stderr",
     "output_type": "stream",
     "text": [
      "Warning message:\n",
      "In dir.create(file.path(PLOTS_PATH, uid), recursive = TRUE): '/Users/adrianalbert/S3L_server/plots/pecan-street-2/5448' already exists"
     ]
    },
    {
     "name": "stdout",
     "output_type": "stream",
     "text": [
      "Plotting for 5449 \n"
     ]
    },
    {
     "name": "stderr",
     "output_type": "stream",
     "text": [
      "Warning message:\n",
      "In dir.create(file.path(PLOTS_PATH, uid), recursive = TRUE): '/Users/adrianalbert/S3L_server/plots/pecan-street-2/5449' already exists"
     ]
    },
    {
     "name": "stdout",
     "output_type": "stream",
     "text": [
      "No HVAC data for user 5456 !\n",
      "Plotting for 5485 \n"
     ]
    },
    {
     "name": "stderr",
     "output_type": "stream",
     "text": [
      "Warning message:\n",
      "In dir.create(file.path(PLOTS_PATH, uid), recursive = TRUE): '/Users/adrianalbert/S3L_server/plots/pecan-street-2/5485' already exists"
     ]
    },
    {
     "name": "stdout",
     "output_type": "stream",
     "text": [
      "Plotting for 5539 \n"
     ]
    },
    {
     "name": "stderr",
     "output_type": "stream",
     "text": [
      "Warning message:\n",
      "In dir.create(file.path(PLOTS_PATH, uid), recursive = TRUE): '/Users/adrianalbert/S3L_server/plots/pecan-street-2/5539' already exists"
     ]
    },
    {
     "name": "stdout",
     "output_type": "stream",
     "text": [
      "Plotting for 5545 \n"
     ]
    },
    {
     "name": "stderr",
     "output_type": "stream",
     "text": [
      "Warning message:\n",
      "In dir.create(file.path(PLOTS_PATH, uid), recursive = TRUE): '/Users/adrianalbert/S3L_server/plots/pecan-street-2/5545' already exists"
     ]
    },
    {
     "name": "stdout",
     "output_type": "stream",
     "text": [
      "Plotting for 5552 \n"
     ]
    },
    {
     "name": "stderr",
     "output_type": "stream",
     "text": [
      "Warning message:\n",
      "In dir.create(file.path(PLOTS_PATH, uid), recursive = TRUE): '/Users/adrianalbert/S3L_server/plots/pecan-street-2/5552' already exists"
     ]
    },
    {
     "name": "stdout",
     "output_type": "stream",
     "text": [
      "Plotting for 5673 \n"
     ]
    },
    {
     "name": "stderr",
     "output_type": "stream",
     "text": [
      "Warning message:\n",
      "In dir.create(file.path(PLOTS_PATH, uid), recursive = TRUE): '/Users/adrianalbert/S3L_server/plots/pecan-street-2/5673' already exists"
     ]
    },
    {
     "name": "stdout",
     "output_type": "stream",
     "text": [
      "Plotting for 5677 \n"
     ]
    },
    {
     "name": "stderr",
     "output_type": "stream",
     "text": [
      "Warning message:\n",
      "In dir.create(file.path(PLOTS_PATH, uid), recursive = TRUE): '/Users/adrianalbert/S3L_server/plots/pecan-street-2/5677' already exists"
     ]
    },
    {
     "name": "stdout",
     "output_type": "stream",
     "text": [
      "Plotting for 5786 \n"
     ]
    },
    {
     "name": "stderr",
     "output_type": "stream",
     "text": [
      "Warning message:\n",
      "In dir.create(file.path(PLOTS_PATH, uid), recursive = TRUE): '/Users/adrianalbert/S3L_server/plots/pecan-street-2/5786' already exists"
     ]
    },
    {
     "name": "stdout",
     "output_type": "stream",
     "text": [
      "Plotting for 580 \n"
     ]
    },
    {
     "name": "stderr",
     "output_type": "stream",
     "text": [
      "Warning message:\n",
      "In dir.create(file.path(PLOTS_PATH, uid), recursive = TRUE): '/Users/adrianalbert/S3L_server/plots/pecan-street-2/580' already exists"
     ]
    },
    {
     "name": "stdout",
     "output_type": "stream",
     "text": [
      "Plotting for 5852 \n"
     ]
    },
    {
     "name": "stderr",
     "output_type": "stream",
     "text": [
      "Warning message:\n",
      "In dir.create(file.path(PLOTS_PATH, uid), recursive = TRUE): '/Users/adrianalbert/S3L_server/plots/pecan-street-2/5852' already exists"
     ]
    },
    {
     "name": "stdout",
     "output_type": "stream",
     "text": [
      "Plotting for 5889 \n"
     ]
    },
    {
     "name": "stderr",
     "output_type": "stream",
     "text": [
      "Warning message:\n",
      "In dir.create(file.path(PLOTS_PATH, uid), recursive = TRUE): '/Users/adrianalbert/S3L_server/plots/pecan-street-2/5889' already exists"
     ]
    },
    {
     "name": "stdout",
     "output_type": "stream",
     "text": [
      "Plotting for 59 \n"
     ]
    },
    {
     "name": "stderr",
     "output_type": "stream",
     "text": [
      "Warning message:\n",
      "In dir.create(file.path(PLOTS_PATH, uid), recursive = TRUE): '/Users/adrianalbert/S3L_server/plots/pecan-street-2/59' already exists"
     ]
    },
    {
     "name": "stdout",
     "output_type": "stream",
     "text": [
      "Plotting for 5938 \n"
     ]
    },
    {
     "name": "stderr",
     "output_type": "stream",
     "text": [
      "Warning message:\n",
      "In dir.create(file.path(PLOTS_PATH, uid), recursive = TRUE): '/Users/adrianalbert/S3L_server/plots/pecan-street-2/5938' already exists"
     ]
    },
    {
     "name": "stdout",
     "output_type": "stream",
     "text": [
      "Plotting for 5959 \n"
     ]
    },
    {
     "name": "stderr",
     "output_type": "stream",
     "text": [
      "Warning message:\n",
      "In dir.create(file.path(PLOTS_PATH, uid), recursive = TRUE): '/Users/adrianalbert/S3L_server/plots/pecan-street-2/5959' already exists"
     ]
    },
    {
     "name": "stdout",
     "output_type": "stream",
     "text": [
      "Plotting for 5994 \n"
     ]
    },
    {
     "name": "stderr",
     "output_type": "stream",
     "text": [
      "Warning message:\n",
      "In dir.create(file.path(PLOTS_PATH, uid), recursive = TRUE): '/Users/adrianalbert/S3L_server/plots/pecan-street-2/5994' already exists"
     ]
    },
    {
     "name": "stdout",
     "output_type": "stream",
     "text": [
      "Plotting for 6078 \n"
     ]
    },
    {
     "name": "stderr",
     "output_type": "stream",
     "text": [
      "Warning message:\n",
      "In dir.create(file.path(PLOTS_PATH, uid), recursive = TRUE): '/Users/adrianalbert/S3L_server/plots/pecan-street-2/6078' already exists"
     ]
    },
    {
     "name": "stdout",
     "output_type": "stream",
     "text": [
      "Plotting for 6165 \n"
     ]
    },
    {
     "name": "stderr",
     "output_type": "stream",
     "text": [
      "Warning message:\n",
      "In dir.create(file.path(PLOTS_PATH, uid), recursive = TRUE): '/Users/adrianalbert/S3L_server/plots/pecan-street-2/6165' already exists"
     ]
    },
    {
     "name": "stdout",
     "output_type": "stream",
     "text": [
      "Plotting for 6191 \n"
     ]
    },
    {
     "name": "stderr",
     "output_type": "stream",
     "text": [
      "Warning message:\n",
      "In dir.create(file.path(PLOTS_PATH, uid), recursive = TRUE): '/Users/adrianalbert/S3L_server/plots/pecan-street-2/6191' already exists"
     ]
    },
    {
     "name": "stdout",
     "output_type": "stream",
     "text": [
      "No HVAC data for user 6377 !\n",
      "Plotting for 6378 \n"
     ]
    },
    {
     "name": "stderr",
     "output_type": "stream",
     "text": [
      "Warning message:\n",
      "In dir.create(file.path(PLOTS_PATH, uid), recursive = TRUE): '/Users/adrianalbert/S3L_server/plots/pecan-street-2/6378' already exists"
     ]
    },
    {
     "name": "stdout",
     "output_type": "stream",
     "text": [
      "Plotting for 6500 \n"
     ]
    },
    {
     "name": "stderr",
     "output_type": "stream",
     "text": [
      "Warning message:\n",
      "In dir.create(file.path(PLOTS_PATH, uid), recursive = TRUE): '/Users/adrianalbert/S3L_server/plots/pecan-street-2/6500' already exists"
     ]
    },
    {
     "name": "stdout",
     "output_type": "stream",
     "text": [
      "No HVAC data for user 6578 !\n",
      "Plotting for 6593 \n"
     ]
    },
    {
     "name": "stderr",
     "output_type": "stream",
     "text": [
      "Warning message:\n",
      "In dir.create(file.path(PLOTS_PATH, uid), recursive = TRUE): '/Users/adrianalbert/S3L_server/plots/pecan-street-2/6593' already exists"
     ]
    },
    {
     "name": "stdout",
     "output_type": "stream",
     "text": [
      "Plotting for 661 \n"
     ]
    },
    {
     "name": "stderr",
     "output_type": "stream",
     "text": [
      "Warning message:\n",
      "In dir.create(file.path(PLOTS_PATH, uid), recursive = TRUE): '/Users/adrianalbert/S3L_server/plots/pecan-street-2/661' already exists"
     ]
    },
    {
     "name": "stdout",
     "output_type": "stream",
     "text": [
      "Plotting for 6692 \n"
     ]
    },
    {
     "name": "stderr",
     "output_type": "stream",
     "text": [
      "Warning message:\n",
      "In dir.create(file.path(PLOTS_PATH, uid), recursive = TRUE): '/Users/adrianalbert/S3L_server/plots/pecan-street-2/6692' already exists"
     ]
    },
    {
     "name": "stdout",
     "output_type": "stream",
     "text": [
      "Plotting for 6826 \n"
     ]
    },
    {
     "name": "stderr",
     "output_type": "stream",
     "text": [
      "Warning message:\n",
      "In dir.create(file.path(PLOTS_PATH, uid), recursive = TRUE): '/Users/adrianalbert/S3L_server/plots/pecan-street-2/6826' already exists"
     ]
    },
    {
     "name": "stdout",
     "output_type": "stream",
     "text": [
      "No HVAC data for user 7030 !\n",
      "Plotting for 7062 \n"
     ]
    },
    {
     "name": "stderr",
     "output_type": "stream",
     "text": [
      "Warning message:\n",
      "In dir.create(file.path(PLOTS_PATH, uid), recursive = TRUE): '/Users/adrianalbert/S3L_server/plots/pecan-street-2/7062' already exists"
     ]
    },
    {
     "name": "stdout",
     "output_type": "stream",
     "text": [
      "Plotting for 7319 \n"
     ]
    },
    {
     "name": "stderr",
     "output_type": "stream",
     "text": [
      "Warning message:\n",
      "In dir.create(file.path(PLOTS_PATH, uid), recursive = TRUE): '/Users/adrianalbert/S3L_server/plots/pecan-street-2/7319' already exists"
     ]
    },
    {
     "name": "stdout",
     "output_type": "stream",
     "text": [
      "Plotting for 7390 \n"
     ]
    },
    {
     "name": "stderr",
     "output_type": "stream",
     "text": [
      "Warning message:\n",
      "In dir.create(file.path(PLOTS_PATH, uid), recursive = TRUE): '/Users/adrianalbert/S3L_server/plots/pecan-street-2/7390' already exists"
     ]
    },
    {
     "name": "stdout",
     "output_type": "stream",
     "text": [
      "Plotting for 7436 \n"
     ]
    },
    {
     "name": "stderr",
     "output_type": "stream",
     "text": [
      "Warning message:\n",
      "In dir.create(file.path(PLOTS_PATH, uid), recursive = TRUE): '/Users/adrianalbert/S3L_server/plots/pecan-street-2/7436' already exists"
     ]
    },
    {
     "name": "stdout",
     "output_type": "stream",
     "text": [
      "Plotting for 7491 \n"
     ]
    },
    {
     "name": "stderr",
     "output_type": "stream",
     "text": [
      "Warning message:\n",
      "In dir.create(file.path(PLOTS_PATH, uid), recursive = TRUE): '/Users/adrianalbert/S3L_server/plots/pecan-street-2/7491' already exists"
     ]
    },
    {
     "name": "stdout",
     "output_type": "stream",
     "text": [
      "Plotting for 7512 \n"
     ]
    },
    {
     "name": "stderr",
     "output_type": "stream",
     "text": [
      "Warning message:\n",
      "In dir.create(file.path(PLOTS_PATH, uid), recursive = TRUE): '/Users/adrianalbert/S3L_server/plots/pecan-street-2/7512' already exists"
     ]
    },
    {
     "name": "stdout",
     "output_type": "stream",
     "text": [
      "Plotting for 7527 \n"
     ]
    },
    {
     "name": "stderr",
     "output_type": "stream",
     "text": [
      "Warning message:\n",
      "In dir.create(file.path(PLOTS_PATH, uid), recursive = TRUE): '/Users/adrianalbert/S3L_server/plots/pecan-street-2/7527' already exists"
     ]
    },
    {
     "name": "stdout",
     "output_type": "stream",
     "text": [
      "Plotting for 7597 \n"
     ]
    },
    {
     "name": "stderr",
     "output_type": "stream",
     "text": [
      "Warning message:\n",
      "In dir.create(file.path(PLOTS_PATH, uid), recursive = TRUE): '/Users/adrianalbert/S3L_server/plots/pecan-street-2/7597' already exists"
     ]
    },
    {
     "name": "stdout",
     "output_type": "stream",
     "text": [
      "Plotting for 7617 \n"
     ]
    },
    {
     "name": "stderr",
     "output_type": "stream",
     "text": [
      "Warning message:\n",
      "In dir.create(file.path(PLOTS_PATH, uid), recursive = TRUE): '/Users/adrianalbert/S3L_server/plots/pecan-street-2/7617' already exists"
     ]
    },
    {
     "name": "stdout",
     "output_type": "stream",
     "text": [
      "No HVAC data for user 7693 !\n",
      "Plotting for 7703 \n"
     ]
    },
    {
     "name": "stderr",
     "output_type": "stream",
     "text": [
      "Warning message:\n",
      "In dir.create(file.path(PLOTS_PATH, uid), recursive = TRUE): '/Users/adrianalbert/S3L_server/plots/pecan-street-2/7703' already exists"
     ]
    },
    {
     "name": "stdout",
     "output_type": "stream",
     "text": [
      "Plotting for 772 \n"
     ]
    },
    {
     "name": "stderr",
     "output_type": "stream",
     "text": [
      "Warning message:\n",
      "In dir.create(file.path(PLOTS_PATH, uid), recursive = TRUE): '/Users/adrianalbert/S3L_server/plots/pecan-street-2/772' already exists"
     ]
    },
    {
     "name": "stdout",
     "output_type": "stream",
     "text": [
      "Plotting for 774 \n"
     ]
    },
    {
     "name": "stderr",
     "output_type": "stream",
     "text": [
      "Warning message:\n",
      "In dir.create(file.path(PLOTS_PATH, uid), recursive = TRUE): '/Users/adrianalbert/S3L_server/plots/pecan-street-2/774' already exists"
     ]
    },
    {
     "name": "stdout",
     "output_type": "stream",
     "text": [
      "Plotting for 7788 \n"
     ]
    },
    {
     "name": "stderr",
     "output_type": "stream",
     "text": [
      "Warning message:\n",
      "In dir.create(file.path(PLOTS_PATH, uid), recursive = TRUE): '/Users/adrianalbert/S3L_server/plots/pecan-street-2/7788' already exists"
     ]
    },
    {
     "name": "stdout",
     "output_type": "stream",
     "text": [
      "Plotting for 7875 \n"
     ]
    },
    {
     "name": "stderr",
     "output_type": "stream",
     "text": [
      "Warning message:\n",
      "In dir.create(file.path(PLOTS_PATH, uid), recursive = TRUE): '/Users/adrianalbert/S3L_server/plots/pecan-street-2/7875' already exists"
     ]
    },
    {
     "name": "stdout",
     "output_type": "stream",
     "text": [
      "Plotting for 7881 \n"
     ]
    },
    {
     "name": "stderr",
     "output_type": "stream",
     "text": [
      "Warning message:\n",
      "In dir.create(file.path(PLOTS_PATH, uid), recursive = TRUE): '/Users/adrianalbert/S3L_server/plots/pecan-street-2/7881' already exists"
     ]
    },
    {
     "name": "stdout",
     "output_type": "stream",
     "text": [
      "No HVAC data for user 7893 !\n",
      "Plotting for 7901 \n"
     ]
    },
    {
     "name": "stderr",
     "output_type": "stream",
     "text": [
      "Warning message:\n",
      "In dir.create(file.path(PLOTS_PATH, uid), recursive = TRUE): '/Users/adrianalbert/S3L_server/plots/pecan-street-2/7901' already exists"
     ]
    },
    {
     "name": "stdout",
     "output_type": "stream",
     "text": [
      "Plotting for 7951 \n"
     ]
    },
    {
     "name": "stderr",
     "output_type": "stream",
     "text": [
      "Warning message:\n",
      "In dir.create(file.path(PLOTS_PATH, uid), recursive = TRUE): '/Users/adrianalbert/S3L_server/plots/pecan-street-2/7951' already exists"
     ]
    },
    {
     "name": "stdout",
     "output_type": "stream",
     "text": [
      "Plotting for 7982 \n"
     ]
    },
    {
     "name": "stderr",
     "output_type": "stream",
     "text": [
      "Warning message:\n",
      "In dir.create(file.path(PLOTS_PATH, uid), recursive = TRUE): '/Users/adrianalbert/S3L_server/plots/pecan-street-2/7982' already exists"
     ]
    },
    {
     "name": "stdout",
     "output_type": "stream",
     "text": [
      "Plotting for 7984 \n"
     ]
    },
    {
     "name": "stderr",
     "output_type": "stream",
     "text": [
      "Warning message:\n",
      "In dir.create(file.path(PLOTS_PATH, uid), recursive = TRUE): '/Users/adrianalbert/S3L_server/plots/pecan-street-2/7984' already exists"
     ]
    },
    {
     "name": "stdout",
     "output_type": "stream",
     "text": [
      "Plotting for 8034 \n"
     ]
    },
    {
     "name": "stderr",
     "output_type": "stream",
     "text": [
      "Warning message:\n",
      "In dir.create(file.path(PLOTS_PATH, uid), recursive = TRUE): '/Users/adrianalbert/S3L_server/plots/pecan-street-2/8034' already exists"
     ]
    },
    {
     "name": "stdout",
     "output_type": "stream",
     "text": [
      "Plotting for 8046 \n"
     ]
    },
    {
     "name": "stderr",
     "output_type": "stream",
     "text": [
      "Warning message:\n",
      "In dir.create(file.path(PLOTS_PATH, uid), recursive = TRUE): '/Users/adrianalbert/S3L_server/plots/pecan-street-2/8046' already exists"
     ]
    },
    {
     "name": "stdout",
     "output_type": "stream",
     "text": [
      "No HVAC data for user 8061 !\n",
      "Plotting for 8079 \n"
     ]
    },
    {
     "name": "stderr",
     "output_type": "stream",
     "text": [
      "Warning message:\n",
      "In dir.create(file.path(PLOTS_PATH, uid), recursive = TRUE): '/Users/adrianalbert/S3L_server/plots/pecan-street-2/8079' already exists"
     ]
    },
    {
     "name": "stdout",
     "output_type": "stream",
     "text": [
      "Plotting for 8092 \n"
     ]
    },
    {
     "name": "stderr",
     "output_type": "stream",
     "text": [
      "Warning message:\n",
      "In dir.create(file.path(PLOTS_PATH, uid), recursive = TRUE): '/Users/adrianalbert/S3L_server/plots/pecan-street-2/8092' already exists"
     ]
    },
    {
     "name": "stdout",
     "output_type": "stream",
     "text": [
      "No HVAC data for user 8117 !\n",
      "Plotting for 8121 \n"
     ]
    },
    {
     "name": "stderr",
     "output_type": "stream",
     "text": [
      "Warning message:\n",
      "In dir.create(file.path(PLOTS_PATH, uid), recursive = TRUE): '/Users/adrianalbert/S3L_server/plots/pecan-street-2/8121' already exists"
     ]
    },
    {
     "name": "stdout",
     "output_type": "stream",
     "text": [
      "Plotting for 8142 \n"
     ]
    },
    {
     "name": "stderr",
     "output_type": "stream",
     "text": [
      "Warning message:\n",
      "In dir.create(file.path(PLOTS_PATH, uid), recursive = TRUE): '/Users/adrianalbert/S3L_server/plots/pecan-street-2/8142' already exists"
     ]
    },
    {
     "name": "stdout",
     "output_type": "stream",
     "text": [
      "Plotting for 8168 \n"
     ]
    },
    {
     "name": "stderr",
     "output_type": "stream",
     "text": [
      "Warning message:\n",
      "In dir.create(file.path(PLOTS_PATH, uid), recursive = TRUE): '/Users/adrianalbert/S3L_server/plots/pecan-street-2/8168' already exists"
     ]
    },
    {
     "name": "stdout",
     "output_type": "stream",
     "text": [
      "Plotting for 8183 \n"
     ]
    },
    {
     "name": "stderr",
     "output_type": "stream",
     "text": [
      "Warning message:\n",
      "In dir.create(file.path(PLOTS_PATH, uid), recursive = TRUE): '/Users/adrianalbert/S3L_server/plots/pecan-street-2/8183' already exists"
     ]
    },
    {
     "name": "stdout",
     "output_type": "stream",
     "text": [
      "Plotting for 8188 \n"
     ]
    },
    {
     "name": "stderr",
     "output_type": "stream",
     "text": [
      "Warning message:\n",
      "In dir.create(file.path(PLOTS_PATH, uid), recursive = TRUE): '/Users/adrianalbert/S3L_server/plots/pecan-street-2/8188' already exists"
     ]
    },
    {
     "name": "stdout",
     "output_type": "stream",
     "text": [
      "Plotting for 8201 \n"
     ]
    },
    {
     "name": "stderr",
     "output_type": "stream",
     "text": [
      "Warning message:\n",
      "In dir.create(file.path(PLOTS_PATH, uid), recursive = TRUE): '/Users/adrianalbert/S3L_server/plots/pecan-street-2/8201' already exists"
     ]
    },
    {
     "name": "stdout",
     "output_type": "stream",
     "text": [
      "Plotting for 821 \n"
     ]
    },
    {
     "name": "stderr",
     "output_type": "stream",
     "text": [
      "Warning message:\n",
      "In dir.create(file.path(PLOTS_PATH, uid), recursive = TRUE): '/Users/adrianalbert/S3L_server/plots/pecan-street-2/821' already exists"
     ]
    },
    {
     "name": "stdout",
     "output_type": "stream",
     "text": [
      "Plotting for 8218 \n"
     ]
    },
    {
     "name": "stderr",
     "output_type": "stream",
     "text": [
      "Warning message:\n",
      "In dir.create(file.path(PLOTS_PATH, uid), recursive = TRUE): '/Users/adrianalbert/S3L_server/plots/pecan-street-2/8218' already exists"
     ]
    },
    {
     "name": "stdout",
     "output_type": "stream",
     "text": [
      "Plotting for 8282 \n"
     ]
    },
    {
     "name": "stderr",
     "output_type": "stream",
     "text": [
      "Warning message:\n",
      "In dir.create(file.path(PLOTS_PATH, uid), recursive = TRUE): '/Users/adrianalbert/S3L_server/plots/pecan-street-2/8282' already exists"
     ]
    },
    {
     "name": "stdout",
     "output_type": "stream",
     "text": [
      "Plotting for 8292 \n"
     ]
    },
    {
     "name": "stderr",
     "output_type": "stream",
     "text": [
      "Warning message:\n",
      "In dir.create(file.path(PLOTS_PATH, uid), recursive = TRUE): '/Users/adrianalbert/S3L_server/plots/pecan-street-2/8292' already exists"
     ]
    },
    {
     "name": "stdout",
     "output_type": "stream",
     "text": [
      "Plotting for 8342 \n"
     ]
    },
    {
     "name": "stderr",
     "output_type": "stream",
     "text": [
      "Warning message:\n",
      "In dir.create(file.path(PLOTS_PATH, uid), recursive = TRUE): '/Users/adrianalbert/S3L_server/plots/pecan-street-2/8342' already exists"
     ]
    },
    {
     "name": "stdout",
     "output_type": "stream",
     "text": [
      "No HVAC data for user 8467 !\n",
      "Plotting for 8574 \n"
     ]
    },
    {
     "name": "stderr",
     "output_type": "stream",
     "text": [
      "Warning message:\n",
      "In dir.create(file.path(PLOTS_PATH, uid), recursive = TRUE): '/Users/adrianalbert/S3L_server/plots/pecan-street-2/8574' already exists"
     ]
    },
    {
     "name": "stdout",
     "output_type": "stream",
     "text": [
      "Plotting for 8589 \n"
     ]
    },
    {
     "name": "stderr",
     "output_type": "stream",
     "text": [
      "Warning message:\n",
      "In dir.create(file.path(PLOTS_PATH, uid), recursive = TRUE): '/Users/adrianalbert/S3L_server/plots/pecan-street-2/8589' already exists"
     ]
    },
    {
     "name": "stdout",
     "output_type": "stream",
     "text": [
      "Plotting for 8645 \n"
     ]
    },
    {
     "name": "stderr",
     "output_type": "stream",
     "text": [
      "Warning message:\n",
      "In dir.create(file.path(PLOTS_PATH, uid), recursive = TRUE): '/Users/adrianalbert/S3L_server/plots/pecan-street-2/8645' already exists"
     ]
    },
    {
     "name": "stdout",
     "output_type": "stream",
     "text": [
      "Plotting for 8736 \n"
     ]
    },
    {
     "name": "stderr",
     "output_type": "stream",
     "text": [
      "Warning message:\n",
      "In dir.create(file.path(PLOTS_PATH, uid), recursive = TRUE): '/Users/adrianalbert/S3L_server/plots/pecan-street-2/8736' already exists"
     ]
    },
    {
     "name": "stdout",
     "output_type": "stream",
     "text": [
      "Plotting for 8741 \n"
     ]
    },
    {
     "name": "stderr",
     "output_type": "stream",
     "text": [
      "Warning message:\n",
      "In dir.create(file.path(PLOTS_PATH, uid), recursive = TRUE): '/Users/adrianalbert/S3L_server/plots/pecan-street-2/8741' already exists"
     ]
    },
    {
     "name": "stdout",
     "output_type": "stream",
     "text": [
      "Plotting for 878 \n"
     ]
    },
    {
     "name": "stderr",
     "output_type": "stream",
     "text": [
      "Warning message:\n",
      "In dir.create(file.path(PLOTS_PATH, uid), recursive = TRUE): '/Users/adrianalbert/S3L_server/plots/pecan-street-2/878' already exists"
     ]
    },
    {
     "name": "stdout",
     "output_type": "stream",
     "text": [
      "No HVAC data for user 8852 !\n",
      "Plotting for 8956 \n"
     ]
    },
    {
     "name": "stderr",
     "output_type": "stream",
     "text": [
      "Warning message:\n",
      "In dir.create(file.path(PLOTS_PATH, uid), recursive = TRUE): '/Users/adrianalbert/S3L_server/plots/pecan-street-2/8956' already exists"
     ]
    },
    {
     "name": "stdout",
     "output_type": "stream",
     "text": [
      "Plotting for 8961 \n"
     ]
    },
    {
     "name": "stderr",
     "output_type": "stream",
     "text": [
      "Warning message:\n",
      "In dir.create(file.path(PLOTS_PATH, uid), recursive = TRUE): '/Users/adrianalbert/S3L_server/plots/pecan-street-2/8961' already exists"
     ]
    },
    {
     "name": "stdout",
     "output_type": "stream",
     "text": [
      "No HVAC data for user 8986 !\n",
      "Plotting for 9036 \n"
     ]
    },
    {
     "name": "stderr",
     "output_type": "stream",
     "text": [
      "Warning message:\n",
      "In dir.create(file.path(PLOTS_PATH, uid), recursive = TRUE): '/Users/adrianalbert/S3L_server/plots/pecan-street-2/9036' already exists"
     ]
    },
    {
     "name": "stdout",
     "output_type": "stream",
     "text": [
      "Plotting for 9139 \n"
     ]
    },
    {
     "name": "stderr",
     "output_type": "stream",
     "text": [
      "Warning message:\n",
      "In dir.create(file.path(PLOTS_PATH, uid), recursive = TRUE): '/Users/adrianalbert/S3L_server/plots/pecan-street-2/9139' already exists"
     ]
    },
    {
     "name": "stdout",
     "output_type": "stream",
     "text": [
      "Plotting for 9141 \n"
     ]
    },
    {
     "name": "stderr",
     "output_type": "stream",
     "text": [
      "Warning message:\n",
      "In dir.create(file.path(PLOTS_PATH, uid), recursive = TRUE): '/Users/adrianalbert/S3L_server/plots/pecan-street-2/9141' already exists"
     ]
    },
    {
     "name": "stdout",
     "output_type": "stream",
     "text": [
      "No HVAC data for user 9165 !\n",
      "Plotting for 9201 \n"
     ]
    },
    {
     "name": "stderr",
     "output_type": "stream",
     "text": [
      "Warning message:\n",
      "In dir.create(file.path(PLOTS_PATH, uid), recursive = TRUE): '/Users/adrianalbert/S3L_server/plots/pecan-street-2/9201' already exists"
     ]
    },
    {
     "name": "stdout",
     "output_type": "stream",
     "text": [
      "Plotting for 9206 \n"
     ]
    },
    {
     "name": "stderr",
     "output_type": "stream",
     "text": [
      "Warning message:\n",
      "In dir.create(file.path(PLOTS_PATH, uid), recursive = TRUE): '/Users/adrianalbert/S3L_server/plots/pecan-street-2/9206' already exists"
     ]
    },
    {
     "name": "stdout",
     "output_type": "stream",
     "text": [
      "Plotting for 9213 \n"
     ]
    },
    {
     "name": "stderr",
     "output_type": "stream",
     "text": [
      "Warning message:\n",
      "In dir.create(file.path(PLOTS_PATH, uid), recursive = TRUE): '/Users/adrianalbert/S3L_server/plots/pecan-street-2/9213' already exists"
     ]
    },
    {
     "name": "stdout",
     "output_type": "stream",
     "text": [
      "Plotting for 9233 \n"
     ]
    },
    {
     "name": "stderr",
     "output_type": "stream",
     "text": [
      "Warning message:\n",
      "In dir.create(file.path(PLOTS_PATH, uid), recursive = TRUE): '/Users/adrianalbert/S3L_server/plots/pecan-street-2/9233' already exists"
     ]
    },
    {
     "name": "stdout",
     "output_type": "stream",
     "text": [
      "Plotting for 9248 \n"
     ]
    },
    {
     "name": "stderr",
     "output_type": "stream",
     "text": [
      "Warning message:\n",
      "In dir.create(file.path(PLOTS_PATH, uid), recursive = TRUE): '/Users/adrianalbert/S3L_server/plots/pecan-street-2/9248' already exists"
     ]
    },
    {
     "name": "stdout",
     "output_type": "stream",
     "text": [
      "Plotting for 9295 \n"
     ]
    },
    {
     "name": "stderr",
     "output_type": "stream",
     "text": [
      "Warning message:\n",
      "In dir.create(file.path(PLOTS_PATH, uid), recursive = TRUE): '/Users/adrianalbert/S3L_server/plots/pecan-street-2/9295' already exists"
     ]
    },
    {
     "name": "stdout",
     "output_type": "stream",
     "text": [
      "Plotting for 9340 \n"
     ]
    },
    {
     "name": "stderr",
     "output_type": "stream",
     "text": [
      "Warning message:\n",
      "In dir.create(file.path(PLOTS_PATH, uid), recursive = TRUE): '/Users/adrianalbert/S3L_server/plots/pecan-street-2/9340' already exists"
     ]
    },
    {
     "name": "stdout",
     "output_type": "stream",
     "text": [
      "Plotting for 9343 \n"
     ]
    },
    {
     "name": "stderr",
     "output_type": "stream",
     "text": [
      "Warning message:\n",
      "In dir.create(file.path(PLOTS_PATH, uid), recursive = TRUE): '/Users/adrianalbert/S3L_server/plots/pecan-street-2/9343' already exists"
     ]
    },
    {
     "name": "stdout",
     "output_type": "stream",
     "text": [
      "Plotting for 9462 \n"
     ]
    },
    {
     "name": "stderr",
     "output_type": "stream",
     "text": [
      "Warning message:\n",
      "In dir.create(file.path(PLOTS_PATH, uid), recursive = TRUE): '/Users/adrianalbert/S3L_server/plots/pecan-street-2/9462' already exists"
     ]
    },
    {
     "name": "stdout",
     "output_type": "stream",
     "text": [
      "Plotting for 9484 \n"
     ]
    },
    {
     "name": "stderr",
     "output_type": "stream",
     "text": [
      "Warning message:\n",
      "In dir.create(file.path(PLOTS_PATH, uid), recursive = TRUE): '/Users/adrianalbert/S3L_server/plots/pecan-street-2/9484' already exists"
     ]
    },
    {
     "name": "stdout",
     "output_type": "stream",
     "text": [
      "Plotting for 9488 \n"
     ]
    },
    {
     "name": "stderr",
     "output_type": "stream",
     "text": [
      "Warning message:\n",
      "In dir.create(file.path(PLOTS_PATH, uid), recursive = TRUE): '/Users/adrianalbert/S3L_server/plots/pecan-street-2/9488' already exists"
     ]
    },
    {
     "name": "stdout",
     "output_type": "stream",
     "text": [
      "Plotting for 954 \n"
     ]
    },
    {
     "name": "stderr",
     "output_type": "stream",
     "text": [
      "Warning message:\n",
      "In dir.create(file.path(PLOTS_PATH, uid), recursive = TRUE): '/Users/adrianalbert/S3L_server/plots/pecan-street-2/954' already exists"
     ]
    },
    {
     "name": "stdout",
     "output_type": "stream",
     "text": [
      "Plotting for 9548 \n"
     ]
    },
    {
     "name": "stderr",
     "output_type": "stream",
     "text": [
      "Warning message:\n",
      "In dir.create(file.path(PLOTS_PATH, uid), recursive = TRUE): '/Users/adrianalbert/S3L_server/plots/pecan-street-2/9548' already exists"
     ]
    },
    {
     "name": "stdout",
     "output_type": "stream",
     "text": [
      "Plotting for 9555 \n"
     ]
    },
    {
     "name": "stderr",
     "output_type": "stream",
     "text": [
      "Warning message:\n",
      "In dir.create(file.path(PLOTS_PATH, uid), recursive = TRUE): '/Users/adrianalbert/S3L_server/plots/pecan-street-2/9555' already exists"
     ]
    },
    {
     "name": "stdout",
     "output_type": "stream",
     "text": [
      "No HVAC data for user 9578 !\n",
      "Plotting for 9605 \n"
     ]
    },
    {
     "name": "stderr",
     "output_type": "stream",
     "text": [
      "Warning message:\n",
      "In dir.create(file.path(PLOTS_PATH, uid), recursive = TRUE): '/Users/adrianalbert/S3L_server/plots/pecan-street-2/9605' already exists"
     ]
    },
    {
     "name": "stdout",
     "output_type": "stream",
     "text": [
      "Plotting for 9613 \n"
     ]
    },
    {
     "name": "stderr",
     "output_type": "stream",
     "text": [
      "Warning message:\n",
      "In dir.create(file.path(PLOTS_PATH, uid), recursive = TRUE): '/Users/adrianalbert/S3L_server/plots/pecan-street-2/9613' already exists"
     ]
    },
    {
     "name": "stdout",
     "output_type": "stream",
     "text": [
      "Plotting for 9647 \n"
     ]
    },
    {
     "name": "stderr",
     "output_type": "stream",
     "text": [
      "Warning message:\n",
      "In dir.create(file.path(PLOTS_PATH, uid), recursive = TRUE): '/Users/adrianalbert/S3L_server/plots/pecan-street-2/9647' already exists"
     ]
    },
    {
     "name": "stdout",
     "output_type": "stream",
     "text": [
      "Plotting for 9674 \n"
     ]
    },
    {
     "name": "stderr",
     "output_type": "stream",
     "text": [
      "Warning message:\n",
      "In dir.create(file.path(PLOTS_PATH, uid), recursive = TRUE): '/Users/adrianalbert/S3L_server/plots/pecan-street-2/9674' already exists"
     ]
    },
    {
     "name": "stdout",
     "output_type": "stream",
     "text": [
      "Plotting for 9688 \n"
     ]
    },
    {
     "name": "stderr",
     "output_type": "stream",
     "text": [
      "Warning message:\n",
      "In dir.create(file.path(PLOTS_PATH, uid), recursive = TRUE): '/Users/adrianalbert/S3L_server/plots/pecan-street-2/9688' already exists"
     ]
    },
    {
     "name": "stdout",
     "output_type": "stream",
     "text": [
      "Plotting for 9745 \n"
     ]
    },
    {
     "name": "stderr",
     "output_type": "stream",
     "text": [
      "Warning message:\n",
      "In dir.create(file.path(PLOTS_PATH, uid), recursive = TRUE): '/Users/adrianalbert/S3L_server/plots/pecan-street-2/9745' already exists"
     ]
    },
    {
     "name": "stdout",
     "output_type": "stream",
     "text": [
      "Plotting for 9775 \n"
     ]
    },
    {
     "name": "stderr",
     "output_type": "stream",
     "text": [
      "Warning message:\n",
      "In dir.create(file.path(PLOTS_PATH, uid), recursive = TRUE): '/Users/adrianalbert/S3L_server/plots/pecan-street-2/9775' already exists"
     ]
    },
    {
     "name": "stdout",
     "output_type": "stream",
     "text": [
      "Plotting for 9776 \n"
     ]
    },
    {
     "name": "stderr",
     "output_type": "stream",
     "text": [
      "Warning message:\n",
      "In dir.create(file.path(PLOTS_PATH, uid), recursive = TRUE): '/Users/adrianalbert/S3L_server/plots/pecan-street-2/9776' already exists"
     ]
    },
    {
     "name": "stdout",
     "output_type": "stream",
     "text": [
      "Plotting for 9803 \n"
     ]
    },
    {
     "name": "stderr",
     "output_type": "stream",
     "text": [
      "Warning message:\n",
      "In dir.create(file.path(PLOTS_PATH, uid), recursive = TRUE): '/Users/adrianalbert/S3L_server/plots/pecan-street-2/9803' already exists"
     ]
    },
    {
     "name": "stdout",
     "output_type": "stream",
     "text": [
      "Plotting for 9875 \n"
     ]
    },
    {
     "name": "stderr",
     "output_type": "stream",
     "text": [
      "Warning message:\n",
      "In dir.create(file.path(PLOTS_PATH, uid), recursive = TRUE): '/Users/adrianalbert/S3L_server/plots/pecan-street-2/9875' already exists"
     ]
    },
    {
     "name": "stdout",
     "output_type": "stream",
     "text": [
      "Plotting for 9931 \n"
     ]
    },
    {
     "name": "stderr",
     "output_type": "stream",
     "text": [
      "Warning message:\n",
      "In dir.create(file.path(PLOTS_PATH, uid), recursive = TRUE): '/Users/adrianalbert/S3L_server/plots/pecan-street-2/9931' already exists"
     ]
    },
    {
     "name": "stdout",
     "output_type": "stream",
     "text": [
      "Plotting for 9938 \n"
     ]
    },
    {
     "name": "stderr",
     "output_type": "stream",
     "text": [
      "Warning message:\n",
      "In dir.create(file.path(PLOTS_PATH, uid), recursive = TRUE): '/Users/adrianalbert/S3L_server/plots/pecan-street-2/9938' already exists"
     ]
    },
    {
     "name": "stdout",
     "output_type": "stream",
     "text": [
      "Plotting for 9983 \n"
     ]
    },
    {
     "name": "stderr",
     "output_type": "stream",
     "text": [
      "Warning message:\n",
      "In dir.create(file.path(PLOTS_PATH, uid), recursive = TRUE): '/Users/adrianalbert/S3L_server/plots/pecan-street-2/9983' already exists"
     ]
    }
   ],
   "source": [
    "for (uid in names(data)) {\n",
    "  # current user info\n",
    "  data_60= data[[uid]]\n",
    "  user_name = as.character(user_names$name[which(user_names$ID == uid)])\n",
    "  # skip users that don't have enough data, at least a month of hourly data\n",
    "  if (nrow(data_60) < 30 * 24) {\n",
    "    cat('Not enough samples (less than one month!) !\\n')\n",
    "    next\n",
    "  }\n",
    "    \n",
    "  # aggregate end-uses\n",
    "  cur_data = to_categories(data_60)\n",
    "  if (is.null(cur_data)) {\n",
    "    cat(paste('No HVAC data for user', uid, '!\\n'))\n",
    "    next\n",
    "  } else {\n",
    "    cat(paste(\"Plotting for\", uid, \"\\n\"))\n",
    "  }\n",
    "    \n",
    "  # produce aggregate plot\n",
    "  cur_data = cbind(cur_data, Hour = hour(cur_data$date), Month = month(cur_data$date, label=T))\n",
    "  cur_data$Season = 'Winter'\n",
    "  cur_data$Season[which(cur_data$Month %in% c(\"Mar\", 'Apr', 'May', 'Jun', 'Jul', 'Aug', 'Sep', 'Oct', \"Nov\"))] = 'Summer'\n",
    "  cur_data$Month <- NULL\n",
    "  cur_mu_hour = aggregate(. ~ Hour + Season, na.action=NULL,\n",
    "                          FUN = function(x) {if (!is.null(x)) return(mean(x, na.rm=T)) else return(0)},\n",
    "                          data = cur_data[,!(names(cur_data) %in% c('date', 'Temperature', 'Time', 'Month'))])\n",
    "  cur_mu_hour = cur_mu_hour[intersect(names(cur_mu_hour),c('Hour', 'Season','C', 'H', 'user'))]\n",
    "  cur_mu_hour = melt(cur_mu_hour, id.vars = c('Hour', 'Season'))\n",
    "  cur_mu_hour$ID = uid; cur_mu_hour$name = user_name;   \n",
    "    \n",
    "  # plot end-uses\n",
    "  dir.create(file.path(PLOTS_PATH, uid), recursive = TRUE)\n",
    "  p.hr = plot_comps(cur_mu_hour, \n",
    "                    var = 'Hour', facet = 'Season',\n",
    "                    title = paste('Avg. Hourly Usage for', user_name))\n",
    "  pdf(file=paste(paste(PLOTS_PATH, uid, sep = '/'), paste(uid,'_components.pdf',sep=''), sep='/'),width=9,height=3)\n",
    "  print(p.hr)\n",
    "  dev.off()\n",
    "                                             \n",
    "  # plot example time series\n",
    "  pdf(file=paste(paste(PLOTS_PATH, uid, sep = '/'), paste(uid,'_example_timeseries.pdf',sep=''), sep='/'),width=8.5,height=4) \n",
    "  f_plot_user(cur_data[,!(names(cur_data) %in% c(\"Hour\", \"Season\"))], main=paste(\"Example time series:\", user_name))\n",
    "  dev.off()\n",
    "    \n",
    "  # save data to file\n",
    "  cur_data['Temperature'] = data_60$Temperature\n",
    "  write.csv(cur_data[,!(names(cur_data) %in% c(\"Season\", \"Hour\"))], \n",
    "            file = paste(DATA_OUT_PATH, paste('60min/', uid, '.csv', sep = ''), sep = '/'), row.names = F)  \n",
    "}"
   ]
  },
  {
   "cell_type": "code",
   "execution_count": 106,
   "metadata": {
    "collapsed": false
   },
   "outputs": [
    {
     "data": {
      "text/plain": [
       "      date                         total              C           \n",
       " Min.   :2012-07-23 23:00:00   Min.   :0.1269   Min.   :0.000000  \n",
       " 1st Qu.:2012-12-02 15:00:00   1st Qu.:0.3774   1st Qu.:0.000000  \n",
       " Median :2013-04-13 02:00:00   Median :0.7294   Median :0.001433  \n",
       " Mean   :2013-04-21 09:47:19   Mean   :0.9938   Mean   :0.301131  \n",
       " 3rd Qu.:2013-08-22 12:00:00   3rd Qu.:1.3462   3rd Qu.:0.434817  \n",
       " Max.   :2014-03-31 16:00:00   Max.   :5.5156   Max.   :2.163800  \n",
       "                               NA's   :130                        \n",
       "      user             nonHVAC             Hour         Season         \n",
       " Min.   :0.000000   Min.   :-2.1625   Min.   : 0.0   Length:12617      \n",
       " 1st Qu.:0.000933   1st Qu.: 0.2420   1st Qu.: 6.0   Class :character  \n",
       " Median :0.027750   Median : 0.4645   Median :11.0   Mode  :character  \n",
       " Mean   :0.087284   Mean   : 0.6824   Mean   :11.5                     \n",
       " 3rd Qu.:0.052117   3rd Qu.: 0.8815   3rd Qu.:17.0                     \n",
       " Max.   :3.232167   Max.   : 5.2686   Max.   :23.0                     \n",
       "                                                                       "
      ]
     },
     "execution_count": 106,
     "metadata": {},
     "output_type": "execute_result"
    }
   ],
   "source": [
    "summary(cur_data)"
   ]
  },
  {
   "cell_type": "code",
   "execution_count": 145,
   "metadata": {
    "collapsed": false
   },
   "outputs": [
    {
     "data": {
      "text/html": [
       "<table>\n",
       "<thead><tr><th></th><th scope=col>date</th><th scope=col>total</th><th scope=col>C</th><th scope=col>user</th><th scope=col>Hour</th><th scope=col>Season</th></tr></thead>\n",
       "<tbody>\n",
       "\t<tr><th scope=row>1</th><td>2012-05-03 17:00:00</td><td>1.6285</td><td>0.6975</td><td>0.931</td><td>17</td><td>Summer</td></tr>\n",
       "\t<tr><th scope=row>2</th><td>2012-05-03 18:00:00</td><td>NA</td><td>0.642</td><td>-0.642</td><td>18</td><td>Summer</td></tr>\n",
       "\t<tr><th scope=row>3</th><td>2012-05-03 19:00:00</td><td>3.7605</td><td>0.4185</td><td>3.342</td><td>19</td><td>Summer</td></tr>\n",
       "\t<tr><th scope=row>4</th><td>2012-05-03 20:00:00</td><td>1.5435</td><td>0.4935</td><td>1.05</td><td>20</td><td>Summer</td></tr>\n",
       "\t<tr><th scope=row>5</th><td>2012-05-03 21:00:00</td><td>0.641</td><td>0.256</td><td>0.385</td><td>21</td><td>Summer</td></tr>\n",
       "\t<tr><th scope=row>6</th><td>2012-05-03 22:00:00</td><td>0.4475</td><td>0.1955</td><td>0.252</td><td>22</td><td>Summer</td></tr>\n",
       "</tbody>\n",
       "</table>\n"
      ],
      "text/latex": [
       "\\begin{tabular}{r|llllll}\n",
       "  & date & total & C & user & Hour & Season\\\\\n",
       "\\hline\n",
       "\t1 & 2012-05-03 17:00:00 & 1.6285 & 0.6975 & 0.931 & 17 & Summer\\\\\n",
       "\t2 & 2012-05-03 18:00:00 & NA & 0.642 & -0.642 & 18 & Summer\\\\\n",
       "\t3 & 2012-05-03 19:00:00 & 3.7605 & 0.4185 & 3.342 & 19 & Summer\\\\\n",
       "\t4 & 2012-05-03 20:00:00 & 1.5435 & 0.4935 & 1.05 & 20 & Summer\\\\\n",
       "\t5 & 2012-05-03 21:00:00 & 0.641 & 0.256 & 0.385 & 21 & Summer\\\\\n",
       "\t6 & 2012-05-03 22:00:00 & 0.4475 & 0.1955 & 0.252 & 22 & Summer\\\\\n",
       "\\end{tabular}\n"
      ],
      "text/plain": [
       "                 date  total      C   user Hour Season\n",
       "1 2012-05-03 17:00:00 1.6285 0.6975  0.931   17 Summer\n",
       "2 2012-05-03 18:00:00     NA 0.6420 -0.642   18 Summer\n",
       "3 2012-05-03 19:00:00 3.7605 0.4185  3.342   19 Summer\n",
       "4 2012-05-03 20:00:00 1.5435 0.4935  1.050   20 Summer\n",
       "5 2012-05-03 21:00:00 0.6410 0.2560  0.385   21 Summer\n",
       "6 2012-05-03 22:00:00 0.4475 0.1955  0.252   22 Summer"
      ]
     },
     "execution_count": 145,
     "metadata": {},
     "output_type": "execute_result"
    }
   ],
   "source": [
    "head(cur_data)"
   ]
  },
  {
   "cell_type": "code",
   "execution_count": 146,
   "metadata": {
    "collapsed": false
   },
   "outputs": [
    {
     "data": {
      "text/html": [
       "<table>\n",
       "<thead><tr><th></th><th scope=col>date</th><th scope=col>total</th><th scope=col>air1</th><th scope=col>bathroom1</th><th scope=col>bedroom1</th><th scope=col>car1</th><th scope=col>clotheswasher1</th><th scope=col>dishwasher1</th><th scope=col>disposal1</th><th scope=col>drye1</th><th scope=col>furnace1</th><th scope=col>gen</th><th scope=col>kitchenapp1</th><th scope=col>kitchenapp2</th><th scope=col>livingroom1</th><th scope=col>microwave1</th><th scope=col>refrigerator1</th><th scope=col>unknown1</th><th scope=col>unknown2</th><th scope=col>Temperature</th></tr></thead>\n",
       "<tbody>\n",
       "\t<tr><th scope=row>1</th><td>2012-05-03 17:00:00</td><td>1.6285</td><td>0.6975</td><td>NA</td><td>NA</td><td>NA</td><td>NA</td><td>NA</td><td>NA</td><td>0</td><td>NA</td><td>0.0925</td><td>NA</td><td>NA</td><td>NA</td><td>NA</td><td>NA</td><td>0</td><td>0</td><td>90.71783</td></tr>\n",
       "\t<tr><th scope=row>2</th><td>2012-05-03 18:00:00</td><td>NA</td><td>0.642</td><td>NA</td><td>NA</td><td>NA</td><td>NA</td><td>NA</td><td>NA</td><td>0</td><td>NA</td><td>-0.006</td><td>NA</td><td>NA</td><td>NA</td><td>NA</td><td>NA</td><td>0</td><td>0.0015</td><td>88.91567</td></tr>\n",
       "\t<tr><th scope=row>3</th><td>2012-05-03 19:00:00</td><td>3.7605</td><td>0.4185</td><td>NA</td><td>NA</td><td>NA</td><td>NA</td><td>NA</td><td>NA</td><td>0</td><td>NA</td><td>-0.0025</td><td>NA</td><td>NA</td><td>NA</td><td>NA</td><td>NA</td><td>0</td><td>0</td><td>87.43533</td></tr>\n",
       "\t<tr><th scope=row>4</th><td>2012-05-03 20:00:00</td><td>1.5435</td><td>0.4935</td><td>NA</td><td>NA</td><td>NA</td><td>NA</td><td>NA</td><td>NA</td><td>0</td><td>NA</td><td>-0.003</td><td>NA</td><td>NA</td><td>NA</td><td>NA</td><td>NA</td><td>0</td><td>0</td><td>85.22833</td></tr>\n",
       "\t<tr><th scope=row>5</th><td>2012-05-03 21:00:00</td><td>0.641</td><td>0.256</td><td>NA</td><td>NA</td><td>NA</td><td>NA</td><td>NA</td><td>NA</td><td>0</td><td>NA</td><td>-0.002</td><td>NA</td><td>NA</td><td>NA</td><td>NA</td><td>NA</td><td>0</td><td>0</td><td>82.51533</td></tr>\n",
       "\t<tr><th scope=row>6</th><td>2012-05-03 22:00:00</td><td>0.4475</td><td>0.1955</td><td>NA</td><td>NA</td><td>NA</td><td>NA</td><td>NA</td><td>NA</td><td>0</td><td>NA</td><td>-0.002</td><td>NA</td><td>NA</td><td>NA</td><td>NA</td><td>NA</td><td>0</td><td>0</td><td>80.3595</td></tr>\n",
       "</tbody>\n",
       "</table>\n"
      ],
      "text/latex": [
       "\\begin{tabular}{r|llllllllllllllllllll}\n",
       "  & date & total & air1 & bathroom1 & bedroom1 & car1 & clotheswasher1 & dishwasher1 & disposal1 & drye1 & furnace1 & gen & kitchenapp1 & kitchenapp2 & livingroom1 & microwave1 & refrigerator1 & unknown1 & unknown2 & Temperature\\\\\n",
       "\\hline\n",
       "\t1 & 2012-05-03 17:00:00 & 1.6285 & 0.6975 & NA & NA & NA & NA & NA & NA & 0 & NA & 0.0925 & NA & NA & NA & NA & NA & 0 & 0 & 90.71783\\\\\n",
       "\t2 & 2012-05-03 18:00:00 & NA & 0.642 & NA & NA & NA & NA & NA & NA & 0 & NA & -0.006 & NA & NA & NA & NA & NA & 0 & 0.0015 & 88.91567\\\\\n",
       "\t3 & 2012-05-03 19:00:00 & 3.7605 & 0.4185 & NA & NA & NA & NA & NA & NA & 0 & NA & -0.0025 & NA & NA & NA & NA & NA & 0 & 0 & 87.43533\\\\\n",
       "\t4 & 2012-05-03 20:00:00 & 1.5435 & 0.4935 & NA & NA & NA & NA & NA & NA & 0 & NA & -0.003 & NA & NA & NA & NA & NA & 0 & 0 & 85.22833\\\\\n",
       "\t5 & 2012-05-03 21:00:00 & 0.641 & 0.256 & NA & NA & NA & NA & NA & NA & 0 & NA & -0.002 & NA & NA & NA & NA & NA & 0 & 0 & 82.51533\\\\\n",
       "\t6 & 2012-05-03 22:00:00 & 0.4475 & 0.1955 & NA & NA & NA & NA & NA & NA & 0 & NA & -0.002 & NA & NA & NA & NA & NA & 0 & 0 & 80.3595\\\\\n",
       "\\end{tabular}\n"
      ],
      "text/plain": [
       "                 date  total   air1 bathroom1 bedroom1 car1 clotheswasher1\n",
       "1 2012-05-03 17:00:00 1.6285 0.6975        NA       NA   NA             NA\n",
       "2 2012-05-03 18:00:00     NA 0.6420        NA       NA   NA             NA\n",
       "3 2012-05-03 19:00:00 3.7605 0.4185        NA       NA   NA             NA\n",
       "4 2012-05-03 20:00:00 1.5435 0.4935        NA       NA   NA             NA\n",
       "5 2012-05-03 21:00:00 0.6410 0.2560        NA       NA   NA             NA\n",
       "6 2012-05-03 22:00:00 0.4475 0.1955        NA       NA   NA             NA\n",
       "  dishwasher1 disposal1 drye1 furnace1     gen kitchenapp1 kitchenapp2\n",
       "1          NA        NA     0       NA  0.0925          NA          NA\n",
       "2          NA        NA     0       NA -0.0060          NA          NA\n",
       "3          NA        NA     0       NA -0.0025          NA          NA\n",
       "4          NA        NA     0       NA -0.0030          NA          NA\n",
       "5          NA        NA     0       NA -0.0020          NA          NA\n",
       "6          NA        NA     0       NA -0.0020          NA          NA\n",
       "  livingroom1 microwave1 refrigerator1 unknown1 unknown2 Temperature\n",
       "1          NA         NA            NA        0   0.0000    90.71783\n",
       "2          NA         NA            NA        0   0.0015    88.91567\n",
       "3          NA         NA            NA        0   0.0000    87.43533\n",
       "4          NA         NA            NA        0   0.0000    85.22833\n",
       "5          NA         NA            NA        0   0.0000    82.51533\n",
       "6          NA         NA            NA        0   0.0000    80.35950"
      ]
     },
     "execution_count": 146,
     "metadata": {},
     "output_type": "execute_result"
    }
   ],
   "source": [
    "head(data[['6836']])"
   ]
  },
  {
   "cell_type": "code",
   "execution_count": 147,
   "metadata": {
    "collapsed": true
   },
   "outputs": [],
   "source": [
    "cur_data = to_categories(data_60)"
   ]
  },
  {
   "cell_type": "code",
   "execution_count": 148,
   "metadata": {
    "collapsed": false
   },
   "outputs": [
    {
     "data": {
      "text/html": [
       "<table>\n",
       "<thead><tr><th></th><th scope=col>date</th><th scope=col>total</th><th scope=col>C</th><th scope=col>user</th></tr></thead>\n",
       "<tbody>\n",
       "\t<tr><th scope=row>1</th><td>2012-05-03 17:00:00</td><td>1.6285</td><td>0.6975</td><td>0.931</td></tr>\n",
       "\t<tr><th scope=row>2</th><td>2012-05-03 18:00:00</td><td>NA</td><td>0.642</td><td>-0.642</td></tr>\n",
       "\t<tr><th scope=row>3</th><td>2012-05-03 19:00:00</td><td>3.7605</td><td>0.4185</td><td>3.342</td></tr>\n",
       "\t<tr><th scope=row>4</th><td>2012-05-03 20:00:00</td><td>1.5435</td><td>0.4935</td><td>1.05</td></tr>\n",
       "\t<tr><th scope=row>5</th><td>2012-05-03 21:00:00</td><td>0.641</td><td>0.256</td><td>0.385</td></tr>\n",
       "\t<tr><th scope=row>6</th><td>2012-05-03 22:00:00</td><td>0.4475</td><td>0.1955</td><td>0.252</td></tr>\n",
       "</tbody>\n",
       "</table>\n"
      ],
      "text/latex": [
       "\\begin{tabular}{r|llll}\n",
       "  & date & total & C & user\\\\\n",
       "\\hline\n",
       "\t1 & 2012-05-03 17:00:00 & 1.6285 & 0.6975 & 0.931\\\\\n",
       "\t2 & 2012-05-03 18:00:00 & NA & 0.642 & -0.642\\\\\n",
       "\t3 & 2012-05-03 19:00:00 & 3.7605 & 0.4185 & 3.342\\\\\n",
       "\t4 & 2012-05-03 20:00:00 & 1.5435 & 0.4935 & 1.05\\\\\n",
       "\t5 & 2012-05-03 21:00:00 & 0.641 & 0.256 & 0.385\\\\\n",
       "\t6 & 2012-05-03 22:00:00 & 0.4475 & 0.1955 & 0.252\\\\\n",
       "\\end{tabular}\n"
      ],
      "text/plain": [
       "                 date  total      C   user\n",
       "1 2012-05-03 17:00:00 1.6285 0.6975  0.931\n",
       "2 2012-05-03 18:00:00     NA 0.6420 -0.642\n",
       "3 2012-05-03 19:00:00 3.7605 0.4185  3.342\n",
       "4 2012-05-03 20:00:00 1.5435 0.4935  1.050\n",
       "5 2012-05-03 21:00:00 0.6410 0.2560  0.385\n",
       "6 2012-05-03 22:00:00 0.4475 0.1955  0.252"
      ]
     },
     "execution_count": 148,
     "metadata": {},
     "output_type": "execute_result"
    }
   ],
   "source": [
    "head(cur_data)"
   ]
  },
  {
   "cell_type": "code",
   "execution_count": null,
   "metadata": {
    "collapsed": true
   },
   "outputs": [],
   "source": []
  }
 ],
 "metadata": {
  "kernelspec": {
   "display_name": "R",
   "language": "",
   "name": "ir"
  },
  "language_info": {
   "codemirror_mode": "r",
   "file_extension": ".r",
   "mimetype": "text/x-r-source",
   "name": "R",
   "pygments_lexer": "r",
   "version": "3.2.2"
  }
 },
 "nbformat": 4,
 "nbformat_minor": 0
}
