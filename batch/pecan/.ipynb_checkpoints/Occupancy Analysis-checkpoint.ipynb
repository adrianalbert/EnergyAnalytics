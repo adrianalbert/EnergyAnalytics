{
 "cells": [
  {
   "cell_type": "code",
   "execution_count": 1,
   "metadata": {
    "collapsed": false
   },
   "outputs": [
    {
     "name": "stderr",
     "output_type": "stream",
     "text": [
      "\n",
      "Attaching package: ‘zoo’\n",
      "\n",
      "The following objects are masked from ‘package:base’:\n",
      "\n",
      "    as.Date, as.Date.numeric\n",
      "\n",
      "Loading required package: xts\n",
      "\n",
      "Attaching package: ‘PerformanceAnalytics’\n",
      "\n",
      "The following object is masked from ‘package:graphics’:\n",
      "\n",
      "    legend\n",
      "\n",
      "Loading required package: spam\n",
      "Loading required package: grid\n",
      "Spam version 1.0-1 (2014-09-09) is loaded.\n",
      "Type 'help( Spam)' or 'demo( spam)' for a short introduction \n",
      "and overview of this package.\n",
      "Help for individual functions is also obtained by adding the\n",
      "suffix '.spam' to the function name, e.g. 'help( chol.spam)'.\n",
      "\n",
      "Attaching package: ‘spam’\n",
      "\n",
      "The following objects are masked from ‘package:base’:\n",
      "\n",
      "    backsolve, forwardsolve\n",
      "\n",
      "Loading required package: maps\n",
      "\n",
      "Attaching package: ‘gplots’\n",
      "\n",
      "The following object is masked from ‘package:PerformanceAnalytics’:\n",
      "\n",
      "    textplot\n",
      "\n",
      "The following object is masked from ‘package:stats’:\n",
      "\n",
      "    lowess\n",
      "\n",
      "Loading required package: caret\n",
      "Loading required package: lattice\n"
     ]
    }
   ],
   "source": [
    "options(error = recover)\n",
    "library('segmented')\n",
    "library('lubridate')\n",
    "library('ggplot2')\n",
    "library(zoo)\n",
    "library('reshape2')\n",
    "library('PerformanceAnalytics')\n",
    "library('RColorBrewer')\n",
    "library('pracma')\n",
    "library('fields')\n",
    "library(gplots)\n",
    "require('caret')\n"
   ]
  },
  {
   "cell_type": "code",
   "execution_count": 2,
   "metadata": {
    "collapsed": true
   },
   "outputs": [],
   "source": [
    "setwd(\"~/EnergyAnalytics/thermal_profiles/\")"
   ]
  },
  {
   "cell_type": "code",
   "execution_count": 3,
   "metadata": {
    "collapsed": true
   },
   "outputs": [],
   "source": [
    "DATA_PATH = '~/S3L_server/energy-data/pecan_street/usage-select/'\n",
    "DUMP_PATH = '~/S3L_server/energy-data/pecan_street/models_2/'\n",
    "PLOT_PATH = '~/S3L_server/plots/pecan-street-2/'\n",
    "MODEL_PATH= '~/S3L_server/energy-data/pecan_street/models_2/'"
   ]
  },
  {
   "cell_type": "markdown",
   "metadata": {},
   "source": [
    "##Gather relevant data"
   ]
  },
  {
   "cell_type": "code",
   "execution_count": 4,
   "metadata": {
    "collapsed": false
   },
   "outputs": [],
   "source": [
    "# load user names\n",
    "user_names = read.csv('~/S3L_server/energy-data/pecan_street/metadata/user_names_ids.csv')\n",
    "user_names$X = NULL\n",
    "\n",
    "# list all data files\n",
    "files    = list.files(path=DATA_PATH, full.names = T, recursive = T)\n",
    "files    = files[grep('60min',files)]\n",
    "\n",
    "# extract ID\n",
    "users_df = data.frame(UID = as.character(sapply(files, function(s) strsplit(tail(strsplit(s, '/')[[1]], 1), '\\\\.')[[1]][1])))\n",
    "rownames(users_df) = NULL\n",
    "    \n",
    "# build original data sources dataframe\n",
    "users_df = merge(users_df, user_names, by.x=\"UID\", by.y=\"ID\")\n",
    "users_df['file'] = files"
   ]
  },
  {
   "cell_type": "code",
   "execution_count": 5,
   "metadata": {
    "collapsed": false
   },
   "outputs": [
    {
     "data": {
      "text/html": [
       "<table>\n",
       "<thead><tr><th></th><th scope=col>UID</th><th scope=col>name</th><th scope=col>file</th></tr></thead>\n",
       "<tbody>\n",
       "\t<tr><th scope=row>1</th><td>1069</td><td>Edd</td><td>/Users/adrianalbert/S3L_server/energy-data/pecan_street/usage-select//60min/1069.csv</td></tr>\n",
       "\t<tr><th scope=row>2</th><td>1086</td><td>Emery</td><td>/Users/adrianalbert/S3L_server/energy-data/pecan_street/usage-select//60min/1086.csv</td></tr>\n",
       "\t<tr><th scope=row>3</th><td>1105</td><td>Grant</td><td>/Users/adrianalbert/S3L_server/energy-data/pecan_street/usage-select//60min/1105.csv</td></tr>\n",
       "\t<tr><th scope=row>4</th><td>114</td><td>James</td><td>/Users/adrianalbert/S3L_server/energy-data/pecan_street/usage-select//60min/114.csv</td></tr>\n",
       "\t<tr><th scope=row>5</th><td>1167</td><td>Jerome</td><td>/Users/adrianalbert/S3L_server/energy-data/pecan_street/usage-select//60min/1167.csv</td></tr>\n",
       "\t<tr><th scope=row>6</th><td>1169</td><td>George</td><td>/Users/adrianalbert/S3L_server/energy-data/pecan_street/usage-select//60min/1169.csv</td></tr>\n",
       "</tbody>\n",
       "</table>\n"
      ],
      "text/latex": [
       "\\begin{tabular}{r|lll}\n",
       "  & UID & name & file\\\\\n",
       "\\hline\n",
       "\t1 & 1069 & Edd & /Users/adrianalbert/S3L_server/energy-data/pecan_street/usage-select//60min/1069.csv\\\\\n",
       "\t2 & 1086 & Emery & /Users/adrianalbert/S3L_server/energy-data/pecan_street/usage-select//60min/1086.csv\\\\\n",
       "\t3 & 1105 & Grant & /Users/adrianalbert/S3L_server/energy-data/pecan_street/usage-select//60min/1105.csv\\\\\n",
       "\t4 & 114 & James & /Users/adrianalbert/S3L_server/energy-data/pecan_street/usage-select//60min/114.csv\\\\\n",
       "\t5 & 1167 & Jerome & /Users/adrianalbert/S3L_server/energy-data/pecan_street/usage-select//60min/1167.csv\\\\\n",
       "\t6 & 1169 & George & /Users/adrianalbert/S3L_server/energy-data/pecan_street/usage-select//60min/1169.csv\\\\\n",
       "\\end{tabular}\n"
      ],
      "text/plain": [
       "   UID   name\n",
       "1 1069    Edd\n",
       "2 1086  Emery\n",
       "3 1105  Grant\n",
       "4  114  James\n",
       "5 1167 Jerome\n",
       "6 1169 George\n",
       "                                                                                  file\n",
       "1 /Users/adrianalbert/S3L_server/energy-data/pecan_street/usage-select//60min/1069.csv\n",
       "2 /Users/adrianalbert/S3L_server/energy-data/pecan_street/usage-select//60min/1086.csv\n",
       "3 /Users/adrianalbert/S3L_server/energy-data/pecan_street/usage-select//60min/1105.csv\n",
       "4  /Users/adrianalbert/S3L_server/energy-data/pecan_street/usage-select//60min/114.csv\n",
       "5 /Users/adrianalbert/S3L_server/energy-data/pecan_street/usage-select//60min/1167.csv\n",
       "6 /Users/adrianalbert/S3L_server/energy-data/pecan_street/usage-select//60min/1169.csv"
      ]
     },
     "execution_count": 5,
     "metadata": {},
     "output_type": "execute_result"
    }
   ],
   "source": [
    "head(users_df)"
   ]
  },
  {
   "cell_type": "code",
   "execution_count": 6,
   "metadata": {
    "collapsed": false
   },
   "outputs": [],
   "source": [
    "# models \n",
    "files_dec = list.files(path=MODEL_PATH, pattern=\"*decoded\", full.names = T, recursive = T)\n",
    "f_dum = function(x) {\n",
    "    tmp = tail(strsplit(x, '/')[[1]],n=2)\n",
    "    res = tmp[1]\n",
    "    nfo = strsplit(tmp[2], \"_\")[[1]]\n",
    "    uid = nfo[1]; name = nfo[2]; \n",
    "    return(c(uid,name,res,x))\n",
    "}\n",
    "model_paths_dec = data.frame(do.call('rbind', lapply(files_dec, f_dum)))\n",
    "\n",
    "if (length(model_paths_dec)>0) names(model_paths_dec) <- c(\"UID\", \"name\", \"grain\", \"file_model\")"
   ]
  },
  {
   "cell_type": "code",
   "execution_count": 7,
   "metadata": {
    "collapsed": false
   },
   "outputs": [],
   "source": [
    "model_paths_dec = subset(model_paths_dec, grain==\"60min\")"
   ]
  },
  {
   "cell_type": "code",
   "execution_count": 8,
   "metadata": {
    "collapsed": false
   },
   "outputs": [
    {
     "data": {
      "text/html": [
       "<table>\n",
       "<thead><tr><th></th><th scope=col>UID</th><th scope=col>name</th><th scope=col>grain</th><th scope=col>file_model</th></tr></thead>\n",
       "<tbody>\n",
       "\t<tr><th scope=row>1</th><td>1069</td><td>Edd</td><td>60min</td><td>/Users/adrianalbert/S3L_server/energy-data/pecan_street/models_2//1069_Edd/60min/1069_Edd_decoded.RData</td></tr>\n",
       "\t<tr><th scope=row>2</th><td>1086</td><td>Emery</td><td>60min</td><td>/Users/adrianalbert/S3L_server/energy-data/pecan_street/models_2//1086_Emery/60min/1086_Emery_decoded.RData</td></tr>\n",
       "\t<tr><th scope=row>3</th><td>1105</td><td>Grant</td><td>60min</td><td>/Users/adrianalbert/S3L_server/energy-data/pecan_street/models_2//1105_Grant/60min/1105_Grant_decoded.RData</td></tr>\n",
       "\t<tr><th scope=row>4</th><td>114</td><td>James</td><td>60min</td><td>/Users/adrianalbert/S3L_server/energy-data/pecan_street/models_2//114_James/60min/114_James_decoded.RData</td></tr>\n",
       "\t<tr><th scope=row>5</th><td>1167</td><td>Jerome</td><td>60min</td><td>/Users/adrianalbert/S3L_server/energy-data/pecan_street/models_2//1167_Jerome/60min/1167_Jerome_decoded.RData</td></tr>\n",
       "\t<tr><th scope=row>6</th><td>1169</td><td>George</td><td>60min</td><td>/Users/adrianalbert/S3L_server/energy-data/pecan_street/models_2//1169_George/60min/1169_George_decoded.RData</td></tr>\n",
       "</tbody>\n",
       "</table>\n"
      ],
      "text/latex": [
       "\\begin{tabular}{r|llll}\n",
       "  & UID & name & grain & file_model\\\\\n",
       "\\hline\n",
       "\t1 & 1069 & Edd & 60min & /Users/adrianalbert/S3L_server/energy-data/pecan_street/models_2//1069_Edd/60min/1069_Edd_decoded.RData\\\\\n",
       "\t2 & 1086 & Emery & 60min & /Users/adrianalbert/S3L_server/energy-data/pecan_street/models_2//1086_Emery/60min/1086_Emery_decoded.RData\\\\\n",
       "\t3 & 1105 & Grant & 60min & /Users/adrianalbert/S3L_server/energy-data/pecan_street/models_2//1105_Grant/60min/1105_Grant_decoded.RData\\\\\n",
       "\t4 & 114 & James & 60min & /Users/adrianalbert/S3L_server/energy-data/pecan_street/models_2//114_James/60min/114_James_decoded.RData\\\\\n",
       "\t5 & 1167 & Jerome & 60min & /Users/adrianalbert/S3L_server/energy-data/pecan_street/models_2//1167_Jerome/60min/1167_Jerome_decoded.RData\\\\\n",
       "\t6 & 1169 & George & 60min & /Users/adrianalbert/S3L_server/energy-data/pecan_street/models_2//1169_George/60min/1169_George_decoded.RData\\\\\n",
       "\\end{tabular}\n"
      ],
      "text/plain": [
       "   UID   name grain\n",
       "1 1069    Edd 60min\n",
       "2 1086  Emery 60min\n",
       "3 1105  Grant 60min\n",
       "4  114  James 60min\n",
       "5 1167 Jerome 60min\n",
       "6 1169 George 60min\n",
       "                                                                                                     file_model\n",
       "1       /Users/adrianalbert/S3L_server/energy-data/pecan_street/models_2//1069_Edd/60min/1069_Edd_decoded.RData\n",
       "2   /Users/adrianalbert/S3L_server/energy-data/pecan_street/models_2//1086_Emery/60min/1086_Emery_decoded.RData\n",
       "3   /Users/adrianalbert/S3L_server/energy-data/pecan_street/models_2//1105_Grant/60min/1105_Grant_decoded.RData\n",
       "4     /Users/adrianalbert/S3L_server/energy-data/pecan_street/models_2//114_James/60min/114_James_decoded.RData\n",
       "5 /Users/adrianalbert/S3L_server/energy-data/pecan_street/models_2//1167_Jerome/60min/1167_Jerome_decoded.RData\n",
       "6 /Users/adrianalbert/S3L_server/energy-data/pecan_street/models_2//1169_George/60min/1169_George_decoded.RData"
      ]
     },
     "execution_count": 8,
     "metadata": {},
     "output_type": "execute_result"
    }
   ],
   "source": [
    "head(model_paths_dec)"
   ]
  },
  {
   "cell_type": "code",
   "execution_count": 9,
   "metadata": {
    "collapsed": false
   },
   "outputs": [],
   "source": [
    "files_info = merge(model_paths_dec, users_df, by=c(\"UID\", \"name\"))"
   ]
  },
  {
   "cell_type": "code",
   "execution_count": 10,
   "metadata": {
    "collapsed": false
   },
   "outputs": [
    {
     "data": {
      "text/html": [
       "<ol class=list-inline>\n",
       "\t<li>301</li>\n",
       "\t<li>5</li>\n",
       "</ol>\n"
      ],
      "text/latex": [
       "\\begin{enumerate*}\n",
       "\\item 301\n",
       "\\item 5\n",
       "\\end{enumerate*}\n"
      ],
      "text/markdown": [
       "1. 301\n",
       "2. 5\n",
       "\n",
       "\n"
      ],
      "text/plain": [
       "[1] 301   5"
      ]
     },
     "execution_count": 10,
     "metadata": {},
     "output_type": "execute_result"
    }
   ],
   "source": [
    "dim(files_info)"
   ]
  },
  {
   "cell_type": "code",
   "execution_count": 11,
   "metadata": {
    "collapsed": false
   },
   "outputs": [
    {
     "data": {
      "text/html": [
       "<table>\n",
       "<thead><tr><th></th><th scope=col>UID</th><th scope=col>name</th><th scope=col>grain</th><th scope=col>file_model</th><th scope=col>file</th></tr></thead>\n",
       "<tbody>\n",
       "\t<tr><th scope=row>1</th><td>1069</td><td>Edd</td><td>60min</td><td>/Users/adrianalbert/S3L_server/energy-data/pecan_street/models_2//1069_Edd/60min/1069_Edd_decoded.RData</td><td>/Users/adrianalbert/S3L_server/energy-data/pecan_street/usage-select//60min/1069.csv</td></tr>\n",
       "\t<tr><th scope=row>2</th><td>1086</td><td>Emery</td><td>60min</td><td>/Users/adrianalbert/S3L_server/energy-data/pecan_street/models_2//1086_Emery/60min/1086_Emery_decoded.RData</td><td>/Users/adrianalbert/S3L_server/energy-data/pecan_street/usage-select//60min/1086.csv</td></tr>\n",
       "\t<tr><th scope=row>3</th><td>1105</td><td>Grant</td><td>60min</td><td>/Users/adrianalbert/S3L_server/energy-data/pecan_street/models_2//1105_Grant/60min/1105_Grant_decoded.RData</td><td>/Users/adrianalbert/S3L_server/energy-data/pecan_street/usage-select//60min/1105.csv</td></tr>\n",
       "\t<tr><th scope=row>4</th><td>114</td><td>James</td><td>60min</td><td>/Users/adrianalbert/S3L_server/energy-data/pecan_street/models_2//114_James/60min/114_James_decoded.RData</td><td>/Users/adrianalbert/S3L_server/energy-data/pecan_street/usage-select//60min/114.csv</td></tr>\n",
       "\t<tr><th scope=row>5</th><td>1167</td><td>Jerome</td><td>60min</td><td>/Users/adrianalbert/S3L_server/energy-data/pecan_street/models_2//1167_Jerome/60min/1167_Jerome_decoded.RData</td><td>/Users/adrianalbert/S3L_server/energy-data/pecan_street/usage-select//60min/1167.csv</td></tr>\n",
       "\t<tr><th scope=row>6</th><td>1169</td><td>George</td><td>60min</td><td>/Users/adrianalbert/S3L_server/energy-data/pecan_street/models_2//1169_George/60min/1169_George_decoded.RData</td><td>/Users/adrianalbert/S3L_server/energy-data/pecan_street/usage-select//60min/1169.csv</td></tr>\n",
       "</tbody>\n",
       "</table>\n"
      ],
      "text/latex": [
       "\\begin{tabular}{r|lllll}\n",
       "  & UID & name & grain & file_model & file\\\\\n",
       "\\hline\n",
       "\t1 & 1069 & Edd & 60min & /Users/adrianalbert/S3L_server/energy-data/pecan_street/models_2//1069_Edd/60min/1069_Edd_decoded.RData & /Users/adrianalbert/S3L_server/energy-data/pecan_street/usage-select//60min/1069.csv\\\\\n",
       "\t2 & 1086 & Emery & 60min & /Users/adrianalbert/S3L_server/energy-data/pecan_street/models_2//1086_Emery/60min/1086_Emery_decoded.RData & /Users/adrianalbert/S3L_server/energy-data/pecan_street/usage-select//60min/1086.csv\\\\\n",
       "\t3 & 1105 & Grant & 60min & /Users/adrianalbert/S3L_server/energy-data/pecan_street/models_2//1105_Grant/60min/1105_Grant_decoded.RData & /Users/adrianalbert/S3L_server/energy-data/pecan_street/usage-select//60min/1105.csv\\\\\n",
       "\t4 & 114 & James & 60min & /Users/adrianalbert/S3L_server/energy-data/pecan_street/models_2//114_James/60min/114_James_decoded.RData & /Users/adrianalbert/S3L_server/energy-data/pecan_street/usage-select//60min/114.csv\\\\\n",
       "\t5 & 1167 & Jerome & 60min & /Users/adrianalbert/S3L_server/energy-data/pecan_street/models_2//1167_Jerome/60min/1167_Jerome_decoded.RData & /Users/adrianalbert/S3L_server/energy-data/pecan_street/usage-select//60min/1167.csv\\\\\n",
       "\t6 & 1169 & George & 60min & /Users/adrianalbert/S3L_server/energy-data/pecan_street/models_2//1169_George/60min/1169_George_decoded.RData & /Users/adrianalbert/S3L_server/energy-data/pecan_street/usage-select//60min/1169.csv\\\\\n",
       "\\end{tabular}\n"
      ],
      "text/plain": [
       "   UID   name grain\n",
       "1 1069    Edd 60min\n",
       "2 1086  Emery 60min\n",
       "3 1105  Grant 60min\n",
       "4  114  James 60min\n",
       "5 1167 Jerome 60min\n",
       "6 1169 George 60min\n",
       "                                                                                                     file_model\n",
       "1       /Users/adrianalbert/S3L_server/energy-data/pecan_street/models_2//1069_Edd/60min/1069_Edd_decoded.RData\n",
       "2   /Users/adrianalbert/S3L_server/energy-data/pecan_street/models_2//1086_Emery/60min/1086_Emery_decoded.RData\n",
       "3   /Users/adrianalbert/S3L_server/energy-data/pecan_street/models_2//1105_Grant/60min/1105_Grant_decoded.RData\n",
       "4     /Users/adrianalbert/S3L_server/energy-data/pecan_street/models_2//114_James/60min/114_James_decoded.RData\n",
       "5 /Users/adrianalbert/S3L_server/energy-data/pecan_street/models_2//1167_Jerome/60min/1167_Jerome_decoded.RData\n",
       "6 /Users/adrianalbert/S3L_server/energy-data/pecan_street/models_2//1169_George/60min/1169_George_decoded.RData\n",
       "                                                                                  file\n",
       "1 /Users/adrianalbert/S3L_server/energy-data/pecan_street/usage-select//60min/1069.csv\n",
       "2 /Users/adrianalbert/S3L_server/energy-data/pecan_street/usage-select//60min/1086.csv\n",
       "3 /Users/adrianalbert/S3L_server/energy-data/pecan_street/usage-select//60min/1105.csv\n",
       "4  /Users/adrianalbert/S3L_server/energy-data/pecan_street/usage-select//60min/114.csv\n",
       "5 /Users/adrianalbert/S3L_server/energy-data/pecan_street/usage-select//60min/1167.csv\n",
       "6 /Users/adrianalbert/S3L_server/energy-data/pecan_street/usage-select//60min/1169.csv"
      ]
     },
     "execution_count": 11,
     "metadata": {},
     "output_type": "execute_result"
    }
   ],
   "source": [
    "head(files_info)"
   ]
  },
  {
   "cell_type": "code",
   "execution_count": 54,
   "metadata": {
    "collapsed": true
   },
   "outputs": [],
   "source": [
    "f_load_data = function(row) {\n",
    "    # access decoded data    \n",
    "    load(as.character(as.character(row$file_model)));\n",
    "    df = data$df\n",
    "    nStates= data$nStates\n",
    "    df     = cbind(df, data$state)\n",
    "    df$TemperatureD = df$Temperature - 65\n",
    "    resp   = data$response   \n",
    "    df$TemperatureF = NULL\n",
    "    \n",
    "    # load raw data\n",
    "    df_orig = read.csv(as.character(row$file))\n",
    "    df = merge(df, df_orig, by.y=\"date\", by.x=\"timestamps\")\n",
    "    df$HVAC = 0\n",
    "    if ('C' %in% names(df)) df$HVAC = df$HVAC + df$C\n",
    "    if ('H' %in% names(df)) df$HVAC = df$HVAC + df$H        \n",
    "\n",
    "    # format model parameters for easy analysis access\n",
    "    volatility = lapply(1:nStates, function(s) { z = c(mu = 0, sd = resp$stdev[s]); names(z) = c('mu', 'sd'); z})\n",
    "    baseload   = lapply(1:nStates, function(s) { \n",
    "        this_mu = resp$means['(Intercept)', s]\n",
    "        if (class(resp$stderr) == 'list') this_sd = resp$stderr[[s]]['(Intercept)'] else this_sd = resp$stderr['(Intercept)', s]\n",
    "        z = c(mu = this_mu, sd = this_sd) \n",
    "    })\n",
    "    response   = lapply(1:nStates, function(s) { \n",
    "        this_mu = resp$means['TemperatureD', s]\n",
    "        if (class(resp$stderr) == 'list') this_sd = resp$stderr[[s]]['TemperatureD'] else this_sd = resp$stderr['TemperatureD', s]\n",
    "        z = c(mu = this_mu, sd = this_sd) \n",
    "    })\n",
    "    \n",
    "    res = list(volatility = volatility, \n",
    "               baseload = baseload, \n",
    "               response = response, \n",
    "               nStates = nStates,\n",
    "               data = df)\n",
    "    gc()\n",
    "    return(res)\n",
    "}"
   ]
  },
  {
   "cell_type": "code",
   "execution_count": 55,
   "metadata": {
    "collapsed": false
   },
   "outputs": [
    {
     "name": "stdout",
     "output_type": "stream",
     "text": [
      "[1] \"100/301\"\n",
      "[1] \"200/301\"\n",
      "[1] \"300/301\"\n"
     ]
    }
   ],
   "source": [
    "# first load data\n",
    "res_lst = list()\n",
    "for (i in 1:nrow(files_info)) {\n",
    "    if (i %% 100 == 0) print(sprintf(\"%d/%d\", i, nrow(files_info)))\n",
    "    row = files_info[i,]\n",
    "    res = f_load_data(row)   \n",
    "    res_lst[[length(res_lst)+1]] = res\n",
    "}"
   ]
  },
  {
   "cell_type": "markdown",
   "metadata": {},
   "source": [
    "##HVAC/Occupancy detection"
   ]
  },
  {
   "cell_type": "code",
   "execution_count": 56,
   "metadata": {
    "collapsed": false
   },
   "outputs": [],
   "source": [
    "f_compute_performance <- function(res, theta_m, theta_t) {\n",
    "\n",
    "    # Model-derived detection decisions\n",
    "    b_ts = sapply(res$data$state, function(s) res$baseload[[s]]['mu'])\n",
    "    a_ts = abs(sapply(res$data$state, function(s) res$response[[s]]['mu']))\n",
    "    s_ts = sapply(res$data$state, function(s) res$volatility[[s]]['sd'])\n",
    "    model_occ = sapply(s_ts / min(sapply(1:length(res$volatility), function(s) res$volatility[[s]]['sd'])),\n",
    "        function(x) if (x>theta_m) return(\"Home\") else return(\"Away\"))\n",
    "    model_res = sapply(a_ts / min(abs(sapply(1:length(res$response), function(s) res$response[[s]]['mu']))),\n",
    "        function(x) if (x>theta_m) return(\"HVAC on\") else return(\"HVAC off\"))\n",
    "\n",
    "    #  Ground-truth derived detection decisions\n",
    "    if ('user' %in% names(res$data)) user_kwh = res$data$user else user_kwh = rep(0, nrow(res$data)) #res$data$nonHVAC\n",
    "    \n",
    "    q_occ    = quantile(user_kwh, theta_t, na.rm=T) \n",
    "    true_occ = sapply(user_kwh, function(x) if (is.na(x)) return(NA) else \n",
    "        if (x > q_occ) return(\"Home\") else return(\"Away\"))\n",
    "    q_res    = quantile(res$data$HVAC, theta_t, na.rm=T)\n",
    "    true_res = sapply(res$data$HVAC, function(x) if (is.na(x)) return(NA) else \n",
    "        if (x > q_res) return(\"HVAC on\") else return(\"HVAC off\"))\n",
    "\n",
    "    conf_res <- confusionMatrix(factor(model_res, levels=c(\"HVAC off\", \"HVAC on\")), factor(true_res, levels=c(\"HVAC off\", \"HVAC on\")))$byClass\n",
    "    conf_occ <- confusionMatrix(factor(model_occ, levels=c(\"Away\", \"Home\")), factor(true_occ, levels=c(\"Away\", \"Home\")))$byClass\n",
    "        \n",
    "    # performance metrics\n",
    "    acc_res <- conf_res[['Balanced Accuracy']]\n",
    "    acc_occ <- conf_occ[['Balanced Accuracy']]\n",
    "        \n",
    "    # two-way agreement accuracy\n",
    "    occ_names = c(\"Away\", \"Home\"); res_names = c(\"HVAC off\", \"HVAC on\")\n",
    "    tab = matrix(0,nrow=2, ncol=2); colnames(tab) = occ_names; rownames(tab) = res_names; \n",
    "    tab_model = matrix(0,nrow=2, ncol=2); colnames(tab_model) = occ_names; rownames(tab_model) = res_names; \n",
    "    tab_truth = matrix(0,nrow=2, ncol=2); colnames(tab_truth) = occ_names; rownames(tab_truth) = res_names; \n",
    "    for (v1 in res_names)\n",
    "        for (v2 in occ_names) {\n",
    "            i1 = sum((model_res == v1) & (model_occ == v2) & (true_res == v1) & (true_occ == v2))\n",
    "            i2 = sum((true_res == v1) & (true_occ == v2))\n",
    "            tab[v1,v2] = i1/i2\n",
    "            tab_model[v1,v2] = sum((model_res == v1) & (model_occ == v2)) / length(model_res)\n",
    "            tab_truth[v1,v2] = sum((true_res == v1) & (true_occ == v2)) / length(true_res)\n",
    "        }\n",
    "        \n",
    "    return(list(accuracy=c(hvac=acc_res, occup=acc_occ), model=round(tab_model, digits=2), true=round(tab_truth, digits=2), match=round(tab, digits=2)))\n",
    "}"
   ]
  },
  {
   "cell_type": "markdown",
   "metadata": {},
   "source": [
    "Sensitivity analysis"
   ]
  },
  {
   "cell_type": "code",
   "execution_count": 57,
   "metadata": {
    "collapsed": false
   },
   "outputs": [
    {
     "name": "stdout",
     "output_type": "stream",
     "text": [
      "[1] \"theta_m=1, theta_p=0.100\"\n",
      "[1] \"theta_m=1, theta_p=0.150\"\n",
      "[1] \"theta_m=1, theta_p=0.200\"\n",
      "[1] \"theta_m=1, theta_p=0.250\"\n",
      "[1] \"theta_m=1, theta_p=0.300\"\n",
      "[1] \"theta_m=1, theta_p=0.350\"\n",
      "[1] \"theta_m=1, theta_p=0.400\"\n",
      "[1] \"theta_m=1, theta_p=0.450\"\n",
      "[1] \"theta_m=1, theta_p=0.500\"\n",
      "[1] \"theta_m=1, theta_p=0.550\"\n",
      "[1] \"theta_m=1, theta_p=0.600\"\n",
      "[1] \"theta_m=1, theta_p=0.650\"\n",
      "[1] \"theta_m=1, theta_p=0.700\"\n",
      "[1] \"theta_m=1, theta_p=0.750\"\n",
      "[1] \"theta_m=2, theta_p=0.100\"\n",
      "[1] \"theta_m=2, theta_p=0.150\"\n",
      "[1] \"theta_m=2, theta_p=0.200\"\n",
      "[1] \"theta_m=2, theta_p=0.250\"\n",
      "[1] \"theta_m=2, theta_p=0.300\"\n",
      "[1] \"theta_m=2, theta_p=0.350\"\n",
      "[1] \"theta_m=2, theta_p=0.400\"\n",
      "[1] \"theta_m=2, theta_p=0.450\"\n",
      "[1] \"theta_m=2, theta_p=0.500\"\n",
      "[1] \"theta_m=2, theta_p=0.550\"\n",
      "[1] \"theta_m=2, theta_p=0.600\"\n",
      "[1] \"theta_m=2, theta_p=0.650\"\n",
      "[1] \"theta_m=2, theta_p=0.700\"\n",
      "[1] \"theta_m=2, theta_p=0.750\"\n",
      "[1] \"theta_m=3, theta_p=0.100\"\n",
      "[1] \"theta_m=3, theta_p=0.150\"\n",
      "[1] \"theta_m=3, theta_p=0.200\"\n",
      "[1] \"theta_m=3, theta_p=0.250\"\n",
      "[1] \"theta_m=3, theta_p=0.300\"\n",
      "[1] \"theta_m=3, theta_p=0.350\"\n",
      "[1] \"theta_m=3, theta_p=0.400\"\n",
      "[1] \"theta_m=3, theta_p=0.450\"\n",
      "[1] \"theta_m=3, theta_p=0.500\"\n",
      "[1] \"theta_m=3, theta_p=0.550\"\n",
      "[1] \"theta_m=3, theta_p=0.600\"\n",
      "[1] \"theta_m=3, theta_p=0.650\"\n",
      "[1] \"theta_m=3, theta_p=0.700\"\n",
      "[1] \"theta_m=3, theta_p=0.750\"\n",
      "[1] \"theta_m=4, theta_p=0.100\"\n",
      "[1] \"theta_m=4, theta_p=0.150\"\n",
      "[1] \"theta_m=4, theta_p=0.200\"\n",
      "[1] \"theta_m=4, theta_p=0.250\"\n",
      "[1] \"theta_m=4, theta_p=0.300\"\n",
      "[1] \"theta_m=4, theta_p=0.350\"\n",
      "[1] \"theta_m=4, theta_p=0.400\"\n",
      "[1] \"theta_m=4, theta_p=0.450\"\n",
      "[1] \"theta_m=4, theta_p=0.500\"\n",
      "[1] \"theta_m=4, theta_p=0.550\"\n",
      "[1] \"theta_m=4, theta_p=0.600\"\n",
      "[1] \"theta_m=4, theta_p=0.650\"\n",
      "[1] \"theta_m=4, theta_p=0.700\"\n",
      "[1] \"theta_m=4, theta_p=0.750\"\n",
      "[1] \"theta_m=5, theta_p=0.100\"\n",
      "[1] \"theta_m=5, theta_p=0.150\"\n",
      "[1] \"theta_m=5, theta_p=0.200\"\n",
      "[1] \"theta_m=5, theta_p=0.250\"\n",
      "[1] \"theta_m=5, theta_p=0.300\"\n",
      "[1] \"theta_m=5, theta_p=0.350\"\n",
      "[1] \"theta_m=5, theta_p=0.400\"\n",
      "[1] \"theta_m=5, theta_p=0.450\"\n",
      "[1] \"theta_m=5, theta_p=0.500\"\n",
      "[1] \"theta_m=5, theta_p=0.550\"\n",
      "[1] \"theta_m=5, theta_p=0.600\"\n",
      "[1] \"theta_m=5, theta_p=0.650\"\n",
      "[1] \"theta_m=5, theta_p=0.700\"\n",
      "[1] \"theta_m=5, theta_p=0.750\"\n"
     ]
    }
   ],
   "source": [
    "# Vary theta_m and theta_p\n",
    "accuracy_lst = list()\n",
    "match_lst = list()\n",
    "model_lst = list()\n",
    "truth_lst = list()\n",
    "for (theta_m in c(1, 2, 3, 4, 5)) {\n",
    "    for (theta_t in c(0.10, 0.15, 0.20, 0.25, 0.3, 0.35, 0.4, 0.45, 0.5, 0.55, 0.6, 0.65, 0.7, 0.75)) {\n",
    "        print(sprintf(\"theta_m=%d, theta_p=%2.3f\", theta_m, theta_t))\n",
    "        result = list()\n",
    "        for (res in res_lst) {\n",
    "            tmp = f_compute_performance(res, theta_m, theta_t)\n",
    "            result[[length(result)+1]] = tmp\n",
    "        }\n",
    "        names(result) <- files_info[,'name']\n",
    "            \n",
    "        # format accuracy\n",
    "        accuracy = t(sapply(result, function(x) x$accuracy))\n",
    "        accuracy = as.data.frame(accuracy)\n",
    "        accuracy$theta_m = theta_m; accuracy$theta_t = theta_t; accuracy$name = files_info[,\"name\"]\n",
    "        accuracy_lst[[length(accuracy_lst)+1]] = accuracy\n",
    "        # format true percentages\n",
    "        tab_all = t(sapply(result, function(x) x$true))\n",
    "        colnames(tab_all) = c(\"HVAC off, Away\", \"HVAC on, Away\", \"HVAC off, Home\", \"HVAC on, Home\")\n",
    "        tab_all = as.data.frame(tab_all)\n",
    "        tab_all$theta_m = theta_m; tab_all$theta_t = theta_t; tab_all$name = files_info[,'name']\n",
    "        truth_lst[[length(truth_lst)+1]] = tab_all\n",
    "        # format model percentages\n",
    "        tab_all = t(sapply(result, function(x) x$model))\n",
    "        colnames(tab_all) = c(\"HVAC off, Away\", \"HVAC on, Away\", \"HVAC off, Home\", \"HVAC on, Home\")\n",
    "        tab_all = as.data.frame(tab_all)\n",
    "        tab_all$theta_m = theta_m; tab_all$theta_t = theta_t; tab_all$name = files_info[,'name']\n",
    "        model_lst[[length(model_lst)+1]] = tab_all\n",
    "        # format match\n",
    "        tab_all = t(sapply(result, function(x) x$match))\n",
    "        colnames(tab_all) = c(\"HVAC off, Away\", \"HVAC on, Away\", \"HVAC off, Home\", \"HVAC on, Home\")\n",
    "        tab_all = as.data.frame(tab_all)\n",
    "        tab_all$theta_m = theta_m; tab_all$theta_t = theta_t; tab_all$name = files_info[,'name']\n",
    "        match_lst[[length(match_lst)+1]] = tab_all\n",
    "    }\n",
    "}\n",
    "match_df = do.call(\"rbind\", match_lst)\n",
    "accuracy_df = do.call(\"rbind\", accuracy_lst)\n",
    "truth_df = do.call(\"rbind\", truth_lst)\n",
    "model_df = do.call(\"rbind\", model_lst)\n",
    "                           "
   ]
  },
  {
   "cell_type": "code",
   "execution_count": 61,
   "metadata": {
    "collapsed": false
   },
   "outputs": [
    {
     "data": {
      "text/html": [
       "<table>\n",
       "<thead><tr><th></th><th scope=col>HVAC off, Away</th><th scope=col>HVAC on, Away</th><th scope=col>HVAC off, Home</th><th scope=col>HVAC on, Home</th><th scope=col>theta_m</th><th scope=col>theta_t</th><th scope=col>name</th></tr></thead>\n",
       "<tbody>\n",
       "\t<tr><th scope=row>Edd</th><td>0.94</td><td>0</td><td>0</td><td>0.99</td><td>1</td><td>0.1</td><td>Edd</td></tr>\n",
       "\t<tr><th scope=row>Emery</th><td>0.99</td><td>0</td><td>0</td><td>0.93</td><td>1</td><td>0.1</td><td>Emery</td></tr>\n",
       "\t<tr><th scope=row>Grant</th><td>0.94</td><td>0</td><td>0</td><td>0.98</td><td>1</td><td>0.1</td><td>Grant</td></tr>\n",
       "\t<tr><th scope=row>James</th><td>0.96</td><td>0</td><td>0</td><td>0.75</td><td>1</td><td>0.1</td><td>James</td></tr>\n",
       "\t<tr><th scope=row>Jerome</th><td>0.88</td><td>0</td><td>0</td><td>0.36</td><td>1</td><td>0.1</td><td>Jerome</td></tr>\n",
       "\t<tr><th scope=row>George</th><td>0</td><td>0.97</td><td>0.57</td><td>0.26</td><td>1</td><td>0.1</td><td>George</td></tr>\n",
       "</tbody>\n",
       "</table>\n"
      ],
      "text/latex": [
       "\\begin{tabular}{r|lllllll}\n",
       "  & HVAC off, Away & HVAC on, Away & HVAC off, Home & HVAC on, Home & theta_m & theta_t & name\\\\\n",
       "\\hline\n",
       "\tEdd & 0.94 & 0 & 0 & 0.99 & 1 & 0.1 & Edd\\\\\n",
       "\tEmery & 0.99 & 0 & 0 & 0.93 & 1 & 0.1 & Emery\\\\\n",
       "\tGrant & 0.94 & 0 & 0 & 0.98 & 1 & 0.1 & Grant\\\\\n",
       "\tJames & 0.96 & 0 & 0 & 0.75 & 1 & 0.1 & James\\\\\n",
       "\tJerome & 0.88 & 0 & 0 & 0.36 & 1 & 0.1 & Jerome\\\\\n",
       "\tGeorge & 0 & 0.97 & 0.57 & 0.26 & 1 & 0.1 & George\\\\\n",
       "\\end{tabular}\n"
      ],
      "text/plain": [
       "       HVAC off, Away HVAC on, Away HVAC off, Home HVAC on, Home theta_m\n",
       "Edd              0.94          0.00           0.00          0.99       1\n",
       "Emery            0.99          0.00           0.00          0.93       1\n",
       "Grant            0.94          0.00           0.00          0.98       1\n",
       "James            0.96          0.00           0.00          0.75       1\n",
       "Jerome           0.88          0.00           0.00          0.36       1\n",
       "George           0.00          0.97           0.57          0.26       1\n",
       "       theta_t   name\n",
       "Edd        0.1    Edd\n",
       "Emery      0.1  Emery\n",
       "Grant      0.1  Grant\n",
       "James      0.1  James\n",
       "Jerome     0.1 Jerome\n",
       "George     0.1 George"
      ]
     },
     "execution_count": 61,
     "metadata": {},
     "output_type": "execute_result"
    }
   ],
   "source": [
    "head(match_df)"
   ]
  },
  {
   "cell_type": "code",
   "execution_count": 59,
   "metadata": {
    "collapsed": false
   },
   "outputs": [
    {
     "data": {
      "text/html": [
       "<table>\n",
       "<thead><tr><th></th><th scope=col>hvac</th><th scope=col>occup</th><th scope=col>theta_m</th><th scope=col>theta_t</th><th scope=col>name</th></tr></thead>\n",
       "<tbody>\n",
       "\t<tr><th scope=row>Edd</th><td>0.8537928</td><td>0.6767307</td><td>1</td><td>0.1</td><td>Edd</td></tr>\n",
       "\t<tr><th scope=row>Emery</th><td>0.9175893</td><td>0.6588173</td><td>1</td><td>0.1</td><td>Emery</td></tr>\n",
       "\t<tr><th scope=row>Grant</th><td>0.7907188</td><td>0.7464146</td><td>1</td><td>0.1</td><td>Grant</td></tr>\n",
       "\t<tr><th scope=row>James</th><td>0.6865139</td><td>0.621925</td><td>1</td><td>0.1</td><td>James</td></tr>\n",
       "\t<tr><th scope=row>Jerome</th><td>0.3750376</td><td>0.6643962</td><td>1</td><td>0.1</td><td>Jerome</td></tr>\n",
       "\t<tr><th scope=row>George</th><td>0.429046</td><td>0.9168943</td><td>1</td><td>0.1</td><td>George</td></tr>\n",
       "</tbody>\n",
       "</table>\n"
      ],
      "text/latex": [
       "\\begin{tabular}{r|lllll}\n",
       "  & hvac & occup & theta_m & theta_t & name\\\\\n",
       "\\hline\n",
       "\tEdd & 0.8537928 & 0.6767307 & 1 & 0.1 & Edd\\\\\n",
       "\tEmery & 0.9175893 & 0.6588173 & 1 & 0.1 & Emery\\\\\n",
       "\tGrant & 0.7907188 & 0.7464146 & 1 & 0.1 & Grant\\\\\n",
       "\tJames & 0.6865139 & 0.621925 & 1 & 0.1 & James\\\\\n",
       "\tJerome & 0.3750376 & 0.6643962 & 1 & 0.1 & Jerome\\\\\n",
       "\tGeorge & 0.429046 & 0.9168943 & 1 & 0.1 & George\\\\\n",
       "\\end{tabular}\n"
      ],
      "text/plain": [
       "            hvac     occup theta_m theta_t   name\n",
       "Edd    0.8537928 0.6767307       1     0.1    Edd\n",
       "Emery  0.9175893 0.6588173       1     0.1  Emery\n",
       "Grant  0.7907188 0.7464146       1     0.1  Grant\n",
       "James  0.6865139 0.6219250       1     0.1  James\n",
       "Jerome 0.3750376 0.6643962       1     0.1 Jerome\n",
       "George 0.4290460 0.9168943       1     0.1 George"
      ]
     },
     "execution_count": 59,
     "metadata": {},
     "output_type": "execute_result"
    }
   ],
   "source": [
    "head(accuracy_df)"
   ]
  },
  {
   "cell_type": "code",
   "execution_count": 60,
   "metadata": {
    "collapsed": true
   },
   "outputs": [],
   "source": [
    "save(list=c(\"match_df\", \"match_lst\", \"accuracy_df\", \"accuracy_lst\"), \n",
    "     file=paste(MODEL_PATH, \"detection_sensitivity_analysis.RData\", sep=''))"
   ]
  },
  {
   "cell_type": "markdown",
   "metadata": {},
   "source": [
    "##Plots & analysis"
   ]
  },
  {
   "cell_type": "code",
   "execution_count": 62,
   "metadata": {
    "collapsed": true
   },
   "outputs": [],
   "source": [
    "# Standard parameter values\n",
    "theta_m0 = 2\n",
    "theta_t0 = 0.5"
   ]
  },
  {
   "cell_type": "markdown",
   "metadata": {},
   "source": [
    "Example user Nelson"
   ]
  },
  {
   "cell_type": "code",
   "execution_count": 63,
   "metadata": {
    "collapsed": false
   },
   "outputs": [
    {
     "data": {
      "text/html": [
       "<table>\n",
       "<thead><tr><th></th><th scope=col>hvac</th><th scope=col>occup</th><th scope=col>theta_m</th><th scope=col>theta_t</th><th scope=col>name</th></tr></thead>\n",
       "<tbody>\n",
       "\t<tr><th scope=row>Nelson22</th><td>0.8950406</td><td>0.8592178</td><td>2</td><td>0.5</td><td>Nelson</td></tr>\n",
       "</tbody>\n",
       "</table>\n"
      ],
      "text/latex": [
       "\\begin{tabular}{r|lllll}\n",
       "  & hvac & occup & theta_m & theta_t & name\\\\\n",
       "\\hline\n",
       "\tNelson22 & 0.8950406 & 0.8592178 & 2 & 0.5 & Nelson\\\\\n",
       "\\end{tabular}\n"
      ],
      "text/plain": [
       "              hvac     occup theta_m theta_t   name\n",
       "Nelson22 0.8950406 0.8592178       2     0.5 Nelson"
      ]
     },
     "execution_count": 63,
     "metadata": {},
     "output_type": "execute_result"
    }
   ],
   "source": [
    "subset(accuracy_df, name=='Nelson' & theta_m ==theta_m0 & theta_t==theta_t0)"
   ]
  },
  {
   "cell_type": "code",
   "execution_count": 64,
   "metadata": {
    "collapsed": false
   },
   "outputs": [
    {
     "data": {
      "text/html": [
       "<table>\n",
       "<thead><tr><th></th><th scope=col>HVAC off, Away</th><th scope=col>HVAC on, Away</th><th scope=col>HVAC off, Home</th><th scope=col>HVAC on, Home</th><th scope=col>theta_m</th><th scope=col>theta_t</th><th scope=col>name</th></tr></thead>\n",
       "<tbody>\n",
       "\t<tr><th scope=row>Nelson22</th><td>0.98</td><td>0</td><td>0</td><td>0.94</td><td>2</td><td>0.5</td><td>Nelson</td></tr>\n",
       "</tbody>\n",
       "</table>\n"
      ],
      "text/latex": [
       "\\begin{tabular}{r|lllllll}\n",
       "  & HVAC off, Away & HVAC on, Away & HVAC off, Home & HVAC on, Home & theta_m & theta_t & name\\\\\n",
       "\\hline\n",
       "\tNelson22 & 0.98 & 0 & 0 & 0.94 & 2 & 0.5 & Nelson\\\\\n",
       "\\end{tabular}\n"
      ],
      "text/plain": [
       "         HVAC off, Away HVAC on, Away HVAC off, Home HVAC on, Home theta_m\n",
       "Nelson22           0.98             0              0          0.94       2\n",
       "         theta_t   name\n",
       "Nelson22     0.5 Nelson"
      ]
     },
     "execution_count": 64,
     "metadata": {},
     "output_type": "execute_result"
    }
   ],
   "source": [
    "subset(match_df, name=='Nelson' & theta_m ==theta_m0 & theta_t==theta_t0)"
   ]
  },
  {
   "cell_type": "code",
   "execution_count": 47,
   "metadata": {
    "collapsed": false
   },
   "outputs": [
    {
     "data": {
      "text/html": [
       "<table>\n",
       "<thead><tr><th></th><th scope=col>HVAC off, Away</th><th scope=col>HVAC on, Away</th><th scope=col>HVAC off, Home</th><th scope=col>HVAC on, Home</th><th scope=col>theta_m</th><th scope=col>theta_t</th><th scope=col>name</th></tr></thead>\n",
       "<tbody>\n",
       "\t<tr><th scope=row>Nelson22</th><td>0.31</td><td>0.24</td><td>0.19</td><td>0.26</td><td>2</td><td>0.5</td><td>Nelson</td></tr>\n",
       "</tbody>\n",
       "</table>\n"
      ],
      "text/latex": [
       "\\begin{tabular}{r|lllllll}\n",
       "  & HVAC off, Away & HVAC on, Away & HVAC off, Home & HVAC on, Home & theta_m & theta_t & name\\\\\n",
       "\\hline\n",
       "\tNelson22 & 0.31 & 0.24 & 0.19 & 0.26 & 2 & 0.5 & Nelson\\\\\n",
       "\\end{tabular}\n"
      ],
      "text/plain": [
       "         HVAC off, Away HVAC on, Away HVAC off, Home HVAC on, Home theta_m\n",
       "Nelson22           0.31          0.24           0.19          0.26       2\n",
       "         theta_t   name\n",
       "Nelson22     0.5 Nelson"
      ]
     },
     "execution_count": 47,
     "metadata": {},
     "output_type": "execute_result"
    }
   ],
   "source": [
    "subset(truth_df, name=='Nelson' & theta_m ==theta_m0 & theta_t==theta_t0)"
   ]
  },
  {
   "cell_type": "code",
   "execution_count": 48,
   "metadata": {
    "collapsed": false
   },
   "outputs": [
    {
     "data": {
      "text/html": [
       "<table>\n",
       "<thead><tr><th></th><th scope=col>HVAC off, Away</th><th scope=col>HVAC on, Away</th><th scope=col>HVAC off, Home</th><th scope=col>HVAC on, Home</th><th scope=col>theta_m</th><th scope=col>theta_t</th><th scope=col>name</th></tr></thead>\n",
       "<tbody>\n",
       "\t<tr><th scope=row>Nelson22</th><td>0.36</td><td>0</td><td>0</td><td>0.64</td><td>2</td><td>0.5</td><td>Nelson</td></tr>\n",
       "</tbody>\n",
       "</table>\n"
      ],
      "text/latex": [
       "\\begin{tabular}{r|lllllll}\n",
       "  & HVAC off, Away & HVAC on, Away & HVAC off, Home & HVAC on, Home & theta_m & theta_t & name\\\\\n",
       "\\hline\n",
       "\tNelson22 & 0.36 & 0 & 0 & 0.64 & 2 & 0.5 & Nelson\\\\\n",
       "\\end{tabular}\n"
      ],
      "text/plain": [
       "         HVAC off, Away HVAC on, Away HVAC off, Home HVAC on, Home theta_m\n",
       "Nelson22           0.36             0              0          0.64       2\n",
       "         theta_t   name\n",
       "Nelson22     0.5 Nelson"
      ]
     },
     "execution_count": 48,
     "metadata": {},
     "output_type": "execute_result"
    }
   ],
   "source": [
    "subset(model_df, name=='Nelson' & theta_m ==theta_m0 & theta_t==theta_t0)"
   ]
  },
  {
   "cell_type": "markdown",
   "metadata": {},
   "source": [
    "Pick \"standard\" values for $\\theta_m$ and $\\theta_t$ and plot accuracy & match"
   ]
  },
  {
   "cell_type": "code",
   "execution_count": 90,
   "metadata": {
    "collapsed": true
   },
   "outputs": [],
   "source": [
    "f_plot_density <- function(df, xvar, c, w=NULL){\n",
    "    df[,c] = as.factor(df[,c])\n",
    "    pla = ggplot(df, aes_string(x = xvar, color = c, fill=c))\n",
    "    pla = pla + geom_density(size=2, alpha=0.2, na.rm=T, kernel=\"rectangular\")#, aes(y = ..scaled..)) \n",
    "    if (!is.null(w)) pla = pla + facet_wrap((as.formula(paste(\"~\", w))), nrow = 2, scale='free')\n",
    "    pla = pla + theme_bw() + \n",
    "    theme(panel.grid.major = element_blank(),\n",
    "          panel.grid.minor = element_blank(),\n",
    "          panel.background = element_blank(),\n",
    "          strip.text.x     = element_text(size=20),\n",
    "          axis.text.y      = element_text(size=20), \n",
    "          axis.text.x      = element_text(size=20),\n",
    "          axis.title.y     = element_text(size=20),\n",
    "          axis.title.x     = element_text(size=20),\n",
    "          legend.title     = element_text(size=20),\n",
    "          legend.text     = element_text(size=20),\n",
    "          plot.title       = element_text(size=22),   \n",
    "          axis.ticks = element_blank()) + \n",
    "    xlab(xvar) + ylab('pdf') + ggtitle(paste(xvar, \"density by\", c))  \n",
    "    return(pla)\n",
    "}"
   ]
  },
  {
   "cell_type": "code",
   "execution_count": 66,
   "metadata": {
    "collapsed": false
   },
   "outputs": [
    {
     "data": {
      "text/html": [
       "<table>\n",
       "<thead><tr><th></th><th scope=col>theta</th><th scope=col>gamma</th><th scope=col>name</th><th scope=col>variable</th><th scope=col>accuracy</th></tr></thead>\n",
       "<tbody>\n",
       "\t<tr><th scope=row>1</th><td>1</td><td>0.1</td><td>Edd</td><td>hvac</td><td>0.8537928</td></tr>\n",
       "\t<tr><th scope=row>2</th><td>1</td><td>0.1</td><td>Emery</td><td>hvac</td><td>0.9175893</td></tr>\n",
       "\t<tr><th scope=row>3</th><td>1</td><td>0.1</td><td>Grant</td><td>hvac</td><td>0.7907188</td></tr>\n",
       "\t<tr><th scope=row>4</th><td>1</td><td>0.1</td><td>James</td><td>hvac</td><td>0.6865139</td></tr>\n",
       "\t<tr><th scope=row>5</th><td>1</td><td>0.1</td><td>Jerome</td><td>hvac</td><td>0.3750376</td></tr>\n",
       "\t<tr><th scope=row>6</th><td>1</td><td>0.1</td><td>George</td><td>hvac</td><td>0.429046</td></tr>\n",
       "</tbody>\n",
       "</table>\n"
      ],
      "text/latex": [
       "\\begin{tabular}{r|lllll}\n",
       "  & theta & gamma & name & variable & accuracy\\\\\n",
       "\\hline\n",
       "\t1 & 1 & 0.1 & Edd & hvac & 0.8537928\\\\\n",
       "\t2 & 1 & 0.1 & Emery & hvac & 0.9175893\\\\\n",
       "\t3 & 1 & 0.1 & Grant & hvac & 0.7907188\\\\\n",
       "\t4 & 1 & 0.1 & James & hvac & 0.6865139\\\\\n",
       "\t5 & 1 & 0.1 & Jerome & hvac & 0.3750376\\\\\n",
       "\t6 & 1 & 0.1 & George & hvac & 0.429046\\\\\n",
       "\\end{tabular}\n"
      ],
      "text/plain": [
       "  theta gamma   name variable  accuracy\n",
       "1     1   0.1    Edd     hvac 0.8537928\n",
       "2     1   0.1  Emery     hvac 0.9175893\n",
       "3     1   0.1  Grant     hvac 0.7907188\n",
       "4     1   0.1  James     hvac 0.6865139\n",
       "5     1   0.1 Jerome     hvac 0.3750376\n",
       "6     1   0.1 George     hvac 0.4290460"
      ]
     },
     "execution_count": 66,
     "metadata": {},
     "output_type": "execute_result"
    }
   ],
   "source": [
    "acc_df = melt(accuracy_df, id.vars=c(\"theta_m\", \"theta_t\", \"name\"))\n",
    "names(acc_df)[c(1,2,5)] = c(\"theta\", \"gamma\", \"accuracy\")\n",
    "head(acc_df)"
   ]
  },
  {
   "cell_type": "code",
   "execution_count": 67,
   "metadata": {
    "collapsed": false
   },
   "outputs": [
    {
     "data": {
      "text/html": [
       "<table>\n",
       "<thead><tr><th></th><th scope=col>theta</th><th scope=col>gamma</th><th scope=col>name</th><th scope=col>decision</th><th scope=col>match</th></tr></thead>\n",
       "<tbody>\n",
       "\t<tr><th scope=row>1</th><td>1</td><td>0.1</td><td>Edd</td><td>HVAC off, Away</td><td>0.94</td></tr>\n",
       "\t<tr><th scope=row>2</th><td>1</td><td>0.1</td><td>Emery</td><td>HVAC off, Away</td><td>0.99</td></tr>\n",
       "\t<tr><th scope=row>3</th><td>1</td><td>0.1</td><td>Grant</td><td>HVAC off, Away</td><td>0.94</td></tr>\n",
       "\t<tr><th scope=row>4</th><td>1</td><td>0.1</td><td>James</td><td>HVAC off, Away</td><td>0.96</td></tr>\n",
       "\t<tr><th scope=row>5</th><td>1</td><td>0.1</td><td>Jerome</td><td>HVAC off, Away</td><td>0.88</td></tr>\n",
       "\t<tr><th scope=row>6</th><td>1</td><td>0.1</td><td>George</td><td>HVAC off, Away</td><td>0</td></tr>\n",
       "</tbody>\n",
       "</table>\n"
      ],
      "text/latex": [
       "\\begin{tabular}{r|lllll}\n",
       "  & theta & gamma & name & decision & match\\\\\n",
       "\\hline\n",
       "\t1 & 1 & 0.1 & Edd & HVAC off, Away & 0.94\\\\\n",
       "\t2 & 1 & 0.1 & Emery & HVAC off, Away & 0.99\\\\\n",
       "\t3 & 1 & 0.1 & Grant & HVAC off, Away & 0.94\\\\\n",
       "\t4 & 1 & 0.1 & James & HVAC off, Away & 0.96\\\\\n",
       "\t5 & 1 & 0.1 & Jerome & HVAC off, Away & 0.88\\\\\n",
       "\t6 & 1 & 0.1 & George & HVAC off, Away & 0\\\\\n",
       "\\end{tabular}\n"
      ],
      "text/plain": [
       "  theta gamma   name       decision match\n",
       "1     1   0.1    Edd HVAC off, Away  0.94\n",
       "2     1   0.1  Emery HVAC off, Away  0.99\n",
       "3     1   0.1  Grant HVAC off, Away  0.94\n",
       "4     1   0.1  James HVAC off, Away  0.96\n",
       "5     1   0.1 Jerome HVAC off, Away  0.88\n",
       "6     1   0.1 George HVAC off, Away  0.00"
      ]
     },
     "execution_count": 67,
     "metadata": {},
     "output_type": "execute_result"
    }
   ],
   "source": [
    "mat_df = melt(match_df, id.vars=c(\"theta_m\", \"theta_t\", \"name\"))\n",
    "names(mat_df)[c(1,2,4,5)] = c(\"theta\", \"gamma\", \"decision\", \"match\")\n",
    "head(mat_df)"
   ]
  },
  {
   "cell_type": "code",
   "execution_count": 91,
   "metadata": {
    "collapsed": false
   },
   "outputs": [
    {
     "name": "stderr",
     "output_type": "stream",
     "text": [
      "Warning message:\n",
      "In loop_apply(n, do.ply): Removed 7 rows containing non-finite values (stat_density).Warning message:\n",
      "In loop_apply(n, do.ply): Removed 7 rows containing non-finite values (stat_density).Warning message:\n",
      "In loop_apply(n, do.ply): Removed 7 rows containing non-finite values (stat_density).Warning message:\n",
      "In loop_apply(n, do.ply): Removed 7 rows containing non-finite values (stat_density).Warning message:\n",
      "In loop_apply(n, do.ply): Removed 7 rows containing non-finite values (stat_density)."
     ]
    },
    {
     "data": {
      "text/html": [
       "<strong>pdf:</strong> 2"
      ],
      "text/latex": [
       "\\textbf{pdf:} 2"
      ],
      "text/markdown": [
       "**pdf:** 2"
      ],
      "text/plain": [
       "pdf \n",
       "  2 "
      ]
     },
     "execution_count": 91,
     "metadata": {},
     "output_type": "execute_result"
    }
   ],
   "source": [
    "fname = paste(PLOT_PATH, \"accuracy_distribution_gamma_0_5.pdf\", sep='/')\n",
    "pdf(file=fname,width=7,height=5)\n",
    "print(f_plot_density(subset(acc_df, (gamma==0.1) & (theta %in% c(1,2,3,4,5))), \"accuracy\", \"theta\", w=\"variable\"))\n",
    "dev.off()"
   ]
  },
  {
   "cell_type": "code",
   "execution_count": 92,
   "metadata": {
    "collapsed": false
   },
   "outputs": [
    {
     "name": "stderr",
     "output_type": "stream",
     "text": [
      "Warning message:\n",
      "In loop_apply(n, do.ply): Removed 7 rows containing non-finite values (stat_density).Warning message:\n",
      "In loop_apply(n, do.ply): Removed 7 rows containing non-finite values (stat_density).Warning message:\n",
      "In loop_apply(n, do.ply): Removed 7 rows containing non-finite values (stat_density).Warning message:\n",
      "In loop_apply(n, do.ply): Removed 7 rows containing non-finite values (stat_density)."
     ]
    },
    {
     "data": {
      "text/html": [
       "<strong>pdf:</strong> 2"
      ],
      "text/latex": [
       "\\textbf{pdf:} 2"
      ],
      "text/markdown": [
       "**pdf:** 2"
      ],
      "text/plain": [
       "pdf \n",
       "  2 "
      ]
     },
     "execution_count": 92,
     "metadata": {},
     "output_type": "execute_result"
    }
   ],
   "source": [
    "fname = paste(PLOT_PATH, \"accuracy_distribution_theta_2.pdf\", sep='/')\n",
    "pdf(file=fname,width=7,height=5)\n",
    "print(f_plot_density(subset(acc_df, gamma %in% c(0.1, 0.25, 0.5, 0.6) & (theta == 2)), \"accuracy\", \"gamma\", w=\"variable\"))\n",
    "dev.off()"
   ]
  },
  {
   "cell_type": "code",
   "execution_count": 93,
   "metadata": {
    "collapsed": false
   },
   "outputs": [
    {
     "name": "stderr",
     "output_type": "stream",
     "text": [
      "Warning message:\n",
      "In loop_apply(n, do.ply): Removed 5 rows containing non-finite values (stat_density).Warning message:\n",
      "In loop_apply(n, do.ply): Removed 2 rows containing non-finite values (stat_density).Warning message:\n",
      "In loop_apply(n, do.ply): Removed 5 rows containing non-finite values (stat_density).Warning message:\n",
      "In loop_apply(n, do.ply): Removed 2 rows containing non-finite values (stat_density).Warning message:\n",
      "In loop_apply(n, do.ply): Removed 1 rows containing non-finite values (stat_density).Warning message:\n",
      "In loop_apply(n, do.ply): Removed 1 rows containing non-finite values (stat_density).Warning message:\n",
      "In loop_apply(n, do.ply): Removed 7 rows containing non-finite values (stat_density).Warning message:\n",
      "In loop_apply(n, do.ply): Removed 7 rows containing non-finite values (stat_density).Warning message:\n",
      "In loop_apply(n, do.ply): Removed 7 rows containing non-finite values (stat_density).Warning message:\n",
      "In loop_apply(n, do.ply): Removed 7 rows containing non-finite values (stat_density).Warning message:\n",
      "In loop_apply(n, do.ply): Removed 7 rows containing non-finite values (stat_density).Warning message:\n",
      "In loop_apply(n, do.ply): Removed 7 rows containing non-finite values (stat_density).Warning message:\n",
      "In loop_apply(n, do.ply): Removed 7 rows containing non-finite values (stat_density).Warning message:\n",
      "In loop_apply(n, do.ply): Removed 7 rows containing non-finite values (stat_density)."
     ]
    },
    {
     "data": {
      "text/html": [
       "<strong>pdf:</strong> 2"
      ],
      "text/latex": [
       "\\textbf{pdf:} 2"
      ],
      "text/markdown": [
       "**pdf:** 2"
      ],
      "text/plain": [
       "pdf \n",
       "  2 "
      ]
     },
     "execution_count": 93,
     "metadata": {},
     "output_type": "execute_result"
    }
   ],
   "source": [
    "fname = paste(PLOT_PATH, \"match_distribution_theta_2.pdf\", sep='/')\n",
    "pdf(file=fname,width=7,height=5)\n",
    "print(f_plot_density(subset(mat_df, gamma %in% c(0.1, 0.25, 0.5, 0.6) & (theta == 2)), \"match\", \"gamma\", w=\"decision\"))\n",
    "dev.off()"
   ]
  },
  {
   "cell_type": "code",
   "execution_count": 94,
   "metadata": {
    "collapsed": false
   },
   "outputs": [
    {
     "name": "stderr",
     "output_type": "stream",
     "text": [
      "Warning message:\n",
      "In loop_apply(n, do.ply): Removed 1 rows containing non-finite values (stat_density).Warning message:\n",
      "In loop_apply(n, do.ply): Removed 1 rows containing non-finite values (stat_density).Warning message:\n",
      "In loop_apply(n, do.ply): Removed 1 rows containing non-finite values (stat_density).Warning message:\n",
      "In loop_apply(n, do.ply): Removed 1 rows containing non-finite values (stat_density).Warning message:\n",
      "In loop_apply(n, do.ply): Removed 7 rows containing non-finite values (stat_density).Warning message:\n",
      "In loop_apply(n, do.ply): Removed 7 rows containing non-finite values (stat_density).Warning message:\n",
      "In loop_apply(n, do.ply): Removed 7 rows containing non-finite values (stat_density).Warning message:\n",
      "In loop_apply(n, do.ply): Removed 7 rows containing non-finite values (stat_density).Warning message:\n",
      "In loop_apply(n, do.ply): Removed 7 rows containing non-finite values (stat_density).Warning message:\n",
      "In loop_apply(n, do.ply): Removed 7 rows containing non-finite values (stat_density).Warning message:\n",
      "In loop_apply(n, do.ply): Removed 7 rows containing non-finite values (stat_density).Warning message:\n",
      "In loop_apply(n, do.ply): Removed 7 rows containing non-finite values (stat_density)."
     ]
    },
    {
     "data": {
      "text/html": [
       "<strong>pdf:</strong> 2"
      ],
      "text/latex": [
       "\\textbf{pdf:} 2"
      ],
      "text/markdown": [
       "**pdf:** 2"
      ],
      "text/plain": [
       "pdf \n",
       "  2 "
      ]
     },
     "execution_count": 94,
     "metadata": {},
     "output_type": "execute_result"
    }
   ],
   "source": [
    "fname = paste(PLOT_PATH, \"match_distribution_gamma_0_5.pdf\", sep='/')\n",
    "pdf(file=fname,width=7,height=5)\n",
    "print(f_plot_density(subset(mat_df, (gamma==0.5) & (theta %in% c(2,3,4,5))), \"match\", \"theta\", w=\"decision\"))\n",
    "dev.off()"
   ]
  },
  {
   "cell_type": "code",
   "execution_count": 72,
   "metadata": {
    "collapsed": false
   },
   "outputs": [
    {
     "data": {
      "text/html": [
       "<table>\n",
       "<thead><tr><th></th><th scope=col>theta</th><th scope=col>gamma</th><th scope=col>name</th><th scope=col>decision</th><th scope=col>match</th></tr></thead>\n",
       "<tbody>\n",
       "\t<tr><th scope=row>1</th><td>1</td><td>0.1</td><td>Edd</td><td>HVAC off, Away</td><td>0.94</td></tr>\n",
       "\t<tr><th scope=row>2</th><td>1</td><td>0.1</td><td>Emery</td><td>HVAC off, Away</td><td>0.99</td></tr>\n",
       "\t<tr><th scope=row>3</th><td>1</td><td>0.1</td><td>Grant</td><td>HVAC off, Away</td><td>0.94</td></tr>\n",
       "\t<tr><th scope=row>4</th><td>1</td><td>0.1</td><td>James</td><td>HVAC off, Away</td><td>0.96</td></tr>\n",
       "\t<tr><th scope=row>5</th><td>1</td><td>0.1</td><td>Jerome</td><td>HVAC off, Away</td><td>0.88</td></tr>\n",
       "\t<tr><th scope=row>6</th><td>1</td><td>0.1</td><td>George</td><td>HVAC off, Away</td><td>0</td></tr>\n",
       "</tbody>\n",
       "</table>\n"
      ],
      "text/latex": [
       "\\begin{tabular}{r|lllll}\n",
       "  & theta & gamma & name & decision & match\\\\\n",
       "\\hline\n",
       "\t1 & 1 & 0.1 & Edd & HVAC off, Away & 0.94\\\\\n",
       "\t2 & 1 & 0.1 & Emery & HVAC off, Away & 0.99\\\\\n",
       "\t3 & 1 & 0.1 & Grant & HVAC off, Away & 0.94\\\\\n",
       "\t4 & 1 & 0.1 & James & HVAC off, Away & 0.96\\\\\n",
       "\t5 & 1 & 0.1 & Jerome & HVAC off, Away & 0.88\\\\\n",
       "\t6 & 1 & 0.1 & George & HVAC off, Away & 0\\\\\n",
       "\\end{tabular}\n"
      ],
      "text/plain": [
       "  theta gamma   name       decision match\n",
       "1     1   0.1    Edd HVAC off, Away  0.94\n",
       "2     1   0.1  Emery HVAC off, Away  0.99\n",
       "3     1   0.1  Grant HVAC off, Away  0.94\n",
       "4     1   0.1  James HVAC off, Away  0.96\n",
       "5     1   0.1 Jerome HVAC off, Away  0.88\n",
       "6     1   0.1 George HVAC off, Away  0.00"
      ]
     },
     "execution_count": 72,
     "metadata": {},
     "output_type": "execute_result"
    }
   ],
   "source": [
    "head(mat_df)"
   ]
  },
  {
   "cell_type": "markdown",
   "metadata": {},
   "source": [
    "Sensitivity analysis for accuracy & match"
   ]
  },
  {
   "cell_type": "code",
   "execution_count": 73,
   "metadata": {
    "collapsed": false
   },
   "outputs": [
    {
     "data": {
      "text/html": [
       "<table>\n",
       "<thead><tr><th></th><th scope=col>hvac</th><th scope=col>occup</th><th scope=col>theta_m</th><th scope=col>theta_t</th><th scope=col>name</th></tr></thead>\n",
       "<tbody>\n",
       "\t<tr><th scope=row>Edd</th><td>0.8537928</td><td>0.6767307</td><td>1</td><td>0.1</td><td>Edd</td></tr>\n",
       "\t<tr><th scope=row>Emery</th><td>0.9175893</td><td>0.6588173</td><td>1</td><td>0.1</td><td>Emery</td></tr>\n",
       "\t<tr><th scope=row>Grant</th><td>0.7907188</td><td>0.7464146</td><td>1</td><td>0.1</td><td>Grant</td></tr>\n",
       "\t<tr><th scope=row>James</th><td>0.6865139</td><td>0.621925</td><td>1</td><td>0.1</td><td>James</td></tr>\n",
       "\t<tr><th scope=row>Jerome</th><td>0.3750376</td><td>0.6643962</td><td>1</td><td>0.1</td><td>Jerome</td></tr>\n",
       "\t<tr><th scope=row>George</th><td>0.429046</td><td>0.9168943</td><td>1</td><td>0.1</td><td>George</td></tr>\n",
       "</tbody>\n",
       "</table>\n"
      ],
      "text/latex": [
       "\\begin{tabular}{r|lllll}\n",
       "  & hvac & occup & theta_m & theta_t & name\\\\\n",
       "\\hline\n",
       "\tEdd & 0.8537928 & 0.6767307 & 1 & 0.1 & Edd\\\\\n",
       "\tEmery & 0.9175893 & 0.6588173 & 1 & 0.1 & Emery\\\\\n",
       "\tGrant & 0.7907188 & 0.7464146 & 1 & 0.1 & Grant\\\\\n",
       "\tJames & 0.6865139 & 0.621925 & 1 & 0.1 & James\\\\\n",
       "\tJerome & 0.3750376 & 0.6643962 & 1 & 0.1 & Jerome\\\\\n",
       "\tGeorge & 0.429046 & 0.9168943 & 1 & 0.1 & George\\\\\n",
       "\\end{tabular}\n"
      ],
      "text/plain": [
       "            hvac     occup theta_m theta_t   name\n",
       "Edd    0.8537928 0.6767307       1     0.1    Edd\n",
       "Emery  0.9175893 0.6588173       1     0.1  Emery\n",
       "Grant  0.7907188 0.7464146       1     0.1  Grant\n",
       "James  0.6865139 0.6219250       1     0.1  James\n",
       "Jerome 0.3750376 0.6643962       1     0.1 Jerome\n",
       "George 0.4290460 0.9168943       1     0.1 George"
      ]
     },
     "execution_count": 73,
     "metadata": {},
     "output_type": "execute_result"
    }
   ],
   "source": [
    "head(accuracy_df)"
   ]
  },
  {
   "cell_type": "code",
   "execution_count": 74,
   "metadata": {
    "collapsed": true
   },
   "outputs": [],
   "source": [
    "avg_acc_occup = aggregate(occup ~ theta_m + theta_t, data=accuracy_df, FUN=mean)\n",
    "avg_acc_hvac = aggregate(hvac ~ theta_m + theta_t, data=accuracy_df, FUN=mean)\n",
    "acc_range = range(accuracy_df[,c('hvac', 'occup')])"
   ]
  },
  {
   "cell_type": "code",
   "execution_count": 75,
   "metadata": {
    "collapsed": false
   },
   "outputs": [
    {
     "name": "stderr",
     "output_type": "stream",
     "text": [
      "Using occup as value column: use value.var to override.\n"
     ]
    }
   ],
   "source": [
    "avg_acc_occup = dcast(avg_acc_occup, theta_t ~ theta_m)\n",
    "rownames(avg_acc_occup) = avg_acc_occup$theta_t\n",
    "avg_acc_occup$theta_t = NULL"
   ]
  },
  {
   "cell_type": "code",
   "execution_count": 108,
   "metadata": {
    "collapsed": false
   },
   "outputs": [
    {
     "data": {
      "text/html": [
       "<strong>pdf:</strong> 2"
      ],
      "text/latex": [
       "\\textbf{pdf:} 2"
      ],
      "text/markdown": [
       "**pdf:** 2"
      ],
      "text/plain": [
       "pdf \n",
       "  2 "
      ]
     },
     "execution_count": 108,
     "metadata": {},
     "output_type": "execute_result"
    }
   ],
   "source": [
    "fname_1 = paste(PLOT_PATH, \"avg_accuracy_occup.pdf\", sep='/')\n",
    "pdf(file = fname_1, 5, 4)\n",
    "mar.default <- c(5,4,4,2) + 0.1\n",
    "par(mar = mar.default + c(0, 1, 0, 0)) \n",
    "image.plot(as.numeric(rownames(avg_acc_occup)), as.numeric(colnames(avg_acc_occup)),  as.matrix(avg_acc_occup),\n",
    "                 xlab = 'gamma', \n",
    "                 ylab = 'theta',\n",
    "                 cex.main=2, cex.lab=2, cex.axis=2,\n",
    "                 main = 'Accuracy: Occupancy Detection')\n",
    "dev.off()"
   ]
  },
  {
   "cell_type": "code",
   "execution_count": 77,
   "metadata": {
    "collapsed": false
   },
   "outputs": [
    {
     "name": "stderr",
     "output_type": "stream",
     "text": [
      "Using hvac as value column: use value.var to override.\n"
     ]
    }
   ],
   "source": [
    "avg_acc_hvac = dcast(avg_acc_hvac, theta_t ~ theta_m)\n",
    "rownames(avg_acc_hvac) = avg_acc_hvac$theta_t\n",
    "avg_acc_hvac$theta_t = NULL"
   ]
  },
  {
   "cell_type": "code",
   "execution_count": 107,
   "metadata": {
    "collapsed": false
   },
   "outputs": [
    {
     "data": {
      "text/html": [
       "<strong>pdf:</strong> 2"
      ],
      "text/latex": [
       "\\textbf{pdf:} 2"
      ],
      "text/markdown": [
       "**pdf:** 2"
      ],
      "text/plain": [
       "pdf \n",
       "  2 "
      ]
     },
     "execution_count": 107,
     "metadata": {},
     "output_type": "execute_result"
    }
   ],
   "source": [
    "fname_1 = paste(PLOT_PATH, \"avg_accuracy_hvac.pdf\", sep='/')\n",
    "pdf(file = fname_1, 5, 4)\n",
    "mar.default <- c(5,4,4,2) + 0.1\n",
    "par(mar = mar.default + c(0, 1, 0, 0)) \n",
    "image.plot(as.numeric(rownames(avg_acc_hvac)), as.numeric(colnames(avg_acc_hvac)),  as.matrix(avg_acc_hvac),\n",
    "                 xlab = 'gamma', \n",
    "                 ylab = 'theta',\n",
    "                 cex.main=2, cex.lab=2, cex.axis=2,\n",
    "                 main = 'Accuracy: HVAC Detection')\n",
    "dev.off()"
   ]
  },
  {
   "cell_type": "code",
   "execution_count": 79,
   "metadata": {
    "collapsed": false
   },
   "outputs": [],
   "source": [
    "names(match_df) = make.names(names(match_df))"
   ]
  },
  {
   "cell_type": "code",
   "execution_count": 80,
   "metadata": {
    "collapsed": false
   },
   "outputs": [
    {
     "name": "stderr",
     "output_type": "stream",
     "text": [
      "Using HVAC.off..Away as value column: use value.var to override.\n"
     ]
    }
   ],
   "source": [
    "avg_match_1 = aggregate(HVAC.off..Away~theta_m + theta_t, data=match_df, FUN=mean)\n",
    "avg_match_1 = dcast(avg_match_1, theta_t ~ theta_m)\n",
    "rownames(avg_match_1) = avg_match_1$theta_t\n",
    "avg_match_1$theta_t = NULL"
   ]
  },
  {
   "cell_type": "code",
   "execution_count": 101,
   "metadata": {
    "collapsed": false
   },
   "outputs": [
    {
     "data": {
      "text/html": [
       "<strong>pdf:</strong> 2"
      ],
      "text/latex": [
       "\\textbf{pdf:} 2"
      ],
      "text/markdown": [
       "**pdf:** 2"
      ],
      "text/plain": [
       "pdf \n",
       "  2 "
      ]
     },
     "execution_count": 101,
     "metadata": {},
     "output_type": "execute_result"
    }
   ],
   "source": [
    "fname_1 = paste(PLOT_PATH, \"avg_match_hvac_off_away.pdf\", sep='/')\n",
    "pdf(file = fname_1, 5, 4)\n",
    "mar.default <- c(5,4,4,2) + 0.1\n",
    "par(mar = mar.default + c(0, 1, 0, 0)) \n",
    "image.plot(as.numeric(rownames(avg_match_1)), as.numeric(colnames(avg_match_1)),  as.matrix(avg_match_1),\n",
    "                 zlim = c(0,1),\n",
    "                 xlab = 'gamma', \n",
    "                 ylab = 'theta',\n",
    "                 cex.main=2, cex.lab=2, cex.axis=2,\n",
    "                 main = 'Avg. Match: HVAC off, Away')\n",
    "dev.off()"
   ]
  },
  {
   "cell_type": "code",
   "execution_count": 83,
   "metadata": {
    "collapsed": false
   },
   "outputs": [
    {
     "name": "stderr",
     "output_type": "stream",
     "text": [
      "Using HVAC.on..Away as value column: use value.var to override.\n"
     ]
    }
   ],
   "source": [
    "avg_match_2 = aggregate(HVAC.on..Away~theta_m + theta_t, data=match_df, FUN=mean)\n",
    "avg_match_2 = dcast(avg_match_2, theta_t ~ theta_m)\n",
    "rownames(avg_match_2) = avg_match_2$theta_t\n",
    "avg_match_2$theta_t = NULL"
   ]
  },
  {
   "cell_type": "code",
   "execution_count": 102,
   "metadata": {
    "collapsed": false
   },
   "outputs": [
    {
     "data": {
      "text/html": [
       "<strong>pdf:</strong> 2"
      ],
      "text/latex": [
       "\\textbf{pdf:} 2"
      ],
      "text/markdown": [
       "**pdf:** 2"
      ],
      "text/plain": [
       "pdf \n",
       "  2 "
      ]
     },
     "execution_count": 102,
     "metadata": {},
     "output_type": "execute_result"
    }
   ],
   "source": [
    "fname_1 = paste(PLOT_PATH, \"avg_match_hvac_on_away.pdf\", sep='/')\n",
    "pdf(file = fname_1, 5, 4)\n",
    "mar.default <- c(5,4,4,2) + 0.1\n",
    "par(mar = mar.default + c(0, 1, 0, 0)) \n",
    "image.plot(as.numeric(rownames(avg_match_2)), as.numeric(colnames(avg_match_2)),  as.matrix(avg_match_2),\n",
    "                 zlim = c(0,1),\n",
    "                 xlab = 'gamma', \n",
    "                 ylab = 'theta',\n",
    "                 cex.main=2, cex.lab=2, cex.axis=2,\n",
    "                 main = 'Avg. Match: HVAC on, Away')\n",
    "dev.off()"
   ]
  },
  {
   "cell_type": "code",
   "execution_count": 85,
   "metadata": {
    "collapsed": false
   },
   "outputs": [
    {
     "name": "stderr",
     "output_type": "stream",
     "text": [
      "Using HVAC.off..Home as value column: use value.var to override.\n"
     ]
    }
   ],
   "source": [
    "avg_match_3 = aggregate(HVAC.off..Home~theta_m + theta_t, data=match_df, FUN=mean)\n",
    "avg_match_3 = dcast(avg_match_3, theta_t ~ theta_m)\n",
    "rownames(avg_match_3) = avg_match_3$theta_t\n",
    "avg_match_3$theta_t = NULL"
   ]
  },
  {
   "cell_type": "code",
   "execution_count": 103,
   "metadata": {
    "collapsed": false
   },
   "outputs": [
    {
     "data": {
      "text/html": [
       "<strong>pdf:</strong> 2"
      ],
      "text/latex": [
       "\\textbf{pdf:} 2"
      ],
      "text/markdown": [
       "**pdf:** 2"
      ],
      "text/plain": [
       "pdf \n",
       "  2 "
      ]
     },
     "execution_count": 103,
     "metadata": {},
     "output_type": "execute_result"
    }
   ],
   "source": [
    "fname_1 = paste(PLOT_PATH, \"avg_match_hvac_off_home.pdf\", sep='/')\n",
    "pdf(file = fname_1, 5, 4)\n",
    "mar.default <- c(5,4,4,2) + 0.1\n",
    "par(mar = mar.default + c(0, 1, 0, 0)) \n",
    "image.plot(as.numeric(rownames(avg_match_3)), as.numeric(colnames(avg_match_3)),  as.matrix(avg_match_3),\n",
    "                 zlim = c(0,1),\n",
    "                 xlab = 'gamma', \n",
    "                 ylab = 'theta',\n",
    "                 cex.main=2, cex.lab=2, cex.axis=2,\n",
    "                 main = 'Avg. Match: HVAC off, Home')\n",
    "dev.off()"
   ]
  },
  {
   "cell_type": "code",
   "execution_count": 87,
   "metadata": {
    "collapsed": false
   },
   "outputs": [
    {
     "name": "stderr",
     "output_type": "stream",
     "text": [
      "Using HVAC.on..Home as value column: use value.var to override.\n"
     ]
    }
   ],
   "source": [
    "avg_match_4 = aggregate(HVAC.on..Home~theta_m + theta_t, data=match_df, FUN=mean)\n",
    "avg_match_4 = dcast(avg_match_4, theta_t ~ theta_m)\n",
    "rownames(avg_match_4) = avg_match_4$theta_t\n",
    "avg_match_4$theta_t = NULL"
   ]
  },
  {
   "cell_type": "code",
   "execution_count": 104,
   "metadata": {
    "collapsed": false
   },
   "outputs": [
    {
     "data": {
      "text/html": [
       "<strong>pdf:</strong> 2"
      ],
      "text/latex": [
       "\\textbf{pdf:} 2"
      ],
      "text/markdown": [
       "**pdf:** 2"
      ],
      "text/plain": [
       "pdf \n",
       "  2 "
      ]
     },
     "execution_count": 104,
     "metadata": {},
     "output_type": "execute_result"
    }
   ],
   "source": [
    "fname_1 = paste(PLOT_PATH, \"avg_match_hvac_on_home.pdf\", sep='/')\n",
    "pdf(file = fname_1, 5, 4)\n",
    "mar.default <- c(5,4,4,2) + 0.1\n",
    "par(mar = mar.default + c(0, 1, 0, 0)) \n",
    "image.plot(as.numeric(rownames(avg_match_4)), as.numeric(colnames(avg_match_4)),  as.matrix(avg_match_4),\n",
    "                 zlim = c(0,1),\n",
    "                 xlab = 'gamma', \n",
    "                 ylab = 'theta',\n",
    "                 cex.main=2, cex.lab=2, cex.axis=2,\n",
    "                 main = 'Avg. Match: HVAC on, Home')\n",
    "dev.off()"
   ]
  },
  {
   "cell_type": "code",
   "execution_count": null,
   "metadata": {
    "collapsed": true
   },
   "outputs": [],
   "source": []
  }
 ],
 "metadata": {
  "kernelspec": {
   "display_name": "R",
   "language": "",
   "name": "ir"
  },
  "language_info": {
   "codemirror_mode": "r",
   "file_extension": ".r",
   "mimetype": "text/x-r-source",
   "name": "R",
   "pygments_lexer": "r",
   "version": "3.2.2"
  }
 },
 "nbformat": 4,
 "nbformat_minor": 0
}
