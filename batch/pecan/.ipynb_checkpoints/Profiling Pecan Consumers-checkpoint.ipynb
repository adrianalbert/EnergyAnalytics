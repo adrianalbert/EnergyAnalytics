{
 "cells": [
  {
   "cell_type": "markdown",
   "metadata": {},
   "source": [
    "#Profiling Pecan Consumers"
   ]
  },
  {
   "cell_type": "markdown",
   "metadata": {},
   "source": [
    "This notebook profiles the consumers in the Pecan St dataset who have HVAC. For each consumer we learn:\n",
    "* a thermal regimes model using whole-home consumption and temperature\n",
    "* a thermal breakpoint model using whole-home consumption and temperature\n",
    "* a locally-weighted regression model using separately-monitored HVAC and temperature"
   ]
  },
  {
   "cell_type": "markdown",
   "metadata": {},
   "source": [
    "##Initializations"
   ]
  },
  {
   "cell_type": "code",
   "execution_count": 3,
   "metadata": {
    "collapsed": false
   },
   "outputs": [],
   "source": [
    "rm(list = ls())\n",
    "options(error = recover)\n",
    "library('segmented')\n",
    "library('lubridate')"
   ]
  },
  {
   "cell_type": "code",
   "execution_count": 12,
   "metadata": {
    "collapsed": false
   },
   "outputs": [
    {
     "data": {
      "text/html": [
       "<ol class=list-inline>\n",
       "\t<li>'classes'</li>\n",
       "\t<li>'estimation'</li>\n",
       "\t<li>'stateProcessorWrapper.r'</li>\n",
       "\t<li>'stateVisualizerWrapper.r'</li>\n",
       "</ol>\n"
      ],
      "text/latex": [
       "\\begin{enumerate*}\n",
       "\\item 'classes'\n",
       "\\item 'estimation'\n",
       "\\item 'stateProcessorWrapper.r'\n",
       "\\item 'stateVisualizerWrapper.r'\n",
       "\\end{enumerate*}\n"
      ],
      "text/markdown": [
       "1. 'classes'\n",
       "2. 'estimation'\n",
       "3. 'stateProcessorWrapper.r'\n",
       "4. 'stateVisualizerWrapper.r'\n",
       "\n",
       "\n"
      ],
      "text/plain": [
       "[1] \"classes\"                  \"estimation\"              \n",
       "[3] \"stateProcessorWrapper.r\"  \"stateVisualizerWrapper.r\""
      ]
     },
     "execution_count": 12,
     "metadata": {},
     "output_type": "execute_result"
    }
   ],
   "source": []
  },
  {
   "cell_type": "code",
   "execution_count": 7,
   "metadata": {
    "collapsed": false
   },
   "outputs": [
    {
     "name": "stderr",
     "output_type": "stream",
     "text": [
      "Warning message:\n",
      "In file(filename, \"r\", encoding = encoding): cannot open file './define_categories_pecan.r': No such file or directory"
     ]
    },
    {
     "ename": "ERROR",
     "evalue": "Error in file(filename, \"r\", encoding = encoding): cannot open the connection\n",
     "output_type": "error",
     "traceback": [
      "Error in file(filename, \"r\", encoding = encoding): cannot open the connection\n"
     ]
    },
    {
     "ename": "ERROR",
     "evalue": "Error in library(\"R.utils\"): there is no package called ‘R.utils’\n",
     "output_type": "error",
     "traceback": [
      "Error in library(\"R.utils\"): there is no package called ‘R.utils’\n"
     ]
    },
    {
     "ename": "ERROR",
     "evalue": "Error in library(\"R.utils\"): there is no package called ‘R.utils’\n",
     "output_type": "error",
     "traceback": [
      "Error in library(\"R.utils\"): there is no package called ‘R.utils’\n"
     ]
    }
   ],
   "source": [
    "setwd(\"~/EnergyAnalytics/batch/pecan/\")\n",
    "source('define_categories_pecan.r')\n",
    "\n",
    "setwd(\"~/EnergyAnalytics/utils/\")\n",
    "source('select_data.r')\n",
    "\n",
    "setwd('~/EnergyAnalytics/thermal_profiles/profiler/')\n",
    "source('stateProcessorWrapper.r')\n",
    "source('stateVisualizerWrapper.r')"
   ]
  },
  {
   "cell_type": "code",
   "execution_count": null,
   "metadata": {
    "collapsed": true
   },
   "outputs": [],
   "source": [
    "SELECTED_SEASONS = c('Summer', 'Winter')\n",
    "\n",
    "\n",
    "DATA_PATH = '~/energy-data/pecan_street/usage-select/'\n",
    "DUMP_PATH = '~/energy-data/pecan_street/models_new/'\n",
    "PLOT_PATH = '~/Dropbox/OccupancyStates/plots/pecan-street-new/'\n",
    "\n",
    "# load user names\n",
    "user_names = read.csv('~/energy-data/pecan_street/metadata/user_names_ids.csv')"
   ]
  }
 ],
 "metadata": {
  "kernelspec": {
   "display_name": "R",
   "language": "",
   "name": "ir"
  },
  "language_info": {
   "codemirror_mode": "r",
   "file_extension": ".r",
   "mimetype": "text/x-r-source",
   "name": "R",
   "pygments_lexer": "r",
   "version": "3.2.0"
  }
 },
 "nbformat": 4,
 "nbformat_minor": 0
}
