{
 "cells": [
  {
   "cell_type": "markdown",
   "metadata": {},
   "source": [
    "#Pecan validation analysis"
   ]
  },
  {
   "cell_type": "markdown",
   "metadata": {},
   "source": [
    "Here we perform analysis on the model vs ground truth data for thermal and occupancy consumption. We contrast two models:\n",
    "* ground truth thermal response: a locally-weighted regression model using separately-monitored HVAC and temperature\n",
    "* the HMM thermal model"
   ]
  },
  {
   "cell_type": "code",
   "execution_count": 4,
   "metadata": {
    "collapsed": false
   },
   "outputs": [],
   "source": [
    "rm(list = ls())\n",
    "options(error = recover)\n",
    "library('segmented')\n",
    "library('lubridate')\n",
    "library('ggplot2')"
   ]
  },
  {
   "cell_type": "code",
   "execution_count": null,
   "metadata": {
    "collapsed": true
   },
   "outputs": [],
   "source": [
    "setwd(\"~/EnergyAnalytics/\")\n",
    "source('../../thermal_profiles/validator/metrics.r')\n",
    "source('../../thermal_profiles/validator/plot_metrics.r')\n",
    "source('../../utils/select_data.r')"
   ]
  },
  {
   "cell_type": "code",
   "execution_count": 2,
   "metadata": {
    "collapsed": true
   },
   "outputs": [],
   "source": [
    "DATA_PATH = '~/S3L_server/energy-data/pecan_street/usage-select/'\n",
    "DUMP_PATH = '~/S3L_server/energy-data/pecan_street/models_new/'\n",
    "PLOT_PATH = '~/S3L_server/plots/pecan-street-new/'\n",
    "MODEL_PATH= '~/S3L_server/energy-data/pecan_street/models_new/'"
   ]
  }
 ],
 "metadata": {
  "kernelspec": {
   "display_name": "R",
   "language": "",
   "name": "ir"
  },
  "language_info": {
   "codemirror_mode": "r",
   "file_extension": ".r",
   "mimetype": "text/x-r-source",
   "name": "R",
   "pygments_lexer": "r",
   "version": "3.2.0"
  }
 },
 "nbformat": 4,
 "nbformat_minor": 0
}
