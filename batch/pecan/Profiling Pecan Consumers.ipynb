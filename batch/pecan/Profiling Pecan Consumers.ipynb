{
 "cells": [
  {
   "cell_type": "markdown",
   "metadata": {},
   "source": [
    "#Profiling Pecan Consumers"
   ]
  },
  {
   "cell_type": "markdown",
   "metadata": {},
   "source": [
    "This notebook profiles the consumers in the Pecan St dataset who have HVAC using a thermal regimes model using whole-home consumption and temperature"
   ]
  },
  {
   "cell_type": "markdown",
   "metadata": {},
   "source": [
    "##Initializations"
   ]
  },
  {
   "cell_type": "code",
   "execution_count": 1,
   "metadata": {
    "collapsed": false
   },
   "outputs": [],
   "source": [
    "rm(list = ls())\n",
    "options(error = recover)\n",
    "library('segmented')\n",
    "library('lubridate')"
   ]
  },
  {
   "cell_type": "code",
   "execution_count": 2,
   "metadata": {
    "collapsed": false
   },
   "outputs": [
    {
     "name": "stderr",
     "output_type": "stream",
     "text": [
      "\n",
      "Attaching package: ‘zoo’\n",
      "\n",
      "The following objects are masked from ‘package:base’:\n",
      "\n",
      "    as.Date, as.Date.numeric\n",
      "\n",
      "Loading required package: R.oo\n",
      "Loading required package: R.methodsS3\n",
      "R.methodsS3 v1.7.0 (2015-02-19) successfully loaded. See ?R.methodsS3 for help.\n",
      "R.oo v1.19.0 (2015-02-27) successfully loaded. See ?R.oo for help.\n",
      "\n",
      "Attaching package: ‘R.oo’\n",
      "\n",
      "The following objects are masked from ‘package:methods’:\n",
      "\n",
      "    getClasses, getMethods\n",
      "\n",
      "The following objects are masked from ‘package:base’:\n",
      "\n",
      "    attach, detach, gc, load, save\n",
      "\n",
      "R.utils v2.0.0 (2015-02-28) successfully loaded. See ?R.utils for help.\n",
      "\n",
      "Attaching package: ‘R.utils’\n",
      "\n",
      "The following object is masked from ‘package:utils’:\n",
      "\n",
      "    timestamp\n",
      "\n",
      "The following objects are masked from ‘package:base’:\n",
      "\n",
      "    cat, commandArgs, getOption, inherits, isOpen, parse, warnings\n",
      "\n",
      "Warning message:\n",
      "In removeClass(\"DataFormatter\"): class definition for “DataFormatter” not found (no action taken)Loading required package: lmtest\n",
      "\n",
      "Attaching package: ‘lmtest’\n",
      "\n",
      "The following object is masked from ‘package:R.utils’:\n",
      "\n",
      "    reset\n",
      "\n",
      "Loading required package: nnet\n",
      "Loading required package: MASS\n",
      "Loading required package: Rsolnp\n",
      "Loading required package: truncnorm\n",
      "Loading required package: parallel\n",
      "dummies-1.5.6 provided by Decision Patterns\n",
      "\n",
      "Warning message:\n",
      "In removeClass(\"StateDecoder\"): class definition for “StateDecoder” not found (no action taken)Warning message:\n",
      "In removeClass(\"Interpreter\"): class definition for “Interpreter” not found (no action taken)"
     ]
    }
   ],
   "source": [
    "setwd(\"~/EnergyAnalytics/batch/pecan/\")\n",
    "source('define_categories_pecan.r')\n",
    "\n",
    "setwd(\"~/EnergyAnalytics/utils/\")\n",
    "source('select_data.r')\n",
    "\n",
    "setwd('~/EnergyAnalytics/thermal_profiles/profiler/')\n",
    "source('stateProcessorWrapper.r')\n",
    "source('stateVisualizerWrapper.r')\n",
    "\n",
    "setwd(\"~/EnergyAnalytics/batch/pecan/\")"
   ]
  },
  {
   "cell_type": "code",
   "execution_count": 3,
   "metadata": {
    "collapsed": true
   },
   "outputs": [],
   "source": [
    "DATA_PATH = '~/S3L_server/energy-data/pecan_street/usage-select/'\n",
    "DUMP_PATH = '~/S3L_server/energy-data/pecan_street/models_new/'\n",
    "PLOT_PATH = '~/S3L_server/plots/pecan-street-new/'"
   ]
  },
  {
   "cell_type": "code",
   "execution_count": 4,
   "metadata": {
    "collapsed": false
   },
   "outputs": [],
   "source": [
    "# load user names\n",
    "user_names = read.csv('~/S3L_server/energy-data/pecan_street/metadata/user_names_ids.csv')\n",
    "user_names$X = NULL\n",
    "\n",
    "# list already processed files\n",
    "files.input = list.files(path=DUMP_PATH, pattern = '*_decoded*', full.names = T, recursive = T)\n",
    "already_done  = lapply(files.input, function(x) {\n",
    "    tmp = tail(strsplit(x, '/')[[1]],n=2)\n",
    "    res = tmp[1]\n",
    "    nfo = strsplit(tmp[2], \"_\")[[1]]\n",
    "    uid = nfo[1]; nfo = nfo[2]; \n",
    "    return(c(uid,res))\n",
    "})\n",
    "already_done = data.frame(do.call('rbind', already_done))\n",
    "if (length(already_done)>0) names(already_done) <- c(\"ID\", \"grain\")\n",
    "\n",
    "# list all data files\n",
    "files    = list.files(path=DATA_PATH, full.names = T, recursive = T)\n",
    "files_01 = files[grep('01min',files)]\n",
    "files_15 = files[grep('15min',files)]\n",
    "files_60 = files[grep('60min',files)]\n",
    "\n",
    "# extract ID\n",
    "users_df = data.frame(UID = as.character(sapply(files_60, function(s) strsplit(tail(strsplit(s, '/')[[1]], 1), '\\\\.')[[1]][1])))\n",
    "rownames(users_df) = NULL\n",
    "users_df['file_01min'] = files_01\n",
    "users_df['file_15min'] = files_15\n",
    "users_df['file_60min'] = files_60\n",
    "    \n",
    "# build data sources dataframe\n",
    "users_df = merge(user_names, users_df, by.x=\"ID\", by.y=\"UID\")\n",
    "    \n",
    "# filter out those IDS already done\n",
    "users_df = users_df[!(users_df$ID %in% already_done$ID),]"
   ]
  },
  {
   "cell_type": "code",
   "execution_count": 5,
   "metadata": {
    "collapsed": false
   },
   "outputs": [
    {
     "data": {
      "text/html": [
       "<ol class=list-inline>\n",
       "\t<li>182</li>\n",
       "\t<li>5</li>\n",
       "</ol>\n"
      ],
      "text/latex": [
       "\\begin{enumerate*}\n",
       "\\item 182\n",
       "\\item 5\n",
       "\\end{enumerate*}\n"
      ],
      "text/markdown": [
       "1. 182\n",
       "2. 5\n",
       "\n",
       "\n"
      ],
      "text/plain": [
       "[1] 182   5"
      ]
     },
     "execution_count": 5,
     "metadata": {},
     "output_type": "execute_result"
    }
   ],
   "source": [
    "dim(users_df)"
   ]
  },
  {
   "cell_type": "code",
   "execution_count": 6,
   "metadata": {
    "collapsed": false
   },
   "outputs": [
    {
     "data": {
      "text/html": [
       "<table>\n",
       "<thead><tr><th></th><th scope=col>ID</th><th scope=col>name</th><th scope=col>file_01min</th><th scope=col>file_15min</th><th scope=col>file_60min</th></tr></thead>\n",
       "<tbody>\n",
       "\t<tr><th scope=row>108</th><td>3044</td><td>Lucius</td><td>/Users/adrianalbert/S3L_server/energy-data/pecan_street/usage-select//01min/3044.csv</td><td>/Users/adrianalbert/S3L_server/energy-data/pecan_street/usage-select//15min/3044.csv</td><td>/Users/adrianalbert/S3L_server/energy-data/pecan_street/usage-select//60min/3044.csv</td></tr>\n",
       "\t<tr><th scope=row>116</th><td>3368</td><td>Forrest</td><td>/Users/adrianalbert/S3L_server/energy-data/pecan_street/usage-select//01min/3368.csv</td><td>/Users/adrianalbert/S3L_server/energy-data/pecan_street/usage-select//15min/3368.csv</td><td>/Users/adrianalbert/S3L_server/energy-data/pecan_street/usage-select//60min/3368.csv</td></tr>\n",
       "\t<tr><th scope=row>136</th><td>3778</td><td>Alexander</td><td>/Users/adrianalbert/S3L_server/energy-data/pecan_street/usage-select//01min/3778.csv</td><td>/Users/adrianalbert/S3L_server/energy-data/pecan_street/usage-select//15min/3778.csv</td><td>/Users/adrianalbert/S3L_server/energy-data/pecan_street/usage-select//60min/3778.csv</td></tr>\n",
       "\t<tr><th scope=row>138</th><td>3829</td><td>Kenneth</td><td>/Users/adrianalbert/S3L_server/energy-data/pecan_street/usage-select//01min/3829.csv</td><td>/Users/adrianalbert/S3L_server/energy-data/pecan_street/usage-select//15min/3829.csv</td><td>/Users/adrianalbert/S3L_server/energy-data/pecan_street/usage-select//60min/3829.csv</td></tr>\n",
       "\t<tr><th scope=row>161</th><td>4383</td><td>Ward</td><td>/Users/adrianalbert/S3L_server/energy-data/pecan_street/usage-select//01min/4383.csv</td><td>/Users/adrianalbert/S3L_server/energy-data/pecan_street/usage-select//15min/4383.csv</td><td>/Users/adrianalbert/S3L_server/energy-data/pecan_street/usage-select//60min/4383.csv</td></tr>\n",
       "\t<tr><th scope=row>165</th><td>4505</td><td>Milton</td><td>/Users/adrianalbert/S3L_server/energy-data/pecan_street/usage-select//01min/4505.csv</td><td>/Users/adrianalbert/S3L_server/energy-data/pecan_street/usage-select//15min/4505.csv</td><td>/Users/adrianalbert/S3L_server/energy-data/pecan_street/usage-select//60min/4505.csv</td></tr>\n",
       "</tbody>\n",
       "</table>\n"
      ],
      "text/latex": [
       "\\begin{tabular}{r|lllll}\n",
       "  & ID & name & file_01min & file_15min & file_60min\\\\\n",
       "\\hline\n",
       "\t108 & 3044 & Lucius & /Users/adrianalbert/S3L_server/energy-data/pecan_street/usage-select//01min/3044.csv & /Users/adrianalbert/S3L_server/energy-data/pecan_street/usage-select//15min/3044.csv & /Users/adrianalbert/S3L_server/energy-data/pecan_street/usage-select//60min/3044.csv\\\\\n",
       "\t116 & 3368 & Forrest & /Users/adrianalbert/S3L_server/energy-data/pecan_street/usage-select//01min/3368.csv & /Users/adrianalbert/S3L_server/energy-data/pecan_street/usage-select//15min/3368.csv & /Users/adrianalbert/S3L_server/energy-data/pecan_street/usage-select//60min/3368.csv\\\\\n",
       "\t136 & 3778 & Alexander & /Users/adrianalbert/S3L_server/energy-data/pecan_street/usage-select//01min/3778.csv & /Users/adrianalbert/S3L_server/energy-data/pecan_street/usage-select//15min/3778.csv & /Users/adrianalbert/S3L_server/energy-data/pecan_street/usage-select//60min/3778.csv\\\\\n",
       "\t138 & 3829 & Kenneth & /Users/adrianalbert/S3L_server/energy-data/pecan_street/usage-select//01min/3829.csv & /Users/adrianalbert/S3L_server/energy-data/pecan_street/usage-select//15min/3829.csv & /Users/adrianalbert/S3L_server/energy-data/pecan_street/usage-select//60min/3829.csv\\\\\n",
       "\t161 & 4383 & Ward & /Users/adrianalbert/S3L_server/energy-data/pecan_street/usage-select//01min/4383.csv & /Users/adrianalbert/S3L_server/energy-data/pecan_street/usage-select//15min/4383.csv & /Users/adrianalbert/S3L_server/energy-data/pecan_street/usage-select//60min/4383.csv\\\\\n",
       "\t165 & 4505 & Milton & /Users/adrianalbert/S3L_server/energy-data/pecan_street/usage-select//01min/4505.csv & /Users/adrianalbert/S3L_server/energy-data/pecan_street/usage-select//15min/4505.csv & /Users/adrianalbert/S3L_server/energy-data/pecan_street/usage-select//60min/4505.csv\\\\\n",
       "\\end{tabular}\n"
      ],
      "text/plain": [
       "      ID      name\n",
       "108 3044    Lucius\n",
       "116 3368   Forrest\n",
       "136 3778 Alexander\n",
       "138 3829   Kenneth\n",
       "161 4383      Ward\n",
       "165 4505    Milton\n",
       "                                                                              file_01min\n",
       "108 /Users/adrianalbert/S3L_server/energy-data/pecan_street/usage-select//01min/3044.csv\n",
       "116 /Users/adrianalbert/S3L_server/energy-data/pecan_street/usage-select//01min/3368.csv\n",
       "136 /Users/adrianalbert/S3L_server/energy-data/pecan_street/usage-select//01min/3778.csv\n",
       "138 /Users/adrianalbert/S3L_server/energy-data/pecan_street/usage-select//01min/3829.csv\n",
       "161 /Users/adrianalbert/S3L_server/energy-data/pecan_street/usage-select//01min/4383.csv\n",
       "165 /Users/adrianalbert/S3L_server/energy-data/pecan_street/usage-select//01min/4505.csv\n",
       "                                                                              file_15min\n",
       "108 /Users/adrianalbert/S3L_server/energy-data/pecan_street/usage-select//15min/3044.csv\n",
       "116 /Users/adrianalbert/S3L_server/energy-data/pecan_street/usage-select//15min/3368.csv\n",
       "136 /Users/adrianalbert/S3L_server/energy-data/pecan_street/usage-select//15min/3778.csv\n",
       "138 /Users/adrianalbert/S3L_server/energy-data/pecan_street/usage-select//15min/3829.csv\n",
       "161 /Users/adrianalbert/S3L_server/energy-data/pecan_street/usage-select//15min/4383.csv\n",
       "165 /Users/adrianalbert/S3L_server/energy-data/pecan_street/usage-select//15min/4505.csv\n",
       "                                                                              file_60min\n",
       "108 /Users/adrianalbert/S3L_server/energy-data/pecan_street/usage-select//60min/3044.csv\n",
       "116 /Users/adrianalbert/S3L_server/energy-data/pecan_street/usage-select//60min/3368.csv\n",
       "136 /Users/adrianalbert/S3L_server/energy-data/pecan_street/usage-select//60min/3778.csv\n",
       "138 /Users/adrianalbert/S3L_server/energy-data/pecan_street/usage-select//60min/3829.csv\n",
       "161 /Users/adrianalbert/S3L_server/energy-data/pecan_street/usage-select//60min/4383.csv\n",
       "165 /Users/adrianalbert/S3L_server/energy-data/pecan_street/usage-select//60min/4505.csv"
      ]
     },
     "execution_count": 6,
     "metadata": {},
     "output_type": "execute_result"
    }
   ],
   "source": [
    "head(users_df)"
   ]
  },
  {
   "cell_type": "markdown",
   "metadata": {},
   "source": [
    "##Learn thermal regimes models"
   ]
  },
  {
   "cell_type": "code",
   "execution_count": 7,
   "metadata": {
    "collapsed": true
   },
   "outputs": [],
   "source": [
    "# function to format data to work with the R thermal profiler code\n",
    "format_data = function(homeData) {\n",
    "    fillInTheBlanks <- function(S) {\n",
    "        L <- !is.na(S)\n",
    "        c(S[L][1], S[L])[cumsum(L)+1]\n",
    "    }\n",
    "    # some response observations are NA, replace them with last ok observation\n",
    "    homeData$use = fillInTheBlanks(homeData$use)\n",
    "\n",
    "    # remove observations with NAs in response\n",
    "    idx.na = is.na(homeData$use)\n",
    "    if (sum(idx.na)>0) homeData = homeData[-idx.na,]\n",
    "\n",
    "    # temperature above reference\n",
    "    homeData$TemperatureD = homeData$TemperatureF - 65\n",
    "\n",
    "    # format data as expected by the HMM package\n",
    "    cur_data = subset(homeData, select = c('date', 'use'))\n",
    "    names(cur_data)[2] = 'obs'\n",
    "    cur_data$date = as.character(cur_data$date)\n",
    "    cur_covar = subset(homeData, select = c('date', 'TemperatureF', 'TemperatureD'))\n",
    "    cur_covar$date = as.character(cur_covar$date)\n",
    "    cur_month     = month(cur_data$date)\n",
    "    cur_covar$TemperatureDWinter = cur_covar$TemperatureD * (cur_month %in% c(0,1,2,3,10,11,12))\n",
    "\n",
    "    return(list(cur_data, cur_covar))\n",
    "}\n"
   ]
  },
  {
   "cell_type": "code",
   "execution_count": 8,
   "metadata": {
    "collapsed": false
   },
   "outputs": [],
   "source": [
    "homeData15 = read.csv(users_df[1,\"file_15min\"])     \n",
    "homeData60 = read.csv(users_df[1,\"file_60min\"])  \n",
    "res = format_data(homeData15)"
   ]
  },
  {
   "cell_type": "code",
   "execution_count": 9,
   "metadata": {
    "collapsed": true
   },
   "outputs": [],
   "source": [
    "apply_thermal_model = function(cur_data, cur_covar, userName, \n",
    "                               dump_path = NULL, \n",
    "                               plot_path = NULL) {\n",
    "  \n",
    "    # define model learning controls\n",
    "    controls = list(\n",
    "        Kmin = 4, Kmax = 6, \n",
    "        maxit = 50, \n",
    "        nRestarts = 5, \n",
    "        tol = 1e-4,\n",
    "        thresh.R2 = 0.75, \n",
    "        thresh.MAPE = 0.20,\n",
    "        test.periods = 12,\n",
    "        vis.interval = 3 * 24\n",
    "    )\n",
    "\n",
    "    # generate visualization interval; make sure there's data in there\n",
    "    # TODO: there was an error generated here (indices for subsetting were messed up)\n",
    "    ok = FALSE\n",
    "    no.secs    = controls$vis.interval * 3600\n",
    "    while (!ok) {\n",
    "        idx_start  = 1\n",
    "        idx_end    = max(nrow(cur_data)-controls$vis.interval-1, 1)\n",
    "        start_date = sample(cur_data$date[idx_start:idx_end], 1)\n",
    "        stop_date  = as.character(as.POSIXct(start_date) + no.secs)\n",
    "        dat        = subset(cur_data, date >= start_date & date < stop_date)\n",
    "        if (nrow(na.omit(dat)) > 0) \n",
    "          ok = TRUE\n",
    "    }        \n",
    "\n",
    "    # learn model\n",
    "    res = try(stateProcessorWrapper(cur_data, \n",
    "                                    cur_covar, \n",
    "                                    userName, \n",
    "                                    controls = controls,\n",
    "                                    train.frac = 1.0, \n",
    "                                    verbose = F, \n",
    "                                    resp.vars = c('(Intercept)', \n",
    "                                                  'TemperatureD'), \n",
    "                                                  #'TemperatureDWinter'),\n",
    "                                    dump_path = dump_path))\n",
    "    if (class(res) == 'try-error') {\n",
    "        cat('Error in learning model for current user!\\n')\n",
    "        return(NULL)\n",
    "    }\n",
    "\n",
    "    # produce visualizations\n",
    "    if (!is.null(plot_path)) {\n",
    "        resv = try(stateVisualizerWrapper(res$decoder, \n",
    "                                   res$interpreter, \n",
    "                                   plots_path = plot_path, \n",
    "                                   interval = c(start_date, stop_date)))\n",
    "        if (class(resv) == 'try-error') {\n",
    "            cat('Error in visualizing current user!\\n')\n",
    "        }\n",
    "    }\n",
    "#     res_list = list(response=res$decoder@HMM$response, transition=res$decoder@HMM$transition)\n",
    "#     ts_df = cbind(fit$decoder@data.train, fit$decoder@HMM$states, \n",
    "#                   fit=fit$decoder@HMM$fit, fit.avg=fit$decoder@HMM$fit.avg, residual=fit$decoder@HMM$residual)\n",
    "\n",
    "#     return(list(name=fit$decoder@UID, \n",
    "#                info=res_list,\n",
    "#                ts_data=ts_df))\n",
    "\n",
    "    return(NULL)\n",
    "}\n"
   ]
  },
  {
   "cell_type": "code",
   "execution_count": 10,
   "metadata": {
    "collapsed": false
   },
   "outputs": [],
   "source": [
    "f_wrapper <- function(i) {\n",
    "    # load data   \n",
    "    user_id = paste(users_df[i,\"ID\" ], users_df[i,\"name\"], sep=\"_\")\n",
    "    cat(paste('Processing user', user_id, ':', i, '/', nrow(users_df), '\\n'))  \n",
    "    homeData15 = read.csv(users_df[i,\"file_15min\"])     \n",
    "    homeData60 = read.csv(users_df[i,\"file_60min\"])  \n",
    "\n",
    "    # only process those users that have AC\n",
    "    # if (!('AC' %in% names(homeData60)) return(NULL)\n",
    "\n",
    "    # is there enough data?\n",
    "    if (is.null(homeData15) || is.null(homeData60))  {\n",
    "        cat('Too little data!\\n')\n",
    "        return(NULL)\n",
    "    }  \n",
    "    if (nrow(homeData15) < 30*96 || nrow(homeData60) < 30*24) {\n",
    "        cat('Too little data!\\n')\n",
    "        return(NULL)\n",
    "    }\n",
    "\n",
    "    # create directory to store models\n",
    "    dump_path_15 = file.path(DUMP_PATH, paste(user_id, '15min/', sep='/')); \n",
    "    dir.create(dump_path_15, recursive = T)\n",
    "    dump_path_60 = file.path(DUMP_PATH, paste(user_id, '60min/', sep='/')); \n",
    "    dir.create(dump_path_60, recursive = T)\n",
    "\n",
    "    # create directory to store plots\n",
    "    plot_path_15 = file.path(PLOT_PATH, paste(user_id, '15min/', sep='/')); \n",
    "    dir.create(plot_path_15, recursive = T)\n",
    "    plot_path_60 = file.path(PLOT_PATH, paste(user_id, '60min/', sep='/')); \n",
    "    dir.create(plot_path_60, recursive = T)\n",
    "\n",
    "    # format datasets\n",
    "    res = format_data(homeData15); cur_data15 = res[[1]]; cur_covar15 = res[[2]];\n",
    "    res = format_data(homeData60); cur_data60 = res[[1]]; cur_covar60 = res[[2]];\n",
    "\n",
    "    # apply model to data\n",
    "    res = apply_thermal_model(cur_data15, cur_covar15, user_id,\n",
    "                            dump_path = dump_path_15, \n",
    "                            plot_path = plot_path_15)\n",
    "    res = apply_thermal_model(cur_data60, cur_covar60, user_id, \n",
    "                            dump_path = dump_path_60, \n",
    "                            plot_path = plot_path_60)  \n",
    "    return(NULL)\n",
    "}\n"
   ]
  },
  {
   "cell_type": "code",
   "execution_count": 11,
   "metadata": {
    "collapsed": false
   },
   "outputs": [],
   "source": [
    "# library('parallel')\n",
    "# res = mclapply(1:nrow(users_df), mc.cores = 3, f_wrapper)\n"
   ]
  },
  {
   "cell_type": "code",
   "execution_count": null,
   "metadata": {
    "collapsed": false,
    "scrolled": false
   },
   "outputs": [
    {
     "name": "stdout",
     "output_type": "stream",
     "text": [
      "***** 1 : 348 ***** ***** 1 : 3044 *****Processing user 3044_Lucius : 1 / 182 \n"
     ]
    },
    {
     "name": "stderr",
     "output_type": "stream",
     "text": [
      "Warning message:\n",
      "In dir.create(dump_path_15, recursive = T): '/Users/adrianalbert/S3L_server/energy-data/pecan_street/models_new//3044_Lucius/15min' already existsWarning message:\n",
      "In dir.create(dump_path_60, recursive = T): '/Users/adrianalbert/S3L_server/energy-data/pecan_street/models_new//3044_Lucius/60min' already existsWarning message:\n",
      "In dir.create(plot_path_15, recursive = T): '/Users/adrianalbert/S3L_server/plots/pecan-street-new//3044_Lucius/15min' already existsWarning message:\n",
      "In dir.create(plot_path_60, recursive = T): '/Users/adrianalbert/S3L_server/plots/pecan-street-new//3044_Lucius/60min' already exists"
     ]
    }
   ],
   "source": [
    "for (i in 1:nrow(users_df)) {\n",
    "    cat(paste(\"*****\", i, \":\", users_df[i,c(\"name\", \"ID\")], \"*****\"))\n",
    "    f_wrapper(i)\n",
    "}"
   ]
  },
  {
   "cell_type": "code",
   "execution_count": null,
   "metadata": {
    "collapsed": true
   },
   "outputs": [],
   "source": []
  }
 ],
 "metadata": {
  "kernelspec": {
   "display_name": "R",
   "language": "",
   "name": "ir"
  },
  "language_info": {
   "codemirror_mode": "r",
   "file_extension": ".r",
   "mimetype": "text/x-r-source",
   "name": "R",
   "pygments_lexer": "r",
   "version": "3.2.0"
  }
 },
 "nbformat": 4,
 "nbformat_minor": 0
}
